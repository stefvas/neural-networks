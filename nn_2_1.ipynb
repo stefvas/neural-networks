{
  "cells": [
    {
      "cell_type": "markdown",
      "metadata": {
        "id": "view-in-github",
        "colab_type": "text"
      },
      "source": [
        "<a href=\"https://colab.research.google.com/github/stefvas/neural-networks/blob/main/nn_2_1.ipynb\" target=\"_parent\"><img src=\"https://colab.research.google.com/assets/colab-badge.svg\" alt=\"Open In Colab\"/></a>"
      ]
    },
    {
      "cell_type": "markdown",
      "metadata": {
        "id": "hLFXD3IePSyL"
      },
      "source": [
        "# Εργαστηριακή Άσκηση 2. Μη επιβλεπόμενη μάθηση. \n",
        "## Σύστημα συστάσεων βασισμένο στο περιεχόμενο\n",
        "## Σημασιολογική απεικόνιση δεδομένων με χρήση SOM \n",
        "\n",
        "\n"
      ]
    },
    {
      "cell_type": "code",
      "execution_count": 25,
      "metadata": {
        "id": "S5wbBzIYnird"
      },
      "outputs": [],
      "source": [
        "# !pip install --upgrade pip\n",
        "# !pip install --upgrade numpy\n",
        "# !pip install --upgrade pandas\n",
        "# !pip install --upgrade nltk\n",
        "# !pip install --upgrade scikit-learn\n",
        "# !pip install --upgrade joblib"
      ]
    },
    {
      "cell_type": "code",
      "execution_count": 26,
      "metadata": {
        "id": "xDmpEUGKQxk4"
      },
      "outputs": [],
      "source": [
        "from nltk import word_tokenize          \n",
        "from nltk.stem import WordNetLemmatizer\n",
        "import nltk\n",
        "from nltk.corpus import stopwords"
      ]
    },
    {
      "cell_type": "markdown",
      "metadata": {
        "id": "aViHqlQcPSyP"
      },
      "source": [
        "## Εισαγωγή του Dataset"
      ]
    },
    {
      "cell_type": "markdown",
      "metadata": {
        "id": "2ZVmdDExPSyQ"
      },
      "source": [
        "Το σύνολο δεδομένων με το οποίο θα δουλέψουμε είναι βασισμένο στο [Carnegie Mellon Movie Summary Corpus](http://www.cs.cmu.edu/~ark/personas/). Πρόκειται για ένα dataset με περίπου 40.000 περιγραφές ταινιών. Η περιγραφή κάθε ταινίας αποτελείται από τον τίτλο της, μια ή περισσότερες ετικέτες που χαρακτηρίζουν το είδος της ταινίας και τέλος τη σύνοψη της υπόθεσής της. Αρχικά εισάγουμε το dataset (χρησιμοποιήστε αυτούσιο τον κώδικα, δεν χρειάζεστε το αρχείο csv) στο dataframe `df_data_1`: "
      ]
    },
    {
      "cell_type": "code",
      "execution_count": 27,
      "metadata": {
        "id": "62SOj46gPSyS"
      },
      "outputs": [],
      "source": [
        "import pandas as pd\n",
        "\n",
        "dataset_url = \"https://drive.google.com/uc?export=download&id=1-tN5rC1QCgwqL67cvIXdMbtd-Xf9Xqow\"\n",
        "df_data_1 = pd.read_csv(dataset_url, sep='\\t',  header=None, quoting=3, error_bad_lines=False)"
      ]
    },
    {
      "cell_type": "code",
      "execution_count": 28,
      "metadata": {
        "id": "2POlqDjkPSyY"
      },
      "outputs": [],
      "source": [
        "import numpy as np\n",
        "\n",
        "# βάλτε το seed που αντιστοιχεί στην ομάδα σας\n",
        "team_seed_number = 40\n",
        "\n",
        "movie_seeds_url = \"https://drive.google.com/uc?export=download&id=1-oeMf7BFmiH70XObgC9WOTo-a9cDJZwP\"\n",
        "df_data_2 = pd.read_csv(movie_seeds_url, header=None, error_bad_lines=False)\n",
        "\n",
        "# επιλέγεται \n",
        "my_index = df_data_2.iloc[team_seed_number,:].values\n",
        "\n",
        "titles = df_data_1.iloc[:, [2]].values[my_index] # movie titles (string)\n",
        "categories = df_data_1.iloc[:, [3]].values[my_index] # movie categories (string)\n",
        "bins = df_data_1.iloc[:, [4]]\n",
        "catbins = bins[4].str.split(',', expand=True).values.astype(np.float)[my_index] # movie categories in binary form (1 feature per category)\n",
        "summaries =  df_data_1.iloc[:, [5]].values[my_index] # movie summaries (string)\n",
        "corpus = summaries[:,0].tolist() # list form of summaries"
      ]
    },
    {
      "cell_type": "markdown",
      "metadata": {
        "id": "If66lkwxPSyb"
      },
      "source": [
        "Ο πίνακας **titles** περιέχει τους τίτλους των ταινιών. Παράδειγμα: 'Sid and Nancy'.\n",
        "- O πίνακας **categories** περιέχει τις κατηγορίες (είδη) της ταινίας υπό τη μορφή string. Παράδειγμα: '\"Tragedy\",  \"Indie\",  \"Punk rock\",  \"Addiction Drama\",  \"Cult\",  \"Musical\",  \"Drama\",  \"Biopic \\[feature\\]\",  \"Romantic drama\",  \"Romance Film\",  \"Biographical film\"'. Παρατηρούμε ότι είναι μια comma separated λίστα strings, με κάθε string να είναι μια κατηγορία.\n",
        "- Ο πίνακας **catbins** περιλαμβάνει πάλι τις κατηγορίες των ταινιών αλλά σε δυαδική μορφή ([one hot encoding](https://hackernoon.com/what-is-one-hot-encoding-why-and-when-do-you-have-to-use-it-e3c6186d008f)). Έχει διαστάσεις 5.000 x 322 (όσες οι διαφορετικές κατηγορίες). Αν η ταινία ανήκει στο συγκεκριμένο είδος η αντίστοιχη στήλη παίρνει την τιμή 1, αλλιώς παίρνει την τιμή 0.\n",
        "- Ο πίνακας **summaries** και η λίστα **corpus** περιλαμβάνουν τις συνόψεις των ταινιών (η corpus είναι απλά ο summaries σε μορφή λίστας). Κάθε σύνοψη είναι ένα (συνήθως μεγάλο) string. Παράδειγμα: *'The film is based on the real story of a Soviet Internal Troops soldier who killed his entire unit  as a result of Dedovschina. The plot unfolds mostly on board of the prisoner transport rail car guarded by a unit of paramilitary conscripts.'*\n",
        "- το dataframe corpus_df που είναι απλά το corpus σε μορφή dataframe. Τα summaries βρίσκονται στην κολόνα 0. Πιθανώς να σας βολεύει να κάνετε κάποιες προεπεξεργασίες με dataframes.\n",
        "\n",
        "\n",
        "Θεωρούμε ως **ID** της κάθε ταινίας τον αριθμό γραμμής της ή το αντίστοιχο στοιχείο της λίστας. Παράδειγμα: για να τυπώσουμε τη σύνοψη της ταινίας με `ID=999` (την χιλιοστή) θα γράψουμε `print(corpus[999])`."
      ]
    },
    {
      "cell_type": "code",
      "source": [
        "ID = 999\n",
        "print(titles[ID])\n",
        "print(categories[ID])\n",
        "print(catbins[ID])\n",
        "print(corpus[ID])"
      ],
      "metadata": {
        "id": "LDkLNDOsCZe-"
      },
      "execution_count": null,
      "outputs": []
    },
    {
      "cell_type": "markdown",
      "metadata": {
        "id": "rnA2RP8GPSyf"
      },
      "source": [
        "Η πρώτη εφαρμογή που θα αναπτύξετε θα είναι ένα [σύστημα συστάσεων](https://en.wikipedia.org/wiki/Recommender_system) ταινιών βασισμένο στο περιεχόμενο (content based recommender system). Τα συστήματα συστάσεων στοχεύουν στο να προτείνουν αυτόματα στο χρήστη αντικείμενα από μια συλλογή τα οποία ιδανικά θέλουμε να βρει ενδιαφέροντα ο χρήστης. Η κατηγοριοποίηση των συστημάτων συστάσεων βασίζεται στο πώς γίνεται η επιλογή (filtering) των συστηνόμενων αντικειμένων. Οι δύο κύριες κατηγορίες είναι η συνεργατική διήθηση (collaborative filtering) όπου το σύστημα προτείνει στο χρήστη αντικείμενα που έχουν αξιολογηθεί θετικά από χρήστες που έχουν παρόμοιο με αυτόν ιστορικό αξιολογήσεων και η διήθηση με βάση το περιεχόμενο (content based filtering), όπου προτείνονται στο χρήστη αντικείμενα με παρόμοιο περιεχόμενο (με βάση κάποια χαρακτηριστικά) με αυτά που έχει προηγουμένως αξιολογήσει θετικά.\n",
        "\n",
        "Το σύστημα συστάσεων που θα αναπτύξετε θα βασίζεται στο **περιεχόμενο** και συγκεκριμένα στις συνόψεις των ταινιών (corpus). \n"
      ]
    },
    {
      "cell_type": "markdown",
      "metadata": {
        "id": "DD5KuSKrxQ8I"
      },
      "source": [
        "## Μετατροπή σε TFIDF\n",
        "\n",
        "Το πρώτο βήμα θα είναι λοιπόν να μετατρέψετε το corpus σε αναπαράσταση tf-idf:"
      ]
    },
    {
      "cell_type": "code",
      "execution_count": 29,
      "metadata": {
        "colab": {
          "base_uri": "https://localhost:8080/"
        },
        "id": "s5YP6XCZPSyh",
        "outputId": "f77b167b-00d4-44c4-e9fc-e56ca4f45473"
      },
      "outputs": [
        {
          "output_type": "stream",
          "name": "stdout",
          "text": [
            "[nltk_data] Downloading package punkt to /root/nltk_data...\n",
            "[nltk_data]   Package punkt is already up-to-date!\n",
            "[nltk_data] Downloading package wordnet to /root/nltk_data...\n",
            "[nltk_data]   Package wordnet is already up-to-date!\n"
          ]
        },
        {
          "output_type": "stream",
          "name": "stderr",
          "text": [
            "/usr/local/lib/python3.7/dist-packages/sklearn/feature_extraction/text.py:517: UserWarning: The parameter 'token_pattern' will not be used since 'tokenizer' is not None'\n",
            "  \"The parameter 'token_pattern' will not be used\"\n",
            "/usr/local/lib/python3.7/dist-packages/sklearn/feature_extraction/text.py:401: UserWarning: Your stop_words may be inconsistent with your preprocessing. Tokenizing the stop words generated tokens ['abov', 'afterward', 'alon', 'alreadi', 'alway', 'ani', 'anoth', 'anyon', 'anyth', 'anywher', 'becam', 'becaus', 'becom', 'befor', 'besid', 'cri', 'describ', 'dure', 'els', 'elsewher', 'empti', 'everi', 'everyon', 'everyth', 'everywher', 'fifti', 'formerli', 'forti', 'ha', 'henc', 'hereaft', 'herebi', 'hi', 'howev', 'hundr', 'inde', 'latterli', 'mani', 'meanwhil', 'moreov', 'mostli', 'nobodi', 'noon', 'noth', 'nowher', 'onc', 'onli', 'otherwis', 'ourselv', 'perhap', 'pleas', 'seriou', 'sever', 'sinc', 'sincer', 'sixti', 'someon', 'someth', 'sometim', 'somewher', 'themselv', 'thenc', 'thereaft', 'therebi', 'therefor', 'thi', 'thu', 'togeth', 'twelv', 'twenti', 'veri', 'wa', 'whatev', 'whenc', 'whenev', 'wherea', 'whereaft', 'wherebi', 'wherev', 'whi', 'yourselv'] not in stop_words.\n",
            "  % sorted(inconsistent)\n"
          ]
        }
      ],
      "source": [
        "from sklearn.feature_extraction.text import TfidfVectorizer\n",
        "from nltk.stem.porter import PorterStemmer\n",
        "\n",
        "nltk.download('punkt')\n",
        "nltk.download('wordnet')\n",
        "\n",
        "#stemmer\n",
        "def stemmer(text):\n",
        "    tokens = nltk.word_tokenize(text)\n",
        "    stems = []\n",
        "    for item in tokens:\n",
        "        stems.append(PorterStemmer().stem(item))\n",
        "    return stems\n",
        "\n",
        "#lemmatizer\n",
        "class LemmaTokenizer:\n",
        "    ignore_tokens = [',', '.', ';', ':', '\"', '``', \"''\", '`']\n",
        "    def __init__(self):\n",
        "        self.wnl = WordNetLemmatizer()\n",
        "    def __call__(self, doc):\n",
        "        return [self.wnl.lemmatize(t) for t in word_tokenize(doc) if t not in self.ignore_tokens]\n",
        "\n",
        "\n",
        "# Lemmatize the stop words\n",
        "lemmatizer=LemmaTokenizer()\n",
        "\n",
        "vectorizer = TfidfVectorizer(max_df=0.5, min_df=2, stop_words='english',tokenizer=stemmer)\n",
        "\n",
        "vectorizer.fit(corpus)\n",
        "corpus_tf_idf = vectorizer.transform(corpus).toarray()"
      ]
    },
    {
      "cell_type": "markdown",
      "metadata": {
        "id": "H-uRZK3EPSyl"
      },
      "source": [
        "Η συνάρτηση [TfidfVectorizer](http://scikit-learn.org/stable/modules/generated/sklearn.feature_extraction.text.TfidfVectorizer.html) όπως καλείται εδώ **δεν είναι βελτιστοποιημένη**. Οι επιλογές των μεθόδων και παραμέτρων της μπορεί να έχουν **δραματική επίδραση στην ποιότητα των συστάσεων** και είναι διαφορετικές για κάθε dataset. Επίσης, οι επιλογές αυτές έχουν πολύ μεγάλη επίδραση και στη **διαστατικότητα και όγκο των δεδομένων**. Η διαστατικότητα των δεδομένων με τη σειρά της θα έχει πολύ μεγάλη επίδραση στους **χρόνους εκπαίδευσης**, ιδιαίτερα στη δεύτερη εφαρμογή της άσκησης. Ανατρέξτε στα notebooks του εργαστηρίου και στο [FAQ](https://docs.google.com/document/d/1hou1gWXQuHAB7J2aV44xm_CtAWJ63q6Cu1V6OwyL_n0/edit?usp=sharing) των ασκήσεων.\n"
      ]
    },
    {
      "cell_type": "code",
      "execution_count": 30,
      "metadata": {
        "colab": {
          "base_uri": "https://localhost:8080/"
        },
        "id": "y_Cw0brpnisF",
        "outputId": "e488e7c2-9dc6-41d9-bc76-d14b8a79481b"
      },
      "outputs": [
        {
          "output_type": "stream",
          "name": "stdout",
          "text": [
            "(5000, 17385)\n"
          ]
        }
      ],
      "source": [
        "print(corpus_tf_idf.shape)"
      ]
    },
    {
      "cell_type": "markdown",
      "metadata": {
        "id": "3LsmvSyVykTU"
      },
      "source": [
        "## Υλοποίηση του συστήματος συστάσεων\n",
        "\n",
        "Το σύστημα συστάσεων που θα παραδώσετε θα είναι μια συνάρτηση `content_recommender` με δύο ορίσματα `target_movie` και `max_recommendations`. Στην `target_movie` περνάμε το ID μιας ταινίας-στόχου για την οποία μας ενδιαφέρει να βρούμε παρόμοιες ως προς το περιεχόμενο (τη σύνοψη) ταινίες, `max_recommendations` στο πλήθος.\n",
        "Υλοποιήστε τη συνάρτηση ως εξής: \n",
        "- για την ταινία-στόχο, από το `corpus_tf_idf` υπολογίστε την [ομοιότητα συνημιτόνου](https://en.wikipedia.org/wiki/Cosine_similarity) της με όλες τις ταινίες της συλλογής σας\n",
        "- με βάση την ομοιότητα συνημιτόνου που υπολογίσατε, δημιουργήστε ταξινομημένο πίνακα από το μεγαλύτερο στο μικρότερο, με τα indices (`ID`) των ταινιών. Παράδειγμα: αν η ταινία με index 1 έχει ομοιότητα συνημιτόνου με 3 ταινίες \\[0.2 1 0.6\\] (έχει ομοιότητα 1 με τον εαύτό της) ο ταξινομημένος αυτός πίνακας indices θα είναι \\[1 2 0\\].\n",
        "- Για την ταινία-στόχο εκτυπώστε: id, τίτλο, σύνοψη, κατηγορίες (categories)\n",
        "- Για τις `max_recommendations` ταινίες (πλην της ίδιας της ταινίας-στόχου που έχει cosine similarity 1 με τον εαυτό της) με τη μεγαλύτερη ομοιότητα συνημιτόνου (σε φθίνουσα σειρά), τυπώστε σειρά σύστασης (1 πιο κοντινή, 2 η δεύτερη πιο κοντινή κλπ), id, τίτλο, σύνοψη, κατηγορίες (categories)\n"
      ]
    },
    {
      "cell_type": "code",
      "execution_count": 31,
      "metadata": {
        "id": "3Nm7hdB3ef4E"
      },
      "outputs": [],
      "source": [
        "from numpy import dot\n",
        "from numpy.linalg import norm\n",
        "\n",
        "def cos_sim(a,b):\n",
        "  return np.inner(a,b) / (norm(a) * norm(b))"
      ]
    },
    {
      "cell_type": "code",
      "execution_count": 32,
      "metadata": {
        "colab": {
          "base_uri": "https://localhost:8080/"
        },
        "id": "wjvX4JoUdhtH",
        "outputId": "32c53753-46b7-4e61-cc44-30604b87041d"
      },
      "outputs": [
        {
          "output_type": "stream",
          "name": "stdout",
          "text": [
            "*** 6 most related movies based on content ***\n",
            "*** Recommended movie No. 1 ***\n",
            "Movie ID: 99\n",
            "Title: ['Scary Movie']\n",
            "Summary: An 18-year-old girl named Drew Decker  receives a threatening phone call while home alone one night. In an opening which closely\n",
            " mirrors Scream, Drew is chased outside by Ghostface, who then rips off her sweater and skirt, leaving her clothed in her white \n",
            "bra and thong. Drew runs through her garden sprinklers but she is then stabbed in the breast by Ghostface, removing one of her s\n",
            "ilicone breast implants, hit by a car driven by her father , and then killed by Ghostface. The next day, Cindy Campbell , meets \n",
            "up with her boyfriend Bobby Prinze  and her friends, Brenda Meeks , Ray Wilkins , Greg Phillipe , and Buffy Gilmore . Various ne\n",
            "ws teams - including hack reporter Gail Hailstorm  - converge on the school in the wake of Drew's brutal death. Gail hooks up wi\n",
            "th Buffy's mentally disabled brother Doofy ([[Dave Sheridan , hoping to milk the facts out of him. One day, while Cindy is in cl\n",
            "ass, someone mysteriously leaves a note saying I KNOW WHAT YOU DID LAST HALLOWEEN. Cindy then realizes that Drew's murder occurr\n",
            "ed exactly one year after she and her friends accidentally killed a man during a wild car ride . Unwilling to face incarceration\n",
            ", the next day a series of increasingly bizarre events take place. Various members of the group receive threatening notes from G\n",
            "hostface and are rapidly dispatched, but most remain steadfastly oblivious to the rising body count. The killer then attacks Cin\n",
            "dy in her house. She tries to call the police but the killer escapes. Bobby arrives at her house but Ghostface  drops the knife \n",
            "and gloves which leads Cindy to thinking that Bobby is the killer the police arrest him . Greg is killed by Ghostface in plain v\n",
            "iew. Buffy tries to get help, but Buffy is at a beauty pageant and her talent was acting so they thought the cries were part of \n",
            "her act. Buffy, high on the success brought by the murder, becomes Ghostface's next victim. During the murder, Buffy thinks it's\n",
            " a game, so she does every cliche done by a white female in a horror film. Ghostface decapitates her . Later, Ghostface sticks h\n",
            "is penis through Ray's head, seemingly killing him. Ghostface then attempts to dispose of Brenda during a showing of Shakespeare\n",
            " in Love, but the moviegoers, fed up with Brenda's constant loud interruptions during the movie, stab her repeatedly, seemingly \n",
            "killing her. Cindy throws a house party, hoping for safety in numbers. During the party, Bobby and Cindy go up stairs and have s\n",
            "ex, no longer making Cindy a virgin. Ghostface unexpectedly appears and stabs Bobby, before disappearing quickly. Cindy gets a g\n",
            "un from a drawer near the entrance, Bobby follows and she tends to his wounds. Shorty , Brenda's stoner brother, comes up from t\n",
            "he basement and informs them that the killer has murdered everybody in the house. Bobby takes the gun and shoots Shorty, reveali\n",
            "ng that his wound was an elaborate ruse. Ray then arrives on the scene - whereupon Bobby reveals to Cindy that he is now gay, an\n",
            "d so is Ray - though Ray immediately denies it, despite his repeated homosexual advances and tendencies displayed throughout the\n",
            " movie. They announce their plan to kill her father and frame her sister. Bobby says he did it because Cindy never had sex with \n",
            "him and Bobby gleefully points out that even though their plan lacks sense it doesn't matter, since horror movies are not noted \n",
            "for their logic, they also say that are just copying the killer and are not the actual killers . Ray and Bobby also came up with\n",
            " a plan to make themselves look like heroes by giving each other stab wounds to indicate they fought her. But, Ray stabs Bobby r\n",
            "epeatedly and nearly kills him revealing Ray's motive was because his favorite show The Wayans Bros.  had been cancelled. Howeve\n",
            "r, the real Ghostface abruptly turns up and stabs Ray, who collapses on top of Bobby in the Doggy style position. The killer the\n",
            "n attacks Cindy, but she successfully subdues him by employing moves copied from The Matrix and kicks him through a window. None\n",
            "theless, Ghostface vanishes before the police arrive. At the police station, Cindy and the local sheriff  realise that  Doofy - \n",
            "the only one who knew about the car accident - was actually faking his disability and is the true killer . Unfortunately, Doofy \n",
            "has already escaped with Gail Hailstorm. Upon finding his discarded disguise in the street, Cindy begins screaming \"Noooooo\" to \n",
            "the heavens - and gets run over by a car, presumably killing her  hence in reality the car crash only seriously injures  her. As\n",
            " the credits roll, Shorty - parodying the rules of a trilogy in Scream 3 - explains via videocassette that he may be in prison o\n",
            "r deceased, but provides rules for surviving such a situation... which turn out to be instructions for surviving a snatch-and-ru\n",
            "n.\n",
            "Genres: ['\"Parody\",  \"Gross-out film\",  \"Comedy\",  \"Gross out\",  \"Slasher\",  \"Teen\"']\n",
            "\n",
            "*** Recommended movie No. 2 ***\n",
            "Movie ID: 1653\n",
            "Title: ['Terror Toons']\n",
            "Summary: In the \"cartoon dimension\" mad scientist Doctor Carnage experiments on a man, then disembowels him and rips his skull out throug\n",
            "h his stomach. On Earth, sisters Cindy and Candy are left alone with Cindy's friend Amy when the girls' parents go to a wedding.\n",
            " While Cindy and Amy call over Rick and Eddie, Candy watches a Terror Toons DVD she received in the mail up in her room. Created\n",
            " by Satan, the DVD depicts the antics of Doctor Carnage and his accomplice Max Assassin, a stolen lab monkey mutated into a mons\n",
            "ter by Carnage. As Cindy and her friends play Strip Ouija, Candy dozes off, being woken up when Carnage and Max appear in her ro\n",
            "om. The two rip Candy's spine out, behead her friend Tommy when he drops by, dismember a pizza delivery man with a giant pizza c\n",
            "utter, and do a hypnotic disco dance number that causes Eddie to vomit up his own innards. When Cindy, Amy and Rick try to escap\n",
            "e, they find all the doors have been replaced with vertigo-inducing spirals. Rick is taken and has his brain experimented on by \n",
            "Carnage and Max, and Cindy and Amy are separated when a police officer released from Terror Toons is blown up by a stick of dyna\n",
            "mite hidden in a box of donuts. Cindy is captured by Carnage, and along with the lobotomized Rick, is forced to watch as Carnage\n",
            " and Max saw Amy in half as apart of a magic act. The two villains then take Cindy to a cartoon version of Hell and present her \n",
            "to the Devil, who explains he intends on using Terror Toons to ravage the Earth and corrupt children. Realizing that \"anything g\n",
            "oes\" in cartoons, Cindy becomes a superhero and challenges the Devil, who sends her back to her house. Upon discovering a machin\n",
            "e producing Terror Toons DVDs, Cindy is attacked by Max, but she uses her new powers to snap his neck, and stomp his brains out.\n",
            " When Carnage comes at her with a giant axe, Cindy uses it against him, cutting his head in half with it. As tiny monsters pour \n",
            "out of Carnage's split skull, Cindy destroys the Terror Toons DVD press with a crowbar. Sometime later, the parents return, and \n",
            "find Rick banging his head against a wall while Cindy laughs hysterically, surrounded by the remains of her friends and sister. \n",
            "Next door, a boy finds another copy of Terror Toons in his mailbox, and rushes inside with it. The boy's front door slams shut, \n",
            "and Carnage's giggle is heard.\n",
            "Genres: ['\"B-movie\",  \"Horror\",  \"Creature Film\"']\n",
            "\n",
            "*** Recommended movie No. 3 ***\n",
            "Movie ID: 236\n",
            "Title: ['The Van']\n",
            "Summary: Bobby and his best friend, Jack, sabotage their high-school graduation ceremony by rigging the stage to collapse. After leaving \n",
            "the graduation ceremony, Bobby and Jack  drive up to another van and notice Sally , his secret high-school crush, sitting alone \n",
            "inside, eating ice cream. Bobby cannot look away from her and expresses his fantasy to \"be with\" her just once. Dugan returns to\n",
            " the van and disapproves of Bobby's attention. Bobby and Jack run across Sue  and Tina , and they attempt to arrange dates with \n",
            "them that evening. Sue is interested in Jack, but Tina states she is neither interested in Bobby nor other boys because they onl\n",
            "y care about sex. Bobby works in a car wash. Bobby's boss Andy  is also a bookmaker, who refuses taking a high-risk bet from an \n",
            "old lady called Bertha. Bobby's co-workers send his convertible into the car wash with the roof down, but Bobby plans buying a v\n",
            "an anyway - not just any van, but a custom van with items like a waterbed, a ceiling mirror, a refrigerator, a toaster, an 8 tra\n",
            "ck and multiple television sets. Bobby then gets revenge on his co-workers while showing off his new van by giving them beers sp\n",
            "iked with laxatives. In a bar, Bobby unsuccessfully approaches women, including Sally. Finally, a pinball playing girl agrees sh\n",
            "aring a joint in his van. Though going hand-in-hand, she objects his moves. Laughing it off, he tries raping her, but Bobby disc\n",
            "overs she has stuffed her over-sized bra with wads of toilet paper, and she runs off. Up next is a Mexican girl, who removes her\n",
            " top but demands payment. Another woman is also a prostitute, and her pimp barges in for payment. Afterwards, Bobby and Jack for\n",
            "ce Sue and Tina to stop their car. Sue drives off with Jack, and Tina joins Bobby in the van. They plan to meet up again later a\n",
            "t the beach, but Jack and Sue don't arrive until the next morning. Bobby and Tina form an uneasy truce and sleep in the van with\n",
            "out fooling around. Eventually, they share a joint. When Jack and Sue return in the morning, Bobby makes them think that he is i\n",
            "n the van having sex with Tina, who is actually out on the beach. After dropping Tina home, Bobby spots Sally with a see-through\n",
            " wetlook in the car wash. After seeing her making out with Dugan, Bobby stops by a quiet take-out place. The take-out waitress p\n",
            "raises his van, so he offers sharing a joint on the waterbed. Noting she likes waterbeds, she says she doesn't have time for a j\n",
            "oint, but does have some time for a quickie. She steps out from behind the counter and Bobby gasps at her very large buttocks. O\n",
            "nce she is nude in the van, Bobby tries a pickup line, but barely finishes it, when she throws and mounts him on the waterbed. H\n",
            "e protests, but she obviously rapes him, breaking the waterbed in the process. Bobby mentions her buttocks' size to Jack, and no\n",
            "tes he never knew sex could be so physical. After tricking Bobby and Tina to join them to a van spot, at a local beach, Jack and\n",
            " Sue have sex in the back with occasional voyeurs in their window. Bobby and Tina see other vans, before Tina is nearly run over\n",
            " during the van drag races. Bobby and Tina get close, until Bobby again tries getting physical. Tina drives off in the van with \n",
            "Jack and Sue in the back, leaving Bobby to walk home. When Andy reveals he got beat up for not paying for a winning high-risk be\n",
            "t, Bobby volunteers his van's down payment. After getting rejected when approaching Tina's window, Bobby visits Sally's house. S\n",
            "ally says she feels abandoned by Dugan, and Bobby finds himself with her in his van. Unzipping him, she notes he is bigger than \n",
            "Dugan. Taking off her top, they proceed to have sex. The following morning, Tina runs across Bobby in a diner and agrees going t\n",
            "ogether inside, where they meet Jack and Sue. Dugan then enters, lifts Bobby up and says he saw Bobby's van last night around Sa\n",
            "lly's place. Jack stalls Dugan, but Tina doesn't want to see Bobby again. Refusing to give up again, Bobby kidnaps her. Dugan dr\n",
            "ive chases Bobby, and the police join in. Bobby escapes, but Tina pleads to get freed. Bobby finally stops when she agrees heari\n",
            "ng his side. He says he got the van to succeed with girls, but it changed upon meeting Tina. Tina says she too could never play \n",
            "\"the game\", and they have sex. Bobby drag-races Dugan to regain his money, but not before mentioning he really was at Sally's pl\n",
            "ace. Dugan tries crashing Bobby, but eventually crashes himself into a police car. In result, Bobby's van turns over. Tina, Sue,\n",
            " Jack and Andy are relieved when Bobby is neither dead nor injured. Jack notes Bobby even won the race. Bobby leaves in Tina's c\n",
            "onvertible. Tina asks if he really was with Sally, and Bobby replies that Sally said he is \"bigger than Dugan,\" but Tina just la\n",
            "ughs.\n",
            "Genres: ['\"Cult\",  \"Sex comedy\",  \"Comedy\"']\n",
            "\n",
            "*** Recommended movie No. 4 ***\n",
            "Movie ID: 3784\n",
            "Title: ['The Heavenly Kid']\n",
            "Summary: In the early 1960s, Bobby Fantana , a young greaser-type rebel, challenges Joe Barnes  to a game of chicken for making a pass at\n",
            " his girlfriend Emily . Bobby wins the race easily when Joe dives out of his car, but Bobby is unable to get out of the car in t\n",
            "ime due to his bracelet getting caught on the gearshift. He dies as his car plummets over the cliff into a fiery wreck. Bobby aw\n",
            "akens to find himself on a surreal trip aboard a speeding train vessel. The train stops at a station housing a huge escalator go\n",
            "ing up into a bright white light, which one of the attendants refers to as \"Uptown\". Bobby is denied entry, and his new spirit g\n",
            "uide Rafferty  appears and explains that he isn't considered ready yet and needs to carry out an assignment in order to earn his\n",
            " ticket Uptown. After many years in limbo Bobby is finally given his assignment - he is to return to Earth and act as a guardian\n",
            " angel and friend for nerdy Lenny Barnes , a promising high school student who is constantly picked on in school, particularly b\n",
            "y school bullies Fred Gallo ([[Stephen Gregory  and Bill McIntyre . However, Bobby is instructed that he is only allowed to reve\n",
            "al himself to Lenny and nobody else. Bobby helps Lenny by giving him a makeover, assisting him in dealing with Fred and Bill, an\n",
            "d helping him win the affection of the hottest girl in school, Sharon . However, Bobby eventually realizes that the new lifestyl\n",
            "e Lenny is leading is not noble, as it causes him to rebel against everyone, including his parents. Bobby soon realizes that Len\n",
            "ny's mother is Emily, his former girlfriend, and is married to Joe, the man he died racing against. Bobby breaks the Uptown rule\n",
            "s and reveals himself to Emily to confess his love for her, and Emily informs him that he is actually Lenny's father. In a scene\n",
            " reminiscent of the opening sequence, Lenny is challenged to a chicken race at the local quarry by Fred, Sharon's former boyfrie\n",
            "nd. Having been told by Rafferty that Lenny will die just as Bobby did earlier, Bobby offers to trade his own chance to move Upt\n",
            "own  to save Lenny's life. Much like Bobby's car race, the race ends with Lenny and Bobby flying over the edge of a cliff, and t\n",
            "he car exploding in a fiery wreck. However, Bobby prevents Lenny from dying, and they climb up the cliff together. Bobby helps L\n",
            "enny see the error of his ways as Lenny reunites with his long-time friend Melissa , who was in love with him and by his side ev\n",
            "en during his \"nerdy years\". When Bobby offers himself to Rafferty to fulfill his end of the bargain by accepting a ride \"Downto\n",
            "wn\" , Rafferty explains that this will not be happening. Bobby incredulously asks why, as he had made a deal to trade his own so\n",
            "ul for Lenny's second chance at life. Rafferty explains to Bobby that he had learned to love and value someone more than himself\n",
            ", and that is how one earned a ticket Uptown. Lenny and his girlfriend then watch Bobby and Rafferty fly into the sky on a motor\n",
            "bike. The movie ends with Bobby going on the escalator to Uptown.\n",
            "Genres: ['\"Romantic comedy\",  \"Romance Film\",  \"Fantasy\",  \"Comedy\",  \"Heavenly Comedy\"']\n",
            "\n",
            "*** Recommended movie No. 5 ***\n",
            "Movie ID: 4025\n",
            "Title: ['Let Them Chirp Awhile']\n",
            "Summary: The basic storyline of the film follows Bobby and Scott, two young men in their late twenties who are struggling to make careers\n",
            " out of their artistic dreams but their competitiveness with each other gets in the way. Bobby is a screenwriter and Scott is a \n",
            "musician but neither of them are productive because they don't believe in themselves and they share incredibly high standards fo\n",
            "r their work. Bobby meets an old lover, Deirdre, who is headed to Los Angeles and she begs Bobby to take care of her dog while s\n",
            "he's gone. Bobby agrees but only in exchange for a sexual favor. Later, when Bobby makes the mistake of sharing an idea for the \n",
            "opening of his new screenplay with Scott, Scott tells their mutual friend, Hart, a playwright, and Hart steals the idea, incorpo\n",
            "rating it in his new play \"Death of a Banker\", a campy morality tale about the September 11, 2001 attacks set to be performed of\n",
            "f-Broadway later that month. Bobby loses Deirdre's dog and tries to figure out a way to get out of the situation.\n",
            "Genres: ['\"Romance Film\",  \"Comedy-drama\",  \"Indie\",  \"Slice of life story\",  \"Comedy\"']\n",
            "\n",
            "*** Recommended movie No. 6 ***\n",
            "Movie ID: 3518\n",
            "Title: ['Buffy the Vampire Slayer']\n",
            "Summary: Buffy Summers  is introduced as a stereotypical cheerleader at Hemery High School in Los Angeles. She is a carefree popular girl\n",
            " whose main concerns are shopping and spending time with her friends. While at school one day, she is approached by a man named \n",
            "Merrick Jamison-Smythe . He informs her that she is The Slayer, or chosen one, and he is a Watcher whose duty it is to guide and\n",
            " train her. She initially refuses to believe his claims, but finally becomes convinced that he is right when he is able to descr\n",
            "ibe a recurring dream of hers in detail. Meanwhile Oliver Pike , and best friend Benny, who resented Buffy and her friends due t\n",
            "o their social circles, are out drinking when they are attacked by vampires. Benny is turned but Oliver is saved by Merrick. As \n",
            "a vampire, Benny visits Oliver and tries to get him to join him. When Oliver and his boss are discussing Benny, Oliver tells him\n",
            " to run if he sees him. After several successful outings, Buffy is drawn into conflict with a local vampire king named Lothos , \n",
            "who has killed a number of past Slayers. During an encounter with Lothos' main minion Amilyn  and his gang of vampires, Buffy, O\n",
            "liver and Merrick fight against them in the forest as Amilyn loses his arm. Amilyn flees the fight to talk to Lothos who now has\n",
            " his focus on Buffy. After this encounter, Buffy and Oliver start a friendship, which eventually becomes romantic and Oliver bec\n",
            "omes Buffy's partner in fighting the undead. During a basketball game, Buffy and Oliver find out that one of the players is a mi\n",
            "nion of Lothos. After a quick chase to an amusement park, Buffy finally confronts Lothos, shortly after she and Oliver take down\n",
            " his gang. Lothos catches Buffy in a hypnotic trance, which is broken due to Merrick's intervention. Lothos turns on Merrick and\n",
            " impales him with the stake he attempted to use on him. Lothos leaves, saying that Buffy is not ready. As Merrick dies, he tells\n",
            " Buffy to do things her own way, rather than live by the rules of others. Buffy becomes emotionally shocked, has a falling out w\n",
            "ith her friends and starts dropping her Slayer responsibilities. At the senior dance, Buffy meets up with Oliver and as they sta\n",
            "rt to dance and eventually kiss, Lothos leads the remainder of his minions to the school and attacks the students and the attend\n",
            "ing faculty. Buffy confronts the vampires outside while Oliver fights the vampiric Benny. After overpowering the vampires, she c\n",
            "onfronts Lothos inside the school and stabs Amilyn. Lothos hypnotises Buffy again but she uses a cross and hairspray to create a\n",
            " makeshift flame-thrower and burns Lothos before heading back into the gym. Buffy sees everybody recover from the attack, but Lo\n",
            "thos emerges again getting into a fight with Buffy, who then stakes him. The film ends with Buffy and Oliver leaving the prom on\n",
            " a motorcycle, and a news crew interviewing the students and the principal about the attack during the credits.\n",
            "Genres: ['\"Action\",  \"Horror\",  \"Comedy\",  \"Horror Comedy\"']\n",
            "\n"
          ]
        }
      ],
      "source": [
        "import re\n",
        "\n",
        "\n",
        "def content_recommender(target_movie,max_recommendations):\n",
        "  lenn = corpus_tf_idf.shape[0]\n",
        "  sim = np.array([[cos_sim(corpus_tf_idf[target_movie],corpus_tf_idf[i]),i] for i in range(lenn)])\n",
        "  sorted = sim[sim[:,0].argsort()[::-1]]\n",
        "  return sorted[:max_recommendations+1]\n",
        "\n",
        "def info(data):\n",
        "  lenn = data.shape[0]\n",
        "  print('*** %d most related movies based on content ***' % lenn)\n",
        "\n",
        "  i=1\n",
        "  for x in data:\n",
        "    print('*** Recommended movie No. %d ***' % i)\n",
        "    i+=1\n",
        "    id = int(x[1])\n",
        "\n",
        "    print('Movie ID: %d' % id)\n",
        "    print('Title: %s' % titles[id])\n",
        "    print('Summary: %s' % re.sub(\"(.{128})\", \"\\\\1\\n\", corpus[id], 0, re.DOTALL))\n",
        "    print('Genres: %s' % categories[id])\n",
        "    print('')\n",
        "  return None\n",
        "\n",
        "test = content_recommender(99,5)\n",
        "info(test)\n",
        "\n",
        "\n",
        "\n",
        "\n"
      ]
    },
    {
      "cell_type": "markdown",
      "metadata": {
        "id": "8IvHkTUHyu78"
      },
      "source": [
        "## Βελτιστοποίηση\n",
        "\n",
        "Αφού υλοποιήσετε τη συνάρτηση `content_recommender` χρησιμοποιήστε τη για να βελτιστοποιήσετε την `TfidfVectorizer`. Συγκεκριμένα, αρχικά μπορείτε να δείτε τι επιστρέφει το σύστημα για τυχαίες ταινίες-στόχους και για ένα μικρό `max_recommendations` (2 ή 3). Αν σε κάποιες ταινίες το σύστημα μοιάζει να επιστρέφει σημασιολογικά κοντινές ταινίες σημειώστε το `ID` τους. Δοκιμάστε στη συνέχεια να βελτιστοποιήσετε την `TfidfVectorizer` για τα συγκεκριμένα `ID` ώστε να επιστρέφονται σημασιολογικά κοντινές ταινίες για μεγαλύτερο αριθμό `max_recommendations`. Παράλληλα, όσο βελτιστοποιείτε την `TfidfVectorizer`, θα πρέπει να λαμβάνετε καλές συστάσεις για μεγαλύτερο αριθμό τυχαίων ταινιών. Μπορείτε επίσης να βελτιστοποιήσετε τη συνάρτηση παρατηρώντας πολλά φαινόμενα που το σύστημα εκλαμβάνει ως ομοιότητα περιεχομένου ενώ επί της ουσίας δεν είναι επιθυμητό να συνυπολογίζονται (δείτε σχετικά το [FAQ](https://docs.google.com/document/d/1hou1gWXQuHAB7J2aV44xm_CtAWJ63q6Cu1V6OwyL_n0/edit?usp=sharing)). Ταυτόχρονα, μια άλλη κατεύθυνση της βελτιστοποίησης είναι να χρησιμοποιείτε τις παραμέτρους του `TfidfVectorizer` έτσι ώστε να μειώνονται οι διαστάσεις του Vector Space Model μέχρι το σημείο που θα αρχίσει να εμφανίζονται επιπτώσεις στην ποιότητα των συστάσεων. \n",
        "\n",
        "\n"
      ]
    },
    {
      "cell_type": "markdown",
      "metadata": {
        "id": "NPVK7Z5c1p5F"
      },
      "source": [
        "## Επεξήγηση επιλογών και ποιοτική ερμηνεία\n",
        "\n",
        "Σε markdown περιγράψτε πώς προχωρήσατε στις επιλογές σας για τη βελτιστοποίηση της `TfidfVectorizer`. Επίσης σε markdown δώστε 10 παραδείγματα (IDs) από τη συλλογή σας που επιστρέφουν καλά αποτελέσματα μέχρι `max_recommendations` (5 και παραπάνω) και σημειώστε συνοπτικά ποια είναι η θεματική που ενώνει τις ταινίες.\n",
        "\n",
        "Δείτε [εδώ](https://pastebin.com/raw/ZEvg5t3z) ένα παράδειγμα εξόδου του βελτιστοποιημένου συστήματος συστάσεων για την ταίνία [\"Q Planes\"](https://en.wikipedia.org/wiki/Q_Planes) με την κλήση της συνάρτησης για κάποιο seed `content_recommender(529,3)`. Είναι φανερό ότι η κοινή θεματική των ταινιών είναι τα αεροπλάνα, οι πτήσεις, οι πιλότοι, ο πόλεμος."
      ]
    },
    {
      "cell_type": "markdown",
      "metadata": {
        "id": "4irg4K-IPSym"
      },
      "source": [
        "## Tip: persistence αντικειμένων με joblib.dump\n",
        "\n",
        "H βιβλιοθήκη [joblib](https://pypi.python.org/pypi/joblib) της Python δίνει κάποιες εξαιρετικά χρήσιμες ιδιότητες στην ανάπτυξη κώδικα: pipelining, παραλληλισμό, caching και variable persistence. Τις τρεις πρώτες ιδιότητες τις είδαμε στην πρώτη άσκηση. Στην παρούσα άσκηση θα μας φανεί χρήσιμη η τέταρτη, το persistence των αντικειμένων. Συγκεκριμένα μπορούμε με:\n",
        "\n",
        "```python\n",
        "joblib.dump(my_object, 'my_object.pkl') \n",
        "```\n",
        "\n",
        "να αποθηκεύσουμε οποιοδήποτε αντικείμενο-μεταβλητή (εδώ το `my_object`) απευθείας πάνω στο filesystem ως αρχείο, το οποίο στη συνέχεια μπορούμε να ανακαλέσουμε ως εξής:\n",
        "\n",
        "```python\n",
        "my_object = joblib.load('my_object.pkl')\n",
        "```\n",
        "\n",
        "Μπορούμε έτσι να ανακαλέσουμε μεταβλητές ακόμα και αφού κλείσουμε και ξανανοίξουμε το notebook, χωρίς να χρειαστεί να ακολουθήσουμε ξανά όλα τα βήματα ένα - ένα για την παραγωγή τους, κάτι ιδιαίτερα χρήσιμο αν αυτή η διαδικασία είναι χρονοβόρα.\n",
        "\n",
        "Ας αποθηκεύσουμε το `corpus_tf_idf` και στη συνέχεια ας το ανακαλέσουμε."
      ]
    },
    {
      "cell_type": "code",
      "execution_count": 33,
      "metadata": {
        "colab": {
          "base_uri": "https://localhost:8080/"
        },
        "id": "aESOPYQaPSyo",
        "scrolled": true,
        "outputId": "f88643bf-8bbc-4df5-b966-c06695c8a325"
      },
      "outputs": [
        {
          "output_type": "execute_result",
          "data": {
            "text/plain": [
              "['corpus_tf_idf.pkl']"
            ]
          },
          "metadata": {},
          "execution_count": 33
        }
      ],
      "source": [
        "import joblib\n",
        "\n",
        "joblib.dump(corpus_tf_idf, 'corpus_tf_idf.pkl') "
      ]
    },
    {
      "cell_type": "markdown",
      "metadata": {
        "id": "7_rAEj5ZPSy1"
      },
      "source": [
        "\n",
        "\n",
        "Μπορείτε με ένα απλό `!ls` να δείτε ότι το αρχείο `corpus_tf_idf.pkl` υπάρχει στο filesystem σας (== persistence):"
      ]
    },
    {
      "cell_type": "code",
      "execution_count": 34,
      "metadata": {
        "colab": {
          "base_uri": "https://localhost:8080/"
        },
        "id": "ZhwXmTEIPSy3",
        "scrolled": true,
        "outputId": "093033d7-dffb-4c97-b6cc-9070e70138ae"
      },
      "outputs": [
        {
          "output_type": "stream",
          "name": "stdout",
          "text": [
            "total 664M\n",
            "-rw-r--r-- 1 root root 664M Dec 11 19:39 corpus_tf_idf.pkl\n",
            "drwxr-xr-x 1 root root 4.0K Dec  3 14:33 sample_data\n"
          ]
        }
      ],
      "source": [
        "!ls -lh"
      ]
    },
    {
      "cell_type": "markdown",
      "metadata": {
        "id": "cey5AbkO475S"
      },
      "source": [
        "και μπορούμε να τα διαβάσουμε με `joblib.load`"
      ]
    },
    {
      "cell_type": "code",
      "execution_count": 35,
      "metadata": {
        "id": "DSJPTKY8PSyu"
      },
      "outputs": [],
      "source": [
        "corpus_tf_idf = joblib.load('corpus_tf_idf.pkl')"
      ]
    },
    {
      "cell_type": "markdown",
      "metadata": {
        "id": "zHOQtO83PSy9"
      },
      "source": [
        "# Εφαρμογή 2.  Τοπολογική και σημασιολογική απεικόνιση της ταινιών με χρήση SOM\n",
        "<img src=\"https://i.imgur.com/Z4FdurD.jpg\" width=\"60%\">"
      ]
    },
    {
      "cell_type": "markdown",
      "metadata": {
        "id": "UB_clmizPSy-"
      },
      "source": [
        "## Δημιουργία dataset\n",
        "Στη δεύτερη εφαρμογή θα βασιστούμε στις τοπολογικές ιδιότητες των Self Organizing Maps (SOM) για να φτιάξουμε ενά χάρτη (grid) δύο διαστάσεων όπου θα απεικονίζονται όλες οι ταινίες της συλλογής της ομάδας με τρόπο χωρικά συνεκτικό ως προς το περιεχόμενο και κυρίως το είδος τους (ο παραπάνω χάρτης είναι ενδεικτικός, δεν αντιστοιχεί στο dataset μας). \n",
        "\n",
        "Η `build_final_set` αρχικά μετατρέπει την αραιή αναπαράσταση tf-idf της εξόδου της `TfidfVectorizer()` σε πυκνή (η [αραιή αναπαράσταση](https://en.wikipedia.org/wiki/Sparse_matrix) έχει τιμές μόνο για τα μη μηδενικά στοιχεία). \n",
        "\n",
        "Στη συνέχεια ενώνει την πυκνή `dense_tf_idf` αναπαράσταση και τις binarized κατηγορίες `catbins` των ταινιών ως επιπλέον στήλες (χαρακτηριστικά). Συνεπώς, κάθε ταινία αναπαρίσταται στο Vector Space Model από τα χαρακτηριστικά του TFIDF και τις κατηγορίες της.\n",
        "\n",
        "Τέλος, δέχεται ένα ορισμα για το πόσες ταινίες να επιστρέψει, με default τιμή όλες τις ταινίες (5000). Αυτό είναι χρήσιμο για να μπορείτε αν θέλετε να φτιάχνετε μικρότερα σύνολα δεδομένων ώστε να εκπαιδεύεται ταχύτερα το SOM."
      ]
    },
    {
      "cell_type": "code",
      "execution_count": 36,
      "metadata": {
        "id": "U-FDDOkQPSzA"
      },
      "outputs": [],
      "source": [
        "def build_final_set(doc_limit = 5000, tf_idf_only=False):\n",
        "    # convert sparse tf_idf to dense tf_idf representation\n",
        "    dense_tf_idf = corpus_tf_idf[0:doc_limit,:]\n",
        "    if tf_idf_only:\n",
        "        # use only tf_idf\n",
        "        final_set = dense_tf_idf\n",
        "    else:\n",
        "        # append the binary categories features horizontaly to the (dense) tf_idf features\n",
        "        final_set = np.hstack((dense_tf_idf, catbins[0:doc_limit,:]))\n",
        "        # η somoclu θέλει δεδομένα σε float32\n",
        "    return np.array(final_set, dtype=np.float32)"
      ]
    },
    {
      "cell_type": "code",
      "execution_count": 37,
      "metadata": {
        "id": "aF1B62UbPSzF"
      },
      "outputs": [],
      "source": [
        "final_set = build_final_set()"
      ]
    },
    {
      "cell_type": "markdown",
      "metadata": {
        "id": "KjvPPENS_dYL"
      },
      "source": [
        "Τυπώνουμε τις διαστάσεις του τελικού dataset μας. Χωρίς βελτιστοποίηση του TFIDF θα έχουμε περίπου 50.000 χαρακτηριστικά."
      ]
    },
    {
      "cell_type": "code",
      "execution_count": 38,
      "metadata": {
        "colab": {
          "base_uri": "https://localhost:8080/"
        },
        "id": "fvEgNn-L-jEw",
        "outputId": "88e0574d-882e-49d7-ae48-b061a633580e"
      },
      "outputs": [
        {
          "output_type": "execute_result",
          "data": {
            "text/plain": [
              "(5000, 17707)"
            ]
          },
          "metadata": {},
          "execution_count": 38
        }
      ],
      "source": [
        "final_set.shape"
      ]
    },
    {
      "cell_type": "code",
      "execution_count": 39,
      "metadata": {
        "colab": {
          "base_uri": "https://localhost:8080/"
        },
        "id": "KNfixoUu-aLI",
        "outputId": "79b977da-c5d0-4091-f98c-87d19598428d"
      },
      "outputs": [
        {
          "output_type": "stream",
          "name": "stdout",
          "text": [
            "[0. 0. 0. ... 0. 0. 0.]\n"
          ]
        }
      ],
      "source": [
        "print(final_set[0])"
      ]
    },
    {
      "cell_type": "markdown",
      "metadata": {
        "id": "Om7PoyDVCqis"
      },
      "source": [
        "Με βάση την εμπειρία σας στην προετοιμασία των δεδομένων στην επιβλεπόμενη μάθηση, υπάρχει κάποιο βήμα προεπεξεργασίας που θα μπορούσε να εφαρμοστεί σε αυτό το dataset; "
      ]
    },
    {
      "cell_type": "markdown",
      "metadata": {
        "id": "7VFdP6oT-pf4"
      },
      "source": [
        "Μπορούμε να αφαιρέσουμε χαρακτηριστικά με μηδενική διασπορά"
      ]
    },
    {
      "cell_type": "code",
      "execution_count": 40,
      "metadata": {
        "colab": {
          "base_uri": "https://localhost:8080/"
        },
        "id": "13NiHdk9AM9Z",
        "outputId": "2caaa986-8c87-45f6-bb3d-39132774e799"
      },
      "outputs": [
        {
          "output_type": "stream",
          "name": "stdout",
          "text": [
            "(5000, 17655)\n"
          ]
        }
      ],
      "source": [
        "from sklearn.feature_selection import VarianceThreshold\n",
        "\n",
        "# αρχικοποιούμε έναν selector\n",
        "selector = VarianceThreshold()\n",
        "# όπως κάναμε και με τους ταξινομητές τον κάνουμε fit στα δεδομένα εκπαίδευσης\n",
        "train_reduced = selector.fit_transform(final_set)\n",
        "print(train_reduced.shape)"
      ]
    },
    {
      "cell_type": "markdown",
      "metadata": {
        "id": "8tikdip0PSzQ"
      },
      "source": [
        "## Εκπαίδευση χάρτη SOM\n",
        "\n",
        "Θα δουλέψουμε με τη βιβλιοθήκη SOM [\"Somoclu\"](http://somoclu.readthedocs.io/en/stable/index.html). Εισάγουμε τις somoclu και matplotlib και λέμε στη matplotlib να τυπώνει εντός του notebook (κι όχι σε pop up window)."
      ]
    },
    {
      "cell_type": "code",
      "execution_count": 41,
      "metadata": {
        "colab": {
          "base_uri": "https://localhost:8080/"
        },
        "id": "oX9rzxGSPSzR",
        "outputId": "36428242-7386-489f-e32a-dbebc8cca318"
      },
      "outputs": [
        {
          "output_type": "stream",
          "name": "stdout",
          "text": [
            "Requirement already satisfied: somoclu in /usr/local/lib/python3.7/dist-packages (1.7.5.1)\n",
            "Requirement already satisfied: scipy in /usr/local/lib/python3.7/dist-packages (from somoclu) (1.4.1)\n",
            "Requirement already satisfied: matplotlib in /usr/local/lib/python3.7/dist-packages (from somoclu) (3.2.2)\n",
            "Requirement already satisfied: numpy in /usr/local/lib/python3.7/dist-packages (from somoclu) (1.19.5)\n",
            "Requirement already satisfied: cycler>=0.10 in /usr/local/lib/python3.7/dist-packages (from matplotlib->somoclu) (0.11.0)\n",
            "Requirement already satisfied: pyparsing!=2.0.4,!=2.1.2,!=2.1.6,>=2.0.1 in /usr/local/lib/python3.7/dist-packages (from matplotlib->somoclu) (3.0.6)\n",
            "Requirement already satisfied: kiwisolver>=1.0.1 in /usr/local/lib/python3.7/dist-packages (from matplotlib->somoclu) (1.3.2)\n",
            "Requirement already satisfied: python-dateutil>=2.1 in /usr/local/lib/python3.7/dist-packages (from matplotlib->somoclu) (2.8.2)\n",
            "Requirement already satisfied: six>=1.5 in /usr/local/lib/python3.7/dist-packages (from python-dateutil>=2.1->matplotlib->somoclu) (1.15.0)\n"
          ]
        }
      ],
      "source": [
        "# install somoclu\n",
        "!pip install --upgrade somoclu\n",
        "# import sompoclu, matplotlib\n",
        "import somoclu\n",
        "import matplotlib\n",
        "# we will plot inside the notebook and not in separate window\n",
        "%matplotlib inline"
      ]
    },
    {
      "cell_type": "markdown",
      "metadata": {
        "id": "EqBfn0ijPSzX"
      },
      "source": [
        "Καταρχάς διαβάστε το [function reference](http://somoclu.readthedocs.io/en/stable/reference.html) του somoclu. Θα δoυλέψουμε με χάρτη τύπου planar, παραλληλόγραμμου σχήματος νευρώνων με τυχαία αρχικοποίηση (όλα αυτά είναι default). Μπορείτε να δοκιμάσετε διάφορα μεγέθη χάρτη ωστόσο όσο ο αριθμός των νευρώνων μεγαλώνει, μεγαλώνει και ο χρόνος εκπαίδευσης. Για το training δεν χρειάζεται να ξεπεράσετε τα 100 epochs. Σε γενικές γραμμές μπορούμε να βασιστούμε στις default παραμέτρους μέχρι να έχουμε τη δυνατότητα να οπτικοποιήσουμε και να αναλύσουμε ποιοτικά τα αποτελέσματα. Ξεκινήστε με ένα χάρτη 10 x 10, 100 epochs training και ένα υποσύνολο των ταινιών (π.χ. 2000). Χρησιμοποιήστε την `time` για να έχετε μια εικόνα των χρόνων εκπαίδευσης. Ενδεικτικά, με σωστή κωδικοποίηση tf-idf, μικροί χάρτες για λίγα δεδομένα (1000-2000) παίρνουν γύρω στο ένα λεπτό ενώ μεγαλύτεροι χάρτες με όλα τα δεδομένα μπορούν να πάρουν 10-15 λεπτά ή και περισσότερο.\n"
      ]
    },
    {
      "cell_type": "code",
      "execution_count": 42,
      "metadata": {
        "colab": {
          "base_uri": "https://localhost:8080/"
        },
        "id": "lwCtMWQN_Jz9",
        "outputId": "ef766ff1-d213-49fe-f731-4db53b355495"
      },
      "outputs": [
        {
          "output_type": "stream",
          "name": "stdout",
          "text": [
            "CPU times: user 1min 7s, sys: 376 ms, total: 1min 7s\n",
            "Wall time: 34.5 s\n"
          ]
        }
      ],
      "source": [
        "n_rows, n_columns = 10, 10\n",
        "som = somoclu.Somoclu(n_columns, n_rows, compactsupport=False)\n",
        "%time som.train(final_set[0:1000],epochs=10)"
      ]
    },
    {
      "cell_type": "markdown",
      "metadata": {
        "id": "ntd2GE9SaHiS"
      },
      "source": [
        "\n",
        "## Best matching units\n",
        "\n",
        "Μετά από κάθε εκπαίδευση αποθηκεύστε σε μια μεταβλητή τα best matching units (bmus) για κάθε ταινία. Τα bmus μας δείχνουν σε ποιο νευρώνα ανήκει η κάθε ταινία. Προσοχή: η σύμβαση των συντεταγμένων των νευρώνων είναι (στήλη, γραμμή) δηλαδή το ανάποδο από την Python. Με χρήση της [np.unique](https://docs.scipy.org/doc/numpy-1.13.0/reference/generated/numpy.unique.html) (μια πολύ χρήσιμη συνάρτηση στην άσκηση) αποθηκεύστε τα μοναδικά best matching units και τους δείκτες τους (indices) προς τις ταινίες. Σημειώστε ότι μπορεί να έχετε λιγότερα μοναδικά bmus από αριθμό νευρώνων γιατί μπορεί σε κάποιους νευρώνες να μην έχουν ανατεθεί ταινίες. Ως αριθμό νευρώνα θα θεωρήσουμε τον αριθμό γραμμής στον πίνακα μοναδικών bmus.\n"
      ]
    },
    {
      "cell_type": "code",
      "execution_count": 43,
      "metadata": {
        "id": "uI74RnPQCxqa"
      },
      "outputs": [],
      "source": [
        "bmus = som.bmus\n",
        "ubmus, indices = np.unique(bmus, return_inverse=True, axis=0)\n",
        "# το return_inverse επιστρέφει και τους δείκτες indices"
      ]
    },
    {
      "cell_type": "markdown",
      "metadata": {
        "id": "grzqcyHyaKdg"
      },
      "source": [
        "\n",
        "## Ομαδοποίηση (clustering)\n",
        "\n",
        "Τυπικά, η ομαδοποίηση σε ένα χάρτη SOM προκύπτει από το unified distance matrix (U-matrix): για κάθε κόμβο υπολογίζεται η μέση απόστασή του από τους γειτονικούς κόμβους. Εάν χρησιμοποιηθεί μπλε χρώμα στις περιοχές του χάρτη όπου η τιμή αυτή είναι χαμηλή (μικρή απόσταση) και κόκκινο εκεί που η τιμή είναι υψηλή (μεγάλη απόσταση), τότε μπορούμε να πούμε ότι οι μπλε περιοχές αποτελούν clusters και οι κόκκινες αποτελούν σύνορα μεταξύ clusters.\n",
        "\n",
        "To somoclu δίνει την επιπρόσθετη δυνατότητα να κάνουμε ομαδοποίηση των νευρώνων χρησιμοποιώντας οποιονδήποτε αλγόριθμο ομαδοποίησης του scikit-learn. Στην άσκηση θα χρησιμοποιήσουμε τον k-Means. Για τον αρχικό σας χάρτη δοκιμάστε ένα k=20 ή 25. Οι δύο προσεγγίσεις ομαδοποίησης είναι διαφορετικές, οπότε περιμένουμε τα αποτελέσματα να είναι κοντά αλλά όχι τα ίδια.\n"
      ]
    },
    {
      "cell_type": "code",
      "execution_count": 44,
      "metadata": {
        "id": "tKOWyChYEFcK"
      },
      "outputs": [],
      "source": [
        "# som.view_umatrix(bestmatches=True, bestmatchcolors=colors, labels=labels, colorbar=True, figsize=(15, 15))\n",
        "from sklearn.cluster import KMeans\n",
        "algorithm = KMeans(n_clusters=20)\n",
        "som.cluster(algorithm=algorithm)"
      ]
    },
    {
      "cell_type": "markdown",
      "metadata": {
        "id": "2nupuqcuaMe3"
      },
      "source": [
        "\n",
        "## Αποθήκευση του SOM\n",
        "\n",
        "Επειδή η αρχικοποίηση του SOM γίνεται τυχαία και το clustering είναι και αυτό στοχαστική διαδικασία, οι θέσεις και οι ετικέτες των νευρώνων και των clusters θα είναι διαφορετικές κάθε φορά που τρέχετε τον χάρτη, ακόμα και με τις ίδιες παραμέτρους. Για να αποθηκεύσετε ένα συγκεκριμένο som και clustering χρησιμοποιήστε και πάλι την `joblib`. Μετά την ανάκληση ενός SOM θυμηθείτε να ακολουθήσετε τη διαδικασία για τα bmus.\n"
      ]
    },
    {
      "cell_type": "markdown",
      "metadata": {
        "id": "ejX0Qs18aRHU"
      },
      "source": [
        "\n",
        "## Οπτικοποίηση U-matrix, clustering και μέγεθος clusters\n",
        "\n",
        "Για την εκτύπωση του U-matrix χρησιμοποιήστε τη `view_umatrix` με ορίσματα `bestmatches=True` και `figsize=(15, 15)` ή `figsize=(20, 20)`. Τα διαφορετικά χρώματα που εμφανίζονται στους κόμβους αντιπροσωπεύουν τα διαφορετικά clusters που προκύπτουν από τον k-Means. Μπορείτε να εμφανίσετε τη λεζάντα του U-matrix με το όρισμα `colorbar`. Μην τυπώνετε τις ετικέτες (labels) των δειγμάτων, είναι πολύ μεγάλος ο αριθμός τους.\n",
        "\n",
        "Για μια δεύτερη πιο ξεκάθαρη οπτικοποίηση του clustering τυπώστε απευθείας τη μεταβλητή `clusters`.\n",
        "\n"
      ]
    },
    {
      "cell_type": "code",
      "execution_count": 45,
      "metadata": {
        "colab": {
          "base_uri": "https://localhost:8080/",
          "height": 834
        },
        "id": "h_FaianhGCOG",
        "outputId": "daeb9905-db53-4581-bdf4-522844ebe7f6"
      },
      "outputs": [
        {
          "output_type": "display_data",
          "data": {
            "image/png": "[encoded data removed]",
            "text/plain": [
              "<Figure size 1080x1080 with 2 Axes>"
            ]
          },
          "metadata": {
            "needs_background": "light"
          }
        },
        {
          "output_type": "stream",
          "name": "stdout",
          "text": [
            "[[ 5  5  5  2  2  7  7  7 15 15]\n",
            " [ 5  5 18 18  2  7  7  7 15 15]\n",
            " [ 8 11 18 18  1  4  4  4  6  6]\n",
            " [ 8 11 11  1  1  4  4  6  6  6]\n",
            " [ 8 11 11  1  1  1  4  6  6  6]\n",
            " [16 16 13 13  1  1  9 14  6  6]\n",
            " [16  3  3 13  9  9  9 14 10 10]\n",
            " [ 3  3  3  3  9  9  9 10 10 10]\n",
            " [19  3  3 17  9  9  0  0 12 12]\n",
            " [19 19 17 17 17  9  0  0 12 12]]\n"
          ]
        }
      ],
      "source": [
        "som.view_umatrix(bestmatches=True, colorbar=True, figsize=(15, 15))\n",
        "print(som.clusters)"
      ]
    },
    {
      "cell_type": "markdown",
      "metadata": {
        "id": "NdUu47PzgC35"
      },
      "source": [
        "Τέλος, χρησιμοποιώντας πάλι την `np.unique` (με διαφορετικό όρισμα) και την `np.argsort` (υπάρχουν και άλλοι τρόποι υλοποίησης) εκτυπώστε τις ετικέτες των clusters (αριθμοί από 0 έως k-1) και τον αριθμό των νευρώνων σε κάθε cluster, με φθίνουσα ή αύξουσα σειρά ως προς τον αριθμό των νευρώνων. Ουσιαστικά είναι ένα εργαλείο για να βρίσκετε εύκολα τα μεγάλα και μικρά clusters. "
      ]
    },
    {
      "cell_type": "markdown",
      "metadata": {
        "id": "fMO_KcQYaTv-"
      },
      "source": [
        "\n",
        "## Σημασιολογική ερμηνεία των clusters\n",
        "\n",
        "Προκειμένου να μελετήσουμε τις τοπολογικές ιδιότητες του SOM και το αν έχουν ενσωματώσει σημασιολογική πληροφορία για τις ταινίες διαμέσου της διανυσματικής αναπαράστασης με το tf-idf και των κατηγοριών, χρειαζόμαστε ένα κριτήριο ποιοτικής επισκόπησης των clusters. Θα υλοποιήσουμε το εξής κριτήριο: Λαμβάνουμε όρισμα έναν αριθμό (ετικέτα) cluster. Για το cluster αυτό βρίσκουμε όλους τους νευρώνες που του έχουν ανατεθεί από τον k-Means. Για όλους τους νευρώνες αυτούς βρίσκουμε όλες τις ταινίες που τους έχουν ανατεθεί (για τις οποίες αποτελούν bmus). Για όλες αυτές τις ταινίες τυπώνουμε ταξινομημένη τη συνολική στατιστική όλων των ειδών (κατηγοριών) και τις συχνότητές τους. Αν το cluster διαθέτει καλή συνοχή και εξειδίκευση, θα πρέπει κάποιες κατηγορίες να έχουν σαφώς μεγαλύτερη συχνότητα από τις υπόλοιπες. Θα μπορούμε τότε να αναθέσουμε αυτήν/ές την/τις κατηγορία/ες ως ετικέτες κινηματογραφικού είδους στο cluster.\n",
        "\n",
        "Μπορείτε να υλοποιήσετε τη συνάρτηση αυτή όπως θέλετε. Μια πιθανή διαδικασία θα μπορούσε να είναι η ακόλουθη:\n",
        "\n",
        "1. Ορίζουμε συνάρτηση `print_categories_stats` που δέχεται ως είσοδο λίστα με ids ταινιών. Δημιουργούμε μια κενή λίστα συνολικών κατηγοριών. Στη συνέχεια, για κάθε ταινία επεξεργαζόμαστε το string `categories` ως εξής: δημιουργούμε μια λίστα διαχωρίζοντας το string κατάλληλα με την `split` και αφαιρούμε τα whitespaces μεταξύ ετικετών με την `strip`. Προσθέτουμε τη λίστα αυτή στη συνολική λίστα κατηγοριών με την `extend`. Τέλος χρησιμοποιούμε πάλι την `np.unique` για να μετρήσουμε συχνότητα μοναδικών ετικετών κατηγοριών και ταξινομούμε με την `np.argsort`. Τυπώνουμε τις κατηγορίες και τις συχνότητες εμφάνισης ταξινομημένα. Χρήσιμες μπορεί να σας φανούν και οι `np.ravel`, `np.nditer`, `np.array2string` και `zip`.\n",
        "\n",
        "2. Ορίζουμε τη βασική μας συνάρτηση `print_cluster_neurons_movies_report` που δέχεται ως όρισμα τον αριθμό ενός cluster. Με τη χρήση της `np.where` μπορούμε να βρούμε τις συντεταγμένες των bmus που αντιστοιχούν στο cluster και με την `column_stack` να φτιάξουμε έναν πίνακα bmus για το cluster. Προσοχή στη σειρά (στήλη - σειρά) στον πίνακα bmus. Για κάθε bmu αυτού του πίνακα ελέγχουμε αν υπάρχει στον πίνακα μοναδικών bmus που έχουμε υπολογίσει στην αρχή συνολικά και αν ναι προσθέτουμε το αντίστοιχο index του νευρώνα σε μια λίστα. Χρήσιμες μπορεί να είναι και οι `np.rollaxis`, `np.append`, `np.asscalar`. Επίσης πιθανώς να πρέπει να υλοποιήσετε ένα κριτήριο ομοιότητας μεταξύ ενός bmu και ενός μοναδικού bmu από τον αρχικό πίνακα bmus.\n",
        "\n",
        "3. Υλοποιούμε μια βοηθητική συνάρτηση `neuron_movies_report`. Λαμβάνει ένα σύνολο νευρώνων από την `print_cluster_neurons_movies_report` και μέσω της `indices` φτιάχνει μια λίστα με το σύνολο ταινιών που ανήκουν σε αυτούς τους νευρώνες. Στο τέλος καλεί με αυτή τη λίστα την `print_categories_stats` που τυπώνει τις στατιστικές των κατηγοριών.\n",
        "\n",
        "Μπορείτε βέβαια να προσθέσετε οποιαδήποτε επιπλέον έξοδο σας βοηθάει. Μια χρήσιμη έξοδος είναι πόσοι νευρώνες ανήκουν στο cluster και σε πόσους και ποιους από αυτούς έχουν ανατεθεί ταινίες.\n",
        "\n",
        "Θα επιτελούμε τη σημασιολογική ερμηνεία του χάρτη καλώντας την `print_cluster_neurons_movies_report` με τον αριθμός ενός cluster που μας ενδιαφέρει. \n",
        "\n",
        "Παράδειγμα εξόδου για ένα cluster (μη βελτιστοποιημένος χάρτης, ωστόσο βλέπετε ότι οι μεγάλες κατηγορίες έχουν σημασιολογική  συνάφεια):\n",
        "\n",
        "```\n",
        "Overall Cluster Genres stats:  \n",
        "[('\"Horror\"', 86), ('\"Science Fiction\"', 24), ('\"B-movie\"', 16), ('\"Monster movie\"', 10), ('\"Creature Film\"', 10), ('\"Indie\"', 9), ('\"Zombie Film\"', 9), ('\"Slasher\"', 8), ('\"World cinema\"', 8), ('\"Sci-Fi Horror\"', 7), ('\"Natural horror films\"', 6), ('\"Supernatural\"', 6), ('\"Thriller\"', 6), ('\"Cult\"', 5), ('\"Black-and-white\"', 5), ('\"Japanese Movies\"', 4), ('\"Short Film\"', 3), ('\"Drama\"', 3), ('\"Psychological thriller\"', 3), ('\"Crime Fiction\"', 3), ('\"Monster\"', 3), ('\"Comedy\"', 2), ('\"Western\"', 2), ('\"Horror Comedy\"', 2), ('\"Archaeology\"', 2), ('\"Alien Film\"', 2), ('\"Teen\"', 2), ('\"Mystery\"', 2), ('\"Adventure\"', 2), ('\"Comedy film\"', 2), ('\"Combat Films\"', 1), ('\"Chinese Movies\"', 1), ('\"Action/Adventure\"', 1), ('\"Gothic Film\"', 1), ('\"Costume drama\"', 1), ('\"Disaster\"', 1), ('\"Docudrama\"', 1), ('\"Film adaptation\"', 1), ('\"Film noir\"', 1), ('\"Parody\"', 1), ('\"Period piece\"', 1), ('\"Action\"', 1)]```\n",
        "   "
      ]
    },
    {
      "cell_type": "code",
      "execution_count": 46,
      "metadata": {
        "id": "uKNzozAst26u"
      },
      "outputs": [],
      "source": [
        "def print_categories_stats(ids):\n",
        "  cats = []\n",
        "  for id in ids:\n",
        "    cats.extend([x.split('\"')[1] for x in str(categories[id]).split(',')])\n",
        "  cats = np.array(cats)\n",
        "  cats, counts = np.unique(cats, return_counts=True)\n",
        "  return cats,counts\n",
        "\n",
        "\n"
      ]
    },
    {
      "cell_type": "code",
      "execution_count": 47,
      "metadata": {
        "id": "cOA-GE8g4rs4",
        "colab": {
          "base_uri": "https://localhost:8080/",
          "height": 130
        },
        "outputId": "c7b7cc84-65e5-4d9e-d879-18a05b45356b"
      },
      "outputs": [
        {
          "output_type": "error",
          "ename": "SyntaxError",
          "evalue": "ignored",
          "traceback": [
            "\u001b[0;36m  File \u001b[0;32m\"<ipython-input-47-4d5bc33a6a88>\"\u001b[0;36m, line \u001b[0;32m2\u001b[0m\n\u001b[0;31m    \u001b[0m\n\u001b[0m    ^\u001b[0m\n\u001b[0;31mSyntaxError\u001b[0m\u001b[0;31m:\u001b[0m unexpected EOF while parsing\n"
          ]
        }
      ],
      "source": [
        "def print_cluster_neurons_movies_report(cluster):\n",
        "                      "
      ]
    },
    {
      "cell_type": "code",
      "execution_count": 48,
      "metadata": {
        "id": "IMZN9k6wOWWo",
        "colab": {
          "base_uri": "https://localhost:8080/"
        },
        "outputId": "db2b9c79-0126-46f1-d84f-610e1e4666fb"
      },
      "outputs": [
        {
          "output_type": "stream",
          "name": "stdout",
          "text": [
            "['Action' 'Adventure' 'Art film' 'Bengali Cinema' 'Black-and-white'\n",
            " \"Children\\\\'s/Family\" 'Comedy' 'Crime Fiction' 'Detective'\n",
            " 'Detective fiction' 'Documentary' 'Drama' 'Family Film'\n",
            " 'Family-Oriented Adventure' 'Fantasy' 'Gross out' 'Gross-out film'\n",
            " 'Musical' 'Parody' 'Romance Film' 'Slasher' 'Teen' 'Thriller'\n",
            " 'World cinema']\n",
            "[1 1 1 1 1 1 1 1 1 1 2 4 1 1 1 1 1 1 1 1 1 1 1 2]\n"
          ]
        }
      ],
      "source": [
        "cats,counts = print_categories_stats([3,4,343,55,99,77,5,69])\n",
        "print(cats)\n",
        "print(counts)"
      ]
    },
    {
      "cell_type": "markdown",
      "metadata": {
        "id": "lq4QrImhaa7E"
      },
      "source": [
        "\n",
        "## Tips για το SOM και το clustering\n",
        "\n",
        "- Για την ομαδοποίηση ένα U-matrix καλό είναι να εμφανίζει και μπλε-πράσινες περιοχές (clusters) και κόκκινες περιοχές (ορίων). Παρατηρήστε ποια σχέση υπάρχει μεταξύ αριθμού ταινιών στο final set, μεγέθους grid και ποιότητας U-matrix.\n",
        "- Για το k του k-Means προσπαθήστε να προσεγγίζει σχετικά τα clusters του U-matrix (όπως είπαμε είναι διαφορετικοί μέθοδοι clustering). Μικρός αριθμός k δεν θα σέβεται τα όρια. Μεγάλος αριθμός θα δημιουργεί υπο-clusters εντός των clusters που φαίνονται στο U-matrix. Το τελευταίο δεν είναι απαραίτητα κακό, αλλά μεγαλώνει τον αριθμό clusters που πρέπει να αναλυθούν σημασιολογικά.\n",
        "- Σε μικρούς χάρτες και με μικρά final sets δοκιμάστε διαφορετικές παραμέτρους για την εκπαίδευση του SOM. Σημειώστε τυχόν παραμέτρους που επηρεάζουν την ποιότητα του clustering για το dataset σας ώστε να τις εφαρμόσετε στους μεγάλους χάρτες.\n",
        "- Κάποια τοπολογικά χαρακτηριστικά εμφανίζονται ήδη σε μικρούς χάρτες. Κάποια άλλα χρειάζονται μεγαλύτερους χάρτες. Δοκιμάστε μεγέθη 20x20, 25x25 ή και 30x30 και αντίστοιχη προσαρμογή των k. Όσο μεγαλώνουν οι χάρτες, μεγαλώνει η ανάλυση του χάρτη αλλά μεγαλώνει και ο αριθμός clusters που πρέπει να αναλυθούν.\n"
      ]
    },
    {
      "cell_type": "markdown",
      "metadata": {
        "id": "x4IUl8O8ayVf"
      },
      "source": [
        "\n",
        "\n",
        "## Ανάλυση τοπολογικών ιδιοτήτων χάρτη SOM\n",
        "\n",
        "Μετά το πέρας της εκπαίδευσης και του clustering θα έχετε ένα χάρτη με τοπολογικές ιδιότητες ως προς τα είδη των ταίνιών της συλλογής σας, κάτι αντίστοιχο με την εικόνα στην αρχή της Εφαρμογής 2 αυτού του notebook (η συγκεκριμένη εικόνα είναι μόνο για εικονογράφιση, δεν έχει καμία σχέση με τη συλλογή δεδομένων και τις κατηγορίες μας).\n",
        "\n",
        "Για τον τελικό χάρτη SOM που θα παράξετε για τη συλλογή σας, αναλύστε σε markdown με συγκεκριμένη αναφορά σε αριθμούς clusters και τη σημασιολογική ερμηνεία τους τις εξής τρεις τοπολογικές ιδιότητες του SOM: \n",
        "\n",
        "1. Δεδομένα που έχουν μεγαλύτερη πυκνότητα πιθανότητας στο χώρο εισόδου τείνουν να απεικονίζονται με περισσότερους νευρώνες στο χώρο μειωμένης διαστατικότητας. Δώστε παραδείγματα από συχνές και λιγότερο συχνές κατηγορίες ταινιών. Χρησιμοποιήστε τις στατιστικές των κατηγοριών στη συλλογή σας και τον αριθμό κόμβων που χαρακτηρίζουν.\n",
        "2. Μακρινά πρότυπα εισόδου τείνουν να απεικονίζονται απομακρυσμένα στο χάρτη. Υπάρχουν χαρακτηριστικές κατηγορίες ταινιών που ήδη από μικρούς χάρτες τείνουν να τοποθετούνται σε διαφορετικά ή απομονωμένα σημεία του χάρτη.\n",
        "3. Κοντινά πρότυπα εισόδου τείνουν να απεικονίζονται κοντά στο χάρτη. Σε μεγάλους χάρτες εντοπίστε είδη ταινιών και κοντινά τους υποείδη.\n",
        "\n",
        "Προφανώς τοποθέτηση σε 2 διαστάσεις που να σέβεται μια απόλυτη τοπολογία δεν είναι εφικτή, αφενός γιατί δεν υπάρχει κάποια απόλυτη εξ ορισμού για τα κινηματογραφικά είδη ακόμα και σε πολλές διαστάσεις, αφετέρου γιατί πραγματοποιούμε μείωση διαστατικότητας.\n",
        "\n",
        "Εντοπίστε μεγάλα clusters και μικρά clusters που δεν έχουν σαφή χαρακτηριστικά. Εντοπίστε clusters συγκεκριμένων ειδών που μοιάζουν να μην έχουν τοπολογική συνάφεια με γύρω περιοχές. Προτείνετε πιθανές ερμηνείες.\n",
        "\n",
        "\n",
        "\n",
        "Τέλος, εντοπίστε clusters που έχουν κατά την άποψή σας ιδιαίτερο ενδιαφέρον στη συλλογή της ομάδας σας (data exploration / discovery value) και σχολιάστε.\n"
      ]
    },
    {
      "cell_type": "markdown",
      "metadata": {
        "id": "tYjxGR5DawIy"
      },
      "source": [
        "\n",
        "# Τελική παράδοση άσκησης\n",
        "\n",
        "- Θα παραδώσετε στο eclass το παρόν notebook επεξεργασμένο ή ένα νέο με τις απαντήσεις σας για τα ζητούμενα και των δύο εφαρμογών. \n",
        "- Θυμηθείτε ότι η ανάλυση του χάρτη στο markdown με αναφορά σε αριθμούς clusters πρέπει να αναφέρεται στον τελικό χάρτη με τα κελιά ορατά που θα παραδώσετε αλλιώς ο χάρτης που θα προκύψει θα είναι διαφορετικός και τα labels των clusters δεν θα αντιστοιχούν στην ανάλυσή σας. \n",
        "- Μην ξεχάσετε στην αρχή ένα κελί markdown με **τα στοιχεία της ομάδας σας**.\n",
        "- Στο **zip** που θα παραδώσετε πρέπει να βρίσκονται **2 αρχεία (το .ipynb και το .py του notebook σας)**."
      ]
    },
    {
      "cell_type": "markdown",
      "metadata": {
        "id": "UHhCkvxjnitd"
      },
      "source": [
        "<table>\n",
        "  <tr><td align=\"center\">\n",
        "    <font size=\"4\">Παρακαλούμε διατρέξτε βήμα-βήμα το notebook για να μην ξεχάσετε παραδοτέα!</font>\n",
        "</td>\n",
        "  </tr>\n",
        "</table>"
      ]
    }
  ],
  "metadata": {
    "colab": {
      "collapsed_sections": [],
      "name": "nn_2-1.ipynb",
      "provenance": [],
      "include_colab_link": true
    },
    "kernelspec": {
      "display_name": "Python 3.5",
      "language": "python",
      "name": "python3"
    }
  },
  "nbformat": 4,
  "nbformat_minor": 0
}
{
  "nbformat": 4,
  "nbformat_minor": 0,
  "metadata": {
    "colab": {
      "name": "Team40_Ergasia2_UnsupervisedLearning.ipynb",
      "provenance": [],
      "collapsed_sections": [],
      "include_colab_link": true
    },
    "kernelspec": {
      "name": "python3",
      "display_name": "Python 3"
    },
    "accelerator": "GPU"
  },
  "cells": [
    {
      "cell_type": "markdown",
      "metadata": {
        "id": "view-in-github",
        "colab_type": "text"
      },
      "source": [
        "<a href=\"https://colab.research.google.com/github/stefvas/neural-networks/blob/main/Team40_Ergasia2_UnsupervisedLearning.ipynb\" target=\"_parent\"><img src=\"https://colab.research.google.com/assets/colab-badge.svg\" alt=\"Open In Colab\"/></a>"
      ]
    },
    {
      "cell_type": "markdown",
      "metadata": {
        "id": "hLFXD3IePSyL"
      },
      "source": [
        "# Εργαστηριακή Άσκηση 2. Μη επιβλεπόμενη μάθηση. \n",
        "\n",
        "## Σύστημα συστάσεων βασισμένο στο περιεχόμενο\n",
        "## Σημασιολογική απεικόνιση δεδομένων με χρήση SOM \n",
        "\n"
      ]
    },
    {
      "cell_type": "markdown",
      "metadata": {
        "id": "bU7o8OPfX6Ua"
      },
      "source": [
        "Ομάδα 40\n",
        "\n",
        "Βασιλειάδης Στέφανος 03117434\n",
        "\n",
        "\n",
        "Παναγιωτακοπούλου Άννα 03116057\n",
        "\n",
        "\n",
        "Παπαβασιλόπουλος Παναγιώτης-Φίλιππος 03117444\n"
      ]
    },
    {
      "cell_type": "code",
      "metadata": {
        "id": "S5wbBzIYnird"
      },
      "source": [
        "!pip install --upgrade pip\n",
        "!pip install --upgrade numpy\n",
        "!pip install --upgrade pandas\n",
        "!pip install --upgrade nltk\n",
        "!pip install --upgrade scikit-learn\n",
        "!pip install --upgrade joblib"
      ],
      "execution_count": null,
      "outputs": []
    },
    {
      "cell_type": "markdown",
      "metadata": {
        "id": "aViHqlQcPSyP"
      },
      "source": [
        "## Εισαγωγή του Dataset"
      ]
    },
    {
      "cell_type": "markdown",
      "metadata": {
        "id": "2ZVmdDExPSyQ"
      },
      "source": [
        "Το σύνολο δεδομένων με το οποίο θα δουλέψουμε είναι βασισμένο στο [Carnegie Mellon Movie Summary Corpus](http://www.cs.cmu.edu/~ark/personas/). Πρόκειται για ένα dataset με 22.301 περιγραφές ταινιών. Η περιγραφή κάθε ταινίας αποτελείται από τον τίτλο της, μια ή περισσότερες ετικέτες που χαρακτηρίζουν το είδος της ταινίας και τέλος τη σύνοψη της υπόθεσής της. Αρχικά εισάγουμε το dataset (χρησιμοποιήστε αυτούσιο τον κώδικα, δεν χρειάζεστε το αρχείο csv) στο dataframe `df_data_1`: "
      ]
    },
    {
      "cell_type": "code",
      "metadata": {
        "id": "62SOj46gPSyS"
      },
      "source": [
        "import pandas as pd\n",
        "\n",
        "dataset_url = \"https://drive.google.com/uc?export=download&id=1-tN5rC1QCgwqL67cvIXdMbtd-Xf9Xqow\"\n",
        "df_data_1 = pd.read_csv(dataset_url, sep='\\t',  header=None, quoting=3, error_bad_lines=False)"
      ],
      "execution_count": null,
      "outputs": []
    },
    {
      "cell_type": "code",
      "metadata": {
        "id": "2POlqDjkPSyY"
      },
      "source": [
        "import numpy as np\n",
        "\n",
        "# βάλτε το seed που αντιστοιχεί στην ομάδα σας\n",
        "team_seed_number = 40\n",
        "\n",
        "movie_seeds_url = \"https://drive.google.com/uc?export=download&id=1-oeMf7BFmiH70XObgC9WOTo-a9cDJZwP\"\n",
        "df_data_2 = pd.read_csv(movie_seeds_url, header=None, error_bad_lines=False)\n",
        "\n",
        "# επιλέγεται \n",
        "my_index = df_data_2.iloc[team_seed_number,:].values\n",
        "\n",
        "titles = df_data_1.iloc[:, [2]].values[my_index] # movie titles (string), list of 5000\n",
        "categories = df_data_1.iloc[:, [3]].values[my_index] # movie categories (string), list of 5000\n",
        "bins = df_data_1.iloc[:, [4]]\n",
        "catbins = bins[4].str.split(',', expand=True).values.astype(np.float)[my_index] # movie categories in binary form (1 feature per category), array of 5000*322\n",
        "summaries =  df_data_1.iloc[:, [5]].values[my_index] # movie summaries (string)\n",
        "corpus = summaries[:,0].tolist() # list form of summaries"
      ],
      "execution_count": null,
      "outputs": []
    },
    {
      "cell_type": "code",
      "source": [
        "#print(type(corpus))\n",
        "punc = '''!@#$%^&*(){}[];:?/.,\\|`~_-'''\n",
        "def simplify_lower(arr):\n",
        "  corpus_prime = []\n",
        "  for string in arr:\n",
        "    temp  = \"\"\n",
        "    for char in string:\n",
        "      if (char.isupper()):\n",
        "         char = char.lower()\n",
        "      temp += char\n",
        "    string = temp\n",
        "    corpus_prime.append(string)\n",
        "  return corpus_prime\n",
        "\n",
        "\n",
        "def simplify_punc(arr):\n",
        "  corpus_prime = []\n",
        "  for string in arr:\n",
        "    temp  = \"\"\n",
        "    for char in string:\n",
        "      if(char in punc):\n",
        "       count = 0\n",
        "      else:\n",
        "        temp += char\n",
        "    string = temp\n",
        "    corpus_prime.append(string)\n",
        "  return corpus_prime\n",
        "\n",
        "corpus = simplify_lower(corpus)\n",
        "\n",
        "corpus = simplify_punc(corpus)\n"
      ],
      "metadata": {
        "id": "Z-VxAoOUs872"
      },
      "execution_count": null,
      "outputs": []
    },
    {
      "cell_type": "code",
      "metadata": {
        "id": "k_7A3KXLp0qS"
      },
      "source": [
        "ID = 99\n",
        "print(titles[ID])\n",
        "print(categories[ID])\n",
        "print(catbins[ID])\n",
        "print(corpus[ID])"
      ],
      "execution_count": null,
      "outputs": []
    },
    {
      "cell_type": "markdown",
      "metadata": {
        "id": "UTNgwBfjPSyc"
      },
      "source": [
        "# Εφαρμογή 1. Υλοποίηση συστήματος συστάσεων ταινιών βασισμένο στο περιεχόμενο\n",
        "<img src=\"http://clture.org/wp-content/uploads/2015/12/Netflix-Streaming-End-of-Year-Posts.jpg\" width=\"70%\">"
      ]
    },
    {
      "cell_type": "markdown",
      "metadata": {
        "id": "rnA2RP8GPSyf"
      },
      "source": [
        "Η πρώτη εφαρμογή που θα αναπτύξετε θα είναι ένα [σύστημα συστάσεων](https://en.wikipedia.org/wiki/Recommender_system) ταινιών βασισμένο στο περιεχόμενο (content based recommender system). Τα συστήματα συστάσεων στοχεύουν στο να προτείνουν αυτόματα στο χρήστη αντικείμενα από μια συλλογή τα οποία ιδανικά θέλουμε να βρει ενδιαφέροντα ο χρήστης. Η κατηγοριοποίηση των συστημάτων συστάσεων βασίζεται στο πώς γίνεται η επιλογή (filtering) των συστηνόμενων αντικειμένων. Οι δύο κύριες κατηγορίες είναι η συνεργατική διήθηση (collaborative filtering) όπου το σύστημα προτείνει στο χρήστη αντικείμενα που έχουν αξιολογηθεί θετικά από χρήστες που έχουν παρόμοιο με αυτόν ιστορικό αξιολογήσεων και η διήθηση με βάση το περιεχόμενο (content based filtering), όπου προτείνονται στο χρήστη αντικείμενα με παρόμοιο περιεχόμενο (με βάση κάποια χαρακτηριστικά) με αυτά που έχει προηγουμένως αξιολογήσει θετικά.\n",
        "\n",
        "Το σύστημα συστάσεων που θα αναπτύξετε θα βασίζεται στο **περιεχόμενο** και συγκεκριμένα στις συνόψεις των ταινιών (corpus). \n"
      ]
    },
    {
      "cell_type": "markdown",
      "metadata": {
        "id": "DD5KuSKrxQ8I"
      },
      "source": [
        "## Μετατροπή σε TFIDF\n",
        "\n"
      ]
    },
    {
      "cell_type": "markdown",
      "metadata": {
        "id": "9Ioa2JSzjqlh"
      },
      "source": [
        "Αλλάζουμε τις παραμέτρους δίνοντάς μας τη δυνατότητα να προσθέσουμε και δικιές μας stopwords."
      ]
    },
    {
      "cell_type": "code",
      "metadata": {
        "id": "s5YP6XCZPSyh"
      },
      "source": [
        "from sklearn.feature_extraction.text import ENGLISH_STOP_WORDS as stopwords_english\n",
        "from sklearn.feature_extraction.text import TfidfVectorizer\n",
        "\n",
        "def tf_idf(mx_df, mn_df, my_stopwrods=list()):\n",
        "\n",
        "  stopwords_film = [\"movie\", \"film\", \"plot\", \"begins\", \"opens\", \"starts\", \"piece\", \"named\", \"woman\", \"women\", \"man\", \"men\", \"prologue\", \"help\", \"helping\"]\n",
        "  stopwords = list(stopwords_english) + list(my_stopwrods) + list(stopwords_film)# enhancing stopwords\n",
        "\n",
        "  vectorizer = TfidfVectorizer(max_df=mx_df, min_df=mn_df, stop_words=stopwords, analyzer='word')\n",
        "  vectorizer.fit(corpus)\n",
        "  corpus_tf_idf = vectorizer.transform(corpus)\n",
        "  print(\"Dimensions: \", corpus_tf_idf.shape, \"\\n\")\n",
        "\n",
        "\n",
        "  return corpus_tf_idf"
      ],
      "execution_count": null,
      "outputs": []
    },
    {
      "cell_type": "code",
      "metadata": {
        "id": "y_Cw0brpnisF",
        "outputId": "1fbd8bc3-9b78-4e9b-c4d9-3bb9823e9da5",
        "colab": {
          "base_uri": "https://localhost:8080/"
        }
      },
      "source": [
        "print(tf_idf(1.0, 0))"
      ],
      "execution_count": null,
      "outputs": [
        {
          "output_type": "stream",
          "name": "stdout",
          "text": [
            "Dimensions:  (5000, 48562) \n",
            "\n",
            "  (0, 48201)\t0.014812574193456204\n",
            "  (0, 48200)\t0.00915044086645136\n",
            "  (0, 48073)\t0.022625168225707294\n",
            "  (0, 47947)\t0.025741211048127557\n",
            "  (0, 47860)\t0.026892610320732747\n",
            "  (0, 47849)\t0.018612878156061618\n",
            "  (0, 47839)\t0.020056063814802072\n",
            "  (0, 47785)\t0.01920856612258464\n",
            "  (0, 47776)\t0.010856472332805019\n",
            "  (0, 47587)\t0.04376066659775111\n",
            "  (0, 47515)\t0.030438890292083555\n",
            "  (0, 47487)\t0.018062076007015374\n",
            "  (0, 47483)\t0.23827253234557133\n",
            "  (0, 47415)\t0.018705590764114047\n",
            "  (0, 47026)\t0.015737258733096456\n",
            "  (0, 46922)\t0.01102084580162583\n",
            "  (0, 46918)\t0.03235210054230669\n",
            "  (0, 46728)\t0.01843429402593167\n",
            "  (0, 46583)\t0.0343243381010756\n",
            "  (0, 45845)\t0.02438647180980415\n",
            "  (0, 45784)\t0.02505826195732574\n",
            "  (0, 45776)\t0.01289592071558338\n",
            "  (0, 45769)\t0.012739297269325862\n",
            "  (0, 45320)\t0.024869267058576432\n",
            "  (0, 45253)\t0.0193181379503111\n",
            "  :\t:\n",
            "  (4999, 8720)\t0.01890417600405281\n",
            "  (4999, 8300)\t0.038972314127411756\n",
            "  (4999, 7904)\t0.01969591838327934\n",
            "  (4999, 7901)\t0.016287678481924743\n",
            "  (4999, 7801)\t0.02915716657618016\n",
            "  (4999, 7575)\t0.6795082002606686\n",
            "  (4999, 6981)\t0.019439322113557807\n",
            "  (4999, 6976)\t0.018316453084092008\n",
            "  (4999, 6732)\t0.016085399214653448\n",
            "  (4999, 5944)\t0.01744286838047329\n",
            "  (4999, 5072)\t0.021116452604782728\n",
            "  (4999, 3967)\t0.06405140933374112\n",
            "  (4999, 3562)\t0.07152717897480722\n",
            "  (4999, 3397)\t0.05949786848362352\n",
            "  (4999, 3361)\t0.02816137058438885\n",
            "  (4999, 3332)\t0.021743921304372565\n",
            "  (4999, 3105)\t0.013698740123526934\n",
            "  (4999, 3104)\t0.021051707337826277\n",
            "  (4999, 2602)\t0.03388660589785886\n",
            "  (4999, 1826)\t0.028800897668305958\n",
            "  (4999, 1645)\t0.04084929771695651\n",
            "  (4999, 1532)\t0.031223123796932078\n",
            "  (4999, 1010)\t0.025948441936172018\n",
            "  (4999, 992)\t0.017779130497542515\n",
            "  (4999, 966)\t0.03883337067845868\n"
          ]
        }
      ]
    },
    {
      "cell_type": "markdown",
      "metadata": {
        "id": "3LsmvSyVykTU"
      },
      "source": [
        "## Υλοποίηση του συστήματος συστάσεων\n"
      ]
    },
    {
      "cell_type": "code",
      "metadata": {
        "id": "DV_Q6AehAi5b"
      },
      "source": [
        "# function that prints movie info\n",
        "def print_movie(ID):\n",
        "  print(\"ID: \", ID)\n",
        "  print(\"Title: \", ', '.join(titles[ID]))\n",
        "  print(\"Categories: \", ', '.join(categories[ID]))\n",
        "  print(\"Summary:\\n\", corpus[ID], \"\\n\")"
      ],
      "execution_count": null,
      "outputs": []
    },
    {
      "cell_type": "code",
      "metadata": {
        "id": "WTD9H9kH5-nU"
      },
      "source": [
        "from sklearn.metrics.pairwise import linear_kernel\n",
        "\n",
        "def content_recommender(ID, max_recommendations):\n",
        "  cosine_similarities = linear_kernel(corpus_tf_idf[ID], corpus_tf_idf).flatten()  # calculating cosine similarities using sparse matrices\n",
        "\n",
        "  cosine_similarities = (-cosine_similarities).argsort()  # sorting the array and saving movies based on ID's\n",
        "\n",
        "  print_movie(ID)  # print target movie info\n",
        "\n",
        "  for i in range(1, max_recommendations+1):   # print recommendations\n",
        "    print(\"Place:\", i)\n",
        "    print_movie(cosine_similarities[i])"
      ],
      "execution_count": null,
      "outputs": []
    },
    {
      "cell_type": "markdown",
      "metadata": {
        "id": "AnvR_-DXDzW4"
      },
      "source": [
        "Ένα παράδειγμα χρήσης για την 2η ταινία και 5 recommendations:"
      ]
    },
    {
      "cell_type": "code",
      "metadata": {
        "id": "0Y2QicrfSZf9",
        "outputId": "b41fda7c-37fa-4ad9-e1d0-43b37dca0427",
        "colab": {
          "base_uri": "https://localhost:8080/"
        }
      },
      "source": [
        "corpus_tf_idf = tf_idf(1.0, 0)"
      ],
      "execution_count": null,
      "outputs": [
        {
          "output_type": "stream",
          "name": "stdout",
          "text": [
            "Dimensions:  (5000, 48562) \n",
            "\n"
          ]
        }
      ]
    },
    {
      "cell_type": "code",
      "metadata": {
        "id": "1D0VKoRNSps-",
        "outputId": "c5ae6f86-b04a-4669-d15e-8553c6ba0be3",
        "colab": {
          "base_uri": "https://localhost:8080/"
        }
      },
      "source": [
        "content_recommender(1, 5)"
      ],
      "execution_count": null,
      "outputs": [
        {
          "output_type": "stream",
          "name": "stdout",
          "text": [
            "ID:  1\n",
            "Title:  Restless\n",
            "Categories:  \"Comedy\",  \"World cinema\",  \"Chinese Movies\"\n",
            "Summary:\n",
            " Leah  is a translator who is traveling international cities in search of romance and closure with her estranged boyfriend Jeff. She eventually settles in Beijing, China, where she meets and develops a fixation on Master Sun Zhan , who teaches here a Chinese game called weiqi. When her relationship with Master Sun Zhan takes a turn for the worse, Leah decides to focus on getting revenge on Jeff. Richard  is a shiftless Chinese-American whose family sends him to Beijing with his grandfather's ashes. Eventually Leah and Richard's paths cross and a romance develops. \n",
            "\n",
            "Place: 1\n",
            "ID:  2737\n",
            "Title:  Eyes of Fire\n",
            "Categories:  \"Horror\"\n",
            "Summary:\n",
            " The film takes place in the year 1750 on the American frontier during the colonial days, before the United States declared its independence. A group of pioneers narrowly escape persecution when their preacher is accused of adultery and polygamy. The preacher, Will Smythe, is accused of having an affair with a married woman, Eloise Dalton whose husband is away hunting for food, and another woman, Leah, who is insane. Also among their group is Eloise's daughter Fanny Dalton, the couple Jewell Buchanan and Margaret Buchanan along with their daughter Cathleen, Calvin and his wife who goes by the name Sister, and their granddaughter Meg. As the group travels farther away from their town, the threat of attack from hostile Native American tribes becomes more prevalent until the group is eventually ambushed. Calvin does not survive the attack, but the others are protected by Leah, who has used witchcraft to provide their protection. All the while the others are unaware that Leah is using magic the keep them safe. The remaining members of the group are forced to abandon their trail along the riverbank, and take cover in the woods far from man made trails. At this time, Eloise's husband Marion Dalton returns home to find news that his wife was scheduled to be executed along with Will for affair and also learns that the two are on the run with others from the town. Marion pursues and eventually catches up to them. Leah wanders away from the group for a short while. By this time the Shawnee Indians have caught up to the group and Marion Dalton, who speaks fluently in many tribal languages, is able to convince the Shawnee to abort the attack, at lest for a short while, though Marion is certain the Shawnee will be back in bigger numbers. Leah returns covered in white feathers and Marion recognizes this as a warning from the Shawnee Indians to other members of the Shawnee tribe not to enter a nearby valley. Realizing that the Shawnee have superstitions about the valley, Marion leads the group into the valley, knowing that if the Shawnee were to return, they would not follow the pioneers into the valley because of various Native American superstition some of the tribes have in regards to this particular valley. Once the group settles in the deserted valley, they are safe from any and all tribes of Native Americans. Though the pioneers are no longer under the threat of attack from the Shawnee, they find a young Native American orphan on the outskirts of their camp. The pioneers are still unnerved by the previous attacks, but reluctantly bring the girl into the camp and care for her. It seems that only Will is pleased with the orphan's unexpected appearance, and he is delighted at the possibility of baptizing her into Christianity. Aside from Will, it seems the others in the group are unnerved by the orphan girl's presence. And Leah, who has an extraordinary connection to the supernatural, senses that there is something unusual about the Native American child, and Leah soon begins to have visions as she tries to uncover the motives of the orphan girl. Fanny disappears soon afterward, and her body is later found by Marion, with the help of Leah through her abilities and visions, though Fanny appears to be in a coma. Only when Fanny awakens do they realize that the warnings to stay away from the valley are founded on more than just mythology, coupled with the frightening revelation that the orphan girl is more than what she seems when the group is terrorized by an evil spirit that desires to make them all its living captives. \n",
            "\n",
            "Place: 2\n",
            "ID:  992\n",
            "Title:  Cat And Mouse\n",
            "Categories:  \"Romantic comedy\",  \"World cinema\",  \"Action/Adventure\",  \"Drama\",  \"Comedy\",  \"Romantic drama\",  \"Romance Film\",  \"Chinese Movies\"\n",
            "Summary:\n",
            " Zhan Zhao  is a court officer who learns of a plot to assassinate Judge Bao . While on holiday he meets a young man named Bai  who turns out to be a woman. Zhan Zhao tries to recruit Bai to help him stop the assassination of Judge Bao. \n",
            "\n",
            "Place: 3\n",
            "ID:  1693\n",
            "Title:  Song of the Islands\n",
            "Categories:  \"Musical\"\n",
            "Summary:\n",
            " Jeff Harper sails to the tropical paradise Ahmi-Oni with his sidekick Rusty. He is there on behalf of his father to bargain for land with Dennis O'Brien. Jeff however falls in love with O'Brien's daughter Eileen and it is then up to Jeff's father to go to the island and try to break them up. A task easier said than done because Jeff's father also falls under the spell of the beautiful splendor of the islands. \n",
            "\n",
            "Place: 4\n",
            "ID:  1530\n",
            "Title:  Città violenta\n",
            "Categories:  \"Thriller\",  \"Crime Thriller\",  \"Gangster Film\",  \"Crime Fiction\",  \"World cinema\"\n",
            "Summary:\n",
            " The film opens with professional assassin Jeff Heston  and mistress Vanessa  pursued mercilessly while holidaying in the Virgin Islands. Jeff is shot and left for dead, while Vanessa runs off with his shooter and former business associate Coogan. After his release from prison on a framed murder charge, Jeff tracks the pair to New Orleans. However, after taking revenge on his betrayer and reuniting with Vanessa, Jeff is blackmailed by the very crime boss  who framed him, took Vanessa as his mob wife, and who is now intent on having him join his organisation. When Jeff refuses, he is hunted through an unforgiving city only to discover that his real enemy is closer than he realised. \n",
            "\n",
            "Place: 5\n",
            "ID:  4277\n",
            "Title:  Tower of London\n",
            "Categories:  \"Drama\",  \"Costume drama\",  \"Horror\",  \"Black-and-white\"\n",
            "Summary:\n",
            " Richard, the duke of Gloucester , is dismayed when his dying brother King Edward IV names their brother George, Duke of Clarence as Protector to his young son and heir, Prince Edward. Richard wants the position himself, to become de facto ruler after his brother's death. He secretly stabs George to death with a dagger bearing the crest of the Woodville family, framing the dying king's in-laws. Richard is now named Protector. His wife Anne approves of his crime and encourages him to take the throne for himself. After the death of King Edward, Richard tries to achieve his ends by intimidating the widowed queen's lady-in-waiting Mistress Shore into claiming that the dead king's two children are illegitimate. She refuses, and Richard tortures her. After she dies on the rack, Richard claims he executed her for spreading the rumour that the princes were illegitimate. He says that the two princes should be placed in his protective custody. The ghosts of Clarence, King Edward and Mistress Shore haunt Richard, warning him that they will be revenged at \"Bosworth\". He is also told that he will be killed by a dead man. Shore's ghost merges with the body of Anne, and a semi-deranged Richard strangles his own wife, believing her to be Shore. Without his beloved Anne, he is struck with guilt and loneliness. Richard consults the Moorish physician and sorcerer Tyrus, who shows him visions of his future, including the prophecy that he will be king. Tyrus is disturbed by Richard's increasingly deranged demeanour. Fearful for the safety of the princes, he informs Sir Jasper, a young aristocrat who is looking after the lads. Jasper plots with his girlfriend, Lady Margaret, to rescue the princes. He manages to get the young Duke of York and his mother free, but he is trapped and captured with the child-king Edward. Lady Margaret, who has been sent to get aid from her father Lord Stanley, is also captured and imprisoned. Richard spares Jasper, because he needs him to negotiate with Stanley, who is witholding his support for the Protector. Richard forces the Archbishop to give up the Duke of York, who has sought church sanctuary in Westminster Abbey with his mother. Aided by his crony, Sir Ratcliffe, Richard then murders the two princes in their beds and proclaims himself king. The ghosts of the princes try to lure Richard to his death from the battlements of the Tower, but he is saved by Buckingham. Buckingham confides in Ratcliffe his doubts about Richard's sanity, suggesting that they should join Lord Stanley. Ratcliffe informs Richard, who has Buckingham tortured to death. Meanwhile, Tyrus helps Jasper to rescue Margaret, but is mortally wounded during the escape. Jasper and Margaret join Stanley to encourage him to topple Richard from the throne. Richard is crowned, but is still haunted by fear. Ratcliffe informs him that Stanley has marched to the village of Bosworth with an army. Richard declares that he will fight. When Ratcliffe learns that Stanley has been joined by the Earl of Richmond, he advises Richard to flee, but the king is convinced of his invincibility. At the Battle of Bosworth Field Richard is eventually left alone on the battlefield after his army has been defeated. The ghosts of his victims appear, and he attempts to fight them. Jasper, Stanley and Richmond watch as Richard swipes at thin air. The king attempts to mount a horse, but is thrown and killed by a battleaxe held by a dead soldier. \n",
            "\n"
          ]
        }
      ]
    },
    {
      "cell_type": "markdown",
      "metadata": {
        "id": "8IvHkTUHyu78"
      },
      "source": [
        "## Βελτιστοποίηση\n",
        "\n",
        "Αφού υλοποιήσετε τη συνάρτηση `content_recommender` χρησιμοποιήστε τη για να βελτιστοποιήσετε την `TfidfVectorizer`. Συγκεκριμένα, αρχικά μπορείτε να δείτε τι επιστρέφει το σύστημα για τυχαίες ταινίες-στόχους και για ένα μικρό `max_recommendations` (2 ή 3). Αν σε κάποιες ταινίες το σύστημα μοιάζει να επιστρέφει σημασιολογικά κοντινές ταινίες σημειώστε το `ID` τους. Δοκιμάστε στη συνέχεια να βελτιστοποιήσετε την `TfidfVectorizer` για τα συγκεκριμένα `ID` ώστε να επιστρέφονται σημασιολογικά κοντινές ταινίες για μεγαλύτερο αριθμό `max_recommendations`. Παράλληλα, όσο βελτιστοποιείτε την `TfidfVectorizer`, θα πρέπει να λαμβάνετε καλές συστάσεις για μεγαλύτερο αριθμό τυχαίων ταινιών. Μπορείτε επίσης να βελτιστοποιήσετε τη συνάρτηση παρατηρώντας πολλά φαινόμενα που το σύστημα εκλαμβάνει ως ομοιότητα περιεχομένου ενώ επί της ουσίας δεν είναι επιθυμητό να συνυπολογίζονται . Ταυτόχρονα, μια άλλη κατεύθυνση της βελτιστοποίησης είναι να χρησιμοποιείτε τις παραμέτρους του `TfidfVectorizer` έτσι ώστε να μειώνονται οι διαστάσεις του Vector Space Model μέχρι το σημείο που θα αρχίσει να εμφανίζονται επιπτώσεις στην ποιότητα των συστάσεων. \n",
        "\n",
        "------------------------------------------------------------------------------\n"
      ]
    },
    {
      "cell_type": "markdown",
      "metadata": {
        "id": "TxiGP-UNkG98"
      },
      "source": [
        "Ορίζουμε την συνάρτηση similar_movies οι οποία μας επιστρέφει το σύνολο των ταινιών στόχων, για τις οποίες οι πρώτες 3 επιλογές ανήκαν σε count (count είναι η παράμετρος που της δίνουμε) είδη όμοια με την πρώτη. Εκτός των υπολοίπων μεθόδων συμβουλευόμαστε και αυτήν την μετρική και με τη μεγιστοποίηση της συνάρτησης αυτής προσπαθούμε να βελτιστοποιήσουμε τον Tfidfvectorizer."
      ]
    },
    {
      "cell_type": "code",
      "metadata": {
        "id": "LR0QoeBlTF6G"
      },
      "source": [
        "def similar_movies(count):\n",
        "  movie_list = []\n",
        "\n",
        "  for i in range(0, 5000): # for all movies\n",
        "    cnt = count\n",
        "\n",
        "    cosine_similarities = linear_kernel(corpus_tf_idf[i], corpus_tf_idf).flatten()  # find best matches\n",
        "    cosine_similarities = (-cosine_similarities).argsort()\n",
        "    \n",
        "    categs = categories[i][0]\n",
        "    categs = categs.split(\",\")\n",
        "    \n",
        "    for category in categs: # find categories similar between th movie and the 3 top matches\n",
        "      if category.lstrip(' ') in (categories[cosine_similarities[1]][0]) and category.lstrip(' ') in (categories[cosine_similarities[2]][0]) and category.lstrip(' ') in (categories[cosine_similarities[3]][0]):\n",
        "        cnt = cnt - 1\n",
        "      if cnt == 0: # if count similar categories are found append the movie to movie_list\n",
        "        movie_list.append(i)\n",
        "        break\n",
        "\n",
        "  return movie_list"
      ],
      "execution_count": null,
      "outputs": []
    },
    {
      "cell_type": "markdown",
      "metadata": {
        "id": "atHCXXvYjyYa"
      },
      "source": [
        "Εμπλουτίζουμε τις stop words με αγγλικά ονόματα. Έτσι οι ομοιότητες μεταξύ ταινιών δεν θα οφείλονται σε κοινά ονόματα χαρακτήρων τους. Εξηγούμε παρακάτω γιατί προέκυψε η ανάγκη πρόσθεσής τους."
      ]
    },
    {
      "cell_type": "code",
      "metadata": {
        "id": "utsJ-WcnTscL"
      },
      "source": [
        "import urllib.request \n",
        "import string\n",
        "\n",
        "# female english names\n",
        "target_url = \"http://www.cs.cmu.edu/Groups/AI/util/areas/nlp/corpora/names/female.txt\"\n",
        "response = urllib.request.urlopen(target_url).read().decode()\n",
        "lines_temp = response.split('\\n')\n",
        "names = []\n",
        "\n",
        "for line in lines_temp:\n",
        "  if line and line[0] != \"#\":\n",
        "    names.append(line.lower())\n",
        "\n",
        "# male english names\n",
        "target_url = \"http://www.cs.cmu.edu/Groups/AI/util/areas/nlp/corpora/names/male.txt\"\n",
        "response = urllib.request.urlopen(target_url).read().decode()\n",
        "lines_temp = response.split('\\n')\n",
        "\n",
        "for line in lines_temp:\n",
        "  if line and line[0] != \"#\":\n",
        "    names.append(line.lower())\n"
      ],
      "execution_count": null,
      "outputs": []
    },
    {
      "cell_type": "markdown",
      "metadata": {
        "id": "ISm9jOv8dI4B"
      },
      "source": [
        "Παρατηρούμε μείωση στη διαστατικότητα κατά 3000 περίπου. Δηλαδή έφυγαν 3000 ονόματα που αναφέρονταν στους πρωταγωνιστές των ταινιών."
      ]
    },
    {
      "cell_type": "code",
      "metadata": {
        "id": "GSGK6X-Aj04f",
        "outputId": "ffcfa12e-93ab-4d1f-bd9b-bccc1b813e72",
        "colab": {
          "base_uri": "https://localhost:8080/"
        }
      },
      "source": [
        "corpus_tf_idf = tf_idf(1.0, 0, names)"
      ],
      "execution_count": null,
      "outputs": [
        {
          "output_type": "stream",
          "name": "stderr",
          "text": [
            "/usr/local/lib/python3.7/dist-packages/sklearn/feature_extraction/text.py:401: UserWarning: Your stop_words may be inconsistent with your preprocessing. Tokenizing the stop words generated tokens ['luc', 'mar', 'zsa'] not in stop_words.\n",
            "  % sorted(inconsistent)\n"
          ]
        },
        {
          "output_type": "stream",
          "name": "stdout",
          "text": [
            "Dimensions:  (5000, 45559) \n",
            "\n"
          ]
        }
      ]
    },
    {
      "cell_type": "markdown",
      "metadata": {
        "id": "NPVK7Z5c1p5F"
      },
      "source": [
        "## Επεξήγηση επιλογών και ποιοτική ερμηνεία\n",
        "\n",
        "-------------------------------------------------------------------------------"
      ]
    },
    {
      "cell_type": "markdown",
      "metadata": {
        "id": "M2NF5Peqdc75"
      },
      "source": [
        "Αρχικά παρατηρήσαμε πως σε πολλές περιπτώσεις οι παρόμοιες ταινίες οφείλονταν σε κοινά ονόματα χαρακτήρων τους. Έτσι ενισχύσαμε τις stopwords με αγγλικά ονόματα ώστε να μην εντοπίζονται αυτές οι ομοιότητες. \n"
      ]
    },
    {
      "cell_type": "code",
      "metadata": {
        "id": "mKnao6Gedgy9",
        "outputId": "bce67bcf-b58e-44ea-9b5a-364893f90468",
        "colab": {
          "base_uri": "https://localhost:8080/"
        }
      },
      "source": [
        "corpus_tf_idf = tf_idf(1.0, 0)"
      ],
      "execution_count": null,
      "outputs": [
        {
          "output_type": "stream",
          "name": "stdout",
          "text": [
            "Dimensions:  (5000, 48562) \n",
            "\n"
          ]
        }
      ]
    },
    {
      "cell_type": "markdown",
      "metadata": {
        "id": "5StDQ5-GeGC2"
      },
      "source": [
        "Παρακάτω φαίνεται το πρόβλημα που δημιουργείται εξαιτίας των ονομάτων. Όπως φαίνεται ο πρωταγωνιστής της ταινία στόχου ονομάζεται Ben. Επειδή το όνομα λαμβάνεται υπόψην ως λέξη παρατηρούμε οτι και οι 3 πρώτες ταινίες περιέχουν επίσης αυτό το όνομα. Αυτό σημαίνει οτι ίσως να υπάρχουν σχετικότερες ταινίες με την ταινία στόχο, οι οποίες να υποβαθμίζονται λόγω αυτών των ομοιοτήτων."
      ]
    },
    {
      "cell_type": "code",
      "metadata": {
        "id": "wSL3EDCzdlUG",
        "outputId": "824971ce-e93f-47a3-a12a-0391789fa00b",
        "colab": {
          "base_uri": "https://localhost:8080/"
        }
      },
      "source": [
        "content_recommender(10, 3)"
      ],
      "execution_count": null,
      "outputs": [
        {
          "output_type": "stream",
          "name": "stdout",
          "text": [
            "ID:  10\n",
            "Title:  Como Esquecer\n",
            "Categories:  \"Drama\"\n",
            "Summary:\n",
            " Julia  is a professor of English literature who is abandoned by her girlfriend after a relationship that lasted over ten years. Because of the separation, Julie moves to Rio de Janeiro and lives with her best friend, Hugo , who is gay, and Lisa . In the new work, Julia ends up attracting the interest of two students, and it is Helena  who is after the teacher, although she did not feel prepared for a new relationship. \n",
            "\n",
            "Place: 1\n",
            "ID:  3368\n",
            "Title:  Date Movie\n",
            "Categories:  \"Romantic comedy\",  \"Parody\",  \"Romance Film\",  \"Comedy\"\n",
            "Summary:\n",
            "  Julia Jones is an obese woman, who dreams of marrying Napoleon Dynamite, but even in her dreams she is rejected. Writing in her diary, she thinks she will never find her true love. Julia goes outside and dances to impress men on the streets. It doesn't, as her obesity gets the best of her. Later on, Julia goes to work at her dad's Greek diner. Her dad, Frank, suggests she gets married to someone of the same heritage as her. Julia is half Greek , half Indian  and half Japanese . He suggests Nicky, an ugly, greasy man. She then meets the very British Grant Fockyerdoder, with whom she forms an instant attraction. When Frank yells at Julia to get an order, she turns to respond and hits Grant over the head with the coffee pot she's holding, knocking him to the floor. She turns around only to find his table is suddenly empty and figures he ran away. Julia needs help and goes to see a love therapist, Hitch. Hitch rejects her at first but reluctantly agrees to help her. Julia explains about the man at the diner and thinks it will be impossible for him to fall in love with her. Hitch takes her to a garage where she gets \"pimped out\" into a slim attractive woman. She earns a spot on a reality television dating show called The Extreme Bachelor, the bachelor turning out to be Grant, the man she met in the diner. Grant greets all the women and is asked to eliminate the losers, which he does by shooting them. Julia is the last woman standing and is rewarded with dinner for two at a restaurant called \"A Restaurant\". After their meal, Julia and Grant head back to her apartment, where they have sex. Julia takes Grant to meet her parents. There is immediate tension between Frank and Grant. Grant goes to the bathroom to see Jinxers, the family cat, defecating loudly and continuously on the toilet. Things get a lot worse when Grant attempts to open a bottle of champagne. The cork hits a vase that contains Frank's mother's remains, and the problems only get worse when Jinxers begins humping the skeleton. Later, Grant takes Julia to Tiffany & Co., where they turn on the lights to reveal the salespeople ready to let her pick whatever she wants. Grant then confesses he loves her and proposes to her. Julia happily says yes. Then, Frodo, Gandalf, and the others try to pawn off a ring, with Gandalf pleading that the ring could \"destroy all evil\". Ignoring him, Frodo accepts the offer of $50. The hobbits then turn and repeatedly kick Gandalf in his \"precious\"  and run off to \"get some wine coolers... and hookers!\" Now it's Grant's turn to take Julia and her family to meet his parents. This meeting doesn't go well either, as Roz, Grant's mother, informs everyone that Grant lost his virginity to their gay housekeeper Eduardo. Frank secretly brings Nicky along, telling Julia she has no choice but to marry him. Julia runs off, devastated. Later, Frank has a one-on-one basketball game with Grant's father, Bernie. Things get bad when Frank gets a huge taste of Bernie's chest hair. The next day, Julia and Grant go to a wedding planner named Jell-O, who has a massive butt. Jell-O suggests they go to Taco Butt, but they want something a little fancier. At first she is offended but when Grant tells her that he and Julia have already taken care of the other things listed for the wedding, Jell-O tells them that she wanted them to see what she had booked for the entertainment which was her dancing. She does some dance moves and backs up towards them with her massive rear and crushes them. Julia finally gets the chance meet Andy, Grant's best man, at the swimming pool. Of course, Julia assumes Andy is a man, but she is really a woman and is a lot more attractive than Julia. Julia is even more horrified when she finds out that the two were engaged three weeks ago. Andy helps Julia shop for her wedding dress. At the dress store, Julia hits her head on a power box and finds that she can read people's thoughts. Julia finds from reading Andy's mind that she still has feelings for Grant and plans to split the two of them up. Julia and Andy fight each other, Kill Bill-style. Julia grows depressed, fearing that she'll always be a lonely fat girl. She goes back to Hitch and tells him about Andy. Hitch reckons she doesn't stand a chance against Andy &mdash; but if she does, then everything will be fine in the end. Julia grows confident again and figures that she just has to make it through the wedding rehearsal at her dad's diner; then, only one day until their wedding. There, Andy shows up and accuses Grant of using Julia to get over her, but Grant ignores her. The big day has arrived, but unfortunately, Julia wakes up with a big pimple on her face. She eventually pops it, blowing her to the back of the room and knocking down a wall, but she is late for her wedding. Meanwhile, Andy finally tells Grant how she feels about him, and that Julia doesn't deserve him. She wants to marry him but Grant steps up and says he wants Julia. Andy ignores him and kisses him. Grant pushes Andy off and sees Julia, who has caught them in the act and runs away. Days later, Julia goes back to her apartment and is surrounded by balloons, gifts, and letters from Grant. She cannot forgive Grant, and agrees to marry Nicky. Once at the altar with Nicky, Julia is regretting it and has flashbacks about her and Grant. Frank, realizing that Julia is unhappy, stops the wedding and tells her she doesn't want Nicky. Grant is the one for her . Frank shows Julia a magazine with a picture of Grant and a message. It says to meet him on the rooftop of her apartment building. After an epic journey - throwing Andy down a stairway, bashing someone on the head with a baseball bat to get their bike - she gets there, only to find she just missed Grant. She leans her hands on the railings, causing it to snap and falls right into Grant's arms. It is very emotional but they get back together and get married, with Hitch officiating. Andy and Nicky meet at the wedding, and fall in love. Meanwhile, Grant and Julia leave in a horse and carriage. Julia also gets a present from her mother-in-law: a vaginal thermometer which apparently has been in their family for generations and is regarded as good luck when it's not washed. The film ends with Grant and Julia attending their honeymoon on Kong Island. They see a woman, Anne, tied to two pieces of wood. King Kong comes on and rips off her dress, leaving her clad in a leopard print bikini. Kong then gropes her, she says \"I like hairy guys\" and Kong roars and flattens her. \n",
            "\n",
            "Place: 2\n",
            "ID:  457\n",
            "Title:  Julia's Eyes\n",
            "Categories:  \"Thriller\",  \"Mystery\",  \"Horror\"\n",
            "Summary:\n",
            " The film begins with the death of the blind Sara, who appears to be being tormented by an unseen stranger. Heading to her basement to attempt suicide, she curses the hidden tormentor and refuses to give them the satisfaction of seeing her hang herself; but as she tries to remove the noose from her neck, the stool beneath her is kicked away, leaving her to die. Miles away, Sara's twin sister Julia collapses at work, sensing something amiss with her sister. After driving to Sara's house, Julia and her husband Isaac find Sara hanged. The police suspect no foul play, deciding that Sara was depressed after turning blind due to a degenerative eye disease that is slowly robbing Julia's vision as well. Julia, however, is unconvinced, believing that somebody else was in the house at the time of Sara's death, after finding Dusty Springfield's 'The Look of Love' in Sara's record player, a song her sister apparently hated. After feeling a hand that was not Isaac's on her shoulder while laying flowers on Sara's grave at her funeral, Julia becomes paranoid that the 'invisible man' who played a hand in Sara's death is nearby. After speaking to Sara's blind neighbour, Soledad, Julia visits the Baumann Centre for the Blind to learn more about Sara's life shortly before her death. She wanders into a women's locker room and overhears a group of women discussing her sister. She learns that Sara had a boyfriend with whom she had spent the weekend in a hotel. When the blind women sense her presence and surround her, they ask who is the man that entered with her: confused, she tells them she came alone, to which the women respond that a man came with her and is standing behind her. Only glimpsing the man's shadow as he flees, Julia chases him through the dark basement, but he escapes her and the stress causes an attack of blindness. Returning to Sara's house, she finds a mysterious key and the receipt for Sara's stay in the Hotel Bella Vista before being confronted by Isaac, who berates her for 'chasing ghosts' and is concerned that the stress will cause her sight to deteriorate faster. Julia persuades him to spend the night in a hotel with her, claiming that she wants to take their minds off what has happened, and they travel to the Hotel Bella Vista. There, Julia finds that the details of Sara's boyfriend have been apparently cleared from the hotel's records, though a waiter mistakes her for Sara and lets slip that her sister's eyes were covered by bandages during her stay. Julia confronts Isaac, who tells her that their doctor had confided in him that the operation Julia believed Sara was waiting for in the hopes of regaining her sight -thereby ruling out suicide, since her sister was waiting for an eye donor - had failed. During their argument, Julia suffers another attack of blindness and is nearly hit by a car; at which Isaac is distraught as he realises his wife's vision is rapidly failing her. They reconcile and make love.  The following morning, Julia is approached by a janitor who warns her of 'men who live in shadows' and informs her that the parking lot where Sara's mysterious boyfriend kept his van was under 24-hour surveillance. Julia's eyes are examined, and her doctor informs her that she may only have weeks or months left before she goes blind. Despite his exasperation, Julia persuades Isaac to go to the parking lot where Sara's boyfriend's van was kept in the hope of catching him on tape. Julia waits in the car as Isaac goes to collect the tape; however, he does not return and Julia ventures into the dark parking lot alone. The guard confirms that Isaac entered and took the tape, but he has not been seen since. A sudden power cut plunges them into darkness, and when the lights come back on the security camera cables have been slashed.  Julia is convinced that the 'invisible man' stole the tape, sabotaged the cameras and has kidnapped Isaac, though the police are skeptical. Returning to the Hotel Romero to question the janitor, they find him electrocuted in the bath from a fallen light above the water: however, the police declare it accidental. Isaac's credit card is found to have been used in a nearby hotel, however, when Julia and the inspector return to the house to look for any sign of his return; another power cut sends Julia stumbling through the darkness, brushing against what appears to be a man in the basement where Sara died. Upstairs, the inspector finds a note left on the bed, before being alerted by Julia's screams. When he arrives with his torch, Isaac's corpse is found swinging from the spot where Sara died; with Julia cowering, unable to see at all - her vision has gone completely. At the hospital, the police inform a grieving Julia that the note found on the bed was written in Isaac's hand, declaring that he could not live without Sara, with whom he had been having an affair for six months. However, an eye donor is found, so the operation to save Julia's sight goes ahead. She is told she must wear bandages to protect her eyes for two weeks, and returns to Sara's house despite her doctor's protests with a day carer, Iván, to assist her. Strangely, the key she found, which she believes was left by Sara's boyfriend, has disappeared. At first, Julia is plagued by disorientation and nightmares while convinced that somebody is lurking in the house; but Iván's patience and coaching help her regain her independence. Four days before Julia is due to remove her bandages, a starlit dinner culminates in a kiss, after which Iván leaves hurriedly, uncomfortable. That night, an unseen man almost succeeds in drugging Julia while she sleeps; however, she wakes, panicked, and accidentally hits the intruder as she sits upright. Terrified, she flees to the house of Sara's neighbour, Señor Blasco, who makes advances on her: as she turns to escape his house, she finds the key she had lost hanging on the wall - believing that Blasco is the 'invisible man', she escapes, paging Iván, who finds her hiding outside in the rain and escorts her to his apartment. In Iván's home, while he goes to get his spare bed for him to sleep in, Julia hears the voice of Blasco's shy daughter Lía, who tells her that her nurse - Iván - is the 'invisible man' who tormented Sara, has walls covered with photographs of Julia and her twin, and now seeks to drug her with sedatives slipped into her tea. Lía tells Julia to meet her in the bathroom moments before Iván returns. Conflicted, Julia goes to the bathroom where, four days early, she tears off her bandages, desperate to see for herself if Lía's word is true. A sudden bang causes Iván to come looking for her. Still in the bathroom, she replies that she heard it as well but did not know what it was. Iván heads out of the apartment momentarily. Julia exits the bathroom and sees Iván's walls are covered with photographs of the twins as well as Lía's bloodied body that is held to the wall with a kitchen knife through her mouth. Iván returns to the apartment to find Julia sobbing in the room with Lia. She pretends that she is crying because her operation has failed and she is blind which he believes. Behind Iván's back, she swaps her drugged tea for his; however, he guesses what has happened and leads her to a chest freezer where the body of the real nurse Iván is hidden. Julia's scream betrays the fact that she can see the corpse, and her ruse is over. Terrified, Julia suffers another attack of blindness. When her vision returns, Iván has driven Julia back to Sara's house, where she escapes and flees to the house of Señora Soledad. 'Iván' pursues her into the house and addresses Soledad as 'Máma', revealing himself as her missing son Ángel. A candle and pair of reading glasses betray the fact that Soledad is not in fact blind as she knocks Julia out, at which an enraged Ángel almost strangles his mother and injects her eye with a substance designed to break down the optic nerve and render her blind again. Julia awakens in the basement of Sara's house, where Ángel tells her he loves her and wants them to be together as long as her sight is gone; since blind people are the only ones who sense the existence of a man who lives in shadows. Julia steals his knife and stabs him as he kisses her, before fleeing. As he chases her, Julia finds all the doors and windows locked. She calls the inspector to ask for help, but Ángel cuts the telephone cable from downstairs during the conversation. As Ángel breaks free of the locked basement, she cuts the fuse and plunges the house into darkness. By the flashbulb of his camera, Ángel hunts Julia through the house and finally pins her down to strangle her. Julia desperately reaches for his dropped camera as he lifts the knife to stab her. She blocks the stab with the camera. The police arrive as Julia breaks free. She uses a flashlight to show the police a bloodied Ángel hiding in a corner of the room. Finally visible, he is defeated, and slits his own throat while begging the police not to look at him.  At the hospital once more, Julia is told the damage to her new eyes is irreversible and she will not see the dawn. Using her last few hours of vision, she goes to say goodbye to Isaac's corpse, where it is revealed that he donated his eyes to her. \n",
            "\n",
            "Place: 3\n",
            "ID:  506\n",
            "Title:  The Drifter\n",
            "Categories:  \"Thriller\",  \"Crime Fiction\",  \"Crime Thriller\",  \"Suspense\",  \"Erotic thriller\"\n",
            "Summary:\n",
            " Julia Robbins  is an emerging fashion designer returning home to Los Angeles after a sales trip in northern California. She passes a hitchhiker named Trey  on her way back to the 5. During lunch at a diner, she notices a mysterious man eating by himself. The hitchhiker enters the diner, and they make eye contact. Outside, he asks her for a ride, but Julia declines. As she drives off, she notices a flat tire. Trey fixes it for her, and she decides to give him a ride. At a motel that night, she offers him a ride into L.A. in the morning. He asks to sleep in her car. Instead, she ushers him into her room, and they spend the night together. At Oki Dog in West Hollywood, Julia drops the drifter off, and indicates that she wants to leave things at a one night stand. At her apartment, her boyfriend Arthur  is waiting for her. Julia is guilt-ridden over the affair, confessing what happened to her friend Matty . Eventually, Trey calls Julia at home and asks to see her. She declines, but he calls her again at work. Unnerved at how he has been able to track her down, Julia agrees to meet him back at Oki Dog, where he insists that they must be together. Julia reaffirms her wish to be left alone, but Trey shows up at her office in another attempt to win her back. Finally, when she notices a knife in one of her car tires, she goes to the police for help. She meets with Detective Morrison , and explains how Trey will not leave her alone. Meanwhile, Arthur meets with a private investigator, who turns out to be the mysterious man from the diner. He has been trailing Julia, and he breaks the news of her affair to Arthur. The detective makes some cryptic remarks to Arthur about killing women. Later, at Julia's apartment, she discovers Matty dead in her bed. She goes to Morrison again, begging for help. Arthur collects her from the police station and takes her to his house. In the climax to the film, Julia finds Arthur dead in his study from a gunshot to the head. The mysterious detective emerges from hiding and attacks her, binding her hands. He eventually explains that he was snooping on Julia at her apartment when Matty showed up, and he had to kill her to cover his tracks. Arthur was not comfortable with the murder, and the detective killed Arthur to prevent him from going to the police. Intent on killing Julia to complete his cover up, they are surprised by Trey. The detective shoots Trey but does not kill him. Trey eventually wakes up and subdues the detective. Morrison arrives at the house and kicks in the front door, with his gun drawn. Thinking that he will shoot Trey, Julia cries out to stop him. A shot rings out, but Morrison has killed the detective, who had drawn a hidden pistol and was about to kill Julia. The film ends with a shot of Julia and Trey together on a beach with her cat at their feet. \n",
            "\n"
          ]
        }
      ]
    },
    {
      "cell_type": "code",
      "metadata": {
        "id": "wHv3cnIRetzu",
        "outputId": "62f51502-1cc8-44a2-933d-a0a7b64f1d7a",
        "colab": {
          "base_uri": "https://localhost:8080/"
        }
      },
      "source": [
        "corpus_tf_idf = tf_idf(1.0, 0, names)"
      ],
      "execution_count": null,
      "outputs": [
        {
          "output_type": "stream",
          "name": "stderr",
          "text": [
            "/usr/local/lib/python3.7/dist-packages/sklearn/feature_extraction/text.py:401: UserWarning: Your stop_words may be inconsistent with your preprocessing. Tokenizing the stop words generated tokens ['luc', 'mar', 'zsa'] not in stop_words.\n",
            "  % sorted(inconsistent)\n"
          ]
        },
        {
          "output_type": "stream",
          "name": "stdout",
          "text": [
            "Dimensions:  (5000, 45559) \n",
            "\n"
          ]
        }
      ]
    },
    {
      "cell_type": "markdown",
      "metadata": {
        "id": "OGihU1U5gG7j"
      },
      "source": [
        "Παρατηρούμε οτι οι επιλογές είναι αρκετά πιο σχετικές καθώς όλες αφορούν τις ζωές ατόμων μικρών σε ηλικία (εκτός της πρώτης επιλογής, στην οποία η σύνδεση είναι η λέξη \"time\" αλλά λόγω του σεναρίου αφορά, τεχνικά, άτομα ηλικιακά νέα)."
      ]
    },
    {
      "cell_type": "code",
      "metadata": {
        "id": "zebv_cqqevcu",
        "outputId": "78b380e6-1ec5-42bc-88c6-85d7836c6de4",
        "colab": {
          "base_uri": "https://localhost:8080/"
        }
      },
      "source": [
        "content_recommender(10, 3)"
      ],
      "execution_count": null,
      "outputs": [
        {
          "output_type": "stream",
          "name": "stdout",
          "text": [
            "ID:  10\n",
            "Title:  Como Esquecer\n",
            "Categories:  \"Drama\"\n",
            "Summary:\n",
            " Julia  is a professor of English literature who is abandoned by her girlfriend after a relationship that lasted over ten years. Because of the separation, Julie moves to Rio de Janeiro and lives with her best friend, Hugo , who is gay, and Lisa . In the new work, Julia ends up attracting the interest of two students, and it is Helena  who is after the teacher, although she did not feel prepared for a new relationship. \n",
            "\n",
            "Place: 1\n",
            "ID:  4711\n",
            "Title:  Only When I Dance\n",
            "Categories:  \"Documentary\"\n",
            "Summary:\n",
            " Only When I Dance tells the story of two teenagers, Irlan and Isabela, who pursue their dreams of becoming professional ballet dancers as a way to escape the violent slums of Rio de Janeiro. \n",
            "\n",
            "Place: 2\n",
            "ID:  3855\n",
            "Title:  Love, in between\n",
            "Categories:  \"Romance Film\",  \"Drama\"\n",
            "Summary:\n",
            " When the wife of a university professor discovered her husband is having affair with his student she meets his lover they become friends and the relationship between these two women become closer. \n",
            "\n",
            "Place: 3\n",
            "ID:  1356\n",
            "Title:  School of Life\n",
            "Categories:  \"Television movie\",  \"Family Drama\",  \"Sports\",  \"Drama\",  \"Comedy\",  \"Family Film\"\n",
            "Summary:\n",
            " At Fallbrook Middle School, the annual student-elected Teacher of the Year award ceremony is held. Every year for the last 43 years, Norman Warner, fondly called Stormin' Norman, has won the award. During the ceremony, he collapses and dies. The burden of carrying the legacy falls to Matt Warner, son of the late Norman Warner who has always lived in the shadow of his father. Determined to keep the family tradition of being Teacher of the Year alive, Matt focuses all his attention and efforts in winning the coveted title. But the new history teacher, Mr. Michael D'Angelo becomes the new student favorite. He is called, even by fellow and senior teachers, \"Mr. D\". Young, funny, with unconventional methods of teaching and an uncanny ability to connect with his students, Mr. D. quickly wins the hearts not only of the students but also the teachers, especially the young art teacher, Ms. Davies. Now that Mr. D. is the most popular teacher on campus, Matt feels that he has no chances of winning against Mr. D. Now obsessed with discrediting Mr. D, Matt soon forgets what it means to be a teacher. Desperate to find a flaw in \"Mr Perfect\", Matt follows Mr. D around town and discovers a secret the alarmingly perfect teacher is hiding: Mr. D has been diagnosed with inoperable lung cancer and does not have long to live. Shocked by the startling discovery into realizing his own pettiness, Matt slowly changes his ways of teaching and in the process wins the hearts of his students. When Mr. D stops coming to teach because of his worsening illness, the students become depressed by the situation. Matt steps in to cheer up the student's spirits and leads the basketball team to a victory with a special guest appearance with 30 seconds left in the game by Mr. D. The film concludes after three years have passed and Matt's own son is now in high school, and Matt is teaching a brand new year of pupils in his life science class. He has won the Teacher of the Year for the last two years, Mr. D having won the award in the school year of 2003. The art teacher, Ms. Davies, inherited Mr. D's car. The film ends with a close-up of a photo in Matt's classroom of himself, Mr. D, and the basketball team with \"Michael D'Angelo 1967-2003\" inscribed on the bottom of the frame. \n",
            "\n"
          ]
        }
      ]
    },
    {
      "cell_type": "markdown",
      "metadata": {
        "id": "F756BAxbrcS4"
      },
      "source": [
        "Αργότερα προσθέσαμε στις stopwords λέξεις όπως τις \"film\", \"movie\", \"begins\" κλπ που εμφανίζονται συχνά σε περιλήψεις ταινίων."
      ]
    },
    {
      "cell_type": "markdown",
      "metadata": {
        "id": "bUCzOXR8iFn1"
      },
      "source": [
        "Πράγματι μετά από αυτές τις διορθώσεις οι περιπτώσεις, στις οποίες οι τρεις πρώτες επιλογές είχαν όλες τουλάχιστον μία ίδια κατηγορία με την ταινία στόχο έγιναν, από 667, 738."
      ]
    },
    {
      "cell_type": "markdown",
      "metadata": {
        "id": "15jMTS4cXppE"
      },
      "source": [
        "Μετά πήραμε από τη λίστα με τις 738 ταινίες που βρήκαμε παραπάνω, περιπτώσεις (60, 78, 83, 95, 103, 115, 138), οι οποίες ήταν καλές και προσπαθήσαμε να βελτιώσουμε περαιτέρω τις εκτιμήσεις. Παρατηρώντας τα αποτελέσματα αποφασίσαμε να εξαιρέσουμε μερικές ακόμα λέξεις: \"begins\", \"opens\", \"starts\", \"piece\", \"named\", \"woman\", \"women\", \"man\", \"men\", \"prologue\", \"help\", \"helping\". Έτσι αναβάσαμε τον παραπάνω αριθμό σε 746."
      ]
    },
    {
      "cell_type": "markdown",
      "metadata": {
        "id": "HkD4xLUerPjC"
      },
      "source": [
        "Corpus με τις film_stopwords. Έχουμε μείωση κατά 15 λέξεις."
      ]
    },
    {
      "cell_type": "code",
      "metadata": {
        "id": "4SbyK8SWrSGA",
        "outputId": "377572ce-cc90-418c-d03b-c1ce6dcbc792",
        "colab": {
          "base_uri": "https://localhost:8080/"
        }
      },
      "source": [
        "corpus_tf_idf = tf_idf(1.0, 0, names)"
      ],
      "execution_count": null,
      "outputs": [
        {
          "output_type": "stream",
          "name": "stderr",
          "text": [
            "/usr/local/lib/python3.7/dist-packages/sklearn/feature_extraction/text.py:401: UserWarning: Your stop_words may be inconsistent with your preprocessing. Tokenizing the stop words generated tokens ['luc', 'mar', 'zsa'] not in stop_words.\n",
            "  % sorted(inconsistent)\n"
          ]
        },
        {
          "output_type": "stream",
          "name": "stdout",
          "text": [
            "Dimensions:  (5000, 45559) \n",
            "\n"
          ]
        }
      ]
    },
    {
      "cell_type": "markdown",
      "metadata": {
        "id": "KkshmbUknBnV"
      },
      "source": [
        "### min_df\n",
        "\n",
        "Η χρήση μόνο των λιγότερο συχνών λέξεων, με μείωση του max_df, αποδείχθηκε οτι δε βοηθά, καθώς μόλις οδηγούσε σε μείωση των λέξεων του λεξιλογίου υπήρχε άμεση χειροτέρευση της ποιότητας των αποτελεσμάτων.\n",
        "\n",
        "Ο αποκλεισμός των λιγότερο συχνών λέξεων βοηθά σε κάποιες περιπτώσεις καθώς αποκλείει σπάνιες λέξεις που δεν προσφέρουν στο νόημα, ενώ σε άλλες κάνει το ίδιο αλλά με λέξεις που συσχετίζουν μικρό αριθμό ταινιών της ίδιας κατηγορίας οδηγώντας σε χειρότερα αποτελέσματα.<br>\n",
        "Παρακάτω φαίνονται 1 περίπτωση, στην οποία ισχύει το πρώτο και μία στην οποία ισχύει το δεύτερο:"
      ]
    },
    {
      "cell_type": "code",
      "metadata": {
        "id": "XgYb2Uv-rpiy",
        "outputId": "cac159ee-c5d0-4c76-90bd-e026bdcd42f1",
        "colab": {
          "base_uri": "https://localhost:8080/"
        }
      },
      "source": [
        "corpus_tf_idf = tf_idf(1.0, 2, names)"
      ],
      "execution_count": null,
      "outputs": [
        {
          "output_type": "stream",
          "name": "stderr",
          "text": [
            "/usr/local/lib/python3.7/dist-packages/sklearn/feature_extraction/text.py:401: UserWarning: Your stop_words may be inconsistent with your preprocessing. Tokenizing the stop words generated tokens ['luc', 'mar', 'zsa'] not in stop_words.\n",
            "  % sorted(inconsistent)\n"
          ]
        },
        {
          "output_type": "stream",
          "name": "stdout",
          "text": [
            "Dimensions:  (5000, 22761) \n",
            "\n"
          ]
        }
      ]
    },
    {
      "cell_type": "code",
      "metadata": {
        "id": "HvPIPXLlrsHf",
        "outputId": "2c9f778f-f5f2-4578-d562-729769df87e4",
        "colab": {
          "base_uri": "https://localhost:8080/"
        }
      },
      "source": [
        "content_recommender(83, 3)"
      ],
      "execution_count": null,
      "outputs": [
        {
          "output_type": "stream",
          "name": "stdout",
          "text": [
            "ID:  83\n",
            "Title:  Follow that Dream\n",
            "Categories:  \"Musical\",  \"Comedy\"\n",
            "Summary:\n",
            " A vagabond family composed of Pop Kwimper , his son Toby , and various \"adopted\" children, including nineteen-year-old Holly Jones , is traveling in Florida when Pop drives onto an as-yet-unopened section of highway. When the car runs out of gas, Holly persuades Toby to persuade Pop to take up residence on the land next to the road. A chance encounter with an avid fisherman  gives Holly an idea. They build a thriving business catering to sports fishermen. Trouble soon follows. Toby rejects the advances of amorous social worker Alisha Claypoole , who goes to court to have the children taken away in revenge. Also, her government official boyfriend considers the squatters' home to be an eyesore and wants to evict them. Finally, since the area is outside the jurisdiction of any law enforcement, two gamblers  soon set up a casino in a trailer, and Toby has to deal with their armed thugs. In the end, Toby's earthy wits win over the judge and the family returns to its new land and home. Holly also gets Toby to recognize that she is a grown woman. \n",
            "\n",
            "Place: 1\n",
            "ID:  3654\n",
            "Title:  BoyBand\n",
            "Categories:  \"Comedy\"\n",
            "Summary:\n",
            " The year is 1982. Brad Roberts is Worcester High School's star football quarterback and dating the captain of the cheerleading squad. However, what seems like the perfect life is not complete. Brad secretly plays in a heavy metal band, and dreams of being a pop star. Brad's parents are separated, but still live together...with his mom's new boyfriend Garth. When Garth is inspired to create the first ever American boyband, Brad decides to become a part of it. He heads the new group, converts two of his hard-rock buddies into pop stars, and finds a couple of breakdancers to round out the group . \n",
            "\n",
            "Place: 2\n",
            "ID:  4024\n",
            "Title:  Backdancers!\n",
            "Categories:  \"Japanese Movies\"\n",
            "Summary:\n",
            " The lead singer of a famous pop group announces a shock walkout that leaves the four background dancers behind. The four set up their own group: \"Backdancers!.\" \n",
            "\n",
            "Place: 3\n",
            "ID:  2091\n",
            "Title:  Wasp\n",
            "Categories:  \"Short Film\",  \"Drama\",  \"Indie\"\n",
            "Summary:\n",
            " The film opens with a shot of a barefooted woman, Zoe, rapidly descending a flight of stairs, baby in hand, and three other children in tow. Dressed in only a nightgown, Zoe pounds on a neighbour's door where she gets into a physical altercation with the neighbour. As her children witness the incident, she screams 'No one hits my kids and gets away with it.' Tensions remain high as the two women and their children shout at one another and hurl insults. At Zoe's prompting, herself and her children make obscene gestures to the neighbour. They all head home, with the children asking for chips. A man then pulls up in a car and is curious as to who the children are. Zoe tells him that they belong to a mate of hers and she is just looking after them. He asks her if she would like to go for a drink. Zoe is a bit hesitant at first and she agrees to meet him at the pub that evening. Zoe reveals to her children that the man's name is David and her children seem excited about this, as there is the allusion to 'David' Beckham. . They return to their home and Zoe attempts to find a sitter for the children. She is unsuccessful in her attempt. As she speaks to her friend on the phone, she feeds sugar to her children, telling them to 'share it out, not too much.' Zoe then notices a wasp flying near one of her windows, which she opens to release it. The next scene shows Zoe wearing an extremely short skirt. She is accompanied by her children who ask where she is going, to which she replies that she is going to the pub. She tries to placate her children by telling them that there will probably be other kids there. Zoe promises her children that she will buy them something to eat at the pub. After all, their last meal consisted of pure sugar. When they arrive at their destination, Zoe leaves her children outside the pub to fend for themselves. She enters the pub in order to look for David. She eventually catches his eye; he is playing pool. David states that since Zoe is 'one of those modern girls,' she should purchase the first round of drinks herself. A reluctant Zoe goes up to the bar and orders drinks. It is clear that she is strapped for cash as she constantly amends her order in order to have the cheapest possible option. Meanwhile, her children attempt to amuse themselves outside of the pub. Zoe brings them crisps and a glass of Coke. Her children are upset because Zoe did not bring them chips. She attempts to entertain them by dancing and singing. Zoe instructs her oldest child, Kelly, not to come in and get her unless it is a real emergency. That being said, she enters the pub once again to see David with whom Zoe then plays pool. In the next few shots, we witness the children amusing themselves by playing outside the pub and entertaining one another. Meanwhile back in the pub, Zoe and David are becoming well acquainted with one another. Zoe seems oblivious to the fact that her children are bored and waiting outside the pub. She seems focussed upon the fact that she is having a good time and is oblivious to the needs of her children. The female patrons of the pub are exceptionally critical of her behaviour and say that she will not be laughing when she has her kids taken off her by Social Services. When Zoe checks on her children, who have been waiting outside the pub for hours, they are not pleased that Zoe wants to spend more time with David. They are bored, starved, and want to go home. David then emerges from the pub. Zoe and David spend some time getting to know one another in David's car. They begin to kiss and the camera cuts to Zoe's baby crying. It is obvious that the children are very hungry and want to go home. Four males exit the pub, one of whom drops some chips and ribs which Kelly eagerly picks up and shares with her siblings. Things then become quite heated between David and Zoe, who indulge in their passions in David's car while Zoe's children forage for food. Matters between David and Zoe are interrupted when one of her children emits an ear piercing shriek. Zoe then extricates herself from the car when she hears her child's cry. She then witnesses a wasp crawling into her baby's mouth and pleads 'don't sting him.' The wasp flies away and Zoe becomes enraged when she notices that there are remnants of ribs around her baby's mouth. Zoe responds by violently shaking Kelly and screams: 'I told you to look after him, didn't I?' After chastising Kelly, the family then embraces and Zoe apologises. The next shot shows the children eating in David's car and Zoe looking very troubled. David indicates to Zoe that he wants to have a chat. The last shot of the movie show David's car driving away and Zoe's children singing 'Hey! Baby.' \n",
            "\n"
          ]
        }
      ]
    },
    {
      "cell_type": "markdown",
      "metadata": {
        "id": "dvjhK8idtUPB"
      },
      "source": [
        "Όπως φαίνεται η ταινία είναι δραματική και σχετίζεται με το έγκλημα, όπως και η 1η και η 2η επιλογή. Αντίθετα η 3η δεν σχετίζεται με το έγκλημα. <br>\n",
        "Αυξάνουμε το min_dfQ:"
      ]
    },
    {
      "cell_type": "code",
      "metadata": {
        "id": "s3Hk3V18tJx6",
        "outputId": "1b106ac3-4be2-487e-9021-7a0ac7a9127f",
        "colab": {
          "base_uri": "https://localhost:8080/"
        }
      },
      "source": [
        "corpus_tf_idf = tf_idf(1.0, 15, names)"
      ],
      "execution_count": null,
      "outputs": [
        {
          "output_type": "stream",
          "name": "stderr",
          "text": [
            "/usr/local/lib/python3.7/dist-packages/sklearn/feature_extraction/text.py:401: UserWarning: Your stop_words may be inconsistent with your preprocessing. Tokenizing the stop words generated tokens ['luc', 'mar', 'zsa'] not in stop_words.\n",
            "  % sorted(inconsistent)\n"
          ]
        },
        {
          "output_type": "stream",
          "name": "stdout",
          "text": [
            "Dimensions:  (5000, 5596) \n",
            "\n"
          ]
        }
      ]
    },
    {
      "cell_type": "code",
      "metadata": {
        "id": "ubn7Cz8vtM-2",
        "outputId": "925f863f-4b7d-4737-9062-e4c8a38ab3ad",
        "colab": {
          "base_uri": "https://localhost:8080/"
        }
      },
      "source": [
        "content_recommender(83, 3)"
      ],
      "execution_count": null,
      "outputs": [
        {
          "output_type": "stream",
          "name": "stdout",
          "text": [
            "ID:  83\n",
            "Title:  Follow that Dream\n",
            "Categories:  \"Musical\",  \"Comedy\"\n",
            "Summary:\n",
            " A vagabond family composed of Pop Kwimper , his son Toby , and various \"adopted\" children, including nineteen-year-old Holly Jones , is traveling in Florida when Pop drives onto an as-yet-unopened section of highway. When the car runs out of gas, Holly persuades Toby to persuade Pop to take up residence on the land next to the road. A chance encounter with an avid fisherman  gives Holly an idea. They build a thriving business catering to sports fishermen. Trouble soon follows. Toby rejects the advances of amorous social worker Alisha Claypoole , who goes to court to have the children taken away in revenge. Also, her government official boyfriend considers the squatters' home to be an eyesore and wants to evict them. Finally, since the area is outside the jurisdiction of any law enforcement, two gamblers  soon set up a casino in a trailer, and Toby has to deal with their armed thugs. In the end, Toby's earthy wits win over the judge and the family returns to its new land and home. Holly also gets Toby to recognize that she is a grown woman. \n",
            "\n",
            "Place: 1\n",
            "ID:  3654\n",
            "Title:  BoyBand\n",
            "Categories:  \"Comedy\"\n",
            "Summary:\n",
            " The year is 1982. Brad Roberts is Worcester High School's star football quarterback and dating the captain of the cheerleading squad. However, what seems like the perfect life is not complete. Brad secretly plays in a heavy metal band, and dreams of being a pop star. Brad's parents are separated, but still live together...with his mom's new boyfriend Garth. When Garth is inspired to create the first ever American boyband, Brad decides to become a part of it. He heads the new group, converts two of his hard-rock buddies into pop stars, and finds a couple of breakdancers to round out the group . \n",
            "\n",
            "Place: 2\n",
            "ID:  78\n",
            "Title:  Emergency Act 19\n",
            "Categories:  \"Satire\"\n",
            "Summary:\n",
            " Troubled by the growing worldwide trend of pop singers being elected as politicians, the President of South Korea orders his Chief Secretary to invoke \"Emergency Act 19\". This new law criminalizes all pop singers, and the army is deployed on the streets of Seoul to round them up. One pop star, Hong Kyung-min, is arrested while performing a concert, but his angry fans mob the soldiers as they try to take him away. The Chief Secretary's teenage daughter, Min-ji, is amongst the fans, and leading her idol to safety gives him her phone number. Kyung-min finally makes a getaway with his friend and fellow pop star, Kim Jang-hoon. Once Jang-hoon and Kyung-min become fully aware of the situation, they contact Min-ji who is able to hide the two singers in a secret location. The Chief Secretary finds out that his daughter is working against him, and when she refuses to give them up he has false news reports created, accusing the singers of sexually assaulting minors. Meanwhile, more pop stars are rounded up by the authorities who are now aided by another singer, Ju Yeong-hun, who decides to betray his friends in order to save himself. Angered by their tarnished reputations, Jang-hoon and Kyung-min acquire a gun from a shady weapons dealer, and with Min-ji's help they are able to take the Chief Secretary and his staff hostage. They take their captives to the park, where Min-ji has organized a mass demonstration with her friends and other music fans. The army arrive on the scene and engage the demonstrators in conflict, finally capturing Jang-hoon and Kyung-min. The Chief Secretary is able to walk free in all the chaos, but he is appalled by the violence and orders the fighting to stop, convincing the President to repeal the emergency act and restoring peace. \n",
            "\n",
            "Place: 3\n",
            "ID:  4024\n",
            "Title:  Backdancers!\n",
            "Categories:  \"Japanese Movies\"\n",
            "Summary:\n",
            " The lead singer of a famous pop group announces a shock walkout that leaves the four background dancers behind. The four set up their own group: \"Backdancers!.\" \n",
            "\n"
          ]
        }
      ]
    },
    {
      "cell_type": "markdown",
      "metadata": {
        "id": "i-fHLdSirudi"
      },
      "source": [
        "Πια και η 3η ταινία έχει σχετικό περιεχόμενο."
      ]
    },
    {
      "cell_type": "markdown",
      "metadata": {
        "id": "lNPaTP6dtugW"
      },
      "source": [
        "Αντίθετα υπάρχουν περιπτώσεις όπου αυτή η τακτική δημιουργεί πρόβλημα:"
      ]
    },
    {
      "cell_type": "code",
      "metadata": {
        "id": "7oBf_7Zitluf",
        "outputId": "ee9517a0-0f7f-483f-b2e8-b85dfadb4c00",
        "colab": {
          "base_uri": "https://localhost:8080/"
        }
      },
      "source": [
        "corpus_tf_idf = tf_idf(1.0, 2, names)"
      ],
      "execution_count": null,
      "outputs": [
        {
          "output_type": "stream",
          "name": "stderr",
          "text": [
            "/usr/local/lib/python3.7/dist-packages/sklearn/feature_extraction/text.py:401: UserWarning: Your stop_words may be inconsistent with your preprocessing. Tokenizing the stop words generated tokens ['luc', 'mar', 'zsa'] not in stop_words.\n",
            "  % sorted(inconsistent)\n"
          ]
        },
        {
          "output_type": "stream",
          "name": "stdout",
          "text": [
            "Dimensions:  (5000, 22761) \n",
            "\n"
          ]
        }
      ]
    },
    {
      "cell_type": "code",
      "metadata": {
        "id": "DES1a1cjtm0_",
        "outputId": "e12024ee-976f-463e-ae04-2622616c0552",
        "colab": {
          "base_uri": "https://localhost:8080/"
        }
      },
      "source": [
        "content_recommender(95, 3)"
      ],
      "execution_count": null,
      "outputs": [
        {
          "output_type": "stream",
          "name": "stdout",
          "text": [
            "ID:  95\n",
            "Title:  Missing in Action 2: The Beginning\n",
            "Categories:  \"Action\",  \"Adventure\",  \"Escape Film\"\n",
            "Summary:\n",
            " Ten years before freeing American POWs from a brutal General, Colonel James Braddock  was held in a North Vietnamese POW camp run by sadistic Colonel Yin , who forces the POWs to grow opium for a French drug runner named Francois , and tries to get Braddock to admit to and sign a long list of war crimes. During his team's time in captivity, they are relentlessly subjected to various forms of humiliating torture, and Braddock being told that his wife has left him and has remarried. One of Braddock's comrades starts to suffer with malaria, and is injected with what they are told to be antibiotics. They later find out that he was in fact injected with a lethal dose of opium instead. Braddock must escape and rescue his fellow prisoners from Yin. \n",
            "\n",
            "Place: 1\n",
            "ID:  988\n",
            "Title:  The Great Raid\n",
            "Categories:  \"Action\",  \"Drama\",  \"War film\"\n",
            "Summary:\n",
            " In 1944, American forces were closing in on the Japanese-occupied Philippines. The Japanese held around 500 American prisoners who had survived the Bataan Death March in a notorious POW camp at Cabanatuan and subjected them to harsh treatment; many prisoners were also stricken with malaria. The film opens with the massacre of prisoners of war on Palawan by the Kempeitai, the Imperial Japanese military's secret police . Meanwhile at Lingayen Gulf, the 6th Ranger Battalion under Lt. Col Mucci is ordered by Lt. Gen. Walter Krueger to liberate all of the POWs at Cabanatuan prison camp before they are killed by the Japanese. The film chronicles the efforts of the Rangers, Alamo Scouts from the 6th Army and Filipino guerrillas as they undertake the Raid at Cabanatuan. Throughout the film, the viewpoint switches between the POWs at Cabanatuan, the Rangers, the Filipino resistance and the Japanese. In particular, the film covers the resistance work undertaken by nurse Margaret Utinsky, who smuggled medicine into the POW camps. The Kempeitai arrested her and sent her to Fort Santiago prison. She was eventually released, but spent six weeks recovering from gangrene as a result of injuries sustained from beatings. \n",
            "\n",
            "Place: 2\n",
            "ID:  1963\n",
            "Title:  Bandits from Shantung\n",
            "Categories:  \"Wuxia\",  \"Chinese Movies\"\n",
            "Summary:\n",
            " Knight Yin comes to visit his fiancee Tik but finds her house has been completely deserted. Suspecting it was the work of the henchmen of Ong, a bandit chief in the area of the Green Dragon Association he kills his henchman One-legged Wolf in the ensuing fight although Ma escapes. Yin contacts a friend from the town, Suen and arranges a valuable consignment to lure Ong's men in as bait and to eventually lead him to the kidnapped Tik. During the collection by Ong's henchmen, Yin is able to recover his fiance but not without cost. Back at his lair, Ong discovers that the \"valuable\" consignment is a fake and he has been double-crossed, particularly as his hostage has escaped during the process. Seriously angry, he dispatches his henchmen leading to a final violent showdown with Yin and his friends. \n",
            "\n",
            "Place: 3\n",
            "ID:  4041\n",
            "Title:  Summer of My German Soldier\n",
            "Categories:  \"Romance Film\",  \"Drama\"\n",
            "Summary:\n",
            " 13 year old Patty Bergen lives in Jenkinsville, Arkansas, during World War II. Patty's family owns the local clothing and general supplies store, in which Patty occasionally works. Patty's abusive father and uncaring mother have little time for her, instead favoring her younger sister Sharon. However, Patty does have a friend in the family's black, middle-aged housekeeper, Ruth. The U.S. government opens a prisoner-of-war  camp for captured German soldiers in the town, and one day Patty meets one of the POWs: Anton Friedrich Reiker  when the POWs are allowed to buy supplies from her family's store. Soon after, Anton escapes from the POW camp and is on the run. He is about to escape on a train when Patty sees him and scuppers his plans. Rather than inform the authorities, Patty hides the young soldier in some abandoned rooms above the family's disused garage and brings him food. The two become close friends, Anton showing Patty a warmth and respect that she never had from her cold family. Anton nearly gets exposed when he sees Patty's father beating her one day and nobly runs out of hiding to protect her, but she shouts for him to go back before he is seen. However, Ruth sees Anton. She does not approve but agrees to keep Patty's secret and helps by giving Anton food. Before long, the FBI begin conducting a thorough search of the town looking for Anton. When they call at the Bergens' home, Patty runs out to the garage to warn Anton that he must leave immediately or he will be caught. Anton flees from the garage after thanking Patty for her help and gives her a valuable ring that belonged to his grandfather. However, whilst trying to leave town that night, the FBI find Anton and he is shot dead trying to escape. Patty is virtually disowned by her father, who tells her that she is dead to him, and by all of the townsfolk, who view her as a traitor for aiding a German prisoner. The only person who still talks to her is Ruth, who has now been fired from her job as housekeeper, and who tries to comfort Patty in her grief. Ruth tells the townsfolk to leave Patty alone as only God has the right to stand in judgment of her. \n",
            "\n"
          ]
        }
      ]
    },
    {
      "cell_type": "markdown",
      "metadata": {
        "id": "2zHYUuQmvmvE"
      },
      "source": [
        "Η ταινία αφορά 2 αδελφές, την Πένυ και την Μαίρη και τις δυσκολίες που περνάνε.<br>\n",
        "Η 1η ταινία είναι μυστηρίου. Η 2η είναι δραματική, όπως και η πρώτη, αλλά και κωμωδία και η 3η έχει κάποιες ομοιότητες με την ταινία στόχο, αλλά έχει πιο ρομαντικό χαρακτήρα."
      ]
    },
    {
      "cell_type": "code",
      "metadata": {
        "id": "585E5WvhvbI7",
        "outputId": "e038695c-e938-415d-c6fc-0834fd7a0f77",
        "colab": {
          "base_uri": "https://localhost:8080/"
        }
      },
      "source": [
        "corpus_tf_idf = tf_idf(1.0, 5, names)"
      ],
      "execution_count": null,
      "outputs": [
        {
          "output_type": "stream",
          "name": "stderr",
          "text": [
            "/usr/local/lib/python3.7/dist-packages/sklearn/feature_extraction/text.py:401: UserWarning: Your stop_words may be inconsistent with your preprocessing. Tokenizing the stop words generated tokens ['luc', 'mar', 'zsa'] not in stop_words.\n",
            "  % sorted(inconsistent)\n"
          ]
        },
        {
          "output_type": "stream",
          "name": "stdout",
          "text": [
            "Dimensions:  (5000, 12032) \n",
            "\n"
          ]
        }
      ]
    },
    {
      "cell_type": "code",
      "metadata": {
        "id": "GYLODMUfvgoB",
        "outputId": "10103c7d-6719-4044-db28-4fe66d769148",
        "colab": {
          "base_uri": "https://localhost:8080/"
        }
      },
      "source": [
        "content_recommender(95, 3)"
      ],
      "execution_count": null,
      "outputs": [
        {
          "output_type": "stream",
          "name": "stdout",
          "text": [
            "ID:  95\n",
            "Title:  Missing in Action 2: The Beginning\n",
            "Categories:  \"Action\",  \"Adventure\",  \"Escape Film\"\n",
            "Summary:\n",
            " Ten years before freeing American POWs from a brutal General, Colonel James Braddock  was held in a North Vietnamese POW camp run by sadistic Colonel Yin , who forces the POWs to grow opium for a French drug runner named Francois , and tries to get Braddock to admit to and sign a long list of war crimes. During his team's time in captivity, they are relentlessly subjected to various forms of humiliating torture, and Braddock being told that his wife has left him and has remarried. One of Braddock's comrades starts to suffer with malaria, and is injected with what they are told to be antibiotics. They later find out that he was in fact injected with a lethal dose of opium instead. Braddock must escape and rescue his fellow prisoners from Yin. \n",
            "\n",
            "Place: 1\n",
            "ID:  988\n",
            "Title:  The Great Raid\n",
            "Categories:  \"Action\",  \"Drama\",  \"War film\"\n",
            "Summary:\n",
            " In 1944, American forces were closing in on the Japanese-occupied Philippines. The Japanese held around 500 American prisoners who had survived the Bataan Death March in a notorious POW camp at Cabanatuan and subjected them to harsh treatment; many prisoners were also stricken with malaria. The film opens with the massacre of prisoners of war on Palawan by the Kempeitai, the Imperial Japanese military's secret police . Meanwhile at Lingayen Gulf, the 6th Ranger Battalion under Lt. Col Mucci is ordered by Lt. Gen. Walter Krueger to liberate all of the POWs at Cabanatuan prison camp before they are killed by the Japanese. The film chronicles the efforts of the Rangers, Alamo Scouts from the 6th Army and Filipino guerrillas as they undertake the Raid at Cabanatuan. Throughout the film, the viewpoint switches between the POWs at Cabanatuan, the Rangers, the Filipino resistance and the Japanese. In particular, the film covers the resistance work undertaken by nurse Margaret Utinsky, who smuggled medicine into the POW camps. The Kempeitai arrested her and sent her to Fort Santiago prison. She was eventually released, but spent six weeks recovering from gangrene as a result of injuries sustained from beatings. \n",
            "\n",
            "Place: 2\n",
            "ID:  1963\n",
            "Title:  Bandits from Shantung\n",
            "Categories:  \"Wuxia\",  \"Chinese Movies\"\n",
            "Summary:\n",
            " Knight Yin comes to visit his fiancee Tik but finds her house has been completely deserted. Suspecting it was the work of the henchmen of Ong, a bandit chief in the area of the Green Dragon Association he kills his henchman One-legged Wolf in the ensuing fight although Ma escapes. Yin contacts a friend from the town, Suen and arranges a valuable consignment to lure Ong's men in as bait and to eventually lead him to the kidnapped Tik. During the collection by Ong's henchmen, Yin is able to recover his fiance but not without cost. Back at his lair, Ong discovers that the \"valuable\" consignment is a fake and he has been double-crossed, particularly as his hostage has escaped during the process. Seriously angry, he dispatches his henchmen leading to a final violent showdown with Yin and his friends. \n",
            "\n",
            "Place: 3\n",
            "ID:  4404\n",
            "Title:  A Chinese Ghost Story\n",
            "Categories:  \"Fantasy Adventure\",  \"Horror\",  \"World cinema\",  \"Chinese Movies\",  \"Action/Adventure\",  \"Martial Arts Film\",  \"Fantasy\",  \"Comedy\",  \"Romance Film\",  \"Action\",  \"Romantic fantasy\"\n",
            "Summary:\n",
            " Ning Choi-san is a timid debt collector whose job requires him to travel to rural areas. He arrives at a town but is forced to seek shelter in a deserted temple in the forest on the outskirts because he did not have money to afford lodging at the town. That night in the temple, Ning meets a beautiful and alluring young maiden called Nip Siu-sin and falls in love with her. However, when he later recalls last night's events the next day, he becomes increasingly fearful and superstitious because a Taoist told him that the people he saw at the temple were ghosts. That night, he returns to the temple to spend his night there and confirms his theory that Nip is actually a spirit. Nip tells him her story of how she became eternally bound to the servitude of a sinister Tree Demoness. She explains that as long as her remains are buried at the foot of the tree, her spirit will be forever enslaved by Tree Demoness. Ning attempts to free her from her suffering. He seeks the help of a powerful Taoist priest and master swordsman called Yin Chik-ha, who he met earlier. Yin battles the Tree Demoness and attempts to free Nip's soul but fails. Nip's soul is taken to the Underworld for betraying her master. Ning is unwilling to give up on Nip and insists that Yin helps him. Yin manages to open a temporary portal to the Underworld. Ning and Yin enter the Underworld and attempt to free Nip's soul from suffering. They are unable to find her in the midst of thousands of other spirits. Eventually, Ning and Nip are able to see each other briefly near dawn when they come back from the Underworld after the fight. Sunlight shines on the urn containing Nip's cremated remains, but Nip cannot be exposed to sunlight or her soul will disintegrate. Ning holds on to a curtain to shield the urn from sunlight as he has a final conversation with Nip. Nip tells Ning that the only way to save her soul is to place her remains to rest at another more auspicious burial site before she returns to the darkness. Ning follows her instructions and with Yin's advice, Ning buries Nip's remains near the crest of a hill. He burns a joss stick for her and prays for her soul while Yin watches solemnly behind him. \n",
            "\n"
          ]
        }
      ]
    },
    {
      "cell_type": "markdown",
      "metadata": {
        "id": "lkjxOSd7vuiw"
      },
      "source": [
        "Αφαιρούνται οι πιο σχετικές 2η και 3η επιλογή και προστίθενται στην 1η και 3η θέση ταινίες, με την 3η να μην είναι καθόλου σχετική."
      ]
    },
    {
      "cell_type": "markdown",
      "metadata": {
        "id": "ocvwKuCb2cZX"
      },
      "source": [
        "Συνεχίσαμε τις δοκιμές και καταλήξαμε κοντά σε μία τιμή 5-6 στο min-df, στην οποία παίρναμε καλά αποτελέσματα, χωρίς να χαλάνε τα αποτελέσματα. "
      ]
    },
    {
      "cell_type": "markdown",
      "metadata": {
        "id": "au_-VPTpr72F"
      },
      "source": [
        "Για να επιβεβαιώσουμε την σωστή τιμή του min_df, η οποία επηρεάζει τη διαστατικότητα του πίνακα και άρα και το χρόνο εκπαίδευσης εκτυπώνουμε τα μεγέθη των λιστών που δίνει η συνάρτηση similar_movies που φτιάξαμε, συναρτήσει της min_df, για αριθμό κοινών ειδών μεταξύ των ταινιών 2 και 3."
      ]
    },
    {
      "cell_type": "code",
      "metadata": {
        "id": "ctEO1gfl28or",
        "outputId": "a3b625cd-4651-43a3-c720-f38e9c09c573",
        "colab": {
          "base_uri": "https://localhost:8080/",
          "height": 977
        }
      },
      "source": [
        "import matplotlib.pyplot as plt\n",
        "\n",
        "length_2 = []\n",
        "length_3 = []\n",
        "min_dfs = [1,2,3,4,5,6,7,8,9,10]\n",
        "for min_df in min_dfs:\n",
        "  corpus_tf_idf = tf_idf(1.0, min_df, names)\n",
        "  temp = []\n",
        "  length_2.append(len(similar_movies(2)))\n",
        "  length_3.append(len(similar_movies(3)))\n",
        "  \n",
        "\n",
        "plt.plot(min_dfs, length_2)\n",
        "plt.plot(min_dfs, length_3)\n",
        "plt.xlabel('min_df')\n",
        "plt.ylabel('Number of Similar Movies')\n",
        "plt.title('Recommendations Quality to min_df')\n",
        "plt.legend(['2 same genres', '3 same genres'], loc='center right')\n",
        "plt.show()"
      ],
      "execution_count": null,
      "outputs": [
        {
          "output_type": "stream",
          "name": "stderr",
          "text": [
            "/usr/local/lib/python3.7/dist-packages/sklearn/feature_extraction/text.py:401: UserWarning: Your stop_words may be inconsistent with your preprocessing. Tokenizing the stop words generated tokens ['luc', 'mar', 'zsa'] not in stop_words.\n",
            "  % sorted(inconsistent)\n"
          ]
        },
        {
          "output_type": "stream",
          "name": "stdout",
          "text": [
            "Dimensions:  (5000, 45559) \n",
            "\n"
          ]
        },
        {
          "output_type": "stream",
          "name": "stderr",
          "text": [
            "/usr/local/lib/python3.7/dist-packages/sklearn/feature_extraction/text.py:401: UserWarning: Your stop_words may be inconsistent with your preprocessing. Tokenizing the stop words generated tokens ['luc', 'mar', 'zsa'] not in stop_words.\n",
            "  % sorted(inconsistent)\n"
          ]
        },
        {
          "output_type": "stream",
          "name": "stdout",
          "text": [
            "Dimensions:  (5000, 22761) \n",
            "\n"
          ]
        },
        {
          "output_type": "stream",
          "name": "stderr",
          "text": [
            "/usr/local/lib/python3.7/dist-packages/sklearn/feature_extraction/text.py:401: UserWarning: Your stop_words may be inconsistent with your preprocessing. Tokenizing the stop words generated tokens ['luc', 'mar', 'zsa'] not in stop_words.\n",
            "  % sorted(inconsistent)\n"
          ]
        },
        {
          "output_type": "stream",
          "name": "stdout",
          "text": [
            "Dimensions:  (5000, 16968) \n",
            "\n"
          ]
        },
        {
          "output_type": "stream",
          "name": "stderr",
          "text": [
            "/usr/local/lib/python3.7/dist-packages/sklearn/feature_extraction/text.py:401: UserWarning: Your stop_words may be inconsistent with your preprocessing. Tokenizing the stop words generated tokens ['luc', 'mar', 'zsa'] not in stop_words.\n",
            "  % sorted(inconsistent)\n"
          ]
        },
        {
          "output_type": "stream",
          "name": "stdout",
          "text": [
            "Dimensions:  (5000, 13961) \n",
            "\n"
          ]
        },
        {
          "output_type": "stream",
          "name": "stderr",
          "text": [
            "/usr/local/lib/python3.7/dist-packages/sklearn/feature_extraction/text.py:401: UserWarning: Your stop_words may be inconsistent with your preprocessing. Tokenizing the stop words generated tokens ['luc', 'mar', 'zsa'] not in stop_words.\n",
            "  % sorted(inconsistent)\n"
          ]
        },
        {
          "output_type": "stream",
          "name": "stdout",
          "text": [
            "Dimensions:  (5000, 12032) \n",
            "\n"
          ]
        },
        {
          "output_type": "stream",
          "name": "stderr",
          "text": [
            "/usr/local/lib/python3.7/dist-packages/sklearn/feature_extraction/text.py:401: UserWarning: Your stop_words may be inconsistent with your preprocessing. Tokenizing the stop words generated tokens ['luc', 'mar', 'zsa'] not in stop_words.\n",
            "  % sorted(inconsistent)\n"
          ]
        },
        {
          "output_type": "stream",
          "name": "stdout",
          "text": [
            "Dimensions:  (5000, 10673) \n",
            "\n"
          ]
        },
        {
          "output_type": "stream",
          "name": "stderr",
          "text": [
            "/usr/local/lib/python3.7/dist-packages/sklearn/feature_extraction/text.py:401: UserWarning: Your stop_words may be inconsistent with your preprocessing. Tokenizing the stop words generated tokens ['luc', 'mar', 'zsa'] not in stop_words.\n",
            "  % sorted(inconsistent)\n"
          ]
        },
        {
          "output_type": "stream",
          "name": "stdout",
          "text": [
            "Dimensions:  (5000, 9653) \n",
            "\n"
          ]
        },
        {
          "output_type": "stream",
          "name": "stderr",
          "text": [
            "/usr/local/lib/python3.7/dist-packages/sklearn/feature_extraction/text.py:401: UserWarning: Your stop_words may be inconsistent with your preprocessing. Tokenizing the stop words generated tokens ['luc', 'mar', 'zsa'] not in stop_words.\n",
            "  % sorted(inconsistent)\n"
          ]
        },
        {
          "output_type": "stream",
          "name": "stdout",
          "text": [
            "Dimensions:  (5000, 8792) \n",
            "\n"
          ]
        },
        {
          "output_type": "stream",
          "name": "stderr",
          "text": [
            "/usr/local/lib/python3.7/dist-packages/sklearn/feature_extraction/text.py:401: UserWarning: Your stop_words may be inconsistent with your preprocessing. Tokenizing the stop words generated tokens ['luc', 'mar', 'zsa'] not in stop_words.\n",
            "  % sorted(inconsistent)\n"
          ]
        },
        {
          "output_type": "stream",
          "name": "stdout",
          "text": [
            "Dimensions:  (5000, 8111) \n",
            "\n"
          ]
        },
        {
          "output_type": "stream",
          "name": "stderr",
          "text": [
            "/usr/local/lib/python3.7/dist-packages/sklearn/feature_extraction/text.py:401: UserWarning: Your stop_words may be inconsistent with your preprocessing. Tokenizing the stop words generated tokens ['luc', 'mar', 'zsa'] not in stop_words.\n",
            "  % sorted(inconsistent)\n"
          ]
        },
        {
          "output_type": "stream",
          "name": "stdout",
          "text": [
            "Dimensions:  (5000, 7551) \n",
            "\n"
          ]
        },
        {
          "output_type": "display_data",
          "data": {
            "image/png": "[encoded data removed]",
            "text/plain": [
              "<Figure size 432x288 with 1 Axes>"
            ]
          },
          "metadata": {
            "needs_background": "light"
          }
        }
      ]
    },
    {
      "cell_type": "code",
      "metadata": {
        "id": "R2sllZkaLS8B",
        "outputId": "3e2cec40-751c-455e-a92c-365ab3a1c7f1",
        "colab": {
          "base_uri": "https://localhost:8080/"
        }
      },
      "source": [
        "print(length_2)\n",
        "print(length_3)"
      ],
      "execution_count": null,
      "outputs": [
        {
          "output_type": "stream",
          "name": "stdout",
          "text": [
            "[112, 117, 115, 128, 130, 117, 120, 122, 131, 121]\n",
            "[41, 38, 40, 42, 37, 31, 33, 34, 38, 34]\n"
          ]
        }
      ]
    },
    {
      "cell_type": "markdown",
      "metadata": {
        "id": "t8B5tZxMGOkj"
      },
      "source": [
        "Παρατηρούμε γενικά μείωση της ποιότητας των επιλογών με την αύξηση του min_df, με μία μικρή αύξηση όμως στις τιμές για count = 2 και min_df μεταξύ 4 και 8. Για count = 3 παρατηρείται μείωση της ποιότητας. Έτσι οι παρατηρήσεις μας επιβεβαιώνονται.\n",
        "\n",
        "Συνεπώς θεωρούμε μια μέση καλή επιλογή την min_df = 6, η οποία διατηρεί την ποιότητα και μειώνει τη διαστατικότητα στις 10549 από τις 45254, δηλαδή μείωση κατά 76.7%."
      ]
    },
    {
      "cell_type": "markdown",
      "metadata": {
        "id": "kgM01dbYiVKN"
      },
      "source": [
        "### 10 Πετυχημένες Επιλογές"
      ]
    },
    {
      "cell_type": "code",
      "metadata": {
        "id": "bO4pVLGQM9YE",
        "outputId": "fbf2fce0-9108-4955-939b-ebdce35ad2ec",
        "colab": {
          "base_uri": "https://localhost:8080/"
        }
      },
      "source": [
        "corpus_tf_idf = tf_idf(1.0, 6, names)"
      ],
      "execution_count": null,
      "outputs": [
        {
          "output_type": "stream",
          "name": "stderr",
          "text": [
            "/usr/local/lib/python3.7/dist-packages/sklearn/feature_extraction/text.py:401: UserWarning: Your stop_words may be inconsistent with your preprocessing. Tokenizing the stop words generated tokens ['luc', 'mar', 'zsa'] not in stop_words.\n",
            "  % sorted(inconsistent)\n"
          ]
        },
        {
          "output_type": "stream",
          "name": "stdout",
          "text": [
            "Dimensions:  (5000, 10673) \n",
            "\n"
          ]
        }
      ]
    },
    {
      "cell_type": "markdown",
      "metadata": {
        "id": "26Vw9G5oR9bH"
      },
      "source": [
        "1.Οι ταινίες αφορούν τους Stooges, 3 άντρες, οι οποίοι ξεκινώντας σε κάθε ταινία από διαφορετικό εργασιακό backround καταφέρνουν να μπλεχθούν σε αστείες ιστορίες."
      ]
    },
    {
      "cell_type": "code",
      "metadata": {
        "id": "QrEJlvlON8OU",
        "outputId": "300e5958-f0e8-4222-91ba-0f0a882b112c",
        "colab": {
          "base_uri": "https://localhost:8080/"
        }
      },
      "source": [
        "content_recommender(12, 6)"
      ],
      "execution_count": null,
      "outputs": [
        {
          "output_type": "stream",
          "name": "stdout",
          "text": [
            "ID:  12\n",
            "Title:  Fire Sale\n",
            "Categories:  \"Comedy\",  \"Absurdism\"\n",
            "Summary:\n",
            " Benny Fikus decides to cash in on his business' fire insurance by committing arson. Benny plans to have Sherman, who is in a mental hospital believing that World War II is still being fought, escape and burn down Benny's failing clothing store which he has made Sherman believe is a Nazi military headquarters. During a vacation trip with Marion, Benny has a heart attack, and his sons Ezra and Russel take over the store. The low self-esteemed Russell wants to expand the store and marry his girlfriend, while Ezra needs money to adopt an orphaned 6'8\" African-American teenage boy named Booker T . Ezra needs Booker T. to play on the high-school basketball team he coaches because he has won a total of two games in seven years as a coach and is in danger of losing his job. Russell discovers that his father is bankrupt, with his only asset being the surrender value on the store's fire insurance policy. Russell cashes in the policy and splits it with Ezra, using the money to buy more stock. Back at home, Benny is practically comatose after his heart attack. An \"in denial\" Marion is told by house painters helping with a home redecoration project that her husband is \"very sick\" which she interprets as Benny being already dead. She then decides to change redecoration plans to prepare for funeral services. Meanwhile, Sherman has escaped and is on his way to burn down the \"Nazi Headquarters\" . Benny recovers from his heart attack, and informs Russell that Sherman is on his way to burn down the store so they can collect the fire insurance that they no longer have. Hilarity ensues as Ezra has his wife run his basketball team while he and Russell attempt to stop Sherman from his quest to fight the Huns by any means necessary. \n",
            "\n",
            "Place: 1\n",
            "ID:  4912\n",
            "Title:  Alias Jesse James\n",
            "Categories:  \"Action/Adventure\",  \"Western\",  \"Screwball comedy\",  \"Comedy\",  \"Comedy Western\"\n",
            "Summary:\n",
            " Milford Farnsworth  is a bumbling insurance agent who unknowingly sells a life insurance policy to the outlaw Jesse James . Farnsworth is sent out West to protect the insurance company's investment by \"protecting\" James. James has his own plans to have Farnsworth killed while dressed as the outlaw, so that he and his soon to be \"widow\" Cora Lee Collins  can collect on the $100,000 insurance policy. Farnsworth avoids several attempts on his life while he and Collins fall in love with each other. After the last attempt is made on his life, Farnsworth impersonates the justice of the peace who is supposed to marry James and Collins. When Farnsworth and Collins make a run for it, they end up in a gun battle with the James Gang where several Western heroes make their cameos to surreptitiously help Farnsworth. In the end Farnsworth is victorious, marries Collins, and becomes president of the insurance company. \n",
            "\n",
            "Place: 2\n",
            "ID:  2335\n",
            "Title:  Mademoiselle Mozart\n",
            "Categories:  \"Comedy-drama\"\n",
            "Summary:\n",
            " A man falls in love with the pretty manager of a store of music instruments, whose business work is badly. He is going to re-float the store to conquer her heart. \n",
            "\n",
            "Place: 3\n",
            "ID:  3238\n",
            "Title:  The Man Who Would Not Die\n",
            "Categories:  \"Short Film\",  \"Silent film\",  \"Drama\",  \"Indie\",  \"Black-and-white\"\n",
            "Summary:\n",
            " A wealthy young woman, Agnes , is loved by the identical twin brothers Clyde and Ward Kingsley . She marries Clyde and he immediately begins squandering her fortune. When the money is almost gone, Clyde comes up with a plan to collect on his life insurance policy. As his brother, Ward, who still loves Agnes, is terminally ill, he persuades him to take his place so the insurance company will believe that Clyde has died instead of Ward. Agnes learns of the plan and is angry. She nurses Ward back to health and falls in love with him during his convalescence. Clyde then hires Steve Mercer  and Beth Taylor  to murder his brother. He gets impatient, however, and shoots Ward himself. When Clyde goes to tell Steve and Beth that their help is no longer needed, they mistake him for Ward and murder him. Ward recovers once again and he and Agnes are married. \n",
            "\n",
            "Place: 4\n",
            "ID:  2238\n",
            "Title:  Killer Joe\n",
            "Categories:  \"Crime Fiction\",  \"Thriller\",  \"Erotic thriller\",  \"Comedy film\",  \"Cult\",  \"Mystery\",  \"Drama\",  \"Comedy\",  \"Black comedy\"\n",
            "Summary:\n",
            " Finding himself in considerable debt, Chris Smith, a Texan drug dealer, decides the only solution is to murder his mother to collect the insurance money. Conspiring with his father, Ansel, the ex-husband of Chris' mother, they decide to hire \"Killer Joe\" Cooper, a police detective who has a parallel career as a contract killer. They plan to give the money to Chris' sister Dottie, who Chris thinks is the beneficiary of the mother's life insurance policy. Chris is unable to front Killer Joe's fee. However, Chris agrees that Joe can take Dottie as a retainer until the insurance comes through. Acting upon the retainer, Killer Joe carries out the contract on Chris' mother. After the killing, it is discovered that Rex, her boyfriend, provided false information about the life insurance policy and that he is the actual beneficiary. Also, Chris' step-mother, Sharla, who is also involved with Rex, pushed Chris into hiring Killer Joe. When he discovers this, Killer Joe confronts Rex, kills him, and recovers the insurance check. Chris, knowing that he will be Killer Joe's next target, quickly makes plans to escape to Peru with Dottie. In the final scene, Killer Joe arrives at the Chris' trailer and violently confronts Sharla, forcing her to admit that she and Rex conspired against Chris and left him at the mercy of Killer Joe. Since the family is unable to pay his fee, Killer Joe intends to take Dottie as agreed. When Chris arrives and threatens Killer Joe with a gun, the two struggle. In the subsequent confusion, Dottie recovers the gun and shoots Chris, killing him and mortally wounding their father. Dottie turns the gun on Killer Joe, telling him that she is pregnant. Killer Joe feigns enthusiasm as he inches closer to Dottie. The film ends as Dottie moves her finger back on the trigger. \n",
            "\n",
            "Place: 5\n",
            "ID:  4492\n",
            "Title:  Assignment to Kill\n",
            "Categories:  \"Crime Fiction\",  \"Drama\"\n",
            "Summary:\n",
            " A private detective is hired by an insurance company to investigate a shipping tycoon who is suspected of deliberately sinking his own ships in order to claim the insurance money. \n",
            "\n",
            "Place: 6\n",
            "ID:  997\n",
            "Title:  Peggy Leads the Way\n",
            "Categories:  \"Silent film\",  \"Black-and-white\"\n",
            "Summary:\n",
            " Peggy Manners has just finished finishing school and returns home. She has always thought her father was a great and wealthy store owner, but finds out he is a grocery store owner who isn't making any profit. She tries to make a change and falls in love with the son of the wealthy Roland Gardiner.The New York Times Review summary \n",
            "\n"
          ]
        }
      ]
    },
    {
      "cell_type": "markdown",
      "metadata": {
        "id": "H8mGssPKSB93"
      },
      "source": [
        "2.Όλες οι ταινίες αφορούν σχέσεις παντρεμένων ανθρώπων. Οι λέξεις που κυριαρχούν είναι \"marry\", \"affair\" και \"divorce\"."
      ]
    },
    {
      "cell_type": "code",
      "metadata": {
        "id": "GpCcQ2YZPsVT",
        "outputId": "a426f520-e2a1-4435-b251-52bd1f53b236",
        "colab": {
          "base_uri": "https://localhost:8080/"
        }
      },
      "source": [
        "content_recommender(1547, 5)"
      ],
      "execution_count": null,
      "outputs": [
        {
          "output_type": "stream",
          "name": "stdout",
          "text": [
            "ID:  1547\n",
            "Title:  The War Game\n",
            "Categories:  \"Short Film\",  \"Doomsday film\",  \"Drama\",  \"War film\"\n",
            "Summary:\n",
            " Made in black-and-white with a running time of just under 50 minutes, The War Game depicts the prelude to and the immediate weeks of the aftermath to a Soviet nuclear attack against Britain. A Chinese invasion of South Vietnam starts the war; tensions escalate when the United States authorises tactical nuclear warfare against the Chinese. Although the Soviet and East German forces threaten to invade West Berlin if the U.S. does not withdraw that decision, the U.S. does not acquiesce to Communist demands and occupies West Berlin; two U.S. Army divisions attempt to fight their way into Berlin, but the Russian and East German forces defeat them in battle. The U.S. President launches a pre-emptive, NATO tactical nuclear attack. A limited nuclear war erupts between the West and the East; missiles strike Britain. The chaos of the prelude to the attack, as city residents are forcibly evacuated to the country, leads to the story's centre in Rochester, which is struck by an off-target missile aimed at Gatwick Airport. Key targets in Kent are RAF Manston and the Maidstone barracks, which are mentioned in scenes showing immediate effects of the attack. The results of that missile's explosion are the instant blinding of those who see the explosion, the resultant firestorm caused by the heat wave, and the blast front; later, the collapse of society, because of radiation sickness, psychological damage, and destroyed infrastructure; the British Army burns corpses, while police shoot looters during food riots. \n",
            "\n",
            "Place: 1\n",
            "ID:  2419\n",
            "Title:  Thirteen Days\n",
            "Categories:  \"Thriller\",  \"Historical fiction\",  \"History\",  \"Political thriller\",  \"Epic\",  \"Docudrama\",  \"Period piece\",  \"Drama\",  \"War film\",  \"Political drama\"\n",
            "Summary:\n",
            " In October 1962, U-2 surveillance photos reveal that the Soviet Union is in the process of placing missiles carrying nuclear weapons in Cuba. These weapons have the capability of wiping out most of the Eastern and Southern United States in minutes if they become operational. President John F. Kennedy  and his advisers must come up with a plan of action to prevent their activation. Kennedy is determined to show that the United States will not allow a missile threat in its virtual back yard. The Joint Chiefs of Staff advise immediate U.S. military strikes against the missile sites followed by an invasion of Cuba. However, Kennedy is reluctant to attack and invade because it would very likely cause the Soviets to invade Berlin. Citing The Guns of August, Kennedy sees an analogy to the events that started World War I, where the tactics of both sides commanders had not evolved since the previous war and were obsolete, only this time nuclear weapons are involved. War appears to be almost inevitable. The Kennedy administration tries to find a solution that will remove the missiles but avoid an act of war. They settle on a step less than a blockade, which is formally regarded as an act of war. They settle on what they publicly describe as a quarantine. They announce that the U.S. Naval forces will stop all ships entering Cuban waters and inspect them to verify they are not carrying weapons destined for Cuba. The Soviet Union sends mixed messages in response. John A. Scali, a reporter with ABC News, is contacted by Soviet \"emissary\" Aleksandr Fomin , and through this back-channel communication method the Soviets offer to remove the missiles in exchange for public assurances from the U.S. that it will never invade Cuba. A long message in the same tone as the informal communication from Fomin, apparently written personally by Soviet Premier Nikita Khrushchev, is received. This is followed by a second, more hard line cable in which the Soviets offer a deal involving U.S removal of its Jupiter missiles from Turkey. The Kennedy administration interprets the second as a response from the Politburo, and in a risky act, decides to ignore it and respond to the first message, assumed to be from Khrushchev. There are several mis-steps during the crisis: the defense readiness level of Strategic Air Command  is raised to DEFCON 2 , without informing the President; a nuclear weapon test proceeds  and a routine test launch of a U.S. offensive missile is also carried out without the President's knowledge. After much deliberation with the Executive Committee of the National Security Council, Kennedy secretly agrees to remove all Jupiter missiles from southern Italy and in Turkey, the latter on the border of the Soviet Union, in exchange for Khrushchev removing all missiles in Cuba. Off the shores of Cuba, the Soviet ships turn back from the quarantine lines. Secretary of State Dean Rusk  says, \"We're eyeball to eyeball and I think the other fellow just blinked.\" \n",
            "\n",
            "Place: 2\n",
            "ID:  3638\n",
            "Title:  Meteor\n",
            "Categories:  \"Disaster\",  \"Action/Adventure\",  \"Science Fiction\",  \"Thriller\",  \"Doomsday film\"\n",
            "Summary:\n",
            " After a collision between a comet and an asteroid named Orpheus, a five-mile-wide chunk of Orpheus is set on a collision course with Earth, with devastating results expected on impact. While the United States government and military engage in political maneuvering, other smaller and faster moving fragments rain down on Earth. The United States has a secret orbiting nuclear missile platform satellite named Hercules, which was thought of by Dr. Paul Bradley  of the U.S. It was intended for defense against a massive space rock, but instead, it was demoted to an orbiting super weapon, its missiles now aimed at Russia. However, its fourteen nuclear missile armament is not enough to stop the meteor. The U.S. government discovers the existence of another weapon satellite constructed by the Soviet Union. The President  goes on national television and reveals the existence of Hercules, explaining it as a foresighted project to meet the threat that Orpheus represents. He also offers the Soviets a chance to save face and join in by saying they had the same foresight and have their own satellite weapon. Bradley requests a scientist named Dr. Alexei Dubov  to help him plan a counter-effort against Orpheus. Bradley and Harry Sherwood  from NASA have already arrived at the control center for Hercules, which is located beneath the AT&T Building  in Lower Manhattan. Major-General Adlon  is the commander of the facility. Dubov and his assistant and interpreter Tatiana Donskaya  arrive and Bradley works at breaking the ice of distrust held by Hercules commander Adlon. Since Dubov cannot admit the existence of the Soviet device, he agrees to Bradley's proposal that they work on the \"theoretical\" application of how a \"theoretical\" Soviet space platform's weapons would be coordinated with the American ones. Meanwhile, further fragments of the meteor affect Earth, and the Soviets finally admit that they have the device and are willing to join in the effort. It appears that the satellite has a lot in common with Hercules, it was built with sixteen nuclear missiles for defense against a massive space rock, but it too was demoted to an orbiting super weapon, its missiles now aimed at the United States. The satellite is christened Peter the Great by the joint US-Soviet team working at Hercules control, and both satellites are turned around to aim into space. Unfortunately, smaller fragments and \"splinters\" still continue to strike many places on Earth, some causing great damage, including in Hong Kong, where a fragment hits the ocean and causes a tsunami that devastates the city. On Sunday morning, Peter the Great's missiles are fired off because of its position along the orbit, Herculess missiles are fired 40 minutes later. Just after Herculess missiles are fired off, New York is struck by a large fragment of the meteor, destroying most of the city. Several workers inside the control center are killed when the facility is partially destroyed and the survivors slowly work their way out of the control center by going through the New York subway system, which has become somewhat of a trap due to the East River breaking into the tunnels. Meanwhile, the two sets of guided missiles link up into three waves of mixed nationality, each wave bigger than the last. The Hercules crew reach a subway station filled with other people and wait while others try to dig out. Back in space, the missiles reach the meteor. Two Russian missiles and one U.S. missile have been lost in the journey. The first wave of missiles strikes the space rock, making an explosion. The second wave follows with a bigger explosion. Finally, the third wave hits the meteor making an explosion that fills the screen. When the dust settles, the space rock is nowhere to be seen. Back at New York, the radio stations broadcast news of the result: Orpheus has been either obliterated or shifted to a harmless trajectory. Just then, the subway station occupants are rescued. The scene then switches to an airport some time later, with a Soviet flag and an American flag on an open hangar door. From here, Dubov and Tatiana say goodbye to Bradley and others, then they board a plane with the Soviet star and it takes off for Russia.METEOR \n",
            "\n",
            "Place: 3\n",
            "ID:  4653\n",
            "Title:  6 Angels\n",
            "Categories:  \"Anime\"\n",
            "Summary:\n",
            " The movie is set in the near-future in a large underground prison at a former nuclear test site in Utah known as Neo Purgatory, where the characters of Maki , Naomi , Doris , Marilyn , and Katherine  make up an all-female mercenary outfit called the \"Guard of Rose\" and acting as a guard patrol. The prisoners, many of whom are mutated by the ambient radiation, are left to their own devices, but a criminal known as Donn Canyon  and his family take control of the prison and declare war upon the world by gaining control of the American orbital nuclear missile platform and vowing the \"purify the world with radiation\" in a nuclear holocaust. After an abortive attempt by the United States and Soviet militaries to assault the prison, the Guard of Rose is tasked with infiltrating and defeating the Canyon family to preserve global peace. \n",
            "\n",
            "Place: 4\n",
            "ID:  1709\n",
            "Title:  Sayahnam\n",
            "Categories:  \"Drama\"\n",
            "Summary:\n",
            " An old man K.K. Madhavan noted for his thinking and stance on social issues is proud of his scientist son Siddharthan but upset about the country's involvement in nuclear tests. He continues his crusade against nuclear weapons but together with his loyal wife Bharathi finds himself increasingly isolated as his own son, his party and the country celebrate the nuclear advances made in India. \n",
            "\n",
            "Place: 5\n",
            "ID:  401\n",
            "Title:  Defence of the Realm\n",
            "Categories:  \"Thriller\",  \"Crime Thriller\",  \"Suspense\",  \"Political thriller\"\n",
            "Summary:\n",
            " Following a crash of a nuclear bomber at an American Air Force base in the English countryside, Dennis Markham , a prominent Member of Parliament and opponent of the American nuclear presence in the United Kingdom, is reported by a London paper to have been seen leaving a woman's home. When the woman is found to also be familiar with a dignitary from East Germany, his loyalty to his country is questioned, he is hounded by the media and is forced to resign. The author of the newspaper exposé, Nick Mullen , continues his work with colleague Vernon Bayliss  who suspects that Markham is being framed for his views. When Vernon dies from a mysterious 'heart attack', Mullen suspects something deeper at work and finds evidence of a complex cover up concerning a near nuclear accident and a secret US Air Force base. With the help of Markham's secretary, Nina Beckman , Mullen continues to investigate the affair despite the best attempts of the British Government to stop him. \n",
            "\n"
          ]
        }
      ]
    },
    {
      "cell_type": "markdown",
      "metadata": {
        "id": "FnEaqvJVSJBF"
      },
      "source": [
        "3.Και οι 5 ταινίες αφορούν τον κόσμο του εγκλήματος, είτε από την πλευρά των αστυνόμων είτε των δραστών και είτε το έγκλημα πρόκειται για δολοφονία είτε για κλοπή. Οι πρώτη αφορά μάλιστα τον ίδιο ήρωα, ενώ ο εντοπισμός της δεν έγινε μέσω του ονόματος, το οποίο όπως είπαμε έχει εξαιρεθεί, αλλά μέσω της πλοκής."
      ]
    },
    {
      "cell_type": "code",
      "metadata": {
        "id": "6vRf6hu2RtZw",
        "outputId": "171b1a7a-ab7c-49a9-b0c6-658e5c991f4c",
        "colab": {
          "base_uri": "https://localhost:8080/"
        }
      },
      "source": [
        "content_recommender(4814, 5)"
      ],
      "execution_count": null,
      "outputs": [
        {
          "output_type": "stream",
          "name": "stdout",
          "text": [
            "ID:  4814\n",
            "Title:  In My Genes\n",
            "Categories:  \"Drama\",  \"Documentary\"\n",
            "Summary:\n",
            " How does one live as a white person in a dominantly black society? What does one feel being one of the most visible persons and, probably, one of the most ignored? Agnes, an albino woman in Kenya, feels it daily. Ever since she was born, she has had to deal with the prejudices that surround albinos. In My Genes bears witness to the lives of eight people who suffer discrimination due to a simple genetic anomaly. \n",
            "\n",
            "Place: 1\n",
            "ID:  2602\n",
            "Title:  One More Chance\n",
            "Categories:  \"Short Film\",  \"Drama\"\n",
            "Summary:\n",
            " Finding work when you have just got out of prison is hard — especially acting work. Devon, an ex-convict recently released from prison, is trying to take back his life and find a job but has many problems with the prejudices and rejection of the society. Jean-Paul is a French manic depressive who has to deal with the accusations made by his ex-wife. When these two characters met, they become friends and eventually decide to go on a journey in order to help each other solve their problems. \n",
            "\n",
            "Place: 2\n",
            "ID:  3310\n",
            "Title:  The Bad News Bears Go to Japan\n",
            "Categories:  \"Sports\",  \"Family Film\",  \"Japanese Movies\",  \"Comedy\",  \"Baseball\"\n",
            "Summary:\n",
            " Small-time promoter/hustler Marvin Lazar  sees a potential money-making venture in the Bears that will help him to pay off his debts. After seeing a TV spot about the Bears, he decides to chaperone the baseball team for a trip to Japan in their match against the country's best little league baseball team. As implied in Breaking Training, the Bears had to defeat the Houston Toros for a shot at the Japanese champs. In the process, the trip sparks off a series of adventures and mishaps for the boys. A subplot involves Kelly Leak's interest in a local Japanese girl, and the cultural divide that comes to bear in that relationship. About half of the original or \"classic\" lineup of Bears players return . Three new players are featured: E.R.W. Tillyard III, Abe Bernstein and Ahmad's younger brother, Mustapha Rahim. \n",
            "\n",
            "Place: 3\n",
            "ID:  2261\n",
            "Title:  The Brotherhood IV: The Complex\n",
            "Categories:  \"Horror\",  \"Teen\"\n",
            "Summary:\n",
            " A young cadet at a military academy joins its secret society, the \"Black Skulls\". Sent to a strange cave on a nearby beach, he does not survive the ceremony, being attacked by a succubus with lightning powers. The mythical creature then goes after the other members of the society. \n",
            "\n",
            "Place: 4\n",
            "ID:  1002\n",
            "Title:  South of Pico\n",
            "Categories:  \"Drama\",  \"Indie\"\n",
            "Summary:\n",
            " Four strangers witness an unimaginable tragedy and are catapulted into the defining moment of their lives. Set in present day in Los Angeles, a chauffeur, a waitress, a doctor and a young boy each deal with life’s daily challenges, only to find themselves at the scene of an accident the moment it happens. Riding on emotional overload, the balance of life rests in their hands. The film stars Kip Pardue, Gina Torres, Henry Simmons, Christina Hendricks, Jimmy Bennett and Car'ynn Sims. It was shot in Los Angeles and premiered at the American Black Film Festival in October 2007. \n",
            "\n",
            "Place: 5\n",
            "ID:  3747\n",
            "Title:  Losers' Club\n",
            "Categories:  \"Comedy film\",  \"Drama\"\n",
            "Summary:\n",
            " Kaan and Mete, co-hosts of a mid 1990s radio show called Kaybedenler Kulübü , struggle to deal with their daily lives after their show becomes an instant hit. Kaan meets Zeynep, the girl of his dreams, but their relationship comes under pressure as the show continues to stir controversy and attract fans from every segment of Istanbul society. \n",
            "\n"
          ]
        }
      ]
    },
    {
      "cell_type": "markdown",
      "metadata": {
        "id": "clm-lBjQTGLz"
      },
      "source": [
        "4.Οι ταινίες έχουν κυρίως Ιάπωνες χαρακτήρες και σχετίζονται βασικά με τον Ιαπωνικό υπόκοσμο (Yakuza) και με τις διαμάχες που συμβαίνουν σε αυτό το πλαίσιο."
      ]
    },
    {
      "cell_type": "code",
      "metadata": {
        "id": "tBvezNzzVY0U",
        "outputId": "398847b5-0456-4367-f385-c93c506115f4",
        "colab": {
          "base_uri": "https://localhost:8080/"
        }
      },
      "source": [
        "content_recommender(4912, 6)"
      ],
      "execution_count": null,
      "outputs": [
        {
          "output_type": "stream",
          "name": "stdout",
          "text": [
            "ID:  4912\n",
            "Title:  Alias Jesse James\n",
            "Categories:  \"Action/Adventure\",  \"Western\",  \"Screwball comedy\",  \"Comedy\",  \"Comedy Western\"\n",
            "Summary:\n",
            " Milford Farnsworth  is a bumbling insurance agent who unknowingly sells a life insurance policy to the outlaw Jesse James . Farnsworth is sent out West to protect the insurance company's investment by \"protecting\" James. James has his own plans to have Farnsworth killed while dressed as the outlaw, so that he and his soon to be \"widow\" Cora Lee Collins  can collect on the $100,000 insurance policy. Farnsworth avoids several attempts on his life while he and Collins fall in love with each other. After the last attempt is made on his life, Farnsworth impersonates the justice of the peace who is supposed to marry James and Collins. When Farnsworth and Collins make a run for it, they end up in a gun battle with the James Gang where several Western heroes make their cameos to surreptitiously help Farnsworth. In the end Farnsworth is victorious, marries Collins, and becomes president of the insurance company. \n",
            "\n",
            "Place: 1\n",
            "ID:  4492\n",
            "Title:  Assignment to Kill\n",
            "Categories:  \"Crime Fiction\",  \"Drama\"\n",
            "Summary:\n",
            " A private detective is hired by an insurance company to investigate a shipping tycoon who is suspected of deliberately sinking his own ships in order to claim the insurance money. \n",
            "\n",
            "Place: 2\n",
            "ID:  3238\n",
            "Title:  The Man Who Would Not Die\n",
            "Categories:  \"Short Film\",  \"Silent film\",  \"Drama\",  \"Indie\",  \"Black-and-white\"\n",
            "Summary:\n",
            " A wealthy young woman, Agnes , is loved by the identical twin brothers Clyde and Ward Kingsley . She marries Clyde and he immediately begins squandering her fortune. When the money is almost gone, Clyde comes up with a plan to collect on his life insurance policy. As his brother, Ward, who still loves Agnes, is terminally ill, he persuades him to take his place so the insurance company will believe that Clyde has died instead of Ward. Agnes learns of the plan and is angry. She nurses Ward back to health and falls in love with him during his convalescence. Clyde then hires Steve Mercer  and Beth Taylor  to murder his brother. He gets impatient, however, and shoots Ward himself. When Clyde goes to tell Steve and Beth that their help is no longer needed, they mistake him for Ward and murder him. Ward recovers once again and he and Agnes are married. \n",
            "\n",
            "Place: 3\n",
            "ID:  2238\n",
            "Title:  Killer Joe\n",
            "Categories:  \"Crime Fiction\",  \"Thriller\",  \"Erotic thriller\",  \"Comedy film\",  \"Cult\",  \"Mystery\",  \"Drama\",  \"Comedy\",  \"Black comedy\"\n",
            "Summary:\n",
            " Finding himself in considerable debt, Chris Smith, a Texan drug dealer, decides the only solution is to murder his mother to collect the insurance money. Conspiring with his father, Ansel, the ex-husband of Chris' mother, they decide to hire \"Killer Joe\" Cooper, a police detective who has a parallel career as a contract killer. They plan to give the money to Chris' sister Dottie, who Chris thinks is the beneficiary of the mother's life insurance policy. Chris is unable to front Killer Joe's fee. However, Chris agrees that Joe can take Dottie as a retainer until the insurance comes through. Acting upon the retainer, Killer Joe carries out the contract on Chris' mother. After the killing, it is discovered that Rex, her boyfriend, provided false information about the life insurance policy and that he is the actual beneficiary. Also, Chris' step-mother, Sharla, who is also involved with Rex, pushed Chris into hiring Killer Joe. When he discovers this, Killer Joe confronts Rex, kills him, and recovers the insurance check. Chris, knowing that he will be Killer Joe's next target, quickly makes plans to escape to Peru with Dottie. In the final scene, Killer Joe arrives at the Chris' trailer and violently confronts Sharla, forcing her to admit that she and Rex conspired against Chris and left him at the mercy of Killer Joe. Since the family is unable to pay his fee, Killer Joe intends to take Dottie as agreed. When Chris arrives and threatens Killer Joe with a gun, the two struggle. In the subsequent confusion, Dottie recovers the gun and shoots Chris, killing him and mortally wounding their father. Dottie turns the gun on Killer Joe, telling him that she is pregnant. Killer Joe feigns enthusiasm as he inches closer to Dottie. The film ends as Dottie moves her finger back on the trigger. \n",
            "\n",
            "Place: 4\n",
            "ID:  4699\n",
            "Title:  Cosa voglio di più\n",
            "Categories:  \"Romantic drama\",  \"Drama\"\n",
            "Summary:\n",
            " Anna  works in an insurance company and is married to Alessio  who wants to have a baby. She happens to meet Domenico , headwaiter in a restaurant. The two start a passionate relationship, but their personal life gets in between their relationship. \n",
            "\n",
            "Place: 5\n",
            "ID:  12\n",
            "Title:  Fire Sale\n",
            "Categories:  \"Comedy\",  \"Absurdism\"\n",
            "Summary:\n",
            " Benny Fikus decides to cash in on his business' fire insurance by committing arson. Benny plans to have Sherman, who is in a mental hospital believing that World War II is still being fought, escape and burn down Benny's failing clothing store which he has made Sherman believe is a Nazi military headquarters. During a vacation trip with Marion, Benny has a heart attack, and his sons Ezra and Russel take over the store. The low self-esteemed Russell wants to expand the store and marry his girlfriend, while Ezra needs money to adopt an orphaned 6'8\" African-American teenage boy named Booker T . Ezra needs Booker T. to play on the high-school basketball team he coaches because he has won a total of two games in seven years as a coach and is in danger of losing his job. Russell discovers that his father is bankrupt, with his only asset being the surrender value on the store's fire insurance policy. Russell cashes in the policy and splits it with Ezra, using the money to buy more stock. Back at home, Benny is practically comatose after his heart attack. An \"in denial\" Marion is told by house painters helping with a home redecoration project that her husband is \"very sick\" which she interprets as Benny being already dead. She then decides to change redecoration plans to prepare for funeral services. Meanwhile, Sherman has escaped and is on his way to burn down the \"Nazi Headquarters\" . Benny recovers from his heart attack, and informs Russell that Sherman is on his way to burn down the store so they can collect the fire insurance that they no longer have. Hilarity ensues as Ezra has his wife run his basketball team while he and Russell attempt to stop Sherman from his quest to fight the Huns by any means necessary. \n",
            "\n",
            "Place: 6\n",
            "ID:  3583\n",
            "Title:  Don't Fool Me\n",
            "Categories:  \"Chinese Movies\"\n",
            "Summary:\n",
            " Two friends, Hero Hwa  and Chiang Ho-Chie  star are two old friends who meet up in later life. Hwa is a triad gang member and Ho-Chie is an insurance salesman, Hero is looking for a career change and Ho-Chie has become disillusioned with life after discovering he has a \"bubble\" in his brain that could burst at any time killing him. The two decide to switch lives for a bit with the Triad going respectable and the Insurance Salesman taking on the world of the Triads. As well as a new life, both of the two friends find new love. \n",
            "\n"
          ]
        }
      ]
    },
    {
      "cell_type": "markdown",
      "metadata": {
        "id": "PCArw3zrV00q"
      },
      "source": [
        "5.Όλες οι ταινίες έχουν σχέση με το φαγητό, κυρίως μέσω των εστιατορίων και αρκετές με τον ρομαντισμό που αναπτύσσεται σε αυτό το πλαίσιο μεταξύ ανθρώπων."
      ]
    },
    {
      "cell_type": "code",
      "metadata": {
        "id": "V55UyntpV2FY",
        "outputId": "e0a1831c-f3e3-4755-b6a8-98e39bcf247e",
        "colab": {
          "base_uri": "https://localhost:8080/"
        }
      },
      "source": [
        "content_recommender(4953, 6)"
      ],
      "execution_count": null,
      "outputs": [
        {
          "output_type": "stream",
          "name": "stdout",
          "text": [
            "ID:  4953\n",
            "Title:  The Master of Disguise\n",
            "Categories:  \"Family Film\",  \"Adventure\",  \"Comedy\"\n",
            "Summary:\n",
            " In Palermo, Italy in 1979, Fabbrizio Disguisey, the latest in a long line of Italian secret agents known as \"Masters of Disguise,\" barely avoids getting caught while breaking up a smuggling ring run by the evil Devlin Bowman while disguised as Bo Derek. Bowman goes to jail and Fabbrizio decides it best to keep his family's identity a secret from his infant son, Pistachio. 23 years later, Fabbrizio runs an Italian restaurant in America with his unnamed wife and Pistachio working as, respectively, the cook and a waiter. Thanks to his yet-untold family heritage, Pistachio has a tendency to mock people at random, doing perfect but annoying and badly timed impersonations. He's also looking for a wife, but his nerdy demeanor makes him unlikeable to women, as well as a target for bullies, like fellow waiter Rex. One night, Devlin Bowman, fresh out of jail, kidnaps Fabbrizio and \"Mama\", forcing the former to use his Disguisey powers to steal legendary artifacts like the U.S. Constitution. Meanwhile, Pistachio is visited by his unnamed grandfather, who reveals Pistachio's heritage and begins training him in the ways of becoming a Master of Disguise. Eventually, Pistachio gets the basics of the Disguisey way down and his grandfather gets him an assistant, the gorgeous Jennifer Baker, who is a little confused about what the job entails. The two search the area where Fabbrizio was kidnapped and find one of Bowman's cigars, which is emblazoned with the symbol of the \"Turtle Club\". Pistachio disguises himself as a man who dresses and acts like a turtle. They manage to learn Bowman's name and scheme, as well as that he'll be at an antiques fair the next day. Pistachio and Jennifer go to the fair, the former disguised as an elderly woman named Gammy Num-Nums. They meet Bowman, who invites Jennifer to a party at his house. Pistachio goes to the party disguised as Tony Montana and distracts Bowman while Jennifer looks for clues. Though she gets it, Pistachio causes so much trouble that he's forced to abandon Jennifer when Bowman sends his men after him. Pistachio loses the henchmen by disguising himself as shark-hunter Quint. He uses other disguises, like Bavarian tax agent Constable Mueller and British secret agent Terry Suave, to get Jennifer to safety. That night, Pistachio and Jennifer look through the clues at a local restaurant, and they deduce that Bowman has forced Fabbrizio to go back to his disguising ways to steal the treasures for Bowman. While there, they find Jennifer's boyfriend out on a date with Pistachio's old flame, Sophia. Pistachio then ends up slapping him into submission, then leaving with the love-struck Jennifer. Bowman's men kidnap Jennifer as soon as they arrive back at her home. Her son, Barney, whom Pistachio has befriended, finds him talking with his grandfather via hologram and a plan is formed. Pistachio, disguised as a cherry pie, breaks into Bowman's house and stops the auction. But even after defeating Bowman's ninja army, Bowman has one final trick up his sleeve. He has attached a mask of his own face to Fabbrizio's head, making him appear to be Bowman. While the real Bowman escapes, Pistachio is forced to fight his father. In the end, Pistachio helps his father snap out of it, they free \"Mama\", return the artifacts, Pistachio marries Jennifer, and becomes an official Master of Disguise. However, there is one final thing to deal with -- Bowman still has the Constitution. Luckily, the Disguiseys find him in Costa Rica. Disguised as George W. Bush, he, along with Fabbrizio and his grandfather, defeat Bowman once and for all. \n",
            "\n",
            "Place: 1\n",
            "ID:  1422\n",
            "Title:  MegaMind\n",
            "Categories:  \"Science Fiction\",  \"Superhero movie\",  \"Animation\",  \"Action/Adventure\",  \"Comedy\",  \"Family Film\",  \"Action\"\n",
            "Summary:\n",
            " Megamind  is a super-intelligent alien, and the supervillian of Metro City. He continually battles - and loses - against his nemesis, Metro Man , a rivalry that has extended since the two arrived on Earth as infants. On the day of dedication of a museum in Metro Man's honor, Megamind and his sidekick Minion  kidnap reporter Roxanne Ritchi  to lure Metro Man into a copper-lined observatory. Inside, Metro Man appears to become weak from the copper, and everyone is surprised when Megamind's death ray appears to kill Metro Man. Megamind revels in his victory, but this is short-lived as without a nemesis, his villainy has no purpose. While attempting to destroy the Metro Man museum, Megamind uses a holographic disguise of the curator, Bernard , to talk with Roxanne. She gives him the idea of creating a serum containing Metro Man's DNA to inject in a worthy target, thus creating a new superhero for Megamind to fight. Later, as Megamind finishes the serum in his lair and locates a worthy target, Roxanne sneaks into the lair, and in the resulting chaos, Megamind injects the serum into Roxanne's dimwitted camera man, Hal . Megamind disguises himself as Hal's \"space dad\" to groom the new hero into shape to fight Megamind in a few days; Hal takes the superhero alias of \"Tighten\", a result of mishearing Megamind's suggestion of Titan. During this, Megamind, in the Bernard disguise, continues to see Roxanne and becomes close to her, unaware that Hal also had romantic interests in her. Minion expresses discontent at Megamind's lack of villainy and angrily leaves him. On the night before the battle, while dining with Roxanne, the holographic disguise fails revealing his identity, and Roxanne leaves him. Furthermore, he loses track of his invisible car that has the anti-serum to restore Hal to normal. Upset, he vows to fight Hal the next day, but Hal does not show up at the appointed time. Megamind finds a bitter and heart-broken Hal having used his powers for ill-gotten gains. Megamind is horrified at this change and attempts to convince Hal to be a \"hero\" by revealing how he has manipulated Hal. Hal realizes he has been toyed with and battles Megamind. Megamind attempts to capture Hal in a copper-lined trap, but it fails to weaken Hal, and the villain is forced to flee Metro City, while Hal begins to threaten the city with his powers. Megamind meets with Roxanne who takes him to Metro Man's secret lair, and both are surprised to find Metro Man there. The former hero explains on the fateful day, he had an epiphany and pretended to be killed as to forego the superhero career and become a musician. He refuses to help stop Hal. Roxanne tries to convince Megamind that he could be the hero, but Megamind has resigned himself to be the villain and turns himself in at prison. When Hal kidnaps Roxanne and threatens her life if Megamind does not fight him, Megamind has a change of heart and requests the warden to let him go, surprised to find the warden is Minion in disguise, having returned to help out. Megamind and Minion fight Hal by holographically disguising themselves as Metro Man and Megamind, respectively, but a slip of the tongue reveals their true identity. As the disguise is broken, another battle ensues. In the fray, Megamind discovers his lost invisible car. He grabs the anti-serum and heroically injects Hal with it, reverting the superhero to a normal man. Hal is taken away while Roxanne convinces Metro City's citizens that Megamind chose to be their hero. Later, Megamind and Roxanne's relationship has become close, and the city welcomes Megamind as their new protector, while a disguised Metro Man, hidden in the crowd, quietly congratulates him. \n",
            "\n",
            "Place: 2\n",
            "ID:  271\n",
            "Title:  Male Companion\n",
            "Categories:  \"Comedy\"\n",
            "Summary:\n",
            " Antoine was raised into the easy life by his very rich grandfather. After the death of his grandfather the money has gone and Antoine falls under the influence of various easy people. \n",
            "\n",
            "Place: 3\n",
            "ID:  2287\n",
            "Title:  Heidi's Song\n",
            "Categories:  \"Musical\",  \"Children's\",  \"Drama\",  \"Animation\"\n",
            "Summary:\n",
            " An orphaned girl named Heidi is sent to live with her paternal grandfather by her maternal Aunt Dete, who has been looking after Heidi since she was a baby. Heidi's grandfather initially dislikes having Heidi around because she interferes in his routine. But when grandfather hurts his leg, Heidi helps nurse him back to health, and during this time the two bond together. Heidi meets the local goatherd, a boy named Peter, and often goes with him and the village's goats on thei daily grazing trips higher up the Swiss mountain. On day, however, Heidi's Aunt Dete arrives to take Heidi away again, saying that a wealthy family in Frankfurt, Germany, wants Heidi to come live with them. Heidi's grandfather reluctantly lets her go. Heidi arrives at the house in Frankfurt, where she learns she's supposed to become the companion of a wealthy but invalid girl named Klara. Klara's Governess and guardian Fräulein Rottenmeier disapproves of Heidi's simple country ways, but Klara likes Heidi and insists that she stays. Heidi brings joy into Klara's life, especially when she gives Klara a basket of kittens as a present. When Rottenmeier discovers the kittens, Heidi is locked in the rat-infested basement. Peter and the country animals come to Heidi's rescue. Together with Klara, the three travel to the Wunderhorn without telling Rottenmeier. At this time, Klara's father returns to Frankfurt after being away on business, and is angered that his daughter has disappeared. He immediately leaves for the Wunderhorn, and this time Rottenmeier and the butler Sebastian take the opportunity to flee. The three children travel up the mountain, but Klara stops halfway so that Heidi can run on ahead without pushing her wheelchair. Heidi runs ahead and is joyfully reunited with her grandfather. Back halfway down the mountain, Klara's kitten Snowball is attacked by a hawk. Klara crawls out of her wheelchair and uses a stick to fight off the hawk. Klara then discovers that she is able to stand. Klara's father arrives and together they celebrate Klara's mobility and Heidi's return. \n",
            "\n",
            "Place: 4\n",
            "ID:  645\n",
            "Title:  Dulhan Wahi Jo Piya Man Bhaye\n",
            "Categories:  \"Romantic drama\",  \"Romance Film\",  \"Drama\",  \"World cinema\"\n",
            "Summary:\n",
            " Seth Harikrishan, the industrialist had as his heir, his only grandson Prem. The grandfather's only desire was to see the bride of his grandson. When he fell seriously ill, his friend and doctor Farid prevailed upon Prem to bring his girl friend Rita, whom he wanted to marry. But as luck would have it Rita had gone away to Srinagar to participate in a fashion show and she could not return as due to snowfall all roads were blocked and air service was suspended. To satisfy his dying grandfather Prem suggested his company's Public Relations Officer Jagdish to hire a model girl who could pose as Rita for some time. Instead, Jagdish brought an illiterate flower seller girl Kammo with whom Prem and his sweetheart Rita had many altercations. But when Rita came, followed by her scheming mother, Kammo knew that her days were numbered. Yet all efforts of Rita and her mother to win the grandfather's favours failed. Ultimately on the birthday of the grandfather, Rita's mother divulged the truth to doctor Farid. And at the birthday party, it was apparent that Kammo's true identity was known to everyone. Despite this, the grandfather announced his grandson's engagement to Kammo whom he had really liked. His grandson blew into a rage and threatened to leave the house along with Rita and her mother. The grandfather did not stop him. Prem rushed to Rita only to find that without his grandfather's wealth, his love and sacrifice had no meaning for her. Meanwhile, Kammo, hurt and disillusioned, decided to leave the house for good. Did Prem realise his mistake? Did Kammo forgive him? Did the grandfather welcome him back? See for yourself. \n",
            "\n",
            "Place: 5\n",
            "ID:  4747\n",
            "Title:  Blood Feast 2: All U Can Eat\n",
            "Categories:  \"B-movie\",  \"Cult\",  \"Horror Comedy\",  \"Splatter film\",  \"Horror\",  \"Slasher\"\n",
            "Summary:\n",
            " Fuad Ramses III  returns to Miami to reopen his grandfather's defunct catering company. This arouses the interest of the local sheriff , who holds Fuad's family reputation in ill favor. Fuad is soon, however, asked to cater the sheriff's wedding by his mother-in-law, Mrs. Lamply , and fiancee, Tiffani . After finding his grandfather's statue of Ishtar, an Egyptian goddess, in a utility closet, he becomes possessed by her evil spirit. He then goes on to create the 'blood feast' his grandfather failed to do, by killing young women in the area and making them into party food for the wedding. \n",
            "\n",
            "Place: 6\n",
            "ID:  3621\n",
            "Title:  In the Name of Love: A Texas Tragedy\n",
            "Categories:  \"Drama\"\n",
            "Summary:\n",
            " Laurette Wilder  is a poor girl from the wrong side of the tracks who falls in love with Luke Constable III ([[Michael Hayden , the grandson of a rich farmer who has been crippled in an automobile accident. Against the wishes of his grandfather , who sees the girl as a gold-digger, young Luke and Laurette get married. The senior Mr. Constable , however, goes out of his way to make his new granddaughter-in-law feel unwelcome, which quickly causes a rift in her marriage. Following a brief breakup, Laurette encourages Luke to break away from his grandfather and relinquish his rights to the family fortune. Struggling in poverty, Luke contemplates murdering Mr. Constable, but he can't bring himself to do it. Laurette comes home, finds Luke drunk and brandishing a gun, and goads him into shooting her. Panicked, he decides to take his wife into the woods and burn her body. \n",
            "\n"
          ]
        }
      ]
    },
    {
      "cell_type": "markdown",
      "metadata": {
        "id": "zYgIHkTYYMcE"
      },
      "source": [
        "6.Οι ταινίες αφορούν πράκτορες, κυρίως της CIA (εκτός της 3ης επιλογής) και τις κατασκοπευτικές περιπέτειές τους."
      ]
    },
    {
      "cell_type": "code",
      "metadata": {
        "id": "wD41B_pMYO-d",
        "outputId": "e30358d5-4743-4776-914e-70b18d70cf8a",
        "colab": {
          "base_uri": "https://localhost:8080/"
        }
      },
      "source": [
        "content_recommender(60, 5)"
      ],
      "execution_count": null,
      "outputs": [
        {
          "output_type": "stream",
          "name": "stdout",
          "text": [
            "ID:  60\n",
            "Title:  Vellaripravinte Changathi\n",
            "Categories:  \"Romance Film\",  \"Drama\"\n",
            "Summary:\n",
            " Vellaripravinte Changathi is based on the story of film-maker Augustine Joseph who made a Malayalam film in 1966. However, due to some reasons, the film did not make it to the theatres. The 1960s-70s was a period dominated by Prem Nazir, Sathyan, Sheela and others. Unluckily Augustine Joseph was not able to get the film released. Later he commits suicide due to the debts from the production of the film. After years his son revels the original prints of the film from Gemini Lab and sees it. Later he goes on with releasing the film and tries to find the people who did the characters. The film is well appreciated for the way of narration and picturisation which makes the viewer feels that they are actually watching an old Black and white movie of the 60-70s. \n",
            "\n",
            "Place: 1\n",
            "ID:  3330\n",
            "Title:  Ajab Prem Ki Ghazab Kahani\n",
            "Categories:  \"Romantic comedy\",  \"World cinema\",  \"Musical\",  \"Drama\",  \"Comedy\",  \"Romantic drama\",  \"Romance Film\",  \"Bollywood\"\n",
            "Summary:\n",
            " Prem  is a happy-go-lucky person who resides with his parents in his small town and runs \"Happy Club\" &mdash; a club that aims at making people happy. Prem meets Jenny  through a misunderstanding and the two become friends. He is immediately besotted with Jenny and tries to impress her in numerous ways. Jenny is a sweet and simple young woman, who was adopted and brought up by indifferent and uncaring parents. Falling in love with Jenny makes Prem turn over a new leaf. For him, Jenny's happiness becomes everything in life. As for Jenny, she is in love with her college friend Rahul . Though heartbroken, Prem still loves her and, for the sake of her happiness, he helps unite her with Rahul when her parents try to force her to get married to someone else for their own benefit. Prem's efforts to unite Jenny and Rahul lead to many unusual and comedic adventures, through which Prem is always at Jenny's side. However, on Jenny and Rahul's wedding day, Jenny realizes that she made a mistake. She realizes that she truly loves Prem and that Rahul and his family are actually very selfish. She is united with Prem and the two happily get married. \n",
            "\n",
            "Place: 2\n",
            "ID:  4149\n",
            "Title:  Ready\n",
            "Categories:  \"Action\",  \"Drama\",  \"Comedy\",  \"Bollywood\"\n",
            "Summary:\n",
            " The film starts with ready-witted Prem  helping his childhood friend Khushi  to elope with Raju . Khushi's intended bridegroom Gaurav ([[Arbaaz Khan  reveals that he also has a girlfriend, Kiran , whom he wants to marry. The elopement angers Khushi's father, Mr. Pathak  and Prem's family, the Kapoors. Prem manages to pacify his family members. The Kapoors decide to get Prem engaged to Pooja. Prem is sent to receive Pooja at the airport; however, he deliberately goes to he wrong terminal to avoid meeting her. A girl named Sanjana , who has just run away from her own wedding, overhears Prem telling his uncle about ditching Pooja. Since nobody from Prem's family has ever seen Pooja, Sanjana herself pretends to be Prem's intended fiancee. Sanjana, posing as Pooja, goes to stay with the Kapoors and wins the hearts of the entire family, except Prem, who gets irritated with her. Meanwhile, Sanjana's maternal uncles, Amar Choudhary , and Suraj Choudhary , who are rivals, try to search for her. Each uncle wants Sanjana to marry his respective brother-in-law in order to inherit her wealth. Sanjana and Prem escape from Suraj Chaudhary's goons by taking a lift in the car of Mr. Lehri . Prem outwits the goons and sends Suraj's son Aryan into a coma while escaping. Suraj Choudhary takes the help of Mr. Lehri to get to know who ran away with Sanjana. But by then, Prem finds out Sanjana's true identity, and she tells him about her uncles trying to get her married. Prem and Sanjana fall in love and decide to get married. However, her uncle Suraj Chaudhary takes her away. Then the Kapoors come to know about her true identity; however, they still want her as Prem's wife. Prem assures Sanjana that she should stay with her uncle, and he will find a way to marry her as well as reunite her whole family. Prem pretends to be the nephew of Balidaan Bhardwaaj a.k.a. Bali , a Chartered Accountant who serves both of Sanjana's uncles. Prem convinces Suraj and Amar Chaudhary not to get either of their brothers-in-law married to Sanjana. Instead, he suggests the daughters of America's billionaires K.K Modi and B.K Modi as suitable brides for the two brothers-in-law. What the Choudharies do not know is that K.K and B.K Modi are actually Prem's dad and uncle in disguise. Prem also gets the rest of his family to play various characters, in order to trick Sanjana's family into letting her marry him. He also manages to change the Chaudhary family's negative attitudes. But on the wedding day, Aryan recovers from his coma, and reveals the truth about Prem. A physical fight follows, in which Prem gets the upper hand of Sanjana's uncles and their men. He then explains to Amar and Suraj Chaudhary how Sanjana's late mother wanted them to unite and get their niece married. The Chaudharies then realize their mistake and are deeply apologetic for their behaviour. In the end, Prem and Sanjana get married and their wedding picture is taken with the Kapoors and Chaudharies, a.k.a. the 'Chapoors'. \n",
            "\n",
            "Place: 3\n",
            "ID:  645\n",
            "Title:  Dulhan Wahi Jo Piya Man Bhaye\n",
            "Categories:  \"Romantic drama\",  \"Romance Film\",  \"Drama\",  \"World cinema\"\n",
            "Summary:\n",
            " Seth Harikrishan, the industrialist had as his heir, his only grandson Prem. The grandfather's only desire was to see the bride of his grandson. When he fell seriously ill, his friend and doctor Farid prevailed upon Prem to bring his girl friend Rita, whom he wanted to marry. But as luck would have it Rita had gone away to Srinagar to participate in a fashion show and she could not return as due to snowfall all roads were blocked and air service was suspended. To satisfy his dying grandfather Prem suggested his company's Public Relations Officer Jagdish to hire a model girl who could pose as Rita for some time. Instead, Jagdish brought an illiterate flower seller girl Kammo with whom Prem and his sweetheart Rita had many altercations. But when Rita came, followed by her scheming mother, Kammo knew that her days were numbered. Yet all efforts of Rita and her mother to win the grandfather's favours failed. Ultimately on the birthday of the grandfather, Rita's mother divulged the truth to doctor Farid. And at the birthday party, it was apparent that Kammo's true identity was known to everyone. Despite this, the grandfather announced his grandson's engagement to Kammo whom he had really liked. His grandson blew into a rage and threatened to leave the house along with Rita and her mother. The grandfather did not stop him. Prem rushed to Rita only to find that without his grandfather's wealth, his love and sacrifice had no meaning for her. Meanwhile, Kammo, hurt and disillusioned, decided to leave the house for good. Did Prem realise his mistake? Did Kammo forgive him? Did the grandfather welcome him back? See for yourself. \n",
            "\n",
            "Place: 4\n",
            "ID:  721\n",
            "Title:  Judwaa\n",
            "Categories:  \"Romantic comedy\",  \"World cinema\",  \"Musical\",  \"Drama\",  \"Comedy\",  \"Romantic drama\",  \"Romance Film\",  \"Bollywood\"\n",
            "Summary:\n",
            " Mrs. Malhotra  is the mother of twins, who were separated at birth, and she only has one son. Mrs. Malhotra goes into shock and then uses a wheelchair. She resides with her husband and son in the US. Quiet and mature Prem,  one of the twins, and his dad  return to India together with Mrs. Malhotra to get Prem married. Prem's future fiance is the outgoing and percocious Mala , who is the daughter of Mr. Sharma . There Prem meets with his twin brother very outgoing and precocious Raja , who looks like him, but is exactly the opposite in nature. A series of comic scenes result as a result of the twins getting together. Prem loves quiet and mature Roopa ([[Rambha , and both the girls are confused by the change they perceive in their respective lovers. To make matters worse, Tiger Ratanlal  has sworn vengeance against the Malhotra family for what they did to his dad . \n",
            "\n",
            "Place: 5\n",
            "ID:  3410\n",
            "Title:  The Curve\n",
            "Categories:  \"Thriller\",  \"Psychological thriller\",  \"Erotic thriller\",  \"Comedy\",  \"Crime Thriller\",  \"Black comedy\"\n",
            "Summary:\n",
            " The story follows Tim, Chris and Rand who are campus roommates. After hearing of a school policy, which says that anyone whose roommate commits suicide gets an automatic 4.0 GPA , Tim and Chris plot to kill Rand and make it look like suicide. After the suicide, Rand's girlfriend Natalie  is distraught and commits suicide as well. The story takes several plot twists as each persons motives come to light and the truth is revealed. The film was screened at the Sundance Film Festival but then went directly to video. \n",
            "\n"
          ]
        }
      ]
    },
    {
      "cell_type": "markdown",
      "metadata": {
        "id": "wcvHX4HKYvVk"
      },
      "source": [
        "7.Οι ταινίες έχουν πολεμικό χαρακτήρα, κυρίως το κομμάτι που αφορά τις πολεμικές αεροπορίες και οι περισσότερες το συνδυάζουν και με ρομαντικές σχέσεις μεταξύ των ηρώων."
      ]
    },
    {
      "cell_type": "code",
      "metadata": {
        "id": "EjDp-euyYxEd",
        "outputId": "d9227829-c56e-495f-c092-0115c2679e25",
        "colab": {
          "base_uri": "https://localhost:8080/"
        }
      },
      "source": [
        "content_recommender(103, 6)"
      ],
      "execution_count": null,
      "outputs": [
        {
          "output_type": "stream",
          "name": "stdout",
          "text": [
            "ID:  103\n",
            "Title:  Invincible Armor\n",
            "Categories:  \"Thriller\",  \"World cinema\",  \"Action/Adventure\",  \"Mystery\",  \"Martial Arts Film\",  \"Action\",  \"Chinese Movies\"\n",
            "Summary:\n",
            " The Emperor's Minister of State Cheng, an authoritarian ruler, arranges for Hu Lung, one of his old students to distract General Chow while he assassinates the leader of the Ming rebels. Chow hunts for Hu Lung, but must avoid the authorities since he is a suspect in the murder. He eventually finds Chow, but is thwarted by Hu Lung's master, Phillip Ko, and Minister Cheng's hired enforcer, Shen Yu. Shen Yu is hunting for Chow in order to arrest him. Although Shen Yu wants to arrest Chow, he does not kill him, preferring that he goes to court first. This goes against Minister Cheng's orders to kill him. Hu Lung and Chow escape in the ensuing confrontation between Shen Yu and Phillip Ko. Hu Long confesses to his master that he was ordered to kill the rebel leader, and Phillip Co confronts Minister Cheng. Chow learns iron armour and later iron finger. from a young child and his sister to defeat the Invincible Armor technique, but his training is cut short when Shen Yu arrives to arrest him again. He gives Chow three days to clear his name. Minister Chang's plot is eventually exposed, and he is confronted by Chow, Shen Yu, and others. \n",
            "\n",
            "Place: 1\n",
            "ID:  4126\n",
            "Title:  Danger Has Two Faces\n",
            "Categories:  \"Chinese Movies\"\n",
            "Summary:\n",
            " Many years ago, Inspector Kam Chi Kin  killed an innocent man and decided to resign from the police force. He then became a professional killer, paid by Uncle Hung , and disguises as a pet store owner in order to earn money to raise his son. His best friend, Bobby Chow Fuk Cheung  recently returned from UK and works under Superintendent Lau Cheuk Sang . Chow has been investigating recent murder cases that were done by Kam. Later, as one of his colleague Sam  is murdered, Chow discovered the mastermind behind these cases were actually Superintendent Lau. Lau then murders one of his subordinate Man , mistaken him to have discovered his identity. Later, Uncle Hung takes Kam's son hostage and orders him to kill Chow. Kam later disguises Chow's murder and they both confront Lau, Hung, the gang and two police officers Wai  and Chicken Blood. \n",
            "\n",
            "Place: 2\n",
            "ID:  455\n",
            "Title:  The Hangover: Part II\n",
            "Categories:  \"Buddy film\",  \"Comedy\",  \"Absurdism\"\n",
            "Summary:\n",
            "  Two years after their escapade in Las Vegas, Stu Price, Phil Wenneck, Alan Garner and Doug Billings travel to Thailand to celebrate Stu's impending wedding to Lauren. Much to Alan's dismay, they are joined by Lauren's younger brother, Teddy. During Lauren's father's toast, he shows his disapproval of Stu by comparing him to congee. At the end of the night, Stu hesitantly joins Phil, Doug, Alan and Teddy for a beer. Sitting at a campfire and roasting marshmallows, the group toast to Stu and Lauren's future happiness. The following morning, Phil, Stu and Alan, along with flamboyant gangster Leslie Chow - whom Alan befriended after Las Vegas - and a chain-smoking capuchin monkey, awaken in a dirty hotel room in Bangkok. Stu has a face tattoo , and Alan's head is completely shaved. However, they cannot find Teddy, only discovering his severed finger. Chow begins recalling the events of the prior night, but he seemingly dies after snorting a line of cocaine. Panicked, the trio dispose of Chow's body in an ice box. Through a tip from Doug who is still at the resort, they go to a prison to pick up Teddy but are given a wheelchair-bound elderly Buddhist monk, who knows more about what happened, but does not reveal anything: he has taken a vow of silence, and rejects also an alternative such as writing something down. After finding a business card, they travel to a neighborhood smouldering in ruins. They enter a nearby tattoo parlor where Stu got his tattoo, and they learn that they had started a fight that escalated into a riot. The trio then return the monk to his Buddhist temple, where they are encouraged by the head monk to meditate. Alan is able to recall that they had been at a strip club. There, they learn that Stu had engaged in sex with a kathoey prostitute. Upon exiting, the trio is attacked by two Russian mobsters from whom they had stolen the monkey, and Phil is shot in the arm. After Phil is treated at a clinic, Alan confesses that he had drugged some of the marshmallows from the previous night with muscle relaxants and ADHD medication in order to sedate Teddy but accidentally mixed up the bags. After noticing an address and time point for a meeting written on Alan's stomach, the trio meet up with another gangster, Kingsley, who demands Chow's bank account code and password by the next morning in exchange for Teddy. They return to the hotel to try to find Chow's password, only to discover that he is still alive. They steal the monkey  back from the Russian mobsters through a violent car chase, during which the monkey is shot and injured. After taking the code and leaving the monkey at a veterinary clinic, the group complete the deal with Kingsley. Suddenly, Interpol agents appear and arrest Chow. Kingsley turns out to be an undercover agent, who tells the trio that the police had used the information that Teddy had disappeared to arrest Chow and Kingsley actually does not know where Teddy is. Desperate and out of clues, Phil once again calls Doug's wife Tracy. Stu then has an epiphany and the trio rushes back to the hotel and find Teddy in the elevator unharmed . Teddy had woken up in the middle of the night to get more ice for his severed finger  but became trapped after the power went out. The four use Chow's speedboat, the keys for which were in Teddy's pocket, to travel back to the wedding reception. Arriving on land just as Lauren's father is about to cancel the wedding, Stu makes a defiant speech where he rejects being boring and instead states that he is in fact quite wild. Impressed, Lauren's father gives the couple his blessing. After the wedding continues on, Alan presents Stu with a special gift at the post-reception dance: a musical guest performance by Mike Tyson. Teddy later discovers that he had taken many pictures during the night on his cell phone. The group, along with Tyson, agree to look at the pictures together once before erasing the evidence of their exploits once again. \n",
            "\n",
            "Place: 3\n",
            "ID:  1848\n",
            "Title:  Shaolin Vs Lama\n",
            "Categories:  \"Martial Arts Film\",  \"Chinese Movies\"\n",
            "Summary:\n",
            " Lo Jui plays Sun Yu Ting, a kung fu fanatic in search of a teacher. After five years of challenging masters but never being beaten he runs into Hsu Shi , a young Shaolin monk who stole money from a gambling match in order to acquire meat and wine for his master, who later discovers Yu Ting inside the Buddhist temple. Although Hsu's master defeats Yu with ease he refuses to take him on as a student. Yu then resorts to trickery to try to learn techniques from the aged monk. Eventually these antics come to the attention of the senior abbot who expels Yu Ting from the temple altogether. Yu is only allowed back into the temple after he rescues a girl escaping from the dreaded skyhawk clan. The head of the gang is a chief Lama and sworn enemy of Shaolin who, twelve years ago, stole one of temple's most treasured martial arts manuals the i-ching manual. Hsu Shi's master eventually agrees to take Yu Ting on as a student but lessons are cut short when the Lama turns up and kills the master . Yu now swears revenge but before he can leave Shaolin he has to learn the Buddhist Finger technique, the only style that can defeat the Lama Chief. \n",
            "\n",
            "Place: 4\n",
            "ID:  4593\n",
            "Title:  The Mirror\n",
            "Categories:  \"Horror\",  \"Chinese Movies\"\n",
            "Summary:\n",
            " Property company chairman Hu Zian was attracted to his secretary Sun Yuxia's beauty and competence. One day after dinner when Hu was escorting Sun home, he received from a child on the street a box containing a mirror and two silver coins engraved with dragons. He was so frightened that he was absent from the office the following day. Sun went to visit him at home and Hu asked her to stay. Sun refused and left. In another occasion Hu asked Sun to follow him to inspection outside, during which there was a heavy downpour which soaked them both. They were forced to stay in a hotel, where Hu tried to force his intentions on Sun. Sun resisted with vigour and threatened to resign from office. Enraged at Sun's stubbornness, Hu urged his driver to spread the rumour in the office that Sun had stayed with him in a hotel. As Sun was annoyed and embarrassed, Hu proposed to her. Sun laid down a list of conditions and demanded his acceptance before marriage. Hu agreed. On the first night of their wedding Hu found that Sun had divided their bedroom into two partitions with an unlocked sliding door. Hu and Sun lived in one of these, and Sun's partition was decorated with mirrors. This frightened Hu so much that he remembered an early episode of his life: More than two decades ago, when the Second Sino-Japanese War was still going on, Hu worked in an inn under the name Hu Amao. One day he picked up two silver coins engraved with dragons and took them in possession, without knowing that they actually belonged to a traitor. One day a friend of the inn owner Tao Ajiu came and stayed in the inn. The inner owner and Hu collaborated to put him in trouble so that they could grab his valuables. As the police were tracking down the traitor, they found the two silver coins under Tao's pillow. Tao could not prove his innocence but plunged to his death. Hu was so horrified that he could never forget Tao's dead face as reflected in a mirror. At midnight Hu escaped with the inn owner, who wanted to kill Hu but was instead injured badly. Seeing that Hu was so panicked, Sun asked him to tell her what happened, but Hu did not utter a word. On the second night Hu made his way to Sun's partition, where he heard a terrible voice calling his old name. Hu was so scared that he fell and fainted. When Hu recovered consciousness he was suspicious of Sun. He made an excuse to send her out and investigated into the matter. Finally he found that it was all Sun's plot and locked her up in the basement. Knowing that she could conceal no more, Sun admitted that she had approached Hu in revenge for her father, Tao. Furious at her plot, Hu wanted to kill her but Uncle Fan, the inn owner, appeared and fought with him. Eventually both men die, leaving Sun lost in her thoughts in front of the mirror. \n",
            "\n",
            "Place: 5\n",
            "ID:  3863\n",
            "Title:  Carry On Pickpocket\n",
            "Categories:  \"Crime Comedy\",  \"World cinema\",  \"Action Comedy\",  \"Action/Adventure\",  \"Comedy\",  \"Action\",  \"Chinese Movies\"\n",
            "Summary:\n",
            " Hung Tai Kong aka \"Rice Pot\"  and Chan Yin Tung aka \"Chimney\"  are two brothers who work with their master Kam Ming  and his daughter Ann  as a team of pickpockets. Rice Pot, Chimney and Ann later meet Inspector Ling Ah Nam , who investigating a diamond robbery and later becomes Rice Pot's girlfriend. She tells Rice Pot that she has to leave for 2 to 3 months. He found out that she lied to him, and later she explains to him and reveals that she is on an undercover mission. Ling asks the three of them to help her snatch a box of diamonds from Chow Ming Shing . Later, troubled cop Ng Heung Kan  runs into Rice Pot and Chimney. Finding out that they are pickpockets, Ng becomes desperate to arrest them. After successfully getting the diamonds, Ling has them pretend to give Chow the diamonds in order to arrest Chow. However, the diamond that Ling gives them are fake and the three of them become suspicious of Ling. Later, a big fight takes place on Chow's ship and a final fight with Rice Pot against one of Shing's henchmen . Ling attempts to flee from Hong Kong with the diamonds and the three of them finds her in the airport. Rice Pot manages to snatch the diamonds from her, only to run into Ng, who was patrolling there which causes him to drop them. In the end, there was an epilogue for everyone. Rice Pot, Chimney and Ann were charged with theft and mistake of murder. They were sentenced to 7, 5 and 3 years to prison respectively. Kam was charged with theft and receiving stolen goods and sentenced to 2 years. Ling was charged with impersonating a cop and cheating, and was sentenced to 10 years. Sergeant Ng discovered an international criminal group and was promoted to police inspector. \n",
            "\n",
            "Place: 6\n",
            "ID:  2362\n",
            "Title:  King of Beggars\n",
            "Categories:  \"Action/Adventure\",  \"Martial Arts Film\",  \"Comedy\",  \"World cinema\",  \"Chinese Movies\"\n",
            "Summary:\n",
            " Set in the Qing Dynasty in China, the film features a fictionalized story of martial artist So Chan , popularly known as Beggar So , one of the Ten Tigers of Canton. So is the spoiled son of the wealthy General So in Canton. Although he is lazy and illiterate, So excels in martial arts. While visiting a brothel, So falls in love with Yu-shang, a courtesan who dares to behave rudely towards him. So vies for Yu-shang's services with Chiu Mo-kei, a magician and imperial official. By outbidding Chiu, So inadvertently foils Yu-shang's attempt to assassinate Chiu to avenge her father, who had been murdered by Chiu. In order to get rid of So, Yu-shang agrees to marry him if he can win the title of Martial Arts Champion . To win Yu-shang's hand-in-marriage, So enters the imperial martial arts contest to win the championship title. So's father helps him cheat his way through the written examination, while his personal expertise in martial arts carries him through the physical tests. So eventually emerges as champion, but just as the emperor is about to grant him the title, Chiu reveals that So is illiterate, proving that he cheated in the written examination. The enraged emperor orders So's family properties and possessions to be confiscated and decrees that they shall remain as beggars for the rest of their lives. So does not adapt well to his new life. He encounters Chiu on the streets and Chiu breaks his legs, preventing him from practising martial arts again. So is introduced by his father to join the Beggars' Sect, but he is ashamed when he finds out that actually Yu-shang's family leads the sect. He spends most of his time sleeping in seclusion. By coincidence, he meets an elderly beggar, whom he helped earlier, and the beggar attempts to cheer him up by healing his wounds and teaching him the \"Sleeping Arhat Skill\". When Yu-shang is kidnapped by Chiu later, So is shaken out of his delusional state as he wants to save her. He tricks the sect's members into electing him as their new chief, by pretending that he is possessed by the spirit of Hung Tsat-kung. Using his improved literacy, he reads the sect's ancient martial arts manual and learns seventeen of the \"Eighteen Dragon-subduing Palms\" , while the last style is not shown in the book. Meanwhile, Chiu puts Yu-shang into a magical trance and attempts to use her as a puppet to assassinate the emperor and start a rebellion. So leads his beggar followers across to Great Wall of China to stop Chiu and they engage Chiu's forces while So saves Yu-shang in the nick of time. So uses all the skills he had learnt to fight Chiu, but they prove insufficient to completely defeat Chiu. When Chiu conjures a windstorm, So's manual falls out and forms a flip book that animates the first seventeen of the \"Eighteen Dragon-subduing Palms\". So suddenly realizes that the final stance is a combination of the seventeen palms and he uses it to destroy Chiu and save the emperor. In the final scenes, Yu-shang agrees to marry So, and the grateful emperor asks So what reward he desires. So chooses to remain as a beggar king and the emperor expresses worries over So having so much power over the common people. So reminds him that as long as the people are cared for, there will not be enough beggars under his influence to pose a threat. Before the film ends, So and Yu-shang are seen wandering the streets with their large family, using an imperial tablet to force rich people to give them money. \n",
            "\n"
          ]
        }
      ]
    },
    {
      "cell_type": "markdown",
      "metadata": {
        "id": "hpH6lSNiZwyy"
      },
      "source": [
        "8.Οι ταινίες είναι όλες western, διαδραματίζονται στα ίδια μέρη στις Νότιες και Δυτικές Η.Π.Α. και υπάρχουν κοινές λέξεις όπως \"Indians\", \"Cowboy\" και \"Horse\". "
      ]
    },
    {
      "cell_type": "code",
      "metadata": {
        "id": "7u7buLXFZykT",
        "outputId": "4f78e62f-3173-41ce-bfc6-74030e85770a",
        "colab": {
          "base_uri": "https://localhost:8080/"
        }
      },
      "source": [
        "content_recommender(248, 6)"
      ],
      "execution_count": null,
      "outputs": [
        {
          "output_type": "stream",
          "name": "stdout",
          "text": [
            "ID:  248\n",
            "Title:  Lone Star\n",
            "Categories:  \"Western\",  \"Black-and-white\"\n",
            "Summary:\n",
            " Devereaux Burke gets a personal request from former President Andrew Jackson to help keep Texas from entering into annexation with Mexico. The movement is gaining favor because it is mistakenly believed that Texas pioneer Sam Houston supports it. The opposition leader is wealthy rancher Thomas Craden, but when Dev is ambushed by Comanche, it is Craden who comes to his rescue. Martha Ronda, who loves Craden and runs the Austin newspaper, does not know Dev is anti-annexation when she and Craden host a number of senators at their home for dinner. When they won't all agree to vote his way, Craden then refuses them permission to leave. Dev gets a signed letter from Sam Houston of his actual position, but the ink smears when he falls into a river, fleeing from Craden's men. He has difficulty persuading Martha, who publishes an incorrect story about Houston's position, but ultimately he wins her over and saves the day. \n",
            "\n",
            "Place: 1\n",
            "ID:  4580\n",
            "Title:  Raavanan\n",
            "Categories:  \"Drama\",  \"Adventure\"\n",
            "Summary:\n",
            " The film opens with shots showing Veeraiya ([[Vikram  jumping off a cliff into water. His gang is busy distracting the police. Police vehicles are set ablaze and women seduce policemen into a trap whereby Veera's henchmen attack. The police are ruthlessly murdered. Raagini , whilst on a boating trip, is kidnapped by Veera. Dev Prakash , her husband and a senior police officer, is informed of the incident. A brief montage of sorts showcases the story of Veeraiyya. He is seen as a local hero, who runs a parallel govt in areas near Tirunelveli, with his brothers — Singarasu  and Sakkarai ([[Munna . Though considered a terrorist by the local police, Veeraiyya is respected by the villagers. He kidnaps Raagini hoping to avenge the death of his sister Vennila . He brings her to the edge of a cliff to shoot her to death. She refuses to die at his hands and jumps off the cliff into the water far below, hoping to kill herself, but fails to do so. This causes Veera to hold off the murder, being unable to kill someone who has no fear of death. Dev and his team enter the forests with the aid of Gnanaprakasam , a local forest guard. Gnanaprakasam plays the role of Hanuman from the traditional epic. Despite searching deep in the forests, Dev is unable to hunt down Veera. Meanwhile, Raagini develops feelings for Veera after she hears the story of his sister's death. Dev had led an encounter against Veera during Vennila's wedding. Dev's shot grazes Veera in the neck. Veera, fighting for his life, is unable to protect his sister, and he is led out of the fiasco by his gang. The police pressurize Vennila into revealing Veera's hideout. When she refuses, she is subjected to physical and sexual assault. Veera returns home to find Vennila distraught and traumatised. The next day, she commits suicide by drowning in a nearby well. Unhappy with the way his brother is leading a war causing distress to his gang, Sakkarai offers a truce to Dev. Dev initially seems to agree but, when Sakkarai comes out in the open, Dev shoots him to death — revealing that he considers the destruction of Veera as more important than saving his wife. Veera and Singarasu are enraged and attack Dev's camp; they wipe it out completely. A final confrontation between Veera and Dev takes place on a rickety bridge — where Veera triumphs over Dev — when he decides not to let Dev die. He tells Dev he is letting him live because of his wife. Dev manages to extricate himself out and finds Raagini bound and tied up — with Veera leaving her. Dev is not entirely happy and, while returning to their hometown of Mettukudi, he accuses Raagini of infidelity and informs her that it was Veera who told him so. Furious, Raagini leaves Dev to meet Veera through Singarasu. She manages to meet him and asks him why he had accused her. Veera tells her he said that he had protected Raagini safely for the fourteen days and nothing else. He quickly realizes that Dev lied, hoping Raagini would lead him to his hideout. Dev appears with a police team and confront the duo. Raagini tries to save Veera, but he pushes her out of the line of fire. He is shot multiple times, whereby he falls off the cliff. The touching climax of the movie shows Raagini's true feelings coming to surface: She is seen trying with all her might to save Veera. Although Veera tries to grab her hand amidst the gun fire, he fails to do so, dying without touching Raagini throughout the time he knew her.  Veera, content that Raagini has feelings for him, falls to his death with a smile. \n",
            "\n",
            "Place: 2\n",
            "ID:  247\n",
            "Title:  Show Cats: The Standard of Perfection\n",
            "Categories:  \"Documentary\"\n",
            "Summary:\n",
            " Filmed at the 2004 Cat Fanciers' Association International Cat Show, in Houston, Texas and in other locations in Houston, Wolf Blitzer, Monica Lewinsky , and Spider-Man. There were others by other names that were owned by other people featured in the documentary, but they were not focused on as much as the celebrity-named ones listed here. \n",
            "\n",
            "Place: 3\n",
            "ID:  1942\n",
            "Title:  Heartbeat\n",
            "Categories:  \"Melodrama\",  \"World cinema\",  \"Musical\",  \"Drama\",  \"Romantic drama\",  \"Romance Film\",  \"Bollywood\"\n",
            "Summary:\n",
            " Dhadkan is about Anjali , a young woman who hails from an extremely rich and influential family. Her father Mr. Chauhan  is a renowned businessman and has many dreams for his daughter. Anjali is in love with Dev  who is very poor and often cannot even afford to clothe himself properly. Dev loves Anjali and wants to marry her &mdash; so has to meet her father. When Anjali puts forward to her parents the proposal of marrying Dev, she is rebuked and gets an outright refusal. Moreover, her parents have chosen for her a wealthy suitor from Delhi. Not wanting to hurt her parents Anjali finally gives in and marries Ram  who her parents believe will be a perfect match for her. Ram is a man of great ideals, who believes in giving a rightful place to his wife and respects her sensibilities. Despite this, he is unable to win Anjali’s love at first and their marriage remains on the edge. However, after seeing the magnanimity of her husband’s heart in forgiving and accepting her, she realises she has fallen in love with him. Anjali leads a life of bliss and becomes an ideal wife. But suddenly, at their third wedding anniversary party, Dev returns and reveals his intent of winning Anjali back. Dev is now a wealthy businessman, and Anjali finds herself at a crossroads where she has to fight for her husband with her former love. Anjali is in love with her husband and has no wish to return to her former lover. When she tells him this, he sets out to ruin Ram's business. But the truth wins in the end when Anjali tells Dev she is pregnant with Ram's child. Dev realises his folly and decides to marry his friend and business partner Sheetal Varma  who has secretly loved him for a long time. \n",
            "\n",
            "Place: 4\n",
            "ID:  4280\n",
            "Title:  Tumi Kar\n",
            "Categories:  \"Drama\"\n",
            "Summary:\n",
            " This is the story of Madhabpur. The incident is just like that of Singur. The corrupt M.L.A of Madhabpur, Shanti Ranja Burman is a crook who forcefully confiscate the lands and properties of the downtrodden mass in the name of industrialization and development. He and his sidekick Raghab  targets Chandra Roy  and her grandmother  for engulfing their land. Enter honest S.P Mr. DIbakar Choudhury and his brother Dev. Dev falls in love with Chandra. The two take oath to uproot the corrupt Shanti Ranjan and Raghab alongside the villainous inspector Binay Bagchi. Dev, Dibakar and Chandra find able allies in sub-inspector Pundarikakshya Das  and Joy Banerjee, a real estate dealer turns revolutionary. Together combat the adverse forces and finally at a meeting all hell breaks loose. Shanti Ranjan and S.P Dibakar died in encounter. Peace is restored. \n",
            "\n",
            "Place: 5\n",
            "ID:  3115\n",
            "Title:  Texas Killing Fields\n",
            "Categories:  \"Thriller\",  \"Crime Fiction\",  \"Drama\"\n",
            "Summary:\n",
            " The plot focuses on several killings along Houston's I-45 corridor between Houston and Galveston; the crime investigators on the case; their sacrifices and personal mission to protect the innocent; plus their stake out to find the killer of the fictional character or victim in the movie. The film's screenplay was loosely inspired by true events surrounding the murders of women kidnapped from cities spread along 30 plus miles of I-45 corridor and dumped in many areas to include numerous bayous surrounding the oil fields of Texas City, Texas. While in real life there have been numerous itinerant serial killers involved over the years, the movie focuses on specific local Texas City suspects. In reality, the local moniker \"The Killing Fields\" applied to a specific abandoned property with acreage in League City, Texas known as Calder Drive. It was not the setting of this movie.  \n",
            "\n",
            "Place: 6\n",
            "ID:  4074\n",
            "Title:  The Business Man\n",
            "Categories:  \"Crime Fiction\",  \"Action\",  \"World cinema\"\n",
            "Summary:\n",
            " At a time when Mumbai Police, headed by Police Commissioner , announce that the much dreaded Mafia Raj is completely wiped out in the city, and there are no under world Bhai’s in Mumbai, a rookie named Surya  lands in the country’s commercial capital with an intention to become a Mafia Don. His friend, Brahmaji receives him and brings him to Dharavi. He offers him shelter and tells him that he would soon fetch him a job so that he can settle down in life. But Surya wants to carve an identity for himself, by reorganizing Mumbai's Mafia Raj and eventually rule Mumbai. He then mocks as a cop and gets his first bounty and then he forms a gang of his own. Surya meets up with a local politician Laalu  who is in trouble and offers him help. Surya begins recruiting criminals and gangsters in Mumbai and starts to extort people for money. He slowly gains momentum and in the process becomes popular and feared among the people. Meanwhile, he also knowingly tries to get romantically involved with Chitra , daughter of the police commissioner. In the process, he actually falls for the girl and tries for her acceptance. In the course of the film, Surya become popular among Dharavi's locals. He comes across as an extortionist, a baron, a philanthropist and an entrepreneur. His friendship with Laalu gets stronger and so does his political connections. Surya sets up a company named Surya Exports & Imports which would act as a front for the organized crime that they indulge in. Surya reveals his plan to grow his network of organized crime all over India. He begins to set up branch offices for Surya Exports & Imports in all major cities, towns and villages all over India. He recruits local gangsters for staff and begins to forcefully collect two percent tax on every contract done in that area. Eventually Surya grows to be a billionaire and later reveals to the police commissioner that he never wanted money but only power. He claims that he believes in war but not morality and that the crime rate dropped significantly after he started to recruit all the gangsters. He also states that he wants to rid India of crime and help the needy. Surya also helps Laalu to become the Mayor of Mumbai by defeating Arun Ghokle  who is backed up by Jai Dev , a powerful national politician. Eventually Arun Ghokle goes against Jai Dev and talks to the police about Jai Dev's illegal activities. Jai Dev kills the police commissioner and Chitra becomes devastated by it. Surya reveals to her that he was an American born Indian who looses his philanthropist Non-resident Indian father at an early age. His parents were the victims of Political corruption and were cheated and killed by Jai Dev. This incident and the attitude of people towards an orphan while growing up made him hate the society. In his pursuit of power and achieving his goal of getting India rid of crime he shifts his attention towards the upcoming Indian parliament elections. He with the help of Laalu meets up with Guru Govind Patel , head of the opposition party. He makes a deal with him and offers him 35000 crores for election campaigning and also promises him that he would make him the prime minister of India. Surya uses the money and starts to make an impact on the elections. He spends millions on every constituency in India and also makes Jai Dev unable to contest in the elections. After knowing that Jai dev has kidnapped Chitra to seek revenge on him, he fights of the Jai Dev's goons and eventually kills him and saves Chitra. It is shown at the end that he had successfully installed Guru Govind Patel as the prime minister of India and is seen with Chitra, who accepts his love. \n",
            "\n"
          ]
        }
      ]
    },
    {
      "cell_type": "markdown",
      "metadata": {
        "id": "0B1uuscraT_q"
      },
      "source": [
        "9.Όλες οι ταινίες παρουσιάζουν ρομαντικές σχέσεις μεταξύ ανθρώπων κυριώς στον χώρο του πανεπιστημίου."
      ]
    },
    {
      "cell_type": "code",
      "metadata": {
        "id": "nP1oZtSVbusu",
        "outputId": "8ce53c0f-1532-4359-b140-66dd489ec8ec",
        "colab": {
          "base_uri": "https://localhost:8080/"
        }
      },
      "source": [
        "content_recommender(749, 5)"
      ],
      "execution_count": null,
      "outputs": [
        {
          "output_type": "stream",
          "name": "stdout",
          "text": [
            "ID:  749\n",
            "Title:  Seizure\n",
            "Categories:  \"Monster movie\",  \"Horror\",  \"Surrealism\",  \"Psychological thriller\",  \"Satire\",  \"Slasher\"\n",
            "Summary:\n",
            " Horror writer Edmund Blackstone  sees his recurring nightmare come to chilling life one weekend as one by one, his friends and family are killed by three villains, led by Martine Beswick as the Queen of Evil, and Hervé Villechaize as Spider. \n",
            "\n",
            "Place: 1\n",
            "ID:  4410\n",
            "Title:  Spider-Man\n",
            "Categories:  \"Adventure\",  \"Superhero movie\",  \"Action/Adventure\",  \"Fantasy\",  \"Coming of age\",  \"Action\"\n",
            "Summary:\n",
            "  High-school senior Peter Parker  lives in Forest Hills, a quiet suburban neighborhood in the New York City borough of Queens, with his Uncle Ben  and Aunt May . He secretly loves Mary Jane Watson , a warm-hearted girl next door, but is too shy to approach her. His best friend Harry Osborn  is the son of Dr. Norman Osborn , president of the Oscorp manufacturing corporation, which is working to win a contract to supply weapons to the United States Army.  On a field trip to a genetics laboratory, Peter is bitten by a genetically engineered spider. He passes out in his bedroom at home, and wakes to find that his vision is perfect, he has developed superhuman strength, his wrists emit web strings, and his reflexes are super-quick. At school, he saves Mary Jane from a split-second fall and easily defeats her bullying boyfriend Flash Thompson  in a fistfight. Realizing that the spider's bite has given him spider-like powers, he trains himself to scale walls, jump between rooftops, and swing through the city. Peter enters a wrestling tournament, hoping to win $3,000 so he can buy a sports car to impress Mary Jane. On the day of the tournament, Ben gives Peter some fatherly advice, most importantly the message \"with great power comes great responsibility\", but Peter lashes out at him. Peter easily defeats his opponent, Bonesaw McGraw , but the fight promoter only gives Peter $100 for winning a match 1 minute earlier than he had to. When a thief robs the man, Peter takes his revenge by allowing the robber to escape. Later that night, Peter finds that his Uncle Ben has been shot by a carjacker. As his uncle dies, Peter learns of the thief's whereabouts through the police radios and pursues him using his powers. Peter catches up with the thief, only to discover that it was the man who robbed the wrestling arena earlier. Feeling responsible for Ben's death, and guilty for rejecting his advice, Peter dedicates himself to fighting crime as Spider-Man. He makes money by selling pictures of himself as Spider-Man to Daily Bugle newspaper editor J. Jonah Jameson , who declares Spider-Man a menace to New York. Meanwhile, under pressure from the military, Norman tests Oscorp's dangerous new performance-enhancing chemical on himself. The chemical manages to make him much stronger, but he quickly develops a maniacal alter ego, and immediately murders his assistant. Later, he has no recollection of the murder, and learns that a piece of Oscorp hardware, a small flying weapons platform called a \"glider\", along with a special suit to control it, were stolen. Soon afterwards, a costumed figure armed with the suit and glider attacks, killing the military liaison that pressured Norman, as well as several scientists working for Quest Aerospace, a competitor for Oscorp, allowing Oscorp to become the main supplier to the U.S. Army. Norman proudly announces this to Oscorp's board of directors, only to become enraged when told that they have fired him in lieu of a merger deal they've accepted with Quest Aerospace. At an Oscorp-sponsored fair, the same costumed figure attacks again, killing the directors. He almost kills Mary Jane, but Spider-Man manages to drive him away. After being saved by the superhero, Mary Jane begins to develop a crush on him and also becomes weary of her relationship with Harry. Jameson dubs Norman's alter ego the \"Green Goblin\". After Spider-Man refuses the Goblin's offer to work together, Norman secretly discovers that Peter is Spider-Man. The Green Goblin attacks Aunt May's house, hosplitazing her. As they watch over May in the hospital, Mary Jane tells Peter she loves Spider-Man, and Peter expresses his own feelings for her. Harry sees them holding hands, and in an act of jealousy tells his father about their love for each other, revealing that Peter has feelings for Mary Jane. The Goblin lures Spider-Man to the top of the Queensboro Bridge by taking Mary Jane and a Roosevelt Island Tramway car full of children hostage. As he drops both Mary Jane and the children, the Goblin commands Spider-Man to choose which one he will save. Acting quickly, however, Spider-Man saves them both, with help from the people on the bridge and a barge on the river below, forcing the Goblin to take Spider-Man to an abandoned atrium. In a final battle, Spider-Man defeats the Green Goblin, forcing Norman to reveal himself. Norman tells Peter he tried to stop the violence the \"Goblin\" had caused. However, Norman attempts to kill Peter by sending his glider flying towards him but Peter dodges it, causing it to impale Norman. Norman tells Peter not to reveal his true identity to Harry, then dies. Spider-Man removes the Goblin suit from Norman's body and then drops him at the Osborn's penthouse, but is spotted by Harry, who is left with the impression that Spider-Man murdered his father. At Norman's funeral, Harry swears to Peter that he will make Spider-Man pay dearly and avenge his father's death. Mary Jane confesses her love to Peter and kisses him, but Peter insists that they can only be friends, with him afraid that she would suffer further harm if Spider-Man's enemies knew that he loved her. Walking away from Mary Jane, who is now in tears yet also finds the kiss familiar afterward, he recalls Ben's words, \"With great power comes great responsibility,\" and accepts his new life as Spider-Man. \n",
            "\n",
            "Place: 2\n",
            "ID:  2021\n",
            "Title:  James and the Giant Peach\n",
            "Categories:  \"Adventure\",  \"Children's/Family\",  \"Stop motion\",  \"Animation\",  \"Musical\",  \"Fantasy\",  \"Comedy\",  \"Family Film\",  \"Fantasy Comedy\",  \"Children's Fantasy\"\n",
            "Summary:\n",
            "  In the 1930's, James Henry Trotter is a young boy who lives with his parents by the sea in the United Kingdom. On James's birthday, they plan to go to New York City and visit the Empire State Building, the tallest building in the world. However, his parents are later killed by a ghostly rhinoceros from the sky and finds himself living with his two cruel aunts, Spiker and Sponge. He is forced to work all day and they threaten him with beatings to keep him in line and taunt him about the mysterious rhino and other hazards if he tries to leave. While rescuing a spider from being squashed by his aunts, James meets a mysterious man with a bag of magic green \"crocodile tongues\", which he gives to James to make his life better. The soldier warns him not to lose the \"tongues\" and disappears. When James is returning to the house, he trips and the \"tongues\" escape into the ground. One peach is soon found on a withered old tree, and grows into immense proportions. Spiker and Sponge use the giant peach as an attraction, making lots of money as James watches from the house, not allowed to leave. That night, James is sent to pick up the garbage. While doing so, he grabs a chunk of the peach to eat as one of the \"crocodile tongues\" jumps into it. A large hole appears inside the peach and James crawls inside, where he finds and befriends a group of life-size anthropomorphic bugs who also dream of an ideal home . As they hear the aunts search for James, Centipede manages to cut the stem holding the giant peach to the tree and the peach rolls away to the Atlantic Ocean with James and his friends inside it, seemingly squashing Spiker and Sponge's antique car as they try to chase it. Remembering his dream to visit New York City, James and the insects decide to go there. They use Miss Spider's silk to capture and tie a hundred seagulls to the peach stem, while battling against a giant robotic shark. They escape just in time. While flying, James and his friends eventually find themselves hungry and soon realize that \"their whole ship is made out of food\". After gorging most of the inside of the peach, Miss Spider, while using her web to tuck in James, reveals to him that she was the spider he saved from Spiker and Sponge. James then has a nightmare of him as a caterpillar attacked by Spiker, Sponge, and the rhino. When he wakes up, he and his friends find themselves in Antarctica, lost and cold. The Centipede has fallen asleep while keeping watch, resulting in them further away from their destination than ever. After hearing the Grasshoper wishing they had a compass, Centipede jumps off the peach into the icy water below and searches a sunken ship. He finds a compass but is taken prisoner by a group of skeletal pirates. James and Miss Spider rescue him and the journey continues. As the group finally reaches New York City, a storm appears. A flash of lightning reveals the rhino approaching towards them. James is terrified but faces his fears and gets his friends to safety before the rhino strikes the peach with lightning; The strings keeping the seagulls attached to the peach are cut and the peach falls to the city, dragging James with it. James coughs up the crocodile tongue as he reawakens, and emerges from the peach realizing it has landed right on top of the Empire State Building. After being rescued by the police and firefighters, Spiker and Sponge arrive, supposedly having driven their car across the seabed, and attempt to take back James and the peach. James stands up to Spiker and Sponge, and they attempt to kill James. Using the remaining seagulls, the bugs arrive in New York City. They tie up Spiker and Sponge with Miss Spider's silk and the police arrest them both. James introduces his friends and allows the children of New York to eat up the peach. The peach stone is made into a house in Central Park, where James lives with the bugs and has the friends he could wish for. Centipede runs for New York mayor, Grasshopper becomes a professional violinist, Earthworm becomes a mascot for a new cream, Ladybug becomes a nurse, Glowworm lights up the Statue of Liberty, Miss Spider owns a club called \"Spider Club\", and James celebrates his 8th birthday with his new family. In a post-credits scene, a new arcade game called \"Spike the Aunts\" is shown, featuring the rhino. \n",
            "\n",
            "Place: 3\n",
            "ID:  3311\n",
            "Title:  The Pique Poquette of Paris\n",
            "Categories:  \"Short Film\",  \"Animation\"\n",
            "Summary:\n",
            " The Inspector and Sergeant Deux-Deux are assigned to take down a notorious \"pique poquette\"  named Spider Pierre, so named because he has four arms and two legs. Their first attempt to lure him out is at a favorite watering hole of Spider Pierre, where The Inspector, after borrowing a thousand francs from Deux-Deux , goes in, flashes it around, and orders a drink. While waiting for the drink, he puts his wallet in his back pocket, where it is quickly snatched by Spider Pierre. After he drinks his drink, he goes to pay for it, and realizes his wallet was taken. The bartender then violently throws him out. Undeterred, The Inspector obtains more money from Deux-Deux  to go back in.Before Deux-Deux could tell him that the money is play money belonging to his daughter,Maria,the Inspector tells him to synch his watch,but as they go to synchronize their watches, Spider Pierre sneaks up and takes just about everything out of The Inspector's pockets , convincing him they were dealing with a vacuum cleaner. While chasing Spider Pierre through an alley, Pierre whips out his \"spider webley specialist\"  and uses it to spin a web at the other end of the alley, which slingshots The Inspector's car back all the way into the Eiffel Tower, damaging it . Later while chasing Spider Pierre on foot, Pierre sends a piece of thread to the top of a building and climbs up, followed by the Inspector, who afterwards walks on another piece of thread like a highwire, only to meet Pierre at the other end holding the other end of it. He lets go and the Inspector swings into the side of a building, taking out part of the wall. He crashes down with the wall, only to have a safe crash on him and send him through the pavement into a subway line. In the next scene, The Inspector is chasing Spider Pierre again. Pierre runs up the side of a building this time, and the Inspector tries to do so at first himself, but falls down. Undeterred again, he comes back with plungers on his feet, and starts running up the building after him. However, Pierre opens a window in the Inspector's path, and he falls into a woman's apartment, who screams and chases him out, accusing him of being a peeping Tom, then hits him over the head with a broom. When the Inspector hits the ground, he lands on the plungers, then springs back up to the woman, who hits him again. This keeps repeating, and as Deux-Deux watches, he says, \"Well, that's cop biz for you. It has its ups, and downs.\" Finally, Deux-Deux faces Spider Pierre directly and threatens to \"let him have it\" if he doesn't surrender. This prompts Pierre to laugh uncontrollably, and Deux-Deux blasts him with DDT and subdues him. Later in prison, we see that not only is Spider Pierre in there, so is the Inspector, apparently for having counterfeit money on him, as the money he borrowed from Deux-Deux was his child's play money. \n",
            "\n",
            "Place: 4\n",
            "ID:  1922\n",
            "Title:  Anamika\n",
            "Categories:  \"Romantic drama\",  \"Romance Film\",  \"Drama\",  \"World cinema\"\n",
            "Summary:\n",
            " It is the story of a reclusive writer ([[Sanjeev Kumar  who finds a young woman  thrown from a speeding car with her hands tied and her mouth gagged. He, his uncle, and his secretary  take the unconscious girl home, and when she wakes up the next morning, she doesn't remember anything about her life and insists that she is the writer's wife. The uncle convinces the writer to humor the girl until she regains her memory. In the meantime, she shows him the crazy, fun part of life. He calls her Anamika, which means \"Girl without a Name.\" As he is falling in love with her, he sees clues about her past that raise more questions: Is she a married woman named Archana or is she a prostitute named Kanchan? Just as unexpectedly as she had come into his life, she leaves him. When he sees her again at a party, she refuses to recognize him. The movie's mystery deepens as the writer finds out who the woman actually is. \n",
            "\n",
            "Place: 5\n",
            "ID:  4869\n",
            "Title:  Twice Upon a Time\n",
            "Categories:  \"Stop motion\",  \"Fantasy\",  \"Comedy\"\n",
            "Summary:\n",
            " In the faraway eternally busy city of Din, live the black-and-white Rushers, who constantly go about their business in a fast-paced way and stop only to sleep. Din lies in between two worlds that create dreams to deliver to the sleeping Rushers - one is the bright and cheerful Frivoli, where Greensleeves and his Figmen of Imagination bring sweet dreams, and the other is the Murkworks, a dark and dingy factory home to vultures who drop nightmare bombs. The evil  Botch, maniacal ruler of the Murkworks wants to foil Greenie's efforts and subject the Rushers to non-stop waking nightmares. He uses his vultures to kidnap the Figs and Greensleeves, but not before Greensleeves writes an S.O.S. to Frivoli. Meanwhile, two misfits known as Ralph The All Purpose Animal , and Mumford, a Chaplin-esque mime, are put on trial for their incompetence at work. Determined to prove they can do something right, Ralph and Mumford take on the job of garbagemen. As they dump garbage over a large hill, they meet Flora Fauna, Greensleeves's niece, who has found her uncle's S.O.S and wants to find him. Botch spies on the three through Ibor, his robot gorilla, and uses Ralph and Mum's desire to be heroes to his advantage. After introducing himself as a friend of \"Greenie\", he cons the three that in order to save Greensleeves, they need to go into Din and steal the main spring from the Cosmic Clock. Flora stays behind to act the part of the damsel in distress for Botch's nightmares. Mumford and Ralph release the spring which causes time to freeze. They chase the spring throughout Din, but Botch sends his vultures to steal the spring from them and begin planting nightmare bombs. A Fairy Godmother, or FGM as she likes to be called, twinkles in to tell our heroes that they have been tricked and gives them three dimes to make a phone booth appear in case they need her help. FGM also recruits the help of the dim-witted but musclebound Rod Rescueman to aid them. Rod is more interested in rescuing Fauna, however, and abandons the boys to find her. Ralph and Mum find nightmare bombs scattered all over an office, ready to be set off by Botch once he starts time starts again. Mumford accidentally sets a bomb off and the two are trapped in a nightmare where they are chased and nearly killed by office supplies come to life. When they are finally freed from the nightmare, the Fairy Godmother transports them back to Frivoli and tells they're better off giving up after all the mistakes they've made and fires them from the hero business. This only further strengthens Ralph and Mum's resolve to do right. Meanwhile, Rod \"rescues\" Flora from the Murkworks and attempts to get a kiss from her. She tries to escape from his floating apartment in the sky and falls. She survives, however, when she lands on a mechanical serpent that attempts to stop Ralph and Mum from reaching the Murkworks. The trio and Rod storm their way in with the help of Scuzzbopper, Botch's former nightmare screenwriter, who decides to aid them after Botch destroyed his recently completed novel. Rod and Flora rescue Greenie and the Figs but have to contend with Ibor. Rod tries to save Flora again but fails, and Flora destroys the robot herself. Mum and Ralph take on Botch as the vultures fly the spring back to Din. When it seems Botch has killed Mum, Ralph finally manages to control his shapeshifting and tricks Botch into pushing \"The Big Red One\", detonating every bomb before time is restarted. Just as Botch is about to kill Ralph for ruining his plans, one last nightmare bomb appears and rolls toward Botch. Terrified at being subjected to his own nightmare, Botch leaps out the window and is carried away by his angry vultures . Ralph finds the bomb was really Mumford, who survived Botch's attack and hid in an empty shell. The two now consider themselves heroes and earn kisses from Flora. The spring returns to the Cosmic Clock of its own will, and restarts the flow of time, but at a pace where the Rushers can enjoy life. \n",
            "\n"
          ]
        }
      ]
    },
    {
      "cell_type": "markdown",
      "metadata": {
        "id": "LwalG2JufvFk"
      },
      "source": [
        "10.Όλες οι ταινίες αφορούν εγκλήματα και παρουσιάζονται είτε οι εγκληματικές προσωπικότητες είτε όσοι προσπαθούν να τους οδηγήσουν στη δικαιοσύνη. Στις περισσότερες περιπτώσεις αυτό έχει και το χαρακτήρα εκδίκησης, όπως και στην ταινία-στόχο.\n",
        "\n"
      ]
    },
    {
      "cell_type": "code",
      "metadata": {
        "id": "3keozMmwhO7m",
        "outputId": "f3681044-37dd-4a24-d4f1-7a086a3c1f0e",
        "colab": {
          "base_uri": "https://localhost:8080/"
        }
      },
      "source": [
        "content_recommender(1446, 6)"
      ],
      "execution_count": null,
      "outputs": [
        {
          "output_type": "stream",
          "name": "stdout",
          "text": [
            "ID:  1446\n",
            "Title:  I'm a Big Shot Now\n",
            "Categories:  \"Comedy\",  \"Animation\"\n",
            "Summary:\n",
            " The plot concerns a gangster bird, who sings the title song and likes to prove his toughness by beating up on cops without provocation. The hoodlum spots the Birdville Bank across the street from the saloon where he hangs out, and calls his gang together to rob the bank and make a quick getaway. In the ensuing chase, the avian police  capture him by shooting the floor out from the birdhouse which he uses as his hideout, leaving him to sing \"I'm Just a Jailbird Now\" from his jail cell. \n",
            "\n",
            "Place: 1\n",
            "ID:  4881\n",
            "Title:  Smart Alecks\n",
            "Categories:  \"Crime Fiction\",  \"Romance Film\",  \"Drama\",  \"Comedy film\"\n",
            "Summary:\n",
            " Hank leaves the East Side Kids to become an apprentice crook; his first job being the lookout during a bank robbery done by Mike and Butch. Hank is handed the pistol one of the crooks used to rob the bank with the events witnessed by Police Officer Regan and Danny's sister. Hiding from the police in the gang's clubhouse, Muggs throws Hank out of the gang when they discover he is involved in criminal activity. Hank is caught by the police whilst Mike and Butch remain at large. When the gang is playing baseball in the street the hit a ball into the window of Mike and Butch's hideout. Leaving his room, Butch refuses to give the gang their baseball back with Danny tackling Butch. Officer Regan arrests Butch and informs Danny he will receive a $200 reward. Danny wants to use the reward money to buy the gang new baseball outfits as a surprise but Muggs and the gang think Danny is keeping the money for himself. Butch and Mike escape from prison to take their revenge on Danny. Also escaping is Hank who warns the gang on their plans for Danny. Danny is nearly beaten to death with only brain surgery pulling him through. Hank and the gang revenge Danny by beating and capturing Butch. \n",
            "\n",
            "Place: 2\n",
            "ID:  3829\n",
            "Title:  Crime Wave\n",
            "Categories:  \"Crime Fiction\",  \"Drama\",  \"Film noir\"\n",
            "Summary:\n",
            " 'Doc' Penny  and his gang rob a gasoline station and in the process a police officer is killed and one of the gang members is wounded. The wounded thug imposes himself on Steve Lacey , an ex-con trying to start a new life, and demands he call a disreputable doctor for help. The doctor arrives, but too late. The gang member is dead. After his death, Lacey calls his parole officer who involves a hard-nosed cop, Detective Lieutenant Sims , who doesn't think he can reform. Later, the remaining gang members show up at Lacey's apartment. Fearing for his wife's  safety, he decides to let the men stay. Subsequently, Penny forces Lacey to rob a bank with them, but Lacey alerts the police  who staff the entire bank with police officers and ambush the robbers. In the end, most of the gang is killed, but Lacey and his wife are safe. \n",
            "\n",
            "Place: 3\n",
            "ID:  2384\n",
            "Title:  Kaante\n",
            "Categories:  \"Crime Fiction\",  \"World cinema\",  \"Caper story\",  \"Action/Adventure\",  \"Drama\",  \"Action\",  \"Musical Drama\",  \"Bollywood\"\n",
            "Summary:\n",
            " The movie is narrated by Lucky Ali, as Mak. The six main characters are detained by the LAPD, and interrogated about stealing a truck full of laptops and its whereabouts. All six are detained for about a day, where their deep antipathy towards the police department, for arresting them without any apparent evidence against all of them, and just because the witnesses had seen a South Asian at work, grows into a daring plot. Sparked by \"Major\" and blown up by \"Ajju\", who asks them to meet him in his club, they all hatch a plan to rob the bank in which holds the payroll for the LAPD. In return, Ajju reveals that he was the truck stealer and splits the money with all. Everyone goes about their normal life after that, in which it is revealed the personal troubles all face. Marc is a bouncer who hates the way his lover, a club-dancer, has to live and decides to rescue her from the club owner Cyrus, by paying him the required money. Ajju is a club owner who is facing his own problems handling the club and has to lease it out. He also has an ongoing spat with Marc about his girlfriend. Major has a sick wife who he has to look after by supplying her with medicine and injections. Andy is a young, intelligent, software engineer who is having problems with his job and is in the middle of a divorce and custody dispute with his wife. Major knows that Andy is the most important member of the group as he is the only one who can hack the bank's computer system. Mak and Bali are two drug-peddlers who live off the street selling and buying illicit drugs for a drug lord. They first meet when Bali is being chased by some undercover policemen and meets Mak in alley where he is adjusting something in his car. He agrees to save him only if he splits his loot. They agree to work as partners on those terms from then on. The six characters meet on a hotel rooftop where they construct their plan and arrange for arms, ammunition, vehicles and gadgets. They do some reconnaissance around the bank and two days before the robbery, Major calls up everyone to surprise them, telling them the robbery is to take place the next day. On the day of the robbery, they meet unexpected visitors in a SWAT team waiting for them outside the bank. They are engaged in gunfight during which Mak takes a bullet for Major. They all escape and meet at their hideout, however, they realize that someone might have betrayed them to police and realize that the police might know about their hideout as well. Mak, who was hit, is not allowed to be taken to the hospital, and Major treats his wound with some alcohol. They all have verbal scuffle after which, Ajju, reveals he had kidnapped the Police Chief. They interrogate him and get to know that one among them, was an undercover cop. This strikes terror among them and they all decide to bring the whole stolen amount to their hideout. On the process, they meet a number of surprises. Major finds out that his wife had died. Ajju befriends Marc and tells him to elope with his girlfriend. Marc finds out that Ajju was feigning his inability to speak English. When they return, they find Bali dead, killed by Mak because Bali was being inhuman in his interrogation of the Police Chief. Ajju realizes Mak to be the informer. Major defends Mak because he saved him during the gunfight at the bank. They all arrive at a Mexican stand-off, with Andy as the viewer. He retreats and runs away with the bags. They all kill each other, during which Major apologizes to Mak, for not saving him. In reply, Mak apologizes saying he was just doing his duty. Major realizes his mistake and shoots the already dying Mak in the head. Marc's girlfriend is shown waiting for him at the airport and Andy is shown at the end driving off the highway pursued by a Police helicopter. It is ascertained that he also died as all of them are, narrated by Mak, to have met in hell. \n",
            "\n",
            "Place: 4\n",
            "ID:  4189\n",
            "Title:  Wiggle Time\n",
            "Categories:  \"Short Film\"\n",
            "Summary:\n",
            " Opening - The Wiggles wave their hands up high from the song \"Whenever I Hear This Music\" and the Wiggle Time logo is showing in front. Jeff has fallen asleep while standing and then Anthony, Greg and Murray arrive. Murray suggests they wake him up, and Greg has everyone yell \"Wake Up Jeff!\" at the count of 3. They count: \"1, 2, 3, Wake Up, Jeff!\" Jeff jumps and screams, running around to the back of the set and then to the front. Anthony asks Jeff if he's awake now and he affirms. Now it's time to Wiggle! * Song 1: Get Ready To Wiggle Greg tells everyone that there going to sing a song all about four animals. And at the end of the song, he says that let's all growl like a scary bear. * Song 2: Here Comes A Bear While Jeff, Greg and Murray are growling at the end of the song, Captain Feathersword arrives and tickles them with the feathersword. Greg tells Captain Feathersword to stop tickling him, and Captain Feathersword agrees, stating he can show them a pirate dance they can learn. * Song 3: Captain Feathersword Murray introduces the next song about a man who lived a long, long, time ago. His name was Noah and he had to save some animals from a flood so he built a really, really big boat and called it an ark. As Murray lists off the animals, the other Wiggles make the sounds: duck quacking, cow mooing, rooster crowing, cats meowing. He also makes some gestures such as the goats shaking their heads and the long-eared donkeys going hee-haw. * Song 4: Uncle Noah's Ark The Wiggles and some kids are doing paintings using droppers. Anthony holds out his dropper and remarks that it looks like rain. * Song 5: I Love When It Rains Anthony talks about Dorothy the Dinosaur. Wherever she goes, sings and plays, she comes along with the Wiggles, she says \"romp bomp a chomp.\" Dorothy the Dinosaur loves to sing with children, but they don't know where she is. Anthony asks that if you know where Dorothy is? Dorothy walks in from the right but at the back of the set. The Wiggles hear from the audience where she is but she moves whenever they look in that direction. After a few misses, Dorothy walks up behind Jeff. Greg tells Jeff that Dorothy is behind him. Jeff looks to his left but Dorothy moves behind him and out of sight. After some more misses, Jeff looks and sees Dorothy in surprise. They all sing the next song. * Song 6: Dorothy The Dinosaur * Greg's Magic Trick - Coloring Book Trick * Song 7: Sing A Song Of Polly  Greg is a magician, wearing a top hat and cape. He does a magic trick where he flips through a book that initially does not have any pictures. He asks the audience to say some magic words and throw some pictures into the book. He flips through the book and it has some drawings. \"Did you do that? Raise your hand if you did. You're all so clever!\" He then asks to put some color into the picture by rubbing their clothes. He flips through the book but there is no color. He realizes he forgot to use his magic wand. How silly. He has everyone rub their clothes again and throw the colors at the book. He waves the wand and says \"Abracadabra.\" He then flips through the book and there is color on the drawings. Raise your hand if you did that. Now give yourselves a really big clap. Well done. Greg then disappears. * Song 8: Whenever I Hear This Music Jeff wears an extra purple shirt over his head and makes a blubbering noise; he asks if you know what he is. He's an octopus. He blubbers again and then pokes his head through the top. He's not really an octopus, it's just Jeff. And then he tells that he has a friend who is an octopus and his name is Henry the Octopus. * Song 9: Henry The Octopus The Wiggles are sitting on the floor with some kids who are holding teddy bears. They are having a picnic. Greg says that he knows a song about teddy bears, and he asks if everyone can sing and do the actions with them. * Song 10: Rock A Bye Your Bear The Wiggles and some kids are seated at a table, making fruit salad. Anthony explains how it's done and to make sure there is an adult present, and to use a plastic knife. * Song 11: Fruit Salad Anthony leads The Wiggles and some kids in a line. The kids are holding presents. He stops and tells everyone they are going to Dorothy the Dinosaur's birthday party and that you can come along. Then they continue marching around singing and then walk off the set. * Song 12: Marching Along * Song 13: Dorothy's Birthday Party Greg remarks what a great party it was, but now they're tired so it's time to go. They all say goodbye and fell asleep except for Jeff, who tries to wake everyone up but they don't wake up. Jeff then crosses his arms and shakes his head with a sigh. \n",
            "\n",
            "Place: 5\n",
            "ID:  4654\n",
            "Title:  Yes, We Have No Bonanza\n",
            "Categories:  \"Short Film\",  \"Comedy\",  \"Black-and-white\",  \"Slapstick\"\n",
            "Summary:\n",
            " The Stooges are singing waiters in a saloon out West, accompanied by three cowgirls. Unfortunately, saloon keeper Maxey  is surly and patronizing to the hard working girls. The girls have little choice, as they are forced to work for him because their father is in debt. The Stooges vow to make enough money to pay off the debt and wed the girls, and decide to go prospecting for gold. Unknown to the Stooges, however, Maxey has recently robbed a bank and buried the loot. In their digging, the boys managed to discover Maxey's stash, thinking they are truly in the dough. They return to town, but Maxey gets his hands on the money and flee the saloon. The Stooges, of course, catch up with Maxey, retrieve the loot, and end up giving back to the bank from whence it came, much to their astonishment. \n",
            "\n",
            "Place: 6\n",
            "ID:  137\n",
            "Title:  New Police Story\n",
            "Categories:  \"Thriller\",  \"Action Thrillers\",  \"World cinema\",  \"Action/Adventure\",  \"Martial Arts Film\",  \"Action\",  \"Chinese Movies\"\n",
            "Summary:\n",
            "  The film begins with police Inspector Chan Kwok-wing  drinking one whiskey after another. Later, he collapses in an alley, and is found by a stranger, played by Nicholas Tse. The timeline then moves back a year, to show the heroics of Inspector Chan, as he disguises himself as a news cameraman in order to subdue a man holding a woman hostage in Central. Soon after that incident, a group of rebellious youths rob a bank. They explicitly ask a bank worker to call the police, and are confronted by the police outside the Legislative Council building. They play a sadistic game, in which they are awarded money for shooting police officers with assault rifles, before making their escape. Inspector Chan and his squad are called to arrest the gang after their hideout is revealed. However, the hideout is rigged and the ten man police squad fall into various traps one by one. Chan then finds his men in a large warehouse, suspended from the high ceiling by ropes. The gang challenges him to training regimes that are taught to policemen, betting lives of his men each time. Under mental pressure and the taunts of the gang, Chan loses and is left with only his would-be brother-in-law to save, who soon dies nevertheless. He tries to save the bodies of his comrades for burial before explosives blow up the building. Being the sole survivor of the incident, Chan takes a year long leave from the police force, drinking heavily to drown his sorrows and guilt. The timeline jumps back to the present day. The stranger, who first featured at the start, brings him home. When Chan wakes up, the man identifies himself as PC 1667, Frank Cheng , his new partner. Frank tries various means to convince Chan to cancel his leave and take up the case but Chan refuses. However, he comes to his senses eventually by apprehending the same two youths that robbed him. At the police station, Frank tells Chan that he is Kwong's younger brother, which convinces Chan to relook into the case. Frank and Chan convinces Sam Wong, a former colleague of Chan, to reveal a clue from the night of the first robbery; a watch which he snatched from one of the robbers. Chan and Frank are tailed by the police as they go in search of the owner of the watch. Sam Wong was also arrested by the police to assist in the investigation. Sam Wong is shot dead by another gang member, Fire, before he manages to identify the robber . Before dying, Wong confesses to Chan that he was blackmailed by the gang into revealing their rigged hideout to Chan's team a year ago, due to the bag of money he took from Sue to pay off his debts. Fire and Sue both manage to escape the building, with Chan and Frank pursuing Fire. To distract Chan, Fire shoots at a bus driver, killing him instantly and rendering the bus full of school kids out of control. Chan quickly jumps onto the roof of the bus in an attempt to stop it. After the careening bus has caused a great deal of havoc, Chan finally manages to climb in and hit the brakes, halting it from falling into Victoria Harbour, while Frank rams a truck full of rubber ducks in front of the bus' path. After the incident, Chan discovers that Frank is not really a policeman, and confronts him. Frank attempts to explain to Chan, but Chan refuses to believe the story. Regardless, they stay together to continue to track the gang leader, Joe. They are informed by Officer Sa Sa that the gang members all come from rich families and the gang leader is actually the son of the police chief. Sue and Fire return to the gang's new hideout. Sue is badly wounded, after being shot by Frank earlier. Seeing her injury, Joe shoots and kills her. Joe's gang access Chan's police file on a computer, with Joe bent on taking revenge. Joe then arranges to meet Chan's girlfriend, Ho Yee, in the police station. He wraps a time bomb around her neck before leaving. When Chan learns of the bomb he desperately tries to free her. Ho Yee cuts the wires, with no effect, leading the police to believe that it is a fake. But when the two get ready to leave, a small wire attached to Ho Yee's back pulls out the secondary trigger, causing the bomb to explode. Before she can escape, it explodes and some falling pipes land on her, knocking her into a coma. Unfortunately for Chan, he is charged with assisting the impersonation of an officer  and for acting as an officer while under suspension. After Chan and Frank are taunted by Joe's gang, Sa Sa and her father, the jailer, release both of them illegally. The two sneak out of the police station, with everyone deliberately ignoring their escape. Police Chief Wong even makes his handgun available to Chan and tells Chan to 'bring it back when you're done'. Chan, Frank, and Sa Sa then go to a computer cafe to find teens playing the game up until they complete the most recent level to find out the gang's next target is the Bank of Hong Kong, located in the New Wing of the Convention and Exhibition Centre. A squad of police officers arrive, but this time Chan stops them from rushing in, assigning them the task of calmly escorting the public out of the building. Once the public are moved to safety, the gang members' parents are sent in, much to their surprise. One of the gang members, Max, is so ashamed of himself that he attempts to run down the escalators to his parents, only to be shot dead by Joe. Afterwards, Chan and Frank run up to engage the three remaining gang members. Frank manages to shoot Fire in the leg with his own gun, disabling him. Chan chases another gang member, Tin Tin, into a Lego exhibition. When the exhibition hall is emptied, Chan reminds him that they had struck a draw the last time they fought. The two engage in hand-to-hand combat, with Chan defeating Tin Tin. Joe then chases Frank into the hall and shoots at him. In the crossfire, Tin Tin is shot in the chest. Joe manages to chase Frank out of the room just moments before the Special Duties Unit of the police arrive. Tin Tin grabs a gun from the floor and points it at Chan's back. Chan, oblivious to what's happening behind him, calls out to the squad to bring in a medic for the Tin Tin. Contemplating what he has done and how Chan is helping him, Tin Tin decides not to shoot Chan. Chan finds Joe on the roof of the Convention Centre. Having captured and tied up Frank, Joe threatens to throw him to his death. Joe challenges Chan to a race to assemble a semi automatic pistol, a rematch of an earlier challenge, and wagering Frank's life in the process. This time, Chan chambers the bullet first thus swiftly wins the game, much to Joe's disbelief. A number of policemen arrive on the roof, along with Joe's father, the police chief. Joe's father reprimands him, while Chan tells Joe that he knows that he doesn't hate cops, he merely hates his father for berating him. Due to what Chan and his father have said, Joe finally admits defeat and deliberately unloads the single bullet in his gun and aims the empty gun at Chan for the police to have a cause to kill Joe. Not knowing that Joe's gun is empty, a police sniper then fires a round at him, injuring Joe in the process. He weeps and again aims at his father, causing the sniper to fire once more, killing him despite Chan's yelling that the gun was empty. Chan rushes to rescue Frank and both of them fall off the building. They eventually land onto a fireman's inflated cushion. In the hospital, Ho Yee has recovered and prepares to leave. She is met by several policemen and nurses who persuade her to accept Chan's marriage proposal. At first, she tries to hide her facial scars from Chan, but eventually accepts the proposal to the crowd's applause. Meanwhile, Frank is led away by Officer Sa Sa. He leaves his jacket on a railing. When Chan looks at the jacket, he suddenly recalls meeting Frank before, and has a flashback to an event from years ago: a homeless man from the mainland arrives without much money, and his son is starving. He tries to steal some food for his son from a 7-Eleven store. While running across the road to escape from the shopkeeper and the police, he is knocked down by a truck and killed. Chan arrives at the scene and uses his jacket to cover the body of the boy's father. Chan then buys the boy a loaf of bread. He comforts him, saying that the best thing do is to try to forget the past and look forward to the future. He asks the boy for his name, to which the boy replies, \"Frank Cheng\". \n",
            "\n"
          ]
        }
      ]
    },
    {
      "cell_type": "markdown",
      "metadata": {
        "id": "4irg4K-IPSym"
      },
      "source": [
        "## Tip: persistence αντικειμένων με joblib.dump\n",
        "\n",
        "H βιβλιοθήκη [joblib](https://pypi.python.org/pypi/joblib) της Python δίνει κάποιες εξαιρετικά χρήσιμες ιδιότητες στην ανάπτυξη κώδικα: pipelining, παραλληλισμό, caching και variable persistence. Τις τρεις πρώτες ιδιότητες τις είδαμε στην πρώτη άσκηση. Στην παρούσα άσκηση θα μας φανεί χρήσιμη η τέταρτη, το persistence των αντικειμένων. Συγκεκριμένα μπορούμε με:\n",
        "\n",
        "```python\n",
        "joblib.dump(my_object, 'my_object.pkl') \n",
        "```\n",
        "\n",
        "να αποθηκεύσουμε οποιοδήποτε αντικείμενο-μεταβλητή (εδώ το `my_object`) απευθείας πάνω στο filesystem ως αρχείο, το οποίο στη συνέχεια μπορούμε να ανακαλέσουμε ως εξής:\n",
        "\n",
        "```python\n",
        "my_object = joblib.load('my_object.pkl')\n",
        "```\n",
        "\n",
        "Μπορούμε έτσι να ανακαλέσουμε μεταβλητές ακόμα και αφού κλείσουμε και ξανανοίξουμε το notebook, χωρίς να χρειαστεί να ακολουθήσουμε ξανά όλα τα βήματα ένα - ένα για την παραγωγή τους, κάτι ιδιαίτερα χρήσιμο αν αυτή η διαδικασία είναι χρονοβόρα. Προσοχή: αυτό ισχύει μόνο στα Azure και Kaggle, στο Colab και στο IBM τα αρχεία εξαφανίζονται όταν ανακυκλώνεται ο πυρήνας και θα πρέπει να τα αποθηκεύετε τοπικά. Περισσότερα στο [FAQ](https://docs.google.com/document/d/1-E4eQkVnTxa3Jb0HL9OAs11bugYRRZ7RNWpu7yh9G4s/edit?usp=sharing).\n",
        "\n",
        "Ας αποθηκεύσουμε το `corpus_tf_idf` και στη συνέχεια ας το ανακαλέσουμε."
      ]
    },
    {
      "cell_type": "code",
      "metadata": {
        "id": "aESOPYQaPSyo",
        "scrolled": true,
        "outputId": "2e398508-41ef-462a-f0f2-e6e094999a44",
        "colab": {
          "base_uri": "https://localhost:8080/"
        }
      },
      "source": [
        "\n",
        "import joblib\n",
        "\n",
        "joblib.dump(corpus_tf_idf, 'corpus_tf_idf.pkl', compress=True) "
      ],
      "execution_count": null,
      "outputs": [
        {
          "output_type": "execute_result",
          "data": {
            "text/plain": [
              "['corpus_tf_idf.pkl']"
            ]
          },
          "metadata": {},
          "execution_count": 40
        }
      ]
    },
    {
      "cell_type": "markdown",
      "metadata": {
        "id": "7_rAEj5ZPSy1"
      },
      "source": [
        "\n",
        "\n",
        "Μπορείτε με ένα απλό `!ls` να δείτε ότι το αρχείο `corpus_tf_idf.pkl` υπάρχει στο filesystem σας (== persistence):"
      ]
    },
    {
      "cell_type": "code",
      "metadata": {
        "id": "ZhwXmTEIPSy3",
        "scrolled": true,
        "outputId": "7be730d7-f190-42e9-e5ed-7011f29efc70",
        "colab": {
          "base_uri": "https://localhost:8080/"
        }
      },
      "source": [
        "!ls -lh"
      ],
      "execution_count": null,
      "outputs": [
        {
          "output_type": "stream",
          "name": "stdout",
          "text": [
            "total 23M\n",
            "-rw-r--r-- 1 root root 3.9M Dec 22 15:35 corpus_tf_idf.pkl\n",
            "drwxr-xr-x 1 root root 4.0K Dec  3 14:33 sample_data\n",
            "-rw-r--r-- 1 root root  19M Dec 22 15:11 som20x20@100e.pkl\n"
          ]
        }
      ]
    },
    {
      "cell_type": "markdown",
      "metadata": {
        "id": "cey5AbkO475S"
      },
      "source": [
        "και μπορούμε να τα διαβάσουμε με `joblib.load`"
      ]
    },
    {
      "cell_type": "code",
      "metadata": {
        "id": "DSJPTKY8PSyu"
      },
      "source": [
        "corpus_tf_idf = joblib.load('corpus_tf_idf.pkl')"
      ],
      "execution_count": null,
      "outputs": []
    },
    {
      "cell_type": "markdown",
      "metadata": {
        "id": "zHOQtO83PSy9"
      },
      "source": [
        "# Εφαρμογή 2.  Τοπολογική και σημασιολογική απεικόνιση της ταινιών με χρήση SOM\n",
        "<img src=\"https://i.imgur.com/Z4FdurD.jpg\" width=\"60%\">"
      ]
    },
    {
      "cell_type": "markdown",
      "metadata": {
        "id": "UB_clmizPSy-"
      },
      "source": [
        "## Δημιουργία dataset\n"
      ]
    },
    {
      "cell_type": "code",
      "metadata": {
        "id": "U-FDDOkQPSzA"
      },
      "source": [
        "def build_final_set(doc_limit = 5000, tf_idf_only=False):\n",
        "    # convert sparse tf_idf to dense tf_idf representation\n",
        "    dense_tf_idf = corpus_tf_idf.toarray()[0:doc_limit,:]\n",
        "    if tf_idf_only:\n",
        "        # use only tf_idf\n",
        "        final_set = dense_tf_idf\n",
        "    else:\n",
        "        # append the binary categories features horizontaly to the (dense) tf_idf features\n",
        "        final_set = np.hstack((dense_tf_idf, catbins[0:doc_limit,:]))\n",
        "        # η somoclu θέλει δεδομένα σε float32\n",
        "    return np.array(final_set, dtype=np.float32)"
      ],
      "execution_count": null,
      "outputs": []
    },
    {
      "cell_type": "code",
      "metadata": {
        "id": "aF1B62UbPSzF"
      },
      "source": [
        "final_set = build_final_set()"
      ],
      "execution_count": null,
      "outputs": []
    },
    {
      "cell_type": "markdown",
      "metadata": {
        "id": "KjvPPENS_dYL"
      },
      "source": [
        "Τυπώνουμε τις διαστάσεις του τελικού dataset μας. Χωρίς βελτιστοποίηση του TFIDF θα έχουμε περίπου 50.000 χαρακτηριστικά."
      ]
    },
    {
      "cell_type": "code",
      "metadata": {
        "id": "fvEgNn-L-jEw",
        "outputId": "dc6f102f-4f6e-4dc1-d5a1-7c78dbb45a68",
        "colab": {
          "base_uri": "https://localhost:8080/"
        }
      },
      "source": [
        "print(corpus_tf_idf.shape)\n",
        "print(final_set.shape)"
      ],
      "execution_count": null,
      "outputs": [
        {
          "output_type": "stream",
          "name": "stdout",
          "text": [
            "(5000, 10673)\n",
            "(5000, 10995)\n"
          ]
        }
      ]
    },
    {
      "cell_type": "markdown",
      "metadata": {
        "id": "XYMvUSPTSZuf"
      },
      "source": [
        "Τυπωνουμε τις (μη μηδενικες) τιμες ενος στοιχειου του final_set για να δουμε τι περιεχει. "
      ]
    },
    {
      "cell_type": "code",
      "metadata": {
        "id": "O7LMx2XgQaXc",
        "outputId": "83da346d-9c5c-4504-df7f-08e739dc698e",
        "colab": {
          "base_uri": "https://localhost:8080/"
        }
      },
      "source": [
        "for i in range(len(final_set[0])):\n",
        "    if final_set[0][i]!=0:\n",
        "        print(final_set[0][i])"
      ],
      "execution_count": null,
      "outputs": [
        {
          "output_type": "stream",
          "name": "stdout",
          "text": [
            "0.03414758\n",
            "0.035620734\n",
            "0.0519954\n",
            "0.046648435\n",
            "0.05275471\n",
            "0.0486082\n",
            "0.03224282\n",
            "0.021575825\n",
            "0.06680079\n",
            "0.039976638\n",
            "0.031619627\n",
            "0.037216045\n",
            "0.053603545\n",
            "0.063672125\n",
            "0.10720709\n",
            "0.03908262\n",
            "0.026189882\n",
            "0.044837274\n",
            "0.10824268\n",
            "0.03174871\n",
            "0.04148351\n",
            "0.02470729\n",
            "0.03491362\n",
            "0.046336222\n",
            "0.087096356\n",
            "0.026973767\n",
            "0.031969115\n",
            "0.045391154\n",
            "0.037284814\n",
            "0.028163457\n",
            "0.031125255\n",
            "0.050681453\n",
            "0.035473652\n",
            "0.022091204\n",
            "0.019785859\n",
            "0.049570527\n",
            "0.038617507\n",
            "0.031165183\n",
            "0.14308351\n",
            "0.031662397\n",
            "0.03711823\n",
            "0.019769367\n",
            "0.03525851\n",
            "0.092626356\n",
            "0.2079816\n",
            "0.3885835\n",
            "0.032575868\n",
            "0.025267815\n",
            "0.030123219\n",
            "0.04043934\n",
            "0.0342084\n",
            "0.043391086\n",
            "0.039976638\n",
            "0.050681453\n",
            "0.04011391\n",
            "0.038075387\n",
            "0.06447497\n",
            "0.0519954\n",
            "0.05403734\n",
            "0.05053563\n",
            "0.026011439\n",
            "0.017787285\n",
            "0.028740307\n",
            "0.2128328\n",
            "0.017338611\n",
            "0.041155875\n",
            "0.031368203\n",
            "0.02729412\n",
            "0.044077966\n",
            "0.03022792\n",
            "0.16548312\n",
            "0.04099748\n",
            "0.025704721\n",
            "0.021164486\n",
            "0.030625386\n",
            "0.03592422\n",
            "0.038617507\n",
            "0.022896126\n",
            "0.045391914\n",
            "0.050104607\n",
            "0.050681453\n",
            "0.049570527\n",
            "0.049570527\n",
            "0.049073312\n",
            "0.041475162\n",
            "0.030737702\n",
            "0.031006785\n",
            "0.017559458\n",
            "0.06853946\n",
            "0.049073312\n",
            "0.03153484\n",
            "0.06904086\n",
            "0.028655019\n",
            "0.021554692\n",
            "0.02437203\n",
            "0.029336246\n",
            "0.05275471\n",
            "0.0290024\n",
            "0.04093887\n",
            "0.04671062\n",
            "0.040253855\n",
            "0.022807699\n",
            "0.028487412\n",
            "0.049073312\n",
            "0.08915036\n",
            "0.04364686\n",
            "0.04148351\n",
            "0.019720118\n",
            "0.0724821\n",
            "0.031705424\n",
            "0.016955152\n",
            "0.031085549\n",
            "0.018807039\n",
            "0.028323615\n",
            "0.046313178\n",
            "0.03192449\n",
            "0.03247913\n",
            "0.04099748\n",
            "0.03532951\n",
            "0.11585251\n",
            "0.033622157\n",
            "0.02437203\n",
            "0.026434895\n",
            "0.02821645\n",
            "0.04817129\n",
            "0.10550942\n",
            "0.045992825\n",
            "0.057653233\n",
            "0.030123219\n",
            "0.044322286\n",
            "0.037009362\n",
            "0.043841656\n",
            "0.043612853\n",
            "0.051308524\n",
            "0.03145104\n",
            "0.03776867\n",
            "0.049570527\n",
            "0.04011391\n",
            "0.036744054\n",
            "0.05924277\n",
            "0.020469435\n",
            "0.03157711\n",
            "0.041155875\n",
            "0.06315422\n",
            "0.047369715\n",
            "0.047000054\n",
            "0.050104607\n",
            "0.036080893\n",
            "0.100209214\n",
            "0.042764015\n",
            "0.055063978\n",
            "0.039841928\n",
            "0.039579835\n",
            "0.022228919\n",
            "0.027483784\n",
            "0.054565873\n",
            "0.07184844\n",
            "0.031836063\n",
            "0.043391086\n",
            "0.019769367\n",
            "0.04977866\n",
            "0.03932694\n",
            "0.027041227\n",
            "0.038180597\n",
            "0.035537083\n",
            "0.025007615\n",
            "0.0519954\n",
            "0.017806077\n",
            "0.028515076\n",
            "0.040542163\n",
            "0.047369715\n",
            "0.029243652\n",
            "0.049084805\n",
            "0.31185722\n",
            "0.039841928\n",
            "0.019056331\n",
            "0.061627127\n",
            "0.03850577\n",
            "0.049570527\n",
            "0.025392532\n",
            "0.025704721\n",
            "0.04994724\n",
            "0.0486082\n",
            "0.0684168\n",
            "0.036744054\n",
            "0.06448564\n",
            "0.02196724\n",
            "0.031368203\n",
            "0.037284814\n",
            "0.47493538\n",
            "0.036002133\n",
            "0.087225705\n",
            "0.021639602\n",
            "0.038287368\n",
            "0.037100013\n",
            "0.053603545\n",
            "0.051308524\n",
            "0.04509749\n",
            "0.018239064\n",
            "0.02952508\n",
            "1.0\n"
          ]
        }
      ]
    },
    {
      "cell_type": "markdown",
      "metadata": {
        "id": "Om7PoyDVCqis"
      },
      "source": [
        ""
      ]
    },
    {
      "cell_type": "markdown",
      "metadata": {
        "id": "RDMMfo1kUmJO"
      },
      "source": [
        "Θα μπορούσε να εφαρμοστεί PCA για την περαιτέρω μείωση της διαστατικότητας πριν εκπαιδεύσουμε τον χάρτη SOM. Στο πρώτο εργαστήριο η εφαρμογή PCA ήταν αυτή που βελτιώνε τα αποτελέσματα περισσότερο από όλες τις άλλες μεθόδους."
      ]
    },
    {
      "cell_type": "markdown",
      "metadata": {
        "id": "8tikdip0PSzQ"
      },
      "source": [
        "## Εκπαίδευση χάρτη SOM\n",
        "\n",
        "\n",
        "\n",
        "\n",
        "Θα δουλέψουμε με τη βιβλιοθήκη SOM [\"Somoclu\"](http://somoclu.readthedocs.io/en/stable/index.html). Εισάγουμε τις somoclu και matplotlib και λέμε στη matplotlib να τυπώνει εντός του notebook (κι όχι σε pop up window)."
      ]
    },
    {
      "cell_type": "code",
      "metadata": {
        "id": "oX9rzxGSPSzR",
        "outputId": "5b08a8f0-d444-4b17-ab7f-3a0a0eb24e47",
        "colab": {
          "base_uri": "https://localhost:8080/"
        }
      },
      "source": [
        "# install somoclu\n",
        "!pip install --upgrade somoclu\n",
        "# import sompoclu, matplotlib\n",
        "import somoclu\n",
        "import matplotlib\n",
        "# we will plot inside the notebook and not in separate window\n",
        "%matplotlib inline"
      ],
      "execution_count": null,
      "outputs": [
        {
          "output_type": "stream",
          "name": "stdout",
          "text": [
            "Collecting somoclu\n",
            "  Downloading somoclu-1.7.5.1.tar.gz (6.1 MB)\n",
            "     |████████████████████████████████| 6.1 MB 4.8 MB/s            \n",
            "\u001b[?25h  Preparing metadata (setup.py) ... \u001b[?25l\u001b[?25hdone\n",
            "Requirement already satisfied: numpy in /usr/local/lib/python3.7/dist-packages (from somoclu) (1.21.5)\n",
            "Requirement already satisfied: matplotlib in /usr/local/lib/python3.7/dist-packages (from somoclu) (3.2.2)\n",
            "Requirement already satisfied: scipy in /usr/local/lib/python3.7/dist-packages (from somoclu) (1.4.1)\n",
            "Requirement already satisfied: cycler>=0.10 in /usr/local/lib/python3.7/dist-packages (from matplotlib->somoclu) (0.11.0)\n",
            "Requirement already satisfied: python-dateutil>=2.1 in /usr/local/lib/python3.7/dist-packages (from matplotlib->somoclu) (2.8.2)\n",
            "Requirement already satisfied: pyparsing!=2.0.4,!=2.1.2,!=2.1.6,>=2.0.1 in /usr/local/lib/python3.7/dist-packages (from matplotlib->somoclu) (3.0.6)\n",
            "Requirement already satisfied: kiwisolver>=1.0.1 in /usr/local/lib/python3.7/dist-packages (from matplotlib->somoclu) (1.3.2)\n",
            "Requirement already satisfied: six>=1.5 in /usr/local/lib/python3.7/dist-packages (from python-dateutil>=2.1->matplotlib->somoclu) (1.15.0)\n",
            "Building wheels for collected packages: somoclu\n"
          ]
        }
      ]
    },
    {
      "cell_type": "markdown",
      "metadata": {
        "id": "EqBfn0ijPSzX"
      },
      "source": [
        ""
      ]
    },
    {
      "cell_type": "markdown",
      "metadata": {
        "id": "eoI0kS7kS4yQ"
      },
      "source": [
        "Αρχικα οριζουμε τις διαστασεις του SOM για να τις εχουμε ευκαιρες, και οριζουμε το ονομα του αρχειου που ειτε θα αποθηκευσουμε στην συνεχεια η (στους υπολογιστες μας) θα φορτωσουμε για να μην κανουμε την εκπαιδευση του δικτυου."
      ]
    },
    {
      "cell_type": "code",
      "metadata": {
        "id": "7rPcBRCzrQ4X"
      },
      "source": [
        "n_rows, n_columns = 20,20\n",
        "som = somoclu.Somoclu(n_columns, n_rows, compactsupport=False)\n",
        "epochs = 100\n",
        "filename = 'som' + str(n_rows) + 'x' + str(n_columns) + '@' + str(epochs) + 'e.pkl'"
      ],
      "execution_count": null,
      "outputs": []
    },
    {
      "cell_type": "code",
      "metadata": {
        "id": "PXlYsQn_mywd"
      },
      "source": [
        "#don't execute this cell unless the som is already loaded!\n",
        "#execute cell below to train from scratch the SOM!\n",
        "som = joblib.load(filename)"
      ],
      "execution_count": null,
      "outputs": []
    },
    {
      "cell_type": "code",
      "metadata": {
        "id": "brPEza_bm9dy"
      },
      "source": [
        "%time som.train(final_set, epochs=epochs)"
      ],
      "execution_count": null,
      "outputs": []
    },
    {
      "cell_type": "markdown",
      "metadata": {
        "id": "ntd2GE9SaHiS"
      },
      "source": [
        "\n",
        "## Best matching units\n",
        "\n",
        "\n"
      ]
    },
    {
      "cell_type": "markdown",
      "metadata": {
        "id": "l6a77LRoTqOX"
      },
      "source": [
        "Για να καταλαβουμε την φυση των δεδομενων, τυπωνουμε αρχικα τις διαστασεις του πινακα με τα bmus, και ενδεικτικα καποια απο αυτα για να δουμε τι συμβαινει:"
      ]
    },
    {
      "cell_type": "code",
      "metadata": {
        "id": "FJ8NlVPPrdqJ"
      },
      "source": [
        "bmus = som.bmus\n",
        "print(bmus.shape)\n",
        "print(bmus)\n",
        "ubmus, indices = np.unique(bmus, return_inverse=True, axis=0)\n",
        "# το return_inverse επιστρέφει και τους δείκτες indices"
      ],
      "execution_count": null,
      "outputs": []
    },
    {
      "cell_type": "markdown",
      "metadata": {
        "id": "0qwTufrHT1MR"
      },
      "source": [
        "Επιπλεον, τυπωνουμε τα ιδια για τα ubmus. Παρατηρουμε οτι δεν υπαρχουν ολοι οι νευρωνες, δηλαδη σε καποιους νευρωνες δεν εχουν ανατεθει ταινιες (π.χ. ο νευρωνας (1,5))."
      ]
    },
    {
      "cell_type": "code",
      "metadata": {
        "id": "9FTKIdnS6jPx"
      },
      "source": [
        "print(ubmus[100:].shape)\n",
        "print(ubmus[100:])"
      ],
      "execution_count": null,
      "outputs": []
    },
    {
      "cell_type": "code",
      "metadata": {
        "id": "DxIDaMmp8kIA"
      },
      "source": [
        "print(len(indices))\n",
        "print(indices)"
      ],
      "execution_count": null,
      "outputs": []
    },
    {
      "cell_type": "markdown",
      "metadata": {
        "id": "54GOvRg5UFJ2"
      },
      "source": [
        "Κανουμε χρηση της np.where για να δουμε την μορφη εξοδου, αλλα και για να δουμε οτι ολα δουλευουν σωστα."
      ]
    },
    {
      "cell_type": "code",
      "metadata": {
        "id": "5aw5gHsi-Xw1"
      },
      "source": [
        "print(np.where(indices==0))"
      ],
      "execution_count": null,
      "outputs": []
    },
    {
      "cell_type": "markdown",
      "metadata": {
        "id": "grzqcyHyaKdg"
      },
      "source": [
        "\n",
        "## Ομαδοποίηση (clustering)\n",
        "\n",
        "Τυπικά, η ομαδοποίηση σε ένα χάρτη SOM προκύπτει από το unified distance matrix (U-matrix): για κάθε κόμβο υπολογίζεται η μέση απόστασή του από τους γειτονικούς κόμβους. Εάν χρησιμοποιηθεί μπλε χρώμα στις περιοχές του χάρτη όπου η τιμή αυτή είναι χαμηλή (μικρή απόσταση) και κόκκινο εκεί που η τιμή είναι υψηλή (μεγάλη απόσταση), τότε μπορούμε να πούμε ότι οι μπλε περιοχές αποτελούν clusters και οι κόκκινες αποτελούν σύνορα μεταξύ clusters.\n",
        "\n",
        "To somoclu δίνει την επιπρόσθετη δυνατότητα να κάνουμε ομαδοποίηση των νευρώνων χρησιμοποιώντας οποιονδήποτε αλγόριθμο ομαδοποίησης του scikit-learn. Στην άσκηση θα χρησιμοποιήσουμε τον k-Means. Για τον αρχικό σας χάρτη δοκιμάστε ένα k=20 ή 25. Οι δύο προσεγγίσεις ομαδοποίησης είναι διαφορετικές, οπότε περιμένουμε τα αποτελέσματα να είναι κοντά αλλά όχι τα ίδια.\n"
      ]
    },
    {
      "cell_type": "markdown",
      "metadata": {
        "id": "jTuOZAy4gMdf"
      },
      "source": [
        "Καναμε δοκιμες για τον αριθμο των clusters, και δουλεψαμε με 15, 20, 25 και 30. Βρηκαμε οτι οσο μεγαλωνε το K, τα clusters ηταν πιο διακριτα στις κατηγοριες που περιειχαν (πραγμα εξαιρετικα φυσιολογικο, καθως μικρα Κ τεινουν να μην σεβονται υποκατηγοριες). Ακομα, δεν παρατηρηθηκε καποια αισθητη διαφορα μεταξυ Κ=25 και Κ=30, και επιλεξαμε Κ = 25 καθως θεωρησαμε οτι τα clusters δεν πρεπει να ειναι παρα πολλα, καθως μπορει το νοημα να χαθει και να αναλυουμε λεπτομερειες. Θεωρητικα,θα επρεπε να εχουμε κανει καποια αναλυση με βαση καποιο κριτηριο για την επιλογη του Κ, αλλα αυτο ας αφεθει για καποια αλλη εργασια. "
      ]
    },
    {
      "cell_type": "code",
      "metadata": {
        "id": "KTcCRKnM3X7V"
      },
      "source": [
        "from sklearn.cluster import KMeans\n",
        "n_cluster = 25\n",
        "algorithm = KMeans(n_clusters=n_cluster)\n",
        "som.cluster(algorithm=algorithm)"
      ],
      "execution_count": null,
      "outputs": []
    },
    {
      "cell_type": "markdown",
      "metadata": {
        "id": "2nupuqcuaMe3"
      },
      "source": [
        "\n",
        "## Αποθήκευση του SOM\n",
        "\n",
        "Επειδή η αρχικοποίηση του SOM γίνεται τυχαία και το clustering είναι και αυτό στοχαστική διαδικασία, οι θέσεις και οι ετικέτες των νευρώνων και των clusters θα είναι διαφορετικές κάθε φορά που τρέχετε τον χάρτη, ακόμα και με τις ίδιες παραμέτρους. Για να αποθηκεύσετε ένα συγκεκριμένο som και clustering χρησιμοποιήστε και πάλι την `joblib`. Μετά την ανάκληση ενός SOM θυμηθείτε να ακολουθήσετε τη διαδικασία για τα bmus.\n"
      ]
    },
    {
      "cell_type": "code",
      "metadata": {
        "id": "iRJ_KjhRsG20"
      },
      "source": [
        "filename = 'som' + str(n_rows) + 'x' + str(n_columns) + '@' + str(epochs) + 'e.pkl'\n",
        "joblib.dump(som, filename, compress = True)"
      ],
      "execution_count": null,
      "outputs": []
    },
    {
      "cell_type": "markdown",
      "metadata": {
        "id": "ejX0Qs18aRHU"
      },
      "source": [
        "\n",
        "## Οπτικοποίηση U-matrix, clustering και μέγεθος clusters\n",
        "\n",
        "Για την εκτύπωση του U-matrix χρησιμοποιήστε τη `view_umatrix` με ορίσματα `bestmatches=True` και `figsize=(15, 15)` ή `figsize=(20, 20)`. Τα διαφορετικά χρώματα που εμφανίζονται στους κόμβους αντιπροσωπεύουν τα διαφορετικά clusters που προκύπτουν από τον k-Means. Μπορείτε να εμφανίσετε τη λεζάντα του U-matrix με το όρισμα `colorbar`. Μην τυπώνετε τις ετικέτες (labels) των δειγμάτων, είναι πολύ μεγάλος ο αριθμός τους.\n",
        "\n",
        "Για μια δεύτερη πιο ξεκάθαρη οπτικοποίηση του clustering τυπώστε απευθείας τη μεταβλητή `clusters`.\n",
        "\n",
        "Τέλος, χρησιμοποιώντας πάλι την `np.unique` (με διαφορετικό όρισμα) και την `np.argsort` (υπάρχουν και άλλοι τρόποι υλοποίησης) εκτυπώστε τις ετικέτες των clusters (αριθμοί από 0 έως k-1) και τον αριθμό των νευρώνων σε κάθε cluster, με φθίνουσα ή αύξουσα σειρά ως προς τον αριθμό των νευρώνων. Ουσιαστικά είναι ένα εργαλείο για να βρίσκετε εύκολα τα μεγάλα και μικρά clusters. \n",
        "\n",
        "Ακολουθεί ένα μη βελτιστοποιημένο παράδειγμα για τις τρεις προηγούμενες εξόδους:\n",
        "\n",
        "<img src=\"https://image.ibb.co/i0tsfR/umatrix_s.jpg\" width=\"35%\">\n",
        "<img src=\"https://image.ibb.co/nLgHEm/clusters.png\" width=\"35%\">\n",
        "\n"
      ]
    },
    {
      "cell_type": "markdown",
      "metadata": {
        "id": "B90ELgzBV0Qr"
      },
      "source": [
        "Χρησιμοποιουμε τις παραπανω πληροφοριες για να τυπωσουμε το heatmap και τους πινακες ετσι ωστε να εχουμε μια καλυτερη εικονα."
      ]
    },
    {
      "cell_type": "code",
      "metadata": {
        "id": "OSwTpJm_rXaj"
      },
      "source": [
        "som.view_umatrix(bestmatches=True, colorbar=True, figsize=(15,15))\n",
        "print(som.clusters)\n",
        "_ , no_of_neurons = np.unique(som.clusters, return_counts=True)\n",
        "cluster_index = np.argsort(no_of_neurons)\n",
        "print(\"Cluster Index:\")\n",
        "print(cluster_index)\n",
        "print(\"Number of Neurons:\")\n",
        "print(no_of_neurons[cluster_index])"
      ],
      "execution_count": null,
      "outputs": []
    },
    {
      "cell_type": "markdown",
      "metadata": {
        "id": "fMO_KcQYaTv-"
      },
      "source": [
        "\n",
        "## Σημασιολογική ερμηνεία των clusters\n",
        "\n",
        "Προκειμένου να μελετήσουμε τις τοπολογικές ιδιότητες του SOM και το αν έχουν ενσωματώσει σημασιολογική πληροφορία για τις ταινίες διαμέσου της διανυσματικής αναπαράστασης με το tf-idf και των κατηγοριών, χρειαζόμαστε ένα κριτήριο ποιοτικής επισκόπησης των clusters. Θα υλοποιήσουμε το εξής κριτήριο: Λαμβάνουμε όρισμα έναν αριθμό (ετικέτα) cluster. Για το cluster αυτό βρίσκουμε όλους τους νευρώνες που του έχουν ανατεθεί από τον k-Means. Για όλους τους νευρώνες αυτούς βρίσκουμε όλες τις ταινίες που τους έχουν ανατεθεί (για τις οποίες αποτελούν bmus). Για όλες αυτές τις ταινίες τυπώνουμε ταξινομημένη τη συνολική στατιστική όλων των ειδών (κατηγοριών) και τις συχνότητές τους. Αν το cluster διαθέτει καλή συνοχή και εξειδίκευση, θα πρέπει κάποιες κατηγορίες να έχουν σαφώς μεγαλύτερη συχνότητα από τις υπόλοιπες. Θα μπορούμε τότε να αναθέσουμε αυτήν/ές την/τις κατηγορία/ες ως ετικέτες κινηματογραφικού είδους στο cluster.\n",
        "\n",
        "Μπορείτε να υλοποιήσετε τη συνάρτηση αυτή όπως θέλετε. Μια πιθανή διαδικασία θα μπορούσε να είναι η ακόλουθη:\n",
        "\n",
        "1. Ορίζουμε συνάρτηση `print_categories_stats` που δέχεται ως είσοδο λίστα με ids ταινιών. Δημιουργούμε μια κενή λίστα συνολικών κατηγοριών. Στη συνέχεια, για κάθε ταινία επεξεργαζόμαστε το string `categories` ως εξής: δημιουργούμε μια λίστα διαχωρίζοντας το string κατάλληλα με την `split` και αφαιρούμε τα whitespaces μεταξύ ετικετών με την `strip`. Προσθέτουμε τη λίστα αυτή στη συνολική λίστα κατηγοριών με την `extend`. Τέλος χρησιμοποιούμε πάλι την `np.unique` για να μετρήσουμε συχνότητα μοναδικών ετικετών κατηγοριών και ταξινομούμε με την `np.argsort`. Τυπώνουμε τις κατηγορίες και τις συχνότητες εμφάνισης ταξινομημένα. Χρήσιμες μπορεί να σας φανούν και οι `np.ravel`, `np.nditer`, `np.array2string` και `zip`.\n",
        "\n",
        "2. Ορίζουμε τη βασική μας συνάρτηση `print_cluster_neurons_movies_report` που δέχεται ως όρισμα τον αριθμό ενός cluster. Με τη χρήση της `np.where` μπορούμε να βρούμε τις συντεταγμένες των bmus που αντιστοιχούν στο cluster και με την `column_stack` να φτιάξουμε έναν πίνακα bmus για το cluster. Προσοχή στη σειρά (στήλη - σειρά) στον πίνακα bmus. Για κάθε bmu αυτού του πίνακα ελέγχουμε αν υπάρχει στον πίνακα μοναδικών bmus που έχουμε υπολογίσει στην αρχή συνολικά και αν ναι προσθέτουμε το αντίστοιχο index του νευρώνα σε μια λίστα. Χρήσιμες μπορεί να είναι και οι `np.rollaxis`, `np.append`, `np.asscalar`. Επίσης πιθανώς να πρέπει να υλοποιήσετε ένα κριτήριο ομοιότητας μεταξύ ενός bmu και ενός μοναδικού bmu από τον αρχικό πίνακα bmus.\n",
        "\n",
        "3. Υλοποιούμε μια βοηθητική συνάρτηση `neuron_movies_report`. Λαμβάνει ένα σύνολο νευρώνων από την `print_cluster_neurons_movies_report` και μέσω της `indices` φτιάχνει μια λίστα με το σύνολο ταινιών που ανήκουν σε αυτούς τους νευρώνες. Στο τέλος καλεί με αυτή τη λίστα την `print_categories_stats` που τυπώνει τις στατιστικές των κατηγοριών.\n",
        "\n",
        "Μπορείτε βέβαια να προσθέσετε οποιαδήποτε επιπλέον έξοδο σας βοηθάει. Μια χρήσιμη έξοδος είναι πόσοι νευρώνες ανήκουν στο cluster και σε πόσους και ποιους από αυτούς έχουν ανατεθεί ταινίες.\n",
        "\n",
        "Θα επιτελούμε τη σημασιολογική ερμηνεία του χάρτη καλώντας την `print_cluster_neurons_movies_report` με τον αριθμός ενός cluster που μας ενδιαφέρει. \n",
        "\n",
        "Παράδειγμα εξόδου για ένα cluster (μη βελτιστοποιημένος χάρτης, ωστόσο βλέπετε ότι οι μεγάλες κατηγορίες έχουν σημασιολογική  συνάφεια):\n",
        "\n",
        "```\n",
        "Overall Cluster Genres stats:  \n",
        "[('\"Horror\"', 86), ('\"Science Fiction\"', 24), ('\"B-movie\"', 16), ('\"Monster movie\"', 10), ('\"Creature Film\"', 10), ('\"Indie\"', 9), ('\"Zombie Film\"', 9), ('\"Slasher\"', 8), ('\"World cinema\"', 8), ('\"Sci-Fi Horror\"', 7), ('\"Natural horror films\"', 6), ('\"Supernatural\"', 6), ('\"Thriller\"', 6), ('\"Cult\"', 5), ('\"Black-and-white\"', 5), ('\"Japanese Movies\"', 4), ('\"Short Film\"', 3), ('\"Drama\"', 3), ('\"Psychological thriller\"', 3), ('\"Crime Fiction\"', 3), ('\"Monster\"', 3), ('\"Comedy\"', 2), ('\"Western\"', 2), ('\"Horror Comedy\"', 2), ('\"Archaeology\"', 2), ('\"Alien Film\"', 2), ('\"Teen\"', 2), ('\"Mystery\"', 2), ('\"Adventure\"', 2), ('\"Comedy film\"', 2), ('\"Combat Films\"', 1), ('\"Chinese Movies\"', 1), ('\"Action/Adventure\"', 1), ('\"Gothic Film\"', 1), ('\"Costume drama\"', 1), ('\"Disaster\"', 1), ('\"Docudrama\"', 1), ('\"Film adaptation\"', 1), ('\"Film noir\"', 1), ('\"Parody\"', 1), ('\"Period piece\"', 1), ('\"Action\"', 1)]```\n",
        "   "
      ]
    },
    {
      "cell_type": "markdown",
      "metadata": {
        "id": "sTUKh9MaZXS8"
      },
      "source": [
        "Αρχικα ορισαμε την πρωτη συναρτηση, η οποια παιρνει μια λιστα με ταινιες (list of ints) και τυπωνει τον αριθμο των μοναδικων κατηγοριων (κατηγοριες που εμφανιζονται στην λιστα αυτη με τις ταινιες), καθως και για την καθε κατηγορια τον αριθμο των ταινιων που εχουν σαν κατηγορια αυτην. "
      ]
    },
    {
      "cell_type": "code",
      "metadata": {
        "id": "Dthic8V-EATk"
      },
      "source": [
        "#Imported counter to count unique categories\n",
        "from collections import Counter\n",
        "#Imported operator to have a rule of ordering based on the second item of a tuple\n",
        "import operator\n",
        "\n",
        "def print_categories_stats(movie_list):\n",
        "    \n",
        "    #create the empty list\n",
        "    total_categories = []\n",
        "    \n",
        "    for movie in movie_list:\n",
        "    \n",
        "        #take the categories of the string (its a list of one string, so take the first element)\n",
        "        cats = categories[movie][0]\n",
        "        #split on comma\n",
        "        cats = cats.split(',')\n",
        "    \n",
        "        for cat in cats:\n",
        "            #strip of extra spaces\n",
        "            cat = cat.strip(' ')\n",
        "            #strip of quotes\n",
        "            cat = cat.strip('\"')\n",
        "            #put it on the list\n",
        "            total_categories.append(cat)\n",
        "    \n",
        "    #use the counter module to get the unique names of the categories\n",
        "    uniq = list(Counter(total_categories).keys())\n",
        "    #as well as the indices of the categories themselves:\n",
        "    indic = list(Counter(total_categories).values())\n",
        "\n",
        "\n",
        "    #this didn't work correctly:\n",
        "    #uniq, indices = np.unique(total_categories, return_index=True)\n",
        "    \n",
        "    \n",
        "    print(\"Overall Genre Stats:\")\n",
        "    tots = []\n",
        "    for i in range(len(uniq)):\n",
        "        tots.append((uniq[i], indic[i]))\n",
        "    print(len(tots), \"Categories.\")\n",
        "\n",
        "    #sort based on the second item of the tuples in tots. \n",
        "    tots.sort(key = operator.itemgetter(1), reverse=True)\n",
        "    print(tots)\n",
        "    return 0"
      ],
      "execution_count": null,
      "outputs": []
    },
    {
      "cell_type": "markdown",
      "metadata": {
        "id": "OwIsGw-2Z0W8"
      },
      "source": [
        "Για να το τεσταρουμε, χρησιμοποιουμε σαν εισοδο την πληρη λιστα ταινιων (φτιαξαμε μια λιστα με 5000 αριθμους):"
      ]
    },
    {
      "cell_type": "code",
      "metadata": {
        "id": "sgRA1sWumHcP"
      },
      "source": [
        "movie_list_ids = list(range(5000))\n",
        "print_categories_stats(movie_list_ids)"
      ],
      "execution_count": null,
      "outputs": []
    },
    {
      "cell_type": "markdown",
      "metadata": {
        "id": "_Z3Cyvs4avdf"
      },
      "source": [
        "Στην συνεχεια ορισαμε την δευτερη συναρτηση, η οποια παιρνει εναν αριθμο που ειναι το id του cluster και επιστρεφει μια λιστα με αριθμους, που ειναι οι συντεταγμενες των νευρωνων για να βρουμε μεσω των bmus τις ταινιες που θα χρησιμοποιησουμε σαν ορισμα για την πρωτη συναρτηση. "
      ]
    },
    {
      "cell_type": "code",
      "metadata": {
        "id": "CuJVJA6HYdI-"
      },
      "source": [
        "def print_cluster_neurons_movies_report(cluster_id):\n",
        "\n",
        "    #use the previously built in variable \n",
        "    how_many_neurons = no_of_neurons[cluster_id]\n",
        "\n",
        "    #use np.where to find where in the cluster map the value of the map is the same as the cluster id\n",
        "    positions = np.where(som.clusters==cluster_id)\n",
        "    #make a stack out of the tuples of the coordinates:\n",
        "    pos = np.column_stack((positions[0], positions[1]))\n",
        "    \n",
        "    #create a list of indices to be returned\n",
        "    INDICES = []\n",
        "    for position in pos:\n",
        "        if position in ubmus:\n",
        "            #make sure the unique index is calculated correctly:\n",
        "            INDICES.append(int(position[0])*n_rows + int(position[1]))\n",
        "    return INDICES"
      ],
      "execution_count": null,
      "outputs": []
    },
    {
      "cell_type": "markdown",
      "metadata": {
        "id": "fDYxzR-IcA2a"
      },
      "source": [
        "Για να ελεγξουμε την ορθη λειτουργια της συναρτησης, την καλουμε με ορισμα 7 (που αντιστοιχει σε ενα cluster που ξερουμε τον αριθμο των νευρωνων που του αντιστοιχουν απο το cluster map):"
      ]
    },
    {
      "cell_type": "code",
      "metadata": {
        "id": "-sWC_xW2QeQt"
      },
      "source": [
        "print_cluster_neurons_movies_report(7)"
      ],
      "execution_count": null,
      "outputs": []
    },
    {
      "cell_type": "markdown",
      "metadata": {
        "id": "Y13XhOG7cmde"
      },
      "source": [
        "Τελος, οριζουμε και την τελευταια συναρτηση, η οποια παιρνει μια λιστα με neuron_ids (list of ints) και καλει την πρωτη συναρτηση ετσι ωστε να τυπωθουν για ολες τις ταινιες που αντιστοιχουν σε αυτους τους νευρωνες τα συνολικα στατιστικα για τις κατηγοριες."
      ]
    },
    {
      "cell_type": "code",
      "metadata": {
        "id": "oNQB4Pn7YkRv"
      },
      "source": [
        "def neuron_movies_report(neuron_list):\n",
        "    #First we have to append every movie that is related to every neuron:\n",
        "    movie_list_IDs = []\n",
        "    for neuron in neuron_list:\n",
        "\n",
        "        #We use np.where to find the movies that are related to that neuron\n",
        "        list_of_movies = list(np.where(indices==neuron))\n",
        "\n",
        "        #for every movie: append its ID:\n",
        "        for i in range(len(list_of_movies[0])):\n",
        "            movie_list_IDs.append(list_of_movies[0][i])\n",
        "\n",
        "    #now call the first function with the total list to print the stats. \n",
        "    print_categories_stats(movie_list_IDs)"
      ],
      "execution_count": null,
      "outputs": []
    },
    {
      "cell_type": "markdown",
      "metadata": {
        "id": "E6MBFzhIdcWv"
      },
      "source": [
        "Για να ελεγξουμε την συναρτηση αυτη, αλλα και για να δουμε μια συνολικη εικονα, τυπωνουμε εξουθενωτικα για καθε cluster ID τις κατηγοριες με τις οποιες σχετιζεται "
      ]
    },
    {
      "cell_type": "code",
      "metadata": {
        "id": "sc0teMDdUz8g"
      },
      "source": [
        "for i in list(cluster_index):\n",
        "    print(\"Cluster ID\" , i)\n",
        "    neuron_movies_report(print_cluster_neurons_movies_report(i))"
      ],
      "execution_count": null,
      "outputs": []
    },
    {
      "cell_type": "markdown",
      "metadata": {
        "id": "lq4QrImhaa7E"
      },
      "source": [
        "\n",
        "## Tips για το SOM και το clustering\n",
        "\n",
        "- Για την ομαδοποίηση ένα U-matrix καλό είναι να εμφανίζει και μπλε-πράσινες περιοχές (clusters) και κόκκινες περιοχές (ορίων). Παρατηρήστε ποια σχέση υπάρχει μεταξύ αριθμού ταινιών στο final set, μεγέθους grid και ποιότητας U-matrix.\n",
        "- Για το k του k-Means προσπαθήστε να προσεγγίζει σχετικά τα clusters του U-matrix (όπως είπαμε είναι διαφορετικοί μέθοδοι clustering). Μικρός αριθμός k δεν θα σέβεται τα όρια. Μεγάλος αριθμός θα δημιουργεί υπο-clusters εντός των clusters που φαίνονται στο U-matrix. Το τελευταίο δεν είναι απαραίτητα κακό, αλλά μεγαλώνει τον αριθμό clusters που πρέπει να αναλυθούν σημασιολογικά.\n",
        "- Σε μικρούς χάρτες και με μικρά final sets δοκιμάστε διαφορετικές παραμέτρους για την εκπαίδευση του SOM. Σημειώστε τυχόν παραμέτρους που επηρεάζουν την ποιότητα του clustering για το dataset σας ώστε να τις εφαρμόσετε στους μεγάλους χάρτες.\n",
        "- Κάποια τοπολογικά χαρακτηριστικά εμφανίζονται ήδη σε μικρούς χάρτες. Κάποια άλλα χρειάζονται μεγαλύτερους χάρτες. Δοκιμάστε μεγέθη 20x20, 25x25 ή και 30x30 και αντίστοιχη προσαρμογή των k. Όσο μεγαλώνουν οι χάρτες, μεγαλώνει η ανάλυση του χάρτη αλλά μεγαλώνει και ο αριθμός clusters που πρέπει να αναλυθούν.\n"
      ]
    },
    {
      "cell_type": "markdown",
      "metadata": {
        "id": "x4IUl8O8ayVf"
      },
      "source": [
        "\n",
        "\n",
        "## Ανάλυση τοπολογικών ιδιοτήτων χάρτη SOM\n",
        "\n",
        "Μετά το πέρας της εκπαίδευσης και του clustering θα έχετε ένα χάρτη με τοπολογικές ιδιότητες ως προς τα είδη των ταίνιών της συλλογής σας, κάτι αντίστοιχο με την εικόνα στην αρχή της Εφαρμογής 2 αυτού του notebook (η συγκεκριμένη εικόνα είναι μόνο για εικονογράφιση, δεν έχει καμία σχέση με τη συλλογή δεδομένων και τις κατηγορίες μας).\n",
        "\n",
        "Για τον τελικό χάρτη SOM που θα παράξετε για τη συλλογή σας, αναλύστε σε markdown με συγκεκριμένη αναφορά σε αριθμούς clusters και τη σημασιολογική ερμηνεία τους τις εξής τρεις τοπολογικές ιδιότητες του SOM: \n",
        "\n",
        "1. Δεδομένα που έχουν μεγαλύτερη πυκνότητα πιθανότητας στο χώρο εισόδου τείνουν να απεικονίζονται με περισσότερους νευρώνες στο χώρο μειωμένης διαστατικότητας. Δώστε παραδείγματα από συχνές και λιγότερο συχνές κατηγορίες ταινιών. Χρησιμοποιήστε τις στατιστικές των κατηγοριών στη συλλογή σας και τον αριθμό κόμβων που χαρακτηρίζουν.\n",
        "2. Μακρινά πρότυπα εισόδου τείνουν να απεικονίζονται απομακρυσμένα στο χάρτη. Υπάρχουν χαρακτηριστικές κατηγορίες ταινιών που ήδη από μικρούς χάρτες τείνουν να τοποθετούνται σε διαφορετικά ή απομονωμένα σημεία του χάρτη.\n",
        "3. Κοντινά πρότυπα εισόδου τείνουν να απεικονίζονται κοντά στο χάρτη. Σε μεγάλους χάρτες εντοπίστε είδη ταινιών και κοντινά τους υποείδη.\n",
        "\n",
        "Προφανώς τοποθέτηση σε 2 διαστάσεις που να σέβεται μια απόλυτη τοπολογία δεν είναι εφικτή, αφενός γιατί δεν υπάρχει κάποια απόλυτη εξ ορισμού για τα κινηματογραφικά είδη ακόμα και σε πολλές διαστάσεις, αφετέρου γιατί πραγματοποιούμε μείωση διαστατικότητας.\n",
        "\n",
        "Εντοπίστε μεγάλα clusters και μικρά clusters που δεν έχουν σαφή χαρακτηριστικά. Εντοπίστε clusters συγκεκριμένων ειδών που μοιάζουν να μην έχουν τοπολογική συνάφεια με γύρω περιοχές. Προτείνετε πιθανές ερμηνείες.\n",
        "\n",
        "\n",
        "\n",
        "Τέλος, εντοπίστε clusters που έχουν κατά την άποψή σας ιδιαίτερο ενδιαφέρον στη συλλογή της ομάδας σας (data exploration / discovery value) και σχολιάστε.\n"
      ]
    },
    {
      "cell_type": "markdown",
      "metadata": {
        "id": "HrmeH3_7mwYH"
      },
      "source": [
        "#Ερωτηση 1\n",
        "\n"
      ]
    },
    {
      "cell_type": "markdown",
      "metadata": {
        "id": "8IMn_YreQcFS"
      },
      "source": [
        "Τα δεδομενα που εχουν μεγαλυτερη συχνοτητα εμφανισης, ειναι λογικο οτι θα εμφανιστουν και σε περισσοτερους νευρωνες. Για να το ελεγξουμε αυτο, δημιουργησαμε την παρακατω συναρτηση, η οποια για μια δεδομενη κατηγορια ταινιων βρισκει καθε νευρωνα στον οποιο η κατηγορια αυτη εμφανιζεται με συχνοτητα που να την τοποθετει στις τοπ 5 κατηγοριες για αυτον τον νευρωνα (πιστευουμε οτι ενας νευρωνας δεν αρκει να εχει απλως την κατηγορια για να θεωρειται οτι η κατηγορια χαρακτηριζει τον νευρωνα, αλλα πρεπει να εχει και μια σχετικα υψηλη συχνοτητα στον νευρωνα αυτον), και μετραει συνολικα σε ποσους νευρωνες εμφανιστηκε. "
      ]
    },
    {
      "cell_type": "code",
      "metadata": {
        "id": "YRgWaQsWnvIS"
      },
      "source": [
        "def find_category_in_neurons(category):\n",
        "\n",
        "    number_of_neurons_found_in = 0\n",
        "    for neuron in range(n_rows*n_columns):\n",
        "\n",
        "        list_of_movies = list(np.where(indices==neuron))\n",
        "        category_list = []\n",
        "        for i in range(len(list_of_movies[0])):\n",
        "            cats1 = categories[list_of_movies[0][i]][0]\n",
        "            #split on comma\n",
        "            cats1 = cats1.split(',')\n",
        "        \n",
        "            for cat1 in cats1:\n",
        "                #strip of extra spaces\n",
        "                cat1 = cat1.strip(' ')\n",
        "                #strip of quotes\n",
        "                cat1 = cat1.strip('\"')\n",
        "                #put it on the list\n",
        "                category_list.append(cat1)\n",
        "        #use the counter module to get the unique names of the categories\n",
        "        uniq1 = list(Counter(category_list).keys())\n",
        "        #as well as the indices of the categories themselves:\n",
        "        indices1 = list(Counter(category_list).values())\n",
        "        if (category in uniq1):\n",
        "            if (uniq1.index(category) < 5):\n",
        "                number_of_neurons_found_in += 1\n",
        "\n",
        "    print(\"Category '\" + category + \"', found in \" , number_of_neurons_found_in, \"neurons.\")"
      ],
      "execution_count": null,
      "outputs": []
    },
    {
      "cell_type": "code",
      "metadata": {
        "id": "ybXzEIHfovie"
      },
      "source": [
        "movie_list_ids = list(range(5000))\n",
        "print_categories_stats(movie_list_ids)\n",
        "find_category_in_neurons(\"Drama\")\n",
        "find_category_in_neurons(\"Comedy\")\n",
        "find_category_in_neurons(\"Romance Film\")\n",
        "find_category_in_neurons(\"Thriller\")\n",
        "find_category_in_neurons(\"Action\")\n",
        "find_category_in_neurons(\"World cinema\")\n",
        "find_category_in_neurons(\"Crime Fiction\")\n",
        "find_category_in_neurons(\"Horror\")\n",
        "find_category_in_neurons(\"Black-and-white\")\n",
        "find_category_in_neurons(\"Short Film\")\n",
        "find_category_in_neurons(\"Family Film\")\n",
        "\n",
        "print()\n",
        "\n",
        "find_category_in_neurons(\"Comedy film\")\n",
        "find_category_in_neurons(\"Crime Thriller\")\n",
        "find_category_in_neurons(\"War film\")\n",
        "find_category_in_neurons(\"Silent film\")\n",
        "find_category_in_neurons(\"Psychological thriller\")\n",
        "find_category_in_neurons(\"Bollywood\")\n",
        "\n",
        "\n",
        "print()\n",
        "\n",
        "\n",
        "find_category_in_neurons(\"Coming-of-age film\")"
      ],
      "execution_count": null,
      "outputs": []
    },
    {
      "cell_type": "markdown",
      "metadata": {
        "id": "vdVlMiVqGu-b"
      },
      "source": [
        "Βλεπουμε οτι οι κατηγοριες που εμφανιζονται πιο συχνα στο συνολικο συνολο δεδομενων, εμφανιζονται και σε περισσοτερους νευρωνες σαν τοπ κατηγορια (δηλαδη κατηγορια που να εχει απο τις περισσοτερες εμφανισεις σε εναν νευρωνα). Αυτο γινεται ιδιαιτερα ξεκαθαρο αν εκτελεσουμε το κελι παραπανω, που μας δειχνει οτι οι κατηγοριες που ειναι οι πιο συχνες γενικα, ειναι και εξαιρετικα συχνες στους νευρωνες (πχ Drama - 136 νευρωνες ~ 40% των νευρωνων που χρησιμοποιουνται). Ακομα, ειναι εμφανες (με καποιες μικρες αποκλισεις βεβαια) οτι οσο μια κατηγορια ειναι λιγοτερο συχνη στα δεδομενα, ειναι και λιγοτερο συχνη στους νευρωνες. Τελος, γινεται ξεκαθαρο οτι κατηγοριες που ειναι λιγο συχνες στα δεδομενα, εμφανιζονται σαν τοπ κατηγορια σε ελαχιστους νευρωνες, ενω κατηγοριες που ειναι εξαιρετικα σπανιες, δεν εμφανιζονται ως τοπ κατηγορια σε κανεναν νευρωνα (πχ \"Coming-of-age film\")"
      ]
    },
    {
      "cell_type": "markdown",
      "metadata": {
        "id": "AaHtE0gUt99e"
      },
      "source": [
        "#Ερωτηση 2\n",
        "\n"
      ]
    },
    {
      "cell_type": "code",
      "metadata": {
        "id": "mEkd_Rpqud9r"
      },
      "source": [
        "def distant_categories(category1, category2):\n",
        "\n",
        "    neurons_found_in1 = []\n",
        "    neurons_found_in2 = []\n",
        "\n",
        "    for neuron in range(n_rows*n_columns):\n",
        "\n",
        "        list_of_movies = list(np.where(indices==neuron))\n",
        "        category_list = []\n",
        "        for i in range(len(list_of_movies[0])):\n",
        "            cats1 = categories[list_of_movies[0][i]][0]\n",
        "            #split on comma\n",
        "            cats1 = cats1.split(',')\n",
        "        \n",
        "            for cat1 in cats1:\n",
        "                #strip of extra spaces\n",
        "                cat1 = cat1.strip(' ')\n",
        "                #strip of quotes\n",
        "                cat1 = cat1.strip('\"')\n",
        "                #put it on the list\n",
        "                category_list.append(cat1)\n",
        "        #use the counter module to get the unique names of the categories\n",
        "        uniq1 = list(Counter(category_list).keys())\n",
        "        #as well as the indices of the categories themselves:\n",
        "        indices1 = list(Counter(category_list).values())\n",
        "        if (category1 in uniq1):\n",
        "            if (uniq1.index(category1) < 5):\n",
        "                l = list(ubmus[neuron])\n",
        "                neurons_found_in1.append((l[0], l[1]))\n",
        "        if (category2 in uniq1):\n",
        "            if (uniq1.index(category2) < 5):\n",
        "                l = list(ubmus[neuron])\n",
        "                neurons_found_in2.append((l[0], l[1]))\n",
        "    \n",
        "    \n",
        "    print(\"Category '\" + category1 + \"', found in \", len(neurons_found_in1), \" neurons:\" , neurons_found_in1)\n",
        "    print()\n",
        "\n",
        "    print(\"Category '\" + category2 + \"', found in \", len(neurons_found_in2), \" neurons:\" , neurons_found_in2)\n",
        "    print()\n",
        "\n",
        "    intersect = list(set(neurons_found_in1).intersection(neurons_found_in2))\n",
        "\n",
        "    print(\"Both categories are found in \", len(intersect), \" neurons:\" , intersect)"
      ],
      "execution_count": null,
      "outputs": []
    },
    {
      "cell_type": "code",
      "metadata": {
        "id": "o9cOCSoLvbfF"
      },
      "source": [
        "distant_categories(\"Romance Film\", \"Crime Fiction\")"
      ],
      "execution_count": null,
      "outputs": []
    },
    {
      "cell_type": "markdown",
      "metadata": {
        "id": "HkxxBtEoQSut"
      },
      "source": [
        "Παρατηρούμε το παραπάνω παράδειγμα για τα είδη \"Romance Film\" και \"Crime Fiction\", τα οποία εμφανίζονται και τα δύο σε έναν σχετικά μεγάλο αριθμό νευρώνων ίσο με 44. Παρόλα αυτά κυριαρχούν ταυτόχρονα μόνο σε 3 από αυτούς, γεγονός που αναδεικνύει τις αναδεικνύει τις μεγάλες διαφορές μεταξύ των ταινιών που ανήκουν σε αυτά τα δύο είδη. Εντυπωσιακό είναι ακόμα το γεγονός πως οι περισσότερες ταινίες \"Crime Fiction\" βρίσκονται στο πάνω μέρος του SOM (μονοψήφιος ο πρώτος δείκτης) ενώ οι περισσότερες ταινίες \"Romance Film\" βρίσκονται στο κάτω μέρος του (διψήφιος ο πρώτος δείκτης). Επίσης από τους 44 νευρώνες για το \"Romance Film\" μόνο 4 βρίσκονται στο δεξί μέρος του χάρτη (διψήφιος ο δεύτερος δείκτης) και από τους 44 νευρώνες για το \"Crime Fiction\" μόνο 11 βρίσκονται στο αριστερό μέρος του χάρτη (μονοψήφιος ο δεύτερος δείκτης). Αυτά τα στατιστικά αποδεικνύουν την διαφορά που αναφέραμε παραπάνω."
      ]
    },
    {
      "cell_type": "markdown",
      "metadata": {
        "id": "09nSl7k3z_-x"
      },
      "source": [
        "#Ερωτηση 3\n"
      ]
    },
    {
      "cell_type": "code",
      "metadata": {
        "id": "CHn_4h9m0Dno"
      },
      "source": [
        "distant_categories(\"Thriller\", \"Psychological thriller\")\n",
        "print()\n",
        "print()\n",
        "print()\n",
        "print()\n",
        "distant_categories(\"Comedy\", \"Black comedy\")"
      ],
      "execution_count": null,
      "outputs": []
    },
    {
      "cell_type": "markdown",
      "metadata": {
        "id": "P3uPtkICQVmH"
      },
      "source": [
        "Οι κατηγορίες \"Thriller\" και \"Psychological thriller\" είναι συγγενικές και περιμένουμε να χρησιμοποιούνε κοντινούς νευρώνες στον χάρτη SOM. Η κατηγορία \"Psychological thriller\" κυριαρχεί σε 11 νευρώνες. Στους 7 από αυτούς κυριαρχεί και η κατηγορία \"Thriller\", κάτι που αποδεικνύει τη συνάφεια των δύο ειδών. Παράλληλα η \"Psychological thriller\" εμφανίζεται και στους νευρώνες (10, 16), (11, 17). Η \"Thriller\", αν και δεν εμφανίζεται σε αυτούς, εμφανίζεται στους (10, 17), (11, 18) που είναι οι διπλανοί των παραπάνω αντίστοιχα.\n",
        "\n",
        "Το ίδιο παρατηρείται και με τις κατηγορίες \"Comedy\" και \"Black Comedy\", με την δεύτερη να κυριαρχεί σε 8 νευρώνες και να συγκατοικεί με την πρώτη σε 5 από αυτούς. Όπως και πριν η \"Black Comedy\" κυριαρχεί στον (15, 7) και η \"Comedy\" στον διπλανό (16, 7)."
      ]
    },
    {
      "cell_type": "markdown",
      "metadata": {
        "id": "AlSTmqE18KZn"
      },
      "source": [
        "#Ερωτηση 4"
      ]
    },
    {
      "cell_type": "markdown",
      "metadata": {
        "id": "ti7Iq-ZM6zF2"
      },
      "source": [
        "Ενα παραδειγμα μεγαλου cluster που δεν εχει σαφη χαρακτηριστικα ειναι:"
      ]
    },
    {
      "cell_type": "code",
      "metadata": {
        "id": "RXUas7Rc7SVl"
      },
      "source": [
        "neuron_movies_report(print_cluster_neurons_movies_report(21))"
      ],
      "execution_count": null,
      "outputs": []
    },
    {
      "cell_type": "markdown",
      "metadata": {
        "id": "X6O5UzKr7S8o"
      },
      "source": [
        "\n",
        "Ενα παραδειγμα μικρου cluster που δεν εχει σαφη χαρακτηριστικα ειναι:"
      ]
    },
    {
      "cell_type": "code",
      "metadata": {
        "id": "NDumeORc7aEi"
      },
      "source": [
        "neuron_movies_report(print_cluster_neurons_movies_report(19))"
      ],
      "execution_count": null,
      "outputs": []
    },
    {
      "cell_type": "markdown",
      "metadata": {
        "id": "gpAbU53p8WTb"
      },
      "source": [
        "Clusters που δεν εχουν τοπολογικη συναφεια:"
      ]
    },
    {
      "cell_type": "code",
      "metadata": {
        "id": "OFKOhCi-8aGr"
      },
      "source": [
        "neuron_movies_report(print_cluster_neurons_movies_report(3))\n",
        "neuron_movies_report(print_cluster_neurons_movies_report(16))\n",
        "neuron_movies_report(print_cluster_neurons_movies_report(17))\n",
        "neuron_movies_report(print_cluster_neurons_movies_report(19))"
      ],
      "execution_count": null,
      "outputs": []
    },
    {
      "cell_type": "markdown",
      "metadata": {
        "id": "8vgvwbEUGfJI"
      },
      "source": [
        "Ερμηνεια:\n",
        "\n",
        "Αρχικα πρεπει να αιτιολογησουμε την ασαφεια στα δυο clusters που παραθεσαμε. Το μικρο και το μεγαλο cluster ειναι ασαφη ως προς τα χαρακτηριστικα τους, καθως εχουν σαν τοπ κατηγοριες εννοιες που δεν ειναι σχετικες (πχ \"Comedy\"-\"Thriller\" η \"Romance Film\"-\"Thriller\"). Αυτο γινεται γιατι οι νευρωνες (αλλα και ο αριθμος των clusters, και οι εποχες που ειχαμε την δυνατοτητα να αφησουμε το SOM να γινει trained) ηταν εξαιρετικα λιγοι, με αποτελεσμα πολλες εννοιες να συγκεντρωνονται στους ιδιους νευρωνες επειδη οι ιδιες οι ταινιες εχουν καποιες \"περιεργες\" κατηγοριες. \n",
        "\n",
        "Επιπλεον, οσον αφορα την τοπολογικη συναφεια μεταξυ των clusters 3,16,17,19, εχουμε να ανεφερουμε τα εξης. Ενω τα clusters αυτα ειναι κοντα μεταξυ τους (ολα ειναι στο πανω αριστερα κομματι του χαρτη), βλεπουμε οτι εχουν διαφορες στις τοπ κατηγοριες τους, που ουσιαστικα εκφραζουν τους ιδιους τους νευρωνες (\"Adventure\"/\"Action\" vs \"Short Film\"/\"Animation\" vs. \"Comedy\" vs. \"Romance Film\"/\"comedy\").\n",
        "\n",
        "Αυτο εχει πολλες πιθανες αιτιες. Μια απο αυτες ειναι οτι η εκπαιδευση του δικτυου που καναμε (100 εποχες) δεν ειναι αρκετη για να προσδιορισθουν πληρως οι νευρωνες στις τοπολογικες ιδιοτητες των δεδομενων μας στον πολυδιαστατο χωρο που βρισκονται. Μια αλλη (προφανης) εξηγηση ειναι οτι προσπαθουμε να \"απλωσουμε\" ενα δισδιαστο \"πεπλο\" (2d plane) σε εναν χωρο εξαιρετικα πολλων διαστασεων. Αυτο εχει ως αποτελεσμα ποτε να μην μπορουμε επακριβως να κανουμε καλη τοπολογικη προσεγγιση των δεδομενων, καθως η μειωση των διαστασεων ειναι απλα παρα πολυ μεγαλη, και ως συνεπεια χανεται παρα πολυ τοπολογικη πληροφορια. Μια οπτικοποιηση spacial information loss ειναι η ακολουθη, που ειναι πολυ πιθανο να συμβαινει και στην περιπτωση μας:\n",
        "\n",
        "https://en.wikipedia.org/wiki/Nonlinear_dimensionality_reduction#/media/File:Lle_hlle_swissroll.png"
      ]
    },
    {
      "cell_type": "markdown",
      "metadata": {
        "id": "Zihhk0R_Ugzq"
      },
      "source": [
        "Ενδιαφερον παρουσιαζει το Cluster 5. Βλεπουμε οτι περιεχει κατηγοριες οπως \"Western\", \"Japanese Movies\", \"Martial Arts\", \"World Cinema\". Αυτο, υποθετουμε (και επιβεβαιωνεται απο την υπαρξη τετοιων ταινιων) εχει δημιουργηθει σαν cluster και οφειλει την υπαρξη του στο γενονος οτι στα Westerns, υπαρχει συχνα συμμετοχη ανθρωπων Κινεζικης και Ιαπωνικης καταγωγης, που συνηθως λαμβανουν μερος σε σκηνες δρασης/βιας/πολεμικων τεχνων με τους αμερικανους \"καουμπόυδες\". Οποτε το SOM βρηκε αφενος κοινες λεξεις στα western με chinese και japanese films, και αφετερου υπαρχουν και ταινιες που συνδυαζουν και τα δυο. Θεωρουμε οτι αυτο το cluster εμφανιζει μια πληροφορια που μπορει να μην ανιχνευθει απο πολλους σαν επιτυχης ομαδοποιηση, αλλα ειναι λογω των ταινιων που εχουν παραχθει. "
      ]
    },
    {
      "cell_type": "markdown",
      "metadata": {
        "id": "tYjxGR5DawIy"
      },
      "source": [
        "\n",
        "# Τελική παράδοση άσκησης\n"
      ]
    },
    {
      "cell_type": "markdown",
      "metadata": {
        "id": "UHhCkvxjnitd"
      },
      "source": [
        "<table>\n",
        "  <tr><td align=\"center\">\n",
        "    <font size=\"4\">Παρακαλούμε διατρέξτε βήμα-βήμα το notebook για να μην ξεχάσετε παραδοτέα!</font>\n",
        "</td>\n",
        "  </tr>\n",
        "</table>"
      ]
    }
  ]
}
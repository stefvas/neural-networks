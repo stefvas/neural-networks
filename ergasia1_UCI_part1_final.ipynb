{
  "nbformat": 4,
  "nbformat_minor": 0,
  "metadata": {
    "colab": {
      "name": "ergasia1_UCI.ipynb",
      "provenance": [],
      "collapsed_sections": [],
      "authorship_tag": "ABX9TyMfTxLnn0zOMw2pb3lN6OYJ",
      "include_colab_link": true
    },
    "kernelspec": {
      "display_name": "Python 3",
      "name": "python3"
    },
    "language_info": {
      "name": "python"
    }
  },
  "cells": [
    {
      "cell_type": "markdown",
      "metadata": {
        "id": "view-in-github",
        "colab_type": "text"
      },
      "source": [
        "<a href=\"https://colab.research.google.com/github/stefvas/neural-networks/blob/main/ergasia1_UCI_part1_final.ipynb\" target=\"_parent\"><img src=\"https://colab.research.google.com/assets/colab-badge.svg\" alt=\"Open In Colab\"/></a>"
      ]
    },
    {
      "cell_type": "markdown",
      "metadata": {
        "id": "X5IsT6Xc7Hxd"
      },
      "source": [
        "# Μέρος 1. UCI dataset"
      ]
    },
    {
      "cell_type": "markdown",
      "metadata": {
        "id": "1aZnA5PxSlDn"
      },
      "source": [
        "Το dataset περιλαμβάνει data που συγκέντρωσε το MAGIC Telescope. Συγκεκριμένα, το τηλεσκόπιο τράβηξε δεκάδες χιλιάδες φωτογραφίες από electromagnetic showers στην ατμόσφαιρα. Αναλύοντας τις 10 παραμέτρους των shower images που προκύπτουν από το τηλεσκόπιο, κατηγοριοποιούμε τα showers σε εκείνα που προκλήθηκαν από gamma rays (g) και σε hadronic showers (h), δηλαδή σε εκείνα που προκλήθηκαν από τις κοσμικές ακτίνες της ατμόσφαιρας.\n",
        " Αναλυτικότερα στην [περιγραφή](http://archive.ics.uci.edu/ml/datasets/MAGIC+Gamma+Telescope) από το UCI"
      ]
    },
    {
      "cell_type": "code",
      "metadata": {
        "id": "IbxApFvz7_uG"
      },
      "source": [
        "import numpy as np\n",
        "from sklearn.base import BaseEstimator, ClassifierMixin\n",
        "from sklearn.model_selection import cross_val_score, train_test_split\n",
        "from sklearn.model_selection import GridSearchCV\n",
        "from sklearn.neighbors import KNeighborsClassifier\n",
        "from sklearn.naive_bayes import GaussianNB\n",
        "from sklearn.ensemble import VotingClassifier, BaggingClassifier\n",
        "from sklearn.feature_selection import VarianceThreshold\n",
        "from sklearn import svm\n",
        "from sklearn.svm import LinearSVC\n",
        "from sklearn.svm import SVC\n",
        "from imblearn.pipeline import Pipeline\n",
        "from sklearn.preprocessing import StandardScaler\n",
        "from imblearn.over_sampling import RandomOverSampler\n",
        "import matplotlib.pyplot as plt\n",
        "import sklearn.model_selection as model_selection\n",
        "from sklearn import preprocessing\n",
        "import pandas as pd\n",
        "from sklearn.neural_network import MLPClassifier\n",
        "from sklearn.metrics import classification_report\n",
        "from sklearn.metrics import confusion_matrix, plot_confusion_matrix\n",
        "from sklearn.metrics import f1_score\n",
        "import matplotlib.pyplot as plt"
      ],
      "execution_count": null,
      "outputs": []
    },
    {
      "cell_type": "markdown",
      "metadata": {
        "id": "k9YcADkS8liL"
      },
      "source": [
        " Συνάρτηση που χρησιμοποιεί την cross_val_score function του scikit-learn για να κάνει cross-validation (εδώ 10-fold):"
      ]
    },
    {
      "cell_type": "code",
      "metadata": {
        "id": "9BJm-kzP8i71"
      },
      "source": [
        "def evaluate_classifier(clf, X, y, folds=10):\n",
        "\tscores = cross_val_score(clf, X, y, cv=folds)\n",
        "\treturn np.mean(scores)"
      ],
      "execution_count": null,
      "outputs": []
    },
    {
      "cell_type": "markdown",
      "metadata": {
        "id": "1sQE3eS29NAF"
      },
      "source": [
        "**Εισαγωγή και επισκόπηση:**"
      ]
    },
    {
      "cell_type": "code",
      "metadata": {
        "colab": {
          "base_uri": "https://localhost:8080/",
          "height": 419
        },
        "id": "wmVhd1OBNDjZ",
        "outputId": "b5002508-d1fa-438b-cc69-41b8d7746527"
      },
      "source": [
        "#Dataloading\n",
        "df = pd.read_csv(\"magic04.data\", header=None)\n",
        "df"
      ],
      "execution_count": null,
      "outputs": [
        {
          "data": {
            "text/html": [
              "<div>\n",
              "<style scoped>\n",
              "    .dataframe tbody tr th:only-of-type {\n",
              "        vertical-align: middle;\n",
              "    }\n",
              "\n",
              "    .dataframe tbody tr th {\n",
              "        vertical-align: top;\n",
              "    }\n",
              "\n",
              "    .dataframe thead th {\n",
              "        text-align: right;\n",
              "    }\n",
              "</style>\n",
              "<table border=\"1\" class=\"dataframe\">\n",
              "  <thead>\n",
              "    <tr style=\"text-align: right;\">\n",
              "      <th></th>\n",
              "      <th>0</th>\n",
              "      <th>1</th>\n",
              "      <th>2</th>\n",
              "      <th>3</th>\n",
              "      <th>4</th>\n",
              "      <th>5</th>\n",
              "      <th>6</th>\n",
              "      <th>7</th>\n",
              "      <th>8</th>\n",
              "      <th>9</th>\n",
              "      <th>10</th>\n",
              "    </tr>\n",
              "  </thead>\n",
              "  <tbody>\n",
              "    <tr>\n",
              "      <th>0</th>\n",
              "      <td>28.7967</td>\n",
              "      <td>16.0021</td>\n",
              "      <td>2.6449</td>\n",
              "      <td>0.3918</td>\n",
              "      <td>0.1982</td>\n",
              "      <td>27.7004</td>\n",
              "      <td>22.0110</td>\n",
              "      <td>-8.2027</td>\n",
              "      <td>40.0920</td>\n",
              "      <td>81.8828</td>\n",
              "      <td>g</td>\n",
              "    </tr>\n",
              "    <tr>\n",
              "      <th>1</th>\n",
              "      <td>31.6036</td>\n",
              "      <td>11.7235</td>\n",
              "      <td>2.5185</td>\n",
              "      <td>0.5303</td>\n",
              "      <td>0.3773</td>\n",
              "      <td>26.2722</td>\n",
              "      <td>23.8238</td>\n",
              "      <td>-9.9574</td>\n",
              "      <td>6.3609</td>\n",
              "      <td>205.2610</td>\n",
              "      <td>g</td>\n",
              "    </tr>\n",
              "    <tr>\n",
              "      <th>2</th>\n",
              "      <td>162.0520</td>\n",
              "      <td>136.0310</td>\n",
              "      <td>4.0612</td>\n",
              "      <td>0.0374</td>\n",
              "      <td>0.0187</td>\n",
              "      <td>116.7410</td>\n",
              "      <td>-64.8580</td>\n",
              "      <td>-45.2160</td>\n",
              "      <td>76.9600</td>\n",
              "      <td>256.7880</td>\n",
              "      <td>g</td>\n",
              "    </tr>\n",
              "    <tr>\n",
              "      <th>3</th>\n",
              "      <td>23.8172</td>\n",
              "      <td>9.5728</td>\n",
              "      <td>2.3385</td>\n",
              "      <td>0.6147</td>\n",
              "      <td>0.3922</td>\n",
              "      <td>27.2107</td>\n",
              "      <td>-6.4633</td>\n",
              "      <td>-7.1513</td>\n",
              "      <td>10.4490</td>\n",
              "      <td>116.7370</td>\n",
              "      <td>g</td>\n",
              "    </tr>\n",
              "    <tr>\n",
              "      <th>4</th>\n",
              "      <td>75.1362</td>\n",
              "      <td>30.9205</td>\n",
              "      <td>3.1611</td>\n",
              "      <td>0.3168</td>\n",
              "      <td>0.1832</td>\n",
              "      <td>-5.5277</td>\n",
              "      <td>28.5525</td>\n",
              "      <td>21.8393</td>\n",
              "      <td>4.6480</td>\n",
              "      <td>356.4620</td>\n",
              "      <td>g</td>\n",
              "    </tr>\n",
              "    <tr>\n",
              "      <th>...</th>\n",
              "      <td>...</td>\n",
              "      <td>...</td>\n",
              "      <td>...</td>\n",
              "      <td>...</td>\n",
              "      <td>...</td>\n",
              "      <td>...</td>\n",
              "      <td>...</td>\n",
              "      <td>...</td>\n",
              "      <td>...</td>\n",
              "      <td>...</td>\n",
              "      <td>...</td>\n",
              "    </tr>\n",
              "    <tr>\n",
              "      <th>19015</th>\n",
              "      <td>21.3846</td>\n",
              "      <td>10.9170</td>\n",
              "      <td>2.6161</td>\n",
              "      <td>0.5857</td>\n",
              "      <td>0.3934</td>\n",
              "      <td>15.2618</td>\n",
              "      <td>11.5245</td>\n",
              "      <td>2.8766</td>\n",
              "      <td>2.4229</td>\n",
              "      <td>106.8258</td>\n",
              "      <td>h</td>\n",
              "    </tr>\n",
              "    <tr>\n",
              "      <th>19016</th>\n",
              "      <td>28.9452</td>\n",
              "      <td>6.7020</td>\n",
              "      <td>2.2672</td>\n",
              "      <td>0.5351</td>\n",
              "      <td>0.2784</td>\n",
              "      <td>37.0816</td>\n",
              "      <td>13.1853</td>\n",
              "      <td>-2.9632</td>\n",
              "      <td>86.7975</td>\n",
              "      <td>247.4560</td>\n",
              "      <td>h</td>\n",
              "    </tr>\n",
              "    <tr>\n",
              "      <th>19017</th>\n",
              "      <td>75.4455</td>\n",
              "      <td>47.5305</td>\n",
              "      <td>3.4483</td>\n",
              "      <td>0.1417</td>\n",
              "      <td>0.0549</td>\n",
              "      <td>-9.3561</td>\n",
              "      <td>41.0562</td>\n",
              "      <td>-9.4662</td>\n",
              "      <td>30.2987</td>\n",
              "      <td>256.5166</td>\n",
              "      <td>h</td>\n",
              "    </tr>\n",
              "    <tr>\n",
              "      <th>19018</th>\n",
              "      <td>120.5135</td>\n",
              "      <td>76.9018</td>\n",
              "      <td>3.9939</td>\n",
              "      <td>0.0944</td>\n",
              "      <td>0.0683</td>\n",
              "      <td>5.8043</td>\n",
              "      <td>-93.5224</td>\n",
              "      <td>-63.8389</td>\n",
              "      <td>84.6874</td>\n",
              "      <td>408.3166</td>\n",
              "      <td>h</td>\n",
              "    </tr>\n",
              "    <tr>\n",
              "      <th>19019</th>\n",
              "      <td>187.1814</td>\n",
              "      <td>53.0014</td>\n",
              "      <td>3.2093</td>\n",
              "      <td>0.2876</td>\n",
              "      <td>0.1539</td>\n",
              "      <td>-167.3125</td>\n",
              "      <td>-168.4558</td>\n",
              "      <td>31.4755</td>\n",
              "      <td>52.7310</td>\n",
              "      <td>272.3174</td>\n",
              "      <td>h</td>\n",
              "    </tr>\n",
              "  </tbody>\n",
              "</table>\n",
              "<p>19020 rows × 11 columns</p>\n",
              "</div>"
            ],
            "text/plain": [
              "             0         1       2       3   ...       7        8         9   10\n",
              "0       28.7967   16.0021  2.6449  0.3918  ...  -8.2027  40.0920   81.8828   g\n",
              "1       31.6036   11.7235  2.5185  0.5303  ...  -9.9574   6.3609  205.2610   g\n",
              "2      162.0520  136.0310  4.0612  0.0374  ... -45.2160  76.9600  256.7880   g\n",
              "3       23.8172    9.5728  2.3385  0.6147  ...  -7.1513  10.4490  116.7370   g\n",
              "4       75.1362   30.9205  3.1611  0.3168  ...  21.8393   4.6480  356.4620   g\n",
              "...         ...       ...     ...     ...  ...      ...      ...       ...  ..\n",
              "19015   21.3846   10.9170  2.6161  0.5857  ...   2.8766   2.4229  106.8258   h\n",
              "19016   28.9452    6.7020  2.2672  0.5351  ...  -2.9632  86.7975  247.4560   h\n",
              "19017   75.4455   47.5305  3.4483  0.1417  ...  -9.4662  30.2987  256.5166   h\n",
              "19018  120.5135   76.9018  3.9939  0.0944  ... -63.8389  84.6874  408.3166   h\n",
              "19019  187.1814   53.0014  3.2093  0.2876  ...  31.4755  52.7310  272.3174   h\n",
              "\n",
              "[19020 rows x 11 columns]"
            ]
          },
          "execution_count": 6,
          "metadata": {},
          "output_type": "execute_result"
        }
      ]
    },
    {
      "cell_type": "markdown",
      "metadata": {
        "id": "cdgIkuPsYn-M"
      },
      "source": [
        "Δεν κάναμε κάποια μετατροπή στο dataset πρωτού το ανεβάσαμε. Επίσης διαβάσαμε στην περιγραφή ότι δεν περιλαμβάνει κενές τιμές."
      ]
    },
    {
      "cell_type": "markdown",
      "metadata": {
        "id": "3mnjSxLB9uor"
      },
      "source": [
        "Eπαλήθευση:"
      ]
    },
    {
      "cell_type": "code",
      "metadata": {
        "colab": {
          "base_uri": "https://localhost:8080/"
        },
        "id": "_ll8T31q9DBw",
        "outputId": "41ca7f23-cffb-422a-8296-a62a3881d5d5"
      },
      "source": [
        "df.isnull().values.any()"
      ],
      "execution_count": null,
      "outputs": [
        {
          "data": {
            "text/plain": [
              "False"
            ]
          },
          "execution_count": 7,
          "metadata": {},
          "output_type": "execute_result"
        }
      ]
    },
    {
      "cell_type": "markdown",
      "metadata": {
        "id": "G9YaU9D8Awys"
      },
      "source": [
        "Παρατηρούμε ότι δεν περιλαμβάνει επικεφαλίδες εκτυπώνοντας την 1η σειρά:"
      ]
    },
    {
      "cell_type": "code",
      "metadata": {
        "colab": {
          "base_uri": "https://localhost:8080/"
        },
        "id": "YEtIeDnrAnKC",
        "outputId": "b8f03d1b-b6ad-47d4-bea1-0a5deacd0abd"
      },
      "source": [
        "print(df.values[0])"
      ],
      "execution_count": null,
      "outputs": [
        {
          "name": "stdout",
          "output_type": "stream",
          "text": [
            "[28.7967 16.0021 2.6449 0.3918 0.1982 27.7004 22.011 -8.2027 40.092\n",
            " 81.8828 'g']\n"
          ]
        }
      ]
    },
    {
      "cell_type": "markdown",
      "metadata": {
        "id": "Kw1vUdtUSdlo"
      },
      "source": [
        "χωρίζουμε τα data : features (x) , labels (y)"
      ]
    },
    {
      "cell_type": "code",
      "metadata": {
        "colab": {
          "base_uri": "https://localhost:8080/"
        },
        "id": "wTw7_vIGjHrE",
        "outputId": "c78d0878-a869-4268-b86b-2dc0480c4fa3"
      },
      "source": [
        "featueres_df=df.loc[:,0:9]\n",
        "labels_df=df.loc[:,10:10]\n",
        "print(featueres_df.shape)\n",
        "print(labels_df.shape)"
      ],
      "execution_count": null,
      "outputs": [
        {
          "name": "stdout",
          "output_type": "stream",
          "text": [
            "(19020, 10)\n",
            "(19020, 1)\n"
          ]
        }
      ]
    },
    {
      "cell_type": "markdown",
      "metadata": {
        "id": "v3Vz-hc5oAq7"
      },
      "source": [
        "παρουσιάζονται καλύτερα ως numpy arrays:"
      ]
    },
    {
      "cell_type": "markdown",
      "metadata": {
        "id": "7qvJa7Irx47h"
      },
      "source": [
        "\n",
        "*  features: nympy array of 19020 rows and 10 columns\n",
        "*  19020 δείγματα με 10 χαρακτηριστικά το κάθε ένα"
      ]
    },
    {
      "cell_type": "code",
      "metadata": {
        "colab": {
          "base_uri": "https://localhost:8080/"
        },
        "id": "JhyoqmpTmVu3",
        "outputId": "bd9ea752-1ea2-4945-b4f4-5d860d88f0ab"
      },
      "source": [
        "features=featueres_df.values\n",
        "print(features)\n",
        "print(features.shape)"
      ],
      "execution_count": null,
      "outputs": [
        {
          "name": "stdout",
          "output_type": "stream",
          "text": [
            "[[ 28.7967  16.0021   2.6449 ...  -8.2027  40.092   81.8828]\n",
            " [ 31.6036  11.7235   2.5185 ...  -9.9574   6.3609 205.261 ]\n",
            " [162.052  136.031    4.0612 ... -45.216   76.96   256.788 ]\n",
            " ...\n",
            " [ 75.4455  47.5305   3.4483 ...  -9.4662  30.2987 256.5166]\n",
            " [120.5135  76.9018   3.9939 ... -63.8389  84.6874 408.3166]\n",
            " [187.1814  53.0014   3.2093 ...  31.4755  52.731  272.3174]]\n",
            "(19020, 10)\n"
          ]
        }
      ]
    },
    {
      "cell_type": "markdown",
      "metadata": {
        "id": "cDhkhNUJyLHM"
      },
      "source": [
        "Labels: numpy array of 19020 rows and 1 column\n"
      ]
    },
    {
      "cell_type": "code",
      "metadata": {
        "colab": {
          "base_uri": "https://localhost:8080/"
        },
        "id": "elCADrPhnkLJ",
        "outputId": "fa94b650-0803-4962-c1e7-a1ad2def23f4"
      },
      "source": [
        "labels=labels_df.values.reshape(19020,)\n",
        "print(labels)\n",
        "print(labels.shape)"
      ],
      "execution_count": null,
      "outputs": [
        {
          "name": "stdout",
          "output_type": "stream",
          "text": [
            "['g' 'g' 'g' ... 'h' 'h' 'h']\n",
            "(19020,)\n"
          ]
        }
      ]
    },
    {
      "cell_type": "markdown",
      "metadata": {
        "id": "WVsI2kV9xVY9"
      },
      "source": [
        "Ο τύπος των δεδομένων στα features είναι float:"
      ]
    },
    {
      "cell_type": "code",
      "metadata": {
        "colab": {
          "base_uri": "https://localhost:8080/"
        },
        "id": "8ByR0CLAw3O_",
        "outputId": "d18c76cd-3030-44b2-c52a-88d6601eb6e2"
      },
      "source": [
        "print(type(features[0,0]))"
      ],
      "execution_count": null,
      "outputs": [
        {
          "name": "stdout",
          "output_type": "stream",
          "text": [
            "<class 'numpy.float64'>\n"
          ]
        }
      ]
    },
    {
      "cell_type": "markdown",
      "metadata": {
        "id": "RXDsRZpixbp8"
      },
      "source": [
        "Ο τύπος των δεδομένων στα labels είναι string:"
      ]
    },
    {
      "cell_type": "code",
      "metadata": {
        "colab": {
          "base_uri": "https://localhost:8080/"
        },
        "id": "vh_4pGTuxg95",
        "outputId": "a61d3901-ff52-47d8-9b8e-11431d20163e"
      },
      "source": [
        "print(type(labels[0]))"
      ],
      "execution_count": null,
      "outputs": [
        {
          "name": "stdout",
          "output_type": "stream",
          "text": [
            "<class 'str'>\n"
          ]
        }
      ]
    },
    {
      "cell_type": "markdown",
      "metadata": {
        "id": "DF3BktvK7ITg"
      },
      "source": [
        "Επομένως:\n",
        "* Oι κλάσεις βρίσκονται στην τελευταία στήλη και διακρίνονται σε \"gamma\" : \"g\" και \"hadron\" : \"h\".\n",
        "* Δεν έχουμε επικεφαλίδες ούτε αρίθμηση γραμμών\n",
        "* Δεν απουσιάζει κανένα δείγμα\n",
        "\n",
        "\n",
        "\n",
        "\n"
      ]
    },
    {
      "cell_type": "markdown",
      "metadata": {
        "id": "mEm6esO3DtCo"
      },
      "source": [
        "Έλεγχος αν το dataset είναι balanced:"
      ]
    },
    {
      "cell_type": "code",
      "metadata": {
        "colab": {
          "base_uri": "https://localhost:8080/"
        },
        "id": "L9Xa9L5G967A",
        "outputId": "01d764b8-18fe-42d2-8137-4f13eb94b5d4"
      },
      "source": [
        "print(\"number of classes: 2\")\n",
        "print(\"number of samples of both classes: \",len(labels))\n",
        "g=np.sum(df.values[:, -1] == 'g')\n",
        "h=np.sum(df.values[:, -1] == 'h')\n",
        "print(\"number of g: \",g,\", number of h: \",h)\n",
        "perc=min(g,h)/len(labels)\n",
        "if perc<0.4:\n",
        "  print(\"Not balanced. Min class percentage = \",perc,\" (should be atleast 40%)\")\n",
        "else:\n",
        "  print(\"Balanced. Min class percentage = \",perc)\n"
      ],
      "execution_count": null,
      "outputs": [
        {
          "name": "stdout",
          "output_type": "stream",
          "text": [
            "number of classes: 2\n",
            "number of samples of both classes:  19020\n",
            "number of g:  12332 , number of h:  6688\n",
            "Not balanced. Min class percentage =  0.3516298633017876  (should be atleast 40%)\n"
          ]
        }
      ]
    },
    {
      "cell_type": "markdown",
      "metadata": {
        "id": "TWpBGCyeEcC8"
      },
      "source": [
        "Διαχωρίζουμε το σύνολο δεδομένων σε σύνολο εκπαίδευσης (train set) και σύνολο (test set) με 30% των δειγμάτων στο test set"
      ]
    },
    {
      "cell_type": "code",
      "metadata": {
        "id": "HHXvKCWLF0FC"
      },
      "source": [
        "from sklearn.model_selection import train_test_split\n",
        "x_train, x_test, y_train, y_test =train_test_split(features,labels,test_size=0.3)"
      ],
      "execution_count": null,
      "outputs": []
    },
    {
      "cell_type": "code",
      "metadata": {
        "id": "qRVSJ2aEHdZ2"
      },
      "source": [
        "label_names=['gamma','hadron']"
      ],
      "execution_count": null,
      "outputs": []
    },
    {
      "cell_type": "markdown",
      "metadata": {
        "id": "MEkunif6Ogq4"
      },
      "source": [
        "# Dummy Classifier:"
      ]
    },
    {
      "cell_type": "code",
      "metadata": {
        "id": "W1Crl85BcBXn"
      },
      "source": [
        "from sklearn.dummy import DummyClassifier\n",
        "dc_uniform = DummyClassifier(strategy=\"uniform\")\n",
        "dc_constant_g = DummyClassifier(strategy=\"constant\", constant='g')\n",
        "dc_constant_h = DummyClassifier(strategy=\"constant\", constant='h')\n",
        "dc_most_frequent = DummyClassifier(strategy=\"most_frequent\")\n",
        "dc_stratified = DummyClassifier(strategy=\"stratified\")"
      ],
      "execution_count": null,
      "outputs": []
    },
    {
      "cell_type": "code",
      "metadata": {
        "id": "HJxaeyzfvOco"
      },
      "source": [
        "magic_accuracy = {}\n",
        "dc_uniform.fit(x_train, y_train)\n",
        "magic_accuracy['uniform (random)'] = dc_uniform.score(x_train, y_train)\n",
        "model = dc_constant_g.fit(x_train, y_train)\n",
        "magic_accuracy['constant g'] = dc_constant_g.score(x_train, y_train)\n",
        "model = dc_constant_h.fit(x_train, y_train)\n",
        "magic_accuracy['constant h'] = dc_constant_h.score(x_train, y_train)\n",
        "model = dc_most_frequent.fit(x_train, y_train)\n",
        "magic_accuracy['most frequent label'] = dc_most_frequent.score(x_train, y_train)\n",
        "model = dc_stratified.fit(x_train, y_train)\n",
        "magic_accuracy['stratified'] = dc_stratified.score(x_train, y_train)\n"
      ],
      "execution_count": null,
      "outputs": []
    },
    {
      "cell_type": "code",
      "metadata": {
        "colab": {
          "base_uri": "https://localhost:8080/"
        },
        "id": "q6ZdXPlwwSw0",
        "outputId": "4b8f0f76-4935-46aa-8e9d-caa3282fd4c4"
      },
      "source": [
        "print(\"Classification Accuracy on the magic Dataset (30% test set)\\n\")\n",
        "sorted_accuracy = [(k, magic_accuracy[k]) for k in sorted(magic_accuracy, key=magic_accuracy.get, reverse=True)]\n",
        "for k, v in sorted_accuracy:\n",
        "  print(k,v)"
      ],
      "execution_count": null,
      "outputs": [
        {
          "name": "stdout",
          "output_type": "stream",
          "text": [
            "Classification Accuracy on the magic Dataset (30% test set)\n",
            "\n",
            "constant g 0.6450353011867207\n",
            "most frequent label 0.6450353011867207\n",
            "stratified 0.5432627309598919\n",
            "uniform (random) 0.5021030494216614\n",
            "constant h 0.35496469881327924\n"
          ]
        }
      ]
    },
    {
      "cell_type": "code",
      "metadata": {
        "id": "afDs2vNcpt-E"
      },
      "source": [
        "x=features\n",
        "y=labels"
      ],
      "execution_count": null,
      "outputs": []
    },
    {
      "cell_type": "code",
      "metadata": {
        "colab": {
          "base_uri": "https://localhost:8080/",
          "height": 1000
        },
        "id": "bKj1ziDHpLu6",
        "outputId": "5f853a32-994e-45de-85e1-dc97fd616560"
      },
      "source": [
        "#Dummy classification\n",
        "\n",
        "#Dummy CLassifier\n",
        "print(\"Dummy Classifier Baseline:\")\n",
        "from sklearn.dummy import DummyClassifier\n",
        "dc = DummyClassifier(strategy='stratified')\n",
        "dc.fit(x_train, y_train)\n",
        "score = dc.score(x_test, y_test)\n",
        "print('Classification Test Accuracy: {:.3f}%'.format(100 * score))\n",
        "score = evaluate_classifier(dc, x, y, folds=10)\n",
        "print('Classification Validation Accuracy: {:.3f}%'.format(100 * score))\n",
        "pred = dc.predict(x_test)\n",
        "disp = plot_confusion_matrix(dc, x_test, y_test,\n",
        "                              display_labels=label_names,\n",
        "                              cmap=plt.cm.Blues,\n",
        "                              normalize=None, values_format='d')\n",
        "disp.ax_.set_title('Dummy Classifier')\n",
        "plt.show()\n",
        "print(classification_report(y_test, pred, target_names=label_names))\n",
        "dc_f1_m = f1_score(y_test,pred,average='micro')\n",
        "dc_f1_M = f1_score(y_test,pred,average='macro')\n",
        "print('F1_Micro Score: {:.3f}%'.format(100 * dc_f1_m))\n",
        "print('F1_Macro Score: {:.3f}%'.format(100 * dc_f1_M))\n",
        "print(\"\")\n",
        "\n",
        "#KNN CLassifier\n",
        "print(\"KNN Classifier Baseline:\")\n",
        "knn = KNeighborsClassifier()\n",
        "knn.fit(x_train, y_train)\n",
        "score = knn.score(x_test, y_test)\n",
        "print('Classification Test Accuracy: {:.3f}%'.format(100 * score))\n",
        "score = evaluate_classifier(knn, x, y, folds=10)\n",
        "print('Classification Validation Accuracy: {:.3f}%'.format(100 * score))\n",
        "pred = knn.predict(x_test)\n",
        "disp = plot_confusion_matrix(dc, x_test, y_test,\n",
        "                              display_labels=label_names,\n",
        "                              cmap=plt.cm.Blues,\n",
        "                              normalize=None, values_format='d')\n",
        "disp.ax_.set_title('KNN Classifier')\n",
        "plt.show()\n",
        "print(classification_report(y_test, pred, target_names=label_names))\n",
        "knn_f1_m = f1_score(y_test,pred,average='micro')\n",
        "knn_f1_M = f1_score(y_test,pred,average='macro')\n",
        "print('F1_Micro Score: {:.3f}%'.format(100 * knn_f1_m))\n",
        "print('F1_Macro Score: {:.3f}%'.format(100 * knn_f1_M))\n",
        "print(\"\")\n",
        "\n",
        "#Naive Bayes CLassifier\n",
        "print(\"Naive Bayes Classifier Baseline:\")\n",
        "gauss = GaussianNB()\n",
        "gauss.fit(x_train, y_train)\n",
        "score = gauss.score(x_test, y_test)\n",
        "print('Classification Test Accuracy: {:.3f}%'.format(100 * score))\n",
        "score = evaluate_classifier(gauss, x, y, folds=10)\n",
        "print('Classification Validation Accuracy: {:.3f}%'.format(100 * score))\n",
        "pred = gauss.predict(x_test)\n",
        "disp = plot_confusion_matrix(dc, x_test, y_test,\n",
        "                              display_labels=label_names,\n",
        "                              cmap=plt.cm.Blues,\n",
        "                              normalize=None, values_format='d')\n",
        "disp.ax_.set_title('Naive Bayes Classifier')\n",
        "plt.show()\n",
        "print(classification_report(y_test, pred, target_names=label_names))\n",
        "gauss_f1_m = f1_score(y_test,pred,average='micro')\n",
        "gauss_f1_M = f1_score(y_test,pred,average='macro')\n",
        "print('F1_Micro Score: {:.3f}%'.format(100 * gauss_f1_m))\n",
        "print('F1_Macro Score: {:.3f}%'.format(100 * gauss_f1_M))\n",
        "print(\"\")\n",
        "\n",
        "#SVM CLassifier\n",
        "print(\"SVM Classifier Baseline:\")\n",
        "sv = svm.SVC()\n",
        "sv.fit(x_train, y_train)\n",
        "score = sv.score(x_test, y_test)\n",
        "print('Classification Test Accuracy: {:.3f}%'.format(100 * score))\n",
        "score = evaluate_classifier(sv, x, y, folds=10)\n",
        "print('Classification Validation Accuracy: {:.3f}%'.format(100 * score))\n",
        "pred = sv.predict(x_test)\n",
        "disp = plot_confusion_matrix(dc, x_test, y_test,\n",
        "                              display_labels=label_names,\n",
        "                              cmap=plt.cm.Blues,\n",
        "                              normalize=None, values_format='d')\n",
        "disp.ax_.set_title('SVM Classifier')\n",
        "plt.show()\n",
        "print(classification_report(y_test, pred, target_names=label_names))\n",
        "svm_f1_m = f1_score(y_test,pred,average='micro')\n",
        "svm_f1_M = f1_score(y_test,pred,average='macro')\n",
        "print('F1_Micro Score: {:.3f}%'.format(100 * svm_f1_m))\n",
        "print('F1_Macro Score: {:.3f}%'.format(100 * svm_f1_M))\n",
        "print(\"\")\n",
        "\n",
        "#MLP CLassifier\n",
        "print(\"MLP Classifier Baseline:\")\n",
        "mlp = MLPClassifier()\n",
        "mlp.fit(x_train, y_train)\n",
        "score = mlp.score(x_test, y_test)\n",
        "print('Classification Test Accuracy: {:.3f}%'.format(100 * score))\n",
        "score = evaluate_classifier(mlp, x, y, folds=10)\n",
        "print('Classification Validation Accuracy: {:.3f}%'.format(100 * score))\n",
        "pred = mlp.predict(x_test)\n",
        "disp = plot_confusion_matrix(dc, x_test, y_test,\n",
        "                              display_labels=label_names,\n",
        "                              cmap=plt.cm.Blues,\n",
        "                              normalize=None, values_format='d')\n",
        "disp.ax_.set_title('MLP Classifier')\n",
        "plt.show()\n",
        "print(classification_report(y_test, pred, target_names=label_names))\n",
        "mlp_f1_m = f1_score(y_test,pred,average='micro')\n",
        "mlp_f1_M = f1_score(y_test,pred,average='macro')\n",
        "print('F1_Micro Score: {:.3f}%'.format(100 * mlp_f1_m))\n",
        "print('F1_Macro Score: {:.3f}%'.format(100 * mlp_f1_M))\n",
        "print(\"\")"
      ],
      "execution_count": null,
      "outputs": [
        {
          "name": "stdout",
          "output_type": "stream",
          "text": [
            "Dummy Classifier Baseline:\n",
            "Classification Test Accuracy: 54.732%\n",
            "Classification Validation Accuracy: 54.564%\n"
          ]
        },
        {
          "name": "stderr",
          "output_type": "stream",
          "text": [
            "/usr/local/lib/python3.7/dist-packages/sklearn/utils/deprecation.py:87: FutureWarning: Function plot_confusion_matrix is deprecated; Function `plot_confusion_matrix` is deprecated in 1.0 and will be removed in 1.2. Use one of the class methods: ConfusionMatrixDisplay.from_predictions or ConfusionMatrixDisplay.from_estimator.\n",
            "  warnings.warn(msg, category=FutureWarning)\n"
          ]
        },
        {
          "data": {
            "image/png": "[encoded data removed]",
            "text/plain": [
              "<Figure size 432x288 with 2 Axes>"
            ]
          },
          "metadata": {},
          "output_type": "display_data"
        },
        {
          "name": "stdout",
          "output_type": "stream",
          "text": [
            "              precision    recall  f1-score   support\n",
            "\n",
            "       gamma       0.65      0.64      0.65      3744\n",
            "      hadron       0.34      0.35      0.34      1962\n",
            "\n",
            "    accuracy                           0.54      5706\n",
            "   macro avg       0.49      0.49      0.49      5706\n",
            "weighted avg       0.54      0.54      0.54      5706\n",
            "\n",
            "F1_Micro Score: 53.978%\n",
            "F1_Macro Score: 49.437%\n",
            "\n",
            "KNN Classifier Baseline:\n",
            "Classification Test Accuracy: 80.599%\n",
            "Classification Validation Accuracy: 80.836%\n"
          ]
        },
        {
          "name": "stderr",
          "output_type": "stream",
          "text": [
            "/usr/local/lib/python3.7/dist-packages/sklearn/utils/deprecation.py:87: FutureWarning: Function plot_confusion_matrix is deprecated; Function `plot_confusion_matrix` is deprecated in 1.0 and will be removed in 1.2. Use one of the class methods: ConfusionMatrixDisplay.from_predictions or ConfusionMatrixDisplay.from_estimator.\n",
            "  warnings.warn(msg, category=FutureWarning)\n"
          ]
        },
        {
          "data": {
            "image/png": "[encoded data removed]",
            "text/plain": [
              "<Figure size 432x288 with 2 Axes>"
            ]
          },
          "metadata": {},
          "output_type": "display_data"
        },
        {
          "name": "stdout",
          "output_type": "stream",
          "text": [
            "              precision    recall  f1-score   support\n",
            "\n",
            "       gamma       0.81      0.92      0.86      3744\n",
            "      hadron       0.80      0.59      0.67      1962\n",
            "\n",
            "    accuracy                           0.81      5706\n",
            "   macro avg       0.80      0.75      0.77      5706\n",
            "weighted avg       0.80      0.81      0.80      5706\n",
            "\n",
            "F1_Micro Score: 80.599%\n",
            "F1_Macro Score: 76.824%\n",
            "\n",
            "Naive Bayes Classifier Baseline:\n",
            "Classification Test Accuracy: 72.853%\n",
            "Classification Validation Accuracy: 72.687%\n"
          ]
        },
        {
          "name": "stderr",
          "output_type": "stream",
          "text": [
            "/usr/local/lib/python3.7/dist-packages/sklearn/utils/deprecation.py:87: FutureWarning: Function plot_confusion_matrix is deprecated; Function `plot_confusion_matrix` is deprecated in 1.0 and will be removed in 1.2. Use one of the class methods: ConfusionMatrixDisplay.from_predictions or ConfusionMatrixDisplay.from_estimator.\n",
            "  warnings.warn(msg, category=FutureWarning)\n"
          ]
        },
        {
          "data": {
            "image/png": "[encoded data removed]",
            "text/plain": [
              "<Figure size 432x288 with 2 Axes>"
            ]
          },
          "metadata": {},
          "output_type": "display_data"
        },
        {
          "name": "stdout",
          "output_type": "stream",
          "text": [
            "              precision    recall  f1-score   support\n",
            "\n",
            "       gamma       0.73      0.92      0.82      3744\n",
            "      hadron       0.70      0.36      0.48      1962\n",
            "\n",
            "    accuracy                           0.73      5706\n",
            "   macro avg       0.72      0.64      0.65      5706\n",
            "weighted avg       0.72      0.73      0.70      5706\n",
            "\n",
            "F1_Micro Score: 72.853%\n",
            "F1_Macro Score: 64.756%\n",
            "\n",
            "SVM Classifier Baseline:\n",
            "Classification Test Accuracy: 82.492%\n",
            "Classification Validation Accuracy: 82.450%\n"
          ]
        },
        {
          "name": "stderr",
          "output_type": "stream",
          "text": [
            "/usr/local/lib/python3.7/dist-packages/sklearn/utils/deprecation.py:87: FutureWarning: Function plot_confusion_matrix is deprecated; Function `plot_confusion_matrix` is deprecated in 1.0 and will be removed in 1.2. Use one of the class methods: ConfusionMatrixDisplay.from_predictions or ConfusionMatrixDisplay.from_estimator.\n",
            "  warnings.warn(msg, category=FutureWarning)\n"
          ]
        },
        {
          "data": {
            "image/png": "[encoded data removed]",
            "text/plain": [
              "<Figure size 432x288 with 2 Axes>"
            ]
          },
          "metadata": {},
          "output_type": "display_data"
        },
        {
          "name": "stdout",
          "output_type": "stream",
          "text": [
            "              precision    recall  f1-score   support\n",
            "\n",
            "       gamma       0.81      0.95      0.88      3744\n",
            "      hadron       0.86      0.59      0.70      1962\n",
            "\n",
            "    accuracy                           0.82      5706\n",
            "   macro avg       0.84      0.77      0.79      5706\n",
            "weighted avg       0.83      0.82      0.82      5706\n",
            "\n",
            "F1_Micro Score: 82.492%\n",
            "F1_Macro Score: 78.702%\n",
            "\n",
            "MLP Classifier Baseline:\n",
            "Classification Test Accuracy: 83.579%\n"
          ]
        },
        {
          "name": "stderr",
          "output_type": "stream",
          "text": [
            "/usr/local/lib/python3.7/dist-packages/sklearn/neural_network/_multilayer_perceptron.py:696: ConvergenceWarning: Stochastic Optimizer: Maximum iterations (200) reached and the optimization hasn't converged yet.\n",
            "  ConvergenceWarning,\n"
          ]
        },
        {
          "name": "stdout",
          "output_type": "stream",
          "text": [
            "Classification Validation Accuracy: 83.980%\n"
          ]
        },
        {
          "name": "stderr",
          "output_type": "stream",
          "text": [
            "/usr/local/lib/python3.7/dist-packages/sklearn/utils/deprecation.py:87: FutureWarning: Function plot_confusion_matrix is deprecated; Function `plot_confusion_matrix` is deprecated in 1.0 and will be removed in 1.2. Use one of the class methods: ConfusionMatrixDisplay.from_predictions or ConfusionMatrixDisplay.from_estimator.\n",
            "  warnings.warn(msg, category=FutureWarning)\n"
          ]
        },
        {
          "data": {
            "image/png": "[encoded data removed]",
            "text/plain": [
              "<Figure size 432x288 with 2 Axes>"
            ]
          },
          "metadata": {},
          "output_type": "display_data"
        },
        {
          "name": "stdout",
          "output_type": "stream",
          "text": [
            "              precision    recall  f1-score   support\n",
            "\n",
            "       gamma       0.83      0.95      0.88      3744\n",
            "      hadron       0.86      0.63      0.72      1962\n",
            "\n",
            "    accuracy                           0.84      5706\n",
            "   macro avg       0.84      0.79      0.80      5706\n",
            "weighted avg       0.84      0.84      0.83      5706\n",
            "\n",
            "F1_Micro Score: 83.579%\n",
            "F1_Macro Score: 80.363%\n",
            "\n"
          ]
        }
      ]
    },
    {
      "cell_type": "markdown",
      "metadata": {
        "id": "5AouwKZMoCbx"
      },
      "source": [
        "Γενικά λόγω του μη ισσοροπημένου dataset παρατηρούμε μεγάλη διαφορά στα στατιστικά των δύο κλάσεων. Ιδιαίτερα στο recall η κλάση 'h'/background, έχει αρκέτα χειρότερα αποτελέσματα σε όλους τους classifiers. Προφανώς αυτό αποτυπώνεται κυρίως στα f1 score που παίρνουν harmonic average για recall/precision, αλλά και στο accuracy. Για KNN, SVM, MLP βλέπουμε αρκετά καλά αποτελέσματα, ιδίως για τα 2 τελευταία."
      ]
    },
    {
      "cell_type": "code",
      "metadata": {
        "colab": {
          "base_uri": "https://localhost:8080/",
          "height": 607
        },
        "id": "5Zqz523pqTum",
        "outputId": "ec05b477-31fb-4dd7-837a-d4fd49ddbfb2"
      },
      "source": [
        "labels = ['Dummy','Naive Gauss','KNN','SVM','MLP']\n",
        "values = np.array([dc_f1_m,gauss_f1_m,knn_f1_m,svm_f1_m,mlp_f1_m])\n",
        "\n",
        "  \n",
        "# creating the bar plot \n",
        "plt.bar(labels, values, color ='maroon',  \n",
        "        width = 0.4) \n",
        "  \n",
        "plt.xlabel(\"percentage\") \n",
        "plt.ylabel(\"Classifiers\") \n",
        "plt.title(\"F1-Micro Average\") \n",
        "plt.show() \n",
        "print(values)\n",
        "\n",
        "\n",
        "\n",
        "values = np.array([dc_f1_M,gauss_f1_M,knn_f1_M,svm_f1_M,mlp_f1_M])\n",
        "\n",
        "  \n",
        "# creating the bar plot \n",
        "plt.bar(labels, values,  \n",
        "        width = 0.4) \n",
        "  \n",
        "plt.xlabel(\"percentage\") \n",
        "plt.ylabel(\"Classifiers\") \n",
        "plt.title(\"F1-Macro Average\") \n",
        "plt.show()\n",
        "print(values)\n",
        "\n"
      ],
      "execution_count": null,
      "outputs": [
        {
          "data": {
            "image/png": "[encoded data removed]",
            "text/plain": [
              "<Figure size 432x288 with 1 Axes>"
            ]
          },
          "metadata": {},
          "output_type": "display_data"
        },
        {
          "name": "stdout",
          "output_type": "stream",
          "text": [
            "[0.53978268 0.72853137 0.80599369 0.82492114 0.83578689]\n"
          ]
        },
        {
          "data": {
            "image/png": "[encoded data removed]",
            "text/plain": [
              "<Figure size 432x288 with 1 Axes>"
            ]
          },
          "metadata": {},
          "output_type": "display_data"
        },
        {
          "name": "stdout",
          "output_type": "stream",
          "text": [
            "[0.4943718  0.64755883 0.76823965 0.78702263 0.80363129]\n"
          ]
        }
      ]
    },
    {
      "cell_type": "markdown",
      "metadata": {
        "id": "Y4k6Mmz_rtwK"
      },
      "source": [
        "# Βελτιστοποίηση"
      ]
    },
    {
      "cell_type": "markdown",
      "metadata": {
        "id": "3-psgtVLoO8E"
      },
      "source": [
        "Αρχικά βλέπουμε ότι κανένα χαρακτηριστικό δεν έχει μηδενική διασπορά. Ωστόσο 2-3 χαρακτηριστικά έχουν σχετικά μικρή διασπορά, αλλα λόγω του ότι ούτως ή άλλως είναι μόνο 10 δεν έχει πάρα πολύ νόημα να τα απαλείψουμε, δεδομένου πως έχουμε 19020 δείγματα. Για τον ίδιο λόγο επίσης δεν έχει νόημα να κάνουμε PCA. Με grid search επιβεαιώνουμε πραγματί μικρή μείωση της απόδοσης αν απαλήψουμε χαρακτηριστικά με grid search στα [0.5 0.1 0.03]\n",
        "\n",
        "Θα εφαρμόσουμε κανονική κανονικοποίηση στα δεδομένα με τον StandardScaler.\n",
        "\n",
        "Τέλος θα ισσοροπήσουμε καλύτερα το dataset κάνοντας oversampling. Δοκιμάζοντας δίαφορους συνδυασμούς oversampling καταλήγουμε πως για αναλογία 0.7:1 στις 2 κλάσεις έχουμε το καλύτερο αποτέλεσμα"
      ]
    },
    {
      "cell_type": "code",
      "metadata": {
        "colab": {
          "base_uri": "https://localhost:8080/",
          "height": 1000
        },
        "id": "JMR7FYyrqd5t",
        "outputId": "43f04c29-e031-4fd7-ceea-5d8956214c01"
      },
      "source": [
        "#Dummy optimization\n",
        "dc_f1 = []\n",
        "train_time_dc = 0\n",
        "predict_time_dc = 0\n",
        "\n",
        "scorer=['f1_micro','f1_macro']\n",
        "for s in scorer:\n",
        "  print('Dummy optimization - %s' % s)\n",
        "\n",
        "  #Pipeline\n",
        "  #αρχικοποιούμε τον εκτιμητή (ταξινομητής) και τους μετασχηματιστές χωρίς υπερ-παραμέτρους\n",
        "  scaler = StandardScaler()\n",
        "  ros = RandomOverSampler()\n",
        "  clf = DummyClassifier() # η παράμετρος n_jobs = 1 χρησιμοποιεί όλους τους πυρήνες του υπολογιστή\n",
        "  pipe = Pipeline(steps=[('scaler', scaler),('sampler', ros), ('gnb', clf)], memory = 'tmp')\n",
        "\n",
        "  #Grid Search - KNN\n",
        "  r=[0.55,0.8,1.0]\n",
        "\n",
        "  strategy=['statified','most_frequent','prior''uniform','constant']\n",
        "  estimator = GridSearchCV(pipe, dict(sampler__sampling_strategy=r,gnb__strategy=strategy), scoring=s, cv=5, n_jobs=-1, verbose=10)\n",
        "\n",
        "  import time\n",
        "  start_time = time.time()\n",
        "  estimator.fit(x_train, y_train)\n",
        "  train_time = time.time()\n",
        "  pred = estimator.predict(x_test)\n",
        "\n",
        "  print('')\n",
        "  print('Optimal parameters tuned on dev set:',estimator.best_params_)\n",
        "  print('')\n",
        "\n",
        "  train_time_dc = train_time - start_time\n",
        "  predict_time_dc = time.time() - train_time\n",
        "  print(\"Χρόνος fit=%s, Χρόνος predict=%s, Συνολικός χρόνος=%s  seconds\" % (train_time_dc,predict_time_dc,train_time_dc+predict_time_dc))\n",
        "  print('')\n",
        "\n",
        "  disp = plot_confusion_matrix(estimator, x_test, y_test,\n",
        "                                display_labels=label_names,\n",
        "                                cmap=plt.cm.Blues,\n",
        "                                normalize=None, values_format='d')\n",
        "  disp.ax_.set_title('Optimal GNB Classifier Confusion Matrix')\n",
        "  plt.show()\n",
        "\n",
        "  print(classification_report(y_test, pred, target_names=label_names))\n",
        "  Odc_f1_m = f1_score(y_test,pred,average='micro')\n",
        "  Odc_f1_M = f1_score(y_test,pred,average='macro')\n",
        "  dc_f1.append(Odc_f1_m)\n",
        "  dc_f1.append(Odc_f1_M)\n",
        "  print('F1_Micro Score: {:.3f}%'.format(100 * Odc_f1_m))\n",
        "  print('F1_Macro Score: {:.3f}%'.format(100 * Odc_f1_M))\n",
        "  print(\"\")"
      ],
      "execution_count": null,
      "outputs": [
        {
          "name": "stdout",
          "output_type": "stream",
          "text": [
            "Dummy optimization - f1_micro\n",
            "Fitting 5 folds for each of 12 candidates, totalling 60 fits\n"
          ]
        },
        {
          "name": "stderr",
          "output_type": "stream",
          "text": [
            "/usr/local/lib/python3.7/dist-packages/sklearn/model_selection/_validation.py:372: FitFailedWarning: \n",
            "50 fits failed out of a total of 60.\n",
            "The score on these train-test partitions for these parameters will be set to nan.\n",
            "If these failures are not expected, you can try to debug them by setting error_score='raise'.\n",
            "\n",
            "Below are more details about the failures:\n",
            "--------------------------------------------------------------------------------\n",
            "20 fits failed with the following error:\n",
            "Traceback (most recent call last):\n",
            "  File \"/usr/local/lib/python3.7/dist-packages/sklearn/model_selection/_validation.py\", line 681, in _fit_and_score\n",
            "    estimator.fit(X_train, y_train, **fit_params)\n",
            "  File \"/usr/local/lib/python3.7/dist-packages/imblearn/pipeline.py\", line 262, in fit\n",
            "    Xt, yt = self._fit(X, y, **fit_params_steps)\n",
            "  File \"/usr/local/lib/python3.7/dist-packages/imblearn/pipeline.py\", line 226, in _fit\n",
            "    **fit_params_steps[name],\n",
            "  File \"/usr/local/lib/python3.7/dist-packages/joblib/memory.py\", line 594, in __call__\n",
            "    return self._cached_call(args, kwargs)[0]\n",
            "  File \"/usr/local/lib/python3.7/dist-packages/joblib/memory.py\", line 537, in _cached_call\n",
            "    out, metadata = self.call(*args, **kwargs)\n",
            "  File \"/usr/local/lib/python3.7/dist-packages/joblib/memory.py\", line 779, in call\n",
            "    output = self.func(*args, **kwargs)\n",
            "  File \"/usr/local/lib/python3.7/dist-packages/imblearn/pipeline.py\", line 388, in _fit_resample_one\n",
            "    X_res, y_res = sampler.fit_resample(X, y, **fit_params)\n",
            "  File \"/usr/local/lib/python3.7/dist-packages/imblearn/base.py\", line 80, in fit_resample\n",
            "    self.sampling_strategy, y, self._sampling_type\n",
            "  File \"/usr/local/lib/python3.7/dist-packages/imblearn/utils/_validation.py\", line 535, in check_sampling_strategy\n",
            "    _sampling_strategy_float(sampling_strategy, y, sampling_type).items()\n",
            "  File \"/usr/local/lib/python3.7/dist-packages/imblearn/utils/_validation.py\", line 374, in _sampling_strategy_float\n",
            "    \"The specified ratio required to remove samples \"\n",
            "ValueError: The specified ratio required to remove samples from the minority class while trying to generate new samples. Please increase the ratio.\n",
            "\n",
            "--------------------------------------------------------------------------------\n",
            "10 fits failed with the following error:\n",
            "Traceback (most recent call last):\n",
            "  File \"/usr/local/lib/python3.7/dist-packages/sklearn/model_selection/_validation.py\", line 681, in _fit_and_score\n",
            "    estimator.fit(X_train, y_train, **fit_params)\n",
            "  File \"/usr/local/lib/python3.7/dist-packages/imblearn/pipeline.py\", line 266, in fit\n",
            "    self._final_estimator.fit(Xt, yt, **fit_params_last_step)\n",
            "  File \"/usr/local/lib/python3.7/dist-packages/sklearn/dummy.py\", line 144, in fit\n",
            "    % (self.strategy, allowed_strategies)\n",
            "ValueError: Unknown strategy type: statified, expected one of ('most_frequent', 'stratified', 'uniform', 'constant', 'prior').\n",
            "\n",
            "--------------------------------------------------------------------------------\n",
            "10 fits failed with the following error:\n",
            "Traceback (most recent call last):\n",
            "  File \"/usr/local/lib/python3.7/dist-packages/sklearn/model_selection/_validation.py\", line 681, in _fit_and_score\n",
            "    estimator.fit(X_train, y_train, **fit_params)\n",
            "  File \"/usr/local/lib/python3.7/dist-packages/imblearn/pipeline.py\", line 266, in fit\n",
            "    self._final_estimator.fit(Xt, yt, **fit_params_last_step)\n",
            "  File \"/usr/local/lib/python3.7/dist-packages/sklearn/dummy.py\", line 144, in fit\n",
            "    % (self.strategy, allowed_strategies)\n",
            "ValueError: Unknown strategy type: prioruniform, expected one of ('most_frequent', 'stratified', 'uniform', 'constant', 'prior').\n",
            "\n",
            "--------------------------------------------------------------------------------\n",
            "10 fits failed with the following error:\n",
            "Traceback (most recent call last):\n",
            "  File \"/usr/local/lib/python3.7/dist-packages/sklearn/model_selection/_validation.py\", line 681, in _fit_and_score\n",
            "    estimator.fit(X_train, y_train, **fit_params)\n",
            "  File \"/usr/local/lib/python3.7/dist-packages/imblearn/pipeline.py\", line 266, in fit\n",
            "    self._final_estimator.fit(Xt, yt, **fit_params_last_step)\n",
            "  File \"/usr/local/lib/python3.7/dist-packages/sklearn/dummy.py\", line 178, in fit\n",
            "    \"Constant target value has to be specified \"\n",
            "ValueError: Constant target value has to be specified when the constant strategy is used.\n",
            "\n",
            "  warnings.warn(some_fits_failed_message, FitFailedWarning)\n",
            "/usr/local/lib/python3.7/dist-packages/sklearn/model_selection/_search.py:972: UserWarning: One or more of the test scores are non-finite: [      nan       nan       nan       nan 0.6450353 0.6450353       nan\n",
            "       nan       nan       nan       nan       nan]\n",
            "  category=UserWarning,\n"
          ]
        },
        {
          "name": "stdout",
          "output_type": "stream",
          "text": [
            "\n",
            "Optimal parameters tuned on dev set: {'gnb__strategy': 'most_frequent', 'sampler__sampling_strategy': 0.8}\n",
            "\n",
            "Χρόνος fit=9.024047613143921, Χρόνος predict=0.0018041133880615234, Συνολικός χρόνος=9.025851726531982  seconds\n",
            "\n"
          ]
        },
        {
          "name": "stderr",
          "output_type": "stream",
          "text": [
            "/usr/local/lib/python3.7/dist-packages/sklearn/utils/deprecation.py:87: FutureWarning: Function plot_confusion_matrix is deprecated; Function `plot_confusion_matrix` is deprecated in 1.0 and will be removed in 1.2. Use one of the class methods: ConfusionMatrixDisplay.from_predictions or ConfusionMatrixDisplay.from_estimator.\n",
            "  warnings.warn(msg, category=FutureWarning)\n"
          ]
        },
        {
          "data": {
            "image/png": "[encoded data removed]",
            "text/plain": [
              "<Figure size 432x288 with 2 Axes>"
            ]
          },
          "metadata": {},
          "output_type": "display_data"
        },
        {
          "name": "stderr",
          "output_type": "stream",
          "text": [
            "/usr/local/lib/python3.7/dist-packages/sklearn/metrics/_classification.py:1308: UndefinedMetricWarning: Precision and F-score are ill-defined and being set to 0.0 in labels with no predicted samples. Use `zero_division` parameter to control this behavior.\n",
            "  _warn_prf(average, modifier, msg_start, len(result))\n",
            "/usr/local/lib/python3.7/dist-packages/sklearn/metrics/_classification.py:1308: UndefinedMetricWarning: Precision and F-score are ill-defined and being set to 0.0 in labels with no predicted samples. Use `zero_division` parameter to control this behavior.\n",
            "  _warn_prf(average, modifier, msg_start, len(result))\n",
            "/usr/local/lib/python3.7/dist-packages/sklearn/metrics/_classification.py:1308: UndefinedMetricWarning: Precision and F-score are ill-defined and being set to 0.0 in labels with no predicted samples. Use `zero_division` parameter to control this behavior.\n",
            "  _warn_prf(average, modifier, msg_start, len(result))\n"
          ]
        },
        {
          "name": "stdout",
          "output_type": "stream",
          "text": [
            "              precision    recall  f1-score   support\n",
            "\n",
            "       gamma       0.66      1.00      0.79      3744\n",
            "      hadron       0.00      0.00      0.00      1962\n",
            "\n",
            "    accuracy                           0.66      5706\n",
            "   macro avg       0.33      0.50      0.40      5706\n",
            "weighted avg       0.43      0.66      0.52      5706\n",
            "\n",
            "F1_Micro Score: 65.615%\n",
            "F1_Macro Score: 39.619%\n",
            "\n",
            "Dummy optimization - f1_macro\n",
            "Fitting 5 folds for each of 12 candidates, totalling 60 fits\n"
          ]
        },
        {
          "name": "stderr",
          "output_type": "stream",
          "text": [
            "/usr/local/lib/python3.7/dist-packages/sklearn/model_selection/_validation.py:372: FitFailedWarning: \n",
            "50 fits failed out of a total of 60.\n",
            "The score on these train-test partitions for these parameters will be set to nan.\n",
            "If these failures are not expected, you can try to debug them by setting error_score='raise'.\n",
            "\n",
            "Below are more details about the failures:\n",
            "--------------------------------------------------------------------------------\n",
            "20 fits failed with the following error:\n",
            "Traceback (most recent call last):\n",
            "  File \"/usr/local/lib/python3.7/dist-packages/sklearn/model_selection/_validation.py\", line 681, in _fit_and_score\n",
            "    estimator.fit(X_train, y_train, **fit_params)\n",
            "  File \"/usr/local/lib/python3.7/dist-packages/imblearn/pipeline.py\", line 262, in fit\n",
            "    Xt, yt = self._fit(X, y, **fit_params_steps)\n",
            "  File \"/usr/local/lib/python3.7/dist-packages/imblearn/pipeline.py\", line 226, in _fit\n",
            "    **fit_params_steps[name],\n",
            "  File \"/usr/local/lib/python3.7/dist-packages/joblib/memory.py\", line 594, in __call__\n",
            "    return self._cached_call(args, kwargs)[0]\n",
            "  File \"/usr/local/lib/python3.7/dist-packages/joblib/memory.py\", line 537, in _cached_call\n",
            "    out, metadata = self.call(*args, **kwargs)\n",
            "  File \"/usr/local/lib/python3.7/dist-packages/joblib/memory.py\", line 779, in call\n",
            "    output = self.func(*args, **kwargs)\n",
            "  File \"/usr/local/lib/python3.7/dist-packages/imblearn/pipeline.py\", line 388, in _fit_resample_one\n",
            "    X_res, y_res = sampler.fit_resample(X, y, **fit_params)\n",
            "  File \"/usr/local/lib/python3.7/dist-packages/imblearn/base.py\", line 80, in fit_resample\n",
            "    self.sampling_strategy, y, self._sampling_type\n",
            "  File \"/usr/local/lib/python3.7/dist-packages/imblearn/utils/_validation.py\", line 535, in check_sampling_strategy\n",
            "    _sampling_strategy_float(sampling_strategy, y, sampling_type).items()\n",
            "  File \"/usr/local/lib/python3.7/dist-packages/imblearn/utils/_validation.py\", line 374, in _sampling_strategy_float\n",
            "    \"The specified ratio required to remove samples \"\n",
            "ValueError: The specified ratio required to remove samples from the minority class while trying to generate new samples. Please increase the ratio.\n",
            "\n",
            "--------------------------------------------------------------------------------\n",
            "10 fits failed with the following error:\n",
            "Traceback (most recent call last):\n",
            "  File \"/usr/local/lib/python3.7/dist-packages/sklearn/model_selection/_validation.py\", line 681, in _fit_and_score\n",
            "    estimator.fit(X_train, y_train, **fit_params)\n",
            "  File \"/usr/local/lib/python3.7/dist-packages/imblearn/pipeline.py\", line 266, in fit\n",
            "    self._final_estimator.fit(Xt, yt, **fit_params_last_step)\n",
            "  File \"/usr/local/lib/python3.7/dist-packages/sklearn/dummy.py\", line 144, in fit\n",
            "    % (self.strategy, allowed_strategies)\n",
            "ValueError: Unknown strategy type: statified, expected one of ('most_frequent', 'stratified', 'uniform', 'constant', 'prior').\n",
            "\n",
            "--------------------------------------------------------------------------------\n",
            "10 fits failed with the following error:\n",
            "Traceback (most recent call last):\n",
            "  File \"/usr/local/lib/python3.7/dist-packages/sklearn/model_selection/_validation.py\", line 681, in _fit_and_score\n",
            "    estimator.fit(X_train, y_train, **fit_params)\n",
            "  File \"/usr/local/lib/python3.7/dist-packages/imblearn/pipeline.py\", line 266, in fit\n",
            "    self._final_estimator.fit(Xt, yt, **fit_params_last_step)\n",
            "  File \"/usr/local/lib/python3.7/dist-packages/sklearn/dummy.py\", line 144, in fit\n",
            "    % (self.strategy, allowed_strategies)\n",
            "ValueError: Unknown strategy type: prioruniform, expected one of ('most_frequent', 'stratified', 'uniform', 'constant', 'prior').\n",
            "\n",
            "--------------------------------------------------------------------------------\n",
            "10 fits failed with the following error:\n",
            "Traceback (most recent call last):\n",
            "  File \"/usr/local/lib/python3.7/dist-packages/sklearn/model_selection/_validation.py\", line 681, in _fit_and_score\n",
            "    estimator.fit(X_train, y_train, **fit_params)\n",
            "  File \"/usr/local/lib/python3.7/dist-packages/imblearn/pipeline.py\", line 266, in fit\n",
            "    self._final_estimator.fit(Xt, yt, **fit_params_last_step)\n",
            "  File \"/usr/local/lib/python3.7/dist-packages/sklearn/dummy.py\", line 178, in fit\n",
            "    \"Constant target value has to be specified \"\n",
            "ValueError: Constant target value has to be specified when the constant strategy is used.\n",
            "\n",
            "  warnings.warn(some_fits_failed_message, FitFailedWarning)\n",
            "/usr/local/lib/python3.7/dist-packages/sklearn/model_selection/_search.py:972: UserWarning: One or more of the test scores are non-finite: [      nan       nan       nan       nan 0.3921103 0.3921103       nan\n",
            "       nan       nan       nan       nan       nan]\n",
            "  category=UserWarning,\n"
          ]
        },
        {
          "name": "stdout",
          "output_type": "stream",
          "text": [
            "\n",
            "Optimal parameters tuned on dev set: {'gnb__strategy': 'most_frequent', 'sampler__sampling_strategy': 0.8}\n",
            "\n",
            "Χρόνος fit=6.424012660980225, Χρόνος predict=0.0009577274322509766, Συνολικός χρόνος=6.424970388412476  seconds\n",
            "\n"
          ]
        },
        {
          "name": "stderr",
          "output_type": "stream",
          "text": [
            "/usr/local/lib/python3.7/dist-packages/sklearn/utils/deprecation.py:87: FutureWarning: Function plot_confusion_matrix is deprecated; Function `plot_confusion_matrix` is deprecated in 1.0 and will be removed in 1.2. Use one of the class methods: ConfusionMatrixDisplay.from_predictions or ConfusionMatrixDisplay.from_estimator.\n",
            "  warnings.warn(msg, category=FutureWarning)\n"
          ]
        },
        {
          "data": {
            "image/png": "[encoded data removed]",
            "text/plain": [
              "<Figure size 432x288 with 2 Axes>"
            ]
          },
          "metadata": {},
          "output_type": "display_data"
        },
        {
          "name": "stdout",
          "output_type": "stream",
          "text": [
            "              precision    recall  f1-score   support\n",
            "\n",
            "       gamma       0.66      1.00      0.79      3744\n",
            "      hadron       0.00      0.00      0.00      1962\n",
            "\n",
            "    accuracy                           0.66      5706\n",
            "   macro avg       0.33      0.50      0.40      5706\n",
            "weighted avg       0.43      0.66      0.52      5706\n",
            "\n",
            "F1_Micro Score: 65.615%\n",
            "F1_Macro Score: 39.619%\n",
            "\n"
          ]
        },
        {
          "name": "stderr",
          "output_type": "stream",
          "text": [
            "/usr/local/lib/python3.7/dist-packages/sklearn/metrics/_classification.py:1308: UndefinedMetricWarning: Precision and F-score are ill-defined and being set to 0.0 in labels with no predicted samples. Use `zero_division` parameter to control this behavior.\n",
            "  _warn_prf(average, modifier, msg_start, len(result))\n",
            "/usr/local/lib/python3.7/dist-packages/sklearn/metrics/_classification.py:1308: UndefinedMetricWarning: Precision and F-score are ill-defined and being set to 0.0 in labels with no predicted samples. Use `zero_division` parameter to control this behavior.\n",
            "  _warn_prf(average, modifier, msg_start, len(result))\n",
            "/usr/local/lib/python3.7/dist-packages/sklearn/metrics/_classification.py:1308: UndefinedMetricWarning: Precision and F-score are ill-defined and being set to 0.0 in labels with no predicted samples. Use `zero_division` parameter to control this behavior.\n",
            "  _warn_prf(average, modifier, msg_start, len(result))\n"
          ]
        }
      ]
    },
    {
      "cell_type": "code",
      "metadata": {
        "colab": {
          "base_uri": "https://localhost:8080/",
          "height": 1000
        },
        "id": "G7ESbksRqqB9",
        "outputId": "b99d4187-5871-4fd8-f1ba-8d3d3e005d20"
      },
      "source": [
        "#GNB optimization\n",
        "gnb_f1 = []\n",
        "train_time_gnb = 0\n",
        "predict_time_gnb = 0\n",
        "\n",
        "scorer=['f1_micro','f1_macro']\n",
        "for s in scorer:\n",
        "  print('GNB optimization - %s' % s)\n",
        "\n",
        "  #Pipeline\n",
        "  #αρχικοποιούμε τον εκτιμητή (ταξινομητής) και τους μετασχηματιστές χωρίς υπερ-παραμέτρους\n",
        "  ros = RandomOverSampler()\n",
        "  clf = GaussianNB() # η παράμετρος n_jobs = 1 χρησιμοποιεί όλους τους πυρήνες του υπολογιστή\n",
        "  pipe = Pipeline(steps=[('sampler', ros), ('gnb', clf)], memory = 'tmp')\n",
        "\n",
        "  #Grid Search - KNN\n",
        "  r=[0.55,0.85,1.0]\n",
        "\n",
        "\n",
        "\n",
        "  estimator = GridSearchCV(pipe, dict(sampler__sampling_strategy=r), scoring=s, cv=5, n_jobs=-1, verbose=10)\n",
        "\n",
        "  import time\n",
        "  start_time = time.time()\n",
        "  estimator.fit(x_train, y_train)\n",
        "  train_time = time.time()\n",
        "  pred = estimator.predict(x_test)\n",
        "\n",
        "  print('')\n",
        "  print('Optimal parameters tuned on dev set:',estimator.best_params_)\n",
        "  print('')\n",
        "\n",
        "  train_time_gnb = train_time - start_time\n",
        "  predict_time_gnb = time.time() - train_time\n",
        "  print(\"Χρόνος fit=%s, Χρόνος predict=%s, Συνολικός χρόνος=%s  seconds\" % (train_time_gnb,predict_time_gnb,train_time_gnb+predict_time_gnb))\n",
        "  print('')\n",
        "\n",
        "  disp = plot_confusion_matrix(estimator, x_test, y_test,\n",
        "                                display_labels=label_names,\n",
        "                                cmap=plt.cm.Blues,\n",
        "                                normalize=None, values_format='d')\n",
        "  disp.ax_.set_title('Optimal GNB Classifier Confusion Matrix')\n",
        "  plt.show()\n",
        "\n",
        "  print(classification_report(y_test, pred, target_names=label_names))\n",
        "  Oknn_f1_m = f1_score(y_test,pred,average='micro')\n",
        "  Oknn_f1_M = f1_score(y_test,pred,average='macro')\n",
        "  gnb_f1.append(Oknn_f1_m)\n",
        "  gnb_f1.append(Oknn_f1_M)\n",
        "  print('F1_Micro Score: {:.3f}%'.format(100 * Oknn_f1_m))\n",
        "  print('F1_Macro Score: {:.3f}%'.format(100 * Oknn_f1_M))\n",
        "  print(\"\")"
      ],
      "execution_count": null,
      "outputs": [
        {
          "name": "stdout",
          "output_type": "stream",
          "text": [
            "GNB optimization - f1_micro\n",
            "Fitting 5 folds for each of 3 candidates, totalling 15 fits\n"
          ]
        },
        {
          "name": "stderr",
          "output_type": "stream",
          "text": [
            "/usr/local/lib/python3.7/dist-packages/sklearn/model_selection/_validation.py:372: FitFailedWarning: \n",
            "5 fits failed out of a total of 15.\n",
            "The score on these train-test partitions for these parameters will be set to nan.\n",
            "If these failures are not expected, you can try to debug them by setting error_score='raise'.\n",
            "\n",
            "Below are more details about the failures:\n",
            "--------------------------------------------------------------------------------\n",
            "5 fits failed with the following error:\n",
            "Traceback (most recent call last):\n",
            "  File \"/usr/local/lib/python3.7/dist-packages/sklearn/model_selection/_validation.py\", line 681, in _fit_and_score\n",
            "    estimator.fit(X_train, y_train, **fit_params)\n",
            "  File \"/usr/local/lib/python3.7/dist-packages/imblearn/pipeline.py\", line 262, in fit\n",
            "    Xt, yt = self._fit(X, y, **fit_params_steps)\n",
            "  File \"/usr/local/lib/python3.7/dist-packages/imblearn/pipeline.py\", line 226, in _fit\n",
            "    **fit_params_steps[name],\n",
            "  File \"/usr/local/lib/python3.7/dist-packages/joblib/memory.py\", line 594, in __call__\n",
            "    return self._cached_call(args, kwargs)[0]\n",
            "  File \"/usr/local/lib/python3.7/dist-packages/joblib/memory.py\", line 537, in _cached_call\n",
            "    out, metadata = self.call(*args, **kwargs)\n",
            "  File \"/usr/local/lib/python3.7/dist-packages/joblib/memory.py\", line 779, in call\n",
            "    output = self.func(*args, **kwargs)\n",
            "  File \"/usr/local/lib/python3.7/dist-packages/imblearn/pipeline.py\", line 388, in _fit_resample_one\n",
            "    X_res, y_res = sampler.fit_resample(X, y, **fit_params)\n",
            "  File \"/usr/local/lib/python3.7/dist-packages/imblearn/base.py\", line 80, in fit_resample\n",
            "    self.sampling_strategy, y, self._sampling_type\n",
            "  File \"/usr/local/lib/python3.7/dist-packages/imblearn/utils/_validation.py\", line 535, in check_sampling_strategy\n",
            "    _sampling_strategy_float(sampling_strategy, y, sampling_type).items()\n",
            "  File \"/usr/local/lib/python3.7/dist-packages/imblearn/utils/_validation.py\", line 374, in _sampling_strategy_float\n",
            "    \"The specified ratio required to remove samples \"\n",
            "ValueError: The specified ratio required to remove samples from the minority class while trying to generate new samples. Please increase the ratio.\n",
            "\n",
            "  warnings.warn(some_fits_failed_message, FitFailedWarning)\n",
            "/usr/local/lib/python3.7/dist-packages/sklearn/model_selection/_search.py:972: UserWarning: One or more of the test scores are non-finite: [       nan 0.72562728 0.72427568]\n",
            "  category=UserWarning,\n"
          ]
        },
        {
          "name": "stdout",
          "output_type": "stream",
          "text": [
            "\n",
            "Optimal parameters tuned on dev set: {'sampler__sampling_strategy': 0.85}\n",
            "\n",
            "Χρόνος fit=2.7586288452148438, Χρόνος predict=0.0031900405883789062, Συνολικός χρόνος=2.7618188858032227  seconds\n",
            "\n"
          ]
        },
        {
          "name": "stderr",
          "output_type": "stream",
          "text": [
            "/usr/local/lib/python3.7/dist-packages/sklearn/utils/deprecation.py:87: FutureWarning: Function plot_confusion_matrix is deprecated; Function `plot_confusion_matrix` is deprecated in 1.0 and will be removed in 1.2. Use one of the class methods: ConfusionMatrixDisplay.from_predictions or ConfusionMatrixDisplay.from_estimator.\n",
            "  warnings.warn(msg, category=FutureWarning)\n"
          ]
        },
        {
          "data": {
            "image/png": "[encoded data removed]",
            "text/plain": [
              "<Figure size 432x288 with 2 Axes>"
            ]
          },
          "metadata": {},
          "output_type": "display_data"
        },
        {
          "name": "stdout",
          "output_type": "stream",
          "text": [
            "              precision    recall  f1-score   support\n",
            "\n",
            "       gamma       0.74      0.91      0.81      3744\n",
            "      hadron       0.68      0.38      0.49      1962\n",
            "\n",
            "    accuracy                           0.73      5706\n",
            "   macro avg       0.71      0.64      0.65      5706\n",
            "weighted avg       0.72      0.73      0.70      5706\n",
            "\n",
            "F1_Micro Score: 72.538%\n",
            "F1_Macro Score: 64.964%\n",
            "\n",
            "GNB optimization - f1_macro\n",
            "Fitting 5 folds for each of 3 candidates, totalling 15 fits\n"
          ]
        },
        {
          "name": "stderr",
          "output_type": "stream",
          "text": [
            "/usr/local/lib/python3.7/dist-packages/sklearn/model_selection/_validation.py:372: FitFailedWarning: \n",
            "5 fits failed out of a total of 15.\n",
            "The score on these train-test partitions for these parameters will be set to nan.\n",
            "If these failures are not expected, you can try to debug them by setting error_score='raise'.\n",
            "\n",
            "Below are more details about the failures:\n",
            "--------------------------------------------------------------------------------\n",
            "5 fits failed with the following error:\n",
            "Traceback (most recent call last):\n",
            "  File \"/usr/local/lib/python3.7/dist-packages/sklearn/model_selection/_validation.py\", line 681, in _fit_and_score\n",
            "    estimator.fit(X_train, y_train, **fit_params)\n",
            "  File \"/usr/local/lib/python3.7/dist-packages/imblearn/pipeline.py\", line 262, in fit\n",
            "    Xt, yt = self._fit(X, y, **fit_params_steps)\n",
            "  File \"/usr/local/lib/python3.7/dist-packages/imblearn/pipeline.py\", line 226, in _fit\n",
            "    **fit_params_steps[name],\n",
            "  File \"/usr/local/lib/python3.7/dist-packages/joblib/memory.py\", line 594, in __call__\n",
            "    return self._cached_call(args, kwargs)[0]\n",
            "  File \"/usr/local/lib/python3.7/dist-packages/joblib/memory.py\", line 537, in _cached_call\n",
            "    out, metadata = self.call(*args, **kwargs)\n",
            "  File \"/usr/local/lib/python3.7/dist-packages/joblib/memory.py\", line 779, in call\n",
            "    output = self.func(*args, **kwargs)\n",
            "  File \"/usr/local/lib/python3.7/dist-packages/imblearn/pipeline.py\", line 388, in _fit_resample_one\n",
            "    X_res, y_res = sampler.fit_resample(X, y, **fit_params)\n",
            "  File \"/usr/local/lib/python3.7/dist-packages/imblearn/base.py\", line 80, in fit_resample\n",
            "    self.sampling_strategy, y, self._sampling_type\n",
            "  File \"/usr/local/lib/python3.7/dist-packages/imblearn/utils/_validation.py\", line 535, in check_sampling_strategy\n",
            "    _sampling_strategy_float(sampling_strategy, y, sampling_type).items()\n",
            "  File \"/usr/local/lib/python3.7/dist-packages/imblearn/utils/_validation.py\", line 374, in _sampling_strategy_float\n",
            "    \"The specified ratio required to remove samples \"\n",
            "ValueError: The specified ratio required to remove samples from the minority class while trying to generate new samples. Please increase the ratio.\n",
            "\n",
            "  warnings.warn(some_fits_failed_message, FitFailedWarning)\n",
            "/usr/local/lib/python3.7/dist-packages/sklearn/model_selection/_search.py:972: UserWarning: One or more of the test scores are non-finite: [       nan 0.65902389 0.65989201]\n",
            "  category=UserWarning,\n"
          ]
        },
        {
          "name": "stdout",
          "output_type": "stream",
          "text": [
            "\n",
            "Optimal parameters tuned on dev set: {'sampler__sampling_strategy': 1.0}\n",
            "\n",
            "Χρόνος fit=1.5387754440307617, Χρόνος predict=0.001958131790161133, Συνολικός χρόνος=1.5407335758209229  seconds\n",
            "\n"
          ]
        },
        {
          "name": "stderr",
          "output_type": "stream",
          "text": [
            "/usr/local/lib/python3.7/dist-packages/sklearn/utils/deprecation.py:87: FutureWarning: Function plot_confusion_matrix is deprecated; Function `plot_confusion_matrix` is deprecated in 1.0 and will be removed in 1.2. Use one of the class methods: ConfusionMatrixDisplay.from_predictions or ConfusionMatrixDisplay.from_estimator.\n",
            "  warnings.warn(msg, category=FutureWarning)\n"
          ]
        },
        {
          "data": {
            "image/png": "[encoded data removed]",
            "text/plain": [
              "<Figure size 432x288 with 2 Axes>"
            ]
          },
          "metadata": {},
          "output_type": "display_data"
        },
        {
          "name": "stdout",
          "output_type": "stream",
          "text": [
            "              precision    recall  f1-score   support\n",
            "\n",
            "       gamma       0.74      0.90      0.81      3744\n",
            "      hadron       0.68      0.39      0.50      1962\n",
            "\n",
            "    accuracy                           0.73      5706\n",
            "   macro avg       0.71      0.65      0.66      5706\n",
            "weighted avg       0.72      0.73      0.70      5706\n",
            "\n",
            "F1_Micro Score: 72.766%\n",
            "F1_Macro Score: 65.574%\n",
            "\n"
          ]
        }
      ]
    },
    {
      "cell_type": "code",
      "metadata": {
        "colab": {
          "base_uri": "https://localhost:8080/",
          "height": 1000
        },
        "id": "28JDTWhUqxsD",
        "outputId": "316c72d6-24b0-47c2-c574-aac16646ef46"
      },
      "source": [
        "#KNN optimization\n",
        "knn_f1 = []\n",
        "train_time_knn = 0\n",
        "predict_time_knn = 0\n",
        "\n",
        "scorer=['f1_micro','f1_macro']\n",
        "for s in scorer:\n",
        "  print('KNN optimization - %s' % s)\n",
        "\n",
        "  #Pipeline\n",
        "  # αρχικοποιούμε τον εκτιμητή (ταξινομητής) και τους μετασχηματιστές χωρίς υπερ-παραμέτρους\n",
        "  scaler = StandardScaler()\n",
        "  ros = RandomOverSampler()\n",
        "  clf = KNeighborsClassifier(n_jobs=-1) # η παράμετρος n_jobs = 1 χρησιμοποιεί όλους τους πυρήνες του υπολογιστή\n",
        "  pipe = Pipeline(steps=[('scaler', scaler), ('sampler', ros), ('kNN', clf)], memory = 'tmp')\n",
        "\n",
        "  #Grid Search - KNN\n",
        "  r=[0.55,0.8]\n",
        "\n",
        "  # k = [1, 6, 11, 21, 31, 41] # η υπερπαράμετρος του ταξινομητή\n",
        "  k = [1, 6, 11, 21, 31, 41] # η υπερπαράμετρος του ταξινομητή\n",
        "\n",
        "\n",
        "  w=['uniform', 'distance']\n",
        "  metrics=['euclidean','minkowski','mahalanobis']\n",
        "\n",
        "  estimator = GridSearchCV(pipe, dict(sampler__sampling_strategy=r,kNN__metric=metrics,kNN__weights=w,kNN__n_neighbors=k), scoring=s, cv=5, n_jobs=-1, verbose=10)\n",
        "\n",
        "  import time\n",
        "  start_time = time.time()\n",
        "  estimator.fit(x_train, y_train)\n",
        "  train_time = time.time()\n",
        "  pred = estimator.predict(x_test)\n",
        "\n",
        "  print('')\n",
        "  print('Optimal parameters tuned on dev set:',estimator.best_params_)\n",
        "  print('')\n",
        "\n",
        "  train_time_knn = train_time - start_time\n",
        "  predict_time_knn = time.time() - train_time\n",
        "  print(\"Χρόνος fit=%s, Χρόνος predict=%s, Συνολικός χρόνος=%s  seconds\" % (train_time_knn,predict_time_knn,train_time_knn+predict_time_knn))\n",
        "  print('')\n",
        "\n",
        "  disp = plot_confusion_matrix(estimator, x_test, y_test,\n",
        "                                display_labels=label_names,\n",
        "                                cmap=plt.cm.Blues,\n",
        "                                normalize=None, values_format='d')\n",
        "  disp.ax_.set_title('Optimal KNN Classifier Confusion Matrix')\n",
        "  plt.show()\n",
        "\n",
        "  print(classification_report(y_test, pred, target_names=label_names))\n",
        "  Oknn_f1_m = f1_score(y_test,pred,average='micro')\n",
        "  Oknn_f1_M = f1_score(y_test,pred,average='macro')\n",
        "  knn_f1.append(Oknn_f1_m)\n",
        "  knn_f1.append(Oknn_f1_M)\n",
        "  print('F1_Micro Score: {:.3f}%'.format(100 * Oknn_f1_m))\n",
        "  print('F1_Macro Score: {:.3f}%'.format(100 * Oknn_f1_M))\n",
        "  print(\"\")"
      ],
      "execution_count": null,
      "outputs": [
        {
          "name": "stdout",
          "output_type": "stream",
          "text": [
            "KNN optimization - f1_micro\n",
            "Fitting 5 folds for each of 72 candidates, totalling 360 fits\n"
          ]
        },
        {
          "name": "stderr",
          "output_type": "stream",
          "text": [
            "/usr/local/lib/python3.7/dist-packages/sklearn/model_selection/_validation.py:372: FitFailedWarning: \n",
            "240 fits failed out of a total of 360.\n",
            "The score on these train-test partitions for these parameters will be set to nan.\n",
            "If these failures are not expected, you can try to debug them by setting error_score='raise'.\n",
            "\n",
            "Below are more details about the failures:\n",
            "--------------------------------------------------------------------------------\n",
            "180 fits failed with the following error:\n",
            "Traceback (most recent call last):\n",
            "  File \"/usr/local/lib/python3.7/dist-packages/sklearn/model_selection/_validation.py\", line 681, in _fit_and_score\n",
            "    estimator.fit(X_train, y_train, **fit_params)\n",
            "  File \"/usr/local/lib/python3.7/dist-packages/imblearn/pipeline.py\", line 262, in fit\n",
            "    Xt, yt = self._fit(X, y, **fit_params_steps)\n",
            "  File \"/usr/local/lib/python3.7/dist-packages/imblearn/pipeline.py\", line 226, in _fit\n",
            "    **fit_params_steps[name],\n",
            "  File \"/usr/local/lib/python3.7/dist-packages/joblib/memory.py\", line 594, in __call__\n",
            "    return self._cached_call(args, kwargs)[0]\n",
            "  File \"/usr/local/lib/python3.7/dist-packages/joblib/memory.py\", line 537, in _cached_call\n",
            "    out, metadata = self.call(*args, **kwargs)\n",
            "  File \"/usr/local/lib/python3.7/dist-packages/joblib/memory.py\", line 779, in call\n",
            "    output = self.func(*args, **kwargs)\n",
            "  File \"/usr/local/lib/python3.7/dist-packages/imblearn/pipeline.py\", line 388, in _fit_resample_one\n",
            "    X_res, y_res = sampler.fit_resample(X, y, **fit_params)\n",
            "  File \"/usr/local/lib/python3.7/dist-packages/imblearn/base.py\", line 80, in fit_resample\n",
            "    self.sampling_strategy, y, self._sampling_type\n",
            "  File \"/usr/local/lib/python3.7/dist-packages/imblearn/utils/_validation.py\", line 535, in check_sampling_strategy\n",
            "    _sampling_strategy_float(sampling_strategy, y, sampling_type).items()\n",
            "  File \"/usr/local/lib/python3.7/dist-packages/imblearn/utils/_validation.py\", line 374, in _sampling_strategy_float\n",
            "    \"The specified ratio required to remove samples \"\n",
            "ValueError: The specified ratio required to remove samples from the minority class while trying to generate new samples. Please increase the ratio.\n",
            "\n",
            "--------------------------------------------------------------------------------\n",
            "60 fits failed with the following error:\n",
            "Traceback (most recent call last):\n",
            "  File \"/usr/local/lib/python3.7/dist-packages/sklearn/model_selection/_validation.py\", line 681, in _fit_and_score\n",
            "    estimator.fit(X_train, y_train, **fit_params)\n",
            "  File \"/usr/local/lib/python3.7/dist-packages/imblearn/pipeline.py\", line 266, in fit\n",
            "    self._final_estimator.fit(Xt, yt, **fit_params_last_step)\n",
            "  File \"/usr/local/lib/python3.7/dist-packages/sklearn/neighbors/_classification.py\", line 198, in fit\n",
            "    return self._fit(X, y)\n",
            "  File \"/usr/local/lib/python3.7/dist-packages/sklearn/neighbors/_base.py\", line 550, in _fit\n",
            "    **self.effective_metric_params_,\n",
            "  File \"sklearn/neighbors/_binary_tree.pxi\", line 957, in sklearn.neighbors._ball_tree.BinaryTree.__init__\n",
            "  File \"sklearn/neighbors/_dist_metrics.pyx\", line 270, in sklearn.neighbors._dist_metrics.DistanceMetric.get_metric\n",
            "  File \"sklearn/neighbors/_dist_metrics.pyx\", line 671, in sklearn.neighbors._dist_metrics.MahalanobisDistance.__init__\n",
            "ValueError: Must provide either V or VI for Mahalanobis distance\n",
            "\n",
            "  warnings.warn(some_fits_failed_message, FitFailedWarning)\n",
            "/usr/local/lib/python3.7/dist-packages/sklearn/model_selection/_search.py:972: UserWarning: One or more of the test scores are non-finite: [       nan 0.80659501        nan 0.80659501        nan 0.82755054\n",
            "        nan 0.82897759        nan 0.83476099        nan 0.8377654\n",
            "        nan 0.83596273        nan 0.84054437        nan 0.83558716\n",
            "        nan 0.84054445        nan 0.83641329        nan 0.84061961\n",
            "        nan 0.80659501        nan 0.80659501        nan 0.82755054\n",
            "        nan 0.82897759        nan 0.83476099        nan 0.8377654\n",
            "        nan 0.83596273        nan 0.84054437        nan 0.83558716\n",
            "        nan 0.84054445        nan 0.83641329        nan 0.84061961\n",
            "        nan        nan        nan        nan        nan        nan\n",
            "        nan        nan        nan        nan        nan        nan\n",
            "        nan        nan        nan        nan        nan        nan\n",
            "        nan        nan        nan        nan        nan        nan]\n",
            "  category=UserWarning,\n"
          ]
        },
        {
          "name": "stdout",
          "output_type": "stream",
          "text": [
            "\n",
            "Optimal parameters tuned on dev set: {'kNN__metric': 'euclidean', 'kNN__n_neighbors': 41, 'kNN__weights': 'distance', 'sampler__sampling_strategy': 0.8}\n",
            "\n",
            "Χρόνος fit=67.26113510131836, Χρόνος predict=0.6227359771728516, Συνολικός χρόνος=67.88387107849121  seconds\n",
            "\n"
          ]
        },
        {
          "name": "stderr",
          "output_type": "stream",
          "text": [
            "/usr/local/lib/python3.7/dist-packages/sklearn/utils/deprecation.py:87: FutureWarning: Function plot_confusion_matrix is deprecated; Function `plot_confusion_matrix` is deprecated in 1.0 and will be removed in 1.2. Use one of the class methods: ConfusionMatrixDisplay.from_predictions or ConfusionMatrixDisplay.from_estimator.\n",
            "  warnings.warn(msg, category=FutureWarning)\n"
          ]
        },
        {
          "data": {
            "image/png": "[encoded data removed]",
            "text/plain": [
              "<Figure size 432x288 with 2 Axes>"
            ]
          },
          "metadata": {},
          "output_type": "display_data"
        },
        {
          "name": "stdout",
          "output_type": "stream",
          "text": [
            "              precision    recall  f1-score   support\n",
            "\n",
            "       gamma       0.85      0.93      0.89      3744\n",
            "      hadron       0.84      0.69      0.75      1962\n",
            "\n",
            "    accuracy                           0.85      5706\n",
            "   macro avg       0.84      0.81      0.82      5706\n",
            "weighted avg       0.85      0.85      0.84      5706\n",
            "\n",
            "F1_Micro Score: 84.630%\n",
            "F1_Macro Score: 82.134%\n",
            "\n",
            "KNN optimization - f1_macro\n",
            "Fitting 5 folds for each of 72 candidates, totalling 360 fits\n"
          ]
        },
        {
          "name": "stderr",
          "output_type": "stream",
          "text": [
            "/usr/local/lib/python3.7/dist-packages/sklearn/model_selection/_validation.py:372: FitFailedWarning: \n",
            "240 fits failed out of a total of 360.\n",
            "The score on these train-test partitions for these parameters will be set to nan.\n",
            "If these failures are not expected, you can try to debug them by setting error_score='raise'.\n",
            "\n",
            "Below are more details about the failures:\n",
            "--------------------------------------------------------------------------------\n",
            "180 fits failed with the following error:\n",
            "Traceback (most recent call last):\n",
            "  File \"/usr/local/lib/python3.7/dist-packages/sklearn/model_selection/_validation.py\", line 681, in _fit_and_score\n",
            "    estimator.fit(X_train, y_train, **fit_params)\n",
            "  File \"/usr/local/lib/python3.7/dist-packages/imblearn/pipeline.py\", line 262, in fit\n",
            "    Xt, yt = self._fit(X, y, **fit_params_steps)\n",
            "  File \"/usr/local/lib/python3.7/dist-packages/imblearn/pipeline.py\", line 226, in _fit\n",
            "    **fit_params_steps[name],\n",
            "  File \"/usr/local/lib/python3.7/dist-packages/joblib/memory.py\", line 594, in __call__\n",
            "    return self._cached_call(args, kwargs)[0]\n",
            "  File \"/usr/local/lib/python3.7/dist-packages/joblib/memory.py\", line 537, in _cached_call\n",
            "    out, metadata = self.call(*args, **kwargs)\n",
            "  File \"/usr/local/lib/python3.7/dist-packages/joblib/memory.py\", line 779, in call\n",
            "    output = self.func(*args, **kwargs)\n",
            "  File \"/usr/local/lib/python3.7/dist-packages/imblearn/pipeline.py\", line 388, in _fit_resample_one\n",
            "    X_res, y_res = sampler.fit_resample(X, y, **fit_params)\n",
            "  File \"/usr/local/lib/python3.7/dist-packages/imblearn/base.py\", line 80, in fit_resample\n",
            "    self.sampling_strategy, y, self._sampling_type\n",
            "  File \"/usr/local/lib/python3.7/dist-packages/imblearn/utils/_validation.py\", line 535, in check_sampling_strategy\n",
            "    _sampling_strategy_float(sampling_strategy, y, sampling_type).items()\n",
            "  File \"/usr/local/lib/python3.7/dist-packages/imblearn/utils/_validation.py\", line 374, in _sampling_strategy_float\n",
            "    \"The specified ratio required to remove samples \"\n",
            "ValueError: The specified ratio required to remove samples from the minority class while trying to generate new samples. Please increase the ratio.\n",
            "\n",
            "--------------------------------------------------------------------------------\n",
            "60 fits failed with the following error:\n",
            "Traceback (most recent call last):\n",
            "  File \"/usr/local/lib/python3.7/dist-packages/sklearn/model_selection/_validation.py\", line 681, in _fit_and_score\n",
            "    estimator.fit(X_train, y_train, **fit_params)\n",
            "  File \"/usr/local/lib/python3.7/dist-packages/imblearn/pipeline.py\", line 266, in fit\n",
            "    self._final_estimator.fit(Xt, yt, **fit_params_last_step)\n",
            "  File \"/usr/local/lib/python3.7/dist-packages/sklearn/neighbors/_classification.py\", line 198, in fit\n",
            "    return self._fit(X, y)\n",
            "  File \"/usr/local/lib/python3.7/dist-packages/sklearn/neighbors/_base.py\", line 550, in _fit\n",
            "    **self.effective_metric_params_,\n",
            "  File \"sklearn/neighbors/_binary_tree.pxi\", line 957, in sklearn.neighbors._ball_tree.BinaryTree.__init__\n",
            "  File \"sklearn/neighbors/_dist_metrics.pyx\", line 270, in sklearn.neighbors._dist_metrics.DistanceMetric.get_metric\n",
            "  File \"sklearn/neighbors/_dist_metrics.pyx\", line 671, in sklearn.neighbors._dist_metrics.MahalanobisDistance.__init__\n",
            "ValueError: Must provide either V or VI for Mahalanobis distance\n",
            "\n",
            "  warnings.warn(some_fits_failed_message, FitFailedWarning)\n",
            "/usr/local/lib/python3.7/dist-packages/sklearn/model_selection/_search.py:972: UserWarning: One or more of the test scores are non-finite: [       nan 0.78236139        nan 0.78236139        nan 0.79973805\n",
            "        nan 0.80753411        nan 0.81256617        nan 0.81642313\n",
            "        nan 0.81252857        nan 0.81807341        nan 0.81087656\n",
            "        nan 0.81717294        nan 0.81125312        nan 0.81656845\n",
            "        nan 0.78236139        nan 0.78236139        nan 0.79973805\n",
            "        nan 0.80753411        nan 0.81256617        nan 0.81642313\n",
            "        nan 0.81252857        nan 0.81807341        nan 0.81087656\n",
            "        nan 0.81717294        nan 0.81125312        nan 0.81656845\n",
            "        nan        nan        nan        nan        nan        nan\n",
            "        nan        nan        nan        nan        nan        nan\n",
            "        nan        nan        nan        nan        nan        nan\n",
            "        nan        nan        nan        nan        nan        nan]\n",
            "  category=UserWarning,\n"
          ]
        },
        {
          "name": "stdout",
          "output_type": "stream",
          "text": [
            "\n",
            "Optimal parameters tuned on dev set: {'kNN__metric': 'euclidean', 'kNN__n_neighbors': 21, 'kNN__weights': 'distance', 'sampler__sampling_strategy': 0.8}\n",
            "\n",
            "Χρόνος fit=66.86106181144714, Χρόνος predict=0.5134515762329102, Συνολικός χρόνος=67.37451338768005  seconds\n",
            "\n"
          ]
        },
        {
          "name": "stderr",
          "output_type": "stream",
          "text": [
            "/usr/local/lib/python3.7/dist-packages/sklearn/utils/deprecation.py:87: FutureWarning: Function plot_confusion_matrix is deprecated; Function `plot_confusion_matrix` is deprecated in 1.0 and will be removed in 1.2. Use one of the class methods: ConfusionMatrixDisplay.from_predictions or ConfusionMatrixDisplay.from_estimator.\n",
            "  warnings.warn(msg, category=FutureWarning)\n"
          ]
        },
        {
          "data": {
            "image/png": "[encoded data removed]",
            "text/plain": [
              "<Figure size 432x288 with 2 Axes>"
            ]
          },
          "metadata": {},
          "output_type": "display_data"
        },
        {
          "name": "stdout",
          "output_type": "stream",
          "text": [
            "              precision    recall  f1-score   support\n",
            "\n",
            "       gamma       0.86      0.93      0.89      3744\n",
            "      hadron       0.83      0.71      0.76      1962\n",
            "\n",
            "    accuracy                           0.85      5706\n",
            "   macro avg       0.85      0.82      0.83      5706\n",
            "weighted avg       0.85      0.85      0.85      5706\n",
            "\n",
            "F1_Micro Score: 85.051%\n",
            "F1_Macro Score: 82.768%\n",
            "\n"
          ]
        }
      ]
    },
    {
      "cell_type": "markdown",
      "metadata": {
        "id": "Fp4d0amrqgsP"
      },
      "source": [
        "Παρατηρούμε όχι μονο την αύξηση όλων των μετρικών κατά 5%, αλλά και την δραματική αύξηση του recall score στην κλάση 'h'/background. Αυο οφείλεται σε πολλούς λόγους.\n",
        "\n",
        "Αρχικά το dataset είναι πιο ισσοροπημένο οπότε έχουμε μία πιο δίκαιη κατανομή στις κλάσεις των γείτόνων, άρα και πιο ακριβείς προβλέψεις. \n",
        "\n",
        "Δεύτερον με την κανονικοποίηση, ιδαίτερα ο αλγόριθμος KNN βελτιώνεται πολύ καθώς διαφορές αποστάσεων με μεγαλύτερα νούμερα παρόλο που είναι ίδιες αναλογικά με μικρότερα νούμερα έχουν περισσότερο βάρος στην πρόβλεψη χωρίς λόγο και αυτό λύνεται με την κανονικοποίηση.\n",
        "\n",
        "Τέλος προφανώς η gridsearch με την βελτίωση των ιδανικών παραμέτρων αύξησε ακόμα περισσότερο την απόδωση του ταξινομητή."
      ]
    },
    {
      "cell_type": "code",
      "metadata": {
        "colab": {
          "background_save": true,
          "base_uri": "https://localhost:8080/"
        },
        "id": "gJ1-KEuzsGq9",
        "outputId": "625c8ba5-9f06-47a6-a457-c4b21e4b7667"
      },
      "source": [
        "#MLP optimization\n",
        "train_time_mlp = 0\n",
        "predict_time_mlp = 0\n",
        "mlp_f1 = []\n",
        "scorer=['f1_micro','f1_macro']\n",
        "for s in scorer:\n",
        "  print('MLP optimization - %s' % s)\n",
        "  #Pipeline\n",
        "  # αρχικοποιούμε τον εκτιμητή (ταξινομητής) και τους μετασχηματιστές χωρίς υπερ-παραμέτρους\n",
        "  scaler = StandardScaler()\n",
        "  ros = RandomOverSampler()\n",
        "  clf = MLPClassifier() # η παράμετρος n_jobs = 1 χρησιμοποιεί όλους τους πυρήνες του υπολογιστή\n",
        "  pipe = Pipeline(steps=[('scaler', scaler), ('sampler', ros), ('mlp', clf)], memory = 'tmp')\n",
        "\n",
        "  #Grid Search - KNN\n",
        "  r=[0.55,0.8]\n",
        "\n",
        "  hidden=[(50,),(100,),(150,)]\n",
        "  activation=['relu','tanh']\n",
        "  solver=['adam','sgd']\n",
        "  iter=[50,100,150]\n",
        "  learn_rate=['constant','invscaling']\n",
        "  alpha=[0.00005,0.0001,0.0005]\n",
        "\n",
        "\n",
        "  # estimator = GridSearchCV(pipe, dict(kNN__n_neighbors=k), cv=5, scoring='f1_macro', n_jobs=-1)\n",
        "  estimator = GridSearchCV(pipe, dict(sampler__sampling_strategy=r,mlp__hidden_layer_sizes=hidden,mlp__activation=activation,mlp__solver=solver,mlp__max_iter=iter,mlp__alpha=alpha,mlp__learning_rate=learn_rate),scoring=s, cv=5, n_jobs=-1, verbose=10)\n",
        "\n",
        "  import time\n",
        "  start_time = time.time()\n",
        "  estimator.fit(x_train, y_train)\n",
        "  train_time = time.time()\n",
        "  pred = estimator.predict(x_test)\n",
        "\n",
        "  print('')\n",
        "  print('Optimal parameters tuned on dev set:',estimator.best_params_)\n",
        "  print('')\n",
        "\n",
        "  train_time_mlp = train_time - start_time\n",
        "  predict_time_mlp = time.time() - train_time\n",
        "  print(\"Χρόνος fit=%s, Χρόνος predict=%s, Συνολικός χρόνος=%s  seconds\" % (train_time_mlp,predict_time_mlp,train_time_mlp+predict_time_mlp))\n",
        "  print('')\n",
        "\n",
        "  disp = plot_confusion_matrix(estimator, x_test, y_test,\n",
        "                                display_labels=label_names,\n",
        "                                cmap=plt.cm.Blues,\n",
        "                                normalize=None, values_format='d')\n",
        "  disp.ax_.set_title('Optimal MLP Classifier Confusion Matrix')\n",
        "  plt.show()\n",
        "\n",
        "  print(classification_report(y_test, pred, target_names=label_names))\n",
        "  Omlp_f1_m = f1_score(y_test,pred,average='micro')\n",
        "  Omlp_f1_M = f1_score(y_test,pred,average='macro')\n",
        "  mlp_f1.append(Omlp_f1_m)\n",
        "  mlp_f1.append(Omlp_f1_M)\n",
        "  print('F1_Micro Score: {:.3f}%'.format(100 * Omlp_f1_m))\n",
        "  print('F1_Macro Score: {:.3f}%'.format(100 * Omlp_f1_M))\n",
        "  print(\"\")"
      ],
      "execution_count": null,
      "outputs": [
        {
          "name": "stdout",
          "output_type": "stream",
          "text": [
            "MLP optimization - f1_micro\n",
            "Fitting 5 folds for each of 432 candidates, totalling 2160 fits\n"
          ]
        },
        {
          "name": "stderr",
          "output_type": "stream",
          "text": [
            "/usr/local/lib/python3.7/dist-packages/sklearn/model_selection/_validation.py:372: FitFailedWarning: \n",
            "1080 fits failed out of a total of 2160.\n",
            "The score on these train-test partitions for these parameters will be set to nan.\n",
            "If these failures are not expected, you can try to debug them by setting error_score='raise'.\n",
            "\n",
            "Below are more details about the failures:\n",
            "--------------------------------------------------------------------------------\n",
            "1080 fits failed with the following error:\n",
            "Traceback (most recent call last):\n",
            "  File \"/usr/local/lib/python3.7/dist-packages/sklearn/model_selection/_validation.py\", line 681, in _fit_and_score\n",
            "    estimator.fit(X_train, y_train, **fit_params)\n",
            "  File \"/usr/local/lib/python3.7/dist-packages/imblearn/pipeline.py\", line 262, in fit\n",
            "    Xt, yt = self._fit(X, y, **fit_params_steps)\n",
            "  File \"/usr/local/lib/python3.7/dist-packages/imblearn/pipeline.py\", line 226, in _fit\n",
            "    **fit_params_steps[name],\n",
            "  File \"/usr/local/lib/python3.7/dist-packages/joblib/memory.py\", line 594, in __call__\n",
            "    return self._cached_call(args, kwargs)[0]\n",
            "  File \"/usr/local/lib/python3.7/dist-packages/joblib/memory.py\", line 537, in _cached_call\n",
            "    out, metadata = self.call(*args, **kwargs)\n",
            "  File \"/usr/local/lib/python3.7/dist-packages/joblib/memory.py\", line 779, in call\n",
            "    output = self.func(*args, **kwargs)\n",
            "  File \"/usr/local/lib/python3.7/dist-packages/imblearn/pipeline.py\", line 388, in _fit_resample_one\n",
            "    X_res, y_res = sampler.fit_resample(X, y, **fit_params)\n",
            "  File \"/usr/local/lib/python3.7/dist-packages/imblearn/base.py\", line 80, in fit_resample\n",
            "    self.sampling_strategy, y, self._sampling_type\n",
            "  File \"/usr/local/lib/python3.7/dist-packages/imblearn/utils/_validation.py\", line 535, in check_sampling_strategy\n",
            "    _sampling_strategy_float(sampling_strategy, y, sampling_type).items()\n",
            "  File \"/usr/local/lib/python3.7/dist-packages/imblearn/utils/_validation.py\", line 374, in _sampling_strategy_float\n",
            "    \"The specified ratio required to remove samples \"\n",
            "ValueError: The specified ratio required to remove samples from the minority class while trying to generate new samples. Please increase the ratio.\n",
            "\n",
            "  warnings.warn(some_fits_failed_message, FitFailedWarning)\n",
            "/usr/local/lib/python3.7/dist-packages/sklearn/model_selection/_search.py:972: UserWarning: One or more of the test scores are non-finite: [       nan 0.86307664        nan 0.82800175        nan 0.86382796\n",
            "        nan 0.84399937        nan 0.86698207        nan 0.84888139\n",
            "        nan 0.86067317        nan 0.59026668        nan 0.86322713\n",
            "        nan 0.6331577         nan 0.86510452        nan 0.66599331\n",
            "        nan 0.86375291        nan 0.83032945        nan 0.86465412\n",
            "        nan 0.84505101        nan 0.86908601        nan 0.85105973\n",
            "        nan 0.86194998        nan 0.7398982         nan 0.86728279\n",
            "        nan 0.72938468        nan 0.87148889        nan 0.71954352\n",
            "        nan 0.86480447        nan 0.83243256        nan 0.86608109\n",
            "        nan 0.84737921        nan 0.86645702        nan 0.85173574\n",
            "        nan 0.86517962        nan 0.73194064        nan 0.86743317\n",
            "        nan 0.70323723        nan 0.86735826        nan 0.70647982\n",
            "        nan 0.86180011        nan 0.82785093        nan 0.86683234\n",
            "        nan 0.8438495         nan 0.86705748        nan 0.85136025\n",
            "        nan 0.86397845        nan 0.66787217        nan 0.86623112\n",
            "        nan 0.58974482        nan 0.86660703        nan 0.64345376\n",
            "        nan 0.86322699        nan 0.83160637        nan 0.86878492\n",
            "        nan 0.845126          nan 0.86510486        nan 0.85211097\n",
            "        nan 0.86300154        nan 0.72690545        nan 0.8686344\n",
            "        nan 0.69032573        nan 0.87051266        nan 0.73622057\n",
            "        nan 0.8641286         nan 0.83213215        nan 0.86517993\n",
            "        nan 0.84527641        nan 0.86608145        nan 0.8527871\n",
            "        nan 0.86690722        nan 0.74162857        nan 0.86908561\n",
            "        nan 0.73223107        nan 0.86855994        nan 0.72862944\n",
            "        nan 0.86202514        nan 0.82514698        nan 0.86585603\n",
            "        nan 0.84452512        nan 0.86728316        nan 0.84955727\n",
            "        nan 0.86097392        nan 0.64879255        nan 0.86480419\n",
            "        nan 0.671023          nan 0.86735815        nan 0.54582535\n",
            "        nan 0.86127414        nan 0.8306298         nan 0.86961102\n",
            "        nan 0.84550175        nan 0.86893498        nan 0.85098462\n",
            "        nan 0.86345247        nan 0.73426805        nan 0.87051252\n",
            "        nan 0.75492063        nan 0.86548037        nan 0.70843086\n",
            "        nan 0.8664568         nan 0.83265776        nan 0.86660695\n",
            "        nan 0.8467783         nan 0.86871009        nan 0.85368837\n",
            "        nan 0.86668174        nan 0.72066971        nan 0.86863505\n",
            "        nan 0.73028295        nan 0.86916074        nan 0.75221505\n",
            "        nan 0.85751878        nan 0.79562965        nan 0.86427866\n",
            "        nan 0.81192855        nan 0.86457916        nan 0.83010442\n",
            "        nan 0.85436438        nan 0.6786051         nan 0.86480447\n",
            "        nan 0.73524186        nan 0.86502978        nan 0.73126197\n",
            "        nan 0.85811963        nan 0.79232474        nan 0.86487963\n",
            "        nan 0.80464286        nan 0.86668214        nan 0.82567338\n",
            "        nan 0.86044809        nan 0.75649873        nan 0.86645686\n",
            "        nan 0.75529691        nan 0.86345222        nan 0.747785\n",
            "        nan 0.85864549        nan 0.78999648        nan 0.86255098\n",
            "        nan 0.80051215        nan 0.86653201        nan 0.81823743\n",
            "        nan 0.85534036        nan 0.76731442        nan 0.86322662\n",
            "        nan 0.77550056        nan 0.86600632        nan 0.77797951\n",
            "        nan 0.85579134        nan 0.79480334        nan 0.86427858\n",
            "        nan 0.81080181        nan 0.86675735        nan 0.82792645\n",
            "        nan 0.85924607        nan 0.69934128        nan 0.8644289\n",
            "        nan 0.69798082        nan 0.8645042         nan 0.74087531\n",
            "        nan 0.85834528        nan 0.79119805        nan 0.86608089\n",
            "        nan 0.80366663        nan 0.86570515        nan 0.82522271\n",
            "        nan 0.85639245        nan 0.75694856        nan 0.86525495\n",
            "        nan 0.76506062        nan 0.86735807        nan 0.76498487\n",
            "        nan 0.85887058        nan 0.78954595        nan 0.86420339\n",
            "        nan 0.79931002        nan 0.86480441        nan 0.81711054\n",
            "        nan 0.85864561        nan 0.75770103        nan 0.86405321\n",
            "        nan 0.75754953        nan 0.86487926        nan 0.75882857\n",
            "        nan 0.85684271        nan 0.79285038        nan 0.86300182\n",
            "        nan 0.81305522        nan 0.86382787        nan 0.8327334\n",
            "        nan 0.85954693        nan 0.70895478        nan 0.86420331\n",
            "        nan 0.75326963        nan 0.86517999        nan 0.73035868\n",
            "        nan 0.85864552        nan 0.79127335        nan 0.86067382\n",
            "        nan 0.80254011        nan 0.86698238        nan 0.8250723\n",
            "        nan 0.85669301        nan 0.75011343        nan 0.86397794\n",
            "        nan 0.76588546        nan 0.86765831        nan 0.73441843\n",
            "        nan 0.85729324        nan 0.78962094        nan 0.86390306\n",
            "        nan 0.7978828         nan 0.86578093        nan 0.81831259\n",
            "        nan 0.85796988        nan 0.76325735        nan 0.86082383\n",
            "        nan 0.77144423        nan 0.8655555         nan 0.7680648 ]\n",
            "  category=UserWarning,\n",
            "/usr/local/lib/python3.7/dist-packages/sklearn/neural_network/_multilayer_perceptron.py:696: ConvergenceWarning: Stochastic Optimizer: Maximum iterations (150) reached and the optimization hasn't converged yet.\n",
            "  ConvergenceWarning,\n",
            "/usr/local/lib/python3.7/dist-packages/sklearn/utils/deprecation.py:87: FutureWarning: Function plot_confusion_matrix is deprecated; Function `plot_confusion_matrix` is deprecated in 1.0 and will be removed in 1.2. Use one of the class methods: ConfusionMatrixDisplay.from_predictions or ConfusionMatrixDisplay.from_estimator.\n",
            "  warnings.warn(msg, category=FutureWarning)\n"
          ]
        },
        {
          "name": "stdout",
          "output_type": "stream",
          "text": [
            "\n",
            "Optimal parameters tuned on dev set: {'mlp__activation': 'relu', 'mlp__alpha': 5e-05, 'mlp__hidden_layer_sizes': (100,), 'mlp__learning_rate': 'invscaling', 'mlp__max_iter': 150, 'mlp__solver': 'adam', 'sampler__sampling_strategy': 0.8}\n",
            "\n",
            "Χρόνος fit=5095.205340147018, Χρόνος predict=0.011315584182739258, Συνολικός χρόνος=5095.216655731201  seconds\n",
            "\n"
          ]
        },
        {
          "data": {
            "image/png": "[encoded data removed]",
            "text/plain": [
              "<Figure size 432x288 with 2 Axes>"
            ]
          },
          "metadata": {},
          "output_type": "display_data"
        },
        {
          "name": "stdout",
          "output_type": "stream",
          "text": [
            "              precision    recall  f1-score   support\n",
            "\n",
            "       gamma       0.89      0.92      0.90      3744\n",
            "      hadron       0.84      0.78      0.81      1962\n",
            "\n",
            "    accuracy                           0.87      5706\n",
            "   macro avg       0.86      0.85      0.85      5706\n",
            "weighted avg       0.87      0.87      0.87      5706\n",
            "\n",
            "F1_Micro Score: 87.136%\n",
            "F1_Macro Score: 85.498%\n",
            "\n",
            "MLP optimization - f1_macro\n",
            "Fitting 5 folds for each of 432 candidates, totalling 2160 fits\n"
          ]
        }
      ]
    },
    {
      "cell_type": "markdown",
      "metadata": {
        "id": "-ElvmUi5Jm4L"
      },
      "source": [
        "MLP optimization - f1_micro\n",
        "Fitting 10 folds for each of 432 candidates, totalling 2160 fits"
      ]
    },
    {
      "cell_type": "code",
      "metadata": {
        "id": "UnCNP38VsL1G"
      },
      "source": [
        "#SVM (non-linear kernel) optimization \n",
        "svm_f1 = []\n",
        "train_time_svm = 0\n",
        "predict_time_svm = 0\n",
        "scorer=['f1_micro','f1_macro']\n",
        "for s in scorer:\n",
        "  print('SVM (non-linear kernel) optimization - %s' % s)\n",
        "\n",
        "\n",
        "\n",
        "  #Pipeline\n",
        "  # αρχικοποιούμε τον εκτιμητή (ταξινομητής) και τους μετασχηματιστές χωρίς υπερ-παραμέτρους\n",
        "  scaler = StandardScaler()\n",
        "  ros = RandomOverSampler()\n",
        "  clf = SVC()\n",
        "  pipe = Pipeline(steps=[('scaler', scaler), ('sampler', ros), ('svm', clf)], memory = 'tmp')\n",
        "\n",
        "  #Grid Search - SVM\n",
        "  r=[0.56,0.8]\n",
        "\n",
        "  c = [0.1,1.0,10.0] # η υπερπαράμετρος του ταξινομητή\n",
        "  gamma=['scale','auto']\n",
        "  degree=[3,4,6]\n",
        "  tol=[0.001,0.1]\n",
        "\n",
        "  estimator = GridSearchCV(pipe, dict(sampler__sampling_strategy=r,svm__C=c,svm__gamma=gamma,svm__degree=degree,svm__tol=tol), scoring=s, cv=5, n_jobs=-1, verbose=10)\n",
        "\n",
        "\n",
        "  import time\n",
        "  start_time = time.time()\n",
        "  estimator.fit(x_train, y_train)\n",
        "  train_time = time.time()\n",
        "  pred = estimator.predict(x_test)\n",
        "\n",
        "  print('')\n",
        "  print('Optimal parameters tuned on dev set:',estimator.best_params_)\n",
        "  print('')\n",
        "\n",
        "  train_time_svm = train_time - start_time\n",
        "  predict_time_svm = time.time() - train_time\n",
        "  print(\"Χρόνος fit=%s, Χρόνος predict=%s, Συνολικός χρόνος=%s  seconds\" % (train_time_svm,predict_time_svm,train_time_svm+predict_time_svm))\n",
        "  print('')\n",
        "\n",
        "  disp = plot_confusion_matrix(estimator, x_test, y_test,\n",
        "                                display_labels=label_names,\n",
        "                                cmap=plt.cm.Blues,\n",
        "                                normalize=None, values_format='d')\n",
        "  disp.ax_.set_title('Optimal non-linear SVM Classifier Confusion Matrix')\n",
        "  plt.show()\n",
        "\n",
        "  print(classification_report(y_test, pred, target_names=label_names))\n",
        "  Osvm_f1_m = f1_score(y_test,pred,average='micro')\n",
        "  Osvm_f1_M = f1_score(y_test,pred,average='macro')\n",
        "  svm_f1.append(Osvm_f1_m)\n",
        "  svm_f1.append(Osvm_f1_M)\n",
        "  print('F1_Micro Score: {:.3f}%'.format(100 * Osvm_f1_m))\n",
        "  print('F1_Macro Score: {:.3f}%'.format(100 * Osvm_f1_M))\n",
        "  print(\"\")"
      ],
      "execution_count": null,
      "outputs": []
    },
    {
      "cell_type": "code",
      "metadata": {
        "id": "r8ErtGJisQjz"
      },
      "source": [
        "#SVM (linear kernel) optimization \n",
        "lsvm_f1=[]\n",
        "train_time_lsvm = 0\n",
        "predict_time_lsvm = 0\n",
        "scorer=['f1_micro','f1_macro']\n",
        "for s in scorer:\n",
        "  print('SVM (non-linear kernel) optimization - %s' % s)\n",
        "\n",
        "\n",
        "\n",
        "  #Pipeline\n",
        "  # αρχικοποιούμε τον εκτιμητή (ταξινομητής) και τους μετασχηματιστές χωρίς υπερ-παραμέτρους\n",
        "  scaler = StandardScaler()\n",
        "  ros = RandomOverSampler()\n",
        "  clf = LinearSVC()\n",
        "  pipe = Pipeline(steps=[('scaler', scaler), ('sampler', ros), ('svm', clf)], memory = 'tmp')\n",
        "\n",
        "  #Grid Search - SVM\n",
        "  r=[0.55,0.75,0.95]\n",
        "\n",
        "  c = [0.1,1.0,10.0] # η υπερπαράμετρος του ταξινομητή\n",
        "  loss=['hinge','squared_hinge']\n",
        "  tol=[0.001,0.1]\n",
        "\n",
        "\n",
        "  w=['uniform', 'distance']\n",
        "  metrics=['euclidean','minkowski','mahalanobis']\n",
        "\n",
        "  estimator = GridSearchCV(pipe, dict(sampler__sampling_strategy=r,svm__C=c,svm__loss=loss,svm__tol=tol), scoring=s, cv=5, n_jobs=-1, verbose=10)\n",
        "\n",
        "\n",
        "  import time\n",
        "  start_time = time.time()\n",
        "  estimator.fit(x_train, y_train)\n",
        "  train_time = time.time()\n",
        "  pred = estimator.predict(x_test)\n",
        "\n",
        "  print('')\n",
        "  print('Optimal parameters tuned on dev set:',estimator.best_params_)\n",
        "  print('')\n",
        "\n",
        "  train_time_lsvm = train_time - start_time\n",
        "  predict_time_lsvm = time.time() - train_time\n",
        "  print(\"Χρόνος fit=%s, Χρόνος predict=%s, Συνολικός χρόνος=%s  seconds\" % (train_time_svm,predict_time_svm,train_time_svm+predict_time_svm))\n",
        "  print('')\n",
        "\n",
        "  disp = plot_confusion_matrix(estimator, x_test, y_test,\n",
        "                                display_labels=label_names,\n",
        "                                cmap=plt.cm.Blues,\n",
        "                                normalize=None, values_format='d')\n",
        "  disp.ax_.set_title('Optimal non-linear SVM Classifier Confusion Matrix')\n",
        "  plt.show()\n",
        "\n",
        "  print(classification_report(y_test, pred, target_names=label_names))\n",
        "  OLsvm_f1_m = f1_score(y_test,pred,average='micro')\n",
        "  OLsvm_f1_M = f1_score(y_test,pred,average='macro')\n",
        "  lsvm_f1.append(OLsvm_f1_m)\n",
        "  lsvm_f1.append(OLsvm_f1_M)\n",
        "  print('F1_Micro Score: {:.3f}%'.format(100 * OLsvm_f1_m))\n",
        "  print('F1_Macro Score: {:.3f}%'.format(100 * OLsvm_f1_M))\n",
        "  print(\"\")"
      ],
      "execution_count": null,
      "outputs": []
    },
    {
      "cell_type": "markdown",
      "metadata": {
        "id": "foDSNntcq59z"
      },
      "source": [
        "Σημείωση: Δεν εφαρμώσαμε μετασχηματιστή κανονικοποίησης στον GNB καθώς εσωτερικά ο εκτιμητής κάνει ούτως η άλλως κανονικοποίηση, επομένως δεν θα κερδίζαμε τίποτα, ίσα ίσα μπορεί να έπεφτε η απόδοση."
      ]
    },
    {
      "cell_type": "code",
      "metadata": {
        "id": "OXtfXDVAsUq0"
      },
      "source": [
        "#Time chart\n",
        "from google.colab import data_table\n",
        "\n",
        "\n",
        "heading = ['Classifier','Train time','Test time']\n",
        "dc = ['Dummy',train_time_dc,predict_time_dc]\n",
        "gnb = ['GNB',train_time_gnb,predict_time_gnb]\n",
        "knn = ['KNN',train_time_knn,predict_time_knn]\n",
        "mlp = ['MLP',train_time_mlp,predict_time_mlp]\n",
        "svm = ['SVM',train_time_svm,predict_time_svm]\n",
        "lsvm = ['LSVM',train_time_lsvm,predict_time_lsvm]\n",
        "\n",
        "table = [heading,dc,gnb,knn,mlp,svm,lsvm]\n",
        "table = np.array(table)\n",
        "\n",
        "df = pd.DataFrame(table)\n",
        "\n",
        "data_table.DataTable(df,include_index=False)"
      ],
      "execution_count": null,
      "outputs": []
    },
    {
      "cell_type": "code",
      "metadata": {
        "id": "8bNDy-7Ysbkw"
      },
      "source": [
        "#F1_micro comparison chart\n",
        "\n",
        "labels = ['Dummy','Naive Gauss','KNN','SVM','MLP']\n",
        "values = np.array([dc_f1_m,gauss_f1_m,knn_f1_m,svm_f1_m,mlp_f1_m])\n",
        "\n",
        "print(dc_f1[0])\n",
        "\n",
        "values_opt = np.array([dc_f1[0],gnb_f1[0],knn_f1[0],svm_f1[0],mlp_f1[0]])\n",
        "  \n",
        "\n",
        "f1_macros=[]\n",
        "\n",
        "\n",
        "x = np.arange(len(labels))\n",
        "width = 0.25\n",
        "\n",
        "fig, ax = plt.subplots(figsize=(10, 10))\n",
        "rects1 = ax.bar(x - width/2, values, width, label='f1_micros')\n",
        "rects2 = ax.bar(x + width/2, values_opt, width, label='f1_micros after optimization')\n",
        "\n",
        "ax.set_ylabel('Scores')\n",
        "ax.set_title('Performance Comparison on F1-Micro score before vs after optimization')\n",
        "ax.set_xticks(x)\n",
        "ax.set_xticklabels(labels)\n",
        "ax.legend()\n",
        "\n",
        "fig.tight_layout()\n",
        "plt.show()\n",
        "\n",
        "inc = [labels[i]+'=='+str(\"{:.2f}\".format(((values_opt[i]-values[i])/values[i])*100))+'%' for i in range(len(values))]\n",
        "print(inc)"
      ],
      "execution_count": null,
      "outputs": []
    },
    {
      "cell_type": "code",
      "metadata": {
        "id": "Qaud2S8Nsf6q"
      },
      "source": [
        "#F1_macro comparison chart\n",
        "\n",
        "labels = ['Dummy','Naive Gauss','KNN','SVM','MLP']\n",
        "values = np.array([dc_f1_M,gauss_f1_M,knn_f1_M,svm_f1_M,mlp_f1_M])\n",
        "values_opt = np.array([dc_f1[3],gnb_f1[3],knn_f1[3],svm_f1[3],mlp_f1[3]])\n",
        "\n",
        "\n",
        "\n",
        "x = np.arange(len(labels))\n",
        "width = 0.25\n",
        "\n",
        "fig, ax = plt.subplots(figsize=(10, 10))\n",
        "rects1 = ax.bar(x - width/2, values, width, label='f1_macros')\n",
        "rects2 = ax.bar(x + width/2, values_opt, width, label='f1_macros after optimization')\n",
        "\n",
        "ax.set_ylabel('Scores')\n",
        "ax.set_title('Performance Comparison on F1-Macro score before vs after optimization')\n",
        "ax.set_xticks(x)\n",
        "ax.set_xticklabels(labels)\n",
        "ax.legend()\n",
        "\n",
        "fig.tight_layout()\n",
        "plt.show()\n",
        "\n",
        "inc = [labels[i]+'=='+str(\"{:.2f}\".format(((values_opt[i]-values[i])/values[i])*100))+'%' for i in range(len(values))]\n",
        "print(inc)"
      ],
      "execution_count": null,
      "outputs": []
    },
    {
      "cell_type": "markdown",
      "metadata": {
        "id": "AZVyl-o4rHxf"
      },
      "source": [
        "# Συμπερασματα\n"
      ]
    },
    {
      "cell_type": "markdown",
      "metadata": {
        "id": "1oJI3ij9rGRG"
      },
      "source": [
        "*Σημείωση: Λόγω λάθος καταγραψαμε τα optimal parameters για τον MLP αλλά όχι τα αποτελέσματα του. Επομένως για την αποφυγή επιπλέον καθυστέρησης. Ξανατρέξαμε gridsearch μόνο με τις optimal παραμέτρους για την εύρεση και των αποτελεσμάτων, εξού και τα λίγα iterations.*\n",
        "\n",
        "Παρατηρούμε όχι μονο την αύξηση όλων των μετρικών κατά 5%, αλλά και την σημαντική αύξηση του recall score στην κλάση 'h'/background στους περισσότερους εκτιμητές. Αυο οφείλεται σε πολλούς λόγους.\n",
        "\n",
        "Αρχικά το dataset είναι πιο ισσοροπημένο οπότε έχουμε μία πιο δίκαιη κατανομή στις κλάσεις των γείτόνων, άρα και πιο ακριβείς προβλέψεις, όσον αφορα τον KNN\n",
        "\n",
        "Δεύτερον με την κανονικοποίηση, ιδαίτερα ο αλγόριθμος KNN βελτιώνεται πολύ καθώς διαφορές αποστάσεων με μεγαλύτερα νούμερα παρόλο που είναι ίδιες αναλογικά με μικρότερα νούμερα έχουν περισσότερο βάρος στην πρόβλεψη χωρίς λόγο και αυτό λύνεται με την κανονικοποίηση.\n",
        "\n",
        "Τέλος προφανώς η gridsearch με την βελτίωση των ιδανικών παραμέτρων αύξησε ακόμα περισσότερο την απόδωση του ταξινομητή.\n",
        "\n",
        "Γενικότερα βλέπουμε πως το oversampling βοηθάει σχεδόν κυρίως την μετρική f1_macro.\n",
        "Αυτό είναι λογικό καθώς το f1_macro είναι πιο ευαίσθητο σε αστάθειες κλάσεων.\n",
        "\n",
        "Αν μας νοίαζει απόλυτα η ακρίβεια του μοντέλου και όχι ο χρόνος εκπαίδεύσης θα διαλέξουμε σαν ιδανικό ταξινομητή τον MLP  οποίος όμως χρειάζεται αρκετό χρόνο για να εκπαιδευτεί. Φυσικά με προσθήκη περισσότερων θα μποροούσαμε να πετύχουμε ακόμα καλύτερη ακρίβεια, αλλά στα πλαίσια του περιορισμένου χρόνου της συγκεκριμένης άσκησης δεν το προσπαθήσαμε.\n",
        "\n",
        "Στην αντίθετη περίπτωση που χρειαζόμαστε πιο σύντομο χρόνο εκπαίδευσης με ελάχιστα λιγότερη ακρίβεια διαλέγουμε τους KNN/SVM. Παρόλα αυτά στους συγκεκριμένους αλγόριθμους δύσκολα θα επτύχουμε ακόμα καλύτερη ακρίβεια.\n",
        "\n"
      ]
    }
  ]
}
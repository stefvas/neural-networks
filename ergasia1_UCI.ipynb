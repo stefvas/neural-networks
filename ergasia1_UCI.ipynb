{
  "nbformat": 4,
  "nbformat_minor": 0,
  "metadata": {
    "colab": {
      "name": "ergasia1_UCI.ipynb",
      "provenance": [],
      "collapsed_sections": [],
      "authorship_tag": "ABX9TyO/xn3R4N0LDE8REdJSBoTf",
      "include_colab_link": true
    },
    "kernelspec": {
      "name": "python3",
      "display_name": "Python 3"
    },
    "language_info": {
      "name": "python"
    }
  },
  "cells": [
    {
      "cell_type": "markdown",
      "metadata": {
        "id": "view-in-github",
        "colab_type": "text"
      },
      "source": [
        "<a href=\"https://colab.research.google.com/github/stefvas/neural-networks/blob/main/ergasia1_UCI.ipynb\" target=\"_parent\"><img src=\"https://colab.research.google.com/assets/colab-badge.svg\" alt=\"Open In Colab\"/></a>"
      ]
    },
    {
      "cell_type": "markdown",
      "metadata": {
        "id": "1aZnA5PxSlDn"
      },
      "source": [
        "Το dataset περιλαμβάνει data που συγκέντρωσε το MAGIC Telescope. Συγκεκριμένα, το τηλεσκόπιο τράβηξε δεκάδες χιλιάδες φωτογραφίες από electromagnetic showers στην ατμόσφαιρα. Αναλύοντας τις 10 παραμέτρους των shower images που προκύπτουν από το τηλεσκόπιο, κατηγοριοποιούμε τα showers σε εκείνα που προκλήθηκαν από gamma rays (g) και σε hadronic showers (h), δηλαδή σε εκείνα που προκλήθηκαν από τις κοσμικές ακτίνες της ατμόσφαιρας"
      ]
    },
    {
      "cell_type": "code",
      "metadata": {
        "id": "wmVhd1OBNDjZ",
        "colab": {
          "base_uri": "https://localhost:8080/",
          "height": 419
        },
        "outputId": "feac238f-3e3d-4c46-ce4a-4c1730b3b719"
      },
      "source": [
        "import pandas as pd\n",
        "df = pd.read_csv(\"magic04.data\", header=None)\n",
        "df"
      ],
      "execution_count": 3,
      "outputs": [
        {
          "output_type": "execute_result",
          "data": {
            "text/html": [
              "<div>\n",
              "<style scoped>\n",
              "    .dataframe tbody tr th:only-of-type {\n",
              "        vertical-align: middle;\n",
              "    }\n",
              "\n",
              "    .dataframe tbody tr th {\n",
              "        vertical-align: top;\n",
              "    }\n",
              "\n",
              "    .dataframe thead th {\n",
              "        text-align: right;\n",
              "    }\n",
              "</style>\n",
              "<table border=\"1\" class=\"dataframe\">\n",
              "  <thead>\n",
              "    <tr style=\"text-align: right;\">\n",
              "      <th></th>\n",
              "      <th>0</th>\n",
              "      <th>1</th>\n",
              "      <th>2</th>\n",
              "      <th>3</th>\n",
              "      <th>4</th>\n",
              "      <th>5</th>\n",
              "      <th>6</th>\n",
              "      <th>7</th>\n",
              "      <th>8</th>\n",
              "      <th>9</th>\n",
              "      <th>10</th>\n",
              "    </tr>\n",
              "  </thead>\n",
              "  <tbody>\n",
              "    <tr>\n",
              "      <th>0</th>\n",
              "      <td>28.7967</td>\n",
              "      <td>16.0021</td>\n",
              "      <td>2.6449</td>\n",
              "      <td>0.3918</td>\n",
              "      <td>0.1982</td>\n",
              "      <td>27.7004</td>\n",
              "      <td>22.0110</td>\n",
              "      <td>-8.2027</td>\n",
              "      <td>40.0920</td>\n",
              "      <td>81.8828</td>\n",
              "      <td>g</td>\n",
              "    </tr>\n",
              "    <tr>\n",
              "      <th>1</th>\n",
              "      <td>31.6036</td>\n",
              "      <td>11.7235</td>\n",
              "      <td>2.5185</td>\n",
              "      <td>0.5303</td>\n",
              "      <td>0.3773</td>\n",
              "      <td>26.2722</td>\n",
              "      <td>23.8238</td>\n",
              "      <td>-9.9574</td>\n",
              "      <td>6.3609</td>\n",
              "      <td>205.2610</td>\n",
              "      <td>g</td>\n",
              "    </tr>\n",
              "    <tr>\n",
              "      <th>2</th>\n",
              "      <td>162.0520</td>\n",
              "      <td>136.0310</td>\n",
              "      <td>4.0612</td>\n",
              "      <td>0.0374</td>\n",
              "      <td>0.0187</td>\n",
              "      <td>116.7410</td>\n",
              "      <td>-64.8580</td>\n",
              "      <td>-45.2160</td>\n",
              "      <td>76.9600</td>\n",
              "      <td>256.7880</td>\n",
              "      <td>g</td>\n",
              "    </tr>\n",
              "    <tr>\n",
              "      <th>3</th>\n",
              "      <td>23.8172</td>\n",
              "      <td>9.5728</td>\n",
              "      <td>2.3385</td>\n",
              "      <td>0.6147</td>\n",
              "      <td>0.3922</td>\n",
              "      <td>27.2107</td>\n",
              "      <td>-6.4633</td>\n",
              "      <td>-7.1513</td>\n",
              "      <td>10.4490</td>\n",
              "      <td>116.7370</td>\n",
              "      <td>g</td>\n",
              "    </tr>\n",
              "    <tr>\n",
              "      <th>4</th>\n",
              "      <td>75.1362</td>\n",
              "      <td>30.9205</td>\n",
              "      <td>3.1611</td>\n",
              "      <td>0.3168</td>\n",
              "      <td>0.1832</td>\n",
              "      <td>-5.5277</td>\n",
              "      <td>28.5525</td>\n",
              "      <td>21.8393</td>\n",
              "      <td>4.6480</td>\n",
              "      <td>356.4620</td>\n",
              "      <td>g</td>\n",
              "    </tr>\n",
              "    <tr>\n",
              "      <th>...</th>\n",
              "      <td>...</td>\n",
              "      <td>...</td>\n",
              "      <td>...</td>\n",
              "      <td>...</td>\n",
              "      <td>...</td>\n",
              "      <td>...</td>\n",
              "      <td>...</td>\n",
              "      <td>...</td>\n",
              "      <td>...</td>\n",
              "      <td>...</td>\n",
              "      <td>...</td>\n",
              "    </tr>\n",
              "    <tr>\n",
              "      <th>19015</th>\n",
              "      <td>21.3846</td>\n",
              "      <td>10.9170</td>\n",
              "      <td>2.6161</td>\n",
              "      <td>0.5857</td>\n",
              "      <td>0.3934</td>\n",
              "      <td>15.2618</td>\n",
              "      <td>11.5245</td>\n",
              "      <td>2.8766</td>\n",
              "      <td>2.4229</td>\n",
              "      <td>106.8258</td>\n",
              "      <td>h</td>\n",
              "    </tr>\n",
              "    <tr>\n",
              "      <th>19016</th>\n",
              "      <td>28.9452</td>\n",
              "      <td>6.7020</td>\n",
              "      <td>2.2672</td>\n",
              "      <td>0.5351</td>\n",
              "      <td>0.2784</td>\n",
              "      <td>37.0816</td>\n",
              "      <td>13.1853</td>\n",
              "      <td>-2.9632</td>\n",
              "      <td>86.7975</td>\n",
              "      <td>247.4560</td>\n",
              "      <td>h</td>\n",
              "    </tr>\n",
              "    <tr>\n",
              "      <th>19017</th>\n",
              "      <td>75.4455</td>\n",
              "      <td>47.5305</td>\n",
              "      <td>3.4483</td>\n",
              "      <td>0.1417</td>\n",
              "      <td>0.0549</td>\n",
              "      <td>-9.3561</td>\n",
              "      <td>41.0562</td>\n",
              "      <td>-9.4662</td>\n",
              "      <td>30.2987</td>\n",
              "      <td>256.5166</td>\n",
              "      <td>h</td>\n",
              "    </tr>\n",
              "    <tr>\n",
              "      <th>19018</th>\n",
              "      <td>120.5135</td>\n",
              "      <td>76.9018</td>\n",
              "      <td>3.9939</td>\n",
              "      <td>0.0944</td>\n",
              "      <td>0.0683</td>\n",
              "      <td>5.8043</td>\n",
              "      <td>-93.5224</td>\n",
              "      <td>-63.8389</td>\n",
              "      <td>84.6874</td>\n",
              "      <td>408.3166</td>\n",
              "      <td>h</td>\n",
              "    </tr>\n",
              "    <tr>\n",
              "      <th>19019</th>\n",
              "      <td>187.1814</td>\n",
              "      <td>53.0014</td>\n",
              "      <td>3.2093</td>\n",
              "      <td>0.2876</td>\n",
              "      <td>0.1539</td>\n",
              "      <td>-167.3125</td>\n",
              "      <td>-168.4558</td>\n",
              "      <td>31.4755</td>\n",
              "      <td>52.7310</td>\n",
              "      <td>272.3174</td>\n",
              "      <td>h</td>\n",
              "    </tr>\n",
              "  </tbody>\n",
              "</table>\n",
              "<p>19020 rows × 11 columns</p>\n",
              "</div>"
            ],
            "text/plain": [
              "             0         1       2       3   ...       7        8         9   10\n",
              "0       28.7967   16.0021  2.6449  0.3918  ...  -8.2027  40.0920   81.8828   g\n",
              "1       31.6036   11.7235  2.5185  0.5303  ...  -9.9574   6.3609  205.2610   g\n",
              "2      162.0520  136.0310  4.0612  0.0374  ... -45.2160  76.9600  256.7880   g\n",
              "3       23.8172    9.5728  2.3385  0.6147  ...  -7.1513  10.4490  116.7370   g\n",
              "4       75.1362   30.9205  3.1611  0.3168  ...  21.8393   4.6480  356.4620   g\n",
              "...         ...       ...     ...     ...  ...      ...      ...       ...  ..\n",
              "19015   21.3846   10.9170  2.6161  0.5857  ...   2.8766   2.4229  106.8258   h\n",
              "19016   28.9452    6.7020  2.2672  0.5351  ...  -2.9632  86.7975  247.4560   h\n",
              "19017   75.4455   47.5305  3.4483  0.1417  ...  -9.4662  30.2987  256.5166   h\n",
              "19018  120.5135   76.9018  3.9939  0.0944  ... -63.8389  84.6874  408.3166   h\n",
              "19019  187.1814   53.0014  3.2093  0.2876  ...  31.4755  52.7310  272.3174   h\n",
              "\n",
              "[19020 rows x 11 columns]"
            ]
          },
          "metadata": {},
          "execution_count": 3
        }
      ]
    },
    {
      "cell_type": "markdown",
      "metadata": {
        "id": "cdgIkuPsYn-M"
      },
      "source": [
        "Δεν κάναμε κάποια μετατροπή στο dataset πρωτού το ανεβάσαμε. Επίσης διαβάσαμε στην περιγραφή ότι δεν περιλαμβάνει κενές τιμές."
      ]
    },
    {
      "cell_type": "markdown",
      "metadata": {
        "id": "3mnjSxLB9uor"
      },
      "source": [
        "Eπαλήθευση:"
      ]
    },
    {
      "cell_type": "code",
      "metadata": {
        "colab": {
          "base_uri": "https://localhost:8080/"
        },
        "id": "_ll8T31q9DBw",
        "outputId": "6f82e7e7-59be-4af5-8bf4-dc4546afdfe0"
      },
      "source": [
        "df.isnull().values.any()"
      ],
      "execution_count": 4,
      "outputs": [
        {
          "output_type": "execute_result",
          "data": {
            "text/plain": [
              "False"
            ]
          },
          "metadata": {},
          "execution_count": 4
        }
      ]
    },
    {
      "cell_type": "code",
      "metadata": {
        "colab": {
          "base_uri": "https://localhost:8080/",
          "height": 419
        },
        "id": "nnvsx55skxiM",
        "outputId": "0c2ab449-b875-4254-d383-820d04f5837a"
      },
      "source": [
        "df"
      ],
      "execution_count": 5,
      "outputs": [
        {
          "output_type": "execute_result",
          "data": {
            "text/html": [
              "<div>\n",
              "<style scoped>\n",
              "    .dataframe tbody tr th:only-of-type {\n",
              "        vertical-align: middle;\n",
              "    }\n",
              "\n",
              "    .dataframe tbody tr th {\n",
              "        vertical-align: top;\n",
              "    }\n",
              "\n",
              "    .dataframe thead th {\n",
              "        text-align: right;\n",
              "    }\n",
              "</style>\n",
              "<table border=\"1\" class=\"dataframe\">\n",
              "  <thead>\n",
              "    <tr style=\"text-align: right;\">\n",
              "      <th></th>\n",
              "      <th>0</th>\n",
              "      <th>1</th>\n",
              "      <th>2</th>\n",
              "      <th>3</th>\n",
              "      <th>4</th>\n",
              "      <th>5</th>\n",
              "      <th>6</th>\n",
              "      <th>7</th>\n",
              "      <th>8</th>\n",
              "      <th>9</th>\n",
              "      <th>10</th>\n",
              "    </tr>\n",
              "  </thead>\n",
              "  <tbody>\n",
              "    <tr>\n",
              "      <th>0</th>\n",
              "      <td>28.7967</td>\n",
              "      <td>16.0021</td>\n",
              "      <td>2.6449</td>\n",
              "      <td>0.3918</td>\n",
              "      <td>0.1982</td>\n",
              "      <td>27.7004</td>\n",
              "      <td>22.0110</td>\n",
              "      <td>-8.2027</td>\n",
              "      <td>40.0920</td>\n",
              "      <td>81.8828</td>\n",
              "      <td>g</td>\n",
              "    </tr>\n",
              "    <tr>\n",
              "      <th>1</th>\n",
              "      <td>31.6036</td>\n",
              "      <td>11.7235</td>\n",
              "      <td>2.5185</td>\n",
              "      <td>0.5303</td>\n",
              "      <td>0.3773</td>\n",
              "      <td>26.2722</td>\n",
              "      <td>23.8238</td>\n",
              "      <td>-9.9574</td>\n",
              "      <td>6.3609</td>\n",
              "      <td>205.2610</td>\n",
              "      <td>g</td>\n",
              "    </tr>\n",
              "    <tr>\n",
              "      <th>2</th>\n",
              "      <td>162.0520</td>\n",
              "      <td>136.0310</td>\n",
              "      <td>4.0612</td>\n",
              "      <td>0.0374</td>\n",
              "      <td>0.0187</td>\n",
              "      <td>116.7410</td>\n",
              "      <td>-64.8580</td>\n",
              "      <td>-45.2160</td>\n",
              "      <td>76.9600</td>\n",
              "      <td>256.7880</td>\n",
              "      <td>g</td>\n",
              "    </tr>\n",
              "    <tr>\n",
              "      <th>3</th>\n",
              "      <td>23.8172</td>\n",
              "      <td>9.5728</td>\n",
              "      <td>2.3385</td>\n",
              "      <td>0.6147</td>\n",
              "      <td>0.3922</td>\n",
              "      <td>27.2107</td>\n",
              "      <td>-6.4633</td>\n",
              "      <td>-7.1513</td>\n",
              "      <td>10.4490</td>\n",
              "      <td>116.7370</td>\n",
              "      <td>g</td>\n",
              "    </tr>\n",
              "    <tr>\n",
              "      <th>4</th>\n",
              "      <td>75.1362</td>\n",
              "      <td>30.9205</td>\n",
              "      <td>3.1611</td>\n",
              "      <td>0.3168</td>\n",
              "      <td>0.1832</td>\n",
              "      <td>-5.5277</td>\n",
              "      <td>28.5525</td>\n",
              "      <td>21.8393</td>\n",
              "      <td>4.6480</td>\n",
              "      <td>356.4620</td>\n",
              "      <td>g</td>\n",
              "    </tr>\n",
              "    <tr>\n",
              "      <th>...</th>\n",
              "      <td>...</td>\n",
              "      <td>...</td>\n",
              "      <td>...</td>\n",
              "      <td>...</td>\n",
              "      <td>...</td>\n",
              "      <td>...</td>\n",
              "      <td>...</td>\n",
              "      <td>...</td>\n",
              "      <td>...</td>\n",
              "      <td>...</td>\n",
              "      <td>...</td>\n",
              "    </tr>\n",
              "    <tr>\n",
              "      <th>19015</th>\n",
              "      <td>21.3846</td>\n",
              "      <td>10.9170</td>\n",
              "      <td>2.6161</td>\n",
              "      <td>0.5857</td>\n",
              "      <td>0.3934</td>\n",
              "      <td>15.2618</td>\n",
              "      <td>11.5245</td>\n",
              "      <td>2.8766</td>\n",
              "      <td>2.4229</td>\n",
              "      <td>106.8258</td>\n",
              "      <td>h</td>\n",
              "    </tr>\n",
              "    <tr>\n",
              "      <th>19016</th>\n",
              "      <td>28.9452</td>\n",
              "      <td>6.7020</td>\n",
              "      <td>2.2672</td>\n",
              "      <td>0.5351</td>\n",
              "      <td>0.2784</td>\n",
              "      <td>37.0816</td>\n",
              "      <td>13.1853</td>\n",
              "      <td>-2.9632</td>\n",
              "      <td>86.7975</td>\n",
              "      <td>247.4560</td>\n",
              "      <td>h</td>\n",
              "    </tr>\n",
              "    <tr>\n",
              "      <th>19017</th>\n",
              "      <td>75.4455</td>\n",
              "      <td>47.5305</td>\n",
              "      <td>3.4483</td>\n",
              "      <td>0.1417</td>\n",
              "      <td>0.0549</td>\n",
              "      <td>-9.3561</td>\n",
              "      <td>41.0562</td>\n",
              "      <td>-9.4662</td>\n",
              "      <td>30.2987</td>\n",
              "      <td>256.5166</td>\n",
              "      <td>h</td>\n",
              "    </tr>\n",
              "    <tr>\n",
              "      <th>19018</th>\n",
              "      <td>120.5135</td>\n",
              "      <td>76.9018</td>\n",
              "      <td>3.9939</td>\n",
              "      <td>0.0944</td>\n",
              "      <td>0.0683</td>\n",
              "      <td>5.8043</td>\n",
              "      <td>-93.5224</td>\n",
              "      <td>-63.8389</td>\n",
              "      <td>84.6874</td>\n",
              "      <td>408.3166</td>\n",
              "      <td>h</td>\n",
              "    </tr>\n",
              "    <tr>\n",
              "      <th>19019</th>\n",
              "      <td>187.1814</td>\n",
              "      <td>53.0014</td>\n",
              "      <td>3.2093</td>\n",
              "      <td>0.2876</td>\n",
              "      <td>0.1539</td>\n",
              "      <td>-167.3125</td>\n",
              "      <td>-168.4558</td>\n",
              "      <td>31.4755</td>\n",
              "      <td>52.7310</td>\n",
              "      <td>272.3174</td>\n",
              "      <td>h</td>\n",
              "    </tr>\n",
              "  </tbody>\n",
              "</table>\n",
              "<p>19020 rows × 11 columns</p>\n",
              "</div>"
            ],
            "text/plain": [
              "             0         1       2       3   ...       7        8         9   10\n",
              "0       28.7967   16.0021  2.6449  0.3918  ...  -8.2027  40.0920   81.8828   g\n",
              "1       31.6036   11.7235  2.5185  0.5303  ...  -9.9574   6.3609  205.2610   g\n",
              "2      162.0520  136.0310  4.0612  0.0374  ... -45.2160  76.9600  256.7880   g\n",
              "3       23.8172    9.5728  2.3385  0.6147  ...  -7.1513  10.4490  116.7370   g\n",
              "4       75.1362   30.9205  3.1611  0.3168  ...  21.8393   4.6480  356.4620   g\n",
              "...         ...       ...     ...     ...  ...      ...      ...       ...  ..\n",
              "19015   21.3846   10.9170  2.6161  0.5857  ...   2.8766   2.4229  106.8258   h\n",
              "19016   28.9452    6.7020  2.2672  0.5351  ...  -2.9632  86.7975  247.4560   h\n",
              "19017   75.4455   47.5305  3.4483  0.1417  ...  -9.4662  30.2987  256.5166   h\n",
              "19018  120.5135   76.9018  3.9939  0.0944  ... -63.8389  84.6874  408.3166   h\n",
              "19019  187.1814   53.0014  3.2093  0.2876  ...  31.4755  52.7310  272.3174   h\n",
              "\n",
              "[19020 rows x 11 columns]"
            ]
          },
          "metadata": {},
          "execution_count": 5
        }
      ]
    },
    {
      "cell_type": "markdown",
      "metadata": {
        "id": "Kw1vUdtUSdlo"
      },
      "source": [
        "χωρίζουμε τα data : features (x) , labels (y)"
      ]
    },
    {
      "cell_type": "code",
      "metadata": {
        "colab": {
          "base_uri": "https://localhost:8080/"
        },
        "id": "wTw7_vIGjHrE",
        "outputId": "447538d3-b298-48f5-bf79-bbfd82210f98"
      },
      "source": [
        "featueres_df=df.loc[:,0:9]\n",
        "labels_df=df.loc[:,10:10]\n",
        "print(featueres_df.shape)\n",
        "print(labels_df.shape)"
      ],
      "execution_count": 6,
      "outputs": [
        {
          "output_type": "stream",
          "name": "stdout",
          "text": [
            "(19020, 10)\n",
            "(19020, 1)\n"
          ]
        }
      ]
    },
    {
      "cell_type": "markdown",
      "metadata": {
        "id": "v3Vz-hc5oAq7"
      },
      "source": [
        "παρουσιάζονται καλύτερα ως numpy arrays:"
      ]
    },
    {
      "cell_type": "code",
      "metadata": {
        "id": "qYjPhOdYk2FM"
      },
      "source": [
        "import numpy as np"
      ],
      "execution_count": 7,
      "outputs": []
    },
    {
      "cell_type": "markdown",
      "metadata": {
        "id": "7qvJa7Irx47h"
      },
      "source": [
        "\n",
        "*  features: nympy array of 19020 rows and 10 columns\n",
        "*  total of 190200 samples"
      ]
    },
    {
      "cell_type": "code",
      "metadata": {
        "colab": {
          "base_uri": "https://localhost:8080/"
        },
        "id": "JhyoqmpTmVu3",
        "outputId": "be7e763b-5193-4548-dbc6-8bbba18173ef"
      },
      "source": [
        "features=featueres_df.values\n",
        "print(features)\n",
        "print(features.shape)"
      ],
      "execution_count": 8,
      "outputs": [
        {
          "output_type": "stream",
          "name": "stdout",
          "text": [
            "[[ 28.7967  16.0021   2.6449 ...  -8.2027  40.092   81.8828]\n",
            " [ 31.6036  11.7235   2.5185 ...  -9.9574   6.3609 205.261 ]\n",
            " [162.052  136.031    4.0612 ... -45.216   76.96   256.788 ]\n",
            " ...\n",
            " [ 75.4455  47.5305   3.4483 ...  -9.4662  30.2987 256.5166]\n",
            " [120.5135  76.9018   3.9939 ... -63.8389  84.6874 408.3166]\n",
            " [187.1814  53.0014   3.2093 ...  31.4755  52.731  272.3174]]\n",
            "(19020, 10)\n"
          ]
        }
      ]
    },
    {
      "cell_type": "markdown",
      "metadata": {
        "id": "cDhkhNUJyLHM"
      },
      "source": [
        "Labels: numpy array of 19020 rows and 1 column\n"
      ]
    },
    {
      "cell_type": "code",
      "metadata": {
        "colab": {
          "base_uri": "https://localhost:8080/"
        },
        "id": "elCADrPhnkLJ",
        "outputId": "cc31c2c4-bc3b-4018-f932-387a49a95225"
      },
      "source": [
        "labels=labels_df.values.reshape(19020,)\n",
        "print(labels)\n",
        "print(labels.shape)"
      ],
      "execution_count": 9,
      "outputs": [
        {
          "output_type": "stream",
          "name": "stdout",
          "text": [
            "['g' 'g' 'g' ... 'h' 'h' 'h']\n",
            "(19020,)\n"
          ]
        }
      ]
    },
    {
      "cell_type": "markdown",
      "metadata": {
        "id": "WVsI2kV9xVY9"
      },
      "source": [
        "Ο τύπος των δεδομένων στα features είναι float:"
      ]
    },
    {
      "cell_type": "code",
      "metadata": {
        "colab": {
          "base_uri": "https://localhost:8080/"
        },
        "id": "8ByR0CLAw3O_",
        "outputId": "bdb4cdf2-1a0e-4cfe-af17-e031b526e181"
      },
      "source": [
        "print(type(features[0,0]))"
      ],
      "execution_count": 10,
      "outputs": [
        {
          "output_type": "stream",
          "name": "stdout",
          "text": [
            "<class 'numpy.float64'>\n"
          ]
        }
      ]
    },
    {
      "cell_type": "markdown",
      "metadata": {
        "id": "RXDsRZpixbp8"
      },
      "source": [
        "Ο τύπος των δεδομένων στα labels είναι string:"
      ]
    },
    {
      "cell_type": "code",
      "metadata": {
        "colab": {
          "base_uri": "https://localhost:8080/"
        },
        "id": "vh_4pGTuxg95",
        "outputId": "001ca69a-a910-4fc3-bf50-12ed8a122d0a"
      },
      "source": [
        "print(type(labels[0]))"
      ],
      "execution_count": 11,
      "outputs": [
        {
          "output_type": "stream",
          "name": "stdout",
          "text": [
            "<class 'str'>\n"
          ]
        }
      ]
    },
    {
      "cell_type": "markdown",
      "metadata": {
        "id": "DF3BktvK7ITg"
      },
      "source": [
        "* Oι κλάσεις βρίσκονται στην τελευταία στήλη και διακρίνονται σε \"gamma\" : \"g\" και \"hadron\" : \"h\".\n",
        "* Δεν έχουμε επικεφαλίδες ούτε αρίθμηση γραμμών\n",
        "* Δεν απουσιάζει κανένα δείγμα\n",
        "\n",
        "\n",
        "\n",
        "\n"
      ]
    },
    {
      "cell_type": "markdown",
      "metadata": {
        "id": "mEm6esO3DtCo"
      },
      "source": [
        "Έλεγχος αν το dataset είναι balanced:"
      ]
    },
    {
      "cell_type": "code",
      "metadata": {
        "colab": {
          "base_uri": "https://localhost:8080/"
        },
        "id": "L9Xa9L5G967A",
        "outputId": "3997f1dc-605a-4be7-c30a-22d114c2d82e"
      },
      "source": [
        "print(\"number of classes: \",len(labels))\n",
        "g=0\n",
        "for i in range(len(labels)):\n",
        "  if labels[i]==\"g\":\n",
        "    g=g+1\n",
        "\n",
        "h=len(labels)-g\n",
        "print(\"number of g: \",g,\", number of h: \",h)\n",
        "perc=min(g,h)/len(labels)\n",
        "if perc<0.4:\n",
        "  print(\"Not balanced. Percentage = \",perc)\n",
        "else:\n",
        "  print(\"Balanced. Percentage = \",perc)\n"
      ],
      "execution_count": 12,
      "outputs": [
        {
          "output_type": "stream",
          "name": "stdout",
          "text": [
            "number of classes:  19020\n",
            "number of g:  12332 , number of h:  6688\n",
            "Not balanced. Percentage =  0.3516298633017876\n"
          ]
        }
      ]
    },
    {
      "cell_type": "markdown",
      "metadata": {
        "id": "TWpBGCyeEcC8"
      },
      "source": [
        "Διαχωρίζουμε το σύνολο δεδομένων σε σύνολο εκπαίδευσης (train set) και σύνολο (test set) με 30% των δειγμάτων στο test set"
      ]
    },
    {
      "cell_type": "code",
      "metadata": {
        "id": "HHXvKCWLF0FC"
      },
      "source": [
        "from sklearn.model_selection import train_test_split\n",
        "features_train,features_test,labels_train,labels_test=train_test_split(features,labels,test_size=0.3)"
      ],
      "execution_count": 14,
      "outputs": []
    },
    {
      "cell_type": "code",
      "metadata": {
        "id": "W1Crl85BcBXn"
      },
      "source": [
        "from sklearn.dummy import DummyClassifier\n",
        "dc_uniform = DummyClassifier(strategy=\"uniform\")\n",
        "dc_constant_g = DummyClassifier(strategy=\"constant\", constant='g')\n",
        "dc_constant_h = DummyClassifier(strategy=\"constant\", constant='h')\n",
        "dc_most_frequent = DummyClassifier(strategy=\"most_frequent\")\n",
        "dc_stratified = DummyClassifier(strategy=\"stratified\")"
      ],
      "execution_count": 18,
      "outputs": []
    },
    {
      "cell_type": "code",
      "metadata": {
        "id": "HJxaeyzfvOco"
      },
      "source": [
        "magic_accuracy = {}\n",
        "dc_uniform.fit(features_train, labels_train)\n",
        "magic_accuracy['uniform (random)'] = dc_uniform.score(features_train, labels_train)\n",
        "model = dc_constant_g.fit(features_train, labels_train)\n",
        "magic_accuracy['constant g'] = dc_constant_g.score(features_train, labels_train)\n",
        "model = dc_constant_h.fit(features_train, labels_train)\n",
        "magic_accuracy['constant h'] = dc_constant_h.score(features_train, labels_train)\n",
        "model = dc_most_frequent.fit(features_train, labels_train)\n",
        "magic_accuracy['most frequent label'] = dc_most_frequent.score(features_train, labels_train)\n",
        "model = dc_stratified.fit(features_train, labels_train)\n",
        "magic_accuracy['stratified'] = dc_stratified.score(features_train, labels_train)\n"
      ],
      "execution_count": 20,
      "outputs": []
    },
    {
      "cell_type": "code",
      "metadata": {
        "colab": {
          "base_uri": "https://localhost:8080/"
        },
        "id": "q6ZdXPlwwSw0",
        "outputId": "a07c5a47-0a90-4e9f-948a-f29db8f8a05f"
      },
      "source": [
        "print(\"Classification Accuracy on the magic Dataset (30% test set)\\n\")\n",
        "sorted_accuracy = [(k, magic_accuracy[k]) for k in sorted(magic_accuracy, key=magic_accuracy.get, reverse=True)]\n",
        "for k, v in sorted_accuracy:\n",
        "  print(k,v)"
      ],
      "execution_count": 21,
      "outputs": [
        {
          "output_type": "stream",
          "name": "stdout",
          "text": [
            "Classification Accuracy on the magic Dataset (30% test set)\n",
            "\n",
            "constant g 0.6499924891092084\n",
            "most frequent label 0.6499924891092084\n",
            "stratified 0.5469430674477993\n",
            "uniform (random) 0.5000751089079165\n",
            "constant h 0.35000751089079163\n"
          ]
        }
      ]
    },
    {
      "cell_type": "code",
      "metadata": {
        "colab": {
          "base_uri": "https://localhost:8080/"
        },
        "id": "m1joiqkuwlhf",
        "outputId": "8c00244c-2b39-40c8-9add-035e72cc1645"
      },
      "source": [
        "from sklearn.naive_bayes import GaussianNB\n",
        "gnb = GaussianNB()\n",
        "model = gnb.fit(features_train, labels_train)\n",
        "magic_accuracy['gaussian naive bayes'] = gnb.score(features_train, labels_train)\n",
        "print(\"Classification Accuracy on the magic Dataset (30% test set)\\n\")\n",
        "sorted_accuracy = [(k, magic_accuracy[k]) for k in sorted(magic_accuracy, key=magic_accuracy.get, reverse=True)]\n",
        "for k, v in sorted_accuracy:\n",
        "  print(k,v)"
      ],
      "execution_count": 22,
      "outputs": [
        {
          "output_type": "stream",
          "name": "stdout",
          "text": [
            "Classification Accuracy on the magic Dataset (30% test set)\n",
            "\n",
            "gaussian naive bayes 0.7238996544990236\n",
            "constant g 0.6499924891092084\n",
            "most frequent label 0.6499924891092084\n",
            "stratified 0.5469430674477993\n",
            "uniform (random) 0.5000751089079165\n",
            "constant h 0.35000751089079163\n"
          ]
        }
      ]
    }
  ]
}
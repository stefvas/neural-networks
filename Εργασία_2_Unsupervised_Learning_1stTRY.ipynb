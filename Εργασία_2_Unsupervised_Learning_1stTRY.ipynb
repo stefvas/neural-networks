{
  "nbformat": 4,
  "nbformat_minor": 0,
  "metadata": {
    "colab": {
      "name": "Untitled1.ipynb",
      "provenance": []
    },
    "kernelspec": {
      "name": "python3",
      "display_name": "Python 3"
    },
    "language_info": {
      "name": "python"
    }
  },
  "cells": [
    {
      "cell_type": "markdown",
      "metadata": {
        "id": "OniRxV5vzT5o"
      },
      "source": [
        "# Εργαστηριακή Άσκηση 2. Μη επιβλεπόμενη μάθηση. \n",
        "## Σύστημα συστάσεων βασισμένο στο περιεχόμενο\n",
        "## Σημασιολογική απεικόνιση δεδομένων με χρήση SOM "
      ]
    },
    {
      "cell_type": "code",
      "metadata": {
        "colab": {
          "base_uri": "https://localhost:8080/",
          "height": 1000
        },
        "id": "ZXfGp0KOyhUU",
        "outputId": "d575095e-9507-4e51-db89-dc553df8a661"
      },
      "source": [
        "!pip install --upgrade pip\n",
        "!pip install --upgrade numpy\n",
        "!pip install --upgrade pandas\n",
        "!pip install --upgrade nltk\n",
        "!pip install --upgrade scikit-learn\n",
        "!pip install --upgrade joblib"
      ],
      "execution_count": 1,
      "outputs": [
        {
          "output_type": "stream",
          "name": "stdout",
          "text": [
            "Requirement already satisfied: pip in /usr/local/lib/python3.7/dist-packages (21.1.3)\n",
            "Collecting pip\n",
            "  Downloading pip-21.3.1-py3-none-any.whl (1.7 MB)\n",
            "\u001b[K     |████████████████████████████████| 1.7 MB 13.1 MB/s \n",
            "\u001b[?25hInstalling collected packages: pip\n",
            "  Attempting uninstall: pip\n",
            "    Found existing installation: pip 21.1.3\n",
            "    Uninstalling pip-21.1.3:\n",
            "      Successfully uninstalled pip-21.1.3\n",
            "Successfully installed pip-21.3.1\n",
            "Requirement already satisfied: numpy in /usr/local/lib/python3.7/dist-packages (1.19.5)\n",
            "Collecting numpy\n",
            "  Downloading numpy-1.21.4-cp37-cp37m-manylinux_2_12_x86_64.manylinux2010_x86_64.whl (15.7 MB)\n",
            "     |████████████████████████████████| 15.7 MB 16.0 MB/s            \n",
            "\u001b[?25hInstalling collected packages: numpy\n",
            "  Attempting uninstall: numpy\n",
            "    Found existing installation: numpy 1.19.5\n",
            "    Uninstalling numpy-1.19.5:\n",
            "      Successfully uninstalled numpy-1.19.5\n",
            "\u001b[31mERROR: pip's dependency resolver does not currently take into account all the packages that are installed. This behaviour is the source of the following dependency conflicts.\n",
            "yellowbrick 1.3.post1 requires numpy<1.20,>=1.16.0, but you have numpy 1.21.4 which is incompatible.\n",
            "datascience 0.10.6 requires folium==0.2.1, but you have folium 0.8.3 which is incompatible.\n",
            "albumentations 0.1.12 requires imgaug<0.2.7,>=0.2.5, but you have imgaug 0.2.9 which is incompatible.\u001b[0m\n",
            "Successfully installed numpy-1.21.4\n",
            "\u001b[33mWARNING: Running pip as the 'root' user can result in broken permissions and conflicting behaviour with the system package manager. It is recommended to use a virtual environment instead: https://pip.pypa.io/warnings/venv\u001b[0m\n"
          ]
        },
        {
          "output_type": "display_data",
          "data": {
            "application/vnd.colab-display-data+json": {
              "pip_warning": {
                "packages": [
                  "numpy"
                ]
              }
            }
          },
          "metadata": {}
        },
        {
          "output_type": "stream",
          "name": "stdout",
          "text": [
            "Requirement already satisfied: pandas in /usr/local/lib/python3.7/dist-packages (1.1.5)\n",
            "Collecting pandas\n",
            "  Downloading pandas-1.3.4-cp37-cp37m-manylinux_2_17_x86_64.manylinux2014_x86_64.whl (11.3 MB)\n",
            "     |████████████████████████████████| 11.3 MB 15.6 MB/s            \n",
            "\u001b[?25hRequirement already satisfied: pytz>=2017.3 in /usr/local/lib/python3.7/dist-packages (from pandas) (2018.9)\n",
            "Requirement already satisfied: numpy>=1.17.3 in /usr/local/lib/python3.7/dist-packages (from pandas) (1.21.4)\n",
            "Requirement already satisfied: python-dateutil>=2.7.3 in /usr/local/lib/python3.7/dist-packages (from pandas) (2.8.2)\n",
            "Requirement already satisfied: six>=1.5 in /usr/local/lib/python3.7/dist-packages (from python-dateutil>=2.7.3->pandas) (1.15.0)\n",
            "Installing collected packages: pandas\n",
            "  Attempting uninstall: pandas\n",
            "    Found existing installation: pandas 1.1.5\n",
            "    Uninstalling pandas-1.1.5:\n",
            "      Successfully uninstalled pandas-1.1.5\n",
            "\u001b[31mERROR: pip's dependency resolver does not currently take into account all the packages that are installed. This behaviour is the source of the following dependency conflicts.\n",
            "google-colab 1.0.0 requires pandas~=1.1.0; python_version >= \"3.0\", but you have pandas 1.3.4 which is incompatible.\u001b[0m\n",
            "Successfully installed pandas-1.3.4\n",
            "\u001b[33mWARNING: Running pip as the 'root' user can result in broken permissions and conflicting behaviour with the system package manager. It is recommended to use a virtual environment instead: https://pip.pypa.io/warnings/venv\u001b[0m\n"
          ]
        },
        {
          "output_type": "display_data",
          "data": {
            "application/vnd.colab-display-data+json": {
              "pip_warning": {
                "packages": [
                  "pandas"
                ]
              }
            }
          },
          "metadata": {}
        },
        {
          "output_type": "stream",
          "name": "stdout",
          "text": [
            "Requirement already satisfied: nltk in /usr/local/lib/python3.7/dist-packages (3.2.5)\n",
            "Collecting nltk\n",
            "  Downloading nltk-3.6.5-py3-none-any.whl (1.5 MB)\n",
            "     |████████████████████████████████| 1.5 MB 16.4 MB/s            \n",
            "\u001b[?25hCollecting regex>=2021.8.3\n",
            "  Downloading regex-2021.11.10-cp37-cp37m-manylinux_2_17_x86_64.manylinux2014_x86_64.whl (749 kB)\n",
            "     |████████████████████████████████| 749 kB 44.0 MB/s            \n",
            "\u001b[?25hRequirement already satisfied: click in /usr/local/lib/python3.7/dist-packages (from nltk) (7.1.2)\n",
            "Requirement already satisfied: joblib in /usr/local/lib/python3.7/dist-packages (from nltk) (1.1.0)\n",
            "Requirement already satisfied: tqdm in /usr/local/lib/python3.7/dist-packages (from nltk) (4.62.3)\n",
            "Installing collected packages: regex, nltk\n",
            "  Attempting uninstall: regex\n",
            "    Found existing installation: regex 2019.12.20\n",
            "    Uninstalling regex-2019.12.20:\n",
            "      Successfully uninstalled regex-2019.12.20\n",
            "  Attempting uninstall: nltk\n",
            "    Found existing installation: nltk 3.2.5\n",
            "    Uninstalling nltk-3.2.5:\n",
            "      Successfully uninstalled nltk-3.2.5\n",
            "Successfully installed nltk-3.6.5 regex-2021.11.10\n",
            "\u001b[33mWARNING: Running pip as the 'root' user can result in broken permissions and conflicting behaviour with the system package manager. It is recommended to use a virtual environment instead: https://pip.pypa.io/warnings/venv\u001b[0m\n",
            "Requirement already satisfied: scikit-learn in /usr/local/lib/python3.7/dist-packages (1.0.1)\n",
            "Requirement already satisfied: numpy>=1.14.6 in /usr/local/lib/python3.7/dist-packages (from scikit-learn) (1.21.4)\n",
            "Requirement already satisfied: joblib>=0.11 in /usr/local/lib/python3.7/dist-packages (from scikit-learn) (1.1.0)\n",
            "Requirement already satisfied: threadpoolctl>=2.0.0 in /usr/local/lib/python3.7/dist-packages (from scikit-learn) (3.0.0)\n",
            "Requirement already satisfied: scipy>=1.1.0 in /usr/local/lib/python3.7/dist-packages (from scikit-learn) (1.4.1)\n",
            "\u001b[33mWARNING: Running pip as the 'root' user can result in broken permissions and conflicting behaviour with the system package manager. It is recommended to use a virtual environment instead: https://pip.pypa.io/warnings/venv\u001b[0m\n",
            "Requirement already satisfied: joblib in /usr/local/lib/python3.7/dist-packages (1.1.0)\n",
            "\u001b[33mWARNING: Running pip as the 'root' user can result in broken permissions and conflicting behaviour with the system package manager. It is recommended to use a virtual environment instead: https://pip.pypa.io/warnings/venv\u001b[0m\n"
          ]
        }
      ]
    },
    {
      "cell_type": "markdown",
      "metadata": {
        "id": "QDhGuZfZzcOP"
      },
      "source": [
        "##Data insertion"
      ]
    },
    {
      "cell_type": "code",
      "metadata": {
        "id": "nuJ8ApfhzgSe"
      },
      "source": [
        "import pandas as pd\n",
        "\n",
        "dataset_url = \"https://drive.google.com/uc?export=download&id=1-tN5rC1QCgwqL67cvIXdMbtd-Xf9Xqow\"\n",
        "df_data_1 = pd.read_csv(dataset_url, sep='\\t',  header=None, quoting=3)"
      ],
      "execution_count": 2,
      "outputs": []
    },
    {
      "cell_type": "markdown",
      "metadata": {
        "id": "KzuavdYgzyQU"
      },
      "source": [
        "Team seed == 40"
      ]
    },
    {
      "cell_type": "code",
      "metadata": {
        "id": "pYE4zS5Tz1Vs"
      },
      "source": [
        "import numpy as np\n",
        "\n",
        "# Στο επόμενη γραμή βάλτε τον αριθμό της ομάδας στο εργαστήριο των νευρωνικών\n",
        "team_seed_number = 40\n",
        "\n",
        "movie_seeds_url = \"https://drive.google.com/uc?export=download&id=1-oeMf7BFmiH70XObgC9WOTo-a9cDJZwP\"\n",
        "df_data_2 = pd.read_csv(movie_seeds_url, header=None)\n",
        "\n",
        "# επιλέγεται \n",
        "my_index = df_data_2.iloc[team_seed_number,:].values\n",
        "\n",
        "titles = df_data_1.iloc[:, [2]].values[my_index] # movie titles (string)\n",
        "categories = df_data_1.iloc[:, [3]].values[my_index] # movie categories (string)\n",
        "bins = df_data_1.iloc[:, [4]]\n",
        "catbins = bins[4].str.split(',', expand=True).values.astype(float)[my_index] # movie categories in binary form (1 feature per category)\n",
        "summaries =  df_data_1.iloc[:, [5]].values[my_index] # movie summaries (string)\n",
        "corpus = summaries[:,0].tolist() # list form of summaries\n",
        "corpus_df = pd.DataFrame(corpus) # dataframe version of corpus\n"
      ],
      "execution_count": 3,
      "outputs": []
    },
    {
      "cell_type": "code",
      "metadata": {
        "colab": {
          "base_uri": "https://localhost:8080/"
        },
        "id": "8es_7nZG0O-V",
        "outputId": "58c84a4b-f3d8-470d-cc44-71724867c7b1"
      },
      "source": [
        "ID = 999\n",
        "print(titles[ID])\n",
        "print(categories[ID])\n",
        "print(catbins[ID])\n",
        "print(corpus[ID])"
      ],
      "execution_count": 4,
      "outputs": [
        {
          "output_type": "stream",
          "name": "stdout",
          "text": [
            "['Convict 99']\n",
            "['\"Comedy\",  \"Black-and-white\"']\n",
            "[0. 0. 0. 0. 0. 0. 0. 0. 0. 0. 0. 0. 0. 0. 0. 0. 0. 0. 0. 0. 0. 0. 0. 0.\n",
            " 0. 0. 0. 0. 0. 0. 0. 0. 0. 0. 0. 0. 0. 0. 0. 0. 0. 1. 0. 0. 0. 0. 0. 0.\n",
            " 0. 0. 0. 0. 0. 0. 0. 0. 0. 0. 0. 0. 0. 0. 0. 0. 0. 0. 0. 1. 0. 0. 0. 0.\n",
            " 0. 0. 0. 0. 0. 0. 0. 0. 0. 0. 0. 0. 0. 0. 0. 0. 0. 0. 0. 0. 0. 0. 0. 0.\n",
            " 0. 0. 0. 0. 0. 0. 0. 0. 0. 0. 0. 0. 0. 0. 0. 0. 0. 0. 0. 0. 0. 0. 0. 0.\n",
            " 0. 0. 0. 0. 0. 0. 0. 0. 0. 0. 0. 0. 0. 0. 0. 0. 0. 0. 0. 0. 0. 0. 0. 0.\n",
            " 0. 0. 0. 0. 0. 0. 0. 0. 0. 0. 0. 0. 0. 0. 0. 0. 0. 0. 0. 0. 0. 0. 0. 0.\n",
            " 0. 0. 0. 0. 0. 0. 0. 0. 0. 0. 0. 0. 0. 0. 0. 0. 0. 0. 0. 0. 0. 0. 0. 0.\n",
            " 0. 0. 0. 0. 0. 0. 0. 0. 0. 0. 0. 0. 0. 0. 0. 0. 0. 0. 0. 0. 0. 0. 0. 0.\n",
            " 0. 0. 0. 0. 0. 0. 0. 0. 0. 0. 0. 0. 0. 0. 0. 0. 0. 0. 0. 0. 0. 0. 0. 0.\n",
            " 0. 0. 0. 0. 0. 0. 0. 0. 0. 0. 0. 0. 0. 0. 0. 0. 0. 0. 0. 0. 0. 0. 0. 0.\n",
            " 0. 0. 0. 0. 0. 0. 0. 0. 0. 0. 0. 0. 0. 0. 0. 0. 0. 0. 0. 0. 0. 0. 0. 0.\n",
            " 0. 0. 0. 0. 0. 0. 0. 0. 0. 0. 0. 0. 0. 0. 0. 0. 0. 0. 0. 0. 0. 0. 0. 0.\n",
            " 0. 0. 0. 0. 0. 0. 0. 0. 0. 0.]\n",
            "Incompetent Dr Benjamin Twist  is dismissed from his job as headmaster at St. Michaels' School , and applies for a job in another school. Going for interview, he is called into another office where they are expecting John Benjamin, a strict prison governor recently arrived from Australia who is applying for the vacancy at Blakedown Prison in Devon. On the way to what Twist believes is the school, he becomes drunk, and on arrival is mistaken for Max Slessor, a prisoner who had escaped during a jailbreak. Designated Convict 99 and in for seven years for forgery, Twist is soon discovered to be the new Prison Governor, and once put in his  rightful place embarks on a programme to make the prison a more friendly place for the prisoners, funding it from the proceeds of a football pools win and stock market investments. Things take a turn for the worse, when the recaptured Slessor, aided by a phoney baroness who accuses Twist of attempted rape, escapes again with a signed cheque. Altering the figures, he draws the entire prison funds from the bank. Twist and some of the convicts head in a prison van to Limehouse, in east London, to catch Slessor, recover the lost funds and then successfully break into the bank in the middle of the night to return the money.\n"
          ]
        }
      ]
    },
    {
      "cell_type": "markdown",
      "metadata": {
        "id": "cn4Xntq10ToE"
      },
      "source": [
        "# Εφαρμογή 1. Υλοποίηση συστήματος συστάσεων ταινιών βασισμένο στο περιεχόμενο\n",
        "<img src=\"http://clture.org/wp-content/uploads/2015/12/Netflix-Streaming-End-of-Year-Posts.jpg\" width=\"70%\">"
      ]
    },
    {
      "cell_type": "markdown",
      "metadata": {
        "id": "qgIaDlO60WH_"
      },
      "source": [
        "##TFID convertion"
      ]
    },
    {
      "cell_type": "code",
      "metadata": {
        "id": "Jne2J43H0Qy9"
      },
      "source": [
        "from sklearn.feature_extraction.text import ENGLISH_STOP_WORDS as stopwords_english\n",
        "from sklearn.feature_extraction.text import TfidfVectorizer\n",
        "\n",
        "\n",
        "def tf_idf(mx_df, mn_df, my_stopwrods=list()):\n",
        "\n",
        "  stopwords_film = [\"movie\", \"film\", \"plot\", \"begins\", \"opens\", \"starts\", \"piece\", \"named\", \"woman\", \"women\", \"man\", \"men\", \"prologue\", \"help\", \"helping\"]\n",
        "  stopwords = list(stopwords_english) + list(my_stopwrods) + list(stopwords_film)# enhancing stopwords\n",
        "\n",
        "  vectorizer = TfidfVectorizer(max_df=mx_df, min_df=mn_df, stop_words=stopwords, analyzer='word')\n",
        "  vectorizer.fit(corpus)\n",
        "  corpus_tf_idf = vectorizer.transform(corpus)\n",
        "  print(\"Dimensions: \", corpus_tf_idf.shape, \"\\n\")\n",
        "\n",
        "\n",
        "  return corpus_tf_idf"
      ],
      "execution_count": 5,
      "outputs": []
    },
    {
      "cell_type": "markdown",
      "metadata": {
        "id": "kxNv22vZ0of6"
      },
      "source": [
        "Η συνάρτηση [TfidfVectorizer](http://scikit-learn.org/stable/modules/generated/sklearn.feature_extraction.text.TfidfVectorizer.html) όπως καλείται εδώ **δεν είναι βελτιστοποιημένη**. Οι επιλογές των μεθόδων και παραμέτρων της μπορεί να έχουν **δραματική επίδραση στην ποιότητα των συστάσεων** και είναι διαφορετικές για κάθε dataset. Επίσης, οι επιλογές αυτές έχουν πολύ μεγάλη επίδραση και στη **διαστατικότητα και όγκο των δεδομένων**. Η διαστατικότητα των δεδομένων με τη σειρά της θα έχει πολύ μεγάλη επίδραση στους **χρόνους εκπαίδευσης**, ιδιαίτερα στη δεύτερη εφαρμογή της άσκησης. Ανατρέξτε στα notebooks του εργαστηρίου και στο [FAQ](https://docs.google.com/document/d/1-E4eQkVnTxa3Jb0HL9OAs11bugYRRZ7RNWpu7yh9G4s/edit?usp=sharing) των ασκήσεων."
      ]
    },
    {
      "cell_type": "code",
      "metadata": {
        "id": "5KSp2ZlI0ksm"
      },
      "source": [
        "print(tf_idf(1.0, 0))"
      ],
      "execution_count": null,
      "outputs": []
    },
    {
      "cell_type": "markdown",
      "metadata": {
        "id": "QpHpQBrp0wld"
      },
      "source": [
        "#Suggestion system implementation"
      ]
    },
    {
      "cell_type": "markdown",
      "metadata": {
        "id": "qBtz9jfe1pl9"
      },
      "source": [
        "Το σύστημα συστάσεων που θα υλοποιήσετε θα είναι μια συνάρτηση content_recommender με τρία ορίσματα: target_movie, max_recommendations και corpus_type. Στην target_movie περνάμε το ID μιας ταινίας-στόχου για την οποία μας ενδιαφέρει να βρούμε παρόμοιες ως προς το περιεχόμενο (τη σύνοψη) ταινίες, max_recommendations στο πλήθος.\n",
        "Υλοποιήστε τη συνάρτηση ως εξής:\n",
        "\n",
        "    Για την ταινία-στόχο, θα υπολογίζετε την ομοιότητα συνημιτόνου της με όλες τις ταινίες της συλλογής σας όπως αυτές αναπαριστώνται στο corpus_type.με βάση την ομοιότητα συνημιτόνου που υπολογίσατε, δημιουργήστε ταξινομημένο πίνακα από το μεγαλύτερο στο μικρότερο, με τα indices (ID) των ταινιών.\n",
        "    \n",
        "    Για την ταινία-στόχο εκτυπώστε: id, τίτλο, σύνοψη, κατηγορίες (categories)\n",
        "    \n",
        "    Για τις max_recommendations ταινίες (πλην της ίδιας της ταινίας-στόχου που έχει cosine similarity 1 με τον εαυτό της) με τη μεγαλύτερη ομοιότητα συνημιτόνου (σε φθίνουσα σειρά), τυπώστε σειρά σύστασης (1 πιο κοντινή, 2 η δεύτερη πιο κοντινή κλπ), ομοιότητα συνημιτόνου, id, τίτλο, σύνοψη, και κατηγορίες (categories)\n"
      ]
    },
    {
      "cell_type": "code",
      "metadata": {
        "id": "DV_Q6AehAi5b"
      },
      "source": [
        "# function that prints movie info\n",
        "def print_movie(ID):\n",
        "  print(\"ID: \", ID)\n",
        "  print(\"Title: \", ', '.join(titles[ID]))\n",
        "  print(\"Categories: \", ', '.join(categories[ID]))\n",
        "  print(\"Summary:\\n\", corpus[ID], \"\\n\")"
      ],
      "execution_count": 7,
      "outputs": []
    },
    {
      "cell_type": "code",
      "metadata": {
        "id": "WTD9H9kH5-nU"
      },
      "source": [
        "from sklearn.metrics.pairwise import linear_kernel\n",
        "\n",
        "def content_recommender(ID, max_recommendations, corpus_tf_idf):\n",
        "  cosine_similarities = linear_kernel(corpus_tf_idf[ID], corpus_tf_idf).flatten()  # calculating cosine similarities using sparse matrices\n",
        "\n",
        "  cosine_similarities = (-cosine_similarities).argsort()  # sorting the array and saving movies based on ID's\n",
        "\n",
        "  print_movie(ID)  # print target movie info\n",
        "\n",
        "  for i in range(1, max_recommendations+1):   # print recommendations\n",
        "    print(\"Place:\", i)\n",
        "    print_movie(cosine_similarities[i])"
      ],
      "execution_count": 11,
      "outputs": []
    },
    {
      "cell_type": "code",
      "metadata": {
        "id": "0Y2QicrfSZf9",
        "colab": {
          "base_uri": "https://localhost:8080/"
        },
        "outputId": "f3c76d3a-5075-4eae-b580-292b8215e502"
      },
      "source": [
        "corpus_type = tf_idf(1.0, 0)"
      ],
      "execution_count": 12,
      "outputs": [
        {
          "output_type": "stream",
          "name": "stdout",
          "text": [
            "Dimensions:  (5000, 48562) \n",
            "\n"
          ]
        }
      ]
    },
    {
      "cell_type": "code",
      "metadata": {
        "id": "1D0VKoRNSps-",
        "colab": {
          "base_uri": "https://localhost:8080/"
        },
        "outputId": "a9de93e1-1f2c-4c83-9fa6-38f434737fac"
      },
      "source": [
        "content_recommender(1, 5, corpus_type)"
      ],
      "execution_count": 13,
      "outputs": [
        {
          "output_type": "stream",
          "name": "stdout",
          "text": [
            "ID:  1\n",
            "Title:  Restless\n",
            "Categories:  \"Comedy\",  \"World cinema\",  \"Chinese Movies\"\n",
            "Summary:\n",
            " Leah  is a translator who is traveling international cities in search of romance and closure with her estranged boyfriend Jeff. She eventually settles in Beijing, China, where she meets and develops a fixation on Master Sun Zhan , who teaches here a Chinese game called weiqi. When her relationship with Master Sun Zhan takes a turn for the worse, Leah decides to focus on getting revenge on Jeff. Richard  is a shiftless Chinese-American whose family sends him to Beijing with his grandfather's ashes. Eventually Leah and Richard's paths cross and a romance develops. \n",
            "\n",
            "Place: 1\n",
            "ID:  2737\n",
            "Title:  Eyes of Fire\n",
            "Categories:  \"Horror\"\n",
            "Summary:\n",
            " The film takes place in the year 1750 on the American frontier during the colonial days, before the United States declared its independence. A group of pioneers narrowly escape persecution when their preacher is accused of adultery and polygamy. The preacher, Will Smythe, is accused of having an affair with a married woman, Eloise Dalton whose husband is away hunting for food, and another woman, Leah, who is insane. Also among their group is Eloise's daughter Fanny Dalton, the couple Jewell Buchanan and Margaret Buchanan along with their daughter Cathleen, Calvin and his wife who goes by the name Sister, and their granddaughter Meg. As the group travels farther away from their town, the threat of attack from hostile Native American tribes becomes more prevalent until the group is eventually ambushed. Calvin does not survive the attack, but the others are protected by Leah, who has used witchcraft to provide their protection. All the while the others are unaware that Leah is using magic the keep them safe. The remaining members of the group are forced to abandon their trail along the riverbank, and take cover in the woods far from man made trails. At this time, Eloise's husband Marion Dalton returns home to find news that his wife was scheduled to be executed along with Will for affair and also learns that the two are on the run with others from the town. Marion pursues and eventually catches up to them. Leah wanders away from the group for a short while. By this time the Shawnee Indians have caught up to the group and Marion Dalton, who speaks fluently in many tribal languages, is able to convince the Shawnee to abort the attack, at lest for a short while, though Marion is certain the Shawnee will be back in bigger numbers. Leah returns covered in white feathers and Marion recognizes this as a warning from the Shawnee Indians to other members of the Shawnee tribe not to enter a nearby valley. Realizing that the Shawnee have superstitions about the valley, Marion leads the group into the valley, knowing that if the Shawnee were to return, they would not follow the pioneers into the valley because of various Native American superstition some of the tribes have in regards to this particular valley. Once the group settles in the deserted valley, they are safe from any and all tribes of Native Americans. Though the pioneers are no longer under the threat of attack from the Shawnee, they find a young Native American orphan on the outskirts of their camp. The pioneers are still unnerved by the previous attacks, but reluctantly bring the girl into the camp and care for her. It seems that only Will is pleased with the orphan's unexpected appearance, and he is delighted at the possibility of baptizing her into Christianity. Aside from Will, it seems the others in the group are unnerved by the orphan girl's presence. And Leah, who has an extraordinary connection to the supernatural, senses that there is something unusual about the Native American child, and Leah soon begins to have visions as she tries to uncover the motives of the orphan girl. Fanny disappears soon afterward, and her body is later found by Marion, with the help of Leah through her abilities and visions, though Fanny appears to be in a coma. Only when Fanny awakens do they realize that the warnings to stay away from the valley are founded on more than just mythology, coupled with the frightening revelation that the orphan girl is more than what she seems when the group is terrorized by an evil spirit that desires to make them all its living captives. \n",
            "\n",
            "Place: 2\n",
            "ID:  992\n",
            "Title:  Cat And Mouse\n",
            "Categories:  \"Romantic comedy\",  \"World cinema\",  \"Action/Adventure\",  \"Drama\",  \"Comedy\",  \"Romantic drama\",  \"Romance Film\",  \"Chinese Movies\"\n",
            "Summary:\n",
            " Zhan Zhao  is a court officer who learns of a plot to assassinate Judge Bao . While on holiday he meets a young man named Bai  who turns out to be a woman. Zhan Zhao tries to recruit Bai to help him stop the assassination of Judge Bao. \n",
            "\n",
            "Place: 3\n",
            "ID:  1693\n",
            "Title:  Song of the Islands\n",
            "Categories:  \"Musical\"\n",
            "Summary:\n",
            " Jeff Harper sails to the tropical paradise Ahmi-Oni with his sidekick Rusty. He is there on behalf of his father to bargain for land with Dennis O'Brien. Jeff however falls in love with O'Brien's daughter Eileen and it is then up to Jeff's father to go to the island and try to break them up. A task easier said than done because Jeff's father also falls under the spell of the beautiful splendor of the islands. \n",
            "\n",
            "Place: 4\n",
            "ID:  1530\n",
            "Title:  Città violenta\n",
            "Categories:  \"Thriller\",  \"Crime Thriller\",  \"Gangster Film\",  \"Crime Fiction\",  \"World cinema\"\n",
            "Summary:\n",
            " The film opens with professional assassin Jeff Heston  and mistress Vanessa  pursued mercilessly while holidaying in the Virgin Islands. Jeff is shot and left for dead, while Vanessa runs off with his shooter and former business associate Coogan. After his release from prison on a framed murder charge, Jeff tracks the pair to New Orleans. However, after taking revenge on his betrayer and reuniting with Vanessa, Jeff is blackmailed by the very crime boss  who framed him, took Vanessa as his mob wife, and who is now intent on having him join his organisation. When Jeff refuses, he is hunted through an unforgiving city only to discover that his real enemy is closer than he realised. \n",
            "\n",
            "Place: 5\n",
            "ID:  4277\n",
            "Title:  Tower of London\n",
            "Categories:  \"Drama\",  \"Costume drama\",  \"Horror\",  \"Black-and-white\"\n",
            "Summary:\n",
            " Richard, the duke of Gloucester , is dismayed when his dying brother King Edward IV names their brother George, Duke of Clarence as Protector to his young son and heir, Prince Edward. Richard wants the position himself, to become de facto ruler after his brother's death. He secretly stabs George to death with a dagger bearing the crest of the Woodville family, framing the dying king's in-laws. Richard is now named Protector. His wife Anne approves of his crime and encourages him to take the throne for himself. After the death of King Edward, Richard tries to achieve his ends by intimidating the widowed queen's lady-in-waiting Mistress Shore into claiming that the dead king's two children are illegitimate. She refuses, and Richard tortures her. After she dies on the rack, Richard claims he executed her for spreading the rumour that the princes were illegitimate. He says that the two princes should be placed in his protective custody. The ghosts of Clarence, King Edward and Mistress Shore haunt Richard, warning him that they will be revenged at \"Bosworth\". He is also told that he will be killed by a dead man. Shore's ghost merges with the body of Anne, and a semi-deranged Richard strangles his own wife, believing her to be Shore. Without his beloved Anne, he is struck with guilt and loneliness. Richard consults the Moorish physician and sorcerer Tyrus, who shows him visions of his future, including the prophecy that he will be king. Tyrus is disturbed by Richard's increasingly deranged demeanour. Fearful for the safety of the princes, he informs Sir Jasper, a young aristocrat who is looking after the lads. Jasper plots with his girlfriend, Lady Margaret, to rescue the princes. He manages to get the young Duke of York and his mother free, but he is trapped and captured with the child-king Edward. Lady Margaret, who has been sent to get aid from her father Lord Stanley, is also captured and imprisoned. Richard spares Jasper, because he needs him to negotiate with Stanley, who is witholding his support for the Protector. Richard forces the Archbishop to give up the Duke of York, who has sought church sanctuary in Westminster Abbey with his mother. Aided by his crony, Sir Ratcliffe, Richard then murders the two princes in their beds and proclaims himself king. The ghosts of the princes try to lure Richard to his death from the battlements of the Tower, but he is saved by Buckingham. Buckingham confides in Ratcliffe his doubts about Richard's sanity, suggesting that they should join Lord Stanley. Ratcliffe informs Richard, who has Buckingham tortured to death. Meanwhile, Tyrus helps Jasper to rescue Margaret, but is mortally wounded during the escape. Jasper and Margaret join Stanley to encourage him to topple Richard from the throne. Richard is crowned, but is still haunted by fear. Ratcliffe informs him that Stanley has marched to the village of Bosworth with an army. Richard declares that he will fight. When Ratcliffe learns that Stanley has been joined by the Earl of Richmond, he advises Richard to flee, but the king is convinced of his invincibility. At the Battle of Bosworth Field Richard is eventually left alone on the battlefield after his army has been defeated. The ghosts of his victims appear, and he attempts to fight them. Jasper, Stanley and Richmond watch as Richard swipes at thin air. The king attempts to mount a horse, but is thrown and killed by a battleaxe held by a dead soldier. \n",
            "\n"
          ]
        }
      ]
    },
    {
      "cell_type": "markdown",
      "metadata": {
        "id": "-LWP1-G34aS5"
      },
      "source": [
        "#Utilization"
      ]
    },
    {
      "cell_type": "markdown",
      "metadata": {
        "id": "iKfpM4uq4gsu"
      },
      "source": [
        "Αφού υλοποιήσετε τη συνάρτηση content_recommender χρησιμοποιήστε την για να βελτιστοποιήσετε την TfidfVectorizer. Συγκεκριμένα, αρχικά μπορείτε να δείτε τι επιστρέφει το σύστημα για τυχαίες ταινίες-στόχους και για ένα μικρό max_recommendations (2 ή 3). Αν σε κάποιες ταινίες το σύστημα μοιάζει να επιστρέφει σημασιολογικά κοντινές ταινίες σημειώστε το ID τους. Δοκιμάστε στη συνέχεια να βελτιστοποιήσετε την TfidfVectorizer για τα συγκεκριμένα ID ώστε να επιστρέφονται σημασιολογικά κοντινές ταινίες για μεγαλύτερο αριθμό max_recommendations. Παράλληλα, όσο βελτιστοποιείτε την TfidfVectorizer, θα πρέπει να λαμβάνετε καλές συστάσεις για μεγαλύτερο αριθμό τυχαίων ταινιών.\n",
        "\n",
        "Ταυτόχρονα, μια αντίρροπη κατά κάποιο τρόπο κατεύθυνση της βελτιστοποίησης είναι να χρησιμοποιείτε τις παραμέτρους του TfidfVectorizer έτσι ώστε να μειώνονται οι διαστάσεις του Vector Space Model μέχρι το σημείο που θα αρχίσει να εμφανίζονται επιπτώσεις στην ποιότητα των συστάσεων."
      ]
    },
    {
      "cell_type": "code",
      "metadata": {
        "id": "LR0QoeBlTF6G"
      },
      "source": [
        "def similar_movies(count):\n",
        "  movie_list = []\n",
        "\n",
        "  for i in range(0, 5000): # for all movies\n",
        "    cnt = count\n",
        "\n",
        "    cosine_similarities = linear_kernel(corpus_tf_idf[i], corpus_tf_idf).flatten()  # find best matches\n",
        "    cosine_similarities = (-cosine_similarities).argsort()\n",
        "    \n",
        "    categs = categories[i][0]\n",
        "    categs = categs.split(\",\")\n",
        "    \n",
        "    for category in categs: # find categories similar between th movie and the 3 top matches\n",
        "      if category.lstrip(' ') in (categories[cosine_similarities[1]][0]) and category.lstrip(' ') in (categories[cosine_similarities[2]][0]) and category.lstrip(' ') in (categories[cosine_similarities[3]][0]):\n",
        "        cnt = cnt - 1\n",
        "      if cnt == 0: # if count similar categories are found append the movie to movie_list\n",
        "        movie_list.append(i)\n",
        "        break\n",
        "\n",
        "  return movie_list"
      ],
      "execution_count": 14,
      "outputs": []
    },
    {
      "cell_type": "markdown",
      "metadata": {
        "id": "ykin5Alu6A4h"
      },
      "source": [
        "we add to stop words list English names to avoid the resemblansh of the movies been based on common names"
      ]
    },
    {
      "cell_type": "code",
      "metadata": {
        "id": "utsJ-WcnTscL"
      },
      "source": [
        "import urllib.request \n",
        "import string\n",
        "\n",
        "# female english names\n",
        "target_url = \"http://www.cs.cmu.edu/Groups/AI/util/areas/nlp/corpora/names/female.txt\"\n",
        "response = urllib.request.urlopen(target_url).read().decode()\n",
        "lines_temp = response.split('\\n')\n",
        "names = []\n",
        "\n",
        "for line in lines_temp:\n",
        "  if line and line[0] != \"#\":\n",
        "    names.append(line.lower())\n",
        "\n",
        "# male english names\n",
        "target_url = \"http://www.cs.cmu.edu/Groups/AI/util/areas/nlp/corpora/names/male.txt\"\n",
        "response = urllib.request.urlopen(target_url).read().decode()\n",
        "lines_temp = response.split('\\n')\n",
        "\n",
        "for line in lines_temp:\n",
        "  if line and line[0] != \"#\":\n",
        "    names.append(line.lower())\n"
      ],
      "execution_count": 15,
      "outputs": []
    },
    {
      "cell_type": "code",
      "metadata": {
        "id": "GSGK6X-Aj04f",
        "colab": {
          "base_uri": "https://localhost:8080/"
        },
        "outputId": "294cd93d-aa0c-40b5-b2aa-6616ea0d62a6"
      },
      "source": [
        "corpus_tf_idf = tf_idf(1.0, 0, names)"
      ],
      "execution_count": 18,
      "outputs": [
        {
          "output_type": "stream",
          "name": "stderr",
          "text": [
            "/usr/local/lib/python3.7/dist-packages/sklearn/feature_extraction/text.py:401: UserWarning: Your stop_words may be inconsistent with your preprocessing. Tokenizing the stop words generated tokens ['luc', 'mar', 'zsa'] not in stop_words.\n",
            "  % sorted(inconsistent)\n"
          ]
        },
        {
          "output_type": "stream",
          "name": "stdout",
          "text": [
            "Dimensions:  (5000, 45559) \n",
            "\n"
          ]
        }
      ]
    },
    {
      "cell_type": "markdown",
      "metadata": {
        "id": "gC-EbaII6oFR"
      },
      "source": [
        "We see a decrease at the collumns , about 3000"
      ]
    },
    {
      "cell_type": "code",
      "metadata": {
        "id": "zebv_cqqevcu",
        "colab": {
          "base_uri": "https://localhost:8080/"
        },
        "outputId": "2c0e98c2-2b7f-4731-d647-25b32eb368e2"
      },
      "source": [
        "content_recommender(10, 3, corpus_tf_idf)"
      ],
      "execution_count": 19,
      "outputs": [
        {
          "output_type": "stream",
          "name": "stdout",
          "text": [
            "ID:  10\n",
            "Title:  Como Esquecer\n",
            "Categories:  \"Drama\"\n",
            "Summary:\n",
            " Julia  is a professor of English literature who is abandoned by her girlfriend after a relationship that lasted over ten years. Because of the separation, Julie moves to Rio de Janeiro and lives with her best friend, Hugo , who is gay, and Lisa . In the new work, Julia ends up attracting the interest of two students, and it is Helena  who is after the teacher, although she did not feel prepared for a new relationship. \n",
            "\n",
            "Place: 1\n",
            "ID:  4711\n",
            "Title:  Only When I Dance\n",
            "Categories:  \"Documentary\"\n",
            "Summary:\n",
            " Only When I Dance tells the story of two teenagers, Irlan and Isabela, who pursue their dreams of becoming professional ballet dancers as a way to escape the violent slums of Rio de Janeiro. \n",
            "\n",
            "Place: 2\n",
            "ID:  3855\n",
            "Title:  Love, in between\n",
            "Categories:  \"Romance Film\",  \"Drama\"\n",
            "Summary:\n",
            " When the wife of a university professor discovered her husband is having affair with his student she meets his lover they become friends and the relationship between these two women become closer. \n",
            "\n",
            "Place: 3\n",
            "ID:  1356\n",
            "Title:  School of Life\n",
            "Categories:  \"Television movie\",  \"Family Drama\",  \"Sports\",  \"Drama\",  \"Comedy\",  \"Family Film\"\n",
            "Summary:\n",
            " At Fallbrook Middle School, the annual student-elected Teacher of the Year award ceremony is held. Every year for the last 43 years, Norman Warner, fondly called Stormin' Norman, has won the award. During the ceremony, he collapses and dies. The burden of carrying the legacy falls to Matt Warner, son of the late Norman Warner who has always lived in the shadow of his father. Determined to keep the family tradition of being Teacher of the Year alive, Matt focuses all his attention and efforts in winning the coveted title. But the new history teacher, Mr. Michael D'Angelo becomes the new student favorite. He is called, even by fellow and senior teachers, \"Mr. D\". Young, funny, with unconventional methods of teaching and an uncanny ability to connect with his students, Mr. D. quickly wins the hearts not only of the students but also the teachers, especially the young art teacher, Ms. Davies. Now that Mr. D. is the most popular teacher on campus, Matt feels that he has no chances of winning against Mr. D. Now obsessed with discrediting Mr. D, Matt soon forgets what it means to be a teacher. Desperate to find a flaw in \"Mr Perfect\", Matt follows Mr. D around town and discovers a secret the alarmingly perfect teacher is hiding: Mr. D has been diagnosed with inoperable lung cancer and does not have long to live. Shocked by the startling discovery into realizing his own pettiness, Matt slowly changes his ways of teaching and in the process wins the hearts of his students. When Mr. D stops coming to teach because of his worsening illness, the students become depressed by the situation. Matt steps in to cheer up the student's spirits and leads the basketball team to a victory with a special guest appearance with 30 seconds left in the game by Mr. D. The film concludes after three years have passed and Matt's own son is now in high school, and Matt is teaching a brand new year of pupils in his life science class. He has won the Teacher of the Year for the last two years, Mr. D having won the award in the school year of 2003. The art teacher, Ms. Davies, inherited Mr. D's car. The film ends with a close-up of a photo in Matt's classroom of himself, Mr. D, and the basketball team with \"Michael D'Angelo 1967-2003\" inscribed on the bottom of the frame. \n",
            "\n"
          ]
        }
      ]
    },
    {
      "cell_type": "markdown",
      "metadata": {
        "id": "A_Ww8-Sd8H0p"
      },
      "source": [
        "#min_df"
      ]
    },
    {
      "cell_type": "markdown",
      "metadata": {
        "id": "AeFzaLnv8cnI"
      },
      "source": [
        "Ο αποκλεισμός των λιγότερο συχνών λέξεων βοηθά σε κάποιες περιπτώσεις καθώς αποκλείει σπάνιες λέξεις που δεν προσφέρουν στο νόημα, ενώ σε άλλες κάνει το ίδιο αλλά με λέξεις που συσχετίζουν μικρό αριθμό ταινιών της ίδιας κατηγορίας οδηγώντας σε χειρότερα αποτελέσματα."
      ]
    },
    {
      "cell_type": "code",
      "metadata": {
        "id": "XgYb2Uv-rpiy",
        "colab": {
          "base_uri": "https://localhost:8080/"
        },
        "outputId": "39213767-5b7d-4091-eb48-f778adcabc40"
      },
      "source": [
        "corpus_tf_idf = tf_idf(1.0, 2, names)"
      ],
      "execution_count": 20,
      "outputs": [
        {
          "output_type": "stream",
          "name": "stderr",
          "text": [
            "/usr/local/lib/python3.7/dist-packages/sklearn/feature_extraction/text.py:401: UserWarning: Your stop_words may be inconsistent with your preprocessing. Tokenizing the stop words generated tokens ['luc', 'mar', 'zsa'] not in stop_words.\n",
            "  % sorted(inconsistent)\n"
          ]
        },
        {
          "output_type": "stream",
          "name": "stdout",
          "text": [
            "Dimensions:  (5000, 22761) \n",
            "\n"
          ]
        }
      ]
    },
    {
      "cell_type": "markdown",
      "metadata": {
        "id": "HOCYzA_l810N"
      },
      "source": [
        "In this case we succeded better results with that method "
      ]
    },
    {
      "cell_type": "code",
      "metadata": {
        "colab": {
          "base_uri": "https://localhost:8080/"
        },
        "id": "K2w2QSvR8iAn",
        "outputId": "d5c7c589-623d-4e1c-9870-f307ac619db2"
      },
      "source": [
        "content_recommender(46, 3, corpus_tf_idf)"
      ],
      "execution_count": 21,
      "outputs": [
        {
          "output_type": "stream",
          "name": "stdout",
          "text": [
            "ID:  46\n",
            "Title:  Rajakumaran\n",
            "Categories:  \"Drama\"\n",
            "Summary:\n",
            " Rajakumaran ([[Prabhu  is the son of the village chief ([[Vijayakumar . Yuvaraj  hates Rajakumaran and his village. Selvi  and Vaidehi  are in love with their cousin Rajakumaran but he chooses Vaidehi. Selvi decides to sacrifice her love, her father Selvaraj  refuses to give his property to village people as promised and his only request is that Rajakumaran gets married with Selvi. Selvi convinced Rajakumaran to lie, he lies to her father and he gives his property. Vaidehi committed suicide and Rajakumaran reveals his lie. One day, some goons decide to put a bomb and Rajakumaran saves the village. The village thinks that the culprit was Thangaraj  because he wanted to revenge Rajakumaran after his lie. Angry, Thangaraj insults Rajakumaran's father in public and Rajakumaran's father died. Yuvaraj asks to Selvaraj and Thangaraj to marry Selvi, and they accept. The village was against the marriage. A man  came and said that a deaf-mute girl, who learnt to read and to write, was the witness of Vaidehi's murder by Yuvaraj. On the marriage day, Yuvaraj cancelled the marriage and decided to humiliate Selvi. Rajakumaran saves her and he decides to marry her. \n",
            "\n",
            "Place: 1\n",
            "ID:  2648\n",
            "Title:  Eththan\n",
            "Categories:  \"Drama\"\n",
            "Summary:\n",
            " Sathyamurthy alias Sathya  is the son of a school teacher  in Kumbakonam. Sathya is a happy-go-lucky youngster, who yearns to do business. To achieve his 'mission', he borrows money from all quarters and is almost drowned in debts. Even as his father advices him to start leading life in a right manner, enters Selvi , a student. Sathya gets acquainted to Selvi and his life takes a turn. Meanwhile, Selvi is in trouble because her uncle Pandiyan, a rowdy wants her to marry him. This proposal was constantly ignored by Selvi, she hated Pandiyan with her whole heart because he killed her father in front of her. One day while goofing around with Sathya, Selvi loses the necklace that Pandiyan had given her. She was Both Sathya and Selvi escape to Chennai, but Pandiyan and a corrupt inspector comes and troubles them. Sathya brilliantly switch on the police's cordless phone through which inspector  comes to know about Pandiyan and arrests him. The film ends with Sathya opening a cable TV station and becomes successful. \n",
            "\n",
            "Place: 2\n",
            "ID:  225\n",
            "Title:  Nakshathrakkannulla Rajakumaran Avanundoru Rajakumari\n",
            "Categories:  \"Romance Film\",  \"Drama\",  \"Comedy\"\n",
            "Summary:\n",
            " Nakshathrakkannulla Rajakumaran Avanundoru Rajakumari revolves around a family that claims that they are the descendants of the brave chekavars, who were the warriors of the Vadakkanpaattu. Bhageerathi Amma  has two sons, Veerabhadra Kurup  and Kochchukurup , and a daughter Subhadra, who constantly feud with each other. The elder Kurup’s daughter Aswathy  is in love with her muracherukkan, Subhadra’s son Ananthu , but their parents object to the match. They are encouraged by Chandutty , Bhaskaran  and Shankunni . They hope that Aswathy’s brother Karthik  will come to their rescue. But he turns against the lovers on the advice of his father. Suddenly, Raziya Begum  turns up, claiming to be Karthik’s lover. Ananthu and his gang use this opportunity to fix Karthik, and Kochukurup gives them a lot of muscle support. After a lot of buffoonery and mistaken identity, the couple are united. \n",
            "\n",
            "Place: 3\n",
            "ID:  3423\n",
            "Title:  Utharaswayamvaram\n",
            "Categories:  \"Drama\"\n",
            "Summary:\n",
            " The story is about Prakash  whose father, Sreedhara Menon, runs a supermarket. Prakash’s father wants him to become an officer but Prakash’s interests lie elsewhere. After graduation, he is more interested in the activities of the village Arts club, than in looking for a job. He falls for a village girl, Uthara . But her rich father, Mahadevan fixes her marriage with another rich boy. The story builds up from here on. Lots of twists and turns later, Prakashan marries his dream-girl, but their marriage doesn't last even for a day. \n",
            "\n"
          ]
        }
      ]
    },
    {
      "cell_type": "code",
      "metadata": {
        "id": "s3Hk3V18tJx6",
        "colab": {
          "base_uri": "https://localhost:8080/"
        },
        "outputId": "80f26ad0-0e7e-4c37-c1e4-135119eca9b1"
      },
      "source": [
        "corpus_tf_idf = tf_idf(1.0, 15, names)"
      ],
      "execution_count": 23,
      "outputs": [
        {
          "output_type": "stream",
          "name": "stderr",
          "text": [
            "/usr/local/lib/python3.7/dist-packages/sklearn/feature_extraction/text.py:401: UserWarning: Your stop_words may be inconsistent with your preprocessing. Tokenizing the stop words generated tokens ['luc', 'mar', 'zsa'] not in stop_words.\n",
            "  % sorted(inconsistent)\n"
          ]
        },
        {
          "output_type": "stream",
          "name": "stdout",
          "text": [
            "Dimensions:  (5000, 5596) \n",
            "\n"
          ]
        }
      ]
    },
    {
      "cell_type": "code",
      "metadata": {
        "colab": {
          "base_uri": "https://localhost:8080/"
        },
        "id": "WQTg8KbB9IH2",
        "outputId": "7c95a9ee-3781-428a-f255-6f27255f7197"
      },
      "source": [
        "content_recommender(46, 3, corpus_tf_idf)"
      ],
      "execution_count": 24,
      "outputs": [
        {
          "output_type": "stream",
          "name": "stdout",
          "text": [
            "ID:  46\n",
            "Title:  Rajakumaran\n",
            "Categories:  \"Drama\"\n",
            "Summary:\n",
            " Rajakumaran ([[Prabhu  is the son of the village chief ([[Vijayakumar . Yuvaraj  hates Rajakumaran and his village. Selvi  and Vaidehi  are in love with their cousin Rajakumaran but he chooses Vaidehi. Selvi decides to sacrifice her love, her father Selvaraj  refuses to give his property to village people as promised and his only request is that Rajakumaran gets married with Selvi. Selvi convinced Rajakumaran to lie, he lies to her father and he gives his property. Vaidehi committed suicide and Rajakumaran reveals his lie. One day, some goons decide to put a bomb and Rajakumaran saves the village. The village thinks that the culprit was Thangaraj  because he wanted to revenge Rajakumaran after his lie. Angry, Thangaraj insults Rajakumaran's father in public and Rajakumaran's father died. Yuvaraj asks to Selvaraj and Thangaraj to marry Selvi, and they accept. The village was against the marriage. A man  came and said that a deaf-mute girl, who learnt to read and to write, was the witness of Vaidehi's murder by Yuvaraj. On the marriage day, Yuvaraj cancelled the marriage and decided to humiliate Selvi. Rajakumaran saves her and he decides to marry her. \n",
            "\n",
            "Place: 1\n",
            "ID:  3423\n",
            "Title:  Utharaswayamvaram\n",
            "Categories:  \"Drama\"\n",
            "Summary:\n",
            " The story is about Prakash  whose father, Sreedhara Menon, runs a supermarket. Prakash’s father wants him to become an officer but Prakash’s interests lie elsewhere. After graduation, he is more interested in the activities of the village Arts club, than in looking for a job. He falls for a village girl, Uthara . But her rich father, Mahadevan fixes her marriage with another rich boy. The story builds up from here on. Lots of twists and turns later, Prakashan marries his dream-girl, but their marriage doesn't last even for a day. \n",
            "\n",
            "Place: 2\n",
            "ID:  681\n",
            "Title:  Maayi\n",
            "Categories:  \"Action\",  \"Drama\"\n",
            "Summary:\n",
            " Maayi  is the well-respected, do-gooder in the village. He sees women in the village as his sisters and even conducts their marriages. He is a man who is ready to kill his father when he learns that he had a second wife. But the father opts to kill himself rather than face his son and so, Maayi brings his stepsister Lakshmi  to live with him. When the local MLA comes to him for support, he refuses and the MLA loses the election. But his son, who admires Maayi, marries Lakshmi. Meanwhile Bhuvaneswari , Maayi's sister's daughter, who comes to the village from Bangalore, wishes to marry him. Revealing his sad past, Maayi tells her why he can never think of marrying any woman. Later Meena was forced to married another guy. But during the marriage the guys family misunderstood that Meena and Sarathkumar are lovers and stopped the marriage. In the end; Sarathkumar married Meena. \n",
            "\n",
            "Place: 3\n",
            "ID:  3166\n",
            "Title:  Shatru\n",
            "Categories:  \"Action\",  \"Drama\",  \"Adventure\"\n",
            "Summary:\n",
            " There is a village named Haridaspur where, Ashok Sharma  has been posted as an Inspector in charge. When he arrives in the remote village, he comes to the rescue of a blind man and a widow, and has a fist fight with Nishikant Shah and his men. The immediate next day, Shah finds out that the person with whom his men fought with was Ashok itself. Then to make friendship with Ashok, he goes to pay homage, but Ashok refuses. After string of incidences Ashok comes to know of all the bad activities carried out by Nishikant Shah and MLA Gopal Choudary . Ashok then realises he has to help the people of the village from getting exploited from these rich men. Meanwhile he starts to live in the village as a paying guest at the house of a girl Asha and also gets fond of an orphan child from the village named Chotu. Ashok then learns that Chotu's father was a loyal farmer who was duped and was killed by Nishikant's men. He even promises Chotu of bringing the culprits to book. Somehow then Shah and his friend Choudhry manage to put Ashok in trouble by fixing a blame on him of killing a man in his custody. Due to this he then faces a situation where he could lose his job and his good reputation too. \n",
            "\n"
          ]
        }
      ]
    },
    {
      "cell_type": "markdown",
      "metadata": {
        "id": "erXpl27n9LIl"
      },
      "source": [
        "In this case althouth we see that we don't only get drama recommendations"
      ]
    },
    {
      "cell_type": "markdown",
      "metadata": {
        "id": "kgpS-3339tNR"
      },
      "source": [
        "with continuous trys we conclude that the best result is taken when min-df is 5/6"
      ]
    },
    {
      "cell_type": "code",
      "metadata": {
        "colab": {
          "base_uri": "https://localhost:8080/"
        },
        "id": "OQKYp22I99SC",
        "outputId": "b678a50c-5c8c-421b-8a6a-ce96ec2426eb"
      },
      "source": [
        "corpus_tf_idf = tf_idf(1.0, 6, names)"
      ],
      "execution_count": 27,
      "outputs": [
        {
          "output_type": "stream",
          "name": "stderr",
          "text": [
            "/usr/local/lib/python3.7/dist-packages/sklearn/feature_extraction/text.py:401: UserWarning: Your stop_words may be inconsistent with your preprocessing. Tokenizing the stop words generated tokens ['luc', 'mar', 'zsa'] not in stop_words.\n",
            "  % sorted(inconsistent)\n"
          ]
        },
        {
          "output_type": "stream",
          "name": "stdout",
          "text": [
            "Dimensions:  (5000, 10673) \n",
            "\n"
          ]
        }
      ]
    },
    {
      "cell_type": "code",
      "metadata": {
        "colab": {
          "base_uri": "https://localhost:8080/"
        },
        "id": "IdpY27rx-DCz",
        "outputId": "6144ba37-59ca-40ef-ca8b-69b3f1905420"
      },
      "source": [
        "content_recommender(46, 3, corpus_tf_idf)"
      ],
      "execution_count": 28,
      "outputs": [
        {
          "output_type": "stream",
          "name": "stdout",
          "text": [
            "ID:  46\n",
            "Title:  Rajakumaran\n",
            "Categories:  \"Drama\"\n",
            "Summary:\n",
            " Rajakumaran ([[Prabhu  is the son of the village chief ([[Vijayakumar . Yuvaraj  hates Rajakumaran and his village. Selvi  and Vaidehi  are in love with their cousin Rajakumaran but he chooses Vaidehi. Selvi decides to sacrifice her love, her father Selvaraj  refuses to give his property to village people as promised and his only request is that Rajakumaran gets married with Selvi. Selvi convinced Rajakumaran to lie, he lies to her father and he gives his property. Vaidehi committed suicide and Rajakumaran reveals his lie. One day, some goons decide to put a bomb and Rajakumaran saves the village. The village thinks that the culprit was Thangaraj  because he wanted to revenge Rajakumaran after his lie. Angry, Thangaraj insults Rajakumaran's father in public and Rajakumaran's father died. Yuvaraj asks to Selvaraj and Thangaraj to marry Selvi, and they accept. The village was against the marriage. A man  came and said that a deaf-mute girl, who learnt to read and to write, was the witness of Vaidehi's murder by Yuvaraj. On the marriage day, Yuvaraj cancelled the marriage and decided to humiliate Selvi. Rajakumaran saves her and he decides to marry her. \n",
            "\n",
            "Place: 1\n",
            "ID:  3233\n",
            "Title:  The Story of Qiu Ju\n",
            "Categories:  \"Art film\",  \"World cinema\",  \"Comedy-drama\",  \"Satire\",  \"Drama\",  \"Comedy\",  \"Chinese Movies\"\n",
            "Summary:\n",
            " Qiu Ju is a peasant who lives in a small farming enclave with her husband Qinglai, his sister and their father. She is in the final trimester of her first pregnancy. One day while her husband is conversing to Wang Shantang, the head of the community, a miscommunication ensues. Qinglai's comment that Shantang \"only breeds hens\", was misconstrued to reflect on a perceived inability of the chieftain to produce a son . The minor municipality leader is insulted by this inference and beats Qinglai, kicking him so severely in the groin that he must see a doctor and remain absent from his work. Because of this injustice, Qiu Ju sets forth to extract an explanation from Wang Shantang, one which the village head is unwilling to supply. Qiu Ju, determined to right this wrong, goes to the local police office and complains. The policeman for their area comes up with a solution: the village chief must pay 200 yuan to Qinglai. When Qiu Ju goes to the headman, he insultingly throws the 200 yuan notes onto the ground and refuses to apologize. Qiu Ju then goes to the provincial capital accompanied by her husbands' younger sister, Meizi. To raise money for the trip she sells some of the dried hot peppers which are produced on the family farm for cash. This process is one that she and Meizi repeat several times more. Taking the bus to the big city she and her sister are obviously \"country folk\" as the city people are dressed in a more modern fashion. By luck the two women find lodging at a cheap hotel where the manager helps them by giving them the address of the head of the district police. The two women meet him and he promises them that their case will be reviewed. Weeks later the new verdict from the district police is nearly the same as the previous, but this time the village headman must pay 250 yuan. He still refuses to apologize and so Qiu Ju goes back to the big city, this time against the wishes of her own husband . Qiu Ju finds a lawyer who takes the case and files suit under a new law. The case is judged by the court as having been correctly resolved in by the district, the fine remains at 250 yuan, Qiu Ju is unhappy but all she can do is make yet another appeal to an even higher level of police investigation. As part of the suit, officials come to the village and Qiu Ju's husband is X-rayed at the local hospital. Its now the middle of winter, Qiu Ju goes into labor and experiences complications. The village headman is woken at night by Qiu Ju's husband's father who begs the village chief to do something. Grumbling, he sets off in the night, through the snow, rounds up a group of local men , and returns to the village. They then carry Qiu Ju, by hand, on a stretcher through the snow to the hospital, where she gives birth safely to a healthy baby boy. A month later the whole village is invited to the \"one month party\" for the baby boy and the village headman is begged to come to the party as Qiu Ju and her husband all admit that the village chief saved Qiu Ju's life. But he doesn't come, and the local policeman shows up to tell Qiu Ju that the X-rays revealed her husband had a broken rib. As a result, the village chief is being sent to jail on a fifteen-day-term. Qiu Ju, runs off to try and stop the police from taking the headman away but never even sees the police and the movie ends on a freeze-frame of Qiu Ju with an expression of anguish on her face. \n",
            "\n",
            "Place: 2\n",
            "ID:  3423\n",
            "Title:  Utharaswayamvaram\n",
            "Categories:  \"Drama\"\n",
            "Summary:\n",
            " The story is about Prakash  whose father, Sreedhara Menon, runs a supermarket. Prakash’s father wants him to become an officer but Prakash’s interests lie elsewhere. After graduation, he is more interested in the activities of the village Arts club, than in looking for a job. He falls for a village girl, Uthara . But her rich father, Mahadevan fixes her marriage with another rich boy. The story builds up from here on. Lots of twists and turns later, Prakashan marries his dream-girl, but their marriage doesn't last even for a day. \n",
            "\n",
            "Place: 3\n",
            "ID:  3923\n",
            "Title:  Narendra Makan Jayakanthan Vaka\n",
            "Categories:  \"Drama\",  \"Comedy\",  \"Bollywood\"\n",
            "Summary:\n",
            " The story is about Jayakanthan  who comes to claim his father Narendran's property in their native village. There he meets Vinodini  who is the panchayat president and a strict follower of the rules. Swathi  is Jayakanthan's cousin and her father Balakrishnan Nambiar  is worried that Jayakanthan has come to marry her and inherit their property. Bhargavan  has usurped Narendran's land, but Jayakanthan is unaware of this and becomes his good friend. The remaining of the plot is about how things fall into place. \n",
            "\n"
          ]
        }
      ]
    },
    {
      "cell_type": "markdown",
      "metadata": {
        "id": "sIoE8JfM-Uw0"
      },
      "source": [
        "Για να επιβεβαιώσουμε την σωστή τιμή του min_df, η οποία επηρεάζει τη διαστατικότητα του πίνακα και άρα και το χρόνο εκπαίδευσης εκτυπώνουμε τα μεγέθη των λιστών που δίνει η συνάρτηση similar_movies που φτιάξαμε, συναρτήσει της min_df, για αριθμό κοινών ειδών μεταξύ των ταινιών 2 και 3."
      ]
    },
    {
      "cell_type": "code",
      "metadata": {
        "colab": {
          "base_uri": "https://localhost:8080/",
          "height": 1000
        },
        "id": "0YjLj8L2-VoZ",
        "outputId": "2a758fa7-b3b8-4c66-dca8-e82d4132d004"
      },
      "source": [
        "import matplotlib.pyplot as plt\n",
        "\n",
        "length_2 = []\n",
        "length_3 = []\n",
        "min_dfs = [1,2,3,4,5,6,7,8,9,10]\n",
        "for min_df in min_dfs:\n",
        "  corpus_tf_idf = tf_idf(1.0, min_df, names)\n",
        "  temp = []\n",
        "  length_2.append(len(similar_movies(2)))\n",
        "  length_3.append(len(similar_movies(3)))\n",
        "  \n",
        "\n",
        "plt.plot(min_dfs, length_2)\n",
        "plt.plot(min_dfs, length_3)\n",
        "plt.xlabel('min_df')\n",
        "plt.ylabel('Number of Similar Movies')\n",
        "plt.title('Recommendations Quality to min_df')\n",
        "plt.legend(['2 same genres', '3 same genres'], loc='center right')\n",
        "plt.show()"
      ],
      "execution_count": 29,
      "outputs": [
        {
          "output_type": "stream",
          "name": "stderr",
          "text": [
            "/usr/local/lib/python3.7/dist-packages/sklearn/feature_extraction/text.py:401: UserWarning: Your stop_words may be inconsistent with your preprocessing. Tokenizing the stop words generated tokens ['luc', 'mar', 'zsa'] not in stop_words.\n",
            "  % sorted(inconsistent)\n"
          ]
        },
        {
          "output_type": "stream",
          "name": "stdout",
          "text": [
            "Dimensions:  (5000, 45559) \n",
            "\n"
          ]
        },
        {
          "output_type": "stream",
          "name": "stderr",
          "text": [
            "/usr/local/lib/python3.7/dist-packages/sklearn/feature_extraction/text.py:401: UserWarning: Your stop_words may be inconsistent with your preprocessing. Tokenizing the stop words generated tokens ['luc', 'mar', 'zsa'] not in stop_words.\n",
            "  % sorted(inconsistent)\n"
          ]
        },
        {
          "output_type": "stream",
          "name": "stdout",
          "text": [
            "Dimensions:  (5000, 22761) \n",
            "\n"
          ]
        },
        {
          "output_type": "stream",
          "name": "stderr",
          "text": [
            "/usr/local/lib/python3.7/dist-packages/sklearn/feature_extraction/text.py:401: UserWarning: Your stop_words may be inconsistent with your preprocessing. Tokenizing the stop words generated tokens ['luc', 'mar', 'zsa'] not in stop_words.\n",
            "  % sorted(inconsistent)\n"
          ]
        },
        {
          "output_type": "stream",
          "name": "stdout",
          "text": [
            "Dimensions:  (5000, 16968) \n",
            "\n"
          ]
        },
        {
          "output_type": "stream",
          "name": "stderr",
          "text": [
            "/usr/local/lib/python3.7/dist-packages/sklearn/feature_extraction/text.py:401: UserWarning: Your stop_words may be inconsistent with your preprocessing. Tokenizing the stop words generated tokens ['luc', 'mar', 'zsa'] not in stop_words.\n",
            "  % sorted(inconsistent)\n"
          ]
        },
        {
          "output_type": "stream",
          "name": "stdout",
          "text": [
            "Dimensions:  (5000, 13961) \n",
            "\n"
          ]
        },
        {
          "output_type": "stream",
          "name": "stderr",
          "text": [
            "/usr/local/lib/python3.7/dist-packages/sklearn/feature_extraction/text.py:401: UserWarning: Your stop_words may be inconsistent with your preprocessing. Tokenizing the stop words generated tokens ['luc', 'mar', 'zsa'] not in stop_words.\n",
            "  % sorted(inconsistent)\n"
          ]
        },
        {
          "output_type": "stream",
          "name": "stdout",
          "text": [
            "Dimensions:  (5000, 12032) \n",
            "\n"
          ]
        },
        {
          "output_type": "stream",
          "name": "stderr",
          "text": [
            "/usr/local/lib/python3.7/dist-packages/sklearn/feature_extraction/text.py:401: UserWarning: Your stop_words may be inconsistent with your preprocessing. Tokenizing the stop words generated tokens ['luc', 'mar', 'zsa'] not in stop_words.\n",
            "  % sorted(inconsistent)\n"
          ]
        },
        {
          "output_type": "stream",
          "name": "stdout",
          "text": [
            "Dimensions:  (5000, 10673) \n",
            "\n"
          ]
        },
        {
          "output_type": "stream",
          "name": "stderr",
          "text": [
            "/usr/local/lib/python3.7/dist-packages/sklearn/feature_extraction/text.py:401: UserWarning: Your stop_words may be inconsistent with your preprocessing. Tokenizing the stop words generated tokens ['luc', 'mar', 'zsa'] not in stop_words.\n",
            "  % sorted(inconsistent)\n"
          ]
        },
        {
          "output_type": "stream",
          "name": "stdout",
          "text": [
            "Dimensions:  (5000, 9653) \n",
            "\n"
          ]
        },
        {
          "output_type": "stream",
          "name": "stderr",
          "text": [
            "/usr/local/lib/python3.7/dist-packages/sklearn/feature_extraction/text.py:401: UserWarning: Your stop_words may be inconsistent with your preprocessing. Tokenizing the stop words generated tokens ['luc', 'mar', 'zsa'] not in stop_words.\n",
            "  % sorted(inconsistent)\n"
          ]
        },
        {
          "output_type": "stream",
          "name": "stdout",
          "text": [
            "Dimensions:  (5000, 8792) \n",
            "\n"
          ]
        },
        {
          "output_type": "stream",
          "name": "stderr",
          "text": [
            "/usr/local/lib/python3.7/dist-packages/sklearn/feature_extraction/text.py:401: UserWarning: Your stop_words may be inconsistent with your preprocessing. Tokenizing the stop words generated tokens ['luc', 'mar', 'zsa'] not in stop_words.\n",
            "  % sorted(inconsistent)\n"
          ]
        },
        {
          "output_type": "stream",
          "name": "stdout",
          "text": [
            "Dimensions:  (5000, 8111) \n",
            "\n"
          ]
        },
        {
          "output_type": "stream",
          "name": "stderr",
          "text": [
            "/usr/local/lib/python3.7/dist-packages/sklearn/feature_extraction/text.py:401: UserWarning: Your stop_words may be inconsistent with your preprocessing. Tokenizing the stop words generated tokens ['luc', 'mar', 'zsa'] not in stop_words.\n",
            "  % sorted(inconsistent)\n"
          ]
        },
        {
          "output_type": "stream",
          "name": "stdout",
          "text": [
            "Dimensions:  (5000, 7551) \n",
            "\n"
          ]
        },
        {
          "output_type": "display_data",
          "data": {
            "image/png": "[encoded data removed]",
            "text/plain": [
              "<Figure size 432x288 with 1 Axes>"
            ]
          },
          "metadata": {
            "needs_background": "light"
          }
        }
      ]
    },
    {
      "cell_type": "code",
      "metadata": {
        "id": "R2sllZkaLS8B",
        "colab": {
          "base_uri": "https://localhost:8080/"
        },
        "outputId": "94a62184-2e80-41ae-9937-461a2229e307"
      },
      "source": [
        "print(length_2)\n",
        "print(length_3)"
      ],
      "execution_count": 30,
      "outputs": [
        {
          "output_type": "stream",
          "name": "stdout",
          "text": [
            "[112, 117, 115, 128, 130, 117, 120, 122, 131, 121]\n",
            "[41, 38, 40, 42, 37, 31, 33, 34, 38, 34]\n"
          ]
        }
      ]
    },
    {
      "cell_type": "markdown",
      "metadata": {
        "id": "EUdpY9xWDDQm"
      },
      "source": [
        "Παρατηρούμε γενικά μείωση της ποιότητας των επιλογών με την αύξηση του min_df, με μία μικρή αύξηση όμως στις τιμές για count = 2 και min_df μεταξύ 4 και 8. Για count = 3 παρατηρείται μείωση της ποιότητας. Έτσι οι παρατηρήσεις μας επιβεβαιώνονται."
      ]
    },
    {
      "cell_type": "markdown",
      "metadata": {
        "id": "rylzkeiBDF2x"
      },
      "source": [
        "#10 Good recommendations"
      ]
    },
    {
      "cell_type": "code",
      "metadata": {
        "colab": {
          "base_uri": "https://localhost:8080/"
        },
        "id": "4YXKPnGuDKtJ",
        "outputId": "c80507a2-fb69-4a34-8b7d-26953481ea02"
      },
      "source": [
        "corpus_tf_idf = tf_idf(1.0, 6, names)"
      ],
      "execution_count": 31,
      "outputs": [
        {
          "output_type": "stream",
          "name": "stderr",
          "text": [
            "/usr/local/lib/python3.7/dist-packages/sklearn/feature_extraction/text.py:401: UserWarning: Your stop_words may be inconsistent with your preprocessing. Tokenizing the stop words generated tokens ['luc', 'mar', 'zsa'] not in stop_words.\n",
            "  % sorted(inconsistent)\n"
          ]
        },
        {
          "output_type": "stream",
          "name": "stdout",
          "text": [
            "Dimensions:  (5000, 10673) \n",
            "\n"
          ]
        }
      ]
    },
    {
      "cell_type": "code",
      "metadata": {
        "colab": {
          "base_uri": "https://localhost:8080/"
        },
        "id": "hqlHoGKSDOB0",
        "outputId": "3d2a848c-9f05-47e1-850c-3bffb4acecda"
      },
      "source": [
        "content_recommender(12, 5, corpus_tf_idf)"
      ],
      "execution_count": 34,
      "outputs": [
        {
          "output_type": "stream",
          "name": "stdout",
          "text": [
            "ID:  12\n",
            "Title:  Fire Sale\n",
            "Categories:  \"Comedy\",  \"Absurdism\"\n",
            "Summary:\n",
            " Benny Fikus decides to cash in on his business' fire insurance by committing arson. Benny plans to have Sherman, who is in a mental hospital believing that World War II is still being fought, escape and burn down Benny's failing clothing store which he has made Sherman believe is a Nazi military headquarters. During a vacation trip with Marion, Benny has a heart attack, and his sons Ezra and Russel take over the store. The low self-esteemed Russell wants to expand the store and marry his girlfriend, while Ezra needs money to adopt an orphaned 6'8\" African-American teenage boy named Booker T . Ezra needs Booker T. to play on the high-school basketball team he coaches because he has won a total of two games in seven years as a coach and is in danger of losing his job. Russell discovers that his father is bankrupt, with his only asset being the surrender value on the store's fire insurance policy. Russell cashes in the policy and splits it with Ezra, using the money to buy more stock. Back at home, Benny is practically comatose after his heart attack. An \"in denial\" Marion is told by house painters helping with a home redecoration project that her husband is \"very sick\" which she interprets as Benny being already dead. She then decides to change redecoration plans to prepare for funeral services. Meanwhile, Sherman has escaped and is on his way to burn down the \"Nazi Headquarters\" . Benny recovers from his heart attack, and informs Russell that Sherman is on his way to burn down the store so they can collect the fire insurance that they no longer have. Hilarity ensues as Ezra has his wife run his basketball team while he and Russell attempt to stop Sherman from his quest to fight the Huns by any means necessary. \n",
            "\n",
            "Place: 1\n",
            "ID:  4912\n",
            "Title:  Alias Jesse James\n",
            "Categories:  \"Action/Adventure\",  \"Western\",  \"Screwball comedy\",  \"Comedy\",  \"Comedy Western\"\n",
            "Summary:\n",
            " Milford Farnsworth  is a bumbling insurance agent who unknowingly sells a life insurance policy to the outlaw Jesse James . Farnsworth is sent out West to protect the insurance company's investment by \"protecting\" James. James has his own plans to have Farnsworth killed while dressed as the outlaw, so that he and his soon to be \"widow\" Cora Lee Collins  can collect on the $100,000 insurance policy. Farnsworth avoids several attempts on his life while he and Collins fall in love with each other. After the last attempt is made on his life, Farnsworth impersonates the justice of the peace who is supposed to marry James and Collins. When Farnsworth and Collins make a run for it, they end up in a gun battle with the James Gang where several Western heroes make their cameos to surreptitiously help Farnsworth. In the end Farnsworth is victorious, marries Collins, and becomes president of the insurance company. \n",
            "\n",
            "Place: 2\n",
            "ID:  2335\n",
            "Title:  Mademoiselle Mozart\n",
            "Categories:  \"Comedy-drama\"\n",
            "Summary:\n",
            " A man falls in love with the pretty manager of a store of music instruments, whose business work is badly. He is going to re-float the store to conquer her heart. \n",
            "\n",
            "Place: 3\n",
            "ID:  3238\n",
            "Title:  The Man Who Would Not Die\n",
            "Categories:  \"Short Film\",  \"Silent film\",  \"Drama\",  \"Indie\",  \"Black-and-white\"\n",
            "Summary:\n",
            " A wealthy young woman, Agnes , is loved by the identical twin brothers Clyde and Ward Kingsley . She marries Clyde and he immediately begins squandering her fortune. When the money is almost gone, Clyde comes up with a plan to collect on his life insurance policy. As his brother, Ward, who still loves Agnes, is terminally ill, he persuades him to take his place so the insurance company will believe that Clyde has died instead of Ward. Agnes learns of the plan and is angry. She nurses Ward back to health and falls in love with him during his convalescence. Clyde then hires Steve Mercer  and Beth Taylor  to murder his brother. He gets impatient, however, and shoots Ward himself. When Clyde goes to tell Steve and Beth that their help is no longer needed, they mistake him for Ward and murder him. Ward recovers once again and he and Agnes are married. \n",
            "\n",
            "Place: 4\n",
            "ID:  2238\n",
            "Title:  Killer Joe\n",
            "Categories:  \"Crime Fiction\",  \"Thriller\",  \"Erotic thriller\",  \"Comedy film\",  \"Cult\",  \"Mystery\",  \"Drama\",  \"Comedy\",  \"Black comedy\"\n",
            "Summary:\n",
            " Finding himself in considerable debt, Chris Smith, a Texan drug dealer, decides the only solution is to murder his mother to collect the insurance money. Conspiring with his father, Ansel, the ex-husband of Chris' mother, they decide to hire \"Killer Joe\" Cooper, a police detective who has a parallel career as a contract killer. They plan to give the money to Chris' sister Dottie, who Chris thinks is the beneficiary of the mother's life insurance policy. Chris is unable to front Killer Joe's fee. However, Chris agrees that Joe can take Dottie as a retainer until the insurance comes through. Acting upon the retainer, Killer Joe carries out the contract on Chris' mother. After the killing, it is discovered that Rex, her boyfriend, provided false information about the life insurance policy and that he is the actual beneficiary. Also, Chris' step-mother, Sharla, who is also involved with Rex, pushed Chris into hiring Killer Joe. When he discovers this, Killer Joe confronts Rex, kills him, and recovers the insurance check. Chris, knowing that he will be Killer Joe's next target, quickly makes plans to escape to Peru with Dottie. In the final scene, Killer Joe arrives at the Chris' trailer and violently confronts Sharla, forcing her to admit that she and Rex conspired against Chris and left him at the mercy of Killer Joe. Since the family is unable to pay his fee, Killer Joe intends to take Dottie as agreed. When Chris arrives and threatens Killer Joe with a gun, the two struggle. In the subsequent confusion, Dottie recovers the gun and shoots Chris, killing him and mortally wounding their father. Dottie turns the gun on Killer Joe, telling him that she is pregnant. Killer Joe feigns enthusiasm as he inches closer to Dottie. The film ends as Dottie moves her finger back on the trigger. \n",
            "\n",
            "Place: 5\n",
            "ID:  4492\n",
            "Title:  Assignment to Kill\n",
            "Categories:  \"Crime Fiction\",  \"Drama\"\n",
            "Summary:\n",
            " A private detective is hired by an insurance company to investigate a shipping tycoon who is suspected of deliberately sinking his own ships in order to claim the insurance money. \n",
            "\n"
          ]
        }
      ]
    },
    {
      "cell_type": "code",
      "metadata": {
        "colab": {
          "base_uri": "https://localhost:8080/"
        },
        "id": "NnLTj-c8D5eK",
        "outputId": "18f96268-3e4b-4857-9709-1e9d691f8068"
      },
      "source": [
        "content_recommender(856, 5, corpus_tf_idf)"
      ],
      "execution_count": 39,
      "outputs": [
        {
          "output_type": "stream",
          "name": "stdout",
          "text": [
            "ID:  856\n",
            "Title:  Chaand Kaa Tukdaa\n",
            "Categories:  \"Crime Fiction\",  \"Comedy film\",  \"Action\",  \"Drama\",  \"Romance Film\"\n",
            "Summary:\n",
            " Shyam, a wealthy bachelor in London, returns to India and meets the girl, Radha, of his dreams. But Radha is a helpless pawn controlled by Shyam's evil uncle and Shyam's father's murderer. The two eye Shyam's wealth and estate and nothing can stop them in their path to obtain it--and their plan to kill Shyam. \n",
            "\n",
            "Place: 1\n",
            "ID:  2134\n",
            "Title:  Kashmeeram\n",
            "Categories:  \"Thriller\",  \"Action\",  \"Bollywood\"\n",
            "Summary:\n",
            " Terrorists kill Malayali-born Officer of Home Ministry of India Rajan Varma's nephew. Anti-terrorism police led by Shyam  is appointed to protect Rajan's sister Usha Varma ([[Sharada  and her daughter Manasi  without informing them about Unni's death. Shyam kills Manasi's boyfriend when he was trying to trespass her home and so they starts hating Shyam. Manasi does not know that her boyfriend was a terrorist and was trying to kill her and her mom. The terrorists later kidnap Manasi and she understands the truth. They wants to stop Usha Varma who is a Judge to read a verdict in a recent case against a terrorist. Usha Varma requests Shyam's help to keep her alive until she reads the verdict in court. Shyam rescues Manasi from the terrorists.The movie became a super hit,suresh gopi is considered to be as a trend setter,macho hero in that time. \n",
            "\n",
            "Place: 2\n",
            "ID:  1795\n",
            "Title:  Phir Hera Pheri\n",
            "Categories:  \"Musical\",  \"Crime Comedy\",  \"Bollywood\",  \"World cinema\",  \"Comedy\"\n",
            "Summary:\n",
            " Hera Pheri ended with the trio of Raju , Shyam , and Baburao Ganapatrao Apte  rich and rolling in money. Phir Hera Pheri tells the story of what happens after they become rich. The film opens with a prologue bringing the audience up to date, stating that each has suffered a loss as well as a gain. They all became rich, but Shyam lost Anuradha in an automobile accident, Raju's mother has died and Baburao--not really having much to lose in the first place--has lost all common sense. The three men are living large in a massive bungalow and splurging on various luxuries. Raju hears about an idea of doubling his wealth from a con woman Anuradha  claiming to be a bank manager and convinces Shyam and Baburao to go along with it. They also convince a goon on the street,Pappu  to contribute Rs. 20 lakh  so that they can come up with the minimum deposit of Rs. 1 crore in order to double their money. Raju also sells the bungalow to contribute to the Rs. 1 crore. They invest Rs. 1 crore . Three weeks later Raju, Shyam and Baburao find out that it was all a scam and become penniless. The goon is also in trouble because he had borrowed money from a dreaded gangster who suffers from a lisp, Tiwari , who will kill him if he doesn't pay up. Raju, Shyam and Baburao now have three days to come up with money to pay back the goon or else they will be killed. They have to leave their bunglow and live in a chawl owned by Anjali's  father. Then they steal drugs from their neighbor  who also stole drugs from another don . The drugs are worth about 3 crore . They think that they can sell them to Kachara Seth ([[Manoj Joshi  and pay off Tiwari and they would also become rich. But their neighbor once again steals the drugs from them. They run into Anuradha and she tells them that the entire scam was hatched by Kabeera  to get revenge on the trio, and that the only reason she went along with it was because they were holding her niece hostage . Their money was converted to diamonds to pay the ransom, but she fled them once she discovered her niece had escaped. In the end, all guys end up in a circus show to get hold of the diamonds. These are strewn all over the ground in public by a gorilla. Raju escapes with Pappu's cellphone and three big guns with him, which are worth crores of rupees and he does not know about it. So he tries to throw the guns into the river to get rid of the whole trouble. But fortunately for him, the guns get stuck somewhere. He tries to go down and throw them into the water. When Baburao and Shyam come to know about the worth of the gun from Pappu who is arrested, they call him on Pappu's phone. The film ends with Raju busy trying to reach for the guns with his phone ringing. \n",
            "\n",
            "Place: 3\n",
            "ID:  634\n",
            "Title:  Dance Dance\n",
            "Categories:  \"Musical\"\n",
            "Summary:\n",
            " Radha  and Ramu  are siblings. Their parents Shyam and Sita are singers. Once, Shyam and Sita go to perform in Jalpaiguri to get some money, since they are in a poor status and they have to pay a monthly rent. While performing in Jalpaiguri, Sita catches the eye of a rich and powerful man called A.M. Singh . He stops them in the mid way home, kills Shyam and rapes Sita. Radha and Ramu get the news that their parents are dead. The house proprietor banishes them and they become homeless. Years later, Radha and Ramu have achieved success and are popular singers now. Ramu falls in love with Janita ([[Mandakini  and Radha gets married to Resham , who is their troupe member. They all sing and perform together. However, Resham becomes different and strange. He comes to abuse Radha. When Ramu comes to know that, he tries to prevent him, but Radha does not allow him to do it. Radha finds out that she is pregnant. She comes to inform her husband and finds him with another woman in their bed. She reacts angrily and Resham beats her in such a cruel way, that she passes away in the hospital. Ramu takes to alcohol in a big way, while Janita who has to perform in Jalpaiguri because of the contract, catches the eye of none other than A.M. Singh. The story repeats and Singh's people stop Janita in the midway home, but surprisingly, Sita, Ramu's mother kills them and rescues Janita. Janita brings Sita and there Ramu meets his mother after 20 years. He recognizes her immediately. Ramu organizes a big concert which will be dedicated to his sister. There, A.M. Singh appears again. Ramu gets who he is and kills him. \n",
            "\n",
            "Place: 4\n",
            "ID:  4288\n",
            "Title:  Sallapam\n",
            "Categories:  \"Romantic drama\",  \"Musical\",  \"World cinema\"\n",
            "Summary:\n",
            " Radha comes from from a poor family and dreams of becoming a great singer. She falls in love with Sasikumar, who calls himself Junior Yesudas. Sasikumar is also from a poor family. When Radha asks to marry Sasikumar, he says he is helpless as he has a lot of responsibilities and he does not have the money. Radha decides to commit suicide but is rescued by her rowdy cousin whom she understands was in love with her. \n",
            "\n",
            "Place: 5\n",
            "ID:  4962\n",
            "Title:  Budhivanta\n",
            "Categories:  \"Crime Fiction\",  \"Romance Film\",  \"Drama\"\n",
            "Summary:\n",
            " The film begins with three separate teams accusing the same man of marrying one among them and making off with all their wealth. The police term it the Manmatha Raja case, and it receives wide media coverage. A man's likeness is also broadcasted. Upon seeing that, two more girls realize that they have also been cheated by the same man, but are unwilling to believe it. On a separate track, Panchamruta aka Panche  is travelling in a bus. The bus meets with an accident and Panche is admitted to the hospital. A policeman ties Panche's face to that of the accused in the Manmatha Raja case and Panche is arrested. Panche's case receives widespread attention, and it finally comes before the judge . The judge's daughter Pooja , a law student who's one of the girls cheated by Manmatha, obtains permission to watch the proceedings. The judge or judge-amma as Panche begins to call her, begins the proceedings by offering a court appointed lawyer for Panche's defense. Panche refuses, and says he will represent himself. The first witness in court is Rekha Vijay Mittal . She recounts, she found a mobile at a parking lot which turns out to belong to Vijay Mittal . Vijay talks to her in English, and asks her to hang on to the mobile, as he's flying to London. Rekha, impressed by him and his wealth, agrees. Vijay comes to Bangalore, and meets Rekha and her brother. Her brother is in the construction business and wants Vijay to help him move things with a strict politician. Vijay says that the politician expects 25 lakhs in bribes in a briefcase and call it a file. They do so, and the politician who is unaware of the existence of the bribe money, takes it. Rekha wants to marry Vijay, but according to his friend Johnny Walker , he has prior commitments to marry an Englishwoman. Vijay however agrees to a quick wedding, and they get married. Vijay doesn't let them get photographed either. The next day, Vijay has run away from the house taking all the valuables with him. The money they had given to the politician is also gone, as Vijay has changed briefcases soon after. Rekha now says that Panche is Vijay Mittal. Panche argues that she has no proof at all that a wedding happened. He also suggests that the judge jails Rekha's brother on bribery charges as they have publicly accepted it. The public prosecutor has no choice but to accept Panche's arguments. In the mean time, Pooja is quite impressed with the arguments of Panche. She tells him so when he is being taken away, and she tells him that she knows that he is not Panche but Zakir Hussain , who cheated her out of a painting she paid one lakh for. Panche disagrees strongly. The next witness is the Telugu girl Shanti/Telugu Pilla/Bangaru . Shanti is obsessed with films, and she in uninterested in the man she is engaged to marry as he isn't heroic enough. She once meets a man wearing the Krissh face mask, and riding a bike on a single tyre. She is impressed with his heroism. He tells her his name is Khush  and he gives her his mobile so she can contact him. Johnny Walker calls her instead, and lets her know that he's really Samarasimha Reddy, hailing from a Rayala Seema royal family and in filmy style has got rid of all his enemies. This impresses her further and she runs away with him with all her valuables. He builds a shack for them in Dil style, and marries her by exchanging flower garlands. Just when they're about to have their nuptials, he makes off with all the gold she's brought with her. In a fit of anger, Shanti has thrown away the mangalasutra he tied her. Now she accuses that Samarasimha Reddy is in fact Panche. Panche says he is not, and says that even this girl has no proof to accuse him and that the story itself was like a combination of four films. Shanti is extremely irritated, but she has no choice but to step down. In the meantime, a man named David Fernandes Shridhar claims that Panche is really his brother Joseph . David had a failed marriage, and his wife, who is frustrated with David's poverty leaves with another man. Deeply affected by that Joseph takes to crime and unjust behaviour, and substantiates all his doings with unarguable logic. And one day, David gets irritated enough with Joseph that he throws him out of the house. Panche listens to all this and disagrees. He says he was born and brought up a Hindu, and also says that he is from Mangalore. The police find that the story he has told them about his mother is true. A DNA test between David and Panche comes back negative. The fourth witness is Radha Bai  who claims that Panche deceived them in the guise of Shri Shri Bhagwan Rajneesh . He calls himself an incarnation of Lord Krishna, and has come to the ashram of Radha Bai to marry Rani , her daughter and take her to heaven. Under the influence of the drugs he has fed them in the name of theertha, both Radha bai and Rani happily agree. He plies them with enough ramarasa for them to lose senses, and makes off with all their money. Panche ridicules them for their foolishness and also makes fun of the fact that Rani wanted to get married to a god. The public prosecutor has no counter-arguments here either. In the meantime, the police find Johnny Walker. Johnny says that he was bribed by a man like Panche to call all the women in question, but he is unable to convincingly tell them that Panche was indeed the man. The last witness is the industrialist Monica , who says she had a secretary called Shyam Prasad , who helped her realize that she was missing something without a marriage. She was a divorcee, divorced from her husband because she was a self-satisfied woman. She falls for Shyam and even announces their wedding, but Shyam walks away. She talks for Panche, and says he shouldn't be jailed. The judge listens to all these arguments and says that she has nothing on Panche, so he is free to go. Panche leaves, and men with the likeness of Shyam, Samarasimha, Rajneesh, Vijay who're present in the crowd also leave and everyone follows them. But, it turns out that these are all different men, all related to the girls, wearing wigs. And Panche is really David's brother Joseph who has been playacting with the girls to make them realize their mistakes and accept the men  who love them. He explains that after he left David's house, he found that his sister in law committed suicide. He then decides to help these women by making them realize that their greed for different things is foolish. Along with the end credits, we are shown how Panche/Joseph falsified various evidences like the DNA sample. \n",
            "\n"
          ]
        }
      ]
    },
    {
      "cell_type": "code",
      "metadata": {
        "colab": {
          "base_uri": "https://localhost:8080/"
        },
        "id": "h5QaQR5oEdcl",
        "outputId": "c66aa7db-c580-46a3-ae7b-348b2e64989a"
      },
      "source": [
        "content_recommender(4814, 5, corpus_tf_idf)"
      ],
      "execution_count": 40,
      "outputs": [
        {
          "output_type": "stream",
          "name": "stdout",
          "text": [
            "ID:  4814\n",
            "Title:  In My Genes\n",
            "Categories:  \"Drama\",  \"Documentary\"\n",
            "Summary:\n",
            " How does one live as a white person in a dominantly black society? What does one feel being one of the most visible persons and, probably, one of the most ignored? Agnes, an albino woman in Kenya, feels it daily. Ever since she was born, she has had to deal with the prejudices that surround albinos. In My Genes bears witness to the lives of eight people who suffer discrimination due to a simple genetic anomaly. \n",
            "\n",
            "Place: 1\n",
            "ID:  2602\n",
            "Title:  One More Chance\n",
            "Categories:  \"Short Film\",  \"Drama\"\n",
            "Summary:\n",
            " Finding work when you have just got out of prison is hard — especially acting work. Devon, an ex-convict recently released from prison, is trying to take back his life and find a job but has many problems with the prejudices and rejection of the society. Jean-Paul is a French manic depressive who has to deal with the accusations made by his ex-wife. When these two characters met, they become friends and eventually decide to go on a journey in order to help each other solve their problems. \n",
            "\n",
            "Place: 2\n",
            "ID:  3310\n",
            "Title:  The Bad News Bears Go to Japan\n",
            "Categories:  \"Sports\",  \"Family Film\",  \"Japanese Movies\",  \"Comedy\",  \"Baseball\"\n",
            "Summary:\n",
            " Small-time promoter/hustler Marvin Lazar  sees a potential money-making venture in the Bears that will help him to pay off his debts. After seeing a TV spot about the Bears, he decides to chaperone the baseball team for a trip to Japan in their match against the country's best little league baseball team. As implied in Breaking Training, the Bears had to defeat the Houston Toros for a shot at the Japanese champs. In the process, the trip sparks off a series of adventures and mishaps for the boys. A subplot involves Kelly Leak's interest in a local Japanese girl, and the cultural divide that comes to bear in that relationship. About half of the original or \"classic\" lineup of Bears players return . Three new players are featured: E.R.W. Tillyard III, Abe Bernstein and Ahmad's younger brother, Mustapha Rahim. \n",
            "\n",
            "Place: 3\n",
            "ID:  2261\n",
            "Title:  The Brotherhood IV: The Complex\n",
            "Categories:  \"Horror\",  \"Teen\"\n",
            "Summary:\n",
            " A young cadet at a military academy joins its secret society, the \"Black Skulls\". Sent to a strange cave on a nearby beach, he does not survive the ceremony, being attacked by a succubus with lightning powers. The mythical creature then goes after the other members of the society. \n",
            "\n",
            "Place: 4\n",
            "ID:  1002\n",
            "Title:  South of Pico\n",
            "Categories:  \"Drama\",  \"Indie\"\n",
            "Summary:\n",
            " Four strangers witness an unimaginable tragedy and are catapulted into the defining moment of their lives. Set in present day in Los Angeles, a chauffeur, a waitress, a doctor and a young boy each deal with life’s daily challenges, only to find themselves at the scene of an accident the moment it happens. Riding on emotional overload, the balance of life rests in their hands. The film stars Kip Pardue, Gina Torres, Henry Simmons, Christina Hendricks, Jimmy Bennett and Car'ynn Sims. It was shot in Los Angeles and premiered at the American Black Film Festival in October 2007. \n",
            "\n",
            "Place: 5\n",
            "ID:  3747\n",
            "Title:  Losers' Club\n",
            "Categories:  \"Comedy film\",  \"Drama\"\n",
            "Summary:\n",
            " Kaan and Mete, co-hosts of a mid 1990s radio show called Kaybedenler Kulübü , struggle to deal with their daily lives after their show becomes an instant hit. Kaan meets Zeynep, the girl of his dreams, but their relationship comes under pressure as the show continues to stir controversy and attract fans from every segment of Istanbul society. \n",
            "\n"
          ]
        }
      ]
    },
    {
      "cell_type": "code",
      "metadata": {
        "colab": {
          "base_uri": "https://localhost:8080/"
        },
        "id": "deQeYaQZEmic",
        "outputId": "922ff61e-01bc-42e1-ccd4-f98396b22c62"
      },
      "source": [
        "content_recommender(4912, 6, corpus_tf_idf)"
      ],
      "execution_count": 41,
      "outputs": [
        {
          "output_type": "stream",
          "name": "stdout",
          "text": [
            "ID:  4912\n",
            "Title:  Alias Jesse James\n",
            "Categories:  \"Action/Adventure\",  \"Western\",  \"Screwball comedy\",  \"Comedy\",  \"Comedy Western\"\n",
            "Summary:\n",
            " Milford Farnsworth  is a bumbling insurance agent who unknowingly sells a life insurance policy to the outlaw Jesse James . Farnsworth is sent out West to protect the insurance company's investment by \"protecting\" James. James has his own plans to have Farnsworth killed while dressed as the outlaw, so that he and his soon to be \"widow\" Cora Lee Collins  can collect on the $100,000 insurance policy. Farnsworth avoids several attempts on his life while he and Collins fall in love with each other. After the last attempt is made on his life, Farnsworth impersonates the justice of the peace who is supposed to marry James and Collins. When Farnsworth and Collins make a run for it, they end up in a gun battle with the James Gang where several Western heroes make their cameos to surreptitiously help Farnsworth. In the end Farnsworth is victorious, marries Collins, and becomes president of the insurance company. \n",
            "\n",
            "Place: 1\n",
            "ID:  4492\n",
            "Title:  Assignment to Kill\n",
            "Categories:  \"Crime Fiction\",  \"Drama\"\n",
            "Summary:\n",
            " A private detective is hired by an insurance company to investigate a shipping tycoon who is suspected of deliberately sinking his own ships in order to claim the insurance money. \n",
            "\n",
            "Place: 2\n",
            "ID:  3238\n",
            "Title:  The Man Who Would Not Die\n",
            "Categories:  \"Short Film\",  \"Silent film\",  \"Drama\",  \"Indie\",  \"Black-and-white\"\n",
            "Summary:\n",
            " A wealthy young woman, Agnes , is loved by the identical twin brothers Clyde and Ward Kingsley . She marries Clyde and he immediately begins squandering her fortune. When the money is almost gone, Clyde comes up with a plan to collect on his life insurance policy. As his brother, Ward, who still loves Agnes, is terminally ill, he persuades him to take his place so the insurance company will believe that Clyde has died instead of Ward. Agnes learns of the plan and is angry. She nurses Ward back to health and falls in love with him during his convalescence. Clyde then hires Steve Mercer  and Beth Taylor  to murder his brother. He gets impatient, however, and shoots Ward himself. When Clyde goes to tell Steve and Beth that their help is no longer needed, they mistake him for Ward and murder him. Ward recovers once again and he and Agnes are married. \n",
            "\n",
            "Place: 3\n",
            "ID:  2238\n",
            "Title:  Killer Joe\n",
            "Categories:  \"Crime Fiction\",  \"Thriller\",  \"Erotic thriller\",  \"Comedy film\",  \"Cult\",  \"Mystery\",  \"Drama\",  \"Comedy\",  \"Black comedy\"\n",
            "Summary:\n",
            " Finding himself in considerable debt, Chris Smith, a Texan drug dealer, decides the only solution is to murder his mother to collect the insurance money. Conspiring with his father, Ansel, the ex-husband of Chris' mother, they decide to hire \"Killer Joe\" Cooper, a police detective who has a parallel career as a contract killer. They plan to give the money to Chris' sister Dottie, who Chris thinks is the beneficiary of the mother's life insurance policy. Chris is unable to front Killer Joe's fee. However, Chris agrees that Joe can take Dottie as a retainer until the insurance comes through. Acting upon the retainer, Killer Joe carries out the contract on Chris' mother. After the killing, it is discovered that Rex, her boyfriend, provided false information about the life insurance policy and that he is the actual beneficiary. Also, Chris' step-mother, Sharla, who is also involved with Rex, pushed Chris into hiring Killer Joe. When he discovers this, Killer Joe confronts Rex, kills him, and recovers the insurance check. Chris, knowing that he will be Killer Joe's next target, quickly makes plans to escape to Peru with Dottie. In the final scene, Killer Joe arrives at the Chris' trailer and violently confronts Sharla, forcing her to admit that she and Rex conspired against Chris and left him at the mercy of Killer Joe. Since the family is unable to pay his fee, Killer Joe intends to take Dottie as agreed. When Chris arrives and threatens Killer Joe with a gun, the two struggle. In the subsequent confusion, Dottie recovers the gun and shoots Chris, killing him and mortally wounding their father. Dottie turns the gun on Killer Joe, telling him that she is pregnant. Killer Joe feigns enthusiasm as he inches closer to Dottie. The film ends as Dottie moves her finger back on the trigger. \n",
            "\n",
            "Place: 4\n",
            "ID:  4699\n",
            "Title:  Cosa voglio di più\n",
            "Categories:  \"Romantic drama\",  \"Drama\"\n",
            "Summary:\n",
            " Anna  works in an insurance company and is married to Alessio  who wants to have a baby. She happens to meet Domenico , headwaiter in a restaurant. The two start a passionate relationship, but their personal life gets in between their relationship. \n",
            "\n",
            "Place: 5\n",
            "ID:  12\n",
            "Title:  Fire Sale\n",
            "Categories:  \"Comedy\",  \"Absurdism\"\n",
            "Summary:\n",
            " Benny Fikus decides to cash in on his business' fire insurance by committing arson. Benny plans to have Sherman, who is in a mental hospital believing that World War II is still being fought, escape and burn down Benny's failing clothing store which he has made Sherman believe is a Nazi military headquarters. During a vacation trip with Marion, Benny has a heart attack, and his sons Ezra and Russel take over the store. The low self-esteemed Russell wants to expand the store and marry his girlfriend, while Ezra needs money to adopt an orphaned 6'8\" African-American teenage boy named Booker T . Ezra needs Booker T. to play on the high-school basketball team he coaches because he has won a total of two games in seven years as a coach and is in danger of losing his job. Russell discovers that his father is bankrupt, with his only asset being the surrender value on the store's fire insurance policy. Russell cashes in the policy and splits it with Ezra, using the money to buy more stock. Back at home, Benny is practically comatose after his heart attack. An \"in denial\" Marion is told by house painters helping with a home redecoration project that her husband is \"very sick\" which she interprets as Benny being already dead. She then decides to change redecoration plans to prepare for funeral services. Meanwhile, Sherman has escaped and is on his way to burn down the \"Nazi Headquarters\" . Benny recovers from his heart attack, and informs Russell that Sherman is on his way to burn down the store so they can collect the fire insurance that they no longer have. Hilarity ensues as Ezra has his wife run his basketball team while he and Russell attempt to stop Sherman from his quest to fight the Huns by any means necessary. \n",
            "\n",
            "Place: 6\n",
            "ID:  3583\n",
            "Title:  Don't Fool Me\n",
            "Categories:  \"Chinese Movies\"\n",
            "Summary:\n",
            " Two friends, Hero Hwa  and Chiang Ho-Chie  star are two old friends who meet up in later life. Hwa is a triad gang member and Ho-Chie is an insurance salesman, Hero is looking for a career change and Ho-Chie has become disillusioned with life after discovering he has a \"bubble\" in his brain that could burst at any time killing him. The two decide to switch lives for a bit with the Triad going respectable and the Insurance Salesman taking on the world of the Triads. As well as a new life, both of the two friends find new love. \n",
            "\n"
          ]
        }
      ]
    },
    {
      "cell_type": "code",
      "metadata": {
        "colab": {
          "base_uri": "https://localhost:8080/"
        },
        "id": "hF0RXQOYEvGB",
        "outputId": "632fe991-cb0a-4419-d561-4e72e786f9a8"
      },
      "source": [
        "content_recommender(60, 5, corpus_tf_idf)"
      ],
      "execution_count": 42,
      "outputs": [
        {
          "output_type": "stream",
          "name": "stdout",
          "text": [
            "ID:  60\n",
            "Title:  Vellaripravinte Changathi\n",
            "Categories:  \"Romance Film\",  \"Drama\"\n",
            "Summary:\n",
            " Vellaripravinte Changathi is based on the story of film-maker Augustine Joseph who made a Malayalam film in 1966. However, due to some reasons, the film did not make it to the theatres. The 1960s-70s was a period dominated by Prem Nazir, Sathyan, Sheela and others. Unluckily Augustine Joseph was not able to get the film released. Later he commits suicide due to the debts from the production of the film. After years his son revels the original prints of the film from Gemini Lab and sees it. Later he goes on with releasing the film and tries to find the people who did the characters. The film is well appreciated for the way of narration and picturisation which makes the viewer feels that they are actually watching an old Black and white movie of the 60-70s. \n",
            "\n",
            "Place: 1\n",
            "ID:  3330\n",
            "Title:  Ajab Prem Ki Ghazab Kahani\n",
            "Categories:  \"Romantic comedy\",  \"World cinema\",  \"Musical\",  \"Drama\",  \"Comedy\",  \"Romantic drama\",  \"Romance Film\",  \"Bollywood\"\n",
            "Summary:\n",
            " Prem  is a happy-go-lucky person who resides with his parents in his small town and runs \"Happy Club\" &mdash; a club that aims at making people happy. Prem meets Jenny  through a misunderstanding and the two become friends. He is immediately besotted with Jenny and tries to impress her in numerous ways. Jenny is a sweet and simple young woman, who was adopted and brought up by indifferent and uncaring parents. Falling in love with Jenny makes Prem turn over a new leaf. For him, Jenny's happiness becomes everything in life. As for Jenny, she is in love with her college friend Rahul . Though heartbroken, Prem still loves her and, for the sake of her happiness, he helps unite her with Rahul when her parents try to force her to get married to someone else for their own benefit. Prem's efforts to unite Jenny and Rahul lead to many unusual and comedic adventures, through which Prem is always at Jenny's side. However, on Jenny and Rahul's wedding day, Jenny realizes that she made a mistake. She realizes that she truly loves Prem and that Rahul and his family are actually very selfish. She is united with Prem and the two happily get married. \n",
            "\n",
            "Place: 2\n",
            "ID:  4149\n",
            "Title:  Ready\n",
            "Categories:  \"Action\",  \"Drama\",  \"Comedy\",  \"Bollywood\"\n",
            "Summary:\n",
            " The film starts with ready-witted Prem  helping his childhood friend Khushi  to elope with Raju . Khushi's intended bridegroom Gaurav ([[Arbaaz Khan  reveals that he also has a girlfriend, Kiran , whom he wants to marry. The elopement angers Khushi's father, Mr. Pathak  and Prem's family, the Kapoors. Prem manages to pacify his family members. The Kapoors decide to get Prem engaged to Pooja. Prem is sent to receive Pooja at the airport; however, he deliberately goes to he wrong terminal to avoid meeting her. A girl named Sanjana , who has just run away from her own wedding, overhears Prem telling his uncle about ditching Pooja. Since nobody from Prem's family has ever seen Pooja, Sanjana herself pretends to be Prem's intended fiancee. Sanjana, posing as Pooja, goes to stay with the Kapoors and wins the hearts of the entire family, except Prem, who gets irritated with her. Meanwhile, Sanjana's maternal uncles, Amar Choudhary , and Suraj Choudhary , who are rivals, try to search for her. Each uncle wants Sanjana to marry his respective brother-in-law in order to inherit her wealth. Sanjana and Prem escape from Suraj Chaudhary's goons by taking a lift in the car of Mr. Lehri . Prem outwits the goons and sends Suraj's son Aryan into a coma while escaping. Suraj Choudhary takes the help of Mr. Lehri to get to know who ran away with Sanjana. But by then, Prem finds out Sanjana's true identity, and she tells him about her uncles trying to get her married. Prem and Sanjana fall in love and decide to get married. However, her uncle Suraj Chaudhary takes her away. Then the Kapoors come to know about her true identity; however, they still want her as Prem's wife. Prem assures Sanjana that she should stay with her uncle, and he will find a way to marry her as well as reunite her whole family. Prem pretends to be the nephew of Balidaan Bhardwaaj a.k.a. Bali , a Chartered Accountant who serves both of Sanjana's uncles. Prem convinces Suraj and Amar Chaudhary not to get either of their brothers-in-law married to Sanjana. Instead, he suggests the daughters of America's billionaires K.K Modi and B.K Modi as suitable brides for the two brothers-in-law. What the Choudharies do not know is that K.K and B.K Modi are actually Prem's dad and uncle in disguise. Prem also gets the rest of his family to play various characters, in order to trick Sanjana's family into letting her marry him. He also manages to change the Chaudhary family's negative attitudes. But on the wedding day, Aryan recovers from his coma, and reveals the truth about Prem. A physical fight follows, in which Prem gets the upper hand of Sanjana's uncles and their men. He then explains to Amar and Suraj Chaudhary how Sanjana's late mother wanted them to unite and get their niece married. The Chaudharies then realize their mistake and are deeply apologetic for their behaviour. In the end, Prem and Sanjana get married and their wedding picture is taken with the Kapoors and Chaudharies, a.k.a. the 'Chapoors'. \n",
            "\n",
            "Place: 3\n",
            "ID:  645\n",
            "Title:  Dulhan Wahi Jo Piya Man Bhaye\n",
            "Categories:  \"Romantic drama\",  \"Romance Film\",  \"Drama\",  \"World cinema\"\n",
            "Summary:\n",
            " Seth Harikrishan, the industrialist had as his heir, his only grandson Prem. The grandfather's only desire was to see the bride of his grandson. When he fell seriously ill, his friend and doctor Farid prevailed upon Prem to bring his girl friend Rita, whom he wanted to marry. But as luck would have it Rita had gone away to Srinagar to participate in a fashion show and she could not return as due to snowfall all roads were blocked and air service was suspended. To satisfy his dying grandfather Prem suggested his company's Public Relations Officer Jagdish to hire a model girl who could pose as Rita for some time. Instead, Jagdish brought an illiterate flower seller girl Kammo with whom Prem and his sweetheart Rita had many altercations. But when Rita came, followed by her scheming mother, Kammo knew that her days were numbered. Yet all efforts of Rita and her mother to win the grandfather's favours failed. Ultimately on the birthday of the grandfather, Rita's mother divulged the truth to doctor Farid. And at the birthday party, it was apparent that Kammo's true identity was known to everyone. Despite this, the grandfather announced his grandson's engagement to Kammo whom he had really liked. His grandson blew into a rage and threatened to leave the house along with Rita and her mother. The grandfather did not stop him. Prem rushed to Rita only to find that without his grandfather's wealth, his love and sacrifice had no meaning for her. Meanwhile, Kammo, hurt and disillusioned, decided to leave the house for good. Did Prem realise his mistake? Did Kammo forgive him? Did the grandfather welcome him back? See for yourself. \n",
            "\n",
            "Place: 4\n",
            "ID:  721\n",
            "Title:  Judwaa\n",
            "Categories:  \"Romantic comedy\",  \"World cinema\",  \"Musical\",  \"Drama\",  \"Comedy\",  \"Romantic drama\",  \"Romance Film\",  \"Bollywood\"\n",
            "Summary:\n",
            " Mrs. Malhotra  is the mother of twins, who were separated at birth, and she only has one son. Mrs. Malhotra goes into shock and then uses a wheelchair. She resides with her husband and son in the US. Quiet and mature Prem,  one of the twins, and his dad  return to India together with Mrs. Malhotra to get Prem married. Prem's future fiance is the outgoing and percocious Mala , who is the daughter of Mr. Sharma . There Prem meets with his twin brother very outgoing and precocious Raja , who looks like him, but is exactly the opposite in nature. A series of comic scenes result as a result of the twins getting together. Prem loves quiet and mature Roopa ([[Rambha , and both the girls are confused by the change they perceive in their respective lovers. To make matters worse, Tiger Ratanlal  has sworn vengeance against the Malhotra family for what they did to his dad . \n",
            "\n",
            "Place: 5\n",
            "ID:  3410\n",
            "Title:  The Curve\n",
            "Categories:  \"Thriller\",  \"Psychological thriller\",  \"Erotic thriller\",  \"Comedy\",  \"Crime Thriller\",  \"Black comedy\"\n",
            "Summary:\n",
            " The story follows Tim, Chris and Rand who are campus roommates. After hearing of a school policy, which says that anyone whose roommate commits suicide gets an automatic 4.0 GPA , Tim and Chris plot to kill Rand and make it look like suicide. After the suicide, Rand's girlfriend Natalie  is distraught and commits suicide as well. The story takes several plot twists as each persons motives come to light and the truth is revealed. The film was screened at the Sundance Film Festival but then went directly to video. \n",
            "\n"
          ]
        }
      ]
    },
    {
      "cell_type": "code",
      "metadata": {
        "colab": {
          "base_uri": "https://localhost:8080/"
        },
        "id": "QdG9vzw9E24p",
        "outputId": "53450813-ce71-49a7-f1dd-8e655162593a"
      },
      "source": [
        "content_recommender(455, 4, corpus_tf_idf)"
      ],
      "execution_count": 45,
      "outputs": [
        {
          "output_type": "stream",
          "name": "stdout",
          "text": [
            "ID:  455\n",
            "Title:  The Hangover: Part II\n",
            "Categories:  \"Buddy film\",  \"Comedy\",  \"Absurdism\"\n",
            "Summary:\n",
            "  Two years after their escapade in Las Vegas, Stu Price, Phil Wenneck, Alan Garner and Doug Billings travel to Thailand to celebrate Stu's impending wedding to Lauren. Much to Alan's dismay, they are joined by Lauren's younger brother, Teddy. During Lauren's father's toast, he shows his disapproval of Stu by comparing him to congee. At the end of the night, Stu hesitantly joins Phil, Doug, Alan and Teddy for a beer. Sitting at a campfire and roasting marshmallows, the group toast to Stu and Lauren's future happiness. The following morning, Phil, Stu and Alan, along with flamboyant gangster Leslie Chow - whom Alan befriended after Las Vegas - and a chain-smoking capuchin monkey, awaken in a dirty hotel room in Bangkok. Stu has a face tattoo , and Alan's head is completely shaved. However, they cannot find Teddy, only discovering his severed finger. Chow begins recalling the events of the prior night, but he seemingly dies after snorting a line of cocaine. Panicked, the trio dispose of Chow's body in an ice box. Through a tip from Doug who is still at the resort, they go to a prison to pick up Teddy but are given a wheelchair-bound elderly Buddhist monk, who knows more about what happened, but does not reveal anything: he has taken a vow of silence, and rejects also an alternative such as writing something down. After finding a business card, they travel to a neighborhood smouldering in ruins. They enter a nearby tattoo parlor where Stu got his tattoo, and they learn that they had started a fight that escalated into a riot. The trio then return the monk to his Buddhist temple, where they are encouraged by the head monk to meditate. Alan is able to recall that they had been at a strip club. There, they learn that Stu had engaged in sex with a kathoey prostitute. Upon exiting, the trio is attacked by two Russian mobsters from whom they had stolen the monkey, and Phil is shot in the arm. After Phil is treated at a clinic, Alan confesses that he had drugged some of the marshmallows from the previous night with muscle relaxants and ADHD medication in order to sedate Teddy but accidentally mixed up the bags. After noticing an address and time point for a meeting written on Alan's stomach, the trio meet up with another gangster, Kingsley, who demands Chow's bank account code and password by the next morning in exchange for Teddy. They return to the hotel to try to find Chow's password, only to discover that he is still alive. They steal the monkey  back from the Russian mobsters through a violent car chase, during which the monkey is shot and injured. After taking the code and leaving the monkey at a veterinary clinic, the group complete the deal with Kingsley. Suddenly, Interpol agents appear and arrest Chow. Kingsley turns out to be an undercover agent, who tells the trio that the police had used the information that Teddy had disappeared to arrest Chow and Kingsley actually does not know where Teddy is. Desperate and out of clues, Phil once again calls Doug's wife Tracy. Stu then has an epiphany and the trio rushes back to the hotel and find Teddy in the elevator unharmed . Teddy had woken up in the middle of the night to get more ice for his severed finger  but became trapped after the power went out. The four use Chow's speedboat, the keys for which were in Teddy's pocket, to travel back to the wedding reception. Arriving on land just as Lauren's father is about to cancel the wedding, Stu makes a defiant speech where he rejects being boring and instead states that he is in fact quite wild. Impressed, Lauren's father gives the couple his blessing. After the wedding continues on, Alan presents Stu with a special gift at the post-reception dance: a musical guest performance by Mike Tyson. Teddy later discovers that he had taken many pictures during the night on his cell phone. The group, along with Tyson, agree to look at the pictures together once before erasing the evidence of their exploits once again. \n",
            "\n",
            "Place: 1\n",
            "ID:  103\n",
            "Title:  Invincible Armor\n",
            "Categories:  \"Thriller\",  \"World cinema\",  \"Action/Adventure\",  \"Mystery\",  \"Martial Arts Film\",  \"Action\",  \"Chinese Movies\"\n",
            "Summary:\n",
            " The Emperor's Minister of State Cheng, an authoritarian ruler, arranges for Hu Lung, one of his old students to distract General Chow while he assassinates the leader of the Ming rebels. Chow hunts for Hu Lung, but must avoid the authorities since he is a suspect in the murder. He eventually finds Chow, but is thwarted by Hu Lung's master, Phillip Ko, and Minister Cheng's hired enforcer, Shen Yu. Shen Yu is hunting for Chow in order to arrest him. Although Shen Yu wants to arrest Chow, he does not kill him, preferring that he goes to court first. This goes against Minister Cheng's orders to kill him. Hu Lung and Chow escape in the ensuing confrontation between Shen Yu and Phillip Ko. Hu Long confesses to his master that he was ordered to kill the rebel leader, and Phillip Co confronts Minister Cheng. Chow learns iron armour and later iron finger. from a young child and his sister to defeat the Invincible Armor technique, but his training is cut short when Shen Yu arrives to arrest him again. He gives Chow three days to clear his name. Minister Chang's plot is eventually exposed, and he is confronted by Chow, Shen Yu, and others. \n",
            "\n",
            "Place: 2\n",
            "ID:  4126\n",
            "Title:  Danger Has Two Faces\n",
            "Categories:  \"Chinese Movies\"\n",
            "Summary:\n",
            " Many years ago, Inspector Kam Chi Kin  killed an innocent man and decided to resign from the police force. He then became a professional killer, paid by Uncle Hung , and disguises as a pet store owner in order to earn money to raise his son. His best friend, Bobby Chow Fuk Cheung  recently returned from UK and works under Superintendent Lau Cheuk Sang . Chow has been investigating recent murder cases that were done by Kam. Later, as one of his colleague Sam  is murdered, Chow discovered the mastermind behind these cases were actually Superintendent Lau. Lau then murders one of his subordinate Man , mistaken him to have discovered his identity. Later, Uncle Hung takes Kam's son hostage and orders him to kill Chow. Kam later disguises Chow's murder and they both confront Lau, Hung, the gang and two police officers Wai  and Chicken Blood. \n",
            "\n",
            "Place: 3\n",
            "ID:  3863\n",
            "Title:  Carry On Pickpocket\n",
            "Categories:  \"Crime Comedy\",  \"World cinema\",  \"Action Comedy\",  \"Action/Adventure\",  \"Comedy\",  \"Action\",  \"Chinese Movies\"\n",
            "Summary:\n",
            " Hung Tai Kong aka \"Rice Pot\"  and Chan Yin Tung aka \"Chimney\"  are two brothers who work with their master Kam Ming  and his daughter Ann  as a team of pickpockets. Rice Pot, Chimney and Ann later meet Inspector Ling Ah Nam , who investigating a diamond robbery and later becomes Rice Pot's girlfriend. She tells Rice Pot that she has to leave for 2 to 3 months. He found out that she lied to him, and later she explains to him and reveals that she is on an undercover mission. Ling asks the three of them to help her snatch a box of diamonds from Chow Ming Shing . Later, troubled cop Ng Heung Kan  runs into Rice Pot and Chimney. Finding out that they are pickpockets, Ng becomes desperate to arrest them. After successfully getting the diamonds, Ling has them pretend to give Chow the diamonds in order to arrest Chow. However, the diamond that Ling gives them are fake and the three of them become suspicious of Ling. Later, a big fight takes place on Chow's ship and a final fight with Rice Pot against one of Shing's henchmen . Ling attempts to flee from Hong Kong with the diamonds and the three of them finds her in the airport. Rice Pot manages to snatch the diamonds from her, only to run into Ng, who was patrolling there which causes him to drop them. In the end, there was an epilogue for everyone. Rice Pot, Chimney and Ann were charged with theft and mistake of murder. They were sentenced to 7, 5 and 3 years to prison respectively. Kam was charged with theft and receiving stolen goods and sentenced to 2 years. Ling was charged with impersonating a cop and cheating, and was sentenced to 10 years. Sergeant Ng discovered an international criminal group and was promoted to police inspector. \n",
            "\n",
            "Place: 4\n",
            "ID:  399\n",
            "Title:  Terror Tract\n",
            "Categories:  \"Thriller\",  \"Horror\",  \"Slasher\",  \"Supernatural\"\n",
            "Summary:\n",
            " In the first story, \"Nightmare\", a businessman discovers his wife cheating on him and plans to shoot the boyfriend and make it look like she did it, then hung herself. But the boyfriend manages to kill him and dumps the body in a nearby lake, but then needs the car keys from the pocket of the body to get rid of a telltale car. The wife has had a number of terrible nightmares that her husband comes back from the dead to get revenge on her and when the door creaks open she blasts the figure behind it only to find she has killed her boyfriend. She is found hanged by the law, but her body is covered in water and you are led to believe that the dead man killed her finally. Starring: * Rachel York as Sarah Freemont * Carmine Giovinazzo as Frank Sarno * Fredric Lehne as Louis Freemont * Wade Williams as Clay Hendricks * Carl Strano as Chief Of Police * Jeff Ricupito as Police Officer * Brent Strachan as Police Officer * Julieann Getman as Police Officer * Harrison Held as Medical Examiner In the second tale, \"Bobo,\" the Gatleys are a perfect family with father and daughter having a perfect relationship. Then the daughter finds a small monkey in their tree and persuades her father to allow it indoors. The monkey, tame around the daughter, hates everyone else. The monkey alienates his daughter from him and after it bites Ron, he puts it near a cage next to the  dog who hates it. Next morning the dog is found stabbed to death and the monkey gone. The police don't want to know about monkeys so Ron bribes an animal catcher to get it but he ends up stabbed to death too so again Ron has to hide the body. His wife and daughter now doubt his sanity as he goes after the monkey with a gun but it alludes him, and his bear trap, and then it kills his wife. Beyond anger he goes to his daughter's room where he suspects the monkey is. It attacks him and he loses his rifle but manages to trap the monkey only to see his daughter holding the rifle pointed at him. He shouts at her to give him the gun but she shoots him. She tells the police what happened when they finally turn up, and never says another word after that. Starring: * Bryan Cranston as Ron Gatley * Katelin Petersen as Jennifer Gatley * Jodi Harris as Carol Gatley * Marcus Bagwell as Pound Dispatcher The third story, \"Come To Granny\", involves a troubled teenager with psychic abilities who visits a therapist. He tells her of his crazy visions in which he sees the Granny killer killing his victims. When he has these visions it looks to bystanders that he is having a fit. A vision when with his girlfriend drives her away, and she too becomes a victim of the killer, something he has seen previously. He warns the therapist that she is to be the next victim of the vicious serial killer but she thinks that he is the killer and runs from him. He falls onto her letter spike in trying to reach her and is badly injured but slowly follows her. She manages to get the lift but out comes Granny with a cleaver and Sean who was trying to give her a gun to defend herself collapses . Starring: * Brenda Strong as Dr. Helen Corey * Will Estes as Sean Goodwin * Shonda Farr as Jasmine * Barbara Jansen as Margaret Goodwin * Jerry Day as Robert Goodwin * Branwen Mayfair as Woman Victim * Lynda Kay Parker as Teacher * Rafaella Forero as Cleaning Woman * Allen Simpson as Jasmine's Friend * Lance W. Dreesen as Granny Killer  The film ends with the couple refusing to buy any of the houses. The real estate agent finds out he has failed to meet a deadline and his son is put on the phone and you get the impression that something bad is going to happen to him. The estate agent goes mad and stabs Mr Doyle in the neck and as he collapses to the floor with blood spurting from his neck, starts stabbing him in the back. Mrs Doyle after an effort gets the front door open and runs out to see a neighbour about to use a lawn mower on a cat buried up to its neck. As she gets in the car to drive off, the estate agent tries to get her, and Bobo the murderous monkey appears on her windscreen. As she drives off screaming, she see people being shot at, a human leg hanging out of a wheelie bin, an explosion, a car trying to run over a man and so on as she tries to get as far away as possible from this evil area. \n",
            "\n"
          ]
        }
      ]
    },
    {
      "cell_type": "code",
      "metadata": {
        "colab": {
          "base_uri": "https://localhost:8080/"
        },
        "id": "Kk0A6M2hFQhw",
        "outputId": "73f27f1c-08f1-4dcc-fe9b-bf74340efc6c"
      },
      "source": [
        "content_recommender(248, 6, corpus_tf_idf)"
      ],
      "execution_count": 46,
      "outputs": [
        {
          "output_type": "stream",
          "name": "stdout",
          "text": [
            "ID:  248\n",
            "Title:  Lone Star\n",
            "Categories:  \"Western\",  \"Black-and-white\"\n",
            "Summary:\n",
            " Devereaux Burke gets a personal request from former President Andrew Jackson to help keep Texas from entering into annexation with Mexico. The movement is gaining favor because it is mistakenly believed that Texas pioneer Sam Houston supports it. The opposition leader is wealthy rancher Thomas Craden, but when Dev is ambushed by Comanche, it is Craden who comes to his rescue. Martha Ronda, who loves Craden and runs the Austin newspaper, does not know Dev is anti-annexation when she and Craden host a number of senators at their home for dinner. When they won't all agree to vote his way, Craden then refuses them permission to leave. Dev gets a signed letter from Sam Houston of his actual position, but the ink smears when he falls into a river, fleeing from Craden's men. He has difficulty persuading Martha, who publishes an incorrect story about Houston's position, but ultimately he wins her over and saves the day. \n",
            "\n",
            "Place: 1\n",
            "ID:  4580\n",
            "Title:  Raavanan\n",
            "Categories:  \"Drama\",  \"Adventure\"\n",
            "Summary:\n",
            " The film opens with shots showing Veeraiya ([[Vikram  jumping off a cliff into water. His gang is busy distracting the police. Police vehicles are set ablaze and women seduce policemen into a trap whereby Veera's henchmen attack. The police are ruthlessly murdered. Raagini , whilst on a boating trip, is kidnapped by Veera. Dev Prakash , her husband and a senior police officer, is informed of the incident. A brief montage of sorts showcases the story of Veeraiyya. He is seen as a local hero, who runs a parallel govt in areas near Tirunelveli, with his brothers — Singarasu  and Sakkarai ([[Munna . Though considered a terrorist by the local police, Veeraiyya is respected by the villagers. He kidnaps Raagini hoping to avenge the death of his sister Vennila . He brings her to the edge of a cliff to shoot her to death. She refuses to die at his hands and jumps off the cliff into the water far below, hoping to kill herself, but fails to do so. This causes Veera to hold off the murder, being unable to kill someone who has no fear of death. Dev and his team enter the forests with the aid of Gnanaprakasam , a local forest guard. Gnanaprakasam plays the role of Hanuman from the traditional epic. Despite searching deep in the forests, Dev is unable to hunt down Veera. Meanwhile, Raagini develops feelings for Veera after she hears the story of his sister's death. Dev had led an encounter against Veera during Vennila's wedding. Dev's shot grazes Veera in the neck. Veera, fighting for his life, is unable to protect his sister, and he is led out of the fiasco by his gang. The police pressurize Vennila into revealing Veera's hideout. When she refuses, she is subjected to physical and sexual assault. Veera returns home to find Vennila distraught and traumatised. The next day, she commits suicide by drowning in a nearby well. Unhappy with the way his brother is leading a war causing distress to his gang, Sakkarai offers a truce to Dev. Dev initially seems to agree but, when Sakkarai comes out in the open, Dev shoots him to death — revealing that he considers the destruction of Veera as more important than saving his wife. Veera and Singarasu are enraged and attack Dev's camp; they wipe it out completely. A final confrontation between Veera and Dev takes place on a rickety bridge — where Veera triumphs over Dev — when he decides not to let Dev die. He tells Dev he is letting him live because of his wife. Dev manages to extricate himself out and finds Raagini bound and tied up — with Veera leaving her. Dev is not entirely happy and, while returning to their hometown of Mettukudi, he accuses Raagini of infidelity and informs her that it was Veera who told him so. Furious, Raagini leaves Dev to meet Veera through Singarasu. She manages to meet him and asks him why he had accused her. Veera tells her he said that he had protected Raagini safely for the fourteen days and nothing else. He quickly realizes that Dev lied, hoping Raagini would lead him to his hideout. Dev appears with a police team and confront the duo. Raagini tries to save Veera, but he pushes her out of the line of fire. He is shot multiple times, whereby he falls off the cliff. The touching climax of the movie shows Raagini's true feelings coming to surface: She is seen trying with all her might to save Veera. Although Veera tries to grab her hand amidst the gun fire, he fails to do so, dying without touching Raagini throughout the time he knew her.  Veera, content that Raagini has feelings for him, falls to his death with a smile. \n",
            "\n",
            "Place: 2\n",
            "ID:  247\n",
            "Title:  Show Cats: The Standard of Perfection\n",
            "Categories:  \"Documentary\"\n",
            "Summary:\n",
            " Filmed at the 2004 Cat Fanciers' Association International Cat Show, in Houston, Texas and in other locations in Houston, Wolf Blitzer, Monica Lewinsky , and Spider-Man. There were others by other names that were owned by other people featured in the documentary, but they were not focused on as much as the celebrity-named ones listed here. \n",
            "\n",
            "Place: 3\n",
            "ID:  1942\n",
            "Title:  Heartbeat\n",
            "Categories:  \"Melodrama\",  \"World cinema\",  \"Musical\",  \"Drama\",  \"Romantic drama\",  \"Romance Film\",  \"Bollywood\"\n",
            "Summary:\n",
            " Dhadkan is about Anjali , a young woman who hails from an extremely rich and influential family. Her father Mr. Chauhan  is a renowned businessman and has many dreams for his daughter. Anjali is in love with Dev  who is very poor and often cannot even afford to clothe himself properly. Dev loves Anjali and wants to marry her &mdash; so has to meet her father. When Anjali puts forward to her parents the proposal of marrying Dev, she is rebuked and gets an outright refusal. Moreover, her parents have chosen for her a wealthy suitor from Delhi. Not wanting to hurt her parents Anjali finally gives in and marries Ram  who her parents believe will be a perfect match for her. Ram is a man of great ideals, who believes in giving a rightful place to his wife and respects her sensibilities. Despite this, he is unable to win Anjali’s love at first and their marriage remains on the edge. However, after seeing the magnanimity of her husband’s heart in forgiving and accepting her, she realises she has fallen in love with him. Anjali leads a life of bliss and becomes an ideal wife. But suddenly, at their third wedding anniversary party, Dev returns and reveals his intent of winning Anjali back. Dev is now a wealthy businessman, and Anjali finds herself at a crossroads where she has to fight for her husband with her former love. Anjali is in love with her husband and has no wish to return to her former lover. When she tells him this, he sets out to ruin Ram's business. But the truth wins in the end when Anjali tells Dev she is pregnant with Ram's child. Dev realises his folly and decides to marry his friend and business partner Sheetal Varma  who has secretly loved him for a long time. \n",
            "\n",
            "Place: 4\n",
            "ID:  4280\n",
            "Title:  Tumi Kar\n",
            "Categories:  \"Drama\"\n",
            "Summary:\n",
            " This is the story of Madhabpur. The incident is just like that of Singur. The corrupt M.L.A of Madhabpur, Shanti Ranja Burman is a crook who forcefully confiscate the lands and properties of the downtrodden mass in the name of industrialization and development. He and his sidekick Raghab  targets Chandra Roy  and her grandmother  for engulfing their land. Enter honest S.P Mr. DIbakar Choudhury and his brother Dev. Dev falls in love with Chandra. The two take oath to uproot the corrupt Shanti Ranjan and Raghab alongside the villainous inspector Binay Bagchi. Dev, Dibakar and Chandra find able allies in sub-inspector Pundarikakshya Das  and Joy Banerjee, a real estate dealer turns revolutionary. Together combat the adverse forces and finally at a meeting all hell breaks loose. Shanti Ranjan and S.P Dibakar died in encounter. Peace is restored. \n",
            "\n",
            "Place: 5\n",
            "ID:  3115\n",
            "Title:  Texas Killing Fields\n",
            "Categories:  \"Thriller\",  \"Crime Fiction\",  \"Drama\"\n",
            "Summary:\n",
            " The plot focuses on several killings along Houston's I-45 corridor between Houston and Galveston; the crime investigators on the case; their sacrifices and personal mission to protect the innocent; plus their stake out to find the killer of the fictional character or victim in the movie. The film's screenplay was loosely inspired by true events surrounding the murders of women kidnapped from cities spread along 30 plus miles of I-45 corridor and dumped in many areas to include numerous bayous surrounding the oil fields of Texas City, Texas. While in real life there have been numerous itinerant serial killers involved over the years, the movie focuses on specific local Texas City suspects. In reality, the local moniker \"The Killing Fields\" applied to a specific abandoned property with acreage in League City, Texas known as Calder Drive. It was not the setting of this movie.  \n",
            "\n",
            "Place: 6\n",
            "ID:  4074\n",
            "Title:  The Business Man\n",
            "Categories:  \"Crime Fiction\",  \"Action\",  \"World cinema\"\n",
            "Summary:\n",
            " At a time when Mumbai Police, headed by Police Commissioner , announce that the much dreaded Mafia Raj is completely wiped out in the city, and there are no under world Bhai’s in Mumbai, a rookie named Surya  lands in the country’s commercial capital with an intention to become a Mafia Don. His friend, Brahmaji receives him and brings him to Dharavi. He offers him shelter and tells him that he would soon fetch him a job so that he can settle down in life. But Surya wants to carve an identity for himself, by reorganizing Mumbai's Mafia Raj and eventually rule Mumbai. He then mocks as a cop and gets his first bounty and then he forms a gang of his own. Surya meets up with a local politician Laalu  who is in trouble and offers him help. Surya begins recruiting criminals and gangsters in Mumbai and starts to extort people for money. He slowly gains momentum and in the process becomes popular and feared among the people. Meanwhile, he also knowingly tries to get romantically involved with Chitra , daughter of the police commissioner. In the process, he actually falls for the girl and tries for her acceptance. In the course of the film, Surya become popular among Dharavi's locals. He comes across as an extortionist, a baron, a philanthropist and an entrepreneur. His friendship with Laalu gets stronger and so does his political connections. Surya sets up a company named Surya Exports & Imports which would act as a front for the organized crime that they indulge in. Surya reveals his plan to grow his network of organized crime all over India. He begins to set up branch offices for Surya Exports & Imports in all major cities, towns and villages all over India. He recruits local gangsters for staff and begins to forcefully collect two percent tax on every contract done in that area. Eventually Surya grows to be a billionaire and later reveals to the police commissioner that he never wanted money but only power. He claims that he believes in war but not morality and that the crime rate dropped significantly after he started to recruit all the gangsters. He also states that he wants to rid India of crime and help the needy. Surya also helps Laalu to become the Mayor of Mumbai by defeating Arun Ghokle  who is backed up by Jai Dev , a powerful national politician. Eventually Arun Ghokle goes against Jai Dev and talks to the police about Jai Dev's illegal activities. Jai Dev kills the police commissioner and Chitra becomes devastated by it. Surya reveals to her that he was an American born Indian who looses his philanthropist Non-resident Indian father at an early age. His parents were the victims of Political corruption and were cheated and killed by Jai Dev. This incident and the attitude of people towards an orphan while growing up made him hate the society. In his pursuit of power and achieving his goal of getting India rid of crime he shifts his attention towards the upcoming Indian parliament elections. He with the help of Laalu meets up with Guru Govind Patel , head of the opposition party. He makes a deal with him and offers him 35000 crores for election campaigning and also promises him that he would make him the prime minister of India. Surya uses the money and starts to make an impact on the elections. He spends millions on every constituency in India and also makes Jai Dev unable to contest in the elections. After knowing that Jai dev has kidnapped Chitra to seek revenge on him, he fights of the Jai Dev's goons and eventually kills him and saves Chitra. It is shown at the end that he had successfully installed Guru Govind Patel as the prime minister of India and is seen with Chitra, who accepts his love. \n",
            "\n"
          ]
        }
      ]
    },
    {
      "cell_type": "code",
      "metadata": {
        "colab": {
          "base_uri": "https://localhost:8080/"
        },
        "id": "XaxmE6t0FW-K",
        "outputId": "9e37367e-76d1-4177-8253-2fcef117d3b9"
      },
      "source": [
        "content_recommender(749, 5, corpus_tf_idf)"
      ],
      "execution_count": 47,
      "outputs": [
        {
          "output_type": "stream",
          "name": "stdout",
          "text": [
            "ID:  749\n",
            "Title:  Seizure\n",
            "Categories:  \"Monster movie\",  \"Horror\",  \"Surrealism\",  \"Psychological thriller\",  \"Satire\",  \"Slasher\"\n",
            "Summary:\n",
            " Horror writer Edmund Blackstone  sees his recurring nightmare come to chilling life one weekend as one by one, his friends and family are killed by three villains, led by Martine Beswick as the Queen of Evil, and Hervé Villechaize as Spider. \n",
            "\n",
            "Place: 1\n",
            "ID:  4410\n",
            "Title:  Spider-Man\n",
            "Categories:  \"Adventure\",  \"Superhero movie\",  \"Action/Adventure\",  \"Fantasy\",  \"Coming of age\",  \"Action\"\n",
            "Summary:\n",
            "  High-school senior Peter Parker  lives in Forest Hills, a quiet suburban neighborhood in the New York City borough of Queens, with his Uncle Ben  and Aunt May . He secretly loves Mary Jane Watson , a warm-hearted girl next door, but is too shy to approach her. His best friend Harry Osborn  is the son of Dr. Norman Osborn , president of the Oscorp manufacturing corporation, which is working to win a contract to supply weapons to the United States Army.  On a field trip to a genetics laboratory, Peter is bitten by a genetically engineered spider. He passes out in his bedroom at home, and wakes to find that his vision is perfect, he has developed superhuman strength, his wrists emit web strings, and his reflexes are super-quick. At school, he saves Mary Jane from a split-second fall and easily defeats her bullying boyfriend Flash Thompson  in a fistfight. Realizing that the spider's bite has given him spider-like powers, he trains himself to scale walls, jump between rooftops, and swing through the city. Peter enters a wrestling tournament, hoping to win $3,000 so he can buy a sports car to impress Mary Jane. On the day of the tournament, Ben gives Peter some fatherly advice, most importantly the message \"with great power comes great responsibility\", but Peter lashes out at him. Peter easily defeats his opponent, Bonesaw McGraw , but the fight promoter only gives Peter $100 for winning a match 1 minute earlier than he had to. When a thief robs the man, Peter takes his revenge by allowing the robber to escape. Later that night, Peter finds that his Uncle Ben has been shot by a carjacker. As his uncle dies, Peter learns of the thief's whereabouts through the police radios and pursues him using his powers. Peter catches up with the thief, only to discover that it was the man who robbed the wrestling arena earlier. Feeling responsible for Ben's death, and guilty for rejecting his advice, Peter dedicates himself to fighting crime as Spider-Man. He makes money by selling pictures of himself as Spider-Man to Daily Bugle newspaper editor J. Jonah Jameson , who declares Spider-Man a menace to New York. Meanwhile, under pressure from the military, Norman tests Oscorp's dangerous new performance-enhancing chemical on himself. The chemical manages to make him much stronger, but he quickly develops a maniacal alter ego, and immediately murders his assistant. Later, he has no recollection of the murder, and learns that a piece of Oscorp hardware, a small flying weapons platform called a \"glider\", along with a special suit to control it, were stolen. Soon afterwards, a costumed figure armed with the suit and glider attacks, killing the military liaison that pressured Norman, as well as several scientists working for Quest Aerospace, a competitor for Oscorp, allowing Oscorp to become the main supplier to the U.S. Army. Norman proudly announces this to Oscorp's board of directors, only to become enraged when told that they have fired him in lieu of a merger deal they've accepted with Quest Aerospace. At an Oscorp-sponsored fair, the same costumed figure attacks again, killing the directors. He almost kills Mary Jane, but Spider-Man manages to drive him away. After being saved by the superhero, Mary Jane begins to develop a crush on him and also becomes weary of her relationship with Harry. Jameson dubs Norman's alter ego the \"Green Goblin\". After Spider-Man refuses the Goblin's offer to work together, Norman secretly discovers that Peter is Spider-Man. The Green Goblin attacks Aunt May's house, hosplitazing her. As they watch over May in the hospital, Mary Jane tells Peter she loves Spider-Man, and Peter expresses his own feelings for her. Harry sees them holding hands, and in an act of jealousy tells his father about their love for each other, revealing that Peter has feelings for Mary Jane. The Goblin lures Spider-Man to the top of the Queensboro Bridge by taking Mary Jane and a Roosevelt Island Tramway car full of children hostage. As he drops both Mary Jane and the children, the Goblin commands Spider-Man to choose which one he will save. Acting quickly, however, Spider-Man saves them both, with help from the people on the bridge and a barge on the river below, forcing the Goblin to take Spider-Man to an abandoned atrium. In a final battle, Spider-Man defeats the Green Goblin, forcing Norman to reveal himself. Norman tells Peter he tried to stop the violence the \"Goblin\" had caused. However, Norman attempts to kill Peter by sending his glider flying towards him but Peter dodges it, causing it to impale Norman. Norman tells Peter not to reveal his true identity to Harry, then dies. Spider-Man removes the Goblin suit from Norman's body and then drops him at the Osborn's penthouse, but is spotted by Harry, who is left with the impression that Spider-Man murdered his father. At Norman's funeral, Harry swears to Peter that he will make Spider-Man pay dearly and avenge his father's death. Mary Jane confesses her love to Peter and kisses him, but Peter insists that they can only be friends, with him afraid that she would suffer further harm if Spider-Man's enemies knew that he loved her. Walking away from Mary Jane, who is now in tears yet also finds the kiss familiar afterward, he recalls Ben's words, \"With great power comes great responsibility,\" and accepts his new life as Spider-Man. \n",
            "\n",
            "Place: 2\n",
            "ID:  2021\n",
            "Title:  James and the Giant Peach\n",
            "Categories:  \"Adventure\",  \"Children's/Family\",  \"Stop motion\",  \"Animation\",  \"Musical\",  \"Fantasy\",  \"Comedy\",  \"Family Film\",  \"Fantasy Comedy\",  \"Children's Fantasy\"\n",
            "Summary:\n",
            "  In the 1930's, James Henry Trotter is a young boy who lives with his parents by the sea in the United Kingdom. On James's birthday, they plan to go to New York City and visit the Empire State Building, the tallest building in the world. However, his parents are later killed by a ghostly rhinoceros from the sky and finds himself living with his two cruel aunts, Spiker and Sponge. He is forced to work all day and they threaten him with beatings to keep him in line and taunt him about the mysterious rhino and other hazards if he tries to leave. While rescuing a spider from being squashed by his aunts, James meets a mysterious man with a bag of magic green \"crocodile tongues\", which he gives to James to make his life better. The soldier warns him not to lose the \"tongues\" and disappears. When James is returning to the house, he trips and the \"tongues\" escape into the ground. One peach is soon found on a withered old tree, and grows into immense proportions. Spiker and Sponge use the giant peach as an attraction, making lots of money as James watches from the house, not allowed to leave. That night, James is sent to pick up the garbage. While doing so, he grabs a chunk of the peach to eat as one of the \"crocodile tongues\" jumps into it. A large hole appears inside the peach and James crawls inside, where he finds and befriends a group of life-size anthropomorphic bugs who also dream of an ideal home . As they hear the aunts search for James, Centipede manages to cut the stem holding the giant peach to the tree and the peach rolls away to the Atlantic Ocean with James and his friends inside it, seemingly squashing Spiker and Sponge's antique car as they try to chase it. Remembering his dream to visit New York City, James and the insects decide to go there. They use Miss Spider's silk to capture and tie a hundred seagulls to the peach stem, while battling against a giant robotic shark. They escape just in time. While flying, James and his friends eventually find themselves hungry and soon realize that \"their whole ship is made out of food\". After gorging most of the inside of the peach, Miss Spider, while using her web to tuck in James, reveals to him that she was the spider he saved from Spiker and Sponge. James then has a nightmare of him as a caterpillar attacked by Spiker, Sponge, and the rhino. When he wakes up, he and his friends find themselves in Antarctica, lost and cold. The Centipede has fallen asleep while keeping watch, resulting in them further away from their destination than ever. After hearing the Grasshoper wishing they had a compass, Centipede jumps off the peach into the icy water below and searches a sunken ship. He finds a compass but is taken prisoner by a group of skeletal pirates. James and Miss Spider rescue him and the journey continues. As the group finally reaches New York City, a storm appears. A flash of lightning reveals the rhino approaching towards them. James is terrified but faces his fears and gets his friends to safety before the rhino strikes the peach with lightning; The strings keeping the seagulls attached to the peach are cut and the peach falls to the city, dragging James with it. James coughs up the crocodile tongue as he reawakens, and emerges from the peach realizing it has landed right on top of the Empire State Building. After being rescued by the police and firefighters, Spiker and Sponge arrive, supposedly having driven their car across the seabed, and attempt to take back James and the peach. James stands up to Spiker and Sponge, and they attempt to kill James. Using the remaining seagulls, the bugs arrive in New York City. They tie up Spiker and Sponge with Miss Spider's silk and the police arrest them both. James introduces his friends and allows the children of New York to eat up the peach. The peach stone is made into a house in Central Park, where James lives with the bugs and has the friends he could wish for. Centipede runs for New York mayor, Grasshopper becomes a professional violinist, Earthworm becomes a mascot for a new cream, Ladybug becomes a nurse, Glowworm lights up the Statue of Liberty, Miss Spider owns a club called \"Spider Club\", and James celebrates his 8th birthday with his new family. In a post-credits scene, a new arcade game called \"Spike the Aunts\" is shown, featuring the rhino. \n",
            "\n",
            "Place: 3\n",
            "ID:  3311\n",
            "Title:  The Pique Poquette of Paris\n",
            "Categories:  \"Short Film\",  \"Animation\"\n",
            "Summary:\n",
            " The Inspector and Sergeant Deux-Deux are assigned to take down a notorious \"pique poquette\"  named Spider Pierre, so named because he has four arms and two legs. Their first attempt to lure him out is at a favorite watering hole of Spider Pierre, where The Inspector, after borrowing a thousand francs from Deux-Deux , goes in, flashes it around, and orders a drink. While waiting for the drink, he puts his wallet in his back pocket, where it is quickly snatched by Spider Pierre. After he drinks his drink, he goes to pay for it, and realizes his wallet was taken. The bartender then violently throws him out. Undeterred, The Inspector obtains more money from Deux-Deux  to go back in.Before Deux-Deux could tell him that the money is play money belonging to his daughter,Maria,the Inspector tells him to synch his watch,but as they go to synchronize their watches, Spider Pierre sneaks up and takes just about everything out of The Inspector's pockets , convincing him they were dealing with a vacuum cleaner. While chasing Spider Pierre through an alley, Pierre whips out his \"spider webley specialist\"  and uses it to spin a web at the other end of the alley, which slingshots The Inspector's car back all the way into the Eiffel Tower, damaging it . Later while chasing Spider Pierre on foot, Pierre sends a piece of thread to the top of a building and climbs up, followed by the Inspector, who afterwards walks on another piece of thread like a highwire, only to meet Pierre at the other end holding the other end of it. He lets go and the Inspector swings into the side of a building, taking out part of the wall. He crashes down with the wall, only to have a safe crash on him and send him through the pavement into a subway line. In the next scene, The Inspector is chasing Spider Pierre again. Pierre runs up the side of a building this time, and the Inspector tries to do so at first himself, but falls down. Undeterred again, he comes back with plungers on his feet, and starts running up the building after him. However, Pierre opens a window in the Inspector's path, and he falls into a woman's apartment, who screams and chases him out, accusing him of being a peeping Tom, then hits him over the head with a broom. When the Inspector hits the ground, he lands on the plungers, then springs back up to the woman, who hits him again. This keeps repeating, and as Deux-Deux watches, he says, \"Well, that's cop biz for you. It has its ups, and downs.\" Finally, Deux-Deux faces Spider Pierre directly and threatens to \"let him have it\" if he doesn't surrender. This prompts Pierre to laugh uncontrollably, and Deux-Deux blasts him with DDT and subdues him. Later in prison, we see that not only is Spider Pierre in there, so is the Inspector, apparently for having counterfeit money on him, as the money he borrowed from Deux-Deux was his child's play money. \n",
            "\n",
            "Place: 4\n",
            "ID:  1922\n",
            "Title:  Anamika\n",
            "Categories:  \"Romantic drama\",  \"Romance Film\",  \"Drama\",  \"World cinema\"\n",
            "Summary:\n",
            " It is the story of a reclusive writer ([[Sanjeev Kumar  who finds a young woman  thrown from a speeding car with her hands tied and her mouth gagged. He, his uncle, and his secretary  take the unconscious girl home, and when she wakes up the next morning, she doesn't remember anything about her life and insists that she is the writer's wife. The uncle convinces the writer to humor the girl until she regains her memory. In the meantime, she shows him the crazy, fun part of life. He calls her Anamika, which means \"Girl without a Name.\" As he is falling in love with her, he sees clues about her past that raise more questions: Is she a married woman named Archana or is she a prostitute named Kanchan? Just as unexpectedly as she had come into his life, she leaves him. When he sees her again at a party, she refuses to recognize him. The movie's mystery deepens as the writer finds out who the woman actually is. \n",
            "\n",
            "Place: 5\n",
            "ID:  4869\n",
            "Title:  Twice Upon a Time\n",
            "Categories:  \"Stop motion\",  \"Fantasy\",  \"Comedy\"\n",
            "Summary:\n",
            " In the faraway eternally busy city of Din, live the black-and-white Rushers, who constantly go about their business in a fast-paced way and stop only to sleep. Din lies in between two worlds that create dreams to deliver to the sleeping Rushers - one is the bright and cheerful Frivoli, where Greensleeves and his Figmen of Imagination bring sweet dreams, and the other is the Murkworks, a dark and dingy factory home to vultures who drop nightmare bombs. The evil  Botch, maniacal ruler of the Murkworks wants to foil Greenie's efforts and subject the Rushers to non-stop waking nightmares. He uses his vultures to kidnap the Figs and Greensleeves, but not before Greensleeves writes an S.O.S. to Frivoli. Meanwhile, two misfits known as Ralph The All Purpose Animal , and Mumford, a Chaplin-esque mime, are put on trial for their incompetence at work. Determined to prove they can do something right, Ralph and Mumford take on the job of garbagemen. As they dump garbage over a large hill, they meet Flora Fauna, Greensleeves's niece, who has found her uncle's S.O.S and wants to find him. Botch spies on the three through Ibor, his robot gorilla, and uses Ralph and Mum's desire to be heroes to his advantage. After introducing himself as a friend of \"Greenie\", he cons the three that in order to save Greensleeves, they need to go into Din and steal the main spring from the Cosmic Clock. Flora stays behind to act the part of the damsel in distress for Botch's nightmares. Mumford and Ralph release the spring which causes time to freeze. They chase the spring throughout Din, but Botch sends his vultures to steal the spring from them and begin planting nightmare bombs. A Fairy Godmother, or FGM as she likes to be called, twinkles in to tell our heroes that they have been tricked and gives them three dimes to make a phone booth appear in case they need her help. FGM also recruits the help of the dim-witted but musclebound Rod Rescueman to aid them. Rod is more interested in rescuing Fauna, however, and abandons the boys to find her. Ralph and Mum find nightmare bombs scattered all over an office, ready to be set off by Botch once he starts time starts again. Mumford accidentally sets a bomb off and the two are trapped in a nightmare where they are chased and nearly killed by office supplies come to life. When they are finally freed from the nightmare, the Fairy Godmother transports them back to Frivoli and tells they're better off giving up after all the mistakes they've made and fires them from the hero business. This only further strengthens Ralph and Mum's resolve to do right. Meanwhile, Rod \"rescues\" Flora from the Murkworks and attempts to get a kiss from her. She tries to escape from his floating apartment in the sky and falls. She survives, however, when she lands on a mechanical serpent that attempts to stop Ralph and Mum from reaching the Murkworks. The trio and Rod storm their way in with the help of Scuzzbopper, Botch's former nightmare screenwriter, who decides to aid them after Botch destroyed his recently completed novel. Rod and Flora rescue Greenie and the Figs but have to contend with Ibor. Rod tries to save Flora again but fails, and Flora destroys the robot herself. Mum and Ralph take on Botch as the vultures fly the spring back to Din. When it seems Botch has killed Mum, Ralph finally manages to control his shapeshifting and tricks Botch into pushing \"The Big Red One\", detonating every bomb before time is restarted. Just as Botch is about to kill Ralph for ruining his plans, one last nightmare bomb appears and rolls toward Botch. Terrified at being subjected to his own nightmare, Botch leaps out the window and is carried away by his angry vultures . Ralph finds the bomb was really Mumford, who survived Botch's attack and hid in an empty shell. The two now consider themselves heroes and earn kisses from Flora. The spring returns to the Cosmic Clock of its own will, and restarts the flow of time, but at a pace where the Rushers can enjoy life. \n",
            "\n"
          ]
        }
      ]
    },
    {
      "cell_type": "code",
      "metadata": {
        "colab": {
          "base_uri": "https://localhost:8080/"
        },
        "id": "tF8jsmaBFdQl",
        "outputId": "0d217346-054f-4ff7-fe7e-b3b79aee8855"
      },
      "source": [
        "content_recommender(1446, 6, corpus_tf_idf)"
      ],
      "execution_count": 48,
      "outputs": [
        {
          "output_type": "stream",
          "name": "stdout",
          "text": [
            "ID:  1446\n",
            "Title:  I'm a Big Shot Now\n",
            "Categories:  \"Comedy\",  \"Animation\"\n",
            "Summary:\n",
            " The plot concerns a gangster bird, who sings the title song and likes to prove his toughness by beating up on cops without provocation. The hoodlum spots the Birdville Bank across the street from the saloon where he hangs out, and calls his gang together to rob the bank and make a quick getaway. In the ensuing chase, the avian police  capture him by shooting the floor out from the birdhouse which he uses as his hideout, leaving him to sing \"I'm Just a Jailbird Now\" from his jail cell. \n",
            "\n",
            "Place: 1\n",
            "ID:  4881\n",
            "Title:  Smart Alecks\n",
            "Categories:  \"Crime Fiction\",  \"Romance Film\",  \"Drama\",  \"Comedy film\"\n",
            "Summary:\n",
            " Hank leaves the East Side Kids to become an apprentice crook; his first job being the lookout during a bank robbery done by Mike and Butch. Hank is handed the pistol one of the crooks used to rob the bank with the events witnessed by Police Officer Regan and Danny's sister. Hiding from the police in the gang's clubhouse, Muggs throws Hank out of the gang when they discover he is involved in criminal activity. Hank is caught by the police whilst Mike and Butch remain at large. When the gang is playing baseball in the street the hit a ball into the window of Mike and Butch's hideout. Leaving his room, Butch refuses to give the gang their baseball back with Danny tackling Butch. Officer Regan arrests Butch and informs Danny he will receive a $200 reward. Danny wants to use the reward money to buy the gang new baseball outfits as a surprise but Muggs and the gang think Danny is keeping the money for himself. Butch and Mike escape from prison to take their revenge on Danny. Also escaping is Hank who warns the gang on their plans for Danny. Danny is nearly beaten to death with only brain surgery pulling him through. Hank and the gang revenge Danny by beating and capturing Butch. \n",
            "\n",
            "Place: 2\n",
            "ID:  3829\n",
            "Title:  Crime Wave\n",
            "Categories:  \"Crime Fiction\",  \"Drama\",  \"Film noir\"\n",
            "Summary:\n",
            " 'Doc' Penny  and his gang rob a gasoline station and in the process a police officer is killed and one of the gang members is wounded. The wounded thug imposes himself on Steve Lacey , an ex-con trying to start a new life, and demands he call a disreputable doctor for help. The doctor arrives, but too late. The gang member is dead. After his death, Lacey calls his parole officer who involves a hard-nosed cop, Detective Lieutenant Sims , who doesn't think he can reform. Later, the remaining gang members show up at Lacey's apartment. Fearing for his wife's  safety, he decides to let the men stay. Subsequently, Penny forces Lacey to rob a bank with them, but Lacey alerts the police  who staff the entire bank with police officers and ambush the robbers. In the end, most of the gang is killed, but Lacey and his wife are safe. \n",
            "\n",
            "Place: 3\n",
            "ID:  2384\n",
            "Title:  Kaante\n",
            "Categories:  \"Crime Fiction\",  \"World cinema\",  \"Caper story\",  \"Action/Adventure\",  \"Drama\",  \"Action\",  \"Musical Drama\",  \"Bollywood\"\n",
            "Summary:\n",
            " The movie is narrated by Lucky Ali, as Mak. The six main characters are detained by the LAPD, and interrogated about stealing a truck full of laptops and its whereabouts. All six are detained for about a day, where their deep antipathy towards the police department, for arresting them without any apparent evidence against all of them, and just because the witnesses had seen a South Asian at work, grows into a daring plot. Sparked by \"Major\" and blown up by \"Ajju\", who asks them to meet him in his club, they all hatch a plan to rob the bank in which holds the payroll for the LAPD. In return, Ajju reveals that he was the truck stealer and splits the money with all. Everyone goes about their normal life after that, in which it is revealed the personal troubles all face. Marc is a bouncer who hates the way his lover, a club-dancer, has to live and decides to rescue her from the club owner Cyrus, by paying him the required money. Ajju is a club owner who is facing his own problems handling the club and has to lease it out. He also has an ongoing spat with Marc about his girlfriend. Major has a sick wife who he has to look after by supplying her with medicine and injections. Andy is a young, intelligent, software engineer who is having problems with his job and is in the middle of a divorce and custody dispute with his wife. Major knows that Andy is the most important member of the group as he is the only one who can hack the bank's computer system. Mak and Bali are two drug-peddlers who live off the street selling and buying illicit drugs for a drug lord. They first meet when Bali is being chased by some undercover policemen and meets Mak in alley where he is adjusting something in his car. He agrees to save him only if he splits his loot. They agree to work as partners on those terms from then on. The six characters meet on a hotel rooftop where they construct their plan and arrange for arms, ammunition, vehicles and gadgets. They do some reconnaissance around the bank and two days before the robbery, Major calls up everyone to surprise them, telling them the robbery is to take place the next day. On the day of the robbery, they meet unexpected visitors in a SWAT team waiting for them outside the bank. They are engaged in gunfight during which Mak takes a bullet for Major. They all escape and meet at their hideout, however, they realize that someone might have betrayed them to police and realize that the police might know about their hideout as well. Mak, who was hit, is not allowed to be taken to the hospital, and Major treats his wound with some alcohol. They all have verbal scuffle after which, Ajju, reveals he had kidnapped the Police Chief. They interrogate him and get to know that one among them, was an undercover cop. This strikes terror among them and they all decide to bring the whole stolen amount to their hideout. On the process, they meet a number of surprises. Major finds out that his wife had died. Ajju befriends Marc and tells him to elope with his girlfriend. Marc finds out that Ajju was feigning his inability to speak English. When they return, they find Bali dead, killed by Mak because Bali was being inhuman in his interrogation of the Police Chief. Ajju realizes Mak to be the informer. Major defends Mak because he saved him during the gunfight at the bank. They all arrive at a Mexican stand-off, with Andy as the viewer. He retreats and runs away with the bags. They all kill each other, during which Major apologizes to Mak, for not saving him. In reply, Mak apologizes saying he was just doing his duty. Major realizes his mistake and shoots the already dying Mak in the head. Marc's girlfriend is shown waiting for him at the airport and Andy is shown at the end driving off the highway pursued by a Police helicopter. It is ascertained that he also died as all of them are, narrated by Mak, to have met in hell. \n",
            "\n",
            "Place: 4\n",
            "ID:  4189\n",
            "Title:  Wiggle Time\n",
            "Categories:  \"Short Film\"\n",
            "Summary:\n",
            " Opening - The Wiggles wave their hands up high from the song \"Whenever I Hear This Music\" and the Wiggle Time logo is showing in front. Jeff has fallen asleep while standing and then Anthony, Greg and Murray arrive. Murray suggests they wake him up, and Greg has everyone yell \"Wake Up Jeff!\" at the count of 3. They count: \"1, 2, 3, Wake Up, Jeff!\" Jeff jumps and screams, running around to the back of the set and then to the front. Anthony asks Jeff if he's awake now and he affirms. Now it's time to Wiggle! * Song 1: Get Ready To Wiggle Greg tells everyone that there going to sing a song all about four animals. And at the end of the song, he says that let's all growl like a scary bear. * Song 2: Here Comes A Bear While Jeff, Greg and Murray are growling at the end of the song, Captain Feathersword arrives and tickles them with the feathersword. Greg tells Captain Feathersword to stop tickling him, and Captain Feathersword agrees, stating he can show them a pirate dance they can learn. * Song 3: Captain Feathersword Murray introduces the next song about a man who lived a long, long, time ago. His name was Noah and he had to save some animals from a flood so he built a really, really big boat and called it an ark. As Murray lists off the animals, the other Wiggles make the sounds: duck quacking, cow mooing, rooster crowing, cats meowing. He also makes some gestures such as the goats shaking their heads and the long-eared donkeys going hee-haw. * Song 4: Uncle Noah's Ark The Wiggles and some kids are doing paintings using droppers. Anthony holds out his dropper and remarks that it looks like rain. * Song 5: I Love When It Rains Anthony talks about Dorothy the Dinosaur. Wherever she goes, sings and plays, she comes along with the Wiggles, she says \"romp bomp a chomp.\" Dorothy the Dinosaur loves to sing with children, but they don't know where she is. Anthony asks that if you know where Dorothy is? Dorothy walks in from the right but at the back of the set. The Wiggles hear from the audience where she is but she moves whenever they look in that direction. After a few misses, Dorothy walks up behind Jeff. Greg tells Jeff that Dorothy is behind him. Jeff looks to his left but Dorothy moves behind him and out of sight. After some more misses, Jeff looks and sees Dorothy in surprise. They all sing the next song. * Song 6: Dorothy The Dinosaur * Greg's Magic Trick - Coloring Book Trick * Song 7: Sing A Song Of Polly  Greg is a magician, wearing a top hat and cape. He does a magic trick where he flips through a book that initially does not have any pictures. He asks the audience to say some magic words and throw some pictures into the book. He flips through the book and it has some drawings. \"Did you do that? Raise your hand if you did. You're all so clever!\" He then asks to put some color into the picture by rubbing their clothes. He flips through the book but there is no color. He realizes he forgot to use his magic wand. How silly. He has everyone rub their clothes again and throw the colors at the book. He waves the wand and says \"Abracadabra.\" He then flips through the book and there is color on the drawings. Raise your hand if you did that. Now give yourselves a really big clap. Well done. Greg then disappears. * Song 8: Whenever I Hear This Music Jeff wears an extra purple shirt over his head and makes a blubbering noise; he asks if you know what he is. He's an octopus. He blubbers again and then pokes his head through the top. He's not really an octopus, it's just Jeff. And then he tells that he has a friend who is an octopus and his name is Henry the Octopus. * Song 9: Henry The Octopus The Wiggles are sitting on the floor with some kids who are holding teddy bears. They are having a picnic. Greg says that he knows a song about teddy bears, and he asks if everyone can sing and do the actions with them. * Song 10: Rock A Bye Your Bear The Wiggles and some kids are seated at a table, making fruit salad. Anthony explains how it's done and to make sure there is an adult present, and to use a plastic knife. * Song 11: Fruit Salad Anthony leads The Wiggles and some kids in a line. The kids are holding presents. He stops and tells everyone they are going to Dorothy the Dinosaur's birthday party and that you can come along. Then they continue marching around singing and then walk off the set. * Song 12: Marching Along * Song 13: Dorothy's Birthday Party Greg remarks what a great party it was, but now they're tired so it's time to go. They all say goodbye and fell asleep except for Jeff, who tries to wake everyone up but they don't wake up. Jeff then crosses his arms and shakes his head with a sigh. \n",
            "\n",
            "Place: 5\n",
            "ID:  4654\n",
            "Title:  Yes, We Have No Bonanza\n",
            "Categories:  \"Short Film\",  \"Comedy\",  \"Black-and-white\",  \"Slapstick\"\n",
            "Summary:\n",
            " The Stooges are singing waiters in a saloon out West, accompanied by three cowgirls. Unfortunately, saloon keeper Maxey  is surly and patronizing to the hard working girls. The girls have little choice, as they are forced to work for him because their father is in debt. The Stooges vow to make enough money to pay off the debt and wed the girls, and decide to go prospecting for gold. Unknown to the Stooges, however, Maxey has recently robbed a bank and buried the loot. In their digging, the boys managed to discover Maxey's stash, thinking they are truly in the dough. They return to town, but Maxey gets his hands on the money and flee the saloon. The Stooges, of course, catch up with Maxey, retrieve the loot, and end up giving back to the bank from whence it came, much to their astonishment. \n",
            "\n",
            "Place: 6\n",
            "ID:  137\n",
            "Title:  New Police Story\n",
            "Categories:  \"Thriller\",  \"Action Thrillers\",  \"World cinema\",  \"Action/Adventure\",  \"Martial Arts Film\",  \"Action\",  \"Chinese Movies\"\n",
            "Summary:\n",
            "  The film begins with police Inspector Chan Kwok-wing  drinking one whiskey after another. Later, he collapses in an alley, and is found by a stranger, played by Nicholas Tse. The timeline then moves back a year, to show the heroics of Inspector Chan, as he disguises himself as a news cameraman in order to subdue a man holding a woman hostage in Central. Soon after that incident, a group of rebellious youths rob a bank. They explicitly ask a bank worker to call the police, and are confronted by the police outside the Legislative Council building. They play a sadistic game, in which they are awarded money for shooting police officers with assault rifles, before making their escape. Inspector Chan and his squad are called to arrest the gang after their hideout is revealed. However, the hideout is rigged and the ten man police squad fall into various traps one by one. Chan then finds his men in a large warehouse, suspended from the high ceiling by ropes. The gang challenges him to training regimes that are taught to policemen, betting lives of his men each time. Under mental pressure and the taunts of the gang, Chan loses and is left with only his would-be brother-in-law to save, who soon dies nevertheless. He tries to save the bodies of his comrades for burial before explosives blow up the building. Being the sole survivor of the incident, Chan takes a year long leave from the police force, drinking heavily to drown his sorrows and guilt. The timeline jumps back to the present day. The stranger, who first featured at the start, brings him home. When Chan wakes up, the man identifies himself as PC 1667, Frank Cheng , his new partner. Frank tries various means to convince Chan to cancel his leave and take up the case but Chan refuses. However, he comes to his senses eventually by apprehending the same two youths that robbed him. At the police station, Frank tells Chan that he is Kwong's younger brother, which convinces Chan to relook into the case. Frank and Chan convinces Sam Wong, a former colleague of Chan, to reveal a clue from the night of the first robbery; a watch which he snatched from one of the robbers. Chan and Frank are tailed by the police as they go in search of the owner of the watch. Sam Wong was also arrested by the police to assist in the investigation. Sam Wong is shot dead by another gang member, Fire, before he manages to identify the robber . Before dying, Wong confesses to Chan that he was blackmailed by the gang into revealing their rigged hideout to Chan's team a year ago, due to the bag of money he took from Sue to pay off his debts. Fire and Sue both manage to escape the building, with Chan and Frank pursuing Fire. To distract Chan, Fire shoots at a bus driver, killing him instantly and rendering the bus full of school kids out of control. Chan quickly jumps onto the roof of the bus in an attempt to stop it. After the careening bus has caused a great deal of havoc, Chan finally manages to climb in and hit the brakes, halting it from falling into Victoria Harbour, while Frank rams a truck full of rubber ducks in front of the bus' path. After the incident, Chan discovers that Frank is not really a policeman, and confronts him. Frank attempts to explain to Chan, but Chan refuses to believe the story. Regardless, they stay together to continue to track the gang leader, Joe. They are informed by Officer Sa Sa that the gang members all come from rich families and the gang leader is actually the son of the police chief. Sue and Fire return to the gang's new hideout. Sue is badly wounded, after being shot by Frank earlier. Seeing her injury, Joe shoots and kills her. Joe's gang access Chan's police file on a computer, with Joe bent on taking revenge. Joe then arranges to meet Chan's girlfriend, Ho Yee, in the police station. He wraps a time bomb around her neck before leaving. When Chan learns of the bomb he desperately tries to free her. Ho Yee cuts the wires, with no effect, leading the police to believe that it is a fake. But when the two get ready to leave, a small wire attached to Ho Yee's back pulls out the secondary trigger, causing the bomb to explode. Before she can escape, it explodes and some falling pipes land on her, knocking her into a coma. Unfortunately for Chan, he is charged with assisting the impersonation of an officer  and for acting as an officer while under suspension. After Chan and Frank are taunted by Joe's gang, Sa Sa and her father, the jailer, release both of them illegally. The two sneak out of the police station, with everyone deliberately ignoring their escape. Police Chief Wong even makes his handgun available to Chan and tells Chan to 'bring it back when you're done'. Chan, Frank, and Sa Sa then go to a computer cafe to find teens playing the game up until they complete the most recent level to find out the gang's next target is the Bank of Hong Kong, located in the New Wing of the Convention and Exhibition Centre. A squad of police officers arrive, but this time Chan stops them from rushing in, assigning them the task of calmly escorting the public out of the building. Once the public are moved to safety, the gang members' parents are sent in, much to their surprise. One of the gang members, Max, is so ashamed of himself that he attempts to run down the escalators to his parents, only to be shot dead by Joe. Afterwards, Chan and Frank run up to engage the three remaining gang members. Frank manages to shoot Fire in the leg with his own gun, disabling him. Chan chases another gang member, Tin Tin, into a Lego exhibition. When the exhibition hall is emptied, Chan reminds him that they had struck a draw the last time they fought. The two engage in hand-to-hand combat, with Chan defeating Tin Tin. Joe then chases Frank into the hall and shoots at him. In the crossfire, Tin Tin is shot in the chest. Joe manages to chase Frank out of the room just moments before the Special Duties Unit of the police arrive. Tin Tin grabs a gun from the floor and points it at Chan's back. Chan, oblivious to what's happening behind him, calls out to the squad to bring in a medic for the Tin Tin. Contemplating what he has done and how Chan is helping him, Tin Tin decides not to shoot Chan. Chan finds Joe on the roof of the Convention Centre. Having captured and tied up Frank, Joe threatens to throw him to his death. Joe challenges Chan to a race to assemble a semi automatic pistol, a rematch of an earlier challenge, and wagering Frank's life in the process. This time, Chan chambers the bullet first thus swiftly wins the game, much to Joe's disbelief. A number of policemen arrive on the roof, along with Joe's father, the police chief. Joe's father reprimands him, while Chan tells Joe that he knows that he doesn't hate cops, he merely hates his father for berating him. Due to what Chan and his father have said, Joe finally admits defeat and deliberately unloads the single bullet in his gun and aims the empty gun at Chan for the police to have a cause to kill Joe. Not knowing that Joe's gun is empty, a police sniper then fires a round at him, injuring Joe in the process. He weeps and again aims at his father, causing the sniper to fire once more, killing him despite Chan's yelling that the gun was empty. Chan rushes to rescue Frank and both of them fall off the building. They eventually land onto a fireman's inflated cushion. In the hospital, Ho Yee has recovered and prepares to leave. She is met by several policemen and nurses who persuade her to accept Chan's marriage proposal. At first, she tries to hide her facial scars from Chan, but eventually accepts the proposal to the crowd's applause. Meanwhile, Frank is led away by Officer Sa Sa. He leaves his jacket on a railing. When Chan looks at the jacket, he suddenly recalls meeting Frank before, and has a flashback to an event from years ago: a homeless man from the mainland arrives without much money, and his son is starving. He tries to steal some food for his son from a 7-Eleven store. While running across the road to escape from the shopkeeper and the police, he is knocked down by a truck and killed. Chan arrives at the scene and uses his jacket to cover the body of the boy's father. Chan then buys the boy a loaf of bread. He comforts him, saying that the best thing do is to try to forget the past and look forward to the future. He asks the boy for his name, to which the boy replies, \"Frank Cheng\". \n",
            "\n"
          ]
        }
      ]
    },
    {
      "cell_type": "markdown",
      "metadata": {
        "id": "wGydRYXaFmBJ"
      },
      "source": [
        "## Tip: persistence αντικειμένων με joblib.dump\n"
      ]
    },
    {
      "cell_type": "code",
      "metadata": {
        "colab": {
          "base_uri": "https://localhost:8080/"
        },
        "id": "OrUoWXUPFm1g",
        "outputId": "dc0c7a15-134f-40a3-d4eb-0f41eb02dbf1"
      },
      "source": [
        "import joblib\n",
        "\n",
        "joblib.dump(corpus_tf_idf, 'corpus_tf_idf.pkl', compress=True) "
      ],
      "execution_count": 50,
      "outputs": [
        {
          "output_type": "execute_result",
          "data": {
            "text/plain": [
              "['corpus_tf_idf.pkl']"
            ]
          },
          "metadata": {},
          "execution_count": 50
        }
      ]
    },
    {
      "cell_type": "code",
      "metadata": {
        "colab": {
          "base_uri": "https://localhost:8080/"
        },
        "id": "NOkHXbqhGAC3",
        "outputId": "6c59b991-9bd7-47b7-f6d7-5264dbca88ad"
      },
      "source": [
        "!ls -lh"
      ],
      "execution_count": 51,
      "outputs": [
        {
          "output_type": "stream",
          "name": "stdout",
          "text": [
            "total 3.9M\n",
            "-rw-r--r-- 1 root root 3.9M Dec  1 13:03 corpus_tf_idf.pkl\n",
            "drwxr-xr-x 1 root root 4.0K Nov 18 14:36 sample_data\n"
          ]
        }
      ]
    },
    {
      "cell_type": "code",
      "metadata": {
        "id": "PW9jlTbRGIX3"
      },
      "source": [
        "corpus_tf_idf = joblib.load('corpus_tf_idf.pkl')"
      ],
      "execution_count": 52,
      "outputs": []
    },
    {
      "cell_type": "markdown",
      "metadata": {
        "id": "1jGy1uLAGMVI"
      },
      "source": [
        "# Εφαρμογή 2.  Τοπολογική και σημασιολογική απεικόνιση της ταινιών με χρήση SOM\n",
        "<img src=\"https://drive.google.com/uc?export=download&id=1R1R7Ds9UEfhjOY_fk_3wcTjsM0rI4WLl\" width=\"60%\">"
      ]
    },
    {
      "cell_type": "code",
      "metadata": {
        "id": "s3_sd_ioGOJX"
      },
      "source": [
        "def build_final_set(corpus_tf_idf, doc_limit = 5000, tf_idf_only=False):\n",
        "    # convert sparse tf_idf to dense tf_idf representation\n",
        "    dense_tf_idf = corpus_tf_idf.toarray()[0:doc_limit,:]\n",
        "    if tf_idf_only:\n",
        "        # use only tf_idf\n",
        "        final_set = dense_tf_idf\n",
        "    else:\n",
        "        # append the binary categories features horizontaly to the (dense) tf_idf features\n",
        "        final_set = np.hstack((dense_tf_idf, catbins[0:doc_limit,:]))\n",
        "        # η somoclu θέλει δεδομένα σε float32\n",
        "    return np.array(final_set, dtype=np.float32)"
      ],
      "execution_count": 54,
      "outputs": []
    },
    {
      "cell_type": "code",
      "metadata": {
        "id": "__tnV5ajHSN4"
      },
      "source": [
        "final_set = build_final_set(corpus_tf_idf)"
      ],
      "execution_count": 55,
      "outputs": []
    },
    {
      "cell_type": "code",
      "metadata": {
        "colab": {
          "base_uri": "https://localhost:8080/"
        },
        "id": "C5O5gdpNHXkG",
        "outputId": "ee3695cd-52f0-46d3-a5bb-bdee8e6f1a2d"
      },
      "source": [
        "print(corpus_tf_idf.shape)\n",
        "print(final_set.shape)"
      ],
      "execution_count": 56,
      "outputs": [
        {
          "output_type": "stream",
          "name": "stdout",
          "text": [
            "(5000, 10673)\n",
            "(5000, 10995)\n"
          ]
        }
      ]
    },
    {
      "cell_type": "markdown",
      "metadata": {
        "id": "4j-aDcdsHbS-"
      },
      "source": [
        "Τυπωνουμε τις (μη μηδενικες) τιμες ενος στοιχειου του final_set για να δουμε τι περιεχει. "
      ]
    },
    {
      "cell_type": "code",
      "metadata": {
        "id": "O7LMx2XgQaXc",
        "colab": {
          "base_uri": "https://localhost:8080/"
        },
        "outputId": "376a2c40-d222-43ab-92d0-b98f5682d34a"
      },
      "source": [
        "for i in range(len(final_set[0])):\n",
        "    if final_set[0][i]!=0:\n",
        "        print(final_set[0][i])"
      ],
      "execution_count": 57,
      "outputs": [
        {
          "output_type": "stream",
          "name": "stdout",
          "text": [
            "0.03414758\n",
            "0.035620734\n",
            "0.0519954\n",
            "0.046648435\n",
            "0.05275471\n",
            "0.0486082\n",
            "0.03224282\n",
            "0.021575825\n",
            "0.06680079\n",
            "0.039976638\n",
            "0.031619627\n",
            "0.037216045\n",
            "0.053603545\n",
            "0.063672125\n",
            "0.10720709\n",
            "0.03908262\n",
            "0.026189882\n",
            "0.044837274\n",
            "0.10824268\n",
            "0.03174871\n",
            "0.04148351\n",
            "0.02470729\n",
            "0.03491362\n",
            "0.046336222\n",
            "0.087096356\n",
            "0.026973767\n",
            "0.031969115\n",
            "0.045391154\n",
            "0.037284814\n",
            "0.028163457\n",
            "0.031125255\n",
            "0.050681453\n",
            "0.035473652\n",
            "0.022091204\n",
            "0.019785859\n",
            "0.049570527\n",
            "0.038617507\n",
            "0.031165183\n",
            "0.14308351\n",
            "0.031662397\n",
            "0.03711823\n",
            "0.019769367\n",
            "0.03525851\n",
            "0.092626356\n",
            "0.2079816\n",
            "0.3885835\n",
            "0.032575868\n",
            "0.025267815\n",
            "0.030123219\n",
            "0.04043934\n",
            "0.0342084\n",
            "0.043391086\n",
            "0.039976638\n",
            "0.050681453\n",
            "0.04011391\n",
            "0.038075387\n",
            "0.06447497\n",
            "0.0519954\n",
            "0.05403734\n",
            "0.05053563\n",
            "0.026011439\n",
            "0.017787285\n",
            "0.028740307\n",
            "0.2128328\n",
            "0.017338611\n",
            "0.041155875\n",
            "0.031368203\n",
            "0.02729412\n",
            "0.044077966\n",
            "0.03022792\n",
            "0.16548312\n",
            "0.04099748\n",
            "0.025704721\n",
            "0.021164486\n",
            "0.030625386\n",
            "0.03592422\n",
            "0.038617507\n",
            "0.022896126\n",
            "0.045391914\n",
            "0.050104607\n",
            "0.050681453\n",
            "0.049570527\n",
            "0.049570527\n",
            "0.049073312\n",
            "0.041475162\n",
            "0.030737702\n",
            "0.031006785\n",
            "0.017559458\n",
            "0.06853946\n",
            "0.049073312\n",
            "0.03153484\n",
            "0.06904086\n",
            "0.028655019\n",
            "0.021554692\n",
            "0.02437203\n",
            "0.029336246\n",
            "0.05275471\n",
            "0.0290024\n",
            "0.04093887\n",
            "0.04671062\n",
            "0.040253855\n",
            "0.022807699\n",
            "0.028487412\n",
            "0.049073312\n",
            "0.08915036\n",
            "0.04364686\n",
            "0.04148351\n",
            "0.019720118\n",
            "0.0724821\n",
            "0.031705424\n",
            "0.016955152\n",
            "0.031085549\n",
            "0.018807039\n",
            "0.028323615\n",
            "0.046313178\n",
            "0.03192449\n",
            "0.03247913\n",
            "0.04099748\n",
            "0.03532951\n",
            "0.11585251\n",
            "0.033622157\n",
            "0.02437203\n",
            "0.026434895\n",
            "0.02821645\n",
            "0.04817129\n",
            "0.10550942\n",
            "0.045992825\n",
            "0.057653233\n",
            "0.030123219\n",
            "0.044322286\n",
            "0.037009362\n",
            "0.043841656\n",
            "0.043612853\n",
            "0.051308524\n",
            "0.03145104\n",
            "0.03776867\n",
            "0.049570527\n",
            "0.04011391\n",
            "0.036744054\n",
            "0.05924277\n",
            "0.020469435\n",
            "0.03157711\n",
            "0.041155875\n",
            "0.06315422\n",
            "0.047369715\n",
            "0.047000054\n",
            "0.050104607\n",
            "0.036080893\n",
            "0.100209214\n",
            "0.042764015\n",
            "0.055063978\n",
            "0.039841928\n",
            "0.039579835\n",
            "0.022228919\n",
            "0.027483784\n",
            "0.054565873\n",
            "0.07184844\n",
            "0.031836063\n",
            "0.043391086\n",
            "0.019769367\n",
            "0.04977866\n",
            "0.03932694\n",
            "0.027041227\n",
            "0.038180597\n",
            "0.035537083\n",
            "0.025007615\n",
            "0.0519954\n",
            "0.017806077\n",
            "0.028515076\n",
            "0.040542163\n",
            "0.047369715\n",
            "0.029243652\n",
            "0.049084805\n",
            "0.31185722\n",
            "0.039841928\n",
            "0.019056331\n",
            "0.061627127\n",
            "0.03850577\n",
            "0.049570527\n",
            "0.025392532\n",
            "0.025704721\n",
            "0.04994724\n",
            "0.0486082\n",
            "0.0684168\n",
            "0.036744054\n",
            "0.06448564\n",
            "0.02196724\n",
            "0.031368203\n",
            "0.037284814\n",
            "0.47493538\n",
            "0.036002133\n",
            "0.087225705\n",
            "0.021639602\n",
            "0.038287368\n",
            "0.037100013\n",
            "0.053603545\n",
            "0.051308524\n",
            "0.04509749\n",
            "0.018239064\n",
            "0.02952508\n",
            "1.0\n"
          ]
        }
      ]
    },
    {
      "cell_type": "markdown",
      "metadata": {
        "id": "ugvgDsTKHtQh"
      },
      "source": [
        "##Training SOM"
      ]
    },
    {
      "cell_type": "code",
      "metadata": {
        "id": "oX9rzxGSPSzR",
        "colab": {
          "base_uri": "https://localhost:8080/"
        },
        "outputId": "a584e787-b5e8-4930-b776-6adae1dc2f3a"
      },
      "source": [
        "# install somoclu\n",
        "!pip install --upgrade somoclu\n",
        "# import sompoclu, matplotlib\n",
        "import somoclu as som\n",
        "import matplotlib\n",
        "# we will plot inside the notebook and not in separate window\n",
        "%matplotlib inline"
      ],
      "execution_count": 63,
      "outputs": [
        {
          "output_type": "stream",
          "name": "stdout",
          "text": [
            "Requirement already satisfied: somoclu in /usr/local/lib/python3.7/dist-packages (1.7.5.1)\n",
            "Requirement already satisfied: scipy in /usr/local/lib/python3.7/dist-packages (from somoclu) (1.4.1)\n",
            "Requirement already satisfied: matplotlib in /usr/local/lib/python3.7/dist-packages (from somoclu) (3.2.2)\n",
            "Requirement already satisfied: numpy in /usr/local/lib/python3.7/dist-packages (from somoclu) (1.21.4)\n",
            "Requirement already satisfied: kiwisolver>=1.0.1 in /usr/local/lib/python3.7/dist-packages (from matplotlib->somoclu) (1.3.2)\n",
            "Requirement already satisfied: cycler>=0.10 in /usr/local/lib/python3.7/dist-packages (from matplotlib->somoclu) (0.11.0)\n",
            "Requirement already satisfied: pyparsing!=2.0.4,!=2.1.2,!=2.1.6,>=2.0.1 in /usr/local/lib/python3.7/dist-packages (from matplotlib->somoclu) (3.0.6)\n",
            "Requirement already satisfied: python-dateutil>=2.1 in /usr/local/lib/python3.7/dist-packages (from matplotlib->somoclu) (2.8.2)\n",
            "Requirement already satisfied: six>=1.5 in /usr/local/lib/python3.7/dist-packages (from python-dateutil>=2.1->matplotlib->somoclu) (1.15.0)\n",
            "\u001b[33mWARNING: Running pip as the 'root' user can result in broken permissions and conflicting behaviour with the system package manager. It is recommended to use a virtual environment instead: https://pip.pypa.io/warnings/venv\u001b[0m\n"
          ]
        }
      ]
    },
    {
      "cell_type": "code",
      "metadata": {
        "id": "7rPcBRCzrQ4X"
      },
      "source": [
        "n_rows, n_columns = 20,20\n",
        "som = somoclu.Somoclu(n_columns, n_rows, compactsupport=False)\n",
        "epochs = 100\n",
        "filename = 'som' + str(n_rows) + 'x' + str(n_columns) + '@' + str(epochs) + 'e.pkl'"
      ],
      "execution_count": 66,
      "outputs": []
    }
  ]
}
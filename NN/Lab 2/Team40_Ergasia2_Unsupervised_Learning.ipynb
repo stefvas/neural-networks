{
  "nbformat": 4,
  "nbformat_minor": 0,
  "metadata": {
    "colab": {
      "name": "Lab_2.ipynb",
      "provenance": [],
      "collapsed_sections": [],
      "include_colab_link": true
    },
    "kernelspec": {
      "name": "python3",
      "display_name": "Python 3"
    },
    "accelerator": "GPU"
  },
  "cells": [
    {
      "cell_type": "markdown",
      "metadata": {
        "id": "view-in-github",
        "colab_type": "text"
      },
      "source": [
        "<a href=\"https://colab.research.google.com/github/stefvas/neural-networks/blob/main/NN/Lab%202/Team40_Ergasia2_Unsupervised_Learning.ipynb\" target=\"_parent\"><img src=\"https://colab.research.google.com/assets/colab-badge.svg\" alt=\"Open In Colab\"/></a>"
      ]
    },
    {
      "cell_type": "markdown",
      "metadata": {
        "id": "hLFXD3IePSyL"
      },
      "source": [
        "# Εργαστηριακή Άσκηση 2. Μη επιβλεπόμενη μάθηση. \n",
        "\n",
        "## Σύστημα συστάσεων βασισμένο στο περιεχόμενο\n",
        "## Σημασιολογική απεικόνιση δεδομένων με χρήση SOM \n",
        "\n"
      ]
    },
    {
      "cell_type": "markdown",
      "metadata": {
        "id": "bU7o8OPfX6Ua"
      },
      "source": [
        "Ομάδα 40\n",
        "\n",
        "Βασιλειάδης Στέφανος 03117434\n",
        "\n",
        "\n",
        "Παναγιωτακοπούλου Άννα 03116057\n",
        "\n",
        "\n",
        "Παπαβασιλόπουλος Παναγιώτης-Φίλιππος 03117444\n"
      ]
    },
    {
      "cell_type": "code",
      "metadata": {
        "id": "S5wbBzIYnird"
      },
      "source": [
        "!pip install --upgrade pip\n",
        "!pip install --upgrade numpy\n",
        "!pip install --upgrade pandas\n",
        "!pip install --upgrade nltk\n",
        "!pip install --upgrade scikit-learn\n",
        "!pip install --upgrade joblib"
      ],
      "execution_count": null,
      "outputs": []
    },
    {
      "cell_type": "markdown",
      "metadata": {
        "id": "aViHqlQcPSyP"
      },
      "source": [
        "## Εισαγωγή του Dataset"
      ]
    },
    {
      "cell_type": "markdown",
      "metadata": {
        "id": "2ZVmdDExPSyQ"
      },
      "source": [
        "Το σύνολο δεδομένων με το οποίο θα δουλέψουμε είναι βασισμένο στο [Carnegie Mellon Movie Summary Corpus](http://www.cs.cmu.edu/~ark/personas/). Πρόκειται για ένα dataset με 22.301 περιγραφές ταινιών. Η περιγραφή κάθε ταινίας αποτελείται από τον τίτλο της, μια ή περισσότερες ετικέτες που χαρακτηρίζουν το είδος της ταινίας και τέλος τη σύνοψη της υπόθεσής της. Αρχικά εισάγουμε το dataset (χρησιμοποιήστε αυτούσιο τον κώδικα, δεν χρειάζεστε το αρχείο csv) στο dataframe `df_data_1`: "
      ]
    },
    {
      "cell_type": "code",
      "metadata": {
        "id": "62SOj46gPSyS"
      },
      "source": [
        "import pandas as pd\n",
        "\n",
        "dataset_url = \"https://drive.google.com/uc?export=download&id=1-tN5rC1QCgwqL67cvIXdMbtd-Xf9Xqow\"\n",
        "df_data_1 = pd.read_csv(dataset_url, sep='\\t',  header=None, quoting=3, error_bad_lines=False)"
      ],
      "execution_count": null,
      "outputs": []
    },
    {
      "cell_type": "code",
      "metadata": {
        "id": "2POlqDjkPSyY"
      },
      "source": [
        "import numpy as np\n",
        "\n",
        "# βάλτε το seed που αντιστοιχεί στην ομάδα σας\n",
        "team_seed_number = 40\n",
        "\n",
        "movie_seeds_url = \"https://drive.google.com/uc?export=download&id=1-oeMf7BFmiH70XObgC9WOTo-a9cDJZwP\"\n",
        "df_data_2 = pd.read_csv(movie_seeds_url, header=None, error_bad_lines=False)\n",
        "\n",
        "# επιλέγεται \n",
        "my_index = df_data_2.iloc[team_seed_number,:].values\n",
        "\n",
        "titles = df_data_1.iloc[:, [2]].values[my_index] # movie titles (string), list of 5000\n",
        "categories = df_data_1.iloc[:, [3]].values[my_index] # movie categories (string), list of 5000\n",
        "bins = df_data_1.iloc[:, [4]]\n",
        "catbins = bins[4].str.split(',', expand=True).values.astype(np.float)[my_index] # movie categories in binary form (1 feature per category), array of 5000*322\n",
        "summaries =  df_data_1.iloc[:, [5]].values[my_index] # movie summaries (string)\n",
        "corpus = summaries[:,0].tolist() # list form of summaries"
      ],
      "execution_count": null,
      "outputs": []
    },
    {
      "cell_type": "code",
      "source": [
        "#print(type(corpus))\n",
        "punc = '''!@#$%^&*(){}[];:?/.,\\|`~_-'''\n",
        "def simplify_lower(arr):\n",
        "  corpus_prime = []\n",
        "  for string in arr:\n",
        "    temp  = \"\"\n",
        "    for char in string:\n",
        "      if (char.isupper()):\n",
        "         char = char.lower()\n",
        "      temp += char\n",
        "    string = temp\n",
        "    corpus_prime.append(string)\n",
        "  return corpus_prime\n",
        "\n",
        "\n",
        "def simplify_punc(arr):\n",
        "  corpus_prime = []\n",
        "  for string in arr:\n",
        "    temp  = \"\"\n",
        "    for char in string:\n",
        "      if(char in punc):\n",
        "       count = 0\n",
        "      else:\n",
        "        temp += char\n",
        "    string = temp\n",
        "    corpus_prime.append(string)\n",
        "  return corpus_prime\n",
        "\n",
        "corpus = simplify_lower(corpus)\n",
        "\n",
        "corpus = simplify_punc(corpus)\n"
      ],
      "metadata": {
        "id": "Z-VxAoOUs872"
      },
      "execution_count": null,
      "outputs": []
    },
    {
      "cell_type": "code",
      "metadata": {
        "id": "k_7A3KXLp0qS"
      },
      "source": [
        "ID = 99\n",
        "print(titles[ID])\n",
        "print(categories[ID])\n",
        "print(catbins[ID])\n",
        "print(corpus[ID])"
      ],
      "execution_count": null,
      "outputs": []
    },
    {
      "cell_type": "markdown",
      "metadata": {
        "id": "UTNgwBfjPSyc"
      },
      "source": [
        "# Εφαρμογή 1. Υλοποίηση συστήματος συστάσεων ταινιών βασισμένο στο περιεχόμενο\n",
        "<img src=\"http://clture.org/wp-content/uploads/2015/12/Netflix-Streaming-End-of-Year-Posts.jpg\" width=\"70%\">"
      ]
    },
    {
      "cell_type": "markdown",
      "metadata": {
        "id": "rnA2RP8GPSyf"
      },
      "source": [
        "Η πρώτη εφαρμογή που θα αναπτύξετε θα είναι ένα [σύστημα συστάσεων](https://en.wikipedia.org/wiki/Recommender_system) ταινιών βασισμένο στο περιεχόμενο (content based recommender system). Τα συστήματα συστάσεων στοχεύουν στο να προτείνουν αυτόματα στο χρήστη αντικείμενα από μια συλλογή τα οποία ιδανικά θέλουμε να βρει ενδιαφέροντα ο χρήστης. Η κατηγοριοποίηση των συστημάτων συστάσεων βασίζεται στο πώς γίνεται η επιλογή (filtering) των συστηνόμενων αντικειμένων. Οι δύο κύριες κατηγορίες είναι η συνεργατική διήθηση (collaborative filtering) όπου το σύστημα προτείνει στο χρήστη αντικείμενα που έχουν αξιολογηθεί θετικά από χρήστες που έχουν παρόμοιο με αυτόν ιστορικό αξιολογήσεων και η διήθηση με βάση το περιεχόμενο (content based filtering), όπου προτείνονται στο χρήστη αντικείμενα με παρόμοιο περιεχόμενο (με βάση κάποια χαρακτηριστικά) με αυτά που έχει προηγουμένως αξιολογήσει θετικά.\n",
        "\n",
        "Το σύστημα συστάσεων που θα αναπτύξετε θα βασίζεται στο **περιεχόμενο** και συγκεκριμένα στις συνόψεις των ταινιών (corpus). \n"
      ]
    },
    {
      "cell_type": "markdown",
      "metadata": {
        "id": "DD5KuSKrxQ8I"
      },
      "source": [
        "## Μετατροπή σε TFIDF\n",
        "\n"
      ]
    },
    {
      "cell_type": "markdown",
      "metadata": {
        "id": "9Ioa2JSzjqlh"
      },
      "source": [
        "Αλλάζουμε τις παραμέτρους δίνοντάς μας τη δυνατότητα να προσθέσουμε και δικιές μας stopwords."
      ]
    },
    {
      "cell_type": "code",
      "metadata": {
        "id": "s5YP6XCZPSyh"
      },
      "source": [
        "from sklearn.feature_extraction.text import ENGLISH_STOP_WORDS as stopwords_english\n",
        "from sklearn.feature_extraction.text import TfidfVectorizer\n",
        "\n",
        "def tf_idf(mx_df, mn_df, my_stopwrods=list()):\n",
        "\n",
        "  stopwords_film = [\"movie\", \"film\", \"plot\", \"begins\", \"opens\", \"starts\", \"piece\", \"named\", \"woman\", \"women\", \"man\", \"men\", \"prologue\", \"help\", \"helping\"]\n",
        "  stopwords = list(stopwords_english) + list(my_stopwrods) + list(stopwords_film)# enhancing stopwords\n",
        "\n",
        "  vectorizer = TfidfVectorizer(max_df=mx_df, min_df=mn_df, stop_words=stopwords, analyzer='word')\n",
        "  vectorizer.fit(corpus)\n",
        "  corpus_tf_idf = vectorizer.transform(corpus)\n",
        "  print(\"Dimensions: \", corpus_tf_idf.shape, \"\\n\")\n",
        "\n",
        "\n",
        "  return corpus_tf_idf"
      ],
      "execution_count": null,
      "outputs": []
    },
    {
      "cell_type": "code",
      "metadata": {
        "id": "y_Cw0brpnisF",
        "outputId": "1fbd8bc3-9b78-4e9b-c4d9-3bb9823e9da5",
        "colab": {
          "base_uri": "https://localhost:8080/"
        }
      },
      "source": [
        "print(tf_idf(1.0, 0))"
      ],
      "execution_count": 6,
      "outputs": [
        {
          "output_type": "stream",
          "name": "stdout",
          "text": [
            "Dimensions:  (5000, 48562) \n",
            "\n",
            "  (0, 48201)\t0.014812574193456204\n",
            "  (0, 48200)\t0.00915044086645136\n",
            "  (0, 48073)\t0.022625168225707294\n",
            "  (0, 47947)\t0.025741211048127557\n",
            "  (0, 47860)\t0.026892610320732747\n",
            "  (0, 47849)\t0.018612878156061618\n",
            "  (0, 47839)\t0.020056063814802072\n",
            "  (0, 47785)\t0.01920856612258464\n",
            "  (0, 47776)\t0.010856472332805019\n",
            "  (0, 47587)\t0.04376066659775111\n",
            "  (0, 47515)\t0.030438890292083555\n",
            "  (0, 47487)\t0.018062076007015374\n",
            "  (0, 47483)\t0.23827253234557133\n",
            "  (0, 47415)\t0.018705590764114047\n",
            "  (0, 47026)\t0.015737258733096456\n",
            "  (0, 46922)\t0.01102084580162583\n",
            "  (0, 46918)\t0.03235210054230669\n",
            "  (0, 46728)\t0.01843429402593167\n",
            "  (0, 46583)\t0.0343243381010756\n",
            "  (0, 45845)\t0.02438647180980415\n",
            "  (0, 45784)\t0.02505826195732574\n",
            "  (0, 45776)\t0.01289592071558338\n",
            "  (0, 45769)\t0.012739297269325862\n",
            "  (0, 45320)\t0.024869267058576432\n",
            "  (0, 45253)\t0.0193181379503111\n",
            "  :\t:\n",
            "  (4999, 8720)\t0.01890417600405281\n",
            "  (4999, 8300)\t0.038972314127411756\n",
            "  (4999, 7904)\t0.01969591838327934\n",
            "  (4999, 7901)\t0.016287678481924743\n",
            "  (4999, 7801)\t0.02915716657618016\n",
            "  (4999, 7575)\t0.6795082002606686\n",
            "  (4999, 6981)\t0.019439322113557807\n",
            "  (4999, 6976)\t0.018316453084092008\n",
            "  (4999, 6732)\t0.016085399214653448\n",
            "  (4999, 5944)\t0.01744286838047329\n",
            "  (4999, 5072)\t0.021116452604782728\n",
            "  (4999, 3967)\t0.06405140933374112\n",
            "  (4999, 3562)\t0.07152717897480722\n",
            "  (4999, 3397)\t0.05949786848362352\n",
            "  (4999, 3361)\t0.02816137058438885\n",
            "  (4999, 3332)\t0.021743921304372565\n",
            "  (4999, 3105)\t0.013698740123526934\n",
            "  (4999, 3104)\t0.021051707337826277\n",
            "  (4999, 2602)\t0.03388660589785886\n",
            "  (4999, 1826)\t0.028800897668305958\n",
            "  (4999, 1645)\t0.04084929771695651\n",
            "  (4999, 1532)\t0.031223123796932078\n",
            "  (4999, 1010)\t0.025948441936172018\n",
            "  (4999, 992)\t0.017779130497542515\n",
            "  (4999, 966)\t0.03883337067845868\n"
          ]
        }
      ]
    },
    {
      "cell_type": "markdown",
      "metadata": {
        "id": "3LsmvSyVykTU"
      },
      "source": [
        "## Υλοποίηση του συστήματος συστάσεων\n"
      ]
    },
    {
      "cell_type": "code",
      "metadata": {
        "id": "DV_Q6AehAi5b"
      },
      "source": [
        "# function that prints movie info\n",
        "def print_movie(ID):\n",
        "  print(\"ID: \", ID)\n",
        "  print(\"Title: \", ', '.join(titles[ID]))\n",
        "  print(\"Categories: \", ', '.join(categories[ID]))\n",
        "  print(\"Summary:\\n\", corpus[ID], \"\\n\")"
      ],
      "execution_count": 7,
      "outputs": []
    },
    {
      "cell_type": "code",
      "metadata": {
        "id": "WTD9H9kH5-nU"
      },
      "source": [
        "from sklearn.metrics.pairwise import linear_kernel\n",
        "\n",
        "def content_recommender(ID, max_recommendations):\n",
        "  cosine_similarities = linear_kernel(corpus_tf_idf[ID], corpus_tf_idf).flatten()  # calculating cosine similarities using sparse matrices\n",
        "\n",
        "  cosine_similarities = (-cosine_similarities).argsort()  # sorting the array and saving movies based on ID's\n",
        "\n",
        "  print_movie(ID)  # print target movie info\n",
        "\n",
        "  for i in range(1, max_recommendations+1):   # print recommendations\n",
        "    print(\"Place:\", i)\n",
        "    print_movie(cosine_similarities[i])"
      ],
      "execution_count": 8,
      "outputs": []
    },
    {
      "cell_type": "markdown",
      "metadata": {
        "id": "AnvR_-DXDzW4"
      },
      "source": [
        "Ένα παράδειγμα χρήσης για την 2η ταινία και 5 recommendations:"
      ]
    },
    {
      "cell_type": "code",
      "metadata": {
        "id": "0Y2QicrfSZf9",
        "outputId": "b41fda7c-37fa-4ad9-e1d0-43b37dca0427",
        "colab": {
          "base_uri": "https://localhost:8080/"
        }
      },
      "source": [
        "corpus_tf_idf = tf_idf(1.0, 0)"
      ],
      "execution_count": 9,
      "outputs": [
        {
          "output_type": "stream",
          "name": "stdout",
          "text": [
            "Dimensions:  (5000, 48562) \n",
            "\n"
          ]
        }
      ]
    },
    {
      "cell_type": "code",
      "metadata": {
        "id": "1D0VKoRNSps-",
        "outputId": "c5ae6f86-b04a-4669-d15e-8553c6ba0be3",
        "colab": {
          "base_uri": "https://localhost:8080/"
        }
      },
      "source": [
        "content_recommender(1, 5)"
      ],
      "execution_count": 10,
      "outputs": [
        {
          "output_type": "stream",
          "name": "stdout",
          "text": [
            "ID:  1\n",
            "Title:  Restless\n",
            "Categories:  \"Comedy\",  \"World cinema\",  \"Chinese Movies\"\n",
            "Summary:\n",
            " Leah  is a translator who is traveling international cities in search of romance and closure with her estranged boyfriend Jeff. She eventually settles in Beijing, China, where she meets and develops a fixation on Master Sun Zhan , who teaches here a Chinese game called weiqi. When her relationship with Master Sun Zhan takes a turn for the worse, Leah decides to focus on getting revenge on Jeff. Richard  is a shiftless Chinese-American whose family sends him to Beijing with his grandfather's ashes. Eventually Leah and Richard's paths cross and a romance develops. \n",
            "\n",
            "Place: 1\n",
            "ID:  2737\n",
            "Title:  Eyes of Fire\n",
            "Categories:  \"Horror\"\n",
            "Summary:\n",
            " The film takes place in the year 1750 on the American frontier during the colonial days, before the United States declared its independence. A group of pioneers narrowly escape persecution when their preacher is accused of adultery and polygamy. The preacher, Will Smythe, is accused of having an affair with a married woman, Eloise Dalton whose husband is away hunting for food, and another woman, Leah, who is insane. Also among their group is Eloise's daughter Fanny Dalton, the couple Jewell Buchanan and Margaret Buchanan along with their daughter Cathleen, Calvin and his wife who goes by the name Sister, and their granddaughter Meg. As the group travels farther away from their town, the threat of attack from hostile Native American tribes becomes more prevalent until the group is eventually ambushed. Calvin does not survive the attack, but the others are protected by Leah, who has used witchcraft to provide their protection. All the while the others are unaware that Leah is using magic the keep them safe. The remaining members of the group are forced to abandon their trail along the riverbank, and take cover in the woods far from man made trails. At this time, Eloise's husband Marion Dalton returns home to find news that his wife was scheduled to be executed along with Will for affair and also learns that the two are on the run with others from the town. Marion pursues and eventually catches up to them. Leah wanders away from the group for a short while. By this time the Shawnee Indians have caught up to the group and Marion Dalton, who speaks fluently in many tribal languages, is able to convince the Shawnee to abort the attack, at lest for a short while, though Marion is certain the Shawnee will be back in bigger numbers. Leah returns covered in white feathers and Marion recognizes this as a warning from the Shawnee Indians to other members of the Shawnee tribe not to enter a nearby valley. Realizing that the Shawnee have superstitions about the valley, Marion leads the group into the valley, knowing that if the Shawnee were to return, they would not follow the pioneers into the valley because of various Native American superstition some of the tribes have in regards to this particular valley. Once the group settles in the deserted valley, they are safe from any and all tribes of Native Americans. Though the pioneers are no longer under the threat of attack from the Shawnee, they find a young Native American orphan on the outskirts of their camp. The pioneers are still unnerved by the previous attacks, but reluctantly bring the girl into the camp and care for her. It seems that only Will is pleased with the orphan's unexpected appearance, and he is delighted at the possibility of baptizing her into Christianity. Aside from Will, it seems the others in the group are unnerved by the orphan girl's presence. And Leah, who has an extraordinary connection to the supernatural, senses that there is something unusual about the Native American child, and Leah soon begins to have visions as she tries to uncover the motives of the orphan girl. Fanny disappears soon afterward, and her body is later found by Marion, with the help of Leah through her abilities and visions, though Fanny appears to be in a coma. Only when Fanny awakens do they realize that the warnings to stay away from the valley are founded on more than just mythology, coupled with the frightening revelation that the orphan girl is more than what she seems when the group is terrorized by an evil spirit that desires to make them all its living captives. \n",
            "\n",
            "Place: 2\n",
            "ID:  992\n",
            "Title:  Cat And Mouse\n",
            "Categories:  \"Romantic comedy\",  \"World cinema\",  \"Action/Adventure\",  \"Drama\",  \"Comedy\",  \"Romantic drama\",  \"Romance Film\",  \"Chinese Movies\"\n",
            "Summary:\n",
            " Zhan Zhao  is a court officer who learns of a plot to assassinate Judge Bao . While on holiday he meets a young man named Bai  who turns out to be a woman. Zhan Zhao tries to recruit Bai to help him stop the assassination of Judge Bao. \n",
            "\n",
            "Place: 3\n",
            "ID:  1693\n",
            "Title:  Song of the Islands\n",
            "Categories:  \"Musical\"\n",
            "Summary:\n",
            " Jeff Harper sails to the tropical paradise Ahmi-Oni with his sidekick Rusty. He is there on behalf of his father to bargain for land with Dennis O'Brien. Jeff however falls in love with O'Brien's daughter Eileen and it is then up to Jeff's father to go to the island and try to break them up. A task easier said than done because Jeff's father also falls under the spell of the beautiful splendor of the islands. \n",
            "\n",
            "Place: 4\n",
            "ID:  1530\n",
            "Title:  Città violenta\n",
            "Categories:  \"Thriller\",  \"Crime Thriller\",  \"Gangster Film\",  \"Crime Fiction\",  \"World cinema\"\n",
            "Summary:\n",
            " The film opens with professional assassin Jeff Heston  and mistress Vanessa  pursued mercilessly while holidaying in the Virgin Islands. Jeff is shot and left for dead, while Vanessa runs off with his shooter and former business associate Coogan. After his release from prison on a framed murder charge, Jeff tracks the pair to New Orleans. However, after taking revenge on his betrayer and reuniting with Vanessa, Jeff is blackmailed by the very crime boss  who framed him, took Vanessa as his mob wife, and who is now intent on having him join his organisation. When Jeff refuses, he is hunted through an unforgiving city only to discover that his real enemy is closer than he realised. \n",
            "\n",
            "Place: 5\n",
            "ID:  4277\n",
            "Title:  Tower of London\n",
            "Categories:  \"Drama\",  \"Costume drama\",  \"Horror\",  \"Black-and-white\"\n",
            "Summary:\n",
            " Richard, the duke of Gloucester , is dismayed when his dying brother King Edward IV names their brother George, Duke of Clarence as Protector to his young son and heir, Prince Edward. Richard wants the position himself, to become de facto ruler after his brother's death. He secretly stabs George to death with a dagger bearing the crest of the Woodville family, framing the dying king's in-laws. Richard is now named Protector. His wife Anne approves of his crime and encourages him to take the throne for himself. After the death of King Edward, Richard tries to achieve his ends by intimidating the widowed queen's lady-in-waiting Mistress Shore into claiming that the dead king's two children are illegitimate. She refuses, and Richard tortures her. After she dies on the rack, Richard claims he executed her for spreading the rumour that the princes were illegitimate. He says that the two princes should be placed in his protective custody. The ghosts of Clarence, King Edward and Mistress Shore haunt Richard, warning him that they will be revenged at \"Bosworth\". He is also told that he will be killed by a dead man. Shore's ghost merges with the body of Anne, and a semi-deranged Richard strangles his own wife, believing her to be Shore. Without his beloved Anne, he is struck with guilt and loneliness. Richard consults the Moorish physician and sorcerer Tyrus, who shows him visions of his future, including the prophecy that he will be king. Tyrus is disturbed by Richard's increasingly deranged demeanour. Fearful for the safety of the princes, he informs Sir Jasper, a young aristocrat who is looking after the lads. Jasper plots with his girlfriend, Lady Margaret, to rescue the princes. He manages to get the young Duke of York and his mother free, but he is trapped and captured with the child-king Edward. Lady Margaret, who has been sent to get aid from her father Lord Stanley, is also captured and imprisoned. Richard spares Jasper, because he needs him to negotiate with Stanley, who is witholding his support for the Protector. Richard forces the Archbishop to give up the Duke of York, who has sought church sanctuary in Westminster Abbey with his mother. Aided by his crony, Sir Ratcliffe, Richard then murders the two princes in their beds and proclaims himself king. The ghosts of the princes try to lure Richard to his death from the battlements of the Tower, but he is saved by Buckingham. Buckingham confides in Ratcliffe his doubts about Richard's sanity, suggesting that they should join Lord Stanley. Ratcliffe informs Richard, who has Buckingham tortured to death. Meanwhile, Tyrus helps Jasper to rescue Margaret, but is mortally wounded during the escape. Jasper and Margaret join Stanley to encourage him to topple Richard from the throne. Richard is crowned, but is still haunted by fear. Ratcliffe informs him that Stanley has marched to the village of Bosworth with an army. Richard declares that he will fight. When Ratcliffe learns that Stanley has been joined by the Earl of Richmond, he advises Richard to flee, but the king is convinced of his invincibility. At the Battle of Bosworth Field Richard is eventually left alone on the battlefield after his army has been defeated. The ghosts of his victims appear, and he attempts to fight them. Jasper, Stanley and Richmond watch as Richard swipes at thin air. The king attempts to mount a horse, but is thrown and killed by a battleaxe held by a dead soldier. \n",
            "\n"
          ]
        }
      ]
    },
    {
      "cell_type": "markdown",
      "metadata": {
        "id": "8IvHkTUHyu78"
      },
      "source": [
        "## Βελτιστοποίηση\n",
        "\n",
        "Αφού υλοποιήσετε τη συνάρτηση `content_recommender` χρησιμοποιήστε τη για να βελτιστοποιήσετε την `TfidfVectorizer`. Συγκεκριμένα, αρχικά μπορείτε να δείτε τι επιστρέφει το σύστημα για τυχαίες ταινίες-στόχους και για ένα μικρό `max_recommendations` (2 ή 3). Αν σε κάποιες ταινίες το σύστημα μοιάζει να επιστρέφει σημασιολογικά κοντινές ταινίες σημειώστε το `ID` τους. Δοκιμάστε στη συνέχεια να βελτιστοποιήσετε την `TfidfVectorizer` για τα συγκεκριμένα `ID` ώστε να επιστρέφονται σημασιολογικά κοντινές ταινίες για μεγαλύτερο αριθμό `max_recommendations`. Παράλληλα, όσο βελτιστοποιείτε την `TfidfVectorizer`, θα πρέπει να λαμβάνετε καλές συστάσεις για μεγαλύτερο αριθμό τυχαίων ταινιών. Μπορείτε επίσης να βελτιστοποιήσετε τη συνάρτηση παρατηρώντας πολλά φαινόμενα που το σύστημα εκλαμβάνει ως ομοιότητα περιεχομένου ενώ επί της ουσίας δεν είναι επιθυμητό να συνυπολογίζονται . Ταυτόχρονα, μια άλλη κατεύθυνση της βελτιστοποίησης είναι να χρησιμοποιείτε τις παραμέτρους του `TfidfVectorizer` έτσι ώστε να μειώνονται οι διαστάσεις του Vector Space Model μέχρι το σημείο που θα αρχίσει να εμφανίζονται επιπτώσεις στην ποιότητα των συστάσεων. \n",
        "\n",
        "------------------------------------------------------------------------------\n"
      ]
    },
    {
      "cell_type": "markdown",
      "metadata": {
        "id": "TxiGP-UNkG98"
      },
      "source": [
        "Ορίζουμε την συνάρτηση similar_movies οι οποία μας επιστρέφει το σύνολο των ταινιών στόχων, για τις οποίες οι πρώτες 3 επιλογές ανήκαν σε count (count είναι η παράμετρος που της δίνουμε) είδη όμοια με την πρώτη. Εκτός των υπολοίπων μεθόδων συμβουλευόμαστε και αυτήν την μετρική και με τη μεγιστοποίηση της συνάρτησης αυτής προσπαθούμε να βελτιστοποιήσουμε τον Tfidfvectorizer."
      ]
    },
    {
      "cell_type": "code",
      "metadata": {
        "id": "LR0QoeBlTF6G"
      },
      "source": [
        "def similar_movies(count):\n",
        "  movie_list = []\n",
        "\n",
        "  for i in range(0, 5000): # for all movies\n",
        "    cnt = count\n",
        "\n",
        "    cosine_similarities = linear_kernel(corpus_tf_idf[i], corpus_tf_idf).flatten()  # find best matches\n",
        "    cosine_similarities = (-cosine_similarities).argsort()\n",
        "    \n",
        "    categs = categories[i][0]\n",
        "    categs = categs.split(\",\")\n",
        "    \n",
        "    for category in categs: # find categories similar between th movie and the 3 top matches\n",
        "      if category.lstrip(' ') in (categories[cosine_similarities[1]][0]) and category.lstrip(' ') in (categories[cosine_similarities[2]][0]) and category.lstrip(' ') in (categories[cosine_similarities[3]][0]):\n",
        "        cnt = cnt - 1\n",
        "      if cnt == 0: # if count similar categories are found append the movie to movie_list\n",
        "        movie_list.append(i)\n",
        "        break\n",
        "\n",
        "  return movie_list"
      ],
      "execution_count": 11,
      "outputs": []
    },
    {
      "cell_type": "markdown",
      "metadata": {
        "id": "atHCXXvYjyYa"
      },
      "source": [
        "Εμπλουτίζουμε τις stop words με αγγλικά ονόματα. Έτσι οι ομοιότητες μεταξύ ταινιών δεν θα οφείλονται σε κοινά ονόματα χαρακτήρων τους. Εξηγούμε παρακάτω γιατί προέκυψε η ανάγκη πρόσθεσής τους."
      ]
    },
    {
      "cell_type": "code",
      "metadata": {
        "id": "utsJ-WcnTscL"
      },
      "source": [
        "import urllib.request \n",
        "import string\n",
        "\n",
        "# female english names\n",
        "target_url = \"http://www.cs.cmu.edu/Groups/AI/util/areas/nlp/corpora/names/female.txt\"\n",
        "response = urllib.request.urlopen(target_url).read().decode()\n",
        "lines_temp = response.split('\\n')\n",
        "names = []\n",
        "\n",
        "for line in lines_temp:\n",
        "  if line and line[0] != \"#\":\n",
        "    names.append(line.lower())\n",
        "\n",
        "# male english names\n",
        "target_url = \"http://www.cs.cmu.edu/Groups/AI/util/areas/nlp/corpora/names/male.txt\"\n",
        "response = urllib.request.urlopen(target_url).read().decode()\n",
        "lines_temp = response.split('\\n')\n",
        "\n",
        "for line in lines_temp:\n",
        "  if line and line[0] != \"#\":\n",
        "    names.append(line.lower())\n"
      ],
      "execution_count": 12,
      "outputs": []
    },
    {
      "cell_type": "markdown",
      "metadata": {
        "id": "ISm9jOv8dI4B"
      },
      "source": [
        "Παρατηρούμε μείωση στη διαστατικότητα κατά 3000 περίπου. Δηλαδή έφυγαν 3000 ονόματα που αναφέρονταν στους πρωταγωνιστές των ταινιών."
      ]
    },
    {
      "cell_type": "code",
      "metadata": {
        "id": "GSGK6X-Aj04f",
        "outputId": "ffcfa12e-93ab-4d1f-bd9b-bccc1b813e72",
        "colab": {
          "base_uri": "https://localhost:8080/"
        }
      },
      "source": [
        "corpus_tf_idf = tf_idf(1.0, 0, names)"
      ],
      "execution_count": 13,
      "outputs": [
        {
          "output_type": "stream",
          "name": "stderr",
          "text": [
            "/usr/local/lib/python3.7/dist-packages/sklearn/feature_extraction/text.py:401: UserWarning: Your stop_words may be inconsistent with your preprocessing. Tokenizing the stop words generated tokens ['luc', 'mar', 'zsa'] not in stop_words.\n",
            "  % sorted(inconsistent)\n"
          ]
        },
        {
          "output_type": "stream",
          "name": "stdout",
          "text": [
            "Dimensions:  (5000, 45559) \n",
            "\n"
          ]
        }
      ]
    },
    {
      "cell_type": "markdown",
      "metadata": {
        "id": "NPVK7Z5c1p5F"
      },
      "source": [
        "## Επεξήγηση επιλογών και ποιοτική ερμηνεία\n",
        "\n",
        "-------------------------------------------------------------------------------"
      ]
    },
    {
      "cell_type": "markdown",
      "metadata": {
        "id": "M2NF5Peqdc75"
      },
      "source": [
        "Αρχικά παρατηρήσαμε πως σε πολλές περιπτώσεις οι παρόμοιες ταινίες οφείλονταν σε κοινά ονόματα χαρακτήρων τους. Έτσι ενισχύσαμε τις stopwords με αγγλικά ονόματα ώστε να μην εντοπίζονται αυτές οι ομοιότητες. \n"
      ]
    },
    {
      "cell_type": "code",
      "metadata": {
        "id": "mKnao6Gedgy9",
        "outputId": "bce67bcf-b58e-44ea-9b5a-364893f90468",
        "colab": {
          "base_uri": "https://localhost:8080/"
        }
      },
      "source": [
        "corpus_tf_idf = tf_idf(1.0, 0)"
      ],
      "execution_count": 14,
      "outputs": [
        {
          "output_type": "stream",
          "name": "stdout",
          "text": [
            "Dimensions:  (5000, 48562) \n",
            "\n"
          ]
        }
      ]
    },
    {
      "cell_type": "markdown",
      "metadata": {
        "id": "5StDQ5-GeGC2"
      },
      "source": [
        "Παρακάτω φαίνεται το πρόβλημα που δημιουργείται εξαιτίας των ονομάτων. Όπως φαίνεται ο πρωταγωνιστής της ταινία στόχου ονομάζεται Ben. Επειδή το όνομα λαμβάνεται υπόψην ως λέξη παρατηρούμε οτι και οι 3 πρώτες ταινίες περιέχουν επίσης αυτό το όνομα. Αυτό σημαίνει οτι ίσως να υπάρχουν σχετικότερες ταινίες με την ταινία στόχο, οι οποίες να υποβαθμίζονται λόγω αυτών των ομοιοτήτων."
      ]
    },
    {
      "cell_type": "code",
      "metadata": {
        "id": "wSL3EDCzdlUG",
        "outputId": "824971ce-e93f-47a3-a12a-0391789fa00b",
        "colab": {
          "base_uri": "https://localhost:8080/"
        }
      },
      "source": [
        "content_recommender(10, 3)"
      ],
      "execution_count": 15,
      "outputs": [
        {
          "output_type": "stream",
          "name": "stdout",
          "text": [
            "ID:  10\n",
            "Title:  Como Esquecer\n",
            "Categories:  \"Drama\"\n",
            "Summary:\n",
            " Julia  is a professor of English literature who is abandoned by her girlfriend after a relationship that lasted over ten years. Because of the separation, Julie moves to Rio de Janeiro and lives with her best friend, Hugo , who is gay, and Lisa . In the new work, Julia ends up attracting the interest of two students, and it is Helena  who is after the teacher, although she did not feel prepared for a new relationship. \n",
            "\n",
            "Place: 1\n",
            "ID:  3368\n",
            "Title:  Date Movie\n",
            "Categories:  \"Romantic comedy\",  \"Parody\",  \"Romance Film\",  \"Comedy\"\n",
            "Summary:\n",
            "  Julia Jones is an obese woman, who dreams of marrying Napoleon Dynamite, but even in her dreams she is rejected. Writing in her diary, she thinks she will never find her true love. Julia goes outside and dances to impress men on the streets. It doesn't, as her obesity gets the best of her. Later on, Julia goes to work at her dad's Greek diner. Her dad, Frank, suggests she gets married to someone of the same heritage as her. Julia is half Greek , half Indian  and half Japanese . He suggests Nicky, an ugly, greasy man. She then meets the very British Grant Fockyerdoder, with whom she forms an instant attraction. When Frank yells at Julia to get an order, she turns to respond and hits Grant over the head with the coffee pot she's holding, knocking him to the floor. She turns around only to find his table is suddenly empty and figures he ran away. Julia needs help and goes to see a love therapist, Hitch. Hitch rejects her at first but reluctantly agrees to help her. Julia explains about the man at the diner and thinks it will be impossible for him to fall in love with her. Hitch takes her to a garage where she gets \"pimped out\" into a slim attractive woman. She earns a spot on a reality television dating show called The Extreme Bachelor, the bachelor turning out to be Grant, the man she met in the diner. Grant greets all the women and is asked to eliminate the losers, which he does by shooting them. Julia is the last woman standing and is rewarded with dinner for two at a restaurant called \"A Restaurant\". After their meal, Julia and Grant head back to her apartment, where they have sex. Julia takes Grant to meet her parents. There is immediate tension between Frank and Grant. Grant goes to the bathroom to see Jinxers, the family cat, defecating loudly and continuously on the toilet. Things get a lot worse when Grant attempts to open a bottle of champagne. The cork hits a vase that contains Frank's mother's remains, and the problems only get worse when Jinxers begins humping the skeleton. Later, Grant takes Julia to Tiffany & Co., where they turn on the lights to reveal the salespeople ready to let her pick whatever she wants. Grant then confesses he loves her and proposes to her. Julia happily says yes. Then, Frodo, Gandalf, and the others try to pawn off a ring, with Gandalf pleading that the ring could \"destroy all evil\". Ignoring him, Frodo accepts the offer of $50. The hobbits then turn and repeatedly kick Gandalf in his \"precious\"  and run off to \"get some wine coolers... and hookers!\" Now it's Grant's turn to take Julia and her family to meet his parents. This meeting doesn't go well either, as Roz, Grant's mother, informs everyone that Grant lost his virginity to their gay housekeeper Eduardo. Frank secretly brings Nicky along, telling Julia she has no choice but to marry him. Julia runs off, devastated. Later, Frank has a one-on-one basketball game with Grant's father, Bernie. Things get bad when Frank gets a huge taste of Bernie's chest hair. The next day, Julia and Grant go to a wedding planner named Jell-O, who has a massive butt. Jell-O suggests they go to Taco Butt, but they want something a little fancier. At first she is offended but when Grant tells her that he and Julia have already taken care of the other things listed for the wedding, Jell-O tells them that she wanted them to see what she had booked for the entertainment which was her dancing. She does some dance moves and backs up towards them with her massive rear and crushes them. Julia finally gets the chance meet Andy, Grant's best man, at the swimming pool. Of course, Julia assumes Andy is a man, but she is really a woman and is a lot more attractive than Julia. Julia is even more horrified when she finds out that the two were engaged three weeks ago. Andy helps Julia shop for her wedding dress. At the dress store, Julia hits her head on a power box and finds that she can read people's thoughts. Julia finds from reading Andy's mind that she still has feelings for Grant and plans to split the two of them up. Julia and Andy fight each other, Kill Bill-style. Julia grows depressed, fearing that she'll always be a lonely fat girl. She goes back to Hitch and tells him about Andy. Hitch reckons she doesn't stand a chance against Andy &mdash; but if she does, then everything will be fine in the end. Julia grows confident again and figures that she just has to make it through the wedding rehearsal at her dad's diner; then, only one day until their wedding. There, Andy shows up and accuses Grant of using Julia to get over her, but Grant ignores her. The big day has arrived, but unfortunately, Julia wakes up with a big pimple on her face. She eventually pops it, blowing her to the back of the room and knocking down a wall, but she is late for her wedding. Meanwhile, Andy finally tells Grant how she feels about him, and that Julia doesn't deserve him. She wants to marry him but Grant steps up and says he wants Julia. Andy ignores him and kisses him. Grant pushes Andy off and sees Julia, who has caught them in the act and runs away. Days later, Julia goes back to her apartment and is surrounded by balloons, gifts, and letters from Grant. She cannot forgive Grant, and agrees to marry Nicky. Once at the altar with Nicky, Julia is regretting it and has flashbacks about her and Grant. Frank, realizing that Julia is unhappy, stops the wedding and tells her she doesn't want Nicky. Grant is the one for her . Frank shows Julia a magazine with a picture of Grant and a message. It says to meet him on the rooftop of her apartment building. After an epic journey - throwing Andy down a stairway, bashing someone on the head with a baseball bat to get their bike - she gets there, only to find she just missed Grant. She leans her hands on the railings, causing it to snap and falls right into Grant's arms. It is very emotional but they get back together and get married, with Hitch officiating. Andy and Nicky meet at the wedding, and fall in love. Meanwhile, Grant and Julia leave in a horse and carriage. Julia also gets a present from her mother-in-law: a vaginal thermometer which apparently has been in their family for generations and is regarded as good luck when it's not washed. The film ends with Grant and Julia attending their honeymoon on Kong Island. They see a woman, Anne, tied to two pieces of wood. King Kong comes on and rips off her dress, leaving her clad in a leopard print bikini. Kong then gropes her, she says \"I like hairy guys\" and Kong roars and flattens her. \n",
            "\n",
            "Place: 2\n",
            "ID:  457\n",
            "Title:  Julia's Eyes\n",
            "Categories:  \"Thriller\",  \"Mystery\",  \"Horror\"\n",
            "Summary:\n",
            " The film begins with the death of the blind Sara, who appears to be being tormented by an unseen stranger. Heading to her basement to attempt suicide, she curses the hidden tormentor and refuses to give them the satisfaction of seeing her hang herself; but as she tries to remove the noose from her neck, the stool beneath her is kicked away, leaving her to die. Miles away, Sara's twin sister Julia collapses at work, sensing something amiss with her sister. After driving to Sara's house, Julia and her husband Isaac find Sara hanged. The police suspect no foul play, deciding that Sara was depressed after turning blind due to a degenerative eye disease that is slowly robbing Julia's vision as well. Julia, however, is unconvinced, believing that somebody else was in the house at the time of Sara's death, after finding Dusty Springfield's 'The Look of Love' in Sara's record player, a song her sister apparently hated. After feeling a hand that was not Isaac's on her shoulder while laying flowers on Sara's grave at her funeral, Julia becomes paranoid that the 'invisible man' who played a hand in Sara's death is nearby. After speaking to Sara's blind neighbour, Soledad, Julia visits the Baumann Centre for the Blind to learn more about Sara's life shortly before her death. She wanders into a women's locker room and overhears a group of women discussing her sister. She learns that Sara had a boyfriend with whom she had spent the weekend in a hotel. When the blind women sense her presence and surround her, they ask who is the man that entered with her: confused, she tells them she came alone, to which the women respond that a man came with her and is standing behind her. Only glimpsing the man's shadow as he flees, Julia chases him through the dark basement, but he escapes her and the stress causes an attack of blindness. Returning to Sara's house, she finds a mysterious key and the receipt for Sara's stay in the Hotel Bella Vista before being confronted by Isaac, who berates her for 'chasing ghosts' and is concerned that the stress will cause her sight to deteriorate faster. Julia persuades him to spend the night in a hotel with her, claiming that she wants to take their minds off what has happened, and they travel to the Hotel Bella Vista. There, Julia finds that the details of Sara's boyfriend have been apparently cleared from the hotel's records, though a waiter mistakes her for Sara and lets slip that her sister's eyes were covered by bandages during her stay. Julia confronts Isaac, who tells her that their doctor had confided in him that the operation Julia believed Sara was waiting for in the hopes of regaining her sight -thereby ruling out suicide, since her sister was waiting for an eye donor - had failed. During their argument, Julia suffers another attack of blindness and is nearly hit by a car; at which Isaac is distraught as he realises his wife's vision is rapidly failing her. They reconcile and make love.  The following morning, Julia is approached by a janitor who warns her of 'men who live in shadows' and informs her that the parking lot where Sara's mysterious boyfriend kept his van was under 24-hour surveillance. Julia's eyes are examined, and her doctor informs her that she may only have weeks or months left before she goes blind. Despite his exasperation, Julia persuades Isaac to go to the parking lot where Sara's boyfriend's van was kept in the hope of catching him on tape. Julia waits in the car as Isaac goes to collect the tape; however, he does not return and Julia ventures into the dark parking lot alone. The guard confirms that Isaac entered and took the tape, but he has not been seen since. A sudden power cut plunges them into darkness, and when the lights come back on the security camera cables have been slashed.  Julia is convinced that the 'invisible man' stole the tape, sabotaged the cameras and has kidnapped Isaac, though the police are skeptical. Returning to the Hotel Romero to question the janitor, they find him electrocuted in the bath from a fallen light above the water: however, the police declare it accidental. Isaac's credit card is found to have been used in a nearby hotel, however, when Julia and the inspector return to the house to look for any sign of his return; another power cut sends Julia stumbling through the darkness, brushing against what appears to be a man in the basement where Sara died. Upstairs, the inspector finds a note left on the bed, before being alerted by Julia's screams. When he arrives with his torch, Isaac's corpse is found swinging from the spot where Sara died; with Julia cowering, unable to see at all - her vision has gone completely. At the hospital, the police inform a grieving Julia that the note found on the bed was written in Isaac's hand, declaring that he could not live without Sara, with whom he had been having an affair for six months. However, an eye donor is found, so the operation to save Julia's sight goes ahead. She is told she must wear bandages to protect her eyes for two weeks, and returns to Sara's house despite her doctor's protests with a day carer, Iván, to assist her. Strangely, the key she found, which she believes was left by Sara's boyfriend, has disappeared. At first, Julia is plagued by disorientation and nightmares while convinced that somebody is lurking in the house; but Iván's patience and coaching help her regain her independence. Four days before Julia is due to remove her bandages, a starlit dinner culminates in a kiss, after which Iván leaves hurriedly, uncomfortable. That night, an unseen man almost succeeds in drugging Julia while she sleeps; however, she wakes, panicked, and accidentally hits the intruder as she sits upright. Terrified, she flees to the house of Sara's neighbour, Señor Blasco, who makes advances on her: as she turns to escape his house, she finds the key she had lost hanging on the wall - believing that Blasco is the 'invisible man', she escapes, paging Iván, who finds her hiding outside in the rain and escorts her to his apartment. In Iván's home, while he goes to get his spare bed for him to sleep in, Julia hears the voice of Blasco's shy daughter Lía, who tells her that her nurse - Iván - is the 'invisible man' who tormented Sara, has walls covered with photographs of Julia and her twin, and now seeks to drug her with sedatives slipped into her tea. Lía tells Julia to meet her in the bathroom moments before Iván returns. Conflicted, Julia goes to the bathroom where, four days early, she tears off her bandages, desperate to see for herself if Lía's word is true. A sudden bang causes Iván to come looking for her. Still in the bathroom, she replies that she heard it as well but did not know what it was. Iván heads out of the apartment momentarily. Julia exits the bathroom and sees Iván's walls are covered with photographs of the twins as well as Lía's bloodied body that is held to the wall with a kitchen knife through her mouth. Iván returns to the apartment to find Julia sobbing in the room with Lia. She pretends that she is crying because her operation has failed and she is blind which he believes. Behind Iván's back, she swaps her drugged tea for his; however, he guesses what has happened and leads her to a chest freezer where the body of the real nurse Iván is hidden. Julia's scream betrays the fact that she can see the corpse, and her ruse is over. Terrified, Julia suffers another attack of blindness. When her vision returns, Iván has driven Julia back to Sara's house, where she escapes and flees to the house of Señora Soledad. 'Iván' pursues her into the house and addresses Soledad as 'Máma', revealing himself as her missing son Ángel. A candle and pair of reading glasses betray the fact that Soledad is not in fact blind as she knocks Julia out, at which an enraged Ángel almost strangles his mother and injects her eye with a substance designed to break down the optic nerve and render her blind again. Julia awakens in the basement of Sara's house, where Ángel tells her he loves her and wants them to be together as long as her sight is gone; since blind people are the only ones who sense the existence of a man who lives in shadows. Julia steals his knife and stabs him as he kisses her, before fleeing. As he chases her, Julia finds all the doors and windows locked. She calls the inspector to ask for help, but Ángel cuts the telephone cable from downstairs during the conversation. As Ángel breaks free of the locked basement, she cuts the fuse and plunges the house into darkness. By the flashbulb of his camera, Ángel hunts Julia through the house and finally pins her down to strangle her. Julia desperately reaches for his dropped camera as he lifts the knife to stab her. She blocks the stab with the camera. The police arrive as Julia breaks free. She uses a flashlight to show the police a bloodied Ángel hiding in a corner of the room. Finally visible, he is defeated, and slits his own throat while begging the police not to look at him.  At the hospital once more, Julia is told the damage to her new eyes is irreversible and she will not see the dawn. Using her last few hours of vision, she goes to say goodbye to Isaac's corpse, where it is revealed that he donated his eyes to her. \n",
            "\n",
            "Place: 3\n",
            "ID:  506\n",
            "Title:  The Drifter\n",
            "Categories:  \"Thriller\",  \"Crime Fiction\",  \"Crime Thriller\",  \"Suspense\",  \"Erotic thriller\"\n",
            "Summary:\n",
            " Julia Robbins  is an emerging fashion designer returning home to Los Angeles after a sales trip in northern California. She passes a hitchhiker named Trey  on her way back to the 5. During lunch at a diner, she notices a mysterious man eating by himself. The hitchhiker enters the diner, and they make eye contact. Outside, he asks her for a ride, but Julia declines. As she drives off, she notices a flat tire. Trey fixes it for her, and she decides to give him a ride. At a motel that night, she offers him a ride into L.A. in the morning. He asks to sleep in her car. Instead, she ushers him into her room, and they spend the night together. At Oki Dog in West Hollywood, Julia drops the drifter off, and indicates that she wants to leave things at a one night stand. At her apartment, her boyfriend Arthur  is waiting for her. Julia is guilt-ridden over the affair, confessing what happened to her friend Matty . Eventually, Trey calls Julia at home and asks to see her. She declines, but he calls her again at work. Unnerved at how he has been able to track her down, Julia agrees to meet him back at Oki Dog, where he insists that they must be together. Julia reaffirms her wish to be left alone, but Trey shows up at her office in another attempt to win her back. Finally, when she notices a knife in one of her car tires, she goes to the police for help. She meets with Detective Morrison , and explains how Trey will not leave her alone. Meanwhile, Arthur meets with a private investigator, who turns out to be the mysterious man from the diner. He has been trailing Julia, and he breaks the news of her affair to Arthur. The detective makes some cryptic remarks to Arthur about killing women. Later, at Julia's apartment, she discovers Matty dead in her bed. She goes to Morrison again, begging for help. Arthur collects her from the police station and takes her to his house. In the climax to the film, Julia finds Arthur dead in his study from a gunshot to the head. The mysterious detective emerges from hiding and attacks her, binding her hands. He eventually explains that he was snooping on Julia at her apartment when Matty showed up, and he had to kill her to cover his tracks. Arthur was not comfortable with the murder, and the detective killed Arthur to prevent him from going to the police. Intent on killing Julia to complete his cover up, they are surprised by Trey. The detective shoots Trey but does not kill him. Trey eventually wakes up and subdues the detective. Morrison arrives at the house and kicks in the front door, with his gun drawn. Thinking that he will shoot Trey, Julia cries out to stop him. A shot rings out, but Morrison has killed the detective, who had drawn a hidden pistol and was about to kill Julia. The film ends with a shot of Julia and Trey together on a beach with her cat at their feet. \n",
            "\n"
          ]
        }
      ]
    },
    {
      "cell_type": "code",
      "metadata": {
        "id": "wHv3cnIRetzu",
        "outputId": "62f51502-1cc8-44a2-933d-a0a7b64f1d7a",
        "colab": {
          "base_uri": "https://localhost:8080/"
        }
      },
      "source": [
        "corpus_tf_idf = tf_idf(1.0, 0, names)"
      ],
      "execution_count": 16,
      "outputs": [
        {
          "output_type": "stream",
          "name": "stderr",
          "text": [
            "/usr/local/lib/python3.7/dist-packages/sklearn/feature_extraction/text.py:401: UserWarning: Your stop_words may be inconsistent with your preprocessing. Tokenizing the stop words generated tokens ['luc', 'mar', 'zsa'] not in stop_words.\n",
            "  % sorted(inconsistent)\n"
          ]
        },
        {
          "output_type": "stream",
          "name": "stdout",
          "text": [
            "Dimensions:  (5000, 45559) \n",
            "\n"
          ]
        }
      ]
    },
    {
      "cell_type": "markdown",
      "metadata": {
        "id": "OGihU1U5gG7j"
      },
      "source": [
        "Παρατηρούμε οτι οι επιλογές είναι αρκετά πιο σχετικές καθώς όλες αφορούν τις ζωές ατόμων μικρών σε ηλικία (εκτός της πρώτης επιλογής, στην οποία η σύνδεση είναι η λέξη \"time\" αλλά λόγω του σεναρίου αφορά, τεχνικά, άτομα ηλικιακά νέα)."
      ]
    },
    {
      "cell_type": "code",
      "metadata": {
        "id": "zebv_cqqevcu",
        "outputId": "78b380e6-1ec5-42bc-88c6-85d7836c6de4",
        "colab": {
          "base_uri": "https://localhost:8080/"
        }
      },
      "source": [
        "content_recommender(10, 3)"
      ],
      "execution_count": 17,
      "outputs": [
        {
          "output_type": "stream",
          "name": "stdout",
          "text": [
            "ID:  10\n",
            "Title:  Como Esquecer\n",
            "Categories:  \"Drama\"\n",
            "Summary:\n",
            " Julia  is a professor of English literature who is abandoned by her girlfriend after a relationship that lasted over ten years. Because of the separation, Julie moves to Rio de Janeiro and lives with her best friend, Hugo , who is gay, and Lisa . In the new work, Julia ends up attracting the interest of two students, and it is Helena  who is after the teacher, although she did not feel prepared for a new relationship. \n",
            "\n",
            "Place: 1\n",
            "ID:  4711\n",
            "Title:  Only When I Dance\n",
            "Categories:  \"Documentary\"\n",
            "Summary:\n",
            " Only When I Dance tells the story of two teenagers, Irlan and Isabela, who pursue their dreams of becoming professional ballet dancers as a way to escape the violent slums of Rio de Janeiro. \n",
            "\n",
            "Place: 2\n",
            "ID:  3855\n",
            "Title:  Love, in between\n",
            "Categories:  \"Romance Film\",  \"Drama\"\n",
            "Summary:\n",
            " When the wife of a university professor discovered her husband is having affair with his student she meets his lover they become friends and the relationship between these two women become closer. \n",
            "\n",
            "Place: 3\n",
            "ID:  1356\n",
            "Title:  School of Life\n",
            "Categories:  \"Television movie\",  \"Family Drama\",  \"Sports\",  \"Drama\",  \"Comedy\",  \"Family Film\"\n",
            "Summary:\n",
            " At Fallbrook Middle School, the annual student-elected Teacher of the Year award ceremony is held. Every year for the last 43 years, Norman Warner, fondly called Stormin' Norman, has won the award. During the ceremony, he collapses and dies. The burden of carrying the legacy falls to Matt Warner, son of the late Norman Warner who has always lived in the shadow of his father. Determined to keep the family tradition of being Teacher of the Year alive, Matt focuses all his attention and efforts in winning the coveted title. But the new history teacher, Mr. Michael D'Angelo becomes the new student favorite. He is called, even by fellow and senior teachers, \"Mr. D\". Young, funny, with unconventional methods of teaching and an uncanny ability to connect with his students, Mr. D. quickly wins the hearts not only of the students but also the teachers, especially the young art teacher, Ms. Davies. Now that Mr. D. is the most popular teacher on campus, Matt feels that he has no chances of winning against Mr. D. Now obsessed with discrediting Mr. D, Matt soon forgets what it means to be a teacher. Desperate to find a flaw in \"Mr Perfect\", Matt follows Mr. D around town and discovers a secret the alarmingly perfect teacher is hiding: Mr. D has been diagnosed with inoperable lung cancer and does not have long to live. Shocked by the startling discovery into realizing his own pettiness, Matt slowly changes his ways of teaching and in the process wins the hearts of his students. When Mr. D stops coming to teach because of his worsening illness, the students become depressed by the situation. Matt steps in to cheer up the student's spirits and leads the basketball team to a victory with a special guest appearance with 30 seconds left in the game by Mr. D. The film concludes after three years have passed and Matt's own son is now in high school, and Matt is teaching a brand new year of pupils in his life science class. He has won the Teacher of the Year for the last two years, Mr. D having won the award in the school year of 2003. The art teacher, Ms. Davies, inherited Mr. D's car. The film ends with a close-up of a photo in Matt's classroom of himself, Mr. D, and the basketball team with \"Michael D'Angelo 1967-2003\" inscribed on the bottom of the frame. \n",
            "\n"
          ]
        }
      ]
    },
    {
      "cell_type": "markdown",
      "metadata": {
        "id": "F756BAxbrcS4"
      },
      "source": [
        "Αργότερα προσθέσαμε στις stopwords λέξεις όπως τις \"film\", \"movie\", \"begins\" κλπ που εμφανίζονται συχνά σε περιλήψεις ταινίων."
      ]
    },
    {
      "cell_type": "markdown",
      "metadata": {
        "id": "bUCzOXR8iFn1"
      },
      "source": [
        "Πράγματι μετά από αυτές τις διορθώσεις οι περιπτώσεις, στις οποίες οι τρεις πρώτες επιλογές είχαν όλες τουλάχιστον μία ίδια κατηγορία με την ταινία στόχο έγιναν, από 667, 738."
      ]
    },
    {
      "cell_type": "markdown",
      "metadata": {
        "id": "15jMTS4cXppE"
      },
      "source": [
        "Μετά πήραμε από τη λίστα με τις 738 ταινίες που βρήκαμε παραπάνω, περιπτώσεις (60, 78, 83, 95, 103, 115, 138), οι οποίες ήταν καλές και προσπαθήσαμε να βελτιώσουμε περαιτέρω τις εκτιμήσεις. Παρατηρώντας τα αποτελέσματα αποφασίσαμε να εξαιρέσουμε μερικές ακόμα λέξεις: \"begins\", \"opens\", \"starts\", \"piece\", \"named\", \"woman\", \"women\", \"man\", \"men\", \"prologue\", \"help\", \"helping\". Έτσι αναβάσαμε τον παραπάνω αριθμό σε 746."
      ]
    },
    {
      "cell_type": "markdown",
      "metadata": {
        "id": "HkD4xLUerPjC"
      },
      "source": [
        "Corpus με τις film_stopwords. Έχουμε μείωση κατά 15 λέξεις."
      ]
    },
    {
      "cell_type": "code",
      "metadata": {
        "id": "4SbyK8SWrSGA",
        "outputId": "377572ce-cc90-418c-d03b-c1ce6dcbc792",
        "colab": {
          "base_uri": "https://localhost:8080/"
        }
      },
      "source": [
        "corpus_tf_idf = tf_idf(1.0, 0, names)"
      ],
      "execution_count": 18,
      "outputs": [
        {
          "output_type": "stream",
          "name": "stderr",
          "text": [
            "/usr/local/lib/python3.7/dist-packages/sklearn/feature_extraction/text.py:401: UserWarning: Your stop_words may be inconsistent with your preprocessing. Tokenizing the stop words generated tokens ['luc', 'mar', 'zsa'] not in stop_words.\n",
            "  % sorted(inconsistent)\n"
          ]
        },
        {
          "output_type": "stream",
          "name": "stdout",
          "text": [
            "Dimensions:  (5000, 45559) \n",
            "\n"
          ]
        }
      ]
    },
    {
      "cell_type": "markdown",
      "metadata": {
        "id": "KkshmbUknBnV"
      },
      "source": [
        "### min_df\n",
        "\n",
        "Η χρήση μόνο των λιγότερο συχνών λέξεων, με μείωση του max_df, αποδείχθηκε οτι δε βοηθά, καθώς μόλις οδηγούσε σε μείωση των λέξεων του λεξιλογίου υπήρχε άμεση χειροτέρευση της ποιότητας των αποτελεσμάτων.\n",
        "\n",
        "Ο αποκλεισμός των λιγότερο συχνών λέξεων βοηθά σε κάποιες περιπτώσεις καθώς αποκλείει σπάνιες λέξεις που δεν προσφέρουν στο νόημα, ενώ σε άλλες κάνει το ίδιο αλλά με λέξεις που συσχετίζουν μικρό αριθμό ταινιών της ίδιας κατηγορίας οδηγώντας σε χειρότερα αποτελέσματα.<br>\n",
        "Παρακάτω φαίνονται 1 περίπτωση, στην οποία ισχύει το πρώτο και μία στην οποία ισχύει το δεύτερο:"
      ]
    },
    {
      "cell_type": "code",
      "metadata": {
        "id": "XgYb2Uv-rpiy",
        "outputId": "cac159ee-c5d0-4c76-90bd-e026bdcd42f1",
        "colab": {
          "base_uri": "https://localhost:8080/"
        }
      },
      "source": [
        "corpus_tf_idf = tf_idf(1.0, 2, names)"
      ],
      "execution_count": 19,
      "outputs": [
        {
          "output_type": "stream",
          "name": "stderr",
          "text": [
            "/usr/local/lib/python3.7/dist-packages/sklearn/feature_extraction/text.py:401: UserWarning: Your stop_words may be inconsistent with your preprocessing. Tokenizing the stop words generated tokens ['luc', 'mar', 'zsa'] not in stop_words.\n",
            "  % sorted(inconsistent)\n"
          ]
        },
        {
          "output_type": "stream",
          "name": "stdout",
          "text": [
            "Dimensions:  (5000, 22761) \n",
            "\n"
          ]
        }
      ]
    },
    {
      "cell_type": "code",
      "metadata": {
        "id": "HvPIPXLlrsHf",
        "outputId": "2c9f778f-f5f2-4578-d562-729769df87e4",
        "colab": {
          "base_uri": "https://localhost:8080/"
        }
      },
      "source": [
        "content_recommender(83, 3)"
      ],
      "execution_count": 20,
      "outputs": [
        {
          "output_type": "stream",
          "name": "stdout",
          "text": [
            "ID:  83\n",
            "Title:  Follow that Dream\n",
            "Categories:  \"Musical\",  \"Comedy\"\n",
            "Summary:\n",
            " A vagabond family composed of Pop Kwimper , his son Toby , and various \"adopted\" children, including nineteen-year-old Holly Jones , is traveling in Florida when Pop drives onto an as-yet-unopened section of highway. When the car runs out of gas, Holly persuades Toby to persuade Pop to take up residence on the land next to the road. A chance encounter with an avid fisherman  gives Holly an idea. They build a thriving business catering to sports fishermen. Trouble soon follows. Toby rejects the advances of amorous social worker Alisha Claypoole , who goes to court to have the children taken away in revenge. Also, her government official boyfriend considers the squatters' home to be an eyesore and wants to evict them. Finally, since the area is outside the jurisdiction of any law enforcement, two gamblers  soon set up a casino in a trailer, and Toby has to deal with their armed thugs. In the end, Toby's earthy wits win over the judge and the family returns to its new land and home. Holly also gets Toby to recognize that she is a grown woman. \n",
            "\n",
            "Place: 1\n",
            "ID:  3654\n",
            "Title:  BoyBand\n",
            "Categories:  \"Comedy\"\n",
            "Summary:\n",
            " The year is 1982. Brad Roberts is Worcester High School's star football quarterback and dating the captain of the cheerleading squad. However, what seems like the perfect life is not complete. Brad secretly plays in a heavy metal band, and dreams of being a pop star. Brad's parents are separated, but still live together...with his mom's new boyfriend Garth. When Garth is inspired to create the first ever American boyband, Brad decides to become a part of it. He heads the new group, converts two of his hard-rock buddies into pop stars, and finds a couple of breakdancers to round out the group . \n",
            "\n",
            "Place: 2\n",
            "ID:  4024\n",
            "Title:  Backdancers!\n",
            "Categories:  \"Japanese Movies\"\n",
            "Summary:\n",
            " The lead singer of a famous pop group announces a shock walkout that leaves the four background dancers behind. The four set up their own group: \"Backdancers!.\" \n",
            "\n",
            "Place: 3\n",
            "ID:  2091\n",
            "Title:  Wasp\n",
            "Categories:  \"Short Film\",  \"Drama\",  \"Indie\"\n",
            "Summary:\n",
            " The film opens with a shot of a barefooted woman, Zoe, rapidly descending a flight of stairs, baby in hand, and three other children in tow. Dressed in only a nightgown, Zoe pounds on a neighbour's door where she gets into a physical altercation with the neighbour. As her children witness the incident, she screams 'No one hits my kids and gets away with it.' Tensions remain high as the two women and their children shout at one another and hurl insults. At Zoe's prompting, herself and her children make obscene gestures to the neighbour. They all head home, with the children asking for chips. A man then pulls up in a car and is curious as to who the children are. Zoe tells him that they belong to a mate of hers and she is just looking after them. He asks her if she would like to go for a drink. Zoe is a bit hesitant at first and she agrees to meet him at the pub that evening. Zoe reveals to her children that the man's name is David and her children seem excited about this, as there is the allusion to 'David' Beckham. . They return to their home and Zoe attempts to find a sitter for the children. She is unsuccessful in her attempt. As she speaks to her friend on the phone, she feeds sugar to her children, telling them to 'share it out, not too much.' Zoe then notices a wasp flying near one of her windows, which she opens to release it. The next scene shows Zoe wearing an extremely short skirt. She is accompanied by her children who ask where she is going, to which she replies that she is going to the pub. She tries to placate her children by telling them that there will probably be other kids there. Zoe promises her children that she will buy them something to eat at the pub. After all, their last meal consisted of pure sugar. When they arrive at their destination, Zoe leaves her children outside the pub to fend for themselves. She enters the pub in order to look for David. She eventually catches his eye; he is playing pool. David states that since Zoe is 'one of those modern girls,' she should purchase the first round of drinks herself. A reluctant Zoe goes up to the bar and orders drinks. It is clear that she is strapped for cash as she constantly amends her order in order to have the cheapest possible option. Meanwhile, her children attempt to amuse themselves outside of the pub. Zoe brings them crisps and a glass of Coke. Her children are upset because Zoe did not bring them chips. She attempts to entertain them by dancing and singing. Zoe instructs her oldest child, Kelly, not to come in and get her unless it is a real emergency. That being said, she enters the pub once again to see David with whom Zoe then plays pool. In the next few shots, we witness the children amusing themselves by playing outside the pub and entertaining one another. Meanwhile back in the pub, Zoe and David are becoming well acquainted with one another. Zoe seems oblivious to the fact that her children are bored and waiting outside the pub. She seems focussed upon the fact that she is having a good time and is oblivious to the needs of her children. The female patrons of the pub are exceptionally critical of her behaviour and say that she will not be laughing when she has her kids taken off her by Social Services. When Zoe checks on her children, who have been waiting outside the pub for hours, they are not pleased that Zoe wants to spend more time with David. They are bored, starved, and want to go home. David then emerges from the pub. Zoe and David spend some time getting to know one another in David's car. They begin to kiss and the camera cuts to Zoe's baby crying. It is obvious that the children are very hungry and want to go home. Four males exit the pub, one of whom drops some chips and ribs which Kelly eagerly picks up and shares with her siblings. Things then become quite heated between David and Zoe, who indulge in their passions in David's car while Zoe's children forage for food. Matters between David and Zoe are interrupted when one of her children emits an ear piercing shriek. Zoe then extricates herself from the car when she hears her child's cry. She then witnesses a wasp crawling into her baby's mouth and pleads 'don't sting him.' The wasp flies away and Zoe becomes enraged when she notices that there are remnants of ribs around her baby's mouth. Zoe responds by violently shaking Kelly and screams: 'I told you to look after him, didn't I?' After chastising Kelly, the family then embraces and Zoe apologises. The next shot shows the children eating in David's car and Zoe looking very troubled. David indicates to Zoe that he wants to have a chat. The last shot of the movie show David's car driving away and Zoe's children singing 'Hey! Baby.' \n",
            "\n"
          ]
        }
      ]
    },
    {
      "cell_type": "markdown",
      "metadata": {
        "id": "dvjhK8idtUPB"
      },
      "source": [
        "Όπως φαίνεται η ταινία είναι δραματική και σχετίζεται με το έγκλημα, όπως και η 1η και η 2η επιλογή. Αντίθετα η 3η δεν σχετίζεται με το έγκλημα. <br>\n",
        "Αυξάνουμε το min_dfQ:"
      ]
    },
    {
      "cell_type": "code",
      "metadata": {
        "id": "s3Hk3V18tJx6",
        "outputId": "1b106ac3-4be2-487e-9021-7a0ac7a9127f",
        "colab": {
          "base_uri": "https://localhost:8080/"
        }
      },
      "source": [
        "corpus_tf_idf = tf_idf(1.0, 15, names)"
      ],
      "execution_count": 21,
      "outputs": [
        {
          "output_type": "stream",
          "name": "stderr",
          "text": [
            "/usr/local/lib/python3.7/dist-packages/sklearn/feature_extraction/text.py:401: UserWarning: Your stop_words may be inconsistent with your preprocessing. Tokenizing the stop words generated tokens ['luc', 'mar', 'zsa'] not in stop_words.\n",
            "  % sorted(inconsistent)\n"
          ]
        },
        {
          "output_type": "stream",
          "name": "stdout",
          "text": [
            "Dimensions:  (5000, 5596) \n",
            "\n"
          ]
        }
      ]
    },
    {
      "cell_type": "code",
      "metadata": {
        "id": "ubn7Cz8vtM-2",
        "outputId": "925f863f-4b7d-4737-9062-e4c8a38ab3ad",
        "colab": {
          "base_uri": "https://localhost:8080/"
        }
      },
      "source": [
        "content_recommender(83, 3)"
      ],
      "execution_count": 22,
      "outputs": [
        {
          "output_type": "stream",
          "name": "stdout",
          "text": [
            "ID:  83\n",
            "Title:  Follow that Dream\n",
            "Categories:  \"Musical\",  \"Comedy\"\n",
            "Summary:\n",
            " A vagabond family composed of Pop Kwimper , his son Toby , and various \"adopted\" children, including nineteen-year-old Holly Jones , is traveling in Florida when Pop drives onto an as-yet-unopened section of highway. When the car runs out of gas, Holly persuades Toby to persuade Pop to take up residence on the land next to the road. A chance encounter with an avid fisherman  gives Holly an idea. They build a thriving business catering to sports fishermen. Trouble soon follows. Toby rejects the advances of amorous social worker Alisha Claypoole , who goes to court to have the children taken away in revenge. Also, her government official boyfriend considers the squatters' home to be an eyesore and wants to evict them. Finally, since the area is outside the jurisdiction of any law enforcement, two gamblers  soon set up a casino in a trailer, and Toby has to deal with their armed thugs. In the end, Toby's earthy wits win over the judge and the family returns to its new land and home. Holly also gets Toby to recognize that she is a grown woman. \n",
            "\n",
            "Place: 1\n",
            "ID:  3654\n",
            "Title:  BoyBand\n",
            "Categories:  \"Comedy\"\n",
            "Summary:\n",
            " The year is 1982. Brad Roberts is Worcester High School's star football quarterback and dating the captain of the cheerleading squad. However, what seems like the perfect life is not complete. Brad secretly plays in a heavy metal band, and dreams of being a pop star. Brad's parents are separated, but still live together...with his mom's new boyfriend Garth. When Garth is inspired to create the first ever American boyband, Brad decides to become a part of it. He heads the new group, converts two of his hard-rock buddies into pop stars, and finds a couple of breakdancers to round out the group . \n",
            "\n",
            "Place: 2\n",
            "ID:  78\n",
            "Title:  Emergency Act 19\n",
            "Categories:  \"Satire\"\n",
            "Summary:\n",
            " Troubled by the growing worldwide trend of pop singers being elected as politicians, the President of South Korea orders his Chief Secretary to invoke \"Emergency Act 19\". This new law criminalizes all pop singers, and the army is deployed on the streets of Seoul to round them up. One pop star, Hong Kyung-min, is arrested while performing a concert, but his angry fans mob the soldiers as they try to take him away. The Chief Secretary's teenage daughter, Min-ji, is amongst the fans, and leading her idol to safety gives him her phone number. Kyung-min finally makes a getaway with his friend and fellow pop star, Kim Jang-hoon. Once Jang-hoon and Kyung-min become fully aware of the situation, they contact Min-ji who is able to hide the two singers in a secret location. The Chief Secretary finds out that his daughter is working against him, and when she refuses to give them up he has false news reports created, accusing the singers of sexually assaulting minors. Meanwhile, more pop stars are rounded up by the authorities who are now aided by another singer, Ju Yeong-hun, who decides to betray his friends in order to save himself. Angered by their tarnished reputations, Jang-hoon and Kyung-min acquire a gun from a shady weapons dealer, and with Min-ji's help they are able to take the Chief Secretary and his staff hostage. They take their captives to the park, where Min-ji has organized a mass demonstration with her friends and other music fans. The army arrive on the scene and engage the demonstrators in conflict, finally capturing Jang-hoon and Kyung-min. The Chief Secretary is able to walk free in all the chaos, but he is appalled by the violence and orders the fighting to stop, convincing the President to repeal the emergency act and restoring peace. \n",
            "\n",
            "Place: 3\n",
            "ID:  4024\n",
            "Title:  Backdancers!\n",
            "Categories:  \"Japanese Movies\"\n",
            "Summary:\n",
            " The lead singer of a famous pop group announces a shock walkout that leaves the four background dancers behind. The four set up their own group: \"Backdancers!.\" \n",
            "\n"
          ]
        }
      ]
    },
    {
      "cell_type": "markdown",
      "metadata": {
        "id": "i-fHLdSirudi"
      },
      "source": [
        "Πια και η 3η ταινία έχει σχετικό περιεχόμενο."
      ]
    },
    {
      "cell_type": "markdown",
      "metadata": {
        "id": "lNPaTP6dtugW"
      },
      "source": [
        "Αντίθετα υπάρχουν περιπτώσεις όπου αυτή η τακτική δημιουργεί πρόβλημα:"
      ]
    },
    {
      "cell_type": "code",
      "metadata": {
        "id": "7oBf_7Zitluf",
        "outputId": "ee9517a0-0f7f-483f-b2e8-b85dfadb4c00",
        "colab": {
          "base_uri": "https://localhost:8080/"
        }
      },
      "source": [
        "corpus_tf_idf = tf_idf(1.0, 2, names)"
      ],
      "execution_count": 23,
      "outputs": [
        {
          "output_type": "stream",
          "name": "stderr",
          "text": [
            "/usr/local/lib/python3.7/dist-packages/sklearn/feature_extraction/text.py:401: UserWarning: Your stop_words may be inconsistent with your preprocessing. Tokenizing the stop words generated tokens ['luc', 'mar', 'zsa'] not in stop_words.\n",
            "  % sorted(inconsistent)\n"
          ]
        },
        {
          "output_type": "stream",
          "name": "stdout",
          "text": [
            "Dimensions:  (5000, 22761) \n",
            "\n"
          ]
        }
      ]
    },
    {
      "cell_type": "code",
      "metadata": {
        "id": "DES1a1cjtm0_",
        "outputId": "e12024ee-976f-463e-ae04-2622616c0552",
        "colab": {
          "base_uri": "https://localhost:8080/"
        }
      },
      "source": [
        "content_recommender(95, 3)"
      ],
      "execution_count": 24,
      "outputs": [
        {
          "output_type": "stream",
          "name": "stdout",
          "text": [
            "ID:  95\n",
            "Title:  Missing in Action 2: The Beginning\n",
            "Categories:  \"Action\",  \"Adventure\",  \"Escape Film\"\n",
            "Summary:\n",
            " Ten years before freeing American POWs from a brutal General, Colonel James Braddock  was held in a North Vietnamese POW camp run by sadistic Colonel Yin , who forces the POWs to grow opium for a French drug runner named Francois , and tries to get Braddock to admit to and sign a long list of war crimes. During his team's time in captivity, they are relentlessly subjected to various forms of humiliating torture, and Braddock being told that his wife has left him and has remarried. One of Braddock's comrades starts to suffer with malaria, and is injected with what they are told to be antibiotics. They later find out that he was in fact injected with a lethal dose of opium instead. Braddock must escape and rescue his fellow prisoners from Yin. \n",
            "\n",
            "Place: 1\n",
            "ID:  988\n",
            "Title:  The Great Raid\n",
            "Categories:  \"Action\",  \"Drama\",  \"War film\"\n",
            "Summary:\n",
            " In 1944, American forces were closing in on the Japanese-occupied Philippines. The Japanese held around 500 American prisoners who had survived the Bataan Death March in a notorious POW camp at Cabanatuan and subjected them to harsh treatment; many prisoners were also stricken with malaria. The film opens with the massacre of prisoners of war on Palawan by the Kempeitai, the Imperial Japanese military's secret police . Meanwhile at Lingayen Gulf, the 6th Ranger Battalion under Lt. Col Mucci is ordered by Lt. Gen. Walter Krueger to liberate all of the POWs at Cabanatuan prison camp before they are killed by the Japanese. The film chronicles the efforts of the Rangers, Alamo Scouts from the 6th Army and Filipino guerrillas as they undertake the Raid at Cabanatuan. Throughout the film, the viewpoint switches between the POWs at Cabanatuan, the Rangers, the Filipino resistance and the Japanese. In particular, the film covers the resistance work undertaken by nurse Margaret Utinsky, who smuggled medicine into the POW camps. The Kempeitai arrested her and sent her to Fort Santiago prison. She was eventually released, but spent six weeks recovering from gangrene as a result of injuries sustained from beatings. \n",
            "\n",
            "Place: 2\n",
            "ID:  1963\n",
            "Title:  Bandits from Shantung\n",
            "Categories:  \"Wuxia\",  \"Chinese Movies\"\n",
            "Summary:\n",
            " Knight Yin comes to visit his fiancee Tik but finds her house has been completely deserted. Suspecting it was the work of the henchmen of Ong, a bandit chief in the area of the Green Dragon Association he kills his henchman One-legged Wolf in the ensuing fight although Ma escapes. Yin contacts a friend from the town, Suen and arranges a valuable consignment to lure Ong's men in as bait and to eventually lead him to the kidnapped Tik. During the collection by Ong's henchmen, Yin is able to recover his fiance but not without cost. Back at his lair, Ong discovers that the \"valuable\" consignment is a fake and he has been double-crossed, particularly as his hostage has escaped during the process. Seriously angry, he dispatches his henchmen leading to a final violent showdown with Yin and his friends. \n",
            "\n",
            "Place: 3\n",
            "ID:  4041\n",
            "Title:  Summer of My German Soldier\n",
            "Categories:  \"Romance Film\",  \"Drama\"\n",
            "Summary:\n",
            " 13 year old Patty Bergen lives in Jenkinsville, Arkansas, during World War II. Patty's family owns the local clothing and general supplies store, in which Patty occasionally works. Patty's abusive father and uncaring mother have little time for her, instead favoring her younger sister Sharon. However, Patty does have a friend in the family's black, middle-aged housekeeper, Ruth. The U.S. government opens a prisoner-of-war  camp for captured German soldiers in the town, and one day Patty meets one of the POWs: Anton Friedrich Reiker  when the POWs are allowed to buy supplies from her family's store. Soon after, Anton escapes from the POW camp and is on the run. He is about to escape on a train when Patty sees him and scuppers his plans. Rather than inform the authorities, Patty hides the young soldier in some abandoned rooms above the family's disused garage and brings him food. The two become close friends, Anton showing Patty a warmth and respect that she never had from her cold family. Anton nearly gets exposed when he sees Patty's father beating her one day and nobly runs out of hiding to protect her, but she shouts for him to go back before he is seen. However, Ruth sees Anton. She does not approve but agrees to keep Patty's secret and helps by giving Anton food. Before long, the FBI begin conducting a thorough search of the town looking for Anton. When they call at the Bergens' home, Patty runs out to the garage to warn Anton that he must leave immediately or he will be caught. Anton flees from the garage after thanking Patty for her help and gives her a valuable ring that belonged to his grandfather. However, whilst trying to leave town that night, the FBI find Anton and he is shot dead trying to escape. Patty is virtually disowned by her father, who tells her that she is dead to him, and by all of the townsfolk, who view her as a traitor for aiding a German prisoner. The only person who still talks to her is Ruth, who has now been fired from her job as housekeeper, and who tries to comfort Patty in her grief. Ruth tells the townsfolk to leave Patty alone as only God has the right to stand in judgment of her. \n",
            "\n"
          ]
        }
      ]
    },
    {
      "cell_type": "markdown",
      "metadata": {
        "id": "2zHYUuQmvmvE"
      },
      "source": [
        "Η ταινία αφορά 2 αδελφές, την Πένυ και την Μαίρη και τις δυσκολίες που περνάνε.<br>\n",
        "Η 1η ταινία είναι μυστηρίου. Η 2η είναι δραματική, όπως και η πρώτη, αλλά και κωμωδία και η 3η έχει κάποιες ομοιότητες με την ταινία στόχο, αλλά έχει πιο ρομαντικό χαρακτήρα."
      ]
    },
    {
      "cell_type": "code",
      "metadata": {
        "id": "585E5WvhvbI7",
        "outputId": "e038695c-e938-415d-c6fc-0834fd7a0f77",
        "colab": {
          "base_uri": "https://localhost:8080/"
        }
      },
      "source": [
        "corpus_tf_idf = tf_idf(1.0, 5, names)"
      ],
      "execution_count": 25,
      "outputs": [
        {
          "output_type": "stream",
          "name": "stderr",
          "text": [
            "/usr/local/lib/python3.7/dist-packages/sklearn/feature_extraction/text.py:401: UserWarning: Your stop_words may be inconsistent with your preprocessing. Tokenizing the stop words generated tokens ['luc', 'mar', 'zsa'] not in stop_words.\n",
            "  % sorted(inconsistent)\n"
          ]
        },
        {
          "output_type": "stream",
          "name": "stdout",
          "text": [
            "Dimensions:  (5000, 12032) \n",
            "\n"
          ]
        }
      ]
    },
    {
      "cell_type": "code",
      "metadata": {
        "id": "GYLODMUfvgoB",
        "outputId": "10103c7d-6719-4044-db28-4fe66d769148",
        "colab": {
          "base_uri": "https://localhost:8080/"
        }
      },
      "source": [
        "content_recommender(95, 3)"
      ],
      "execution_count": 26,
      "outputs": [
        {
          "output_type": "stream",
          "name": "stdout",
          "text": [
            "ID:  95\n",
            "Title:  Missing in Action 2: The Beginning\n",
            "Categories:  \"Action\",  \"Adventure\",  \"Escape Film\"\n",
            "Summary:\n",
            " Ten years before freeing American POWs from a brutal General, Colonel James Braddock  was held in a North Vietnamese POW camp run by sadistic Colonel Yin , who forces the POWs to grow opium for a French drug runner named Francois , and tries to get Braddock to admit to and sign a long list of war crimes. During his team's time in captivity, they are relentlessly subjected to various forms of humiliating torture, and Braddock being told that his wife has left him and has remarried. One of Braddock's comrades starts to suffer with malaria, and is injected with what they are told to be antibiotics. They later find out that he was in fact injected with a lethal dose of opium instead. Braddock must escape and rescue his fellow prisoners from Yin. \n",
            "\n",
            "Place: 1\n",
            "ID:  988\n",
            "Title:  The Great Raid\n",
            "Categories:  \"Action\",  \"Drama\",  \"War film\"\n",
            "Summary:\n",
            " In 1944, American forces were closing in on the Japanese-occupied Philippines. The Japanese held around 500 American prisoners who had survived the Bataan Death March in a notorious POW camp at Cabanatuan and subjected them to harsh treatment; many prisoners were also stricken with malaria. The film opens with the massacre of prisoners of war on Palawan by the Kempeitai, the Imperial Japanese military's secret police . Meanwhile at Lingayen Gulf, the 6th Ranger Battalion under Lt. Col Mucci is ordered by Lt. Gen. Walter Krueger to liberate all of the POWs at Cabanatuan prison camp before they are killed by the Japanese. The film chronicles the efforts of the Rangers, Alamo Scouts from the 6th Army and Filipino guerrillas as they undertake the Raid at Cabanatuan. Throughout the film, the viewpoint switches between the POWs at Cabanatuan, the Rangers, the Filipino resistance and the Japanese. In particular, the film covers the resistance work undertaken by nurse Margaret Utinsky, who smuggled medicine into the POW camps. The Kempeitai arrested her and sent her to Fort Santiago prison. She was eventually released, but spent six weeks recovering from gangrene as a result of injuries sustained from beatings. \n",
            "\n",
            "Place: 2\n",
            "ID:  1963\n",
            "Title:  Bandits from Shantung\n",
            "Categories:  \"Wuxia\",  \"Chinese Movies\"\n",
            "Summary:\n",
            " Knight Yin comes to visit his fiancee Tik but finds her house has been completely deserted. Suspecting it was the work of the henchmen of Ong, a bandit chief in the area of the Green Dragon Association he kills his henchman One-legged Wolf in the ensuing fight although Ma escapes. Yin contacts a friend from the town, Suen and arranges a valuable consignment to lure Ong's men in as bait and to eventually lead him to the kidnapped Tik. During the collection by Ong's henchmen, Yin is able to recover his fiance but not without cost. Back at his lair, Ong discovers that the \"valuable\" consignment is a fake and he has been double-crossed, particularly as his hostage has escaped during the process. Seriously angry, he dispatches his henchmen leading to a final violent showdown with Yin and his friends. \n",
            "\n",
            "Place: 3\n",
            "ID:  4404\n",
            "Title:  A Chinese Ghost Story\n",
            "Categories:  \"Fantasy Adventure\",  \"Horror\",  \"World cinema\",  \"Chinese Movies\",  \"Action/Adventure\",  \"Martial Arts Film\",  \"Fantasy\",  \"Comedy\",  \"Romance Film\",  \"Action\",  \"Romantic fantasy\"\n",
            "Summary:\n",
            " Ning Choi-san is a timid debt collector whose job requires him to travel to rural areas. He arrives at a town but is forced to seek shelter in a deserted temple in the forest on the outskirts because he did not have money to afford lodging at the town. That night in the temple, Ning meets a beautiful and alluring young maiden called Nip Siu-sin and falls in love with her. However, when he later recalls last night's events the next day, he becomes increasingly fearful and superstitious because a Taoist told him that the people he saw at the temple were ghosts. That night, he returns to the temple to spend his night there and confirms his theory that Nip is actually a spirit. Nip tells him her story of how she became eternally bound to the servitude of a sinister Tree Demoness. She explains that as long as her remains are buried at the foot of the tree, her spirit will be forever enslaved by Tree Demoness. Ning attempts to free her from her suffering. He seeks the help of a powerful Taoist priest and master swordsman called Yin Chik-ha, who he met earlier. Yin battles the Tree Demoness and attempts to free Nip's soul but fails. Nip's soul is taken to the Underworld for betraying her master. Ning is unwilling to give up on Nip and insists that Yin helps him. Yin manages to open a temporary portal to the Underworld. Ning and Yin enter the Underworld and attempt to free Nip's soul from suffering. They are unable to find her in the midst of thousands of other spirits. Eventually, Ning and Nip are able to see each other briefly near dawn when they come back from the Underworld after the fight. Sunlight shines on the urn containing Nip's cremated remains, but Nip cannot be exposed to sunlight or her soul will disintegrate. Ning holds on to a curtain to shield the urn from sunlight as he has a final conversation with Nip. Nip tells Ning that the only way to save her soul is to place her remains to rest at another more auspicious burial site before she returns to the darkness. Ning follows her instructions and with Yin's advice, Ning buries Nip's remains near the crest of a hill. He burns a joss stick for her and prays for her soul while Yin watches solemnly behind him. \n",
            "\n"
          ]
        }
      ]
    },
    {
      "cell_type": "markdown",
      "metadata": {
        "id": "lkjxOSd7vuiw"
      },
      "source": [
        "Αφαιρούνται οι πιο σχετικές 2η και 3η επιλογή και προστίθενται στην 1η και 3η θέση ταινίες, με την 3η να μην είναι καθόλου σχετική."
      ]
    },
    {
      "cell_type": "markdown",
      "metadata": {
        "id": "ocvwKuCb2cZX"
      },
      "source": [
        "Συνεχίσαμε τις δοκιμές και καταλήξαμε κοντά σε μία τιμή 5-6 στο min-df, στην οποία παίρναμε καλά αποτελέσματα, χωρίς να χαλάνε τα αποτελέσματα. "
      ]
    },
    {
      "cell_type": "markdown",
      "metadata": {
        "id": "au_-VPTpr72F"
      },
      "source": [
        "Για να επιβεβαιώσουμε την σωστή τιμή του min_df, η οποία επηρεάζει τη διαστατικότητα του πίνακα και άρα και το χρόνο εκπαίδευσης εκτυπώνουμε τα μεγέθη των λιστών που δίνει η συνάρτηση similar_movies που φτιάξαμε, συναρτήσει της min_df, για αριθμό κοινών ειδών μεταξύ των ταινιών 2 και 3."
      ]
    },
    {
      "cell_type": "code",
      "metadata": {
        "id": "ctEO1gfl28or",
        "outputId": "a3b625cd-4651-43a3-c720-f38e9c09c573",
        "colab": {
          "base_uri": "https://localhost:8080/"
        }
      },
      "source": [
        "import matplotlib.pyplot as plt\n",
        "\n",
        "length_2 = []\n",
        "length_3 = []\n",
        "min_dfs = [1,2,3,4,5,6,7,8,9,10]\n",
        "for min_df in min_dfs:\n",
        "  corpus_tf_idf = tf_idf(1.0, min_df, names)\n",
        "  temp = []\n",
        "  length_2.append(len(similar_movies(2)))\n",
        "  length_3.append(len(similar_movies(3)))\n",
        "  \n",
        "\n",
        "plt.plot(min_dfs, length_2)\n",
        "plt.plot(min_dfs, length_3)\n",
        "plt.xlabel('min_df')\n",
        "plt.ylabel('Number of Similar Movies')\n",
        "plt.title('Recommendations Quality to min_df')\n",
        "plt.legend(['2 same genres', '3 same genres'], loc='center right')\n",
        "plt.show()"
      ],
      "execution_count": null,
      "outputs": [
        {
          "output_type": "stream",
          "name": "stderr",
          "text": [
            "/usr/local/lib/python3.7/dist-packages/sklearn/feature_extraction/text.py:401: UserWarning: Your stop_words may be inconsistent with your preprocessing. Tokenizing the stop words generated tokens ['luc', 'mar', 'zsa'] not in stop_words.\n",
            "  % sorted(inconsistent)\n"
          ]
        },
        {
          "output_type": "stream",
          "name": "stdout",
          "text": [
            "Dimensions:  (5000, 45559) \n",
            "\n"
          ]
        },
        {
          "output_type": "stream",
          "name": "stderr",
          "text": [
            "/usr/local/lib/python3.7/dist-packages/sklearn/feature_extraction/text.py:401: UserWarning: Your stop_words may be inconsistent with your preprocessing. Tokenizing the stop words generated tokens ['luc', 'mar', 'zsa'] not in stop_words.\n",
            "  % sorted(inconsistent)\n"
          ]
        },
        {
          "output_type": "stream",
          "name": "stdout",
          "text": [
            "Dimensions:  (5000, 22761) \n",
            "\n"
          ]
        },
        {
          "output_type": "stream",
          "name": "stderr",
          "text": [
            "/usr/local/lib/python3.7/dist-packages/sklearn/feature_extraction/text.py:401: UserWarning: Your stop_words may be inconsistent with your preprocessing. Tokenizing the stop words generated tokens ['luc', 'mar', 'zsa'] not in stop_words.\n",
            "  % sorted(inconsistent)\n"
          ]
        },
        {
          "output_type": "stream",
          "name": "stdout",
          "text": [
            "Dimensions:  (5000, 16968) \n",
            "\n"
          ]
        },
        {
          "output_type": "stream",
          "name": "stderr",
          "text": [
            "/usr/local/lib/python3.7/dist-packages/sklearn/feature_extraction/text.py:401: UserWarning: Your stop_words may be inconsistent with your preprocessing. Tokenizing the stop words generated tokens ['luc', 'mar', 'zsa'] not in stop_words.\n",
            "  % sorted(inconsistent)\n"
          ]
        },
        {
          "output_type": "stream",
          "name": "stdout",
          "text": [
            "Dimensions:  (5000, 13961) \n",
            "\n"
          ]
        },
        {
          "output_type": "stream",
          "name": "stderr",
          "text": [
            "/usr/local/lib/python3.7/dist-packages/sklearn/feature_extraction/text.py:401: UserWarning: Your stop_words may be inconsistent with your preprocessing. Tokenizing the stop words generated tokens ['luc', 'mar', 'zsa'] not in stop_words.\n",
            "  % sorted(inconsistent)\n"
          ]
        },
        {
          "output_type": "stream",
          "name": "stdout",
          "text": [
            "Dimensions:  (5000, 12032) \n",
            "\n"
          ]
        },
        {
          "output_type": "stream",
          "name": "stderr",
          "text": [
            "/usr/local/lib/python3.7/dist-packages/sklearn/feature_extraction/text.py:401: UserWarning: Your stop_words may be inconsistent with your preprocessing. Tokenizing the stop words generated tokens ['luc', 'mar', 'zsa'] not in stop_words.\n",
            "  % sorted(inconsistent)\n"
          ]
        },
        {
          "output_type": "stream",
          "name": "stdout",
          "text": [
            "Dimensions:  (5000, 10673) \n",
            "\n"
          ]
        },
        {
          "output_type": "stream",
          "name": "stderr",
          "text": [
            "/usr/local/lib/python3.7/dist-packages/sklearn/feature_extraction/text.py:401: UserWarning: Your stop_words may be inconsistent with your preprocessing. Tokenizing the stop words generated tokens ['luc', 'mar', 'zsa'] not in stop_words.\n",
            "  % sorted(inconsistent)\n"
          ]
        },
        {
          "output_type": "stream",
          "name": "stdout",
          "text": [
            "Dimensions:  (5000, 9653) \n",
            "\n"
          ]
        },
        {
          "output_type": "stream",
          "name": "stderr",
          "text": [
            "/usr/local/lib/python3.7/dist-packages/sklearn/feature_extraction/text.py:401: UserWarning: Your stop_words may be inconsistent with your preprocessing. Tokenizing the stop words generated tokens ['luc', 'mar', 'zsa'] not in stop_words.\n",
            "  % sorted(inconsistent)\n"
          ]
        },
        {
          "output_type": "stream",
          "name": "stdout",
          "text": [
            "Dimensions:  (5000, 8792) \n",
            "\n"
          ]
        },
        {
          "output_type": "stream",
          "name": "stderr",
          "text": [
            "/usr/local/lib/python3.7/dist-packages/sklearn/feature_extraction/text.py:401: UserWarning: Your stop_words may be inconsistent with your preprocessing. Tokenizing the stop words generated tokens ['luc', 'mar', 'zsa'] not in stop_words.\n",
            "  % sorted(inconsistent)\n"
          ]
        },
        {
          "output_type": "stream",
          "name": "stdout",
          "text": [
            "Dimensions:  (5000, 8111) \n",
            "\n"
          ]
        },
        {
          "output_type": "stream",
          "name": "stderr",
          "text": [
            "/usr/local/lib/python3.7/dist-packages/sklearn/feature_extraction/text.py:401: UserWarning: Your stop_words may be inconsistent with your preprocessing. Tokenizing the stop words generated tokens ['luc', 'mar', 'zsa'] not in stop_words.\n",
            "  % sorted(inconsistent)\n"
          ]
        },
        {
          "output_type": "stream",
          "name": "stdout",
          "text": [
            "Dimensions:  (5000, 7551) \n",
            "\n"
          ]
        }
      ]
    },
    {
      "cell_type": "code",
      "metadata": {
        "id": "R2sllZkaLS8B"
      },
      "source": [
        "print(length_2)\n",
        "print(length_3)"
      ],
      "execution_count": null,
      "outputs": []
    },
    {
      "cell_type": "markdown",
      "metadata": {
        "id": "t8B5tZxMGOkj"
      },
      "source": [
        "Παρατηρούμε γενικά μείωση της ποιότητας των επιλογών με την αύξηση του min_df, με μία μικρή αύξηση όμως στις τιμές για count = 2 και min_df μεταξύ 4 και 8. Για count = 3 παρατηρείται μείωση της ποιότητας. Έτσι οι παρατηρήσεις μας επιβεβαιώνονται.\n",
        "\n",
        "Συνεπώς θεωρούμε μια μέση καλή επιλογή την min_df = 6, η οποία διατηρεί την ποιότητα και μειώνει τη διαστατικότητα στις 10549 από τις 45254, δηλαδή μείωση κατά 76.7%."
      ]
    },
    {
      "cell_type": "markdown",
      "metadata": {
        "id": "kgM01dbYiVKN"
      },
      "source": [
        "### 10 Πετυχημένες Επιλογές"
      ]
    },
    {
      "cell_type": "code",
      "metadata": {
        "id": "bO4pVLGQM9YE"
      },
      "source": [
        "corpus_tf_idf = tf_idf(1.0, 6, names)"
      ],
      "execution_count": null,
      "outputs": []
    },
    {
      "cell_type": "markdown",
      "metadata": {
        "id": "26Vw9G5oR9bH"
      },
      "source": [
        "1.Οι ταινίες αφορούν τους Stooges, 3 άντρες, οι οποίοι ξεκινώντας σε κάθε ταινία από διαφορετικό εργασιακό backround καταφέρνουν να μπλεχθούν σε αστείες ιστορίες."
      ]
    },
    {
      "cell_type": "code",
      "metadata": {
        "id": "QrEJlvlON8OU"
      },
      "source": [
        "content_recommender(12, 6)"
      ],
      "execution_count": null,
      "outputs": []
    },
    {
      "cell_type": "markdown",
      "metadata": {
        "id": "H8mGssPKSB93"
      },
      "source": [
        "2.Όλες οι ταινίες αφορούν σχέσεις παντρεμένων ανθρώπων. Οι λέξεις που κυριαρχούν είναι \"marry\", \"affair\" και \"divorce\"."
      ]
    },
    {
      "cell_type": "code",
      "metadata": {
        "id": "GpCcQ2YZPsVT"
      },
      "source": [
        "content_recommender(1547, 5)"
      ],
      "execution_count": null,
      "outputs": []
    },
    {
      "cell_type": "markdown",
      "metadata": {
        "id": "FnEaqvJVSJBF"
      },
      "source": [
        "3.Και οι 5 ταινίες αφορούν τον κόσμο του εγκλήματος, είτε από την πλευρά των αστυνόμων είτε των δραστών και είτε το έγκλημα πρόκειται για δολοφονία είτε για κλοπή. Οι πρώτη αφορά μάλιστα τον ίδιο ήρωα, ενώ ο εντοπισμός της δεν έγινε μέσω του ονόματος, το οποίο όπως είπαμε έχει εξαιρεθεί, αλλά μέσω της πλοκής."
      ]
    },
    {
      "cell_type": "code",
      "metadata": {
        "id": "6vRf6hu2RtZw"
      },
      "source": [
        "content_recommender(4814, 5)"
      ],
      "execution_count": null,
      "outputs": []
    },
    {
      "cell_type": "markdown",
      "metadata": {
        "id": "clm-lBjQTGLz"
      },
      "source": [
        "4.Οι ταινίες έχουν κυρίως Ιάπωνες χαρακτήρες και σχετίζονται βασικά με τον Ιαπωνικό υπόκοσμο (Yakuza) και με τις διαμάχες που συμβαίνουν σε αυτό το πλαίσιο."
      ]
    },
    {
      "cell_type": "code",
      "metadata": {
        "id": "tBvezNzzVY0U"
      },
      "source": [
        "content_recommender(4912, 6)"
      ],
      "execution_count": null,
      "outputs": []
    },
    {
      "cell_type": "markdown",
      "metadata": {
        "id": "PCArw3zrV00q"
      },
      "source": [
        "5.Όλες οι ταινίες έχουν σχέση με το φαγητό, κυρίως μέσω των εστιατορίων και αρκετές με τον ρομαντισμό που αναπτύσσεται σε αυτό το πλαίσιο μεταξύ ανθρώπων."
      ]
    },
    {
      "cell_type": "code",
      "metadata": {
        "id": "V55UyntpV2FY"
      },
      "source": [
        "content_recommender(4953, 6)"
      ],
      "execution_count": null,
      "outputs": []
    },
    {
      "cell_type": "markdown",
      "metadata": {
        "id": "zYgIHkTYYMcE"
      },
      "source": [
        "6.Οι ταινίες αφορούν πράκτορες, κυρίως της CIA (εκτός της 3ης επιλογής) και τις κατασκοπευτικές περιπέτειές τους."
      ]
    },
    {
      "cell_type": "code",
      "metadata": {
        "id": "wD41B_pMYO-d"
      },
      "source": [
        "content_recommender(60, 5)"
      ],
      "execution_count": null,
      "outputs": []
    },
    {
      "cell_type": "markdown",
      "metadata": {
        "id": "wcvHX4HKYvVk"
      },
      "source": [
        "7.Οι ταινίες έχουν πολεμικό χαρακτήρα, κυρίως το κομμάτι που αφορά τις πολεμικές αεροπορίες και οι περισσότερες το συνδυάζουν και με ρομαντικές σχέσεις μεταξύ των ηρώων."
      ]
    },
    {
      "cell_type": "code",
      "metadata": {
        "id": "EjDp-euyYxEd"
      },
      "source": [
        "content_recommender(103, 6)"
      ],
      "execution_count": null,
      "outputs": []
    },
    {
      "cell_type": "markdown",
      "metadata": {
        "id": "hpH6lSNiZwyy"
      },
      "source": [
        "8.Οι ταινίες είναι όλες western, διαδραματίζονται στα ίδια μέρη στις Νότιες και Δυτικές Η.Π.Α. και υπάρχουν κοινές λέξεις όπως \"Indians\", \"Cowboy\" και \"Horse\". "
      ]
    },
    {
      "cell_type": "code",
      "metadata": {
        "id": "7u7buLXFZykT"
      },
      "source": [
        "content_recommender(248, 6)"
      ],
      "execution_count": null,
      "outputs": []
    },
    {
      "cell_type": "markdown",
      "metadata": {
        "id": "0B1uuscraT_q"
      },
      "source": [
        "9.Όλες οι ταινίες παρουσιάζουν ρομαντικές σχέσεις μεταξύ ανθρώπων κυριώς στον χώρο του πανεπιστημίου."
      ]
    },
    {
      "cell_type": "code",
      "metadata": {
        "id": "nP1oZtSVbusu"
      },
      "source": [
        "content_recommender(749, 5)"
      ],
      "execution_count": null,
      "outputs": []
    },
    {
      "cell_type": "markdown",
      "metadata": {
        "id": "LwalG2JufvFk"
      },
      "source": [
        "10.Όλες οι ταινίες αφορούν εγκλήματα και παρουσιάζονται είτε οι εγκληματικές προσωπικότητες είτε όσοι προσπαθούν να τους οδηγήσουν στη δικαιοσύνη. Στις περισσότερες περιπτώσεις αυτό έχει και το χαρακτήρα εκδίκησης, όπως και στην ταινία-στόχο.\n",
        "\n"
      ]
    },
    {
      "cell_type": "code",
      "metadata": {
        "id": "3keozMmwhO7m"
      },
      "source": [
        "content_recommender(1446, 6)"
      ],
      "execution_count": null,
      "outputs": []
    },
    {
      "cell_type": "markdown",
      "metadata": {
        "id": "4irg4K-IPSym"
      },
      "source": [
        "## Tip: persistence αντικειμένων με joblib.dump\n",
        "\n",
        "H βιβλιοθήκη [joblib](https://pypi.python.org/pypi/joblib) της Python δίνει κάποιες εξαιρετικά χρήσιμες ιδιότητες στην ανάπτυξη κώδικα: pipelining, παραλληλισμό, caching και variable persistence. Τις τρεις πρώτες ιδιότητες τις είδαμε στην πρώτη άσκηση. Στην παρούσα άσκηση θα μας φανεί χρήσιμη η τέταρτη, το persistence των αντικειμένων. Συγκεκριμένα μπορούμε με:\n",
        "\n",
        "```python\n",
        "joblib.dump(my_object, 'my_object.pkl') \n",
        "```\n",
        "\n",
        "να αποθηκεύσουμε οποιοδήποτε αντικείμενο-μεταβλητή (εδώ το `my_object`) απευθείας πάνω στο filesystem ως αρχείο, το οποίο στη συνέχεια μπορούμε να ανακαλέσουμε ως εξής:\n",
        "\n",
        "```python\n",
        "my_object = joblib.load('my_object.pkl')\n",
        "```\n",
        "\n",
        "Μπορούμε έτσι να ανακαλέσουμε μεταβλητές ακόμα και αφού κλείσουμε και ξανανοίξουμε το notebook, χωρίς να χρειαστεί να ακολουθήσουμε ξανά όλα τα βήματα ένα - ένα για την παραγωγή τους, κάτι ιδιαίτερα χρήσιμο αν αυτή η διαδικασία είναι χρονοβόρα. Προσοχή: αυτό ισχύει μόνο στα Azure και Kaggle, στο Colab και στο IBM τα αρχεία εξαφανίζονται όταν ανακυκλώνεται ο πυρήνας και θα πρέπει να τα αποθηκεύετε τοπικά. Περισσότερα στο [FAQ](https://docs.google.com/document/d/1-E4eQkVnTxa3Jb0HL9OAs11bugYRRZ7RNWpu7yh9G4s/edit?usp=sharing).\n",
        "\n",
        "Ας αποθηκεύσουμε το `corpus_tf_idf` και στη συνέχεια ας το ανακαλέσουμε."
      ]
    },
    {
      "cell_type": "code",
      "metadata": {
        "id": "aESOPYQaPSyo",
        "scrolled": true
      },
      "source": [
        "\n",
        "import joblib\n",
        "\n",
        "joblib.dump(corpus_tf_idf, 'corpus_tf_idf.pkl', compress=True) "
      ],
      "execution_count": null,
      "outputs": []
    },
    {
      "cell_type": "markdown",
      "metadata": {
        "id": "7_rAEj5ZPSy1"
      },
      "source": [
        "\n",
        "\n",
        "Μπορείτε με ένα απλό `!ls` να δείτε ότι το αρχείο `corpus_tf_idf.pkl` υπάρχει στο filesystem σας (== persistence):"
      ]
    },
    {
      "cell_type": "code",
      "metadata": {
        "id": "ZhwXmTEIPSy3",
        "scrolled": true
      },
      "source": [
        "!ls -lh"
      ],
      "execution_count": null,
      "outputs": []
    },
    {
      "cell_type": "markdown",
      "metadata": {
        "id": "cey5AbkO475S"
      },
      "source": [
        "και μπορούμε να τα διαβάσουμε με `joblib.load`"
      ]
    },
    {
      "cell_type": "code",
      "metadata": {
        "id": "DSJPTKY8PSyu"
      },
      "source": [
        "corpus_tf_idf = joblib.load('corpus_tf_idf.pkl')"
      ],
      "execution_count": null,
      "outputs": []
    },
    {
      "cell_type": "markdown",
      "metadata": {
        "id": "zHOQtO83PSy9"
      },
      "source": [
        "# Εφαρμογή 2.  Τοπολογική και σημασιολογική απεικόνιση της ταινιών με χρήση SOM\n",
        "<img src=\"https://i.imgur.com/Z4FdurD.jpg\" width=\"60%\">"
      ]
    },
    {
      "cell_type": "markdown",
      "metadata": {
        "id": "UB_clmizPSy-"
      },
      "source": [
        "## Δημιουργία dataset\n"
      ]
    },
    {
      "cell_type": "code",
      "metadata": {
        "id": "U-FDDOkQPSzA"
      },
      "source": [
        "def build_final_set(doc_limit = 5000, tf_idf_only=False):\n",
        "    # convert sparse tf_idf to dense tf_idf representation\n",
        "    dense_tf_idf = corpus_tf_idf.toarray()[0:doc_limit,:]\n",
        "    if tf_idf_only:\n",
        "        # use only tf_idf\n",
        "        final_set = dense_tf_idf\n",
        "    else:\n",
        "        # append the binary categories features horizontaly to the (dense) tf_idf features\n",
        "        final_set = np.hstack((dense_tf_idf, catbins[0:doc_limit,:]))\n",
        "        # η somoclu θέλει δεδομένα σε float32\n",
        "    return np.array(final_set, dtype=np.float32)"
      ],
      "execution_count": null,
      "outputs": []
    },
    {
      "cell_type": "code",
      "metadata": {
        "id": "aF1B62UbPSzF"
      },
      "source": [
        "final_set = build_final_set()"
      ],
      "execution_count": null,
      "outputs": []
    },
    {
      "cell_type": "markdown",
      "metadata": {
        "id": "KjvPPENS_dYL"
      },
      "source": [
        "Τυπώνουμε τις διαστάσεις του τελικού dataset μας. Χωρίς βελτιστοποίηση του TFIDF θα έχουμε περίπου 50.000 χαρακτηριστικά."
      ]
    },
    {
      "cell_type": "code",
      "metadata": {
        "id": "fvEgNn-L-jEw"
      },
      "source": [
        "print(corpus_tf_idf.shape)\n",
        "print(final_set.shape)"
      ],
      "execution_count": null,
      "outputs": []
    },
    {
      "cell_type": "markdown",
      "metadata": {
        "id": "XYMvUSPTSZuf"
      },
      "source": [
        "Τυπωνουμε τις (μη μηδενικες) τιμες ενος στοιχειου του final_set για να δουμε τι περιεχει. "
      ]
    },
    {
      "cell_type": "code",
      "metadata": {
        "id": "O7LMx2XgQaXc"
      },
      "source": [
        "for i in range(len(final_set[0])):\n",
        "    if final_set[0][i]!=0:\n",
        "        print(final_set[0][i])"
      ],
      "execution_count": null,
      "outputs": []
    },
    {
      "cell_type": "markdown",
      "metadata": {
        "id": "Om7PoyDVCqis"
      },
      "source": [
        ""
      ]
    },
    {
      "cell_type": "markdown",
      "metadata": {
        "id": "RDMMfo1kUmJO"
      },
      "source": [
        "Θα μπορούσε να εφαρμοστεί PCA για την περαιτέρω μείωση της διαστατικότητας πριν εκπαιδεύσουμε τον χάρτη SOM. Στο πρώτο εργαστήριο η εφαρμογή PCA ήταν αυτή που βελτιώνε τα αποτελέσματα περισσότερο από όλες τις άλλες μεθόδους."
      ]
    },
    {
      "cell_type": "markdown",
      "metadata": {
        "id": "8tikdip0PSzQ"
      },
      "source": [
        "## Εκπαίδευση χάρτη SOM\n",
        "\n",
        "\n",
        "\n",
        "\n",
        "Θα δουλέψουμε με τη βιβλιοθήκη SOM [\"Somoclu\"](http://somoclu.readthedocs.io/en/stable/index.html). Εισάγουμε τις somoclu και matplotlib και λέμε στη matplotlib να τυπώνει εντός του notebook (κι όχι σε pop up window)."
      ]
    },
    {
      "cell_type": "code",
      "metadata": {
        "id": "oX9rzxGSPSzR"
      },
      "source": [
        "# install somoclu\n",
        "!pip install --upgrade somoclu\n",
        "# import sompoclu, matplotlib\n",
        "import somoclu\n",
        "import matplotlib\n",
        "# we will plot inside the notebook and not in separate window\n",
        "%matplotlib inline"
      ],
      "execution_count": null,
      "outputs": []
    },
    {
      "cell_type": "markdown",
      "metadata": {
        "id": "EqBfn0ijPSzX"
      },
      "source": [
        ""
      ]
    },
    {
      "cell_type": "markdown",
      "metadata": {
        "id": "eoI0kS7kS4yQ"
      },
      "source": [
        "Αρχικα οριζουμε τις διαστασεις του SOM για να τις εχουμε ευκαιρες, και οριζουμε το ονομα του αρχειου που ειτε θα αποθηκευσουμε στην συνεχεια η (στους υπολογιστες μας) θα φορτωσουμε για να μην κανουμε την εκπαιδευση του δικτυου."
      ]
    },
    {
      "cell_type": "code",
      "metadata": {
        "id": "7rPcBRCzrQ4X"
      },
      "source": [
        "n_rows, n_columns = 20,20\n",
        "som = somoclu.Somoclu(n_columns, n_rows, compactsupport=False)\n",
        "epochs = 100\n",
        "filename = 'som' + str(n_rows) + 'x' + str(n_columns) + '@' + str(epochs) + 'e.pkl'"
      ],
      "execution_count": null,
      "outputs": []
    },
    {
      "cell_type": "code",
      "metadata": {
        "id": "PXlYsQn_mywd"
      },
      "source": [
        "#don't execute this cell unless the som is already loaded!\n",
        "#execute cell below to train from scratch the SOM!\n",
        "som = joblib.load(filename)"
      ],
      "execution_count": null,
      "outputs": []
    },
    {
      "cell_type": "code",
      "metadata": {
        "id": "brPEza_bm9dy"
      },
      "source": [
        "%time som.train(final_set, epochs=epochs)"
      ],
      "execution_count": null,
      "outputs": []
    },
    {
      "cell_type": "markdown",
      "metadata": {
        "id": "ntd2GE9SaHiS"
      },
      "source": [
        "\n",
        "## Best matching units\n",
        "\n",
        "\n"
      ]
    },
    {
      "cell_type": "markdown",
      "metadata": {
        "id": "l6a77LRoTqOX"
      },
      "source": [
        "Για να καταλαβουμε την φυση των δεδομενων, τυπωνουμε αρχικα τις διαστασεις του πινακα με τα bmus, και ενδεικτικα καποια απο αυτα για να δουμε τι συμβαινει:"
      ]
    },
    {
      "cell_type": "code",
      "metadata": {
        "id": "FJ8NlVPPrdqJ"
      },
      "source": [
        "bmus = som.bmus\n",
        "print(bmus.shape)\n",
        "print(bmus)\n",
        "ubmus, indices = np.unique(bmus, return_inverse=True, axis=0)\n",
        "# το return_inverse επιστρέφει και τους δείκτες indices"
      ],
      "execution_count": null,
      "outputs": []
    },
    {
      "cell_type": "markdown",
      "metadata": {
        "id": "0qwTufrHT1MR"
      },
      "source": [
        "Επιπλεον, τυπωνουμε τα ιδια για τα ubmus. Παρατηρουμε οτι δεν υπαρχουν ολοι οι νευρωνες, δηλαδη σε καποιους νευρωνες δεν εχουν ανατεθει ταινιες (π.χ. ο νευρωνας (1,5))."
      ]
    },
    {
      "cell_type": "code",
      "metadata": {
        "id": "9FTKIdnS6jPx"
      },
      "source": [
        "print(ubmus[100:].shape)\n",
        "print(ubmus[100:])"
      ],
      "execution_count": null,
      "outputs": []
    },
    {
      "cell_type": "code",
      "metadata": {
        "id": "DxIDaMmp8kIA"
      },
      "source": [
        "print(len(indices))\n",
        "print(indices)"
      ],
      "execution_count": null,
      "outputs": []
    },
    {
      "cell_type": "markdown",
      "metadata": {
        "id": "54GOvRg5UFJ2"
      },
      "source": [
        "Κανουμε χρηση της np.where για να δουμε την μορφη εξοδου, αλλα και για να δουμε οτι ολα δουλευουν σωστα."
      ]
    },
    {
      "cell_type": "code",
      "metadata": {
        "id": "5aw5gHsi-Xw1"
      },
      "source": [
        "print(np.where(indices==0))"
      ],
      "execution_count": null,
      "outputs": []
    },
    {
      "cell_type": "markdown",
      "metadata": {
        "id": "grzqcyHyaKdg"
      },
      "source": [
        "\n",
        "## Ομαδοποίηση (clustering)\n",
        "\n",
        "Τυπικά, η ομαδοποίηση σε ένα χάρτη SOM προκύπτει από το unified distance matrix (U-matrix): για κάθε κόμβο υπολογίζεται η μέση απόστασή του από τους γειτονικούς κόμβους. Εάν χρησιμοποιηθεί μπλε χρώμα στις περιοχές του χάρτη όπου η τιμή αυτή είναι χαμηλή (μικρή απόσταση) και κόκκινο εκεί που η τιμή είναι υψηλή (μεγάλη απόσταση), τότε μπορούμε να πούμε ότι οι μπλε περιοχές αποτελούν clusters και οι κόκκινες αποτελούν σύνορα μεταξύ clusters.\n",
        "\n",
        "To somoclu δίνει την επιπρόσθετη δυνατότητα να κάνουμε ομαδοποίηση των νευρώνων χρησιμοποιώντας οποιονδήποτε αλγόριθμο ομαδοποίησης του scikit-learn. Στην άσκηση θα χρησιμοποιήσουμε τον k-Means. Για τον αρχικό σας χάρτη δοκιμάστε ένα k=20 ή 25. Οι δύο προσεγγίσεις ομαδοποίησης είναι διαφορετικές, οπότε περιμένουμε τα αποτελέσματα να είναι κοντά αλλά όχι τα ίδια.\n"
      ]
    },
    {
      "cell_type": "markdown",
      "metadata": {
        "id": "jTuOZAy4gMdf"
      },
      "source": [
        "Καναμε δοκιμες για τον αριθμο των clusters, και δουλεψαμε με 15, 20, 25 και 30. Βρηκαμε οτι οσο μεγαλωνε το K, τα clusters ηταν πιο διακριτα στις κατηγοριες που περιειχαν (πραγμα εξαιρετικα φυσιολογικο, καθως μικρα Κ τεινουν να μην σεβονται υποκατηγοριες). Ακομα, δεν παρατηρηθηκε καποια αισθητη διαφορα μεταξυ Κ=25 και Κ=30, και επιλεξαμε Κ = 25 καθως θεωρησαμε οτι τα clusters δεν πρεπει να ειναι παρα πολλα, καθως μπορει το νοημα να χαθει και να αναλυουμε λεπτομερειες. Θεωρητικα,θα επρεπε να εχουμε κανει καποια αναλυση με βαση καποιο κριτηριο για την επιλογη του Κ, αλλα αυτο ας αφεθει για καποια αλλη εργασια. "
      ]
    },
    {
      "cell_type": "code",
      "metadata": {
        "id": "KTcCRKnM3X7V"
      },
      "source": [
        "from sklearn.cluster import KMeans\n",
        "n_cluster = 25\n",
        "algorithm = KMeans(n_clusters=n_cluster)\n",
        "som.cluster(algorithm=algorithm)"
      ],
      "execution_count": null,
      "outputs": []
    },
    {
      "cell_type": "markdown",
      "metadata": {
        "id": "2nupuqcuaMe3"
      },
      "source": [
        "\n",
        "## Αποθήκευση του SOM\n",
        "\n",
        "Επειδή η αρχικοποίηση του SOM γίνεται τυχαία και το clustering είναι και αυτό στοχαστική διαδικασία, οι θέσεις και οι ετικέτες των νευρώνων και των clusters θα είναι διαφορετικές κάθε φορά που τρέχετε τον χάρτη, ακόμα και με τις ίδιες παραμέτρους. Για να αποθηκεύσετε ένα συγκεκριμένο som και clustering χρησιμοποιήστε και πάλι την `joblib`. Μετά την ανάκληση ενός SOM θυμηθείτε να ακολουθήσετε τη διαδικασία για τα bmus.\n"
      ]
    },
    {
      "cell_type": "code",
      "metadata": {
        "id": "iRJ_KjhRsG20"
      },
      "source": [
        "filename = 'som' + str(n_rows) + 'x' + str(n_columns) + '@' + str(epochs) + 'e.pkl'\n",
        "joblib.dump(som, filename, compress = True)"
      ],
      "execution_count": null,
      "outputs": []
    },
    {
      "cell_type": "markdown",
      "metadata": {
        "id": "ejX0Qs18aRHU"
      },
      "source": [
        "\n",
        "## Οπτικοποίηση U-matrix, clustering και μέγεθος clusters\n",
        "\n",
        "Για την εκτύπωση του U-matrix χρησιμοποιήστε τη `view_umatrix` με ορίσματα `bestmatches=True` και `figsize=(15, 15)` ή `figsize=(20, 20)`. Τα διαφορετικά χρώματα που εμφανίζονται στους κόμβους αντιπροσωπεύουν τα διαφορετικά clusters που προκύπτουν από τον k-Means. Μπορείτε να εμφανίσετε τη λεζάντα του U-matrix με το όρισμα `colorbar`. Μην τυπώνετε τις ετικέτες (labels) των δειγμάτων, είναι πολύ μεγάλος ο αριθμός τους.\n",
        "\n",
        "Για μια δεύτερη πιο ξεκάθαρη οπτικοποίηση του clustering τυπώστε απευθείας τη μεταβλητή `clusters`.\n",
        "\n",
        "Τέλος, χρησιμοποιώντας πάλι την `np.unique` (με διαφορετικό όρισμα) και την `np.argsort` (υπάρχουν και άλλοι τρόποι υλοποίησης) εκτυπώστε τις ετικέτες των clusters (αριθμοί από 0 έως k-1) και τον αριθμό των νευρώνων σε κάθε cluster, με φθίνουσα ή αύξουσα σειρά ως προς τον αριθμό των νευρώνων. Ουσιαστικά είναι ένα εργαλείο για να βρίσκετε εύκολα τα μεγάλα και μικρά clusters. \n",
        "\n",
        "Ακολουθεί ένα μη βελτιστοποιημένο παράδειγμα για τις τρεις προηγούμενες εξόδους:\n",
        "\n",
        "<img src=\"https://image.ibb.co/i0tsfR/umatrix_s.jpg\" width=\"35%\">\n",
        "<img src=\"https://image.ibb.co/nLgHEm/clusters.png\" width=\"35%\">\n",
        "\n"
      ]
    },
    {
      "cell_type": "markdown",
      "metadata": {
        "id": "B90ELgzBV0Qr"
      },
      "source": [
        "Χρησιμοποιουμε τις παραπανω πληροφοριες για να τυπωσουμε το heatmap και τους πινακες ετσι ωστε να εχουμε μια καλυτερη εικονα."
      ]
    },
    {
      "cell_type": "code",
      "metadata": {
        "id": "OSwTpJm_rXaj"
      },
      "source": [
        "som.view_umatrix(bestmatches=True, colorbar=True, figsize=(15,15))\n",
        "print(som.clusters)\n",
        "_ , no_of_neurons = np.unique(som.clusters, return_counts=True)\n",
        "cluster_index = np.argsort(no_of_neurons)\n",
        "print(\"Cluster Index:\")\n",
        "print(cluster_index)\n",
        "print(\"Number of Neurons:\")\n",
        "print(no_of_neurons[cluster_index])"
      ],
      "execution_count": null,
      "outputs": []
    },
    {
      "cell_type": "markdown",
      "metadata": {
        "id": "fMO_KcQYaTv-"
      },
      "source": [
        "\n",
        "## Σημασιολογική ερμηνεία των clusters\n",
        "\n",
        "Προκειμένου να μελετήσουμε τις τοπολογικές ιδιότητες του SOM και το αν έχουν ενσωματώσει σημασιολογική πληροφορία για τις ταινίες διαμέσου της διανυσματικής αναπαράστασης με το tf-idf και των κατηγοριών, χρειαζόμαστε ένα κριτήριο ποιοτικής επισκόπησης των clusters. Θα υλοποιήσουμε το εξής κριτήριο: Λαμβάνουμε όρισμα έναν αριθμό (ετικέτα) cluster. Για το cluster αυτό βρίσκουμε όλους τους νευρώνες που του έχουν ανατεθεί από τον k-Means. Για όλους τους νευρώνες αυτούς βρίσκουμε όλες τις ταινίες που τους έχουν ανατεθεί (για τις οποίες αποτελούν bmus). Για όλες αυτές τις ταινίες τυπώνουμε ταξινομημένη τη συνολική στατιστική όλων των ειδών (κατηγοριών) και τις συχνότητές τους. Αν το cluster διαθέτει καλή συνοχή και εξειδίκευση, θα πρέπει κάποιες κατηγορίες να έχουν σαφώς μεγαλύτερη συχνότητα από τις υπόλοιπες. Θα μπορούμε τότε να αναθέσουμε αυτήν/ές την/τις κατηγορία/ες ως ετικέτες κινηματογραφικού είδους στο cluster.\n",
        "\n",
        "Μπορείτε να υλοποιήσετε τη συνάρτηση αυτή όπως θέλετε. Μια πιθανή διαδικασία θα μπορούσε να είναι η ακόλουθη:\n",
        "\n",
        "1. Ορίζουμε συνάρτηση `print_categories_stats` που δέχεται ως είσοδο λίστα με ids ταινιών. Δημιουργούμε μια κενή λίστα συνολικών κατηγοριών. Στη συνέχεια, για κάθε ταινία επεξεργαζόμαστε το string `categories` ως εξής: δημιουργούμε μια λίστα διαχωρίζοντας το string κατάλληλα με την `split` και αφαιρούμε τα whitespaces μεταξύ ετικετών με την `strip`. Προσθέτουμε τη λίστα αυτή στη συνολική λίστα κατηγοριών με την `extend`. Τέλος χρησιμοποιούμε πάλι την `np.unique` για να μετρήσουμε συχνότητα μοναδικών ετικετών κατηγοριών και ταξινομούμε με την `np.argsort`. Τυπώνουμε τις κατηγορίες και τις συχνότητες εμφάνισης ταξινομημένα. Χρήσιμες μπορεί να σας φανούν και οι `np.ravel`, `np.nditer`, `np.array2string` και `zip`.\n",
        "\n",
        "2. Ορίζουμε τη βασική μας συνάρτηση `print_cluster_neurons_movies_report` που δέχεται ως όρισμα τον αριθμό ενός cluster. Με τη χρήση της `np.where` μπορούμε να βρούμε τις συντεταγμένες των bmus που αντιστοιχούν στο cluster και με την `column_stack` να φτιάξουμε έναν πίνακα bmus για το cluster. Προσοχή στη σειρά (στήλη - σειρά) στον πίνακα bmus. Για κάθε bmu αυτού του πίνακα ελέγχουμε αν υπάρχει στον πίνακα μοναδικών bmus που έχουμε υπολογίσει στην αρχή συνολικά και αν ναι προσθέτουμε το αντίστοιχο index του νευρώνα σε μια λίστα. Χρήσιμες μπορεί να είναι και οι `np.rollaxis`, `np.append`, `np.asscalar`. Επίσης πιθανώς να πρέπει να υλοποιήσετε ένα κριτήριο ομοιότητας μεταξύ ενός bmu και ενός μοναδικού bmu από τον αρχικό πίνακα bmus.\n",
        "\n",
        "3. Υλοποιούμε μια βοηθητική συνάρτηση `neuron_movies_report`. Λαμβάνει ένα σύνολο νευρώνων από την `print_cluster_neurons_movies_report` και μέσω της `indices` φτιάχνει μια λίστα με το σύνολο ταινιών που ανήκουν σε αυτούς τους νευρώνες. Στο τέλος καλεί με αυτή τη λίστα την `print_categories_stats` που τυπώνει τις στατιστικές των κατηγοριών.\n",
        "\n",
        "Μπορείτε βέβαια να προσθέσετε οποιαδήποτε επιπλέον έξοδο σας βοηθάει. Μια χρήσιμη έξοδος είναι πόσοι νευρώνες ανήκουν στο cluster και σε πόσους και ποιους από αυτούς έχουν ανατεθεί ταινίες.\n",
        "\n",
        "Θα επιτελούμε τη σημασιολογική ερμηνεία του χάρτη καλώντας την `print_cluster_neurons_movies_report` με τον αριθμός ενός cluster που μας ενδιαφέρει. \n",
        "\n",
        "Παράδειγμα εξόδου για ένα cluster (μη βελτιστοποιημένος χάρτης, ωστόσο βλέπετε ότι οι μεγάλες κατηγορίες έχουν σημασιολογική  συνάφεια):\n",
        "\n",
        "```\n",
        "Overall Cluster Genres stats:  \n",
        "[('\"Horror\"', 86), ('\"Science Fiction\"', 24), ('\"B-movie\"', 16), ('\"Monster movie\"', 10), ('\"Creature Film\"', 10), ('\"Indie\"', 9), ('\"Zombie Film\"', 9), ('\"Slasher\"', 8), ('\"World cinema\"', 8), ('\"Sci-Fi Horror\"', 7), ('\"Natural horror films\"', 6), ('\"Supernatural\"', 6), ('\"Thriller\"', 6), ('\"Cult\"', 5), ('\"Black-and-white\"', 5), ('\"Japanese Movies\"', 4), ('\"Short Film\"', 3), ('\"Drama\"', 3), ('\"Psychological thriller\"', 3), ('\"Crime Fiction\"', 3), ('\"Monster\"', 3), ('\"Comedy\"', 2), ('\"Western\"', 2), ('\"Horror Comedy\"', 2), ('\"Archaeology\"', 2), ('\"Alien Film\"', 2), ('\"Teen\"', 2), ('\"Mystery\"', 2), ('\"Adventure\"', 2), ('\"Comedy film\"', 2), ('\"Combat Films\"', 1), ('\"Chinese Movies\"', 1), ('\"Action/Adventure\"', 1), ('\"Gothic Film\"', 1), ('\"Costume drama\"', 1), ('\"Disaster\"', 1), ('\"Docudrama\"', 1), ('\"Film adaptation\"', 1), ('\"Film noir\"', 1), ('\"Parody\"', 1), ('\"Period piece\"', 1), ('\"Action\"', 1)]```\n",
        "   "
      ]
    },
    {
      "cell_type": "markdown",
      "metadata": {
        "id": "sTUKh9MaZXS8"
      },
      "source": [
        "Αρχικα ορισαμε την πρωτη συναρτηση, η οποια παιρνει μια λιστα με ταινιες (list of ints) και τυπωνει τον αριθμο των μοναδικων κατηγοριων (κατηγοριες που εμφανιζονται στην λιστα αυτη με τις ταινιες), καθως και για την καθε κατηγορια τον αριθμο των ταινιων που εχουν σαν κατηγορια αυτην. "
      ]
    },
    {
      "cell_type": "code",
      "metadata": {
        "id": "Dthic8V-EATk"
      },
      "source": [
        "#Imported counter to count unique categories\n",
        "from collections import Counter\n",
        "#Imported operator to have a rule of ordering based on the second item of a tuple\n",
        "import operator\n",
        "\n",
        "def print_categories_stats(movie_list):\n",
        "    \n",
        "    #create the empty list\n",
        "    total_categories = []\n",
        "    \n",
        "    for movie in movie_list:\n",
        "    \n",
        "        #take the categories of the string (its a list of one string, so take the first element)\n",
        "        cats = categories[movie][0]\n",
        "        #split on comma\n",
        "        cats = cats.split(',')\n",
        "    \n",
        "        for cat in cats:\n",
        "            #strip of extra spaces\n",
        "            cat = cat.strip(' ')\n",
        "            #strip of quotes\n",
        "            cat = cat.strip('\"')\n",
        "            #put it on the list\n",
        "            total_categories.append(cat)\n",
        "    \n",
        "    #use the counter module to get the unique names of the categories\n",
        "    uniq = list(Counter(total_categories).keys())\n",
        "    #as well as the indices of the categories themselves:\n",
        "    indic = list(Counter(total_categories).values())\n",
        "\n",
        "\n",
        "    #this didn't work correctly:\n",
        "    #uniq, indices = np.unique(total_categories, return_index=True)\n",
        "    \n",
        "    \n",
        "    print(\"Overall Genre Stats:\")\n",
        "    tots = []\n",
        "    for i in range(len(uniq)):\n",
        "        tots.append((uniq[i], indic[i]))\n",
        "    print(len(tots), \"Categories.\")\n",
        "\n",
        "    #sort based on the second item of the tuples in tots. \n",
        "    tots.sort(key = operator.itemgetter(1), reverse=True)\n",
        "    print(tots)\n",
        "    return 0"
      ],
      "execution_count": null,
      "outputs": []
    },
    {
      "cell_type": "markdown",
      "metadata": {
        "id": "OwIsGw-2Z0W8"
      },
      "source": [
        "Για να το τεσταρουμε, χρησιμοποιουμε σαν εισοδο την πληρη λιστα ταινιων (φτιαξαμε μια λιστα με 5000 αριθμους):"
      ]
    },
    {
      "cell_type": "code",
      "metadata": {
        "id": "sgRA1sWumHcP"
      },
      "source": [
        "movie_list_ids = list(range(5000))\n",
        "print_categories_stats(movie_list_ids)"
      ],
      "execution_count": null,
      "outputs": []
    },
    {
      "cell_type": "markdown",
      "metadata": {
        "id": "_Z3Cyvs4avdf"
      },
      "source": [
        "Στην συνεχεια ορισαμε την δευτερη συναρτηση, η οποια παιρνει εναν αριθμο που ειναι το id του cluster και επιστρεφει μια λιστα με αριθμους, που ειναι οι συντεταγμενες των νευρωνων για να βρουμε μεσω των bmus τις ταινιες που θα χρησιμοποιησουμε σαν ορισμα για την πρωτη συναρτηση. "
      ]
    },
    {
      "cell_type": "code",
      "metadata": {
        "id": "CuJVJA6HYdI-"
      },
      "source": [
        "def print_cluster_neurons_movies_report(cluster_id):\n",
        "\n",
        "    #use the previously built in variable \n",
        "    how_many_neurons = no_of_neurons[cluster_id]\n",
        "\n",
        "    #use np.where to find where in the cluster map the value of the map is the same as the cluster id\n",
        "    positions = np.where(som.clusters==cluster_id)\n",
        "    #make a stack out of the tuples of the coordinates:\n",
        "    pos = np.column_stack((positions[0], positions[1]))\n",
        "    \n",
        "    #create a list of indices to be returned\n",
        "    INDICES = []\n",
        "    for position in pos:\n",
        "        if position in ubmus:\n",
        "            #make sure the unique index is calculated correctly:\n",
        "            INDICES.append(int(position[0])*n_rows + int(position[1]))\n",
        "    return INDICES"
      ],
      "execution_count": null,
      "outputs": []
    },
    {
      "cell_type": "markdown",
      "metadata": {
        "id": "fDYxzR-IcA2a"
      },
      "source": [
        "Για να ελεγξουμε την ορθη λειτουργια της συναρτησης, την καλουμε με ορισμα 7 (που αντιστοιχει σε ενα cluster που ξερουμε τον αριθμο των νευρωνων που του αντιστοιχουν απο το cluster map):"
      ]
    },
    {
      "cell_type": "code",
      "metadata": {
        "id": "-sWC_xW2QeQt"
      },
      "source": [
        "print_cluster_neurons_movies_report(7)"
      ],
      "execution_count": null,
      "outputs": []
    },
    {
      "cell_type": "markdown",
      "metadata": {
        "id": "Y13XhOG7cmde"
      },
      "source": [
        "Τελος, οριζουμε και την τελευταια συναρτηση, η οποια παιρνει μια λιστα με neuron_ids (list of ints) και καλει την πρωτη συναρτηση ετσι ωστε να τυπωθουν για ολες τις ταινιες που αντιστοιχουν σε αυτους τους νευρωνες τα συνολικα στατιστικα για τις κατηγοριες."
      ]
    },
    {
      "cell_type": "code",
      "metadata": {
        "id": "oNQB4Pn7YkRv"
      },
      "source": [
        "def neuron_movies_report(neuron_list):\n",
        "    #First we have to append every movie that is related to every neuron:\n",
        "    movie_list_IDs = []\n",
        "    for neuron in neuron_list:\n",
        "\n",
        "        #We use np.where to find the movies that are related to that neuron\n",
        "        list_of_movies = list(np.where(indices==neuron))\n",
        "\n",
        "        #for every movie: append its ID:\n",
        "        for i in range(len(list_of_movies[0])):\n",
        "            movie_list_IDs.append(list_of_movies[0][i])\n",
        "\n",
        "    #now call the first function with the total list to print the stats. \n",
        "    print_categories_stats(movie_list_IDs)"
      ],
      "execution_count": null,
      "outputs": []
    },
    {
      "cell_type": "markdown",
      "metadata": {
        "id": "E6MBFzhIdcWv"
      },
      "source": [
        "Για να ελεγξουμε την συναρτηση αυτη, αλλα και για να δουμε μια συνολικη εικονα, τυπωνουμε εξουθενωτικα για καθε cluster ID τις κατηγοριες με τις οποιες σχετιζεται "
      ]
    },
    {
      "cell_type": "code",
      "metadata": {
        "id": "sc0teMDdUz8g"
      },
      "source": [
        "for i in list(cluster_index):\n",
        "    print(\"Cluster ID\" , i)\n",
        "    neuron_movies_report(print_cluster_neurons_movies_report(i))"
      ],
      "execution_count": null,
      "outputs": []
    },
    {
      "cell_type": "markdown",
      "metadata": {
        "id": "lq4QrImhaa7E"
      },
      "source": [
        "\n",
        "## Tips για το SOM και το clustering\n",
        "\n",
        "- Για την ομαδοποίηση ένα U-matrix καλό είναι να εμφανίζει και μπλε-πράσινες περιοχές (clusters) και κόκκινες περιοχές (ορίων). Παρατηρήστε ποια σχέση υπάρχει μεταξύ αριθμού ταινιών στο final set, μεγέθους grid και ποιότητας U-matrix.\n",
        "- Για το k του k-Means προσπαθήστε να προσεγγίζει σχετικά τα clusters του U-matrix (όπως είπαμε είναι διαφορετικοί μέθοδοι clustering). Μικρός αριθμός k δεν θα σέβεται τα όρια. Μεγάλος αριθμός θα δημιουργεί υπο-clusters εντός των clusters που φαίνονται στο U-matrix. Το τελευταίο δεν είναι απαραίτητα κακό, αλλά μεγαλώνει τον αριθμό clusters που πρέπει να αναλυθούν σημασιολογικά.\n",
        "- Σε μικρούς χάρτες και με μικρά final sets δοκιμάστε διαφορετικές παραμέτρους για την εκπαίδευση του SOM. Σημειώστε τυχόν παραμέτρους που επηρεάζουν την ποιότητα του clustering για το dataset σας ώστε να τις εφαρμόσετε στους μεγάλους χάρτες.\n",
        "- Κάποια τοπολογικά χαρακτηριστικά εμφανίζονται ήδη σε μικρούς χάρτες. Κάποια άλλα χρειάζονται μεγαλύτερους χάρτες. Δοκιμάστε μεγέθη 20x20, 25x25 ή και 30x30 και αντίστοιχη προσαρμογή των k. Όσο μεγαλώνουν οι χάρτες, μεγαλώνει η ανάλυση του χάρτη αλλά μεγαλώνει και ο αριθμός clusters που πρέπει να αναλυθούν.\n"
      ]
    },
    {
      "cell_type": "markdown",
      "metadata": {
        "id": "x4IUl8O8ayVf"
      },
      "source": [
        "\n",
        "\n",
        "## Ανάλυση τοπολογικών ιδιοτήτων χάρτη SOM\n",
        "\n",
        "Μετά το πέρας της εκπαίδευσης και του clustering θα έχετε ένα χάρτη με τοπολογικές ιδιότητες ως προς τα είδη των ταίνιών της συλλογής σας, κάτι αντίστοιχο με την εικόνα στην αρχή της Εφαρμογής 2 αυτού του notebook (η συγκεκριμένη εικόνα είναι μόνο για εικονογράφιση, δεν έχει καμία σχέση με τη συλλογή δεδομένων και τις κατηγορίες μας).\n",
        "\n",
        "Για τον τελικό χάρτη SOM που θα παράξετε για τη συλλογή σας, αναλύστε σε markdown με συγκεκριμένη αναφορά σε αριθμούς clusters και τη σημασιολογική ερμηνεία τους τις εξής τρεις τοπολογικές ιδιότητες του SOM: \n",
        "\n",
        "1. Δεδομένα που έχουν μεγαλύτερη πυκνότητα πιθανότητας στο χώρο εισόδου τείνουν να απεικονίζονται με περισσότερους νευρώνες στο χώρο μειωμένης διαστατικότητας. Δώστε παραδείγματα από συχνές και λιγότερο συχνές κατηγορίες ταινιών. Χρησιμοποιήστε τις στατιστικές των κατηγοριών στη συλλογή σας και τον αριθμό κόμβων που χαρακτηρίζουν.\n",
        "2. Μακρινά πρότυπα εισόδου τείνουν να απεικονίζονται απομακρυσμένα στο χάρτη. Υπάρχουν χαρακτηριστικές κατηγορίες ταινιών που ήδη από μικρούς χάρτες τείνουν να τοποθετούνται σε διαφορετικά ή απομονωμένα σημεία του χάρτη.\n",
        "3. Κοντινά πρότυπα εισόδου τείνουν να απεικονίζονται κοντά στο χάρτη. Σε μεγάλους χάρτες εντοπίστε είδη ταινιών και κοντινά τους υποείδη.\n",
        "\n",
        "Προφανώς τοποθέτηση σε 2 διαστάσεις που να σέβεται μια απόλυτη τοπολογία δεν είναι εφικτή, αφενός γιατί δεν υπάρχει κάποια απόλυτη εξ ορισμού για τα κινηματογραφικά είδη ακόμα και σε πολλές διαστάσεις, αφετέρου γιατί πραγματοποιούμε μείωση διαστατικότητας.\n",
        "\n",
        "Εντοπίστε μεγάλα clusters και μικρά clusters που δεν έχουν σαφή χαρακτηριστικά. Εντοπίστε clusters συγκεκριμένων ειδών που μοιάζουν να μην έχουν τοπολογική συνάφεια με γύρω περιοχές. Προτείνετε πιθανές ερμηνείες.\n",
        "\n",
        "\n",
        "\n",
        "Τέλος, εντοπίστε clusters που έχουν κατά την άποψή σας ιδιαίτερο ενδιαφέρον στη συλλογή της ομάδας σας (data exploration / discovery value) και σχολιάστε.\n"
      ]
    },
    {
      "cell_type": "markdown",
      "metadata": {
        "id": "HrmeH3_7mwYH"
      },
      "source": [
        "#Ερωτηση 1\n",
        "\n"
      ]
    },
    {
      "cell_type": "markdown",
      "metadata": {
        "id": "8IMn_YreQcFS"
      },
      "source": [
        "Τα δεδομενα που εχουν μεγαλυτερη συχνοτητα εμφανισης, ειναι λογικο οτι θα εμφανιστουν και σε περισσοτερους νευρωνες. Για να το ελεγξουμε αυτο, δημιουργησαμε την παρακατω συναρτηση, η οποια για μια δεδομενη κατηγορια ταινιων βρισκει καθε νευρωνα στον οποιο η κατηγορια αυτη εμφανιζεται με συχνοτητα που να την τοποθετει στις τοπ 5 κατηγοριες για αυτον τον νευρωνα (πιστευουμε οτι ενας νευρωνας δεν αρκει να εχει απλως την κατηγορια για να θεωρειται οτι η κατηγορια χαρακτηριζει τον νευρωνα, αλλα πρεπει να εχει και μια σχετικα υψηλη συχνοτητα στον νευρωνα αυτον), και μετραει συνολικα σε ποσους νευρωνες εμφανιστηκε. "
      ]
    },
    {
      "cell_type": "code",
      "metadata": {
        "id": "YRgWaQsWnvIS"
      },
      "source": [
        "def find_category_in_neurons(category):\n",
        "\n",
        "    number_of_neurons_found_in = 0\n",
        "    for neuron in range(n_rows*n_columns):\n",
        "\n",
        "        list_of_movies = list(np.where(indices==neuron))\n",
        "        category_list = []\n",
        "        for i in range(len(list_of_movies[0])):\n",
        "            cats1 = categories[list_of_movies[0][i]][0]\n",
        "            #split on comma\n",
        "            cats1 = cats1.split(',')\n",
        "        \n",
        "            for cat1 in cats1:\n",
        "                #strip of extra spaces\n",
        "                cat1 = cat1.strip(' ')\n",
        "                #strip of quotes\n",
        "                cat1 = cat1.strip('\"')\n",
        "                #put it on the list\n",
        "                category_list.append(cat1)\n",
        "        #use the counter module to get the unique names of the categories\n",
        "        uniq1 = list(Counter(category_list).keys())\n",
        "        #as well as the indices of the categories themselves:\n",
        "        indices1 = list(Counter(category_list).values())\n",
        "        if (category in uniq1):\n",
        "            if (uniq1.index(category) < 5):\n",
        "                number_of_neurons_found_in += 1\n",
        "\n",
        "    print(\"Category '\" + category + \"', found in \" , number_of_neurons_found_in, \"neurons.\")"
      ],
      "execution_count": null,
      "outputs": []
    },
    {
      "cell_type": "code",
      "metadata": {
        "id": "ybXzEIHfovie"
      },
      "source": [
        "movie_list_ids = list(range(5000))\n",
        "print_categories_stats(movie_list_ids)\n",
        "find_category_in_neurons(\"Drama\")\n",
        "find_category_in_neurons(\"Comedy\")\n",
        "find_category_in_neurons(\"Romance Film\")\n",
        "find_category_in_neurons(\"Thriller\")\n",
        "find_category_in_neurons(\"Action\")\n",
        "find_category_in_neurons(\"World cinema\")\n",
        "find_category_in_neurons(\"Crime Fiction\")\n",
        "find_category_in_neurons(\"Horror\")\n",
        "find_category_in_neurons(\"Black-and-white\")\n",
        "find_category_in_neurons(\"Short Film\")\n",
        "find_category_in_neurons(\"Family Film\")\n",
        "\n",
        "print()\n",
        "\n",
        "find_category_in_neurons(\"Comedy film\")\n",
        "find_category_in_neurons(\"Crime Thriller\")\n",
        "find_category_in_neurons(\"War film\")\n",
        "find_category_in_neurons(\"Silent film\")\n",
        "find_category_in_neurons(\"Psychological thriller\")\n",
        "find_category_in_neurons(\"Bollywood\")\n",
        "\n",
        "\n",
        "print()\n",
        "\n",
        "\n",
        "find_category_in_neurons(\"Coming-of-age film\")"
      ],
      "execution_count": null,
      "outputs": []
    },
    {
      "cell_type": "markdown",
      "metadata": {
        "id": "vdVlMiVqGu-b"
      },
      "source": [
        "Βλεπουμε οτι οι κατηγοριες που εμφανιζονται πιο συχνα στο συνολικο συνολο δεδομενων, εμφανιζονται και σε περισσοτερους νευρωνες σαν τοπ κατηγορια (δηλαδη κατηγορια που να εχει απο τις περισσοτερες εμφανισεις σε εναν νευρωνα). Αυτο γινεται ιδιαιτερα ξεκαθαρο αν εκτελεσουμε το κελι παραπανω, που μας δειχνει οτι οι κατηγοριες που ειναι οι πιο συχνες γενικα, ειναι και εξαιρετικα συχνες στους νευρωνες (πχ Drama - 136 νευρωνες ~ 40% των νευρωνων που χρησιμοποιουνται). Ακομα, ειναι εμφανες (με καποιες μικρες αποκλισεις βεβαια) οτι οσο μια κατηγορια ειναι λιγοτερο συχνη στα δεδομενα, ειναι και λιγοτερο συχνη στους νευρωνες. Τελος, γινεται ξεκαθαρο οτι κατηγοριες που ειναι λιγο συχνες στα δεδομενα, εμφανιζονται σαν τοπ κατηγορια σε ελαχιστους νευρωνες, ενω κατηγοριες που ειναι εξαιρετικα σπανιες, δεν εμφανιζονται ως τοπ κατηγορια σε κανεναν νευρωνα (πχ \"Coming-of-age film\")"
      ]
    },
    {
      "cell_type": "markdown",
      "metadata": {
        "id": "AaHtE0gUt99e"
      },
      "source": [
        "#Ερωτηση 2\n",
        "\n"
      ]
    },
    {
      "cell_type": "code",
      "metadata": {
        "id": "mEkd_Rpqud9r"
      },
      "source": [
        "def distant_categories(category1, category2):\n",
        "\n",
        "    neurons_found_in1 = []\n",
        "    neurons_found_in2 = []\n",
        "\n",
        "    for neuron in range(n_rows*n_columns):\n",
        "\n",
        "        list_of_movies = list(np.where(indices==neuron))\n",
        "        category_list = []\n",
        "        for i in range(len(list_of_movies[0])):\n",
        "            cats1 = categories[list_of_movies[0][i]][0]\n",
        "            #split on comma\n",
        "            cats1 = cats1.split(',')\n",
        "        \n",
        "            for cat1 in cats1:\n",
        "                #strip of extra spaces\n",
        "                cat1 = cat1.strip(' ')\n",
        "                #strip of quotes\n",
        "                cat1 = cat1.strip('\"')\n",
        "                #put it on the list\n",
        "                category_list.append(cat1)\n",
        "        #use the counter module to get the unique names of the categories\n",
        "        uniq1 = list(Counter(category_list).keys())\n",
        "        #as well as the indices of the categories themselves:\n",
        "        indices1 = list(Counter(category_list).values())\n",
        "        if (category1 in uniq1):\n",
        "            if (uniq1.index(category1) < 5):\n",
        "                l = list(ubmus[neuron])\n",
        "                neurons_found_in1.append((l[0], l[1]))\n",
        "        if (category2 in uniq1):\n",
        "            if (uniq1.index(category2) < 5):\n",
        "                l = list(ubmus[neuron])\n",
        "                neurons_found_in2.append((l[0], l[1]))\n",
        "    \n",
        "    \n",
        "    print(\"Category '\" + category1 + \"', found in \", len(neurons_found_in1), \" neurons:\" , neurons_found_in1)\n",
        "    print()\n",
        "\n",
        "    print(\"Category '\" + category2 + \"', found in \", len(neurons_found_in2), \" neurons:\" , neurons_found_in2)\n",
        "    print()\n",
        "\n",
        "    intersect = list(set(neurons_found_in1).intersection(neurons_found_in2))\n",
        "\n",
        "    print(\"Both categories are found in \", len(intersect), \" neurons:\" , intersect)"
      ],
      "execution_count": null,
      "outputs": []
    },
    {
      "cell_type": "code",
      "metadata": {
        "id": "o9cOCSoLvbfF"
      },
      "source": [
        "distant_categories(\"Romance Film\", \"Crime Fiction\")"
      ],
      "execution_count": null,
      "outputs": []
    },
    {
      "cell_type": "markdown",
      "metadata": {
        "id": "HkxxBtEoQSut"
      },
      "source": [
        "Παρατηρούμε το παραπάνω παράδειγμα για τα είδη \"Romance Film\" και \"Crime Fiction\", τα οποία εμφανίζονται και τα δύο σε έναν σχετικά μεγάλο αριθμό νευρώνων ίσο με 44. Παρόλα αυτά κυριαρχούν ταυτόχρονα μόνο σε 3 από αυτούς, γεγονός που αναδεικνύει τις αναδεικνύει τις μεγάλες διαφορές μεταξύ των ταινιών που ανήκουν σε αυτά τα δύο είδη. Εντυπωσιακό είναι ακόμα το γεγονός πως οι περισσότερες ταινίες \"Crime Fiction\" βρίσκονται στο πάνω μέρος του SOM (μονοψήφιος ο πρώτος δείκτης) ενώ οι περισσότερες ταινίες \"Romance Film\" βρίσκονται στο κάτω μέρος του (διψήφιος ο πρώτος δείκτης). Επίσης από τους 44 νευρώνες για το \"Romance Film\" μόνο 4 βρίσκονται στο δεξί μέρος του χάρτη (διψήφιος ο δεύτερος δείκτης) και από τους 44 νευρώνες για το \"Crime Fiction\" μόνο 11 βρίσκονται στο αριστερό μέρος του χάρτη (μονοψήφιος ο δεύτερος δείκτης). Αυτά τα στατιστικά αποδεικνύουν την διαφορά που αναφέραμε παραπάνω."
      ]
    },
    {
      "cell_type": "markdown",
      "metadata": {
        "id": "09nSl7k3z_-x"
      },
      "source": [
        "#Ερωτηση 3\n"
      ]
    },
    {
      "cell_type": "code",
      "metadata": {
        "id": "CHn_4h9m0Dno"
      },
      "source": [
        "distant_categories(\"Thriller\", \"Psychological thriller\")\n",
        "print()\n",
        "print()\n",
        "print()\n",
        "print()\n",
        "distant_categories(\"Comedy\", \"Black comedy\")"
      ],
      "execution_count": null,
      "outputs": []
    },
    {
      "cell_type": "markdown",
      "metadata": {
        "id": "P3uPtkICQVmH"
      },
      "source": [
        "Οι κατηγορίες \"Thriller\" και \"Psychological thriller\" είναι συγγενικές και περιμένουμε να χρησιμοποιούνε κοντινούς νευρώνες στον χάρτη SOM. Η κατηγορία \"Psychological thriller\" κυριαρχεί σε 11 νευρώνες. Στους 7 από αυτούς κυριαρχεί και η κατηγορία \"Thriller\", κάτι που αποδεικνύει τη συνάφεια των δύο ειδών. Παράλληλα η \"Psychological thriller\" εμφανίζεται και στους νευρώνες (10, 16), (11, 17). Η \"Thriller\", αν και δεν εμφανίζεται σε αυτούς, εμφανίζεται στους (10, 17), (11, 18) που είναι οι διπλανοί των παραπάνω αντίστοιχα.\n",
        "\n",
        "Το ίδιο παρατηρείται και με τις κατηγορίες \"Comedy\" και \"Black Comedy\", με την δεύτερη να κυριαρχεί σε 8 νευρώνες και να συγκατοικεί με την πρώτη σε 5 από αυτούς. Όπως και πριν η \"Black Comedy\" κυριαρχεί στον (15, 7) και η \"Comedy\" στον διπλανό (16, 7)."
      ]
    },
    {
      "cell_type": "markdown",
      "metadata": {
        "id": "AlSTmqE18KZn"
      },
      "source": [
        "#Ερωτηση 4"
      ]
    },
    {
      "cell_type": "markdown",
      "metadata": {
        "id": "ti7Iq-ZM6zF2"
      },
      "source": [
        "Ενα παραδειγμα μεγαλου cluster που δεν εχει σαφη χαρακτηριστικα ειναι:"
      ]
    },
    {
      "cell_type": "code",
      "metadata": {
        "id": "RXUas7Rc7SVl"
      },
      "source": [
        "neuron_movies_report(print_cluster_neurons_movies_report(21))"
      ],
      "execution_count": null,
      "outputs": []
    },
    {
      "cell_type": "markdown",
      "metadata": {
        "id": "X6O5UzKr7S8o"
      },
      "source": [
        "\n",
        "Ενα παραδειγμα μικρου cluster που δεν εχει σαφη χαρακτηριστικα ειναι:"
      ]
    },
    {
      "cell_type": "code",
      "metadata": {
        "id": "NDumeORc7aEi"
      },
      "source": [
        "neuron_movies_report(print_cluster_neurons_movies_report(19))"
      ],
      "execution_count": null,
      "outputs": []
    },
    {
      "cell_type": "markdown",
      "metadata": {
        "id": "gpAbU53p8WTb"
      },
      "source": [
        "Clusters που δεν εχουν τοπολογικη συναφεια:"
      ]
    },
    {
      "cell_type": "code",
      "metadata": {
        "id": "OFKOhCi-8aGr"
      },
      "source": [
        "neuron_movies_report(print_cluster_neurons_movies_report(3))\n",
        "neuron_movies_report(print_cluster_neurons_movies_report(16))\n",
        "neuron_movies_report(print_cluster_neurons_movies_report(17))\n",
        "neuron_movies_report(print_cluster_neurons_movies_report(19))"
      ],
      "execution_count": null,
      "outputs": []
    },
    {
      "cell_type": "markdown",
      "metadata": {
        "id": "8vgvwbEUGfJI"
      },
      "source": [
        "Ερμηνεια:\n",
        "\n",
        "Αρχικα πρεπει να αιτιολογησουμε την ασαφεια στα δυο clusters που παραθεσαμε. Το μικρο και το μεγαλο cluster ειναι ασαφη ως προς τα χαρακτηριστικα τους, καθως εχουν σαν τοπ κατηγοριες εννοιες που δεν ειναι σχετικες (πχ \"Comedy\"-\"Thriller\" η \"Romance Film\"-\"Thriller\"). Αυτο γινεται γιατι οι νευρωνες (αλλα και ο αριθμος των clusters, και οι εποχες που ειχαμε την δυνατοτητα να αφησουμε το SOM να γινει trained) ηταν εξαιρετικα λιγοι, με αποτελεσμα πολλες εννοιες να συγκεντρωνονται στους ιδιους νευρωνες επειδη οι ιδιες οι ταινιες εχουν καποιες \"περιεργες\" κατηγοριες. \n",
        "\n",
        "Επιπλεον, οσον αφορα την τοπολογικη συναφεια μεταξυ των clusters 3,16,17,19, εχουμε να ανεφερουμε τα εξης. Ενω τα clusters αυτα ειναι κοντα μεταξυ τους (ολα ειναι στο πανω αριστερα κομματι του χαρτη), βλεπουμε οτι εχουν διαφορες στις τοπ κατηγοριες τους, που ουσιαστικα εκφραζουν τους ιδιους τους νευρωνες (\"Adventure\"/\"Action\" vs \"Short Film\"/\"Animation\" vs. \"Comedy\" vs. \"Romance Film\"/\"comedy\").\n",
        "\n",
        "Αυτο εχει πολλες πιθανες αιτιες. Μια απο αυτες ειναι οτι η εκπαιδευση του δικτυου που καναμε (100 εποχες) δεν ειναι αρκετη για να προσδιορισθουν πληρως οι νευρωνες στις τοπολογικες ιδιοτητες των δεδομενων μας στον πολυδιαστατο χωρο που βρισκονται. Μια αλλη (προφανης) εξηγηση ειναι οτι προσπαθουμε να \"απλωσουμε\" ενα δισδιαστο \"πεπλο\" (2d plane) σε εναν χωρο εξαιρετικα πολλων διαστασεων. Αυτο εχει ως αποτελεσμα ποτε να μην μπορουμε επακριβως να κανουμε καλη τοπολογικη προσεγγιση των δεδομενων, καθως η μειωση των διαστασεων ειναι απλα παρα πολυ μεγαλη, και ως συνεπεια χανεται παρα πολυ τοπολογικη πληροφορια. Μια οπτικοποιηση spacial information loss ειναι η ακολουθη, που ειναι πολυ πιθανο να συμβαινει και στην περιπτωση μας:\n",
        "\n",
        "https://en.wikipedia.org/wiki/Nonlinear_dimensionality_reduction#/media/File:Lle_hlle_swissroll.png"
      ]
    },
    {
      "cell_type": "markdown",
      "metadata": {
        "id": "Zihhk0R_Ugzq"
      },
      "source": [
        "Ενδιαφερον παρουσιαζει το Cluster 5. Βλεπουμε οτι περιεχει κατηγοριες οπως \"Western\", \"Japanese Movies\", \"Martial Arts\", \"World Cinema\". Αυτο, υποθετουμε (και επιβεβαιωνεται απο την υπαρξη τετοιων ταινιων) εχει δημιουργηθει σαν cluster και οφειλει την υπαρξη του στο γενονος οτι στα Westerns, υπαρχει συχνα συμμετοχη ανθρωπων Κινεζικης και Ιαπωνικης καταγωγης, που συνηθως λαμβανουν μερος σε σκηνες δρασης/βιας/πολεμικων τεχνων με τους αμερικανους \"καουμπόυδες\". Οποτε το SOM βρηκε αφενος κοινες λεξεις στα western με chinese και japanese films, και αφετερου υπαρχουν και ταινιες που συνδυαζουν και τα δυο. Θεωρουμε οτι αυτο το cluster εμφανιζει μια πληροφορια που μπορει να μην ανιχνευθει απο πολλους σαν επιτυχης ομαδοποιηση, αλλα ειναι λογω των ταινιων που εχουν παραχθει. "
      ]
    },
    {
      "cell_type": "markdown",
      "metadata": {
        "id": "tYjxGR5DawIy"
      },
      "source": [
        "\n",
        "# Τελική παράδοση άσκησης\n"
      ]
    },
    {
      "cell_type": "markdown",
      "metadata": {
        "id": "UHhCkvxjnitd"
      },
      "source": [
        "<table>\n",
        "  <tr><td align=\"center\">\n",
        "    <font size=\"4\">Παρακαλούμε διατρέξτε βήμα-βήμα το notebook για να μην ξεχάσετε παραδοτέα!</font>\n",
        "</td>\n",
        "  </tr>\n",
        "</table>"
      ]
    }
  ]
}
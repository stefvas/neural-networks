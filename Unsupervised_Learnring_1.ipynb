{
  "nbformat": 4,
  "nbformat_minor": 0,
  "metadata": {
    "colab": {
      "name": "Unsupervised_Learnring.ipynb",
      "provenance": [],
      "collapsed_sections": [],
      "include_colab_link": true
    },
    "kernelspec": {
      "name": "python3",
      "display_name": "Python 3"
    },
    "language_info": {
      "name": "python"
    }
  },
  "cells": [
    {
      "cell_type": "markdown",
      "metadata": {
        "id": "view-in-github",
        "colab_type": "text"
      },
      "source": [
        "<a href=\"https://colab.research.google.com/github/stefvas/neural-networks/blob/main/Unsupervised_Learnring_1.ipynb\" target=\"_parent\"><img src=\"https://colab.research.google.com/assets/colab-badge.svg\" alt=\"Open In Colab\"/></a>"
      ]
    },
    {
      "cell_type": "markdown",
      "metadata": {
        "id": "OniRxV5vzT5o"
      },
      "source": [
        "# Εργαστηριακή Άσκηση 2. Μη επιβλεπόμενη μάθηση. \n",
        "## Σύστημα συστάσεων βασισμένο στο περιεχόμενο\n",
        "## Σημασιολογική απεικόνιση δεδομένων με χρήση SOM "
      ]
    },
    {
      "cell_type": "code",
      "metadata": {
        "colab": {
          "base_uri": "https://localhost:8080/"
        },
        "id": "ZXfGp0KOyhUU",
        "outputId": "421738fa-4688-4218-fe7e-3555dd58db0b"
      },
      "source": [
        "!pip install --upgrade pip\n",
        "!pip install --upgrade numpy\n",
        "!pip install --upgrade pandas\n",
        "!pip install --upgrade nltk\n",
        "!pip install --upgrade scikit-learn\n",
        "!pip install --upgrade joblib"
      ],
      "execution_count": 66,
      "outputs": [
        {
          "output_type": "stream",
          "name": "stdout",
          "text": [
            "Requirement already satisfied: pip in /usr/local/lib/python3.7/dist-packages (21.3.1)\n",
            "\u001b[33mWARNING: Running pip as the 'root' user can result in broken permissions and conflicting behaviour with the system package manager. It is recommended to use a virtual environment instead: https://pip.pypa.io/warnings/venv\u001b[0m\n",
            "Requirement already satisfied: numpy in /usr/local/lib/python3.7/dist-packages (1.21.5)\n",
            "\u001b[33mWARNING: Running pip as the 'root' user can result in broken permissions and conflicting behaviour with the system package manager. It is recommended to use a virtual environment instead: https://pip.pypa.io/warnings/venv\u001b[0m\n",
            "Requirement already satisfied: pandas in /usr/local/lib/python3.7/dist-packages (1.3.5)\n",
            "Requirement already satisfied: pytz>=2017.3 in /usr/local/lib/python3.7/dist-packages (from pandas) (2018.9)\n",
            "Requirement already satisfied: python-dateutil>=2.7.3 in /usr/local/lib/python3.7/dist-packages (from pandas) (2.8.2)\n",
            "Requirement already satisfied: numpy>=1.17.3 in /usr/local/lib/python3.7/dist-packages (from pandas) (1.21.5)\n",
            "Requirement already satisfied: six>=1.5 in /usr/local/lib/python3.7/dist-packages (from python-dateutil>=2.7.3->pandas) (1.15.0)\n",
            "\u001b[33mWARNING: Running pip as the 'root' user can result in broken permissions and conflicting behaviour with the system package manager. It is recommended to use a virtual environment instead: https://pip.pypa.io/warnings/venv\u001b[0m\n",
            "Requirement already satisfied: nltk in /usr/local/lib/python3.7/dist-packages (3.6.6)\n",
            "Requirement already satisfied: tqdm in /usr/local/lib/python3.7/dist-packages (from nltk) (4.62.3)\n",
            "Requirement already satisfied: click in /usr/local/lib/python3.7/dist-packages (from nltk) (7.1.2)\n",
            "Requirement already satisfied: regex>=2021.8.3 in /usr/local/lib/python3.7/dist-packages (from nltk) (2021.11.10)\n",
            "Requirement already satisfied: joblib in /usr/local/lib/python3.7/dist-packages (from nltk) (1.1.0)\n",
            "\u001b[33mWARNING: Running pip as the 'root' user can result in broken permissions and conflicting behaviour with the system package manager. It is recommended to use a virtual environment instead: https://pip.pypa.io/warnings/venv\u001b[0m\n",
            "Requirement already satisfied: scikit-learn in /usr/local/lib/python3.7/dist-packages (1.0.1)\n",
            "Requirement already satisfied: numpy>=1.14.6 in /usr/local/lib/python3.7/dist-packages (from scikit-learn) (1.21.5)\n",
            "Requirement already satisfied: scipy>=1.1.0 in /usr/local/lib/python3.7/dist-packages (from scikit-learn) (1.4.1)\n",
            "Requirement already satisfied: threadpoolctl>=2.0.0 in /usr/local/lib/python3.7/dist-packages (from scikit-learn) (3.0.0)\n",
            "Requirement already satisfied: joblib>=0.11 in /usr/local/lib/python3.7/dist-packages (from scikit-learn) (1.1.0)\n",
            "\u001b[33mWARNING: Running pip as the 'root' user can result in broken permissions and conflicting behaviour with the system package manager. It is recommended to use a virtual environment instead: https://pip.pypa.io/warnings/venv\u001b[0m\n",
            "Requirement already satisfied: joblib in /usr/local/lib/python3.7/dist-packages (1.1.0)\n",
            "\u001b[33mWARNING: Running pip as the 'root' user can result in broken permissions and conflicting behaviour with the system package manager. It is recommended to use a virtual environment instead: https://pip.pypa.io/warnings/venv\u001b[0m\n"
          ]
        }
      ]
    },
    {
      "cell_type": "markdown",
      "metadata": {
        "id": "QDhGuZfZzcOP"
      },
      "source": [
        "##Data insertion"
      ]
    },
    {
      "cell_type": "code",
      "metadata": {
        "id": "nuJ8ApfhzgSe"
      },
      "source": [
        "import pandas as pd\n",
        "\n",
        "dataset_url = \"https://drive.google.com/uc?export=download&id=1-tN5rC1QCgwqL67cvIXdMbtd-Xf9Xqow\"\n",
        "df_data_1 = pd.read_csv(dataset_url, sep='\\t',  header=None, quoting=3)"
      ],
      "execution_count": 67,
      "outputs": []
    },
    {
      "cell_type": "markdown",
      "metadata": {
        "id": "KzuavdYgzyQU"
      },
      "source": [
        "Team seed == 40"
      ]
    },
    {
      "cell_type": "code",
      "metadata": {
        "id": "pYE4zS5Tz1Vs"
      },
      "source": [
        "import numpy as np\n",
        "\n",
        "# Στο επόμενη γραμή βάλτε τον αριθμό της ομάδας στο εργαστήριο των νευρωνικών\n",
        "team_seed_number = 40\n",
        "\n",
        "movie_seeds_url = \"https://drive.google.com/uc?export=download&id=1-oeMf7BFmiH70XObgC9WOTo-a9cDJZwP\"\n",
        "df_data_2 = pd.read_csv(movie_seeds_url, header=None)\n",
        "\n",
        "# επιλέγεται \n",
        "my_index = df_data_2.iloc[team_seed_number,:].values\n",
        "\n",
        "titles = df_data_1.iloc[:, [2]].values[my_index] # movie titles (string)\n",
        "categories = df_data_1.iloc[:, [3]].values[my_index] # movie categories (string)\n",
        "bins = df_data_1.iloc[:, [4]]\n",
        "catbins = bins[4].str.split(',', expand=True).values.astype(float)[my_index] # movie categories in binary form (1 feature per category)\n",
        "summaries =  df_data_1.iloc[:, [5]].values[my_index] # movie summaries (string)\n",
        "corpus = summaries[:,0].tolist() # list form of summaries\n",
        "corpus_df = pd.DataFrame(corpus) # dataframe version of corpus\n"
      ],
      "execution_count": 68,
      "outputs": []
    },
    {
      "cell_type": "code",
      "source": [
        "#print(type(corpus))\n",
        "punc = '''!@#$%^&*(){}[];:?/.,\\|`~_-'''\n",
        "def simplify_lower(arr):\n",
        "  corpus_prime = []\n",
        "  for string in arr:\n",
        "    temp  = \"\"\n",
        "    for char in string:\n",
        "      if (char.isupper()):\n",
        "         char = char.lower()\n",
        "      temp += char\n",
        "    string = temp\n",
        "    corpus_prime.append(string)\n",
        "  return corpus_prime\n",
        "\n",
        "\n",
        "def simplify_punc(arr):\n",
        "  corpus_prime = []\n",
        "  for string in arr:\n",
        "    temp  = \"\"\n",
        "    for char in string:\n",
        "      if(char in punc):\n",
        "       count = 0\n",
        "      else:\n",
        "        temp += char\n",
        "    string = temp\n",
        "    corpus_prime.append(string)\n",
        "  return corpus_prime\n",
        "\n",
        "corpus = simplify_lower(corpus)\n",
        "\n",
        "corpus = simplify_punc(corpus)\n",
        "\n",
        "\n",
        "\n"
      ],
      "metadata": {
        "id": "WokEjs4dBvcT"
      },
      "execution_count": 69,
      "outputs": []
    },
    {
      "cell_type": "code",
      "metadata": {
        "colab": {
          "base_uri": "https://localhost:8080/"
        },
        "id": "8es_7nZG0O-V",
        "outputId": "1422758a-1692-465a-e7e9-4389803f31b0"
      },
      "source": [
        "ID = 999\n",
        "print(titles[ID])\n",
        "print(categories[ID])\n",
        "print(catbins[ID])\n",
        "print(corpus[ID])"
      ],
      "execution_count": 70,
      "outputs": [
        {
          "output_type": "stream",
          "name": "stdout",
          "text": [
            "['Convict 99']\n",
            "['\"Comedy\",  \"Black-and-white\"']\n",
            "[0. 0. 0. 0. 0. 0. 0. 0. 0. 0. 0. 0. 0. 0. 0. 0. 0. 0. 0. 0. 0. 0. 0. 0.\n",
            " 0. 0. 0. 0. 0. 0. 0. 0. 0. 0. 0. 0. 0. 0. 0. 0. 0. 1. 0. 0. 0. 0. 0. 0.\n",
            " 0. 0. 0. 0. 0. 0. 0. 0. 0. 0. 0. 0. 0. 0. 0. 0. 0. 0. 0. 1. 0. 0. 0. 0.\n",
            " 0. 0. 0. 0. 0. 0. 0. 0. 0. 0. 0. 0. 0. 0. 0. 0. 0. 0. 0. 0. 0. 0. 0. 0.\n",
            " 0. 0. 0. 0. 0. 0. 0. 0. 0. 0. 0. 0. 0. 0. 0. 0. 0. 0. 0. 0. 0. 0. 0. 0.\n",
            " 0. 0. 0. 0. 0. 0. 0. 0. 0. 0. 0. 0. 0. 0. 0. 0. 0. 0. 0. 0. 0. 0. 0. 0.\n",
            " 0. 0. 0. 0. 0. 0. 0. 0. 0. 0. 0. 0. 0. 0. 0. 0. 0. 0. 0. 0. 0. 0. 0. 0.\n",
            " 0. 0. 0. 0. 0. 0. 0. 0. 0. 0. 0. 0. 0. 0. 0. 0. 0. 0. 0. 0. 0. 0. 0. 0.\n",
            " 0. 0. 0. 0. 0. 0. 0. 0. 0. 0. 0. 0. 0. 0. 0. 0. 0. 0. 0. 0. 0. 0. 0. 0.\n",
            " 0. 0. 0. 0. 0. 0. 0. 0. 0. 0. 0. 0. 0. 0. 0. 0. 0. 0. 0. 0. 0. 0. 0. 0.\n",
            " 0. 0. 0. 0. 0. 0. 0. 0. 0. 0. 0. 0. 0. 0. 0. 0. 0. 0. 0. 0. 0. 0. 0. 0.\n",
            " 0. 0. 0. 0. 0. 0. 0. 0. 0. 0. 0. 0. 0. 0. 0. 0. 0. 0. 0. 0. 0. 0. 0. 0.\n",
            " 0. 0. 0. 0. 0. 0. 0. 0. 0. 0. 0. 0. 0. 0. 0. 0. 0. 0. 0. 0. 0. 0. 0. 0.\n",
            " 0. 0. 0. 0. 0. 0. 0. 0. 0. 0.]\n",
            "incompetent dr benjamin twist  is dismissed from his job as headmaster at st michaels' school  and applies for a job in another school going for interview he is called into another office where they are expecting john benjamin a strict prison governor recently arrived from australia who is applying for the vacancy at blakedown prison in devon on the way to what twist believes is the school he becomes drunk and on arrival is mistaken for max slessor a prisoner who had escaped during a jailbreak designated convict 99 and in for seven years for forgery twist is soon discovered to be the new prison governor and once put in his  rightful place embarks on a programme to make the prison a more friendly place for the prisoners funding it from the proceeds of a football pools win and stock market investments things take a turn for the worse when the recaptured slessor aided by a phoney baroness who accuses twist of attempted rape escapes again with a signed cheque altering the figures he draws the entire prison funds from the bank twist and some of the convicts head in a prison van to limehouse in east london to catch slessor recover the lost funds and then successfully break into the bank in the middle of the night to return the money\n"
          ]
        }
      ]
    },
    {
      "cell_type": "markdown",
      "metadata": {
        "id": "cn4Xntq10ToE"
      },
      "source": [
        "# Εφαρμογή 1. Υλοποίηση συστήματος συστάσεων ταινιών βασισμένο στο περιεχόμενο\n",
        "<img src=\"http://clture.org/wp-content/uploads/2015/12/Netflix-Streaming-End-of-Year-Posts.jpg\" width=\"70%\">"
      ]
    },
    {
      "cell_type": "markdown",
      "metadata": {
        "id": "qgIaDlO60WH_"
      },
      "source": [
        "##TFID convertion"
      ]
    },
    {
      "cell_type": "code",
      "metadata": {
        "id": "Jne2J43H0Qy9"
      },
      "source": [
        "from sklearn.feature_extraction.text import ENGLISH_STOP_WORDS as stopwords_english\n",
        "from sklearn.feature_extraction.text import TfidfVectorizer\n",
        "\n",
        "\n",
        "def tf_idf(mx_df, mn_df, my_stopwrods=list()):\n",
        "\n",
        "  stopwords_film = [\"movie\", \"film\", \"plot\", \"begins\", \"opens\", \"starts\", \"piece\", \"named\", \"woman\", \"women\", \"man\", \"men\", \"prologue\", \"help\", \"helping\"]\n",
        "  stopwords = list(stopwords_english) + list(my_stopwrods) + list(stopwords_film)# enhancing stopwords\n",
        "\n",
        "  vectorizer = TfidfVectorizer(max_df=mx_df, min_df=mn_df, stop_words=stopwords, analyzer='word')\n",
        "  vectorizer.fit(corpus)\n",
        "  corpus_tf_idf = vectorizer.transform(corpus)\n",
        "  print(\"Dimensions: \", corpus_tf_idf.shape, \"\\n\")\n",
        "\n",
        "\n",
        "  return corpus_tf_idf"
      ],
      "execution_count": 71,
      "outputs": []
    },
    {
      "cell_type": "markdown",
      "metadata": {
        "id": "kxNv22vZ0of6"
      },
      "source": [
        "Η συνάρτηση [TfidfVectorizer](http://scikit-learn.org/stable/modules/generated/sklearn.feature_extraction.text.TfidfVectorizer.html) όπως καλείται εδώ **δεν είναι βελτιστοποιημένη**. Οι επιλογές των μεθόδων και παραμέτρων της μπορεί να έχουν **δραματική επίδραση στην ποιότητα των συστάσεων** και είναι διαφορετικές για κάθε dataset. Επίσης, οι επιλογές αυτές έχουν πολύ μεγάλη επίδραση και στη **διαστατικότητα και όγκο των δεδομένων**. Η διαστατικότητα των δεδομένων με τη σειρά της θα έχει πολύ μεγάλη επίδραση στους **χρόνους εκπαίδευσης**, ιδιαίτερα στη δεύτερη εφαρμογή της άσκησης. Ανατρέξτε στα notebooks του εργαστηρίου και στο [FAQ](https://docs.google.com/document/d/1-E4eQkVnTxa3Jb0HL9OAs11bugYRRZ7RNWpu7yh9G4s/edit?usp=sharing) των ασκήσεων."
      ]
    },
    {
      "cell_type": "code",
      "metadata": {
        "id": "5KSp2ZlI0ksm",
        "colab": {
          "base_uri": "https://localhost:8080/"
        },
        "outputId": "608320a0-4e02-422e-88f2-7ebac0540c54"
      },
      "source": [
        "print(tf_idf(1.0, 0))"
      ],
      "execution_count": 72,
      "outputs": [
        {
          "output_type": "stream",
          "name": "stdout",
          "text": [
            "Dimensions:  (5000, 52539) \n",
            "\n",
            "  (0, 52165)\t0.018276263143360158\n",
            "  (0, 52164)\t0.011302700569169849\n",
            "  (0, 52015)\t0.03264021889323426\n",
            "  (0, 51882)\t0.03172604941068616\n",
            "  (0, 51792)\t0.033145149318060466\n",
            "  (0, 51780)\t0.022940377239836447\n",
            "  (0, 51768)\t0.024890518157703857\n",
            "  (0, 51705)\t0.023741574906689406\n",
            "  (0, 51698)\t0.013514636775153157\n",
            "  (0, 51499)\t0.05481237438741874\n",
            "  (0, 51420)\t0.037515940318718785\n",
            "  (0, 51392)\t0.022261513445763933\n",
            "  (0, 51388)\t0.2966426822230622\n",
            "  (0, 51313)\t0.023054645553730675\n",
            "  (0, 50841)\t0.019551640845749688\n",
            "  (0, 50726)\t0.01358319535923186\n",
            "  (0, 50722)\t0.03993165835513382\n",
            "  (0, 50530)\t0.02272027225231764\n",
            "  (0, 50380)\t0.04230475576878638\n",
            "  (0, 49619)\t0.0300563329418967\n",
            "  (0, 49556)\t0.03094744890864895\n",
            "  (0, 49548)\t0.01589422568557242\n",
            "  (0, 49540)\t0.015701187246722453\n",
            "  (0, 49087)\t0.030651378213432518\n",
            "  (0, 49020)\t0.023809610122387907\n",
            "  :\t:\n",
            "  (4999, 9443)\t0.01938413548731317\n",
            "  (4999, 8978)\t0.039876128544933144\n",
            "  (4999, 8554)\t0.02015269020706517\n",
            "  (4999, 8548)\t0.016724543112157625\n",
            "  (4999, 8441)\t0.029833356022859404\n",
            "  (4999, 8203)\t0.6586738156061218\n",
            "  (4999, 7574)\t0.041796641621183135\n",
            "  (4999, 7564)\t0.018851819841689158\n",
            "  (4999, 7308)\t0.016480993923945007\n",
            "  (4999, 6470)\t0.018143034639118406\n",
            "  (4999, 5542)\t0.021639642428835114\n",
            "  (4999, 4373)\t0.0659642296024937\n",
            "  (4999, 3932)\t0.07318597951179132\n",
            "  (4999, 3761)\t0.06087769497202459\n",
            "  (4999, 3723)\t0.02881446633508308\n",
            "  (4999, 3691)\t0.02224818875700811\n",
            "  (4999, 3457)\t0.014016430235154509\n",
            "  (4999, 3456)\t0.021539921523495723\n",
            "  (4999, 2946)\t0.03467247667964566\n",
            "  (4999, 2062)\t0.029468824814358183\n",
            "  (4999, 1870)\t0.041796641621183135\n",
            "  (4999, 1745)\t0.031947225254070684\n",
            "  (4999, 1195)\t0.02655021723382192\n",
            "  (4999, 1173)\t0.018191449725549834\n",
            "  (4999, 1154)\t0.03973396283178571\n"
          ]
        }
      ]
    },
    {
      "cell_type": "markdown",
      "metadata": {
        "id": "QpHpQBrp0wld"
      },
      "source": [
        "#Suggestion system implementation"
      ]
    },
    {
      "cell_type": "markdown",
      "metadata": {
        "id": "qBtz9jfe1pl9"
      },
      "source": [
        "Το σύστημα συστάσεων που θα υλοποιήσετε θα είναι μια συνάρτηση content_recommender με τρία ορίσματα: target_movie, max_recommendations και corpus_type. Στην target_movie περνάμε το ID μιας ταινίας-στόχου για την οποία μας ενδιαφέρει να βρούμε παρόμοιες ως προς το περιεχόμενο (τη σύνοψη) ταινίες, max_recommendations στο πλήθος.\n",
        "Υλοποιήστε τη συνάρτηση ως εξής:\n",
        "\n",
        "    Για την ταινία-στόχο, θα υπολογίζετε την ομοιότητα συνημιτόνου της με όλες τις ταινίες της συλλογής σας όπως αυτές αναπαριστώνται στο corpus_type.με βάση την ομοιότητα συνημιτόνου που υπολογίσατε, δημιουργήστε ταξινομημένο πίνακα από το μεγαλύτερο στο μικρότερο, με τα indices (ID) των ταινιών.\n",
        "    \n",
        "    Για την ταινία-στόχο εκτυπώστε: id, τίτλο, σύνοψη, κατηγορίες (categories)\n",
        "    \n",
        "    Για τις max_recommendations ταινίες (πλην της ίδιας της ταινίας-στόχου που έχει cosine similarity 1 με τον εαυτό της) με τη μεγαλύτερη ομοιότητα συνημιτόνου (σε φθίνουσα σειρά), τυπώστε σειρά σύστασης (1 πιο κοντινή, 2 η δεύτερη πιο κοντινή κλπ), ομοιότητα συνημιτόνου, id, τίτλο, σύνοψη, και κατηγορίες (categories)\n"
      ]
    },
    {
      "cell_type": "code",
      "metadata": {
        "id": "DV_Q6AehAi5b"
      },
      "source": [
        "# function that prints movie info\n",
        "def print_movie(ID):\n",
        "  print(\"ID: \", ID)\n",
        "  print(\"Title: \", ', '.join(titles[ID]))\n",
        "  print(\"Categories: \", ', '.join(categories[ID]))\n",
        "  print(\"Summary:\\n\", corpus[ID], \"\\n\")"
      ],
      "execution_count": 73,
      "outputs": []
    },
    {
      "cell_type": "code",
      "metadata": {
        "id": "WTD9H9kH5-nU"
      },
      "source": [
        "from sklearn.metrics.pairwise import linear_kernel\n",
        "\n",
        "def content_recommender(ID, max_recommendations, corpus_tf_idf):\n",
        "  cosine_similarities = linear_kernel(corpus_tf_idf[ID], corpus_tf_idf).flatten()  # calculating cosine similarities using sparse matrices\n",
        "\n",
        "  cosine_similarities = (-cosine_similarities).argsort()  # sorting the array and saving movies based on ID's\n",
        "\n",
        "  print_movie(ID)  # print target movie info\n",
        "\n",
        "  for i in range(1, max_recommendations+1):   # print recommendations\n",
        "    print(\"Place:\", i)\n",
        "    print_movie(cosine_similarities[i])"
      ],
      "execution_count": 74,
      "outputs": []
    },
    {
      "cell_type": "code",
      "metadata": {
        "id": "0Y2QicrfSZf9",
        "colab": {
          "base_uri": "https://localhost:8080/"
        },
        "outputId": "72d84638-88cc-4e71-c0a2-013d60b5815f"
      },
      "source": [
        "corpus_type = tf_idf(1.0, 0)"
      ],
      "execution_count": 75,
      "outputs": [
        {
          "output_type": "stream",
          "name": "stdout",
          "text": [
            "Dimensions:  (5000, 52539) \n",
            "\n"
          ]
        }
      ]
    },
    {
      "cell_type": "code",
      "metadata": {
        "id": "1D0VKoRNSps-",
        "colab": {
          "base_uri": "https://localhost:8080/"
        },
        "outputId": "ec68cfd2-bc86-4016-85b2-481dee9482c4"
      },
      "source": [
        "content_recommender(1, 5, corpus_type)"
      ],
      "execution_count": 76,
      "outputs": [
        {
          "output_type": "stream",
          "name": "stdout",
          "text": [
            "ID:  1\n",
            "Title:  Restless\n",
            "Categories:  \"Comedy\",  \"World cinema\",  \"Chinese Movies\"\n",
            "Summary:\n",
            " leah  is a translator who is traveling international cities in search of romance and closure with her estranged boyfriend jeff she eventually settles in beijing china where she meets and develops a fixation on master sun zhan  who teaches here a chinese game called weiqi when her relationship with master sun zhan takes a turn for the worse leah decides to focus on getting revenge on jeff richard  is a shiftless chineseamerican whose family sends him to beijing with his grandfather's ashes eventually leah and richard's paths cross and a romance develops \n",
            "\n",
            "Place: 1\n",
            "ID:  2737\n",
            "Title:  Eyes of Fire\n",
            "Categories:  \"Horror\"\n",
            "Summary:\n",
            " the film takes place in the year 1750 on the american frontier during the colonial days before the united states declared its independence a group of pioneers narrowly escape persecution when their preacher is accused of adultery and polygamy the preacher will smythe is accused of having an affair with a married woman eloise dalton whose husband is away hunting for food and another woman leah who is insane also among their group is eloise's daughter fanny dalton the couple jewell buchanan and margaret buchanan along with their daughter cathleen calvin and his wife who goes by the name sister and their granddaughter meg as the group travels farther away from their town the threat of attack from hostile native american tribes becomes more prevalent until the group is eventually ambushed calvin does not survive the attack but the others are protected by leah who has used witchcraft to provide their protection all the while the others are unaware that leah is using magic the keep them safe the remaining members of the group are forced to abandon their trail along the riverbank and take cover in the woods far from man made trails at this time eloise's husband marion dalton returns home to find news that his wife was scheduled to be executed along with will for affair and also learns that the two are on the run with others from the town marion pursues and eventually catches up to them leah wanders away from the group for a short while by this time the shawnee indians have caught up to the group and marion dalton who speaks fluently in many tribal languages is able to convince the shawnee to abort the attack at lest for a short while though marion is certain the shawnee will be back in bigger numbers leah returns covered in white feathers and marion recognizes this as a warning from the shawnee indians to other members of the shawnee tribe not to enter a nearby valley realizing that the shawnee have superstitions about the valley marion leads the group into the valley knowing that if the shawnee were to return they would not follow the pioneers into the valley because of various native american superstition some of the tribes have in regards to this particular valley once the group settles in the deserted valley they are safe from any and all tribes of native americans though the pioneers are no longer under the threat of attack from the shawnee they find a young native american orphan on the outskirts of their camp the pioneers are still unnerved by the previous attacks but reluctantly bring the girl into the camp and care for her it seems that only will is pleased with the orphan's unexpected appearance and he is delighted at the possibility of baptizing her into christianity aside from will it seems the others in the group are unnerved by the orphan girl's presence and leah who has an extraordinary connection to the supernatural senses that there is something unusual about the native american child and leah soon begins to have visions as she tries to uncover the motives of the orphan girl fanny disappears soon afterward and her body is later found by marion with the help of leah through her abilities and visions though fanny appears to be in a coma only when fanny awakens do they realize that the warnings to stay away from the valley are founded on more than just mythology coupled with the frightening revelation that the orphan girl is more than what she seems when the group is terrorized by an evil spirit that desires to make them all its living captives \n",
            "\n",
            "Place: 2\n",
            "ID:  992\n",
            "Title:  Cat And Mouse\n",
            "Categories:  \"Romantic comedy\",  \"World cinema\",  \"Action/Adventure\",  \"Drama\",  \"Comedy\",  \"Romantic drama\",  \"Romance Film\",  \"Chinese Movies\"\n",
            "Summary:\n",
            " zhan zhao  is a court officer who learns of a plot to assassinate judge bao  while on holiday he meets a young man named bai  who turns out to be a woman zhan zhao tries to recruit bai to help him stop the assassination of judge bao \n",
            "\n",
            "Place: 3\n",
            "ID:  1693\n",
            "Title:  Song of the Islands\n",
            "Categories:  \"Musical\"\n",
            "Summary:\n",
            " jeff harper sails to the tropical paradise ahmioni with his sidekick rusty he is there on behalf of his father to bargain for land with dennis o'brien jeff however falls in love with o'brien's daughter eileen and it is then up to jeff's father to go to the island and try to break them up a task easier said than done because jeff's father also falls under the spell of the beautiful splendor of the islands \n",
            "\n",
            "Place: 4\n",
            "ID:  1530\n",
            "Title:  Città violenta\n",
            "Categories:  \"Thriller\",  \"Crime Thriller\",  \"Gangster Film\",  \"Crime Fiction\",  \"World cinema\"\n",
            "Summary:\n",
            " the film opens with professional assassin jeff heston  and mistress vanessa  pursued mercilessly while holidaying in the virgin islands jeff is shot and left for dead while vanessa runs off with his shooter and former business associate coogan after his release from prison on a framed murder charge jeff tracks the pair to new orleans however after taking revenge on his betrayer and reuniting with vanessa jeff is blackmailed by the very crime boss  who framed him took vanessa as his mob wife and who is now intent on having him join his organisation when jeff refuses he is hunted through an unforgiving city only to discover that his real enemy is closer than he realised \n",
            "\n",
            "Place: 5\n",
            "ID:  4277\n",
            "Title:  Tower of London\n",
            "Categories:  \"Drama\",  \"Costume drama\",  \"Horror\",  \"Black-and-white\"\n",
            "Summary:\n",
            " richard the duke of gloucester  is dismayed when his dying brother king edward iv names their brother george duke of clarence as protector to his young son and heir prince edward richard wants the position himself to become de facto ruler after his brother's death he secretly stabs george to death with a dagger bearing the crest of the woodville family framing the dying king's inlaws richard is now named protector his wife anne approves of his crime and encourages him to take the throne for himself after the death of king edward richard tries to achieve his ends by intimidating the widowed queen's ladyinwaiting mistress shore into claiming that the dead king's two children are illegitimate she refuses and richard tortures her after she dies on the rack richard claims he executed her for spreading the rumour that the princes were illegitimate he says that the two princes should be placed in his protective custody the ghosts of clarence king edward and mistress shore haunt richard warning him that they will be revenged at \"bosworth\" he is also told that he will be killed by a dead man shore's ghost merges with the body of anne and a semideranged richard strangles his own wife believing her to be shore without his beloved anne he is struck with guilt and loneliness richard consults the moorish physician and sorcerer tyrus who shows him visions of his future including the prophecy that he will be king tyrus is disturbed by richard's increasingly deranged demeanour fearful for the safety of the princes he informs sir jasper a young aristocrat who is looking after the lads jasper plots with his girlfriend lady margaret to rescue the princes he manages to get the young duke of york and his mother free but he is trapped and captured with the childking edward lady margaret who has been sent to get aid from her father lord stanley is also captured and imprisoned richard spares jasper because he needs him to negotiate with stanley who is witholding his support for the protector richard forces the archbishop to give up the duke of york who has sought church sanctuary in westminster abbey with his mother aided by his crony sir ratcliffe richard then murders the two princes in their beds and proclaims himself king the ghosts of the princes try to lure richard to his death from the battlements of the tower but he is saved by buckingham buckingham confides in ratcliffe his doubts about richard's sanity suggesting that they should join lord stanley ratcliffe informs richard who has buckingham tortured to death meanwhile tyrus helps jasper to rescue margaret but is mortally wounded during the escape jasper and margaret join stanley to encourage him to topple richard from the throne richard is crowned but is still haunted by fear ratcliffe informs him that stanley has marched to the village of bosworth with an army richard declares that he will fight when ratcliffe learns that stanley has been joined by the earl of richmond he advises richard to flee but the king is convinced of his invincibility at the battle of bosworth field richard is eventually left alone on the battlefield after his army has been defeated the ghosts of his victims appear and he attempts to fight them jasper stanley and richmond watch as richard swipes at thin air the king attempts to mount a horse but is thrown and killed by a battleaxe held by a dead soldier \n",
            "\n"
          ]
        }
      ]
    },
    {
      "cell_type": "markdown",
      "metadata": {
        "id": "-LWP1-G34aS5"
      },
      "source": [
        "#Utilization"
      ]
    },
    {
      "cell_type": "markdown",
      "metadata": {
        "id": "iKfpM4uq4gsu"
      },
      "source": [
        "Αφού υλοποιήσετε τη συνάρτηση content_recommender χρησιμοποιήστε την για να βελτιστοποιήσετε την TfidfVectorizer. Συγκεκριμένα, αρχικά μπορείτε να δείτε τι επιστρέφει το σύστημα για τυχαίες ταινίες-στόχους και για ένα μικρό max_recommendations (2 ή 3). Αν σε κάποιες ταινίες το σύστημα μοιάζει να επιστρέφει σημασιολογικά κοντινές ταινίες σημειώστε το ID τους. Δοκιμάστε στη συνέχεια να βελτιστοποιήσετε την TfidfVectorizer για τα συγκεκριμένα ID ώστε να επιστρέφονται σημασιολογικά κοντινές ταινίες για μεγαλύτερο αριθμό max_recommendations. Παράλληλα, όσο βελτιστοποιείτε την TfidfVectorizer, θα πρέπει να λαμβάνετε καλές συστάσεις για μεγαλύτερο αριθμό τυχαίων ταινιών.\n",
        "\n",
        "Ταυτόχρονα, μια αντίρροπη κατά κάποιο τρόπο κατεύθυνση της βελτιστοποίησης είναι να χρησιμοποιείτε τις παραμέτρους του TfidfVectorizer έτσι ώστε να μειώνονται οι διαστάσεις του Vector Space Model μέχρι το σημείο που θα αρχίσει να εμφανίζονται επιπτώσεις στην ποιότητα των συστάσεων."
      ]
    },
    {
      "cell_type": "code",
      "metadata": {
        "id": "LR0QoeBlTF6G"
      },
      "source": [
        "def similar_movies(count):\n",
        "  movie_list = []\n",
        "\n",
        "  for i in range(0, 5000): # for all movies\n",
        "    cnt = count\n",
        "\n",
        "    cosine_similarities = linear_kernel(corpus_tf_idf[i], corpus_tf_idf).flatten()  # find best matches\n",
        "    cosine_similarities = (-cosine_similarities).argsort()\n",
        "    \n",
        "    categs = categories[i][0]\n",
        "    categs = categs.split(\",\")\n",
        "    \n",
        "    for category in categs: # find categories similar between th movie and the 3 top matches\n",
        "      if category.lstrip(' ') in (categories[cosine_similarities[1]][0]) and category.lstrip(' ') in (categories[cosine_similarities[2]][0]) and category.lstrip(' ') in (categories[cosine_similarities[3]][0]):\n",
        "        cnt = cnt - 1\n",
        "      if cnt == 0: # if count similar categories are found append the movie to movie_list\n",
        "        movie_list.append(i)\n",
        "        break\n",
        "\n",
        "  return movie_list"
      ],
      "execution_count": 77,
      "outputs": []
    },
    {
      "cell_type": "markdown",
      "metadata": {
        "id": "ykin5Alu6A4h"
      },
      "source": [
        "we add to stop words list English names to avoid the resemblansh of the movies been based on common names"
      ]
    },
    {
      "cell_type": "code",
      "metadata": {
        "id": "utsJ-WcnTscL"
      },
      "source": [
        "import urllib.request \n",
        "import string\n",
        "\n",
        "# female english names\n",
        "target_url = \"http://www.cs.cmu.edu/Groups/AI/util/areas/nlp/corpora/names/female.txt\"\n",
        "response = urllib.request.urlopen(target_url).read().decode()\n",
        "lines_temp = response.split('\\n')\n",
        "names = []\n",
        "\n",
        "for line in lines_temp:\n",
        "  if line and line[0] != \"#\":\n",
        "    names.append(line.lower())\n",
        "\n",
        "# male english names\n",
        "target_url = \"http://www.cs.cmu.edu/Groups/AI/util/areas/nlp/corpora/names/male.txt\"\n",
        "response = urllib.request.urlopen(target_url).read().decode()\n",
        "lines_temp = response.split('\\n')\n",
        "\n",
        "for line in lines_temp:\n",
        "  if line and line[0] != \"#\":\n",
        "    names.append(line.lower())\n"
      ],
      "execution_count": 78,
      "outputs": []
    },
    {
      "cell_type": "code",
      "metadata": {
        "id": "GSGK6X-Aj04f",
        "colab": {
          "base_uri": "https://localhost:8080/"
        },
        "outputId": "4237718d-4182-46cd-bf39-599b6bf46745"
      },
      "source": [
        "corpus_tf_idf = tf_idf(1.0, 0, names)"
      ],
      "execution_count": 79,
      "outputs": [
        {
          "output_type": "stream",
          "name": "stderr",
          "text": [
            "/usr/local/lib/python3.7/dist-packages/sklearn/feature_extraction/text.py:401: UserWarning: Your stop_words may be inconsistent with your preprocessing. Tokenizing the stop words generated tokens ['luc', 'mar', 'zsa'] not in stop_words.\n",
            "  % sorted(inconsistent)\n"
          ]
        },
        {
          "output_type": "stream",
          "name": "stdout",
          "text": [
            "Dimensions:  (5000, 49545) \n",
            "\n"
          ]
        }
      ]
    },
    {
      "cell_type": "markdown",
      "metadata": {
        "id": "gC-EbaII6oFR"
      },
      "source": [
        "We see a decrease at the collumns , about 3000"
      ]
    },
    {
      "cell_type": "code",
      "metadata": {
        "id": "zebv_cqqevcu",
        "colab": {
          "base_uri": "https://localhost:8080/"
        },
        "outputId": "e7e135a4-4364-484e-adb4-2eabc47caa2b"
      },
      "source": [
        "content_recommender(10, 3, corpus_tf_idf)"
      ],
      "execution_count": 80,
      "outputs": [
        {
          "output_type": "stream",
          "name": "stdout",
          "text": [
            "ID:  10\n",
            "Title:  Como Esquecer\n",
            "Categories:  \"Drama\"\n",
            "Summary:\n",
            " julia  is a professor of english literature who is abandoned by her girlfriend after a relationship that lasted over ten years because of the separation julie moves to rio de janeiro and lives with her best friend hugo  who is gay and lisa  in the new work julia ends up attracting the interest of two students and it is helena  who is after the teacher although she did not feel prepared for a new relationship \n",
            "\n",
            "Place: 1\n",
            "ID:  4711\n",
            "Title:  Only When I Dance\n",
            "Categories:  \"Documentary\"\n",
            "Summary:\n",
            " only when i dance tells the story of two teenagers irlan and isabela who pursue their dreams of becoming professional ballet dancers as a way to escape the violent slums of rio de janeiro \n",
            "\n",
            "Place: 2\n",
            "ID:  3855\n",
            "Title:  Love, in between\n",
            "Categories:  \"Romance Film\",  \"Drama\"\n",
            "Summary:\n",
            " when the wife of a university professor discovered her husband is having affair with his student she meets his lover they become friends and the relationship between these two women become closer \n",
            "\n",
            "Place: 3\n",
            "ID:  1356\n",
            "Title:  School of Life\n",
            "Categories:  \"Television movie\",  \"Family Drama\",  \"Sports\",  \"Drama\",  \"Comedy\",  \"Family Film\"\n",
            "Summary:\n",
            " at fallbrook middle school the annual studentelected teacher of the year award ceremony is held every year for the last 43 years norman warner fondly called stormin' norman has won the award during the ceremony he collapses and dies the burden of carrying the legacy falls to matt warner son of the late norman warner who has always lived in the shadow of his father determined to keep the family tradition of being teacher of the year alive matt focuses all his attention and efforts in winning the coveted title but the new history teacher mr michael d'angelo becomes the new student favorite he is called even by fellow and senior teachers \"mr d\" young funny with unconventional methods of teaching and an uncanny ability to connect with his students mr d quickly wins the hearts not only of the students but also the teachers especially the young art teacher ms davies now that mr d is the most popular teacher on campus matt feels that he has no chances of winning against mr d now obsessed with discrediting mr d matt soon forgets what it means to be a teacher desperate to find a flaw in \"mr perfect\" matt follows mr d around town and discovers a secret the alarmingly perfect teacher is hiding mr d has been diagnosed with inoperable lung cancer and does not have long to live shocked by the startling discovery into realizing his own pettiness matt slowly changes his ways of teaching and in the process wins the hearts of his students when mr d stops coming to teach because of his worsening illness the students become depressed by the situation matt steps in to cheer up the student's spirits and leads the basketball team to a victory with a special guest appearance with 30 seconds left in the game by mr d the film concludes after three years have passed and matt's own son is now in high school and matt is teaching a brand new year of pupils in his life science class he has won the teacher of the year for the last two years mr d having won the award in the school year of 2003 the art teacher ms davies inherited mr d's car the film ends with a closeup of a photo in matt's classroom of himself mr d and the basketball team with \"michael d'angelo 19672003\" inscribed on the bottom of the frame \n",
            "\n"
          ]
        }
      ]
    },
    {
      "cell_type": "markdown",
      "metadata": {
        "id": "A_Ww8-Sd8H0p"
      },
      "source": [
        "#min_df"
      ]
    },
    {
      "cell_type": "markdown",
      "metadata": {
        "id": "AeFzaLnv8cnI"
      },
      "source": [
        "Ο αποκλεισμός των λιγότερο συχνών λέξεων βοηθά σε κάποιες περιπτώσεις καθώς αποκλείει σπάνιες λέξεις που δεν προσφέρουν στο νόημα, ενώ σε άλλες κάνει το ίδιο αλλά με λέξεις που συσχετίζουν μικρό αριθμό ταινιών της ίδιας κατηγορίας οδηγώντας σε χειρότερα αποτελέσματα."
      ]
    },
    {
      "cell_type": "code",
      "metadata": {
        "id": "XgYb2Uv-rpiy",
        "colab": {
          "base_uri": "https://localhost:8080/"
        },
        "outputId": "59d25b0e-4228-468a-b544-3e0cfa0f31ff"
      },
      "source": [
        "corpus_tf_idf = tf_idf(1.0, 2, names)"
      ],
      "execution_count": 81,
      "outputs": [
        {
          "output_type": "stream",
          "name": "stderr",
          "text": [
            "/usr/local/lib/python3.7/dist-packages/sklearn/feature_extraction/text.py:401: UserWarning: Your stop_words may be inconsistent with your preprocessing. Tokenizing the stop words generated tokens ['luc', 'mar', 'zsa'] not in stop_words.\n",
            "  % sorted(inconsistent)\n"
          ]
        },
        {
          "output_type": "stream",
          "name": "stdout",
          "text": [
            "Dimensions:  (5000, 23131) \n",
            "\n"
          ]
        }
      ]
    },
    {
      "cell_type": "markdown",
      "metadata": {
        "id": "HOCYzA_l810N"
      },
      "source": [
        "In this case we succeded better results with that method "
      ]
    },
    {
      "cell_type": "code",
      "metadata": {
        "colab": {
          "base_uri": "https://localhost:8080/"
        },
        "id": "K2w2QSvR8iAn",
        "outputId": "059af210-87ee-4c92-ce50-8ca5fc067763"
      },
      "source": [
        "content_recommender(46, 3, corpus_tf_idf)"
      ],
      "execution_count": 82,
      "outputs": [
        {
          "output_type": "stream",
          "name": "stdout",
          "text": [
            "ID:  46\n",
            "Title:  Rajakumaran\n",
            "Categories:  \"Drama\"\n",
            "Summary:\n",
            " rajakumaran prabhu  is the son of the village chief vijayakumar  yuvaraj  hates rajakumaran and his village selvi  and vaidehi  are in love with their cousin rajakumaran but he chooses vaidehi selvi decides to sacrifice her love her father selvaraj  refuses to give his property to village people as promised and his only request is that rajakumaran gets married with selvi selvi convinced rajakumaran to lie he lies to her father and he gives his property vaidehi committed suicide and rajakumaran reveals his lie one day some goons decide to put a bomb and rajakumaran saves the village the village thinks that the culprit was thangaraj  because he wanted to revenge rajakumaran after his lie angry thangaraj insults rajakumaran's father in public and rajakumaran's father died yuvaraj asks to selvaraj and thangaraj to marry selvi and they accept the village was against the marriage a man  came and said that a deafmute girl who learnt to read and to write was the witness of vaidehi's murder by yuvaraj on the marriage day yuvaraj cancelled the marriage and decided to humiliate selvi rajakumaran saves her and he decides to marry her \n",
            "\n",
            "Place: 1\n",
            "ID:  2648\n",
            "Title:  Eththan\n",
            "Categories:  \"Drama\"\n",
            "Summary:\n",
            " sathyamurthy alias sathya  is the son of a school teacher  in kumbakonam sathya is a happygolucky youngster who yearns to do business to achieve his 'mission' he borrows money from all quarters and is almost drowned in debts even as his father advices him to start leading life in a right manner enters selvi  a student sathya gets acquainted to selvi and his life takes a turn meanwhile selvi is in trouble because her uncle pandiyan a rowdy wants her to marry him this proposal was constantly ignored by selvi she hated pandiyan with her whole heart because he killed her father in front of her one day while goofing around with sathya selvi loses the necklace that pandiyan had given her she was both sathya and selvi escape to chennai but pandiyan and a corrupt inspector comes and troubles them sathya brilliantly switch on the police's cordless phone through which inspector  comes to know about pandiyan and arrests him the film ends with sathya opening a cable tv station and becomes successful \n",
            "\n",
            "Place: 2\n",
            "ID:  225\n",
            "Title:  Nakshathrakkannulla Rajakumaran Avanundoru Rajakumari\n",
            "Categories:  \"Romance Film\",  \"Drama\",  \"Comedy\"\n",
            "Summary:\n",
            " nakshathrakkannulla rajakumaran avanundoru rajakumari revolves around a family that claims that they are the descendants of the brave chekavars who were the warriors of the vadakkanpaattu bhageerathi amma  has two sons veerabhadra kurup  and kochchukurup  and a daughter subhadra who constantly feud with each other the elder kurup’s daughter aswathy  is in love with her muracherukkan subhadra’s son ananthu  but their parents object to the match they are encouraged by chandutty  bhaskaran  and shankunni  they hope that aswathy’s brother karthik  will come to their rescue but he turns against the lovers on the advice of his father suddenly raziya begum  turns up claiming to be karthik’s lover ananthu and his gang use this opportunity to fix karthik and kochukurup gives them a lot of muscle support after a lot of buffoonery and mistaken identity the couple are united \n",
            "\n",
            "Place: 3\n",
            "ID:  3423\n",
            "Title:  Utharaswayamvaram\n",
            "Categories:  \"Drama\"\n",
            "Summary:\n",
            " the story is about prakash  whose father sreedhara menon runs a supermarket prakash’s father wants him to become an officer but prakash’s interests lie elsewhere after graduation he is more interested in the activities of the village arts club than in looking for a job he falls for a village girl uthara  but her rich father mahadevan fixes her marriage with another rich boy the story builds up from here on lots of twists and turns later prakashan marries his dreamgirl but their marriage doesn't last even for a day \n",
            "\n"
          ]
        }
      ]
    },
    {
      "cell_type": "code",
      "metadata": {
        "id": "s3Hk3V18tJx6",
        "colab": {
          "base_uri": "https://localhost:8080/"
        },
        "outputId": "3d45cc89-984f-45e4-8be0-c25136ca7a98"
      },
      "source": [
        "corpus_tf_idf = tf_idf(1.0, 15, names)"
      ],
      "execution_count": 83,
      "outputs": [
        {
          "output_type": "stream",
          "name": "stderr",
          "text": [
            "/usr/local/lib/python3.7/dist-packages/sklearn/feature_extraction/text.py:401: UserWarning: Your stop_words may be inconsistent with your preprocessing. Tokenizing the stop words generated tokens ['luc', 'mar', 'zsa'] not in stop_words.\n",
            "  % sorted(inconsistent)\n"
          ]
        },
        {
          "output_type": "stream",
          "name": "stdout",
          "text": [
            "Dimensions:  (5000, 5525) \n",
            "\n"
          ]
        }
      ]
    },
    {
      "cell_type": "code",
      "metadata": {
        "colab": {
          "base_uri": "https://localhost:8080/"
        },
        "id": "WQTg8KbB9IH2",
        "outputId": "8ea09126-2f50-4686-9800-7457480c0984"
      },
      "source": [
        "content_recommender(46, 3, corpus_tf_idf)"
      ],
      "execution_count": 84,
      "outputs": [
        {
          "output_type": "stream",
          "name": "stdout",
          "text": [
            "ID:  46\n",
            "Title:  Rajakumaran\n",
            "Categories:  \"Drama\"\n",
            "Summary:\n",
            " rajakumaran prabhu  is the son of the village chief vijayakumar  yuvaraj  hates rajakumaran and his village selvi  and vaidehi  are in love with their cousin rajakumaran but he chooses vaidehi selvi decides to sacrifice her love her father selvaraj  refuses to give his property to village people as promised and his only request is that rajakumaran gets married with selvi selvi convinced rajakumaran to lie he lies to her father and he gives his property vaidehi committed suicide and rajakumaran reveals his lie one day some goons decide to put a bomb and rajakumaran saves the village the village thinks that the culprit was thangaraj  because he wanted to revenge rajakumaran after his lie angry thangaraj insults rajakumaran's father in public and rajakumaran's father died yuvaraj asks to selvaraj and thangaraj to marry selvi and they accept the village was against the marriage a man  came and said that a deafmute girl who learnt to read and to write was the witness of vaidehi's murder by yuvaraj on the marriage day yuvaraj cancelled the marriage and decided to humiliate selvi rajakumaran saves her and he decides to marry her \n",
            "\n",
            "Place: 1\n",
            "ID:  3423\n",
            "Title:  Utharaswayamvaram\n",
            "Categories:  \"Drama\"\n",
            "Summary:\n",
            " the story is about prakash  whose father sreedhara menon runs a supermarket prakash’s father wants him to become an officer but prakash’s interests lie elsewhere after graduation he is more interested in the activities of the village arts club than in looking for a job he falls for a village girl uthara  but her rich father mahadevan fixes her marriage with another rich boy the story builds up from here on lots of twists and turns later prakashan marries his dreamgirl but their marriage doesn't last even for a day \n",
            "\n",
            "Place: 2\n",
            "ID:  3166\n",
            "Title:  Shatru\n",
            "Categories:  \"Action\",  \"Drama\",  \"Adventure\"\n",
            "Summary:\n",
            " there is a village named haridaspur where ashok sharma  has been posted as an inspector in charge when he arrives in the remote village he comes to the rescue of a blind man and a widow and has a fist fight with nishikant shah and his men the immediate next day shah finds out that the person with whom his men fought with was ashok itself then to make friendship with ashok he goes to pay homage but ashok refuses after string of incidences ashok comes to know of all the bad activities carried out by nishikant shah and mla gopal choudary  ashok then realises he has to help the people of the village from getting exploited from these rich men meanwhile he starts to live in the village as a paying guest at the house of a girl asha and also gets fond of an orphan child from the village named chotu ashok then learns that chotu's father was a loyal farmer who was duped and was killed by nishikant's men he even promises chotu of bringing the culprits to book somehow then shah and his friend choudhry manage to put ashok in trouble by fixing a blame on him of killing a man in his custody due to this he then faces a situation where he could lose his job and his good reputation too \n",
            "\n",
            "Place: 3\n",
            "ID:  3233\n",
            "Title:  The Story of Qiu Ju\n",
            "Categories:  \"Art film\",  \"World cinema\",  \"Comedy-drama\",  \"Satire\",  \"Drama\",  \"Comedy\",  \"Chinese Movies\"\n",
            "Summary:\n",
            " qiu ju is a peasant who lives in a small farming enclave with her husband qinglai his sister and their father she is in the final trimester of her first pregnancy one day while her husband is conversing to wang shantang the head of the community a miscommunication ensues qinglai's comment that shantang \"only breeds hens\" was misconstrued to reflect on a perceived inability of the chieftain to produce a son  the minor municipality leader is insulted by this inference and beats qinglai kicking him so severely in the groin that he must see a doctor and remain absent from his work because of this injustice qiu ju sets forth to extract an explanation from wang shantang one which the village head is unwilling to supply qiu ju determined to right this wrong goes to the local police office and complains the policeman for their area comes up with a solution the village chief must pay 200 yuan to qinglai when qiu ju goes to the headman he insultingly throws the 200 yuan notes onto the ground and refuses to apologize qiu ju then goes to the provincial capital accompanied by her husbands' younger sister meizi to raise money for the trip she sells some of the dried hot peppers which are produced on the family farm for cash this process is one that she and meizi repeat several times more taking the bus to the big city she and her sister are obviously \"country folk\" as the city people are dressed in a more modern fashion by luck the two women find lodging at a cheap hotel where the manager helps them by giving them the address of the head of the district police the two women meet him and he promises them that their case will be reviewed weeks later the new verdict from the district police is nearly the same as the previous but this time the village headman must pay 250 yuan he still refuses to apologize and so qiu ju goes back to the big city this time against the wishes of her own husband  qiu ju finds a lawyer who takes the case and files suit under a new law the case is judged by the court as having been correctly resolved in by the district the fine remains at 250 yuan qiu ju is unhappy but all she can do is make yet another appeal to an even higher level of police investigation as part of the suit officials come to the village and qiu ju's husband is xrayed at the local hospital its now the middle of winter qiu ju goes into labor and experiences complications the village headman is woken at night by qiu ju's husband's father who begs the village chief to do something grumbling he sets off in the night through the snow rounds up a group of local men  and returns to the village they then carry qiu ju by hand on a stretcher through the snow to the hospital where she gives birth safely to a healthy baby boy a month later the whole village is invited to the \"one month party\" for the baby boy and the village headman is begged to come to the party as qiu ju and her husband all admit that the village chief saved qiu ju's life but he doesn't come and the local policeman shows up to tell qiu ju that the xrays revealed her husband had a broken rib as a result the village chief is being sent to jail on a fifteendayterm qiu ju runs off to try and stop the police from taking the headman away but never even sees the police and the movie ends on a freezeframe of qiu ju with an expression of anguish on her face \n",
            "\n"
          ]
        }
      ]
    },
    {
      "cell_type": "markdown",
      "metadata": {
        "id": "erXpl27n9LIl"
      },
      "source": [
        "In this case althouth we see that we don't only get drama recommendations"
      ]
    },
    {
      "cell_type": "markdown",
      "metadata": {
        "id": "kgpS-3339tNR"
      },
      "source": [
        "with continuous trys we conclude that the best result is taken when min-df is 5/6"
      ]
    },
    {
      "cell_type": "code",
      "metadata": {
        "colab": {
          "base_uri": "https://localhost:8080/"
        },
        "id": "OQKYp22I99SC",
        "outputId": "5dfe15de-b89b-41fa-f4ce-a4f4017684e3"
      },
      "source": [
        "corpus_tf_idf = tf_idf(1.0, 6, names)"
      ],
      "execution_count": 85,
      "outputs": [
        {
          "output_type": "stream",
          "name": "stderr",
          "text": [
            "/usr/local/lib/python3.7/dist-packages/sklearn/feature_extraction/text.py:401: UserWarning: Your stop_words may be inconsistent with your preprocessing. Tokenizing the stop words generated tokens ['luc', 'mar', 'zsa'] not in stop_words.\n",
            "  % sorted(inconsistent)\n"
          ]
        },
        {
          "output_type": "stream",
          "name": "stdout",
          "text": [
            "Dimensions:  (5000, 10640) \n",
            "\n"
          ]
        }
      ]
    },
    {
      "cell_type": "code",
      "metadata": {
        "colab": {
          "base_uri": "https://localhost:8080/"
        },
        "id": "IdpY27rx-DCz",
        "outputId": "1215fb37-7a3a-44d6-f83e-662ccfac9119"
      },
      "source": [
        "content_recommender(46, 3, corpus_tf_idf)"
      ],
      "execution_count": 86,
      "outputs": [
        {
          "output_type": "stream",
          "name": "stdout",
          "text": [
            "ID:  46\n",
            "Title:  Rajakumaran\n",
            "Categories:  \"Drama\"\n",
            "Summary:\n",
            " rajakumaran prabhu  is the son of the village chief vijayakumar  yuvaraj  hates rajakumaran and his village selvi  and vaidehi  are in love with their cousin rajakumaran but he chooses vaidehi selvi decides to sacrifice her love her father selvaraj  refuses to give his property to village people as promised and his only request is that rajakumaran gets married with selvi selvi convinced rajakumaran to lie he lies to her father and he gives his property vaidehi committed suicide and rajakumaran reveals his lie one day some goons decide to put a bomb and rajakumaran saves the village the village thinks that the culprit was thangaraj  because he wanted to revenge rajakumaran after his lie angry thangaraj insults rajakumaran's father in public and rajakumaran's father died yuvaraj asks to selvaraj and thangaraj to marry selvi and they accept the village was against the marriage a man  came and said that a deafmute girl who learnt to read and to write was the witness of vaidehi's murder by yuvaraj on the marriage day yuvaraj cancelled the marriage and decided to humiliate selvi rajakumaran saves her and he decides to marry her \n",
            "\n",
            "Place: 1\n",
            "ID:  3233\n",
            "Title:  The Story of Qiu Ju\n",
            "Categories:  \"Art film\",  \"World cinema\",  \"Comedy-drama\",  \"Satire\",  \"Drama\",  \"Comedy\",  \"Chinese Movies\"\n",
            "Summary:\n",
            " qiu ju is a peasant who lives in a small farming enclave with her husband qinglai his sister and their father she is in the final trimester of her first pregnancy one day while her husband is conversing to wang shantang the head of the community a miscommunication ensues qinglai's comment that shantang \"only breeds hens\" was misconstrued to reflect on a perceived inability of the chieftain to produce a son  the minor municipality leader is insulted by this inference and beats qinglai kicking him so severely in the groin that he must see a doctor and remain absent from his work because of this injustice qiu ju sets forth to extract an explanation from wang shantang one which the village head is unwilling to supply qiu ju determined to right this wrong goes to the local police office and complains the policeman for their area comes up with a solution the village chief must pay 200 yuan to qinglai when qiu ju goes to the headman he insultingly throws the 200 yuan notes onto the ground and refuses to apologize qiu ju then goes to the provincial capital accompanied by her husbands' younger sister meizi to raise money for the trip she sells some of the dried hot peppers which are produced on the family farm for cash this process is one that she and meizi repeat several times more taking the bus to the big city she and her sister are obviously \"country folk\" as the city people are dressed in a more modern fashion by luck the two women find lodging at a cheap hotel where the manager helps them by giving them the address of the head of the district police the two women meet him and he promises them that their case will be reviewed weeks later the new verdict from the district police is nearly the same as the previous but this time the village headman must pay 250 yuan he still refuses to apologize and so qiu ju goes back to the big city this time against the wishes of her own husband  qiu ju finds a lawyer who takes the case and files suit under a new law the case is judged by the court as having been correctly resolved in by the district the fine remains at 250 yuan qiu ju is unhappy but all she can do is make yet another appeal to an even higher level of police investigation as part of the suit officials come to the village and qiu ju's husband is xrayed at the local hospital its now the middle of winter qiu ju goes into labor and experiences complications the village headman is woken at night by qiu ju's husband's father who begs the village chief to do something grumbling he sets off in the night through the snow rounds up a group of local men  and returns to the village they then carry qiu ju by hand on a stretcher through the snow to the hospital where she gives birth safely to a healthy baby boy a month later the whole village is invited to the \"one month party\" for the baby boy and the village headman is begged to come to the party as qiu ju and her husband all admit that the village chief saved qiu ju's life but he doesn't come and the local policeman shows up to tell qiu ju that the xrays revealed her husband had a broken rib as a result the village chief is being sent to jail on a fifteendayterm qiu ju runs off to try and stop the police from taking the headman away but never even sees the police and the movie ends on a freezeframe of qiu ju with an expression of anguish on her face \n",
            "\n",
            "Place: 2\n",
            "ID:  3423\n",
            "Title:  Utharaswayamvaram\n",
            "Categories:  \"Drama\"\n",
            "Summary:\n",
            " the story is about prakash  whose father sreedhara menon runs a supermarket prakash’s father wants him to become an officer but prakash’s interests lie elsewhere after graduation he is more interested in the activities of the village arts club than in looking for a job he falls for a village girl uthara  but her rich father mahadevan fixes her marriage with another rich boy the story builds up from here on lots of twists and turns later prakashan marries his dreamgirl but their marriage doesn't last even for a day \n",
            "\n",
            "Place: 3\n",
            "ID:  3923\n",
            "Title:  Narendra Makan Jayakanthan Vaka\n",
            "Categories:  \"Drama\",  \"Comedy\",  \"Bollywood\"\n",
            "Summary:\n",
            " the story is about jayakanthan  who comes to claim his father narendran's property in their native village there he meets vinodini  who is the panchayat president and a strict follower of the rules swathi  is jayakanthan's cousin and her father balakrishnan nambiar  is worried that jayakanthan has come to marry her and inherit their property bhargavan  has usurped narendran's land but jayakanthan is unaware of this and becomes his good friend the remaining of the plot is about how things fall into place \n",
            "\n"
          ]
        }
      ]
    },
    {
      "cell_type": "markdown",
      "metadata": {
        "id": "sIoE8JfM-Uw0"
      },
      "source": [
        "Για να επιβεβαιώσουμε την σωστή τιμή του min_df, η οποία επηρεάζει τη διαστατικότητα του πίνακα και άρα και το χρόνο εκπαίδευσης εκτυπώνουμε τα μεγέθη των λιστών που δίνει η συνάρτηση similar_movies που φτιάξαμε, συναρτήσει της min_df, για αριθμό κοινών ειδών μεταξύ των ταινιών 2 και 3."
      ]
    },
    {
      "cell_type": "code",
      "metadata": {
        "colab": {
          "base_uri": "https://localhost:8080/"
        },
        "id": "0YjLj8L2-VoZ",
        "outputId": "ab510f70-3e38-4d63-d9d0-ef2677d8ac7f"
      },
      "source": [
        "import matplotlib.pyplot as plt\n",
        "\n",
        "length_2 = []\n",
        "length_3 = []\n",
        "min_dfs = [1,2,3,4,5,6,7,8,9,10]\n",
        "for min_df in min_dfs:\n",
        "  corpus_tf_idf = tf_idf(1.0, min_df, names)\n",
        "  temp = []\n",
        "  length_2.append(len(similar_movies(2)))\n",
        "  length_3.append(len(similar_movies(3)))\n",
        "  \n",
        "\n",
        "plt.plot(min_dfs, length_2)\n",
        "plt.plot(min_dfs, length_3)\n",
        "plt.xlabel('min_df')\n",
        "plt.ylabel('Number of Similar Movies')\n",
        "plt.title('Recommendations Quality to min_df')\n",
        "plt.legend(['2 same genres', '3 same genres'], loc='center right')\n",
        "plt.show()"
      ],
      "execution_count": null,
      "outputs": [
        {
          "output_type": "stream",
          "name": "stderr",
          "text": [
            "/usr/local/lib/python3.7/dist-packages/sklearn/feature_extraction/text.py:401: UserWarning: Your stop_words may be inconsistent with your preprocessing. Tokenizing the stop words generated tokens ['luc', 'mar', 'zsa'] not in stop_words.\n",
            "  % sorted(inconsistent)\n"
          ]
        },
        {
          "output_type": "stream",
          "name": "stdout",
          "text": [
            "Dimensions:  (5000, 49545) \n",
            "\n"
          ]
        }
      ]
    },
    {
      "cell_type": "code",
      "metadata": {
        "id": "R2sllZkaLS8B"
      },
      "source": [
        "print(length_2)\n",
        "print(length_3)"
      ],
      "execution_count": null,
      "outputs": []
    },
    {
      "cell_type": "markdown",
      "metadata": {
        "id": "EUdpY9xWDDQm"
      },
      "source": [
        "Παρατηρούμε γενικά μείωση της ποιότητας των επιλογών με την αύξηση του min_df, με μία μικρή αύξηση όμως στις τιμές για count = 2 και min_df μεταξύ 4 και 8. Για count = 3 παρατηρείται μείωση της ποιότητας. Έτσι οι παρατηρήσεις μας επιβεβαιώνονται."
      ]
    },
    {
      "cell_type": "markdown",
      "metadata": {
        "id": "rylzkeiBDF2x"
      },
      "source": [
        "#10 Good recommendations"
      ]
    },
    {
      "cell_type": "code",
      "metadata": {
        "id": "4YXKPnGuDKtJ"
      },
      "source": [
        "corpus_tf_idf = tf_idf(1.0, 6, names)"
      ],
      "execution_count": null,
      "outputs": []
    },
    {
      "cell_type": "code",
      "metadata": {
        "id": "hqlHoGKSDOB0"
      },
      "source": [
        "content_recommender(12, 5, corpus_tf_idf)"
      ],
      "execution_count": null,
      "outputs": []
    },
    {
      "cell_type": "code",
      "metadata": {
        "id": "NnLTj-c8D5eK"
      },
      "source": [
        "content_recommender(856, 5, corpus_tf_idf)"
      ],
      "execution_count": null,
      "outputs": []
    },
    {
      "cell_type": "code",
      "metadata": {
        "id": "h5QaQR5oEdcl"
      },
      "source": [
        "content_recommender(4814, 5, corpus_tf_idf)"
      ],
      "execution_count": null,
      "outputs": []
    },
    {
      "cell_type": "code",
      "metadata": {
        "id": "deQeYaQZEmic"
      },
      "source": [
        "content_recommender(4912, 6, corpus_tf_idf)"
      ],
      "execution_count": null,
      "outputs": []
    },
    {
      "cell_type": "code",
      "metadata": {
        "id": "hF0RXQOYEvGB"
      },
      "source": [
        "content_recommender(60, 5, corpus_tf_idf)"
      ],
      "execution_count": null,
      "outputs": []
    },
    {
      "cell_type": "code",
      "metadata": {
        "id": "QdG9vzw9E24p"
      },
      "source": [
        "content_recommender(455, 4, corpus_tf_idf)"
      ],
      "execution_count": null,
      "outputs": []
    },
    {
      "cell_type": "code",
      "metadata": {
        "id": "Kk0A6M2hFQhw"
      },
      "source": [
        "content_recommender(248, 6, corpus_tf_idf)"
      ],
      "execution_count": null,
      "outputs": []
    },
    {
      "cell_type": "code",
      "metadata": {
        "id": "XaxmE6t0FW-K"
      },
      "source": [
        "content_recommender(749, 5, corpus_tf_idf)"
      ],
      "execution_count": null,
      "outputs": []
    },
    {
      "cell_type": "code",
      "metadata": {
        "id": "tF8jsmaBFdQl"
      },
      "source": [
        "content_recommender(1446, 6, corpus_tf_idf)"
      ],
      "execution_count": null,
      "outputs": []
    },
    {
      "cell_type": "markdown",
      "metadata": {
        "id": "wGydRYXaFmBJ"
      },
      "source": [
        "## Tip: persistence αντικειμένων με joblib.dump\n"
      ]
    },
    {
      "cell_type": "code",
      "metadata": {
        "id": "OrUoWXUPFm1g"
      },
      "source": [
        "import joblib\n",
        "\n",
        "joblib.dump(corpus_tf_idf, 'corpus_tf_idf.pkl', compress=True) "
      ],
      "execution_count": null,
      "outputs": []
    },
    {
      "cell_type": "code",
      "metadata": {
        "id": "NOkHXbqhGAC3"
      },
      "source": [
        "!ls -lh"
      ],
      "execution_count": null,
      "outputs": []
    },
    {
      "cell_type": "code",
      "metadata": {
        "id": "PW9jlTbRGIX3"
      },
      "source": [
        "corpus_tf_idf = joblib.load('corpus_tf_idf.pkl')"
      ],
      "execution_count": null,
      "outputs": []
    },
    {
      "cell_type": "markdown",
      "metadata": {
        "id": "zHOQtO83PSy9"
      },
      "source": [
        "# Εφαρμογή 2.  Τοπολογική και σημασιολογική απεικόνιση της ταινιών με χρήση SOM\n",
        "<img src=\"https://i.imgur.com/Z4FdurD.jpg\" width=\"60%\">"
      ]
    },
    {
      "cell_type": "markdown",
      "source": [
        "# Δημιουργία dataset"
      ],
      "metadata": {
        "id": "NeBRqpln_jgn"
      }
    },
    {
      "cell_type": "code",
      "source": [
        "def build_final_set(doc_limit = 5000, tf_idf_only=False):\n",
        "    # convert sparse tf_idf to dense tf_idf representation\n",
        "    dense_tf_idf = corpus_tf_idf.toarray()[0:doc_limit,:]\n",
        "    if tf_idf_only:\n",
        "        # use only tf_idf\n",
        "        final_set = dense_tf_idf\n",
        "    else:\n",
        "        # append the binary categories features horizontaly to the (dense) tf_idf features\n",
        "        final_set = np.hstack((dense_tf_idf, catbins[0:doc_limit,:]))\n",
        "        # η somoclu θέλει δεδομένα σε float32\n",
        "    return np.array(final_set, dtype=np.float32)"
      ],
      "metadata": {
        "id": "WD21bRmt_lAL"
      },
      "execution_count": null,
      "outputs": []
    },
    {
      "cell_type": "code",
      "source": [
        "final_set = build_final_set()"
      ],
      "metadata": {
        "id": "FOTXhOHb_oLs"
      },
      "execution_count": null,
      "outputs": []
    },
    {
      "cell_type": "markdown",
      "source": [
        "Τυπώνουμε τις διαστάσεις του τελικού dataset μας. Χωρίς βελτιστοποίηση του TFIDF θα έχουμε περίπου 50.000 χαρακτηριστικά."
      ],
      "metadata": {
        "id": "wEij5dJ3_tiA"
      }
    },
    {
      "cell_type": "code",
      "source": [
        "print(corpus_tf_idf.shape)\n",
        "print(final_set.shape)"
      ],
      "metadata": {
        "id": "QmE6mwHO_sfM"
      },
      "execution_count": null,
      "outputs": []
    },
    {
      "cell_type": "markdown",
      "source": [
        "Τυπωνουμε τις (μη μηδενικες) τιμες ενος στοιχειου του final_set για να δουμε τι περιεχει. "
      ],
      "metadata": {
        "id": "CIONvn_C_0Fa"
      }
    },
    {
      "cell_type": "code",
      "source": [
        "for i in range(len(final_set[0])):\n",
        "    if final_set[0][i]!=0:\n",
        "        print(final_set[0][i])"
      ],
      "metadata": {
        "id": "4NFNb8N__1ET"
      },
      "execution_count": null,
      "outputs": []
    },
    {
      "cell_type": "markdown",
      "source": [
        "## Εκπαίδευση χάρτη SOM\n",
        "\n",
        "\n",
        "\n",
        "\n",
        "Θα δουλέψουμε με τη βιβλιοθήκη SOM [\"Somoclu\"](http://somoclu.readthedocs.io/en/stable/index.html). Εισάγουμε τις somoclu και matplotlib και λέμε στη matplotlib να τυπώνει εντός του notebook (κι όχι σε pop up window)."
      ],
      "metadata": {
        "id": "VipuHCaf_4Um"
      }
    },
    {
      "cell_type": "code",
      "source": [
        "# install somoclu\n",
        "!pip install --upgrade somoclu\n",
        "# import sompoclu, matplotlib\n",
        "import somoclu\n",
        "import matplotlib\n",
        "# we will plot inside the notebook and not in separate window\n",
        "%matplotlib inline"
      ],
      "metadata": {
        "id": "Fb59McWh_8wU"
      },
      "execution_count": null,
      "outputs": []
    },
    {
      "cell_type": "markdown",
      "source": [
        "Αρχικα οριζουμε τις διαστασεις του SOM για να τις εχουμε ευκαιρες, και οριζουμε το ονομα του αρχειου που ειτε θα αποθηκευσουμε στην συνεχεια η (στους υπολογιστες μας) θα φορτωσουμε για να μην κανουμε την εκπαιδευση του δικτυου."
      ],
      "metadata": {
        "id": "mnfeDHaMAIo8"
      }
    },
    {
      "cell_type": "code",
      "source": [
        "n_rows, n_columns = 20,20\n",
        "som = somoclu.Somoclu(n_columns, n_rows, compactsupport=False)\n",
        "epochs = 100\n",
        "filename = 'som' + str(n_rows) + 'x' + str(n_columns) + '@' + str(epochs) + 'e.pkl'"
      ],
      "metadata": {
        "id": "9fdx8rJUAJXS"
      },
      "execution_count": null,
      "outputs": []
    },
    {
      "cell_type": "code",
      "source": [
        "#don't execute this cell unless the som is already loaded!\n",
        "#execute cell below to train from scratch the SOM!\n",
        "som = joblib.load(filename)"
      ],
      "metadata": {
        "id": "oafjZ5CrATvf"
      },
      "execution_count": null,
      "outputs": []
    },
    {
      "cell_type": "code",
      "source": [
        "%time som.train(final_set, epochs=epochs)"
      ],
      "metadata": {
        "id": "Tw3JynxyCEah"
      },
      "execution_count": null,
      "outputs": []
    },
    {
      "cell_type": "markdown",
      "source": [
        "\n",
        "## Best matching units"
      ],
      "metadata": {
        "id": "6iCAmIpwCOKx"
      }
    },
    {
      "cell_type": "code",
      "source": [
        "bmus = som.bmus\n",
        "print(bmus.shape)\n",
        "print(bmus)\n",
        "ubmus, indices = np.unique(bmus, return_inverse=True, axis=0)\n",
        "# το return_inverse επιστρέφει και τους δείκτες indices"
      ],
      "metadata": {
        "id": "ZrXCd6x-CLD7"
      },
      "execution_count": null,
      "outputs": []
    },
    {
      "cell_type": "code",
      "source": [
        "print(ubmus[100:].shape)\n",
        "print(ubmus[100:])"
      ],
      "metadata": {
        "id": "2p39jELACUMS"
      },
      "execution_count": null,
      "outputs": []
    },
    {
      "cell_type": "code",
      "source": [
        "print(len(indices))\n",
        "print(indices)"
      ],
      "metadata": {
        "id": "6MMiUagzCWCt"
      },
      "execution_count": null,
      "outputs": []
    },
    {
      "cell_type": "markdown",
      "source": [
        "Κανουμε χρηση της np.where για να δουμε την μορφη εξοδου, αλλα και για να δουμε οτι ολα δουλευουν σωστα."
      ],
      "metadata": {
        "id": "ustft581Ca3z"
      }
    },
    {
      "cell_type": "code",
      "source": [
        "print(np.where(indices==0))"
      ],
      "metadata": {
        "id": "QQLDoyDaCccY"
      },
      "execution_count": null,
      "outputs": []
    },
    {
      "cell_type": "markdown",
      "source": [
        "## Ομαδοποίηση (clustering)"
      ],
      "metadata": {
        "id": "WRjQbRLsCfcL"
      }
    },
    {
      "cell_type": "markdown",
      "source": [
        "Τυπικά, η ομαδοποίηση σε ένα χάρτη SOM προκύπτει από το unified distance matrix (U-matrix): για κάθε κόμβο υπολογίζεται η μέση απόστασή του από τους γειτονικούς κόμβους. Εάν χρησιμοποιηθεί μπλε χρώμα στις περιοχές του χάρτη όπου η τιμή αυτή είναι χαμηλή (μικρή απόσταση) και κόκκινο εκεί που η τιμή είναι υψηλή (μεγάλη απόσταση), τότε μπορούμε να πούμε ότι οι μπλε περιοχές αποτελούν clusters και οι κόκκινες αποτελούν σύνορα μεταξύ clusters.\n",
        "To somoclu δίνει την επιπρόσθετη δυνατότητα να κάνουμε ομαδοποίηση των νευρώνων χρησιμοποιώντας οποιονδήποτε αλγόριθμο ομαδοποίησης του scikit-learn. Στην άσκηση θα χρησιμοποιήσουμε τον k-Means. Για τον αρχικό σας χάρτη δοκιμάστε ένα k=20 ή 25. Οι δύο προσεγγίσεις ομαδοποίησης είναι διαφορετικές, οπότε περιμένουμε τα αποτελέσματα να είναι κοντά αλλά όχι τα ίδια."
      ],
      "metadata": {
        "id": "UpHxnN9tCofe"
      }
    },
    {
      "cell_type": "markdown",
      "source": [
        "Καναμε δοκιμες για τον αριθμο των clusters, και δουλεψαμε με 15, 20, 25 και 30. Βρηκαμε οτι οσο μεγαλωνε το K, τα clusters ηταν πιο διακριτα στις κατηγοριες που περιειχαν (πραγμα εξαιρετικα φυσιολογικο, καθως μικρα Κ τεινουν να μην σεβονται υποκατηγοριες). Ακομα, δεν παρατηρηθηκε καποια αισθητη διαφορα μεταξυ Κ=25 και Κ=30, και επιλεξαμε Κ = 25 καθως θεωρησαμε οτι τα clusters δεν πρεπει να ειναι παρα πολλα, καθως μπορει το νοημα να χαθει και να αναλυουμε λεπτομερειες. "
      ],
      "metadata": {
        "id": "NemFI5d5Ck8F"
      }
    },
    {
      "cell_type": "code",
      "source": [
        "from sklearn.cluster import KMeans\n",
        "n_cluster = 25\n",
        "algorithm = KMeans(n_clusters=n_cluster)\n",
        "som.cluster(algorithm=algorithm)"
      ],
      "metadata": {
        "id": "RHpFXiRYCpYA"
      },
      "execution_count": null,
      "outputs": []
    },
    {
      "cell_type": "markdown",
      "source": [
        "\n",
        "## Αποθήκευση του SOM\n",
        "\n",
        "Επειδή η αρχικοποίηση του SOM γίνεται τυχαία και το clustering είναι και αυτό στοχαστική διαδικασία, οι θέσεις και οι ετικέτες των νευρώνων και των clusters θα είναι διαφορετικές κάθε φορά που τρέχετε τον χάρτη, ακόμα και με τις ίδιες παραμέτρους. Για να αποθηκεύσετε ένα συγκεκριμένο som και clustering χρησιμοποιήστε και πάλι την `joblib`. Μετά την ανάκληση ενός SOM θυμηθείτε να ακολουθήσετε τη διαδικασία για τα bmus."
      ],
      "metadata": {
        "id": "Bp8mdzprCvki"
      }
    },
    {
      "cell_type": "code",
      "source": [
        "filename = 'som' + str(n_rows) + 'x' + str(n_columns) + '@' + str(epochs) + 'e.pkl'\n",
        "joblib.dump(som, filename, compress = True)"
      ],
      "metadata": {
        "id": "p41Mn02_CxdK"
      },
      "execution_count": null,
      "outputs": []
    },
    {
      "cell_type": "markdown",
      "source": [
        "\n",
        "## Οπτικοποίηση U-matrix, clustering και μέγεθος clusters"
      ],
      "metadata": {
        "id": "KqbR-g5CC1RI"
      }
    },
    {
      "cell_type": "markdown",
      "source": [
        "Χρησιμοποιουμε τις παραπανω πληροφοριες για να τυπωσουμε το heatmap και τους πινακες ετσι ωστε να εχουμε μια καλυτερη εικονα."
      ],
      "metadata": {
        "id": "FxJrsTz6C4BQ"
      }
    },
    {
      "cell_type": "code",
      "source": [
        "som.view_umatrix(bestmatches=True, colorbar=True, figsize=(15,15))\n",
        "print(som.clusters)\n",
        "_ , no_of_neurons = np.unique(som.clusters, return_counts=True)\n",
        "cluster_index = np.argsort(no_of_neurons)\n",
        "print(\"Cluster Index:\")\n",
        "print(cluster_index)\n",
        "print(\"Number of Neurons:\")\n",
        "print(no_of_neurons[cluster_index])"
      ],
      "metadata": {
        "id": "qrZhMZXdC4mW"
      },
      "execution_count": null,
      "outputs": []
    },
    {
      "cell_type": "markdown",
      "source": [
        "\n",
        "## Σημασιολογική ερμηνεία των clusters\n",
        "\n",
        "Προκειμένου να μελετήσουμε τις τοπολογικές ιδιότητες του SOM και το αν έχουν ενσωματώσει σημασιολογική πληροφορία για τις ταινίες διαμέσου της διανυσματικής αναπαράστασης με το tf-idf και των κατηγοριών, χρειαζόμαστε ένα κριτήριο ποιοτικής επισκόπησης των clusters. Θα υλοποιήσουμε το εξής κριτήριο: Λαμβάνουμε όρισμα έναν αριθμό (ετικέτα) cluster. Για το cluster αυτό βρίσκουμε όλους τους νευρώνες που του έχουν ανατεθεί από τον k-Means. Για όλους τους νευρώνες αυτούς βρίσκουμε όλες τις ταινίες που τους έχουν ανατεθεί (για τις οποίες αποτελούν bmus). Για όλες αυτές τις ταινίες τυπώνουμε ταξινομημένη τη συνολική στατιστική όλων των ειδών (κατηγοριών) και τις συχνότητές τους. Αν το cluster διαθέτει καλή συνοχή και εξειδίκευση, θα πρέπει κάποιες κατηγορίες να έχουν σαφώς μεγαλύτερη συχνότητα από τις υπόλοιπες. Θα μπορούμε τότε να αναθέσουμε αυτήν/ές την/τις κατηγορία/ες ως ετικέτες κινηματογραφικού είδους στο cluster.\n",
        "\n",
        "Μπορείτε να υλοποιήσετε τη συνάρτηση αυτή όπως θέλετε. Μια πιθανή διαδικασία θα μπορούσε να είναι η ακόλουθη:\n",
        "\n",
        "1. Ορίζουμε συνάρτηση `print_categories_stats` που δέχεται ως είσοδο λίστα με ids ταινιών. Δημιουργούμε μια κενή λίστα συνολικών κατηγοριών. Στη συνέχεια, για κάθε ταινία επεξεργαζόμαστε το string `categories` ως εξής: δημιουργούμε μια λίστα διαχωρίζοντας το string κατάλληλα με την `split` και αφαιρούμε τα whitespaces μεταξύ ετικετών με την `strip`. Προσθέτουμε τη λίστα αυτή στη συνολική λίστα κατηγοριών με την `extend`. Τέλος χρησιμοποιούμε πάλι την `np.unique` για να μετρήσουμε συχνότητα μοναδικών ετικετών κατηγοριών και ταξινομούμε με την `np.argsort`. Τυπώνουμε τις κατηγορίες και τις συχνότητες εμφάνισης ταξινομημένα. Χρήσιμες μπορεί να σας φανούν και οι `np.ravel`, `np.nditer`, `np.array2string` και `zip`.\n",
        "\n",
        "2. Ορίζουμε τη βασική μας συνάρτηση `print_cluster_neurons_movies_report` που δέχεται ως όρισμα τον αριθμό ενός cluster. Με τη χρήση της `np.where` μπορούμε να βρούμε τις συντεταγμένες των bmus που αντιστοιχούν στο cluster και με την `column_stack` να φτιάξουμε έναν πίνακα bmus για το cluster. Προσοχή στη σειρά (στήλη - σειρά) στον πίνακα bmus. Για κάθε bmu αυτού του πίνακα ελέγχουμε αν υπάρχει στον πίνακα μοναδικών bmus που έχουμε υπολογίσει στην αρχή συνολικά και αν ναι προσθέτουμε το αντίστοιχο index του νευρώνα σε μια λίστα. Χρήσιμες μπορεί να είναι και οι `np.rollaxis`, `np.append`, `np.asscalar`. Επίσης πιθανώς να πρέπει να υλοποιήσετε ένα κριτήριο ομοιότητας μεταξύ ενός bmu και ενός μοναδικού bmu από τον αρχικό πίνακα bmus.\n",
        "\n",
        "3. Υλοποιούμε μια βοηθητική συνάρτηση `neuron_movies_report`. Λαμβάνει ένα σύνολο νευρώνων από την `print_cluster_neurons_movies_report` και μέσω της `indices` φτιάχνει μια λίστα με το σύνολο ταινιών που ανήκουν σε αυτούς τους νευρώνες. Στο τέλος καλεί με αυτή τη λίστα την `print_categories_stats` που τυπώνει τις στατιστικές των κατηγοριών.\n",
        "\n",
        "Μπορείτε βέβαια να προσθέσετε οποιαδήποτε επιπλέον έξοδο σας βοηθάει. Μια χρήσιμη έξοδος είναι πόσοι νευρώνες ανήκουν στο cluster και σε πόσους και ποιους από αυτούς έχουν ανατεθεί ταινίες.\n",
        "\n",
        "Θα επιτελούμε τη σημασιολογική ερμηνεία του χάρτη καλώντας την `print_cluster_neurons_movies_report` με τον αριθμός ενός cluster που μας ενδιαφέρει. \n",
        "\n",
        "Παράδειγμα εξόδου για ένα cluster (μη βελτιστοποιημένος χάρτης, ωστόσο βλέπετε ότι οι μεγάλες κατηγορίες έχουν σημασιολογική  συνάφεια):\n",
        "\n",
        "```\n",
        "Overall Cluster Genres stats:  \n",
        "[('\"Horror\"', 86), ('\"Science Fiction\"', 24), ('\"B-movie\"', 16), ('\"Monster movie\"', 10), ('\"Creature Film\"', 10), ('\"Indie\"', 9), ('\"Zombie Film\"', 9), ('\"Slasher\"', 8), ('\"World cinema\"', 8), ('\"Sci-Fi Horror\"', 7), ('\"Natural horror films\"', 6), ('\"Supernatural\"', 6), ('\"Thriller\"', 6), ('\"Cult\"', 5), ('\"Black-and-white\"', 5), ('\"Japanese Movies\"', 4), ('\"Short Film\"', 3), ('\"Drama\"', 3), ('\"Psychological thriller\"', 3), ('\"Crime Fiction\"', 3), ('\"Monster\"', 3), ('\"Comedy\"', 2), ('\"Western\"', 2), ('\"Horror Comedy\"', 2), ('\"Archaeology\"', 2), ('\"Alien Film\"', 2), ('\"Teen\"', 2), ('\"Mystery\"', 2), ('\"Adventure\"', 2), ('\"Comedy film\"', 2), ('\"Combat Films\"', 1), ('\"Chinese Movies\"', 1), ('\"Action/Adventure\"', 1), ('\"Gothic Film\"', 1), ('\"Costume drama\"', 1), ('\"Disaster\"', 1), ('\"Docudrama\"', 1), ('\"Film adaptation\"', 1), ('\"Film noir\"', 1), ('\"Parody\"', 1), ('\"Period piece\"', 1), ('\"Action\"', 1)]```"
      ],
      "metadata": {
        "id": "sVvsg_toDBTV"
      }
    },
    {
      "cell_type": "markdown",
      "source": [
        "Αρχικα ορισαμε την πρωτη συναρτηση, η οποια παιρνει μια λιστα με ταινιες (list of ints) και τυπωνει τον αριθμο των μοναδικων κατηγοριων (κατηγοριες που εμφανιζονται στην λιστα αυτη με τις ταινιες), καθως και για την καθε κατηγορια τον αριθμο των ταινιων που εχουν σαν κατηγορια αυτην."
      ],
      "metadata": {
        "id": "yShONSvFDCK1"
      }
    },
    {
      "cell_type": "code",
      "source": [
        "#Imported counter to count unique categories\n",
        "from collections import Counter\n",
        "#Imported operator to have a rule of ordering based on the second item of a tuple\n",
        "import operator\n",
        "\n",
        "def print_categories_stats(movie_list):\n",
        "    \n",
        "    #create the empty list\n",
        "    total_categories = []\n",
        "    \n",
        "    for movie in movie_list:\n",
        "    \n",
        "        #take the categories of the string (its a list of one string, so take the first element)\n",
        "        cats = categories[movie][0]\n",
        "        #split on comma\n",
        "        cats = cats.split(',')\n",
        "    \n",
        "        for cat in cats:\n",
        "            #strip of extra spaces\n",
        "            cat = cat.strip(' ')\n",
        "            #strip of quotes\n",
        "            cat = cat.strip('\"')\n",
        "            #put it on the list\n",
        "            total_categories.append(cat)\n",
        "    \n",
        "    #use the counter module to get the unique names of the categories\n",
        "    uniq = list(Counter(total_categories).keys())\n",
        "    #as well as the indices of the categories themselves:\n",
        "    indic = list(Counter(total_categories).values())\n",
        "\n",
        "\n",
        "    #this didn't work correctly:\n",
        "    #uniq, indices = np.unique(total_categories, return_index=True)\n",
        "    \n",
        "    \n",
        "    print(\"Overall Genre Stats:\")\n",
        "    tots = []\n",
        "    for i in range(len(uniq)):\n",
        "        tots.append((uniq[i], indic[i]))\n",
        "    print(len(tots), \"Categories.\")\n",
        "\n",
        "    #sort based on the second item of the tuples in tots. \n",
        "    tots.sort(key = operator.itemgetter(1), reverse=True)\n",
        "    print(tots)\n",
        "    return 0"
      ],
      "metadata": {
        "id": "WIULAYwvDEGi"
      },
      "execution_count": null,
      "outputs": []
    },
    {
      "cell_type": "markdown",
      "source": [
        "Για να το τεσταρουμε, χρησιμοποιουμε σαν εισοδο την πληρη λιστα ταινιων (φτιαξαμε μια λιστα με 5000 αριθμους):"
      ],
      "metadata": {
        "id": "ZOM0cYQ3DMOA"
      }
    },
    {
      "cell_type": "code",
      "source": [
        "movie_list_ids = list(range(5000))\n",
        "print_categories_stats(movie_list_ids)"
      ],
      "metadata": {
        "id": "9GSCMh3ZDN05"
      },
      "execution_count": null,
      "outputs": []
    },
    {
      "cell_type": "markdown",
      "source": [
        "Στην συνεχεια ορισαμε την δευτερη συναρτηση, η οποια παιρνει εναν αριθμο που ειναι το id του cluster και επιστρεφει μια λιστα με αριθμους, που ειναι οι συντεταγμενες των νευρωνων για να βρουμε μεσω των bmus τις ταινιες που θα χρησιμοποιησουμε σαν ορισμα για την πρωτη συναρτηση."
      ],
      "metadata": {
        "id": "F5nsP0lbDPwm"
      }
    },
    {
      "cell_type": "code",
      "source": [
        "def print_cluster_neurons_movies_report(cluster_id):\n",
        "\n",
        "    #use the previously built in variable \n",
        "    how_many_neurons = no_of_neurons[cluster_id]\n",
        "\n",
        "    #use np.where to find where in the cluster map the value of the map is the same as the cluster id\n",
        "    positions = np.where(som.clusters==cluster_id)\n",
        "    #make a stack out of the tuples of the coordinates:\n",
        "    pos = np.column_stack((positions[0], positions[1]))\n",
        "    \n",
        "    #create a list of indices to be returned\n",
        "    INDICES = []\n",
        "    for position in pos:\n",
        "        if position in ubmus:\n",
        "            #make sure the unique index is calculated correctly:\n",
        "            INDICES.append(int(position[0])*n_rows + int(position[1]))\n",
        "    return INDICES"
      ],
      "metadata": {
        "id": "gKRSH_dFDSOr"
      },
      "execution_count": null,
      "outputs": []
    },
    {
      "cell_type": "markdown",
      "source": [
        "Για να ελεγξουμε την ορθη λειτουργια της συναρτησης, την καλουμε με ορισμα 7 (που αντιστοιχει σε ενα cluster που ξερουμε τον αριθμο των νευρωνων που του αντιστοιχουν απο το cluster map):"
      ],
      "metadata": {
        "id": "-KjhyDenDU8p"
      }
    },
    {
      "cell_type": "code",
      "source": [
        "print_cluster_neurons_movies_report(7)"
      ],
      "metadata": {
        "id": "jQaQGCATDWWW"
      },
      "execution_count": null,
      "outputs": []
    },
    {
      "cell_type": "markdown",
      "source": [
        "Τελος, οριζουμε και την τελευταια συναρτηση, η οποια παιρνει μια λιστα με neuron_ids (list of ints) και καλει την πρωτη συναρτηση ετσι ωστε να τυπωθουν για ολες τις ταινιες που αντιστοιχουν σε αυτους τους νευρωνες τα συνολικα στατιστικα για τις κατηγοριες."
      ],
      "metadata": {
        "id": "BlQiYCH3DYl0"
      }
    },
    {
      "cell_type": "code",
      "source": [
        "def neuron_movies_report(neuron_list):\n",
        "    #First we have to append every movie that is related to every neuron:\n",
        "    movie_list_IDs = []\n",
        "    for neuron in neuron_list:\n",
        "\n",
        "        #We use np.where to find the movies that are related to that neuron\n",
        "        list_of_movies = list(np.where(indices==neuron))\n",
        "\n",
        "        #for every movie: append its ID:\n",
        "        for i in range(len(list_of_movies[0])):\n",
        "            movie_list_IDs.append(list_of_movies[0][i])\n",
        "\n",
        "    #now call the first function with the total list to print the stats. \n",
        "    print_categories_stats(movie_list_IDs)"
      ],
      "metadata": {
        "id": "Np1LosUuDapz"
      },
      "execution_count": null,
      "outputs": []
    },
    {
      "cell_type": "markdown",
      "source": [
        "Για να ελεγξουμε την συναρτηση αυτη, αλλα και για να δουμε μια συνολικη εικονα, τυπωνουμε εξουθενωτικα για καθε cluster ID τις κατηγοριες με τις οποιες σχετιζεται"
      ],
      "metadata": {
        "id": "49a1c88IDczQ"
      }
    },
    {
      "cell_type": "code",
      "source": [
        "for i in list(cluster_index):\n",
        "    print(\"Cluster ID\" , i)\n",
        "    neuron_movies_report(print_cluster_neurons_movies_report(i))"
      ],
      "metadata": {
        "id": "Bv6kzTdPDeyi"
      },
      "execution_count": null,
      "outputs": []
    }
  ]
}